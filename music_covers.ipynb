{
 "cells": [
  {
   "cell_type": "markdown",
   "id": "cfd1cad8-4de2-4ebd-8004-a39c04f6e984",
   "metadata": {},
   "source": [
    "# Поиск каверов композиций\n",
    "<br>Разработка ML-модели для сопоставления текстов музыкальных произведений и для поиска каверов (вариации обработки оригинала с элементами новой аранжировки) по их текстам\n",
    "\n",
    "<br>**Описание проекта**\n",
    "<br>Обнаружение треков каверов - важная продуктовая задача, которая может значительно улучшить качество рекомендаций музыкального сервиса и повысить счастье наших пользователей. \n",
    "<br>Если мы умеем с высокой точностью классифицировать каверы и связывать их между собой, то можно предложить пользователю новые возможности для управления потоком треков. \n",
    "<br>Например:\n",
    "- по желанию пользователя можем полностью исключить каверы из рекомендаций;\n",
    "- показать все каверы на любимый трек пользователя;\n",
    "- контролировать долю каверов в ленте пользователя.\n",
    "\n",
    "<br>**Цель проекта** \n",
    "<br>Необходимо разработать ML-продукт, который:\n",
    "- классифицирует треки по признаку кавер-некавер;\n",
    "- связывает (группирует) каверы и исходный трек;\n",
    "- находит исходный трек в цепочке каверов.\n",
    " \n",
    "<br>**Описание данных**\n",
    "- Файл covers.json содержит разметку каверов, сделанную редакторами сервиса:\n",
    "    - track_id - уникальный идентификатор трека;\n",
    "    - track_remake_type - метка, присвоенная редакторами. Может принимать значения ORIGINAL и COVER;\n",
    "    - original_track_id - уникальный идентификатор исходного трека.\n",
    "- Метаинформация:\n",
    "    - track_id - уникальный идентификатор трека;\n",
    "    - dttm - первая дата появления информации о треке;\n",
    "    - title - название трека;\n",
    "    - language - язык исполнения;\n",
    "    - isrc - международный уникальный идентификатор трека;\n",
    "    - genres - жанры;\n",
    "    - duration - длительность трека.\n",
    "- Текст песен:\n",
    "    - track_id - уникальный идентификатор трека;\n",
    "    - lyricId - уникальный идентификатор текста;\n",
    "    - text - текст трека.\n",
    " \n",
    "<br>**Целевой метрикой выбрана** `f1`"
   ]
  },
  {
   "cell_type": "markdown",
   "id": "c24c22f6-ab59-468f-83dd-c91e4205c98e",
   "metadata": {},
   "source": [
    "## Импорт библиотек"
   ]
  },
  {
   "cell_type": "code",
   "execution_count": 41,
   "id": "ac1fca84-4981-4c45-8977-adc6b860573f",
   "metadata": {},
   "outputs": [],
   "source": [
    "import pandas as pd\n",
    "import numpy as np\n",
    "\n",
    "import matplotlib.pyplot as plt\n",
    "import seaborn as sns\n",
    "from sklearn.metrics import f1_score\n",
    "#sklearn, CatBoost, XGBoost, LightGBM, NLP"
   ]
  },
  {
   "cell_type": "markdown",
   "id": "6a40b046-133f-4358-8a9f-27f986d510a2",
   "metadata": {},
   "source": [
    "## EDA"
   ]
  },
  {
   "cell_type": "markdown",
   "id": "73a0824e-58a1-4ed8-96ad-e0830ef848c6",
   "metadata": {},
   "source": [
    "### Загрузка данных"
   ]
  },
  {
   "cell_type": "code",
   "execution_count": 3,
   "id": "e4a82880-256f-43cf-a413-1e32d500f20a",
   "metadata": {},
   "outputs": [
    {
     "name": "stdout",
     "output_type": "stream",
     "text": [
      "загружено из каталога \"data\"\n"
     ]
    },
    {
     "data": {
      "text/plain": [
       "((71597, 3), (11414, 3), (71769, 7))"
      ]
     },
     "execution_count": 3,
     "metadata": {},
     "output_type": "execute_result"
    }
   ],
   "source": [
    "try:\n",
    "    covers = pd.read_json('data/covers.json', orient='records', lines=True)\n",
    "    lyrics = pd.read_json('data/lyrics.json', orient='records', lines=True)\n",
    "    meta = pd.read_json('data/meta.json', orient='records', lines=True)\n",
    "    print('загружено из каталога \"data\"')\n",
    "except:\n",
    "    covers = pd.read_json('/content/covers.json', orient='records', lines=True)\n",
    "    lyrics = pd.read_json('/content/lyrics.json', orient='records', lines=True)\n",
    "    meta = pd.read_json('/content/meta.json', orient='records', lines=True)\n",
    "    print('загружено из каталога \"content\"')\n",
    "\n",
    "np.array(covers).shape, np.array(lyrics).shape, np.array(meta).shape"
   ]
  },
  {
   "cell_type": "markdown",
   "id": "53d5b430-adc3-4e9c-8fe0-f03d4e949e26",
   "metadata": {},
   "source": [
    "### Датафрейм `lyrics`"
   ]
  },
  {
   "cell_type": "code",
   "execution_count": 31,
   "id": "6ce3b0e4-1118-4d03-8a11-73b6f85f6fd3",
   "metadata": {},
   "outputs": [
    {
     "name": "stdout",
     "output_type": "stream",
     "text": [
      "<class 'pandas.core.frame.DataFrame'>\n",
      "RangeIndex: 11414 entries, 0 to 11413\n",
      "Data columns (total 3 columns):\n",
      " #   Column    Non-Null Count  Dtype \n",
      "---  ------    --------------  ----- \n",
      " 0   lyricId   11414 non-null  object\n",
      " 1   text      11414 non-null  object\n",
      " 2   track_id  11414 non-null  object\n",
      "dtypes: object(3)\n",
      "memory usage: 267.6+ KB\n"
     ]
    },
    {
     "data": {
      "text/html": [
       "<div>\n",
       "<style scoped>\n",
       "    .dataframe tbody tr th:only-of-type {\n",
       "        vertical-align: middle;\n",
       "    }\n",
       "\n",
       "    .dataframe tbody tr th {\n",
       "        vertical-align: top;\n",
       "    }\n",
       "\n",
       "    .dataframe thead th {\n",
       "        text-align: right;\n",
       "    }\n",
       "</style>\n",
       "<table border=\"1\" class=\"dataframe\">\n",
       "  <thead>\n",
       "    <tr style=\"text-align: right;\">\n",
       "      <th></th>\n",
       "      <th>lyricId</th>\n",
       "      <th>text</th>\n",
       "      <th>track_id</th>\n",
       "    </tr>\n",
       "  </thead>\n",
       "  <tbody>\n",
       "    <tr>\n",
       "      <th>6240</th>\n",
       "      <td>64d2cb9e6f771a261fe3e6d4d728d629</td>\n",
       "      <td>Time goes by so slowly\\nTime goes by so slowly...</td>\n",
       "      <td>417ff9fb2829051aad4f66197f3f4b76</td>\n",
       "    </tr>\n",
       "    <tr>\n",
       "      <th>7891</th>\n",
       "      <td>15a916d5cd7ee155a386fd79be2fcf7e</td>\n",
       "      <td>If you wanna run away with me\\nI know a galaxy...</td>\n",
       "      <td>09851900f74faae97d3c08586df2fb2d</td>\n",
       "    </tr>\n",
       "    <tr>\n",
       "      <th>10776</th>\n",
       "      <td>a3015b4681996bd76fe9f2436c1913dd</td>\n",
       "      <td>I Just Can't Help Thinking\\nWhat You've Done T...</td>\n",
       "      <td>f01a22270b4545443b2133db783d3a23</td>\n",
       "    </tr>\n",
       "  </tbody>\n",
       "</table>\n",
       "</div>"
      ],
      "text/plain": [
       "                                lyricId  \\\n",
       "6240   64d2cb9e6f771a261fe3e6d4d728d629   \n",
       "7891   15a916d5cd7ee155a386fd79be2fcf7e   \n",
       "10776  a3015b4681996bd76fe9f2436c1913dd   \n",
       "\n",
       "                                                    text  \\\n",
       "6240   Time goes by so slowly\\nTime goes by so slowly...   \n",
       "7891   If you wanna run away with me\\nI know a galaxy...   \n",
       "10776  I Just Can't Help Thinking\\nWhat You've Done T...   \n",
       "\n",
       "                               track_id  \n",
       "6240   417ff9fb2829051aad4f66197f3f4b76  \n",
       "7891   09851900f74faae97d3c08586df2fb2d  \n",
       "10776  f01a22270b4545443b2133db783d3a23  "
      ]
     },
     "metadata": {},
     "output_type": "display_data"
    },
    {
     "name": "stdout",
     "output_type": "stream",
     "text": [
      "явные повторы строк: 0\n"
     ]
    },
    {
     "data": {
      "text/plain": [
       "'количество уникальных записей:'"
      ]
     },
     "metadata": {},
     "output_type": "display_data"
    },
    {
     "data": {
      "text/plain": [
       "lyricId     10915\n",
       "text        10644\n",
       "track_id    10277\n",
       "dtype: int64"
      ]
     },
     "metadata": {},
     "output_type": "display_data"
    }
   ],
   "source": [
    "lyrics.info()\n",
    "display(lyrics.sample(3))\n",
    "print('явные повторы строк:', lyrics.duplicated().sum())\n",
    "display('количество уникальных записей:', lyrics.nunique())"
   ]
  },
  {
   "cell_type": "markdown",
   "id": "3f12d4cf-e7fd-409e-abe3-3d53fe023096",
   "metadata": {},
   "source": [
    "Выводы:\n",
    "- тексты представлены на различных языках (английский, русский, испанский)\n",
    "- явных повторов строк не обнаружено, при этом количество уникальных ID текстов и треков меньше,\n",
    "  <br>чем всего строк, что означает использование текстов в других треках"
   ]
  },
  {
   "cell_type": "markdown",
   "id": "88c0358e-077d-4230-920a-67f83f758fc1",
   "metadata": {},
   "source": [
    "### Датафрейм `meta`"
   ]
  },
  {
   "cell_type": "code",
   "execution_count": 40,
   "id": "057c1e5d-2cb8-42ce-b674-a0aaba3c4430",
   "metadata": {},
   "outputs": [
    {
     "name": "stdout",
     "output_type": "stream",
     "text": [
      "<class 'pandas.core.frame.DataFrame'>\n",
      "RangeIndex: 71769 entries, 0 to 71768\n",
      "Data columns (total 7 columns):\n",
      " #   Column    Non-Null Count  Dtype  \n",
      "---  ------    --------------  -----  \n",
      " 0   track_id  71768 non-null  object \n",
      " 1   dttm      71768 non-null  float64\n",
      " 2   title     71768 non-null  object \n",
      " 3   language  21969 non-null  object \n",
      " 4   isrc      71455 non-null  object \n",
      " 5   genres    71768 non-null  object \n",
      " 6   duration  71768 non-null  float64\n",
      "dtypes: float64(2), object(5)\n",
      "memory usage: 3.8+ MB\n"
     ]
    },
    {
     "data": {
      "text/html": [
       "<div>\n",
       "<style scoped>\n",
       "    .dataframe tbody tr th:only-of-type {\n",
       "        vertical-align: middle;\n",
       "    }\n",
       "\n",
       "    .dataframe tbody tr th {\n",
       "        vertical-align: top;\n",
       "    }\n",
       "\n",
       "    .dataframe thead th {\n",
       "        text-align: right;\n",
       "    }\n",
       "</style>\n",
       "<table border=\"1\" class=\"dataframe\">\n",
       "  <thead>\n",
       "    <tr style=\"text-align: right;\">\n",
       "      <th></th>\n",
       "      <th>track_id</th>\n",
       "      <th>dttm</th>\n",
       "      <th>title</th>\n",
       "      <th>language</th>\n",
       "      <th>isrc</th>\n",
       "      <th>genres</th>\n",
       "      <th>duration</th>\n",
       "    </tr>\n",
       "  </thead>\n",
       "  <tbody>\n",
       "    <tr>\n",
       "      <th>64443</th>\n",
       "      <td>ed9d3c601d04ab5aa63de2fc4fd76d99</td>\n",
       "      <td>1.616545e+12</td>\n",
       "      <td>Volta pro Seu Nego</td>\n",
       "      <td>None</td>\n",
       "      <td>QZGLS2122461</td>\n",
       "      <td>[FOLK, LATINFOLK]</td>\n",
       "      <td>140820.0</td>\n",
       "    </tr>\n",
       "  </tbody>\n",
       "</table>\n",
       "</div>"
      ],
      "text/plain": [
       "                               track_id          dttm               title  \\\n",
       "64443  ed9d3c601d04ab5aa63de2fc4fd76d99  1.616545e+12  Volta pro Seu Nego   \n",
       "\n",
       "      language          isrc             genres  duration  \n",
       "64443     None  QZGLS2122461  [FOLK, LATINFOLK]  140820.0  "
      ]
     },
     "metadata": {},
     "output_type": "display_data"
    },
    {
     "name": "stdout",
     "output_type": "stream",
     "text": [
      "явные повторы строк: 0\n"
     ]
    },
    {
     "data": {
      "text/plain": [
       "'количество уникальных записей:'"
      ]
     },
     "metadata": {},
     "output_type": "display_data"
    },
    {
     "data": {
      "text/plain": [
       "track_id    71768\n",
       "dttm        27726\n",
       "title       45462\n",
       "language       85\n",
       "isrc        71283\n",
       "duration    23597\n",
       "dtype: int64"
      ]
     },
     "metadata": {},
     "output_type": "display_data"
    },
    {
     "data": {
      "text/plain": [
       "'список представленных стран:'"
      ]
     },
     "metadata": {},
     "output_type": "display_data"
    },
    {
     "data": {
      "text/plain": [
       "array(['EN', None, 'ES', 'HI', 'DE', 'RU', 'TR', 'HU', 'TH', 'PL', 'FR',\n",
       "       'NY', 'AF', 'AS', 'UZ', 'HT', 'EL', 'AZ', 'IT', 'PA', 'PT', 'TA',\n",
       "       'JA', 'ML', 'VI', 'ID', 'LA', 'CS', 'SI', 'UK', 'OR', 'HR', 'AR',\n",
       "       'KK', 'FI', 'IE', 'ZH', 'AB', 'KN', 'FA', 'BN', 'TL', 'SK', 'KS',\n",
       "       'SV', 'RO', 'TN', 'KO', 'MS', 'BM', 'HY', 'TW', 'MY', 'CA', 'NL',\n",
       "       'ET', 'TE', 'MN', 'HE', 'SQ', 'IG', 'MR', 'BE', 'LT', 'UR', 'IA',\n",
       "       'GN', 'SW', 'NO', 'GU', 'KY', 'KU', 'IS', 'TG', 'SR', 'DA', 'LO',\n",
       "       'LV', 'SE', 'WO', 'SA', 'YO', 'ST', 'HA', 'AV', 'IU'], dtype=object)"
      ]
     },
     "metadata": {},
     "output_type": "display_data"
    }
   ],
   "source": [
    "meta.info()\n",
    "display(meta.sample()) #genres - list\n",
    "print('явные повторы строк:', meta[['track_id', 'dttm', 'title', 'language', 'isrc', 'duration']].duplicated().sum())\n",
    "display('количество уникальных записей:', meta[['track_id', 'dttm', 'title', 'language', 'isrc', 'duration']].nunique())\n",
    "display('список представленных стран:', meta['language'].unique())"
   ]
  },
  {
   "cell_type": "code",
   "execution_count": 32,
   "id": "72885f31-6c6e-4077-b6c7-3947dec16a2b",
   "metadata": {},
   "outputs": [],
   "source": [
    "# from datetime import datetime\n",
    "\n",
    "# unix_timestamp1 = 1.555760e+12 \n",
    "# unix_timestamp2 = 1.626110e+12 \n",
    "\n",
    "# # Преобразование временной метки в объект datetime\n",
    "# dt1 = datetime.fromtimestamp(unix_timestamp1 / 1000) #2019-04-20 14:33:20\n",
    "# dt2 = datetime.fromtimestamp(unix_timestamp2 / 1000) #2021-07-12 20:13:20\n",
    "\n",
    "# print(dt1 < dt2) #True\n",
    "# unix_timestamp1 < unix_timestamp2 #True"
   ]
  },
  {
   "cell_type": "markdown",
   "id": "90b01dc8-bfea-498d-9521-69febad623dc",
   "metadata": {},
   "source": [
    "Выводы:\n",
    "- явных повторов строк не обнаружено\n",
    "- количество стран в колонке `language` - 85\n",
    "- информация о странах внесена менее, чем в 30% записей\n",
    "- все `track_id` уникальны\n",
    "- даты представлены в unix формате\n",
    "- можно удалить признаки:\n",
    "  - `duration` - не несёт важной информации, т.к. продолжительность кавера может отличаться от исходника\n",
    "  - `genres` - не несёт важной информации, т.к. жанр кавера может отличаться от исходника\n",
    "  - `isrc` - не несёт важной информации, т.к. имеется признак `track_id`, а ещё в нём есть пропуски"
   ]
  },
  {
   "cell_type": "markdown",
   "id": "75f1c50f-e907-4398-be6a-d23fa7fd3d8f",
   "metadata": {},
   "source": [
    "### Датафрейм `covers`"
   ]
  },
  {
   "cell_type": "code",
   "execution_count": 38,
   "id": "e215f30d-7a23-4683-a185-dc69e4464912",
   "metadata": {},
   "outputs": [
    {
     "name": "stdout",
     "output_type": "stream",
     "text": [
      "<class 'pandas.core.frame.DataFrame'>\n",
      "RangeIndex: 71597 entries, 0 to 71596\n",
      "Data columns (total 3 columns):\n",
      " #   Column             Non-Null Count  Dtype \n",
      "---  ------             --------------  ----- \n",
      " 0   original_track_id  4821 non-null   object\n",
      " 1   track_id           71597 non-null  object\n",
      " 2   track_remake_type  71597 non-null  object\n",
      "dtypes: object(3)\n",
      "memory usage: 1.6+ MB\n"
     ]
    },
    {
     "data": {
      "text/html": [
       "<div>\n",
       "<style scoped>\n",
       "    .dataframe tbody tr th:only-of-type {\n",
       "        vertical-align: middle;\n",
       "    }\n",
       "\n",
       "    .dataframe tbody tr th {\n",
       "        vertical-align: top;\n",
       "    }\n",
       "\n",
       "    .dataframe thead th {\n",
       "        text-align: right;\n",
       "    }\n",
       "</style>\n",
       "<table border=\"1\" class=\"dataframe\">\n",
       "  <thead>\n",
       "    <tr style=\"text-align: right;\">\n",
       "      <th></th>\n",
       "      <th>original_track_id</th>\n",
       "      <th>track_id</th>\n",
       "      <th>track_remake_type</th>\n",
       "    </tr>\n",
       "  </thead>\n",
       "  <tbody>\n",
       "    <tr>\n",
       "      <th>10203</th>\n",
       "      <td>None</td>\n",
       "      <td>8c5b58a406d3854f860b5a1a6692dca0</td>\n",
       "      <td>COVER</td>\n",
       "    </tr>\n",
       "  </tbody>\n",
       "</table>\n",
       "</div>"
      ],
      "text/plain": [
       "      original_track_id                          track_id track_remake_type\n",
       "10203              None  8c5b58a406d3854f860b5a1a6692dca0             COVER"
      ]
     },
     "metadata": {},
     "output_type": "display_data"
    },
    {
     "name": "stdout",
     "output_type": "stream",
     "text": [
      "явные повторы строк: 0\n"
     ]
    },
    {
     "data": {
      "text/plain": [
       "'количество уникальных записей:'"
      ]
     },
     "metadata": {},
     "output_type": "display_data"
    },
    {
     "data": {
      "text/plain": [
       "original_track_id     4468\n",
       "track_id             71597\n",
       "track_remake_type        2\n",
       "dtype: int64"
      ]
     },
     "metadata": {},
     "output_type": "display_data"
    },
    {
     "name": "stdout",
     "output_type": "stream",
     "text": [
      "оригинальных треков указано: 6.73 % записей\n"
     ]
    }
   ],
   "source": [
    "covers.info()\n",
    "display(covers.sample())\n",
    "print('явные повторы строк:', covers.duplicated().sum())\n",
    "display('количество уникальных записей:', covers.nunique())\n",
    "print('оригинальных треков указано:', round(covers['original_track_id'].count() / covers['track_id'].count() * 100, 2), '% записей')"
   ]
  },
  {
   "cell_type": "markdown",
   "id": "a2a6e9f6-f1f6-4d85-9615-efac2545bf4c",
   "metadata": {},
   "source": [
    "Выводы:\n",
    "- явных повторов строк не обнаружено\n",
    "- количество указанных оригинальных треков - 6.73 % от общего числа треков"
   ]
  },
  {
   "cell_type": "code",
   "execution_count": null,
   "id": "09e0d1e0-b4db-4a01-b00c-e950cab8453a",
   "metadata": {},
   "outputs": [],
   "source": []
  }
 ],
 "metadata": {
  "kernelspec": {
   "display_name": "Python 3 (ipykernel)",
   "language": "python",
   "name": "python3"
  },
  "language_info": {
   "codemirror_mode": {
    "name": "ipython",
    "version": 3
   },
   "file_extension": ".py",
   "mimetype": "text/x-python",
   "name": "python",
   "nbconvert_exporter": "python",
   "pygments_lexer": "ipython3",
   "version": "3.10.12"
  }
 },
 "nbformat": 4,
 "nbformat_minor": 5
}
