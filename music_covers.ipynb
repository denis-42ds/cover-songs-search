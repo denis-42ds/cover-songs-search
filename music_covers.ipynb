{
 "cells": [
  {
   "cell_type": "markdown",
   "id": "cfd1cad8-4de2-4ebd-8004-a39c04f6e984",
   "metadata": {
    "id": "cfd1cad8-4de2-4ebd-8004-a39c04f6e984"
   },
   "source": [
    "# Поиск каверов композиций\n",
    "<br>Разработка ML-модели для сопоставления текстов музыкальных произведений и для поиска каверов (вариации обработки оригинала с элементами новой аранжировки) по их текстам\n",
    "\n",
    "<br>**Описание проекта**\n",
    "<br>Обнаружение треков каверов - важная продуктовая задача, которая может значительно улучшить качество рекомендаций музыкального сервиса и повысить счастье наших пользователей.\n",
    "<br>Если мы умеем с высокой точностью классифицировать каверы и связывать их между собой, то можно предложить пользователю новые возможности для управления потоком треков.\n",
    "<br>Например:\n",
    "- по желанию пользователя можем полностью исключить каверы из рекомендаций;\n",
    "- показать все каверы на любимый трек пользователя;\n",
    "- контролировать долю каверов в ленте пользователя.\n",
    "\n",
    "<br>**Цель проекта**\n",
    "<br>Необходимо разработать ML-продукт, который:\n",
    "- классифицирует треки по признаку кавер-некавер;\n",
    "- связывает (группирует) каверы и исходный трек;\n",
    "- находит исходный трек в цепочке каверов.\n",
    "\n",
    "<br>**Описание данных**\n",
    "- Файл covers.json содержит разметку каверов, сделанную редакторами сервиса:\n",
    "    - track_id - уникальный идентификатор трека;\n",
    "    - track_remake_type - метка, присвоенная редакторами. Может принимать значения ORIGINAL и COVER;\n",
    "    - original_track_id - уникальный идентификатор исходного трека.\n",
    "- Метаинформация:\n",
    "    - track_id - уникальный идентификатор трека;\n",
    "    - dttm - первая дата появления информации о треке;\n",
    "    - title - название трека;\n",
    "    - language - язык исполнения;\n",
    "    - isrc - международный уникальный идентификатор трека;\n",
    "    - genres - жанры;\n",
    "    - duration - длительность трека.\n",
    "- Текст песен:\n",
    "    - track_id - уникальный идентификатор трека;\n",
    "    - lyricId - уникальный идентификатор текста;\n",
    "    - text - текст трека.\n",
    "\n",
    "<br>**Целевые метрики**\n",
    "\n",
    "1. `ROC-AUC` (Receiver Operating Characteristic - Area Under the Curve) является метрикой,\n",
    "   <br>которая оценивает качество бинарной классификации, учитывая полноту (True Positive Rate) и\n",
    "   <br>специфичность (True Negative Rate) модели.\n",
    "   <br>ROC-AUC измеряет способность модели различать между классами и представляет площадь под кривой ROC.\n",
    "   <br>ROC-AUC особенно полезна, когда важно контролировать баланс между ложно-положительными и ложно-отрицательными предсказаниями.\n",
    "   <br>Она также устойчива к несбалансированным классам.\n",
    "3. `F1`-мера является метрикой, которая оценивает точность и полноту модели для бинарной классификации.\n",
    "   <br>F1-мера является гармоническим средним между точностью (precision) и полнотой (recall).\n",
    "   <br>Она особенно полезна, когда важно достичь баланса между точностью и полнотой.\n",
    "   <br>F1-мера хорошо работает, когда классы сбалансированы или когда важно минимизировать как ложно-положительные, так и ложно-отрицательные предсказания.\n",
    "\n",
    "**План выполнения**\n",
    "1. Загрузка данных и первичное знакомство с ними;\n",
    "2. Объединение датафреймов для построения baseline;\n",
    "3. Кодирование данных для baseline;\n",
    "4. Получение baseline предсказаний;\n",
    "5. Дополнение данных признаками:\n",
    "   - кластеризация;\n",
    "   - обогащение дополнительными данными из внешних источников;\n",
    "6. Кодирование дополненных данных;\n",
    "7. Формирование обучающей и тестовой выборок;\n",
    "8. Обучение моделей трёх различных структур;\n",
    "9. Получение предсказаний на кросс-валидации;\n",
    "10. Подбор гиперпараметров;\n",
    "11. Выбор лучшей модели;\n",
    "12. Проверка модели на отложенной выборке;\n",
    "13. Составление отчёта о проделанной работе."
   ]
  },
  {
   "cell_type": "markdown",
   "id": "c24c22f6-ab59-468f-83dd-c91e4205c98e",
   "metadata": {
    "id": "c24c22f6-ab59-468f-83dd-c91e4205c98e"
   },
   "source": [
    "## Настройка рабочей среды"
   ]
  },
  {
   "cell_type": "code",
   "execution_count": 1,
   "id": "3e7ec4b4-cb5d-4c1f-a6d7-81866d50e96a",
   "metadata": {
    "colab": {
     "base_uri": "https://localhost:8080/"
    },
    "id": "3e7ec4b4-cb5d-4c1f-a6d7-81866d50e96a",
    "outputId": "eae2611e-b27f-4aa7-9eb5-4c8fd75fec07"
   },
   "outputs": [],
   "source": [
    "# !pip install seaborn\n",
    "# !pip install psycopg2-binary\n",
    "# !pip install python-dotenv\n",
    "# !pip install sentence_transformers\n",
    "# !pip install catboost"
   ]
  },
  {
   "cell_type": "code",
   "execution_count": 3,
   "id": "ac1fca84-4981-4c45-8977-adc6b860573f",
   "metadata": {
    "colab": {
     "base_uri": "https://localhost:8080/"
    },
    "id": "ac1fca84-4981-4c45-8977-adc6b860573f",
    "outputId": "2362336d-1471-4b1e-8226-c7396cd8c71a"
   },
   "outputs": [],
   "source": [
    "import os\n",
    "import torch\n",
    "import random\n",
    "import numpy as np\n",
    "import pandas as pd\n",
    "import seaborn as sns\n",
    "import matplotlib.pyplot as plt\n",
    "from catboost import Pool, CatBoostClassifier\n",
    "from sklearn.preprocessing import LabelEncoder\n",
    "from sklearn.linear_model import LogisticRegression\n",
    "from sentence_transformers import SentenceTransformer\n",
    "from sklearn.metrics import roc_curve, roc_auc_score, f1_score\n",
    "from sklearn.model_selection import train_test_split, StratifiedKFold, cross_validate\n",
    "\n",
    "try:\n",
    "    import mlflow\n",
    "    import psycopg2 as psycopg\n",
    "    from dotenv import load_dotenv\n",
    "except:\n",
    "    import sys\n",
    "    from google.colab import drive\n",
    "    from google.colab import userdata\n",
    "\n",
    "# import csv\n",
    "# from sklearn.cluster import DBSCAN\n",
    "# from tqdm import notebook\n",
    "# from sklearn.model_selection import GridSearchCV"
   ]
  },
  {
   "cell_type": "markdown",
   "id": "d44fd458-64b3-4731-ac7a-594451fb4f68",
   "metadata": {
    "id": "d44fd458-64b3-4731-ac7a-594451fb4f68"
   },
   "source": [
    "Установка констант"
   ]
  },
  {
   "cell_type": "code",
   "execution_count": 4,
   "id": "69b42ac3-3fb6-46a8-84da-2e7b9e8b721b",
   "metadata": {
    "id": "69b42ac3-3fb6-46a8-84da-2e7b9e8b721b"
   },
   "outputs": [],
   "source": [
    "try:\n",
    "    load_dotenv()\n",
    "    connection = {\"sslmode\": \"require\",\n",
    "                  \"target_session_attrs\": \"read-write\"}\n",
    "    postgres_credentials = {\"host\": os.getenv(\"DB_HOST\"),\n",
    "                            \"port\": os.getenv(\"DB_PORT\"),\n",
    "                            \"dbname\": os.getenv(\"DB_NAME\"),\n",
    "                            \"user\": os.getenv(\"DB_USERNAME\"),\n",
    "                            \"password\": os.getenv(\"DB_PASSWORD\")}\n",
    "    TRACKING_SERVER_HOST = \"127.0.0.1\"\n",
    "    TRACKING_SERVER_PORT = 5000\n",
    "    EXPERIMENT_NAME = 'text_covers'\n",
    "    RUN_NAME = ['baseline_0_registry', 'logreg_0_registry', 'catboost_0_registry']\n",
    "    REGISTRY_MODEL_NAME = ['baseline', 'logistic_regression', 'catboost']\n",
    "    ASSETS_DIR = 'assets/'\n",
    "    COVERS_PATH = 'data/music_covers.json'\n",
    "    LYRICS_PATH = 'data/music_lyrics.json'\n",
    "    META_DATA_PATH = 'data/music_meta.json'\n",
    "except:\n",
    "    drive.mount('/content/drive')\n",
    "    COVERS_PATH = userdata.get('covers')\n",
    "    LYRICS_PATH = userdata.get('lyrics')\n",
    "    META_DATA_PATH = userdata.get('meta')\n",
    "\n",
    "BATCH_SIZE = 100\n",
    "RANDOM_STATE = 42\n",
    "MAX_TOKEN_LEN = 512\n",
    "\n",
    "random.seed(RANDOM_STATE)\n",
    "np.random.seed(RANDOM_STATE)\n",
    "torch.manual_seed(RANDOM_STATE)\n",
    "if torch.cuda.is_available():\n",
    "    torch.cuda.manual_seed_all(RANDOM_STATE)\n",
    "sns.set_style(\"white\")\n",
    "sns.set_theme(style=\"whitegrid\")\n",
    "pd.options.display.max_columns = 100\n",
    "pd.options.display.max_rows = 64\n",
    "device = torch.device(\"cuda\" if torch.cuda.is_available() else \"cpu\")"
   ]
  },
  {
   "cell_type": "markdown",
   "id": "ccf88e15-b700-4159-9843-ae1dc9bafd88",
   "metadata": {},
   "source": [
    "Импорт класса для проведения исследоваия"
   ]
  },
  {
   "cell_type": "code",
   "execution_count": 5,
   "id": "f80940cb-907e-4de6-8939-918b67bdd28c",
   "metadata": {},
   "outputs": [],
   "source": [
    "try:\n",
    "    from research_class import DatasetExplorer\n",
    "except:\n",
    "    from google.colab import userdata\n",
    "    from google.colab import drive\n",
    "    drive.mount('/content/drive')\n",
    "    sys.path.append(userdata.get('my_module'))\n",
    "    import research_class\n",
    "    research_class.DatasetExplorer"
   ]
  },
  {
   "cell_type": "markdown",
   "id": "73a0824e-58a1-4ed8-96ad-e0830ef848c6",
   "metadata": {
    "id": "73a0824e-58a1-4ed8-96ad-e0830ef848c6"
   },
   "source": [
    "## Загрузка данных"
   ]
  },
  {
   "cell_type": "code",
   "execution_count": 6,
   "id": "e4a82880-256f-43cf-a413-1e32d500f20a",
   "metadata": {
    "colab": {
     "base_uri": "https://localhost:8080/"
    },
    "id": "e4a82880-256f-43cf-a413-1e32d500f20a",
    "outputId": "7f553c06-3532-4a9a-89c2-a3ab37b59a4f"
   },
   "outputs": [
    {
     "data": {
      "text/plain": [
       "((71597, 3), (11414, 3), (71769, 7))"
      ]
     },
     "execution_count": 6,
     "metadata": {},
     "output_type": "execute_result"
    }
   ],
   "source": [
    "covers = pd.read_json(COVERS_PATH, orient='records', lines=True)\n",
    "lyrics = pd.read_json(LYRICS_PATH, orient='records', lines=True)\n",
    "meta = pd.read_json(META_DATA_PATH, orient='records', lines=True)\n",
    "\n",
    "np.array(covers).shape, np.array(lyrics).shape, np.array(meta).shape"
   ]
  },
  {
   "cell_type": "markdown",
   "id": "53d5b430-adc3-4e9c-8fe0-f03d4e949e26",
   "metadata": {
    "id": "53d5b430-adc3-4e9c-8fe0-f03d4e949e26"
   },
   "source": [
    "### lyrics"
   ]
  },
  {
   "cell_type": "code",
   "execution_count": 5,
   "id": "1200b022-7574-4ed2-8be1-5cb56ce34e4c",
   "metadata": {},
   "outputs": [],
   "source": [
    "explorer_lyrics = DatasetExplorer(lyrics, target=None)"
   ]
  },
  {
   "cell_type": "code",
   "execution_count": 6,
   "id": "6ce3b0e4-1118-4d03-8a11-73b6f85f6fd3",
   "metadata": {
    "colab": {
     "base_uri": "https://localhost:8080/",
     "height": 422
    },
    "id": "6ce3b0e4-1118-4d03-8a11-73b6f85f6fd3",
    "outputId": "edcbbded-e18b-4f6d-d04d-4ccaedc1dc12"
   },
   "outputs": [
    {
     "name": "stdout",
     "output_type": "stream",
     "text": [
      "<class 'pandas.core.frame.DataFrame'>\n",
      "RangeIndex: 11414 entries, 0 to 11413\n",
      "Data columns (total 3 columns):\n",
      " #   Column    Non-Null Count  Dtype \n",
      "---  ------    --------------  ----- \n",
      " 0   lyricId   11414 non-null  object\n",
      " 1   text      11414 non-null  object\n",
      " 2   track_id  11414 non-null  object\n",
      "dtypes: object(3)\n",
      "memory usage: 267.6+ KB\n"
     ]
    },
    {
     "data": {
      "text/html": [
       "<div>\n",
       "<style scoped>\n",
       "    .dataframe tbody tr th:only-of-type {\n",
       "        vertical-align: middle;\n",
       "    }\n",
       "\n",
       "    .dataframe tbody tr th {\n",
       "        vertical-align: top;\n",
       "    }\n",
       "\n",
       "    .dataframe thead th {\n",
       "        text-align: right;\n",
       "    }\n",
       "</style>\n",
       "<table border=\"1\" class=\"dataframe\">\n",
       "  <thead>\n",
       "    <tr style=\"text-align: right;\">\n",
       "      <th></th>\n",
       "      <th>lyricId</th>\n",
       "      <th>text</th>\n",
       "      <th>track_id</th>\n",
       "    </tr>\n",
       "  </thead>\n",
       "  <tbody>\n",
       "    <tr>\n",
       "      <th>5908</th>\n",
       "      <td>c417dcedbdb1278d987567fd99f2b31d</td>\n",
       "      <td>У неё на запястье cartie\\nВ её бокале bacardi\\...</td>\n",
       "      <td>c33f73686c3e6fbe81722e4bd9ceceeb</td>\n",
       "    </tr>\n",
       "    <tr>\n",
       "      <th>8949</th>\n",
       "      <td>83128615c4850f2398620440436d1371</td>\n",
       "      <td>Как тебя взять и забыть\\nНе встречать тебя вез...</td>\n",
       "      <td>0388be82e560291ab1b3a96a24b6a24d</td>\n",
       "    </tr>\n",
       "    <tr>\n",
       "      <th>5665</th>\n",
       "      <td>e143954e84e0e203a3834a2510596548</td>\n",
       "      <td>Mandó Jesús el gran Consolador\\nÉl vino con su...</td>\n",
       "      <td>49da7e09a60d43cf88873a6438de9194</td>\n",
       "    </tr>\n",
       "    <tr>\n",
       "      <th>3538</th>\n",
       "      <td>33b340743ddafd189d287e1ccc5e3e6a</td>\n",
       "      <td>Come on\\nCome on\\nCome on\\nCome on\\nDidn't I m...</td>\n",
       "      <td>544d8a7bb8401b0c7450ed9d6950a1fc</td>\n",
       "    </tr>\n",
       "    <tr>\n",
       "      <th>6248</th>\n",
       "      <td>8ab43eb4ac2d8cbad53da17bd9fc794b</td>\n",
       "      <td>She thinks she missed the train to Mars, she's...</td>\n",
       "      <td>281a1dc64294e48c2b884c3d194ff51d</td>\n",
       "    </tr>\n",
       "  </tbody>\n",
       "</table>\n",
       "</div>"
      ],
      "text/plain": [
       "                               lyricId  \\\n",
       "5908  c417dcedbdb1278d987567fd99f2b31d   \n",
       "8949  83128615c4850f2398620440436d1371   \n",
       "5665  e143954e84e0e203a3834a2510596548   \n",
       "3538  33b340743ddafd189d287e1ccc5e3e6a   \n",
       "6248  8ab43eb4ac2d8cbad53da17bd9fc794b   \n",
       "\n",
       "                                                   text  \\\n",
       "5908  У неё на запястье cartie\\nВ её бокале bacardi\\...   \n",
       "8949  Как тебя взять и забыть\\nНе встречать тебя вез...   \n",
       "5665  Mandó Jesús el gran Consolador\\nÉl vino con su...   \n",
       "3538  Come on\\nCome on\\nCome on\\nCome on\\nDidn't I m...   \n",
       "6248  She thinks she missed the train to Mars, she's...   \n",
       "\n",
       "                              track_id  \n",
       "5908  c33f73686c3e6fbe81722e4bd9ceceeb  \n",
       "8949  0388be82e560291ab1b3a96a24b6a24d  \n",
       "5665  49da7e09a60d43cf88873a6438de9194  \n",
       "3538  544d8a7bb8401b0c7450ed9d6950a1fc  \n",
       "6248  281a1dc64294e48c2b884c3d194ff51d  "
      ]
     },
     "metadata": {},
     "output_type": "display_data"
    },
    {
     "name": "stdout",
     "output_type": "stream",
     "text": [
      "количество полных дубликатов строк: 0\n",
      "количество пропущенных значений:\n",
      "lyricId     0\n",
      "text        0\n",
      "track_id    0\n",
      "dtype: int64\n",
      "Количество уникальных значений в столбце 'lyricId': 10915\n",
      "Соотношение уникальных значений и общего количества записей в столбце 'lyricId': 0.96\n",
      "\n",
      "Количество уникальных значений в столбце 'track_id': 10277\n",
      "Соотношение уникальных значений и общего количества записей в столбце 'track_id': 0.90\n",
      "\n"
     ]
    }
   ],
   "source": [
    "explorer_lyrics.explore_dataset(assets_dir=None, list_column=None)"
   ]
  },
  {
   "cell_type": "markdown",
   "id": "3f12d4cf-e7fd-409e-abe3-3d53fe023096",
   "metadata": {
    "id": "3f12d4cf-e7fd-409e-abe3-3d53fe023096"
   },
   "source": [
    "#### Выводы:\n",
    "- тексты представлены на различных языках (английский, русский, испанский и др.);\n",
    "- явных повторов строк не обнаружено, при этом количество уникальных ID текстов и треков меньше;\n",
    "  <br>чем всего строк, что означает использование текстов в других треках;\n",
    "- пропущенных значений в данных не обнаружено"
   ]
  },
  {
   "cell_type": "markdown",
   "id": "88c0358e-077d-4230-920a-67f83f758fc1",
   "metadata": {
    "id": "88c0358e-077d-4230-920a-67f83f758fc1"
   },
   "source": [
    "### meta"
   ]
  },
  {
   "cell_type": "code",
   "execution_count": 7,
   "id": "2e2e108f-c791-4a88-86a6-548923e4d43c",
   "metadata": {},
   "outputs": [],
   "source": [
    "explorer_meta = DatasetExplorer(meta, target=None)"
   ]
  },
  {
   "cell_type": "code",
   "execution_count": 8,
   "id": "057c1e5d-2cb8-42ce-b674-a0aaba3c4430",
   "metadata": {
    "colab": {
     "base_uri": "https://localhost:8080/",
     "height": 638
    },
    "id": "057c1e5d-2cb8-42ce-b674-a0aaba3c4430",
    "outputId": "0d418713-5349-477f-f9fb-b178595ab7c8"
   },
   "outputs": [
    {
     "name": "stdout",
     "output_type": "stream",
     "text": [
      "<class 'pandas.core.frame.DataFrame'>\n",
      "RangeIndex: 71769 entries, 0 to 71768\n",
      "Data columns (total 7 columns):\n",
      " #   Column    Non-Null Count  Dtype  \n",
      "---  ------    --------------  -----  \n",
      " 0   track_id  71768 non-null  object \n",
      " 1   dttm      71768 non-null  float64\n",
      " 2   title     71768 non-null  object \n",
      " 3   language  21969 non-null  object \n",
      " 4   isrc      71455 non-null  object \n",
      " 5   genres    71768 non-null  object \n",
      " 6   duration  71768 non-null  float64\n",
      "dtypes: float64(2), object(5)\n",
      "memory usage: 3.8+ MB\n"
     ]
    },
    {
     "data": {
      "text/html": [
       "<div>\n",
       "<style scoped>\n",
       "    .dataframe tbody tr th:only-of-type {\n",
       "        vertical-align: middle;\n",
       "    }\n",
       "\n",
       "    .dataframe tbody tr th {\n",
       "        vertical-align: top;\n",
       "    }\n",
       "\n",
       "    .dataframe thead th {\n",
       "        text-align: right;\n",
       "    }\n",
       "</style>\n",
       "<table border=\"1\" class=\"dataframe\">\n",
       "  <thead>\n",
       "    <tr style=\"text-align: right;\">\n",
       "      <th></th>\n",
       "      <th>track_id</th>\n",
       "      <th>dttm</th>\n",
       "      <th>title</th>\n",
       "      <th>language</th>\n",
       "      <th>isrc</th>\n",
       "      <th>genres</th>\n",
       "      <th>duration</th>\n",
       "    </tr>\n",
       "  </thead>\n",
       "  <tbody>\n",
       "    <tr>\n",
       "      <th>40169</th>\n",
       "      <td>c0840baaf23114d079939d40d9be37a8</td>\n",
       "      <td>1.672952e+12</td>\n",
       "      <td>Sweet Disposition</td>\n",
       "      <td>EN</td>\n",
       "      <td>USM952300001</td>\n",
       "      <td>[ROCK, ALLROCK]</td>\n",
       "      <td>234670.0</td>\n",
       "    </tr>\n",
       "    <tr>\n",
       "      <th>68734</th>\n",
       "      <td>7c29472522f674da8fe8fb7a5b6b31c1</td>\n",
       "      <td>1.549411e+12</td>\n",
       "      <td>Sunflower</td>\n",
       "      <td>EN</td>\n",
       "      <td>FR10S1938030</td>\n",
       "      <td>[POP]</td>\n",
       "      <td>155810.0</td>\n",
       "    </tr>\n",
       "    <tr>\n",
       "      <th>33349</th>\n",
       "      <td>22296461d41d5795ef6d4ee0141e51f0</td>\n",
       "      <td>1.644786e+12</td>\n",
       "      <td>Bajo La Luz de la Luna</td>\n",
       "      <td>ES</td>\n",
       "      <td>QZDFP1937971</td>\n",
       "      <td>[ROCK, ALLROCK]</td>\n",
       "      <td>211750.0</td>\n",
       "    </tr>\n",
       "    <tr>\n",
       "      <th>47549</th>\n",
       "      <td>e5f9f58131e23ee65c947e5fdbc81647</td>\n",
       "      <td>1.359922e+12</td>\n",
       "      <td>Demons</td>\n",
       "      <td>EN</td>\n",
       "      <td>USUM71201071</td>\n",
       "      <td>[ALTERNATIVE, ROCK, ALLROCK]</td>\n",
       "      <td>177500.0</td>\n",
       "    </tr>\n",
       "    <tr>\n",
       "      <th>24617</th>\n",
       "      <td>45bf1523b6b064ac3ccdd157c2ee2af2</td>\n",
       "      <td>1.623426e+12</td>\n",
       "      <td>Shape Of You</td>\n",
       "      <td>EN</td>\n",
       "      <td>QZGWX2211972</td>\n",
       "      <td>[POP, DANCE]</td>\n",
       "      <td>161950.0</td>\n",
       "    </tr>\n",
       "  </tbody>\n",
       "</table>\n",
       "</div>"
      ],
      "text/plain": [
       "                               track_id          dttm                   title  \\\n",
       "40169  c0840baaf23114d079939d40d9be37a8  1.672952e+12       Sweet Disposition   \n",
       "68734  7c29472522f674da8fe8fb7a5b6b31c1  1.549411e+12               Sunflower   \n",
       "33349  22296461d41d5795ef6d4ee0141e51f0  1.644786e+12  Bajo La Luz de la Luna   \n",
       "47549  e5f9f58131e23ee65c947e5fdbc81647  1.359922e+12                  Demons   \n",
       "24617  45bf1523b6b064ac3ccdd157c2ee2af2  1.623426e+12            Shape Of You   \n",
       "\n",
       "      language          isrc                        genres  duration  \n",
       "40169       EN  USM952300001               [ROCK, ALLROCK]  234670.0  \n",
       "68734       EN  FR10S1938030                         [POP]  155810.0  \n",
       "33349       ES  QZDFP1937971               [ROCK, ALLROCK]  211750.0  \n",
       "47549       EN  USUM71201071  [ALTERNATIVE, ROCK, ALLROCK]  177500.0  \n",
       "24617       EN  QZGWX2211972                  [POP, DANCE]  161950.0  "
      ]
     },
     "metadata": {},
     "output_type": "display_data"
    },
    {
     "name": "stdout",
     "output_type": "stream",
     "text": [
      "количество полных дубликатов строк: 0\n",
      "количество пропущенных значений:\n",
      "track_id        1\n",
      "dttm            1\n",
      "title           1\n",
      "language    49800\n",
      "isrc          314\n",
      "genres          0\n",
      "duration        1\n",
      "dtype: int64\n"
     ]
    },
    {
     "data": {
      "image/png": "[encoded data removed]",
      "text/plain": [
       "<Figure size 640x480 with 2 Axes>"
      ]
     },
     "metadata": {},
     "output_type": "display_data"
    },
    {
     "name": "stdout",
     "output_type": "stream",
     "text": [
      "Процент пропущенных значений в признаках:\n",
      "track_id: 0.00%\n",
      "dttm: 0.00%\n",
      "title: 0.00%\n",
      "language: 69.39%\n",
      "isrc: 0.44%\n",
      "duration: 0.00%\n",
      "Количество уникальных значений в столбце 'track_id': 71768\n",
      "Соотношение уникальных значений и общего количества записей в столбце 'track_id': 1.00\n",
      "\n"
     ]
    }
   ],
   "source": [
    "explorer_meta.explore_dataset(assets_dir=None, list_column='genres')"
   ]
  },
  {
   "cell_type": "code",
   "execution_count": 9,
   "id": "72885f31-6c6e-4077-b6c7-3947dec16a2b",
   "metadata": {
    "id": "72885f31-6c6e-4077-b6c7-3947dec16a2b"
   },
   "outputs": [
    {
     "name": "stdout",
     "output_type": "stream",
     "text": [
      "Количество уникальных записей language: 85\n"
     ]
    }
   ],
   "source": [
    "print(f\"Количество уникальных записей language: {meta['language'].nunique()}\")"
   ]
  },
  {
   "cell_type": "markdown",
   "id": "90b01dc8-bfea-498d-9521-69febad623dc",
   "metadata": {
    "id": "90b01dc8-bfea-498d-9521-69febad623dc"
   },
   "source": [
    "#### Выводы:\n",
    "- явных повторов строк не обнаружено;\n",
    "- количество стран в колонке `language` - 85;\n",
    "- информацию о страннах имеют около 30% записей;\n",
    "- все `track_id` уникальны;\n",
    "- даты представлены в unix формате;\n",
    "- можно удалить признаки:\n",
    "  - `duration` - не несёт важной информации, т.к. продолжительность кавера может отличаться от исходника\n",
    "  - `genres` - не несёт важной информации, т.к. жанр кавера может отличаться от исходника\n",
    "  - `isrc` - не несёт важной информации, т.к. имеется признак `track_id`, а ещё в нём есть пропуски"
   ]
  },
  {
   "cell_type": "markdown",
   "id": "75f1c50f-e907-4398-be6a-d23fa7fd3d8f",
   "metadata": {
    "id": "75f1c50f-e907-4398-be6a-d23fa7fd3d8f"
   },
   "source": [
    "### covers"
   ]
  },
  {
   "cell_type": "code",
   "execution_count": 10,
   "id": "b3b2bfb3-d36c-4137-8998-e791467933b1",
   "metadata": {},
   "outputs": [],
   "source": [
    "explorer_covers = DatasetExplorer(covers, target='track_remake_type')"
   ]
  },
  {
   "cell_type": "code",
   "execution_count": 11,
   "id": "466beb46-d3fd-455d-8198-a2f47705b302",
   "metadata": {},
   "outputs": [
    {
     "name": "stdout",
     "output_type": "stream",
     "text": [
      "<class 'pandas.core.frame.DataFrame'>\n",
      "RangeIndex: 71597 entries, 0 to 71596\n",
      "Data columns (total 3 columns):\n",
      " #   Column             Non-Null Count  Dtype \n",
      "---  ------             --------------  ----- \n",
      " 0   original_track_id  4821 non-null   object\n",
      " 1   track_id           71597 non-null  object\n",
      " 2   track_remake_type  71597 non-null  object\n",
      "dtypes: object(3)\n",
      "memory usage: 1.6+ MB\n"
     ]
    },
    {
     "data": {
      "text/html": [
       "<div>\n",
       "<style scoped>\n",
       "    .dataframe tbody tr th:only-of-type {\n",
       "        vertical-align: middle;\n",
       "    }\n",
       "\n",
       "    .dataframe tbody tr th {\n",
       "        vertical-align: top;\n",
       "    }\n",
       "\n",
       "    .dataframe thead th {\n",
       "        text-align: right;\n",
       "    }\n",
       "</style>\n",
       "<table border=\"1\" class=\"dataframe\">\n",
       "  <thead>\n",
       "    <tr style=\"text-align: right;\">\n",
       "      <th></th>\n",
       "      <th>original_track_id</th>\n",
       "      <th>track_id</th>\n",
       "      <th>track_remake_type</th>\n",
       "    </tr>\n",
       "  </thead>\n",
       "  <tbody>\n",
       "    <tr>\n",
       "      <th>48596</th>\n",
       "      <td>None</td>\n",
       "      <td>36bc4babedd00e207fad95f834a79e33</td>\n",
       "      <td>COVER</td>\n",
       "    </tr>\n",
       "    <tr>\n",
       "      <th>39189</th>\n",
       "      <td>None</td>\n",
       "      <td>951a24ddad24ca432766236946cb6d66</td>\n",
       "      <td>COVER</td>\n",
       "    </tr>\n",
       "    <tr>\n",
       "      <th>48106</th>\n",
       "      <td>None</td>\n",
       "      <td>a9a33d68fd3c250487e63b786741d1b4</td>\n",
       "      <td>COVER</td>\n",
       "    </tr>\n",
       "    <tr>\n",
       "      <th>62168</th>\n",
       "      <td>None</td>\n",
       "      <td>55ea4ce19deb461086c13c23c17d2b46</td>\n",
       "      <td>COVER</td>\n",
       "    </tr>\n",
       "    <tr>\n",
       "      <th>49151</th>\n",
       "      <td>None</td>\n",
       "      <td>3ac81da3dde2e751f8b8ce85c7952606</td>\n",
       "      <td>COVER</td>\n",
       "    </tr>\n",
       "  </tbody>\n",
       "</table>\n",
       "</div>"
      ],
      "text/plain": [
       "      original_track_id                          track_id track_remake_type\n",
       "48596              None  36bc4babedd00e207fad95f834a79e33             COVER\n",
       "39189              None  951a24ddad24ca432766236946cb6d66             COVER\n",
       "48106              None  a9a33d68fd3c250487e63b786741d1b4             COVER\n",
       "62168              None  55ea4ce19deb461086c13c23c17d2b46             COVER\n",
       "49151              None  3ac81da3dde2e751f8b8ce85c7952606             COVER"
      ]
     },
     "metadata": {},
     "output_type": "display_data"
    },
    {
     "name": "stdout",
     "output_type": "stream",
     "text": [
      "количество полных дубликатов строк: 0\n",
      "количество пропущенных значений:\n",
      "original_track_id    66776\n",
      "track_id                 0\n",
      "track_remake_type        0\n",
      "dtype: int64\n"
     ]
    },
    {
     "data": {
      "image/png": "[encoded data removed]",
      "text/plain": [
       "<Figure size 640x480 with 2 Axes>"
      ]
     },
     "metadata": {},
     "output_type": "display_data"
    },
    {
     "name": "stdout",
     "output_type": "stream",
     "text": [
      "Процент пропущенных значений в признаках:\n",
      "original_track_id: 93.27%\n",
      "Количество уникальных значений в столбце 'original_track_id': 4468\n",
      "Соотношение уникальных значений и общего количества записей в столбце 'original_track_id': 0.06\n",
      "\n",
      "Количество уникальных значений в столбце 'track_id': 71597\n",
      "Соотношение уникальных значений и общего количества записей в столбце 'track_id': 1.00\n",
      "\n",
      "Соотношение классов целевой переменной:\n",
      "\t\t\ttrack_remake_type\n",
      "ORIGINAL     4293\n",
      "COVER       67304\n",
      "Name: count, dtype: int64\n"
     ]
    },
    {
     "data": {
      "image/png": "[encoded data removed]",
      "text/plain": [
       "<Figure size 640x480 with 1 Axes>"
      ]
     },
     "metadata": {},
     "output_type": "display_data"
    }
   ],
   "source": [
    "explorer_covers.explore_dataset(assets_dir=None, list_column=None)"
   ]
  },
  {
   "cell_type": "code",
   "execution_count": 12,
   "id": "e215f30d-7a23-4683-a185-dc69e4464912",
   "metadata": {
    "colab": {
     "base_uri": "https://localhost:8080/",
     "height": 377
    },
    "id": "e215f30d-7a23-4683-a185-dc69e4464912",
    "outputId": "ca7ec5ac-4c23-48a4-9b4f-10e5701c9346"
   },
   "outputs": [
    {
     "name": "stdout",
     "output_type": "stream",
     "text": [
      "Оригинальных треков указано: 6.73% записей\n"
     ]
    }
   ],
   "source": [
    "print(f\"Оригинальных треков указано: {round(covers['original_track_id'].count() / covers['track_id'].count() * 100, 2)}% записей\")"
   ]
  },
  {
   "cell_type": "markdown",
   "id": "a2a6e9f6-f1f6-4d85-9615-efac2545bf4c",
   "metadata": {
    "id": "a2a6e9f6-f1f6-4d85-9615-efac2545bf4c"
   },
   "source": [
    "#### Выводы:\n",
    "- дубликатов строк не обнаружено;\n",
    "- все `track_id` уникальны;\n",
    "- классы целевой переменной крайне несбалансированы:\n",
    "  <br>количество указанных оригинальных треков - 6.73 % от общего числа треков"
   ]
  },
  {
   "cell_type": "markdown",
   "id": "45362bf8-c277-4280-a3b6-a6ff09114d25",
   "metadata": {
    "id": "45362bf8-c277-4280-a3b6-a6ff09114d25"
   },
   "source": [
    "### Формирование baseline датафрейма"
   ]
  },
  {
   "cell_type": "code",
   "execution_count": 51,
   "id": "bd515337-ed4d-4cef-bb91-dea9c778f7ed",
   "metadata": {
    "colab": {
     "base_uri": "https://localhost:8080/",
     "height": 193
    },
    "id": "bd515337-ed4d-4cef-bb91-dea9c778f7ed",
    "outputId": "e691e34e-368c-46a2-b003-0882f331dcfc"
   },
   "outputs": [],
   "source": [
    "covers_base = covers.copy()\n",
    "covers_base.dropna(subset='original_track_id', inplace=True)\n",
    "cover_lyric = (covers_base\n",
    "               .merge(lyrics, on='track_id', how='left')\n",
    "               .merge(meta, on='track_id', how='left')\n",
    "              )\n",
    "\n",
    "cover_lyric.dropna(subset=['text'], inplace=True)\n",
    "cover_lyric.reset_index(inplace=True)"
   ]
  },
  {
   "cell_type": "markdown",
   "id": "36488892-147f-44bc-b657-2dc0d09723ac",
   "metadata": {},
   "source": [
    "Формирование списков признаков"
   ]
  },
  {
   "cell_type": "code",
   "execution_count": 52,
   "id": "0cad4997-7ec5-4d10-90d7-64f65f87a2b8",
   "metadata": {},
   "outputs": [],
   "source": [
    "ids = [col for col in cover_lyric.columns if 'id' in col.lower()]\n",
    "ids.append('isrc')\n",
    "target = ['track_remake_type']\n",
    "num_features = cover_lyric.select_dtypes(include=['number']).columns\n",
    "text_features = ['text']"
   ]
  },
  {
   "cell_type": "code",
   "execution_count": 9,
   "id": "qRdIkYZPpEHm",
   "metadata": {
    "colab": {
     "base_uri": "https://localhost:8080/",
     "height": 430
    },
    "id": "qRdIkYZPpEHm",
    "outputId": "a064c3f6-c1f6-4a9a-d80a-39965aa95a3e"
   },
   "outputs": [
    {
     "data": {
      "image/png": "[encoded data removed]",
      "text/plain": [
       "<Figure size 640x480 with 1 Axes>"
      ]
     },
     "metadata": {},
     "output_type": "display_data"
    }
   ],
   "source": [
    "labels = cover_lyric['track_remake_type'].value_counts().index\n",
    "sizes = [cover_lyric['track_remake_type'].value_counts().iloc[0],\n",
    "         cover_lyric['track_remake_type'].value_counts().iloc[1]]\n",
    "fig1, ax1 = plt.subplots()\n",
    "ax1.pie(sizes, labels=labels, autopct='%1.1f%%')\n",
    "plt.title('Соотношение между целевыми значениями', size=15)\n",
    "plt.show()"
   ]
  },
  {
   "cell_type": "markdown",
   "id": "96vmMb1XYVMW",
   "metadata": {
    "id": "96vmMb1XYVMW"
   },
   "source": [
    "#### Вывод:\n",
    "- данные объединены;\n",
    "- удалены пропущенные тексты;\n",
    "- сформированы списки признаков;\n",
    "- проверен баланс классов в сформированном датафрейме."
   ]
  },
  {
   "cell_type": "markdown",
   "id": "e334881b-ff28-44aa-8993-6088a3d70c8c",
   "metadata": {
    "id": "e334881b-ff28-44aa-8993-6088a3d70c8c"
   },
   "source": [
    "## Подготовка данных для обучения"
   ]
  },
  {
   "cell_type": "markdown",
   "id": "51d85c37-cfda-473a-bd24-7ee850badd17",
   "metadata": {},
   "source": [
    "### baseline_data"
   ]
  },
  {
   "cell_type": "code",
   "execution_count": 53,
   "id": "0232487d-d18b-4c6c-a838-5d4c99bb83b9",
   "metadata": {
    "colab": {
     "base_uri": "https://localhost:8080/",
     "height": 482,
     "referenced_widgets": [
      "deda229f1623400593f2333445f5698a",
      "a66c0f0b05fb45529afcbc3ae7bba41d",
      "b7e2a2d483e946a5bdc1dc454aa3ba17",
      "2f83113668104523be4e5ec0c137d7ca",
      "bc479b102fb34b4790a0762bc1bc0156",
      "9ba9e824fb684c3997a525ed2d517222",
      "4340dd88d1524015bd490bc16cf35bb2",
      "3b7fba78c56c48688eb8ae9897520f1d",
      "f2d03949619e45a59fa7e467014470bf",
      "e2277aac1f8344b8a746d50578f58655",
      "ed54b851e65b4604abf3974912a178f4",
      "10a9d8e3f6294ec9a3a3fb9d35317e87",
      "2265e723f8fa444a8a572ba5d864b5e8",
      "08e5509b86284e90b0e3aaa3df2a327f",
      "79b44fb0bb544b10b2da0dfd62b6135b",
      "2d62947fa1694782955b6acb95b73c02",
      "8232c0beb73641b395e26e1f29e58e31",
      "4e84c85fbf844e98bb79ada8ac00da8b",
      "dbc2a7cbc7c44fd48635f2c76d250b40",
      "359b1f71ed3348ee8f63812300ea5514",
      "ee554fea5aab446084644c0a881eda60",
      "99b1ef01fcbd4a5683b4a4b0d672b7d4",
      "2ccf0192fb544cefbf12f2aa434132a1",
      "7de397fd2beb4a0baf1f261085d72a05",
      "8e07c2f993234f00b82f127b534f9aa0",
      "ef4611a52318459997ddf146b47460df",
      "8ca8f03576904e039f26bd76d0170704",
      "c29a1c2b7bc44276af419c5b7868753c",
      "ca5f4bcd6bb643fda653cd234b912fb3",
      "77684e472b9648859ac91e73994b1827",
      "d343102281554184af95f5a9998b04f5",
      "92314e08530541dda20f44f97a68cf86",
      "98334a3fb46b4197b9d915191f1a3d90",
      "0e4a4f75acf6447fb8a676eb37ca0870",
      "8b95329afac644ce8b1280de59c8fbfc",
      "eaeb5f3b830c4d45af8ef914f19d02f0",
      "ae767f2ec1304fbc994f619fcddce3b8",
      "ae9c1b9c476c4e9a84b9c7ce7bcf8b3b",
      "eff493e5f1ee4bb68b5421e275e60880",
      "f6470293e1034117898272903bb96973",
      "91d26b3daca34be1b04e11ebd406a9c6",
      "8d91c662cc3142219dd68c361cae3af7",
      "7e317b15805541ce89ea4242b1003511",
      "76460fa5ffc04722ac51884cbc5eea2d",
      "edf1128330f741dd85fbf1d90e141080",
      "46a1c71ddd3b4d4ebc922aa505a0c76c",
      "86bf1cc4ddfa461fa771945b703ce70c",
      "0bf4029ae67849ddab34eb676e683493",
      "0a3790018df047a59696bc0890935ea9",
      "3d93c97804f54ac394884fef06a48e8c",
      "374e326a4d204266b424de935b7ad697",
      "ed431f42232640b2baba114cc7d69dcc",
      "fd9ddf3e7224449d94fdf52b8e816e0a",
      "901c4cd2966841838413a20f05393ead",
      "b3d343b7221543a3bba77150e4ab257b",
      "82263b2ae88e4659818acb2967ad1a6a",
      "4324ff44c8d04150a5a8c2677ad1c516",
      "c3988d59cab1449eac01ee751e844f5f",
      "cc3b5417dc5e41efa9252cc9db2e0de1",
      "1a7a6030aa9242d6b433fde34bec1b99",
      "8c3910885ee2446eb06efc817b81c086",
      "62ab673ffab54c2f9cf6b034f8038ec8",
      "27b0cc982f384bb88cd43c245ef7137c",
      "3d56ef8e9bac4a6cbd36555f0a1a49e2",
      "1854cd3ae3fd4e8f9b1a3b23ccbf64cf",
      "bd12cf1e23214f9eafa500eaa981cca7",
      "42dcd8b9dc404eabb2392fef12ac1aa5",
      "9ff275732c0f43f38b62deceb78cffdd",
      "ecb12230307e44d39a2e692e8a223e24",
      "3d7def31c56943d9beb93cc93245a9d0",
      "217126a9fe0c48c2aa0f157cfbfe1987",
      "ecc9e1096c474f0682e844aa1d98c805",
      "8f3e9795aa4c4667aca7abd70ed54af5",
      "5a32dfb1f636493aa8ab0d474866d4e5",
      "0449ca52f3854f908f4a1ba2f5d1d802",
      "a26ff67a75d24a5d996e4104937fd7e6",
      "f59a8a05790d49678a960d414f0945bb",
      "927f518c1b484ddbb6c96968ea266e2d",
      "943a3806e0184cf5b731e0cfe867a8f8",
      "88971c9e5e974ffabcbff53abde35913",
      "72d408e0373b477cb152c559d32ddd41",
      "7f78d4c6ad9946578f516e67f8f8bf46",
      "f4413422c9ca41b78be49223cde15a1b",
      "19d8f29806b6484797eeceba60e74ba9",
      "81f59561b9eb4f1392070af2d329c830",
      "b03dfa20ddd94449b3cecd8a2a016b05",
      "c627a685aa2a41a592ffa1c7537888ca",
      "28a59416dd8a4cf99b17a59c9863a33a",
      "b7d07f4ad15e4030a0a6da334bcc3ae6",
      "4cff44f03d3a414d8adb3a4304b3fd83",
      "338fcc838b194eeea30a91b46c27569f",
      "9cdab39c9bed446799e8b3387030156a",
      "c9c35bb71648442cb99c5d5b6cd8dccb",
      "0ce91961f92943b9b00d7da96ee5aa8a",
      "188eaca46e124556a080511f21bb8233",
      "92b9866bc5b344fb990c3aabb590702b",
      "ccce54687e654611ac087eedde2e21f2",
      "e8bf759403ba42ce893011fd67a1e115",
      "c8496a7965034bd2956541a99ea56515",
      "13ee4e64ae394d84a7485256de4f609b",
      "3774dd8b74034a29b59fca1194ebbd72",
      "a7d6de66bb984a12923be4e1d8b4af21",
      "74e66723ae194c159cae8ea54b270755",
      "a5c1633f66e84d838ee573c595e5f282",
      "343e5a9697d54fd986b92bcf6973ffc2",
      "422c773ac1944496acda628bfd76415f",
      "f0315237d43545959d350d879f0e8c50",
      "5e4d5b9175b7469d8492cd0c13e6a1a4",
      "24a612fe443b4eb08dc96aed2352d202",
      "f3dded4083ce4e3b88485aacd87614bf",
      "e2411dbcfbcc4bfeb40fbb076327b5b2",
      "5ed84d41aec345f38080312567893755",
      "f95f1d597dad4e38b3c2142b25737e20",
      "515025b07bce44c3bf702b19badb503b",
      "3ec6e42fc34b406e9b98d3f286c08fba",
      "e22bb761c9664f28916e48412c3e9fb1",
      "68eb489e88034cf28b279f7a93309f1f",
      "4235b6ed80ee4ea2a0eeeac9edfca245",
      "8f446c2ff6b84ced828ebd82a42d5e10",
      "0eb87482e4054e9bb7adc5d654b5e34c",
      "cd805013bf82403699287406fd9e62d6",
      "b7992b1910b544dcb8a248de4a5e3970",
      "7ebf591f436943aa8bc76dc61258a515",
      "058d0ad44dc1493fb6ee1199350994d7",
      "66948fa0b4224b4bae6a4fd8e40fa59a",
      "e2ce451faaeb4ded978d4b04775cd389",
      "5152d3f6bc9c462898cea45d0e15ef6b",
      "97dc5f4c98d744f2861797a9b5257468",
      "436c79b7f9574bc6a944ec4156ee0670",
      "fe6f69734ac74910963fec8c027f7afc",
      "aac3eeaa35164b89b9ce7fa6b995c804",
      "1e586dcd46ee455facf98280d55597f6",
      "eaede3435e37421d834f57aa8758bc61",
      "5c90da6b1a794ab19089723087fb85ba",
      "a341c710eb144e42bb780d7dd5bd4105",
      "376748f72290485b8f789cd3fb4f4af5",
      "18d37c317ec54e1ba7cb99378ef6a475",
      "90e0dcaf2d4b4a419f5045d3d8c1d9f1",
      "bb636c0c266e42609d6834a633f5c630",
      "f156faa388854592ae18a5459e683966",
      "69df4140e3c740c48902155163761b24",
      "b8f13f463dce41db819e2fabd2e0697d",
      "f185e754958f49d4bd1cab1f51bd4e5b",
      "e50b9570be8e417eae094f49d045e323",
      "ee36299691e34ce99df13ce3c94787d2",
      "df6e97350a064465960c2ee1e41bc960",
      "433b7ed0e675462e88a51e9da42b9978",
      "201fcfb960fd41e8aff99835f4c01b60",
      "1df46dce2a704347a523c6f9e86de8ec",
      "b22c283a360f409fbd00f3ddf5b76303",
      "c861a4770b714e0a925e0306dcaf1688",
      "40d2d096a4944efaa023c2216af0bbfc",
      "510aae57c4694c708c9a712269143ad6",
      "5c425af0fb1b4cee9b66cd24961f61ed"
     ]
    },
    "id": "0232487d-d18b-4c6c-a838-5d4c99bb83b9",
    "outputId": "96b46ec3-4101-4118-c37b-85f2138ff4e9"
   },
   "outputs": [
    {
     "data": {
      "text/plain": [
       "((3599, 768), (3599, 768))"
      ]
     },
     "execution_count": 53,
     "metadata": {},
     "output_type": "execute_result"
    }
   ],
   "source": [
    "text_sentences = np.array(cover_lyric['text'])\n",
    "title_sentences = np.array(cover_lyric['title'])\n",
    "\n",
    "try:\n",
    "    title_embeddings = pd.read_csv('data/title_embeddings.csv')\n",
    "    text_embeddings = pd.read_csv('data/text_embeddings.csv')\n",
    "except:\n",
    "    model = SentenceTransformer('sentence-transformers/LaBSE')  # архитектура LaBSE (Language-agnostic BERT Sentence Embedding)\n",
    "    title_embeddings = model.encode(title_sentences)\n",
    "    title_embeddings_df = pd.DataFrame(title_embeddings)\n",
    "    title_embeddings_df.to_csv('data/title_embeddings.csv', index=False)\n",
    "    print(\"Файл title_embeddings.csv успешно сохранен.\")\n",
    "    text_embeddings = model.encode(text_sentences)\n",
    "    text_embeddings_df = pd.DataFrame(text_embeddings)\n",
    "    text_embeddings_df.to_csv('data/text_embeddings.csv', index=False)\n",
    "    print(\"Файл text_embeddings.csv успешно сохранен.\")\n",
    "text_embeddings.shape, title_embeddings.shape"
   ]
  },
  {
   "cell_type": "markdown",
   "id": "e7dd4e88-5be6-4dd5-91b1-49a38b7eb455",
   "metadata": {},
   "source": [
    "Кодирование целевой переменной"
   ]
  },
  {
   "cell_type": "code",
   "execution_count": 54,
   "id": "af84bd19-5cae-47c4-b921-9e298337f961",
   "metadata": {},
   "outputs": [],
   "source": [
    "label_encoder = LabelEncoder()\n",
    "cover_lyric['is_cover'] = label_encoder.fit_transform(np.array(cover_lyric['track_remake_type']).ravel())\n",
    "cover_lyric['is_cover'] = cover_lyric['is_cover'].map({0: 1, 1: 0})\n",
    "target = 'is_cover'"
   ]
  },
  {
   "cell_type": "markdown",
   "id": "842b2dba-0696-4a17-83b7-cd2f5fe9f3ce",
   "metadata": {},
   "source": [
    "Разделение на обучающую и тестовую выборки"
   ]
  },
  {
   "cell_type": "code",
   "execution_count": 56,
   "id": "d3917a04-e0ec-4ce4-9de9-0c013551a287",
   "metadata": {},
   "outputs": [
    {
     "data": {
      "text/plain": [
       "((3239, 771), (360, 771), (3239,), (360,))"
      ]
     },
     "execution_count": 56,
     "metadata": {},
     "output_type": "execute_result"
    }
   ],
   "source": [
    "X_train, X_test, y_train, y_test = train_test_split(text_embeddings.merge(cover_lyric[num_features], left_index=True, right_index=True),\n",
    "                                                    cover_lyric[target],\n",
    "                                                    test_size=0.1,\n",
    "                                                    random_state=RANDOM_STATE,\n",
    "                                                    stratify=cover_lyric[target])\n",
    "X_train.shape, X_test.shape, y_train.shape, y_test.shape"
   ]
  },
  {
   "cell_type": "code",
   "execution_count": 13,
   "id": "06a71d50-1efc-438a-8437-aa00e52b7007",
   "metadata": {},
   "outputs": [
    {
     "data": {
      "text/plain": [
       "((3239, 3), (360, 3), (3239,), (360,))"
      ]
     },
     "execution_count": 13,
     "metadata": {},
     "output_type": "execute_result"
    }
   ],
   "source": [
    "X_train_cb, X_test_cb, y_train_cb, y_test_cb = train_test_split(cover_lyric[['dttm', 'duration', 'text']],\n",
    "                                                                cover_lyric[target],\n",
    "                                                                test_size=0.1,\n",
    "                                                                random_state=RANDOM_STATE,\n",
    "                                                                stratify=cover_lyric[target])\n",
    "X_train_cb.shape, X_test_cb.shape, y_train_cb.shape, y_test_cb.shape"
   ]
  },
  {
   "cell_type": "markdown",
   "id": "gVoITuiNYp9q",
   "metadata": {
    "id": "gVoITuiNYp9q"
   },
   "source": [
    "#### Вывод:\n",
    "- получены эмбеддинги текстов и наименований при помощи библиотеки `sentence_transformer` на архитектуре LaBSE;\n",
    "- выбор данной архитектуры обусловлен её способностью распознавать и сравнивать тексты на более, чем 100 языках;\n",
    "- наименования могут быть потенциальным источником утечки данных, поэтому их использование пока не предполагается;\n",
    "- значения целевой переменной закодированы в числа;\n",
    "- данные разделены на обучающую и тестовую выборки."
   ]
  },
  {
   "cell_type": "markdown",
   "id": "IlN-pl3AhwmA",
   "metadata": {
    "id": "IlN-pl3AhwmA"
   },
   "source": [
    "## Обучение моделей"
   ]
  },
  {
   "cell_type": "markdown",
   "id": "M-MlIWFZTvzC",
   "metadata": {
    "id": "M-MlIWFZTvzC"
   },
   "source": [
    "### Baseline"
   ]
  },
  {
   "cell_type": "code",
   "execution_count": 77,
   "id": "xGPb9lL2yeil",
   "metadata": {
    "colab": {
     "base_uri": "https://localhost:8080/"
    },
    "id": "xGPb9lL2yeil",
    "outputId": "06fa0ebc-0ef4-47fe-ffc1-d45cca898f99"
   },
   "outputs": [
    {
     "name": "stdout",
     "output_type": "stream",
     "text": [
      "результаты кросс-вадидации: {'fit_time': 0.159, 'score_time': 0.023, 'test_roc_auc': 0.883, 'test_f1': 0.46}\n"
     ]
    },
    {
     "data": {
      "image/png": "[encoded data removed]",
      "text/plain": [
       "<Figure size 640x480 with 1 Axes>"
      ]
     },
     "metadata": {},
     "output_type": "display_data"
    },
    {
     "data": {
      "text/html": [
       "<style>#sk-container-id-1 {\n",
       "  /* Definition of color scheme common for light and dark mode */\n",
       "  --sklearn-color-text: black;\n",
       "  --sklearn-color-line: gray;\n",
       "  /* Definition of color scheme for unfitted estimators */\n",
       "  --sklearn-color-unfitted-level-0: #fff5e6;\n",
       "  --sklearn-color-unfitted-level-1: #f6e4d2;\n",
       "  --sklearn-color-unfitted-level-2: #ffe0b3;\n",
       "  --sklearn-color-unfitted-level-3: chocolate;\n",
       "  /* Definition of color scheme for fitted estimators */\n",
       "  --sklearn-color-fitted-level-0: #f0f8ff;\n",
       "  --sklearn-color-fitted-level-1: #d4ebff;\n",
       "  --sklearn-color-fitted-level-2: #b3dbfd;\n",
       "  --sklearn-color-fitted-level-3: cornflowerblue;\n",
       "\n",
       "  /* Specific color for light theme */\n",
       "  --sklearn-color-text-on-default-background: var(--sg-text-color, var(--theme-code-foreground, var(--jp-content-font-color1, black)));\n",
       "  --sklearn-color-background: var(--sg-background-color, var(--theme-background, var(--jp-layout-color0, white)));\n",
       "  --sklearn-color-border-box: var(--sg-text-color, var(--theme-code-foreground, var(--jp-content-font-color1, black)));\n",
       "  --sklearn-color-icon: #696969;\n",
       "\n",
       "  @media (prefers-color-scheme: dark) {\n",
       "    /* Redefinition of color scheme for dark theme */\n",
       "    --sklearn-color-text-on-default-background: var(--sg-text-color, var(--theme-code-foreground, var(--jp-content-font-color1, white)));\n",
       "    --sklearn-color-background: var(--sg-background-color, var(--theme-background, var(--jp-layout-color0, #111)));\n",
       "    --sklearn-color-border-box: var(--sg-text-color, var(--theme-code-foreground, var(--jp-content-font-color1, white)));\n",
       "    --sklearn-color-icon: #878787;\n",
       "  }\n",
       "}\n",
       "\n",
       "#sk-container-id-1 {\n",
       "  color: var(--sklearn-color-text);\n",
       "}\n",
       "\n",
       "#sk-container-id-1 pre {\n",
       "  padding: 0;\n",
       "}\n",
       "\n",
       "#sk-container-id-1 input.sk-hidden--visually {\n",
       "  border: 0;\n",
       "  clip: rect(1px 1px 1px 1px);\n",
       "  clip: rect(1px, 1px, 1px, 1px);\n",
       "  height: 1px;\n",
       "  margin: -1px;\n",
       "  overflow: hidden;\n",
       "  padding: 0;\n",
       "  position: absolute;\n",
       "  width: 1px;\n",
       "}\n",
       "\n",
       "#sk-container-id-1 div.sk-dashed-wrapped {\n",
       "  border: 1px dashed var(--sklearn-color-line);\n",
       "  margin: 0 0.4em 0.5em 0.4em;\n",
       "  box-sizing: border-box;\n",
       "  padding-bottom: 0.4em;\n",
       "  background-color: var(--sklearn-color-background);\n",
       "}\n",
       "\n",
       "#sk-container-id-1 div.sk-container {\n",
       "  /* jupyter's `normalize.less` sets `[hidden] { display: none; }`\n",
       "     but bootstrap.min.css set `[hidden] { display: none !important; }`\n",
       "     so we also need the `!important` here to be able to override the\n",
       "     default hidden behavior on the sphinx rendered scikit-learn.org.\n",
       "     See: https://github.com/scikit-learn/scikit-learn/issues/21755 */\n",
       "  display: inline-block !important;\n",
       "  position: relative;\n",
       "}\n",
       "\n",
       "#sk-container-id-1 div.sk-text-repr-fallback {\n",
       "  display: none;\n",
       "}\n",
       "\n",
       "div.sk-parallel-item,\n",
       "div.sk-serial,\n",
       "div.sk-item {\n",
       "  /* draw centered vertical line to link estimators */\n",
       "  background-image: linear-gradient(var(--sklearn-color-text-on-default-background), var(--sklearn-color-text-on-default-background));\n",
       "  background-size: 2px 100%;\n",
       "  background-repeat: no-repeat;\n",
       "  background-position: center center;\n",
       "}\n",
       "\n",
       "/* Parallel-specific style estimator block */\n",
       "\n",
       "#sk-container-id-1 div.sk-parallel-item::after {\n",
       "  content: \"\";\n",
       "  width: 100%;\n",
       "  border-bottom: 2px solid var(--sklearn-color-text-on-default-background);\n",
       "  flex-grow: 1;\n",
       "}\n",
       "\n",
       "#sk-container-id-1 div.sk-parallel {\n",
       "  display: flex;\n",
       "  align-items: stretch;\n",
       "  justify-content: center;\n",
       "  background-color: var(--sklearn-color-background);\n",
       "  position: relative;\n",
       "}\n",
       "\n",
       "#sk-container-id-1 div.sk-parallel-item {\n",
       "  display: flex;\n",
       "  flex-direction: column;\n",
       "}\n",
       "\n",
       "#sk-container-id-1 div.sk-parallel-item:first-child::after {\n",
       "  align-self: flex-end;\n",
       "  width: 50%;\n",
       "}\n",
       "\n",
       "#sk-container-id-1 div.sk-parallel-item:last-child::after {\n",
       "  align-self: flex-start;\n",
       "  width: 50%;\n",
       "}\n",
       "\n",
       "#sk-container-id-1 div.sk-parallel-item:only-child::after {\n",
       "  width: 0;\n",
       "}\n",
       "\n",
       "/* Serial-specific style estimator block */\n",
       "\n",
       "#sk-container-id-1 div.sk-serial {\n",
       "  display: flex;\n",
       "  flex-direction: column;\n",
       "  align-items: center;\n",
       "  background-color: var(--sklearn-color-background);\n",
       "  padding-right: 1em;\n",
       "  padding-left: 1em;\n",
       "}\n",
       "\n",
       "\n",
       "/* Toggleable style: style used for estimator/Pipeline/ColumnTransformer box that is\n",
       "clickable and can be expanded/collapsed.\n",
       "- Pipeline and ColumnTransformer use this feature and define the default style\n",
       "- Estimators will overwrite some part of the style using the `sk-estimator` class\n",
       "*/\n",
       "\n",
       "/* Pipeline and ColumnTransformer style (default) */\n",
       "\n",
       "#sk-container-id-1 div.sk-toggleable {\n",
       "  /* Default theme specific background. It is overwritten whether we have a\n",
       "  specific estimator or a Pipeline/ColumnTransformer */\n",
       "  background-color: var(--sklearn-color-background);\n",
       "}\n",
       "\n",
       "/* Toggleable label */\n",
       "#sk-container-id-1 label.sk-toggleable__label {\n",
       "  cursor: pointer;\n",
       "  display: block;\n",
       "  width: 100%;\n",
       "  margin-bottom: 0;\n",
       "  padding: 0.5em;\n",
       "  box-sizing: border-box;\n",
       "  text-align: center;\n",
       "}\n",
       "\n",
       "#sk-container-id-1 label.sk-toggleable__label-arrow:before {\n",
       "  /* Arrow on the left of the label */\n",
       "  content: \"▸\";\n",
       "  float: left;\n",
       "  margin-right: 0.25em;\n",
       "  color: var(--sklearn-color-icon);\n",
       "}\n",
       "\n",
       "#sk-container-id-1 label.sk-toggleable__label-arrow:hover:before {\n",
       "  color: var(--sklearn-color-text);\n",
       "}\n",
       "\n",
       "/* Toggleable content - dropdown */\n",
       "\n",
       "#sk-container-id-1 div.sk-toggleable__content {\n",
       "  max-height: 0;\n",
       "  max-width: 0;\n",
       "  overflow: hidden;\n",
       "  text-align: left;\n",
       "  /* unfitted */\n",
       "  background-color: var(--sklearn-color-unfitted-level-0);\n",
       "}\n",
       "\n",
       "#sk-container-id-1 div.sk-toggleable__content.fitted {\n",
       "  /* fitted */\n",
       "  background-color: var(--sklearn-color-fitted-level-0);\n",
       "}\n",
       "\n",
       "#sk-container-id-1 div.sk-toggleable__content pre {\n",
       "  margin: 0.2em;\n",
       "  border-radius: 0.25em;\n",
       "  color: var(--sklearn-color-text);\n",
       "  /* unfitted */\n",
       "  background-color: var(--sklearn-color-unfitted-level-0);\n",
       "}\n",
       "\n",
       "#sk-container-id-1 div.sk-toggleable__content.fitted pre {\n",
       "  /* unfitted */\n",
       "  background-color: var(--sklearn-color-fitted-level-0);\n",
       "}\n",
       "\n",
       "#sk-container-id-1 input.sk-toggleable__control:checked~div.sk-toggleable__content {\n",
       "  /* Expand drop-down */\n",
       "  max-height: 200px;\n",
       "  max-width: 100%;\n",
       "  overflow: auto;\n",
       "}\n",
       "\n",
       "#sk-container-id-1 input.sk-toggleable__control:checked~label.sk-toggleable__label-arrow:before {\n",
       "  content: \"▾\";\n",
       "}\n",
       "\n",
       "/* Pipeline/ColumnTransformer-specific style */\n",
       "\n",
       "#sk-container-id-1 div.sk-label input.sk-toggleable__control:checked~label.sk-toggleable__label {\n",
       "  color: var(--sklearn-color-text);\n",
       "  background-color: var(--sklearn-color-unfitted-level-2);\n",
       "}\n",
       "\n",
       "#sk-container-id-1 div.sk-label.fitted input.sk-toggleable__control:checked~label.sk-toggleable__label {\n",
       "  background-color: var(--sklearn-color-fitted-level-2);\n",
       "}\n",
       "\n",
       "/* Estimator-specific style */\n",
       "\n",
       "/* Colorize estimator box */\n",
       "#sk-container-id-1 div.sk-estimator input.sk-toggleable__control:checked~label.sk-toggleable__label {\n",
       "  /* unfitted */\n",
       "  background-color: var(--sklearn-color-unfitted-level-2);\n",
       "}\n",
       "\n",
       "#sk-container-id-1 div.sk-estimator.fitted input.sk-toggleable__control:checked~label.sk-toggleable__label {\n",
       "  /* fitted */\n",
       "  background-color: var(--sklearn-color-fitted-level-2);\n",
       "}\n",
       "\n",
       "#sk-container-id-1 div.sk-label label.sk-toggleable__label,\n",
       "#sk-container-id-1 div.sk-label label {\n",
       "  /* The background is the default theme color */\n",
       "  color: var(--sklearn-color-text-on-default-background);\n",
       "}\n",
       "\n",
       "/* On hover, darken the color of the background */\n",
       "#sk-container-id-1 div.sk-label:hover label.sk-toggleable__label {\n",
       "  color: var(--sklearn-color-text);\n",
       "  background-color: var(--sklearn-color-unfitted-level-2);\n",
       "}\n",
       "\n",
       "/* Label box, darken color on hover, fitted */\n",
       "#sk-container-id-1 div.sk-label.fitted:hover label.sk-toggleable__label.fitted {\n",
       "  color: var(--sklearn-color-text);\n",
       "  background-color: var(--sklearn-color-fitted-level-2);\n",
       "}\n",
       "\n",
       "/* Estimator label */\n",
       "\n",
       "#sk-container-id-1 div.sk-label label {\n",
       "  font-family: monospace;\n",
       "  font-weight: bold;\n",
       "  display: inline-block;\n",
       "  line-height: 1.2em;\n",
       "}\n",
       "\n",
       "#sk-container-id-1 div.sk-label-container {\n",
       "  text-align: center;\n",
       "}\n",
       "\n",
       "/* Estimator-specific */\n",
       "#sk-container-id-1 div.sk-estimator {\n",
       "  font-family: monospace;\n",
       "  border: 1px dotted var(--sklearn-color-border-box);\n",
       "  border-radius: 0.25em;\n",
       "  box-sizing: border-box;\n",
       "  margin-bottom: 0.5em;\n",
       "  /* unfitted */\n",
       "  background-color: var(--sklearn-color-unfitted-level-0);\n",
       "}\n",
       "\n",
       "#sk-container-id-1 div.sk-estimator.fitted {\n",
       "  /* fitted */\n",
       "  background-color: var(--sklearn-color-fitted-level-0);\n",
       "}\n",
       "\n",
       "/* on hover */\n",
       "#sk-container-id-1 div.sk-estimator:hover {\n",
       "  /* unfitted */\n",
       "  background-color: var(--sklearn-color-unfitted-level-2);\n",
       "}\n",
       "\n",
       "#sk-container-id-1 div.sk-estimator.fitted:hover {\n",
       "  /* fitted */\n",
       "  background-color: var(--sklearn-color-fitted-level-2);\n",
       "}\n",
       "\n",
       "/* Specification for estimator info (e.g. \"i\" and \"?\") */\n",
       "\n",
       "/* Common style for \"i\" and \"?\" */\n",
       "\n",
       ".sk-estimator-doc-link,\n",
       "a:link.sk-estimator-doc-link,\n",
       "a:visited.sk-estimator-doc-link {\n",
       "  float: right;\n",
       "  font-size: smaller;\n",
       "  line-height: 1em;\n",
       "  font-family: monospace;\n",
       "  background-color: var(--sklearn-color-background);\n",
       "  border-radius: 1em;\n",
       "  height: 1em;\n",
       "  width: 1em;\n",
       "  text-decoration: none !important;\n",
       "  margin-left: 1ex;\n",
       "  /* unfitted */\n",
       "  border: var(--sklearn-color-unfitted-level-1) 1pt solid;\n",
       "  color: var(--sklearn-color-unfitted-level-1);\n",
       "}\n",
       "\n",
       ".sk-estimator-doc-link.fitted,\n",
       "a:link.sk-estimator-doc-link.fitted,\n",
       "a:visited.sk-estimator-doc-link.fitted {\n",
       "  /* fitted */\n",
       "  border: var(--sklearn-color-fitted-level-1) 1pt solid;\n",
       "  color: var(--sklearn-color-fitted-level-1);\n",
       "}\n",
       "\n",
       "/* On hover */\n",
       "div.sk-estimator:hover .sk-estimator-doc-link:hover,\n",
       ".sk-estimator-doc-link:hover,\n",
       "div.sk-label-container:hover .sk-estimator-doc-link:hover,\n",
       ".sk-estimator-doc-link:hover {\n",
       "  /* unfitted */\n",
       "  background-color: var(--sklearn-color-unfitted-level-3);\n",
       "  color: var(--sklearn-color-background);\n",
       "  text-decoration: none;\n",
       "}\n",
       "\n",
       "div.sk-estimator.fitted:hover .sk-estimator-doc-link.fitted:hover,\n",
       ".sk-estimator-doc-link.fitted:hover,\n",
       "div.sk-label-container:hover .sk-estimator-doc-link.fitted:hover,\n",
       ".sk-estimator-doc-link.fitted:hover {\n",
       "  /* fitted */\n",
       "  background-color: var(--sklearn-color-fitted-level-3);\n",
       "  color: var(--sklearn-color-background);\n",
       "  text-decoration: none;\n",
       "}\n",
       "\n",
       "/* Span, style for the box shown on hovering the info icon */\n",
       ".sk-estimator-doc-link span {\n",
       "  display: none;\n",
       "  z-index: 9999;\n",
       "  position: relative;\n",
       "  font-weight: normal;\n",
       "  right: .2ex;\n",
       "  padding: .5ex;\n",
       "  margin: .5ex;\n",
       "  width: min-content;\n",
       "  min-width: 20ex;\n",
       "  max-width: 50ex;\n",
       "  color: var(--sklearn-color-text);\n",
       "  box-shadow: 2pt 2pt 4pt #999;\n",
       "  /* unfitted */\n",
       "  background: var(--sklearn-color-unfitted-level-0);\n",
       "  border: .5pt solid var(--sklearn-color-unfitted-level-3);\n",
       "}\n",
       "\n",
       ".sk-estimator-doc-link.fitted span {\n",
       "  /* fitted */\n",
       "  background: var(--sklearn-color-fitted-level-0);\n",
       "  border: var(--sklearn-color-fitted-level-3);\n",
       "}\n",
       "\n",
       ".sk-estimator-doc-link:hover span {\n",
       "  display: block;\n",
       "}\n",
       "\n",
       "/* \"?\"-specific style due to the `<a>` HTML tag */\n",
       "\n",
       "#sk-container-id-1 a.estimator_doc_link {\n",
       "  float: right;\n",
       "  font-size: 1rem;\n",
       "  line-height: 1em;\n",
       "  font-family: monospace;\n",
       "  background-color: var(--sklearn-color-background);\n",
       "  border-radius: 1rem;\n",
       "  height: 1rem;\n",
       "  width: 1rem;\n",
       "  text-decoration: none;\n",
       "  /* unfitted */\n",
       "  color: var(--sklearn-color-unfitted-level-1);\n",
       "  border: var(--sklearn-color-unfitted-level-1) 1pt solid;\n",
       "}\n",
       "\n",
       "#sk-container-id-1 a.estimator_doc_link.fitted {\n",
       "  /* fitted */\n",
       "  border: var(--sklearn-color-fitted-level-1) 1pt solid;\n",
       "  color: var(--sklearn-color-fitted-level-1);\n",
       "}\n",
       "\n",
       "/* On hover */\n",
       "#sk-container-id-1 a.estimator_doc_link:hover {\n",
       "  /* unfitted */\n",
       "  background-color: var(--sklearn-color-unfitted-level-3);\n",
       "  color: var(--sklearn-color-background);\n",
       "  text-decoration: none;\n",
       "}\n",
       "\n",
       "#sk-container-id-1 a.estimator_doc_link.fitted:hover {\n",
       "  /* fitted */\n",
       "  background-color: var(--sklearn-color-fitted-level-3);\n",
       "}\n",
       "</style><div id=\"sk-container-id-1\" class=\"sk-top-container\"><div class=\"sk-text-repr-fallback\"><pre>LogisticRegression(class_weight=&#x27;balanced&#x27;, max_iter=1000, random_state=42)</pre><b>In a Jupyter environment, please rerun this cell to show the HTML representation or trust the notebook. <br />On GitHub, the HTML representation is unable to render, please try loading this page with nbviewer.org.</b></div><div class=\"sk-container\" hidden><div class=\"sk-item\"><div class=\"sk-estimator fitted sk-toggleable\"><input class=\"sk-toggleable__control sk-hidden--visually\" id=\"sk-estimator-id-1\" type=\"checkbox\" checked><label for=\"sk-estimator-id-1\" class=\"sk-toggleable__label fitted sk-toggleable__label-arrow fitted\">&nbsp;&nbsp;LogisticRegression<a class=\"sk-estimator-doc-link fitted\" rel=\"noreferrer\" target=\"_blank\" href=\"https://scikit-learn.org/1.4/modules/generated/sklearn.linear_model.LogisticRegression.html\">?<span>Documentation for LogisticRegression</span></a><span class=\"sk-estimator-doc-link fitted\">i<span>Fitted</span></span></label><div class=\"sk-toggleable__content fitted\"><pre>LogisticRegression(class_weight=&#x27;balanced&#x27;, max_iter=1000, random_state=42)</pre></div> </div></div></div></div>"
      ],
      "text/plain": [
       "LogisticRegression(class_weight='balanced', max_iter=1000, random_state=42)"
      ]
     },
     "execution_count": 77,
     "metadata": {},
     "output_type": "execute_result"
    }
   ],
   "source": [
    "baseline_params = {'class_weight':'balanced',\n",
    "                   'C':1.0,\n",
    "                   'penalty':'l2',\n",
    "                   'max_iter':1000,\n",
    "                   'random_state':RANDOM_STATE}\n",
    "baseline = LogisticRegression(**baseline_params)\n",
    "\n",
    "baseline.fit(X_train, y_train)\n",
    "cv_strategy = StratifiedKFold(n_splits=4)\n",
    "cv_res = cross_validate(baseline,\n",
    "\t\t\t\t\t\tX_train,\n",
    "\t\t\t\t\t\ty_train,\n",
    "\t\t\t\t\t\tcv=cv_strategy,\n",
    "\t\t\t\t\t\tn_jobs=-1,\n",
    "\t\t\t\t\t\tscoring=['roc_auc', 'f1'])\n",
    "for key, value in cv_res.items():\n",
    "\tcv_res[key] = round(value.mean(), 3)\n",
    "print(f\"результаты кросс-вадидации: {cv_res}\")\n",
    "\n",
    "# Визуализация кривой ROC\n",
    "y_pred_proba = baseline.predict_proba(X_train)[:, 1]\n",
    "roc_auc_value = roc_auc_score(y_train, y_pred_proba)\n",
    "fpr, tpr, thresholds = roc_curve(y_train, y_pred_proba)\n",
    "plt.plot(fpr, tpr, linewidth=1.5, label='ROC-AUC (area = %0.2f)' % roc_auc_value)\n",
    "plt.plot([0, 1], [0, 1], linestyle='--', linewidth=1.5, label='random_classifier')\n",
    "plt.xlim([-0.05, 1.0])\n",
    "plt.ylim([0.0, 1.05])\n",
    "plt.xlabel('False Positive Rate', fontsize=11)\n",
    "plt.ylabel('True Positive Rate', fontsize=11)\n",
    "plt.title('Baseline Receiver Operating Characteristic', fontsize=12)\n",
    "plt.legend(loc='lower right')\n",
    "plt.show()\n",
    "\n",
    "baseline"
   ]
  },
  {
   "cell_type": "markdown",
   "id": "CgbFD7OXVFwq",
   "metadata": {
    "id": "CgbFD7OXVFwq"
   },
   "source": [
    "Вывод:\n",
    "\n",
    "- в качестве базовой модели принята `LogisticRegression` на минимальном наборе данных;\n",
    "- при её обучении с использованием кросс-валидации получены метрики `ROC-AUC: 0.877`, `F1-мера: 0.491`;\n",
    "- модель с гиперпараметрами и метриками сохранена."
   ]
  },
  {
   "cell_type": "markdown",
   "id": "ddJu5-cdc51m",
   "metadata": {
    "id": "ddJu5-cdc51m"
   },
   "source": [
    "### CatBoost"
   ]
  },
  {
   "cell_type": "code",
   "execution_count": 62,
   "id": "nnfiTCOSCptB",
   "metadata": {
    "colab": {
     "base_uri": "https://localhost:8080/"
    },
    "id": "nnfiTCOSCptB",
    "outputId": "e85564a7-d7e4-447e-aec0-5ccce4e54b2b"
   },
   "outputs": [
    {
     "name": "stdout",
     "output_type": "stream",
     "text": [
      "результаты кросс-вадидации: {'fit_time': 92.586, 'score_time': 0.236, 'test_roc_auc': 0.915, 'test_f1': 0.665}\n"
     ]
    },
    {
     "data": {
      "image/png": "[encoded data removed]",
      "text/plain": [
       "<Figure size 640x480 with 1 Axes>"
      ]
     },
     "metadata": {},
     "output_type": "display_data"
    },
    {
     "data": {
      "text/plain": [
       "<catboost.core.CatBoostClassifier at 0x7817e54ba3e0>"
      ]
     },
     "execution_count": 62,
     "metadata": {},
     "output_type": "execute_result"
    }
   ],
   "source": [
    "cb_params = {'iterations': 300,\n",
    "             'auto_class_weights':'Balanced',\n",
    "             'verbose': False,\n",
    "             'random_state': RANDOM_STATE}\n",
    "\n",
    "model_cb = CatBoostClassifier(**cb_params)\n",
    "# train_pool = Pool(X_train_cb, y_train_cb, text_features=['text'])\n",
    "model_cb.fit(X=X_train,\n",
    "             y=y_train,\n",
    "             text_features=None,\n",
    "             embedding_features=None)\n",
    "cv_strategy = StratifiedKFold(n_splits=4)\n",
    "cv_res = cross_validate(model_cb,\n",
    "\t\t\t\t\t\tX_train,\n",
    "\t\t\t\t\t\ty_train,\n",
    "\t\t\t\t\t\tcv=cv_strategy,\n",
    "\t\t\t\t\t\tn_jobs=4,\n",
    "\t\t\t\t\t\tscoring=['roc_auc', 'f1'])\n",
    "for key, value in cv_res.items():\n",
    "\tcv_res[key] = round(value.mean(), 3)\n",
    "print(f\"результаты кросс-вадидации: {cv_res}\")\n",
    "\n",
    "# Визуализация кривой ROC\n",
    "y_pred_proba = model_cb.predict_proba(X_train)[:, 1]\n",
    "roc_auc_value = roc_auc_score(y_train, y_pred_proba)\n",
    "fpr, tpr, thresholds = roc_curve(y_train, y_pred_proba)\n",
    "plt.plot(fpr, tpr, linewidth=1.5, label='ROC-AUC (area = %0.2f)' % roc_auc_value)\n",
    "plt.plot([0, 1], [0, 1], linestyle='--', linewidth=1.5, label='random_classifier')\n",
    "plt.xlim([-0.05, 1.0])\n",
    "plt.ylim([0.0, 1.05])\n",
    "plt.xlabel('False Positive Rate', fontsize=11)\n",
    "plt.ylabel('True Positive Rate', fontsize=11)\n",
    "plt.title('Baseline Receiver Operating Characteristic', fontsize=12)\n",
    "plt.legend(loc='lower right')\n",
    "plt.show()\n",
    "\n",
    "model_cb"
   ]
  },
  {
   "cell_type": "markdown",
   "id": "63dYBqn7X05F",
   "metadata": {
    "id": "63dYBqn7X05F"
   },
   "source": [
    "Вывод:\n",
    "- обучена модель `CatBoost` на миниммальном наборе данных;\n",
    "- при её обучении с использованием кросс-валидации получены метрики `ROC-AUC: 0.915`, `F1-мера: 0.665`;\n",
    "- модель с гиперпараметрами и метриками сохранена."
   ]
  },
  {
   "cell_type": "code",
   "execution_count": 65,
   "id": "4364ae86-99e8-4292-a52d-c40d1a8d8614",
   "metadata": {},
   "outputs": [
    {
     "name": "stderr",
     "output_type": "stream",
     "text": [
      "Successfully registered model 'catboost'.\n",
      "2024/04/11 13:32:23 INFO mlflow.store.model_registry.abstract_store: Waiting up to 60 seconds for model version to finish creation. Model name: catboost, version 1\n",
      "Created version '1' of model 'catboost'.\n"
     ]
    }
   ],
   "source": [
    "# Логирование эксперимента\n",
    "# !pip freeze > requirements.txt\n",
    "pip_requirements = \"requirements.txt\"\n",
    "signature = mlflow.models.infer_signature(X_train.values, y_train.values)\n",
    "metadata = {\n",
    "    \"author\": \"denis_zeit\",\n",
    "    \"training_date\": \"2024-04-11\",\n",
    "    \"metrics\": {'roc-auc': 0.915, 'f1': 0.665},\n",
    "    \"hyperparameters\": {'iterations': 300,\n",
    "                        'auto_class_weights':'Balanced',\n",
    "                        'verbose': False,\n",
    "                        'random_state':42},\n",
    "    \"data_used\": 'baseline_data',\n",
    "    \"library_versions\": {\"mlflow\": \"2.11.3\",\n",
    "                         \"catboost\": \"1.2.3\",\n",
    "                         \"sentence-transformers\": \"2.6.1\"}\n",
    "}\n",
    "input_example = (X_train).iloc[0].to_dict()\n",
    "code_paths = ['music_covers.ipynb', 'research_class.py']\n",
    "cv_res = {'fit_time': 92.586, 'score_time': 0.236, 'test_roc_auc': 0.915, 'test_f1': 0.665}\n",
    "\n",
    "mlflow.set_tracking_uri(f\"http://{TRACKING_SERVER_HOST}:{TRACKING_SERVER_PORT}\")\n",
    "mlflow.set_registry_uri(f\"http://{TRACKING_SERVER_HOST}:{TRACKING_SERVER_PORT}\")\n",
    "\n",
    "experiment = mlflow.get_experiment_by_name(EXPERIMENT_NAME)\n",
    "experiment_id = mlflow.set_experiment(EXPERIMENT_NAME).experiment_id\n",
    "\n",
    "with mlflow.start_run(run_name=RUN_NAME[2], experiment_id=experiment_id) as run:\n",
    "    run_id = run.info.run_id\n",
    "    mlflow.log_params(cb_params)\n",
    "    mlflow.log_metrics(cv_res)\n",
    "    model_info = mlflow.catboost.log_model(\n",
    "        cb_model=model_cb,\n",
    "        artifact_path=\"models\",\n",
    "        pip_requirements=pip_requirements,\n",
    "        signature=signature,\n",
    "        input_example=input_example,\n",
    "        metadata=metadata,\n",
    "        code_paths=code_paths,\n",
    "        registered_model_name=REGISTRY_MODEL_NAME[2],\n",
    "        await_registration_for=60\n",
    "\t\t)\n",
    "\n",
    "experiment = mlflow.get_experiment_by_name(EXPERIMENT_NAME)\n",
    "run = mlflow.get_run(run_id)\n",
    "assert run.info.status == \"FINISHED\""
   ]
  },
  {
   "cell_type": "markdown",
   "id": "A3U6-8pEVa68",
   "metadata": {
    "id": "A3U6-8pEVa68"
   },
   "source": [
    "## Выбор лучшей модели"
   ]
  },
  {
   "cell_type": "code",
   "execution_count": 67,
   "id": "v05ANqOCVdjs",
   "metadata": {
    "colab": {
     "base_uri": "https://localhost:8080/",
     "height": 143
    },
    "id": "v05ANqOCVdjs",
    "outputId": "2fddd3bd-8875-48cc-e5ce-8c8688330f07"
   },
   "outputs": [
    {
     "name": "stdout",
     "output_type": "stream",
     "text": [
      "Модели и их метрики:\n"
     ]
    },
    {
     "data": {
      "text/html": [
       "<div>\n",
       "<style scoped>\n",
       "    .dataframe tbody tr th:only-of-type {\n",
       "        vertical-align: middle;\n",
       "    }\n",
       "\n",
       "    .dataframe tbody tr th {\n",
       "        vertical-align: top;\n",
       "    }\n",
       "\n",
       "    .dataframe thead th {\n",
       "        text-align: right;\n",
       "    }\n",
       "</style>\n",
       "<table border=\"1\" class=\"dataframe\">\n",
       "  <thead>\n",
       "    <tr style=\"text-align: right;\">\n",
       "      <th></th>\n",
       "      <th>model_name</th>\n",
       "      <th>version</th>\n",
       "      <th>metrics</th>\n",
       "      <th>run_uuid</th>\n",
       "    </tr>\n",
       "  </thead>\n",
       "  <tbody>\n",
       "    <tr>\n",
       "      <th>0</th>\n",
       "      <td>catboost</td>\n",
       "      <td>1</td>\n",
       "      <td>test_roc_auc=0.915; test_f1=0.665</td>\n",
       "      <td>00859330fee246519afef44d1899ddd8</td>\n",
       "    </tr>\n",
       "    <tr>\n",
       "      <th>1</th>\n",
       "      <td>baseline</td>\n",
       "      <td>1</td>\n",
       "      <td>test_roc_auc=0.877; test_f1=0.491</td>\n",
       "      <td>d2528065e13f42208db937556efd84bf</td>\n",
       "    </tr>\n",
       "  </tbody>\n",
       "</table>\n",
       "</div>"
      ],
      "text/plain": [
       "  model_name  version                            metrics  \\\n",
       "0   catboost        1  test_roc_auc=0.915; test_f1=0.665   \n",
       "1   baseline        1  test_roc_auc=0.877; test_f1=0.491   \n",
       "\n",
       "                           run_uuid  \n",
       "0  00859330fee246519afef44d1899ddd8  \n",
       "1  d2528065e13f42208db937556efd84bf  "
      ]
     },
     "metadata": {},
     "output_type": "display_data"
    }
   ],
   "source": [
    "connection.update(postgres_credentials)\n",
    "with psycopg.connect(**connection) as conn:\n",
    "    with conn.cursor() as cur:\n",
    "        # cur.execute(f\"SELECT table_name FROM information_schema.tables WHERE table_schema='public'\")\n",
    "        # table_data = []\n",
    "        # for table_name in cur.fetchall():\n",
    "        #     cur.execute(f\"SELECT COUNT(*) FROM {table_name[0]}\")\n",
    "        #     table_data.append((table_name[0], cur.fetchone()[0]))\n",
    "        # print('Находящиеся в базе таблицы:')\n",
    "        # display(pd.DataFrame(table_data, columns=['table_name', 'number_of_rows']))\n",
    "\n",
    "        cur.execute(\"\"\"\n",
    "                       SELECT\n",
    "                         model_versions.name AS model_name,\n",
    "                         model_versions.version,\n",
    "                         STRING_AGG(metrics.key || '=' || metrics.value, '; ') AS metrics,\n",
    "                         metrics.run_uuid\n",
    "                       FROM metrics\n",
    "                         LEFT JOIN model_versions ON model_versions.run_id=metrics.run_uuid\n",
    "                       WHERE metrics.key NOT IN ('fit_time', 'score_time')\n",
    "                       GROUP BY model_versions.name, model_versions.version, metrics.run_uuid\n",
    "                       ORDER BY metrics DESC\n",
    "                       \"\"\")\n",
    "        table_data = cur.fetchall()\n",
    "        table_columns = [desc[0] for desc in cur.description]\n",
    "        print('Модели и их метрики:')\n",
    "        display(pd.DataFrame(table_data, columns=table_columns))"
   ]
  },
  {
   "cell_type": "markdown",
   "id": "L5m4sVnVkZZN",
   "metadata": {
    "id": "L5m4sVnVkZZN"
   },
   "source": [
    "## Кластеризация DBSCAN"
   ]
  },
  {
   "cell_type": "markdown",
   "id": "9QWGZFFVctPd",
   "metadata": {
    "id": "9QWGZFFVctPd"
   },
   "source": [
    "Данные для кластеризации"
   ]
  },
  {
   "cell_type": "code",
   "execution_count": null,
   "id": "8zgkWyRhl95_",
   "metadata": {
    "id": "8zgkWyRhl95_"
   },
   "outputs": [],
   "source": [
    "df_kl=X_train_k.copy()\n",
    "feature_o = X_train"
   ]
  },
  {
   "cell_type": "markdown",
   "id": "z8d3lUNDc2cM",
   "metadata": {
    "id": "z8d3lUNDc2cM"
   },
   "source": [
    "Обучение модели"
   ]
  },
  {
   "cell_type": "code",
   "execution_count": null,
   "id": "O9nq1vDWLtfF",
   "metadata": {
    "id": "O9nq1vDWLtfF"
   },
   "outputs": [],
   "source": [
    "dbscan = DBSCAN(eps=0.3, min_samples=2)\n",
    "dbscan.fit(feature_o.values)\n",
    "labels = dbscan.labels_\n",
    "df_kl['labels'] = labels"
   ]
  },
  {
   "cell_type": "markdown",
   "id": "oNcBZwwOdE5B",
   "metadata": {
    "id": "oNcBZwwOdE5B"
   },
   "source": [
    "Поиск трека в кластере с наиболее ранней датой"
   ]
  },
  {
   "cell_type": "code",
   "execution_count": null,
   "id": "Vp7SlC4DLth5",
   "metadata": {
    "id": "Vp7SlC4DLth5"
   },
   "outputs": [],
   "source": [
    "min_date_rows = df_kl.groupby('labels')['dttm'].idxmin()\n",
    "earliest_dates = df_kl.loc[min_date_rows]"
   ]
  },
  {
   "cell_type": "markdown",
   "id": "yK44344fdMyY",
   "metadata": {
    "id": "yK44344fdMyY"
   },
   "source": [
    "Добавление метки оригинала"
   ]
  },
  {
   "cell_type": "code",
   "execution_count": null,
   "id": "SOfMqMl8Ltnf",
   "metadata": {
    "id": "SOfMqMl8Ltnf"
   },
   "outputs": [],
   "source": [
    "earliest_dates['target_labels'] = '0 ORIGINAL'\n",
    "earliest_dates['or_tr_ID'] = earliest_dates['track_id']\n",
    "dict_or = dict(zip(earliest_dates['labels'], earliest_dates['or_tr_ID'])) # создание словаря"
   ]
  },
  {
   "cell_type": "markdown",
   "id": "0qItKDY3dd8o",
   "metadata": {
    "id": "0qItKDY3dd8o"
   },
   "source": [
    "Добавление информации к  исходным данным"
   ]
  },
  {
   "cell_type": "code",
   "execution_count": null,
   "id": "U0zmEf2lLtp9",
   "metadata": {
    "colab": {
     "base_uri": "https://localhost:8080/"
    },
    "id": "U0zmEf2lLtp9",
    "outputId": "2bb5da56-97d6-4622-efd5-6f2ed991dd9b"
   },
   "outputs": [
    {
     "data": {
      "text/plain": [
       "('кластеры и количество треков в них:',\n",
       " -1       4607\n",
       "  20        98\n",
       "  99        74\n",
       "  28        57\n",
       "  57        53\n",
       "          ... \n",
       "  540        2\n",
       "  541        2\n",
       "  542        2\n",
       "  544        2\n",
       "  1125       2\n",
       " Name: labels, Length: 1127, dtype: int64)"
      ]
     },
     "execution_count": 110,
     "metadata": {},
     "output_type": "execute_result"
    }
   ],
   "source": [
    "# объединим таблицы\n",
    "df_kl = df_kl.merge(earliest_dates[['target_labels', 'or_tr_ID']], left_index=True, right_index=True, how='left')\n",
    "# заполним столбец ID оригинального трека\n",
    "df_kl['or_tr_ID'] = df_kl['labels'].map(dict_or)\n",
    "# укажем каверы\n",
    "df_kl['target_labels'].fillna('1 COVER', inplace=True)\n",
    "# определение треков не вошедших в кластеры\n",
    "df_kl.loc[df_kl['labels'] == -1, ['target_labels', 'or_tr_ID']]  = '-'\n",
    "df_kl = df_kl.drop(['dttm', 'duration'], axis=1) # удалим ненужную информацию\n",
    "'кластеры и количество треков в них:', df_kl['labels'].value_counts()"
   ]
  },
  {
   "cell_type": "markdown",
   "id": "FUGL9EMBefWp",
   "metadata": {
    "id": "FUGL9EMBefWp"
   },
   "source": [
    "Проверка полученных кластеров"
   ]
  },
  {
   "cell_type": "code",
   "execution_count": null,
   "id": "JUKaHaaGhN6Q",
   "metadata": {
    "colab": {
     "base_uri": "https://localhost:8080/",
     "height": 206
    },
    "id": "JUKaHaaGhN6Q",
    "outputId": "d5609031-5406-488a-f9ab-e52f17e8fff8"
   },
   "outputs": [
    {
     "data": {
      "text/html": [
       "\n",
       "  <div id=\"df-21dc0455-2cb2-49f5-a179-764981ff81eb\" class=\"colab-df-container\">\n",
       "    <div>\n",
       "<style scoped>\n",
       "    .dataframe tbody tr th:only-of-type {\n",
       "        vertical-align: middle;\n",
       "    }\n",
       "\n",
       "    .dataframe tbody tr th {\n",
       "        vertical-align: top;\n",
       "    }\n",
       "\n",
       "    .dataframe thead th {\n",
       "        text-align: right;\n",
       "    }\n",
       "</style>\n",
       "<table border=\"1\" class=\"dataframe\">\n",
       "  <thead>\n",
       "    <tr style=\"text-align: right;\">\n",
       "      <th></th>\n",
       "      <th>original_track_id</th>\n",
       "      <th>track_id</th>\n",
       "      <th>track_remake_type</th>\n",
       "      <th>labels</th>\n",
       "      <th>target_labels</th>\n",
       "      <th>or_tr_ID</th>\n",
       "    </tr>\n",
       "  </thead>\n",
       "  <tbody>\n",
       "    <tr>\n",
       "      <th>7571</th>\n",
       "      <td>None</td>\n",
       "      <td>d5e73a91b22b6473bef6464611330b22</td>\n",
       "      <td>1</td>\n",
       "      <td>85</td>\n",
       "      <td>1 COVER</td>\n",
       "      <td>ecfcc3542d9219bf01cd5fdf92821b79</td>\n",
       "    </tr>\n",
       "    <tr>\n",
       "      <th>7504</th>\n",
       "      <td>329703a0b71ba0c8321eb01e0c5eb74f</td>\n",
       "      <td>329703a0b71ba0c8321eb01e0c5eb74f</td>\n",
       "      <td>0</td>\n",
       "      <td>129</td>\n",
       "      <td>1 COVER</td>\n",
       "      <td>09e816e3c7072f3b6f6884ad63606506</td>\n",
       "    </tr>\n",
       "    <tr>\n",
       "      <th>8712</th>\n",
       "      <td>None</td>\n",
       "      <td>55639effa3681e6605b12b43b81268c6</td>\n",
       "      <td>1</td>\n",
       "      <td>141</td>\n",
       "      <td>1 COVER</td>\n",
       "      <td>48e62100d29c5e528739f3e1d60daa94</td>\n",
       "    </tr>\n",
       "    <tr>\n",
       "      <th>356</th>\n",
       "      <td>None</td>\n",
       "      <td>2e0b4d97f2019d8271aad70e6e9cbe8a</td>\n",
       "      <td>1</td>\n",
       "      <td>672</td>\n",
       "      <td>1 COVER</td>\n",
       "      <td>2e0b4d97f2019d8271aad70e6e9cbe8a</td>\n",
       "    </tr>\n",
       "    <tr>\n",
       "      <th>6681</th>\n",
       "      <td>None</td>\n",
       "      <td>6bf71d6456063735e930c2e0b440bf4d</td>\n",
       "      <td>1</td>\n",
       "      <td>411</td>\n",
       "      <td>1 COVER</td>\n",
       "      <td>458ba5e50926d890a541c0fd4ebc2863</td>\n",
       "    </tr>\n",
       "  </tbody>\n",
       "</table>\n",
       "</div>\n",
       "    <div class=\"colab-df-buttons\">\n",
       "\n",
       "  <div class=\"colab-df-container\">\n",
       "    <button class=\"colab-df-convert\" onclick=\"convertToInteractive('df-21dc0455-2cb2-49f5-a179-764981ff81eb')\"\n",
       "            title=\"Convert this dataframe to an interactive table.\"\n",
       "            style=\"display:none;\">\n",
       "\n",
       "  <svg xmlns=\"http://www.w3.org/2000/svg\" height=\"24px\" viewBox=\"0 -960 960 960\">\n",
       "    <path d=\"M120-120v-720h720v720H120Zm60-500h600v-160H180v160Zm220 220h160v-160H400v160Zm0 220h160v-160H400v160ZM180-400h160v-160H180v160Zm440 0h160v-160H620v160ZM180-180h160v-160H180v160Zm440 0h160v-160H620v160Z\"/>\n",
       "  </svg>\n",
       "    </button>\n",
       "\n",
       "  <style>\n",
       "    .colab-df-container {\n",
       "      display:flex;\n",
       "      gap: 12px;\n",
       "    }\n",
       "\n",
       "    .colab-df-convert {\n",
       "      background-color: #E8F0FE;\n",
       "      border: none;\n",
       "      border-radius: 50%;\n",
       "      cursor: pointer;\n",
       "      display: none;\n",
       "      fill: #1967D2;\n",
       "      height: 32px;\n",
       "      padding: 0 0 0 0;\n",
       "      width: 32px;\n",
       "    }\n",
       "\n",
       "    .colab-df-convert:hover {\n",
       "      background-color: #E2EBFA;\n",
       "      box-shadow: 0px 1px 2px rgba(60, 64, 67, 0.3), 0px 1px 3px 1px rgba(60, 64, 67, 0.15);\n",
       "      fill: #174EA6;\n",
       "    }\n",
       "\n",
       "    .colab-df-buttons div {\n",
       "      margin-bottom: 4px;\n",
       "    }\n",
       "\n",
       "    [theme=dark] .colab-df-convert {\n",
       "      background-color: #3B4455;\n",
       "      fill: #D2E3FC;\n",
       "    }\n",
       "\n",
       "    [theme=dark] .colab-df-convert:hover {\n",
       "      background-color: #434B5C;\n",
       "      box-shadow: 0px 1px 3px 1px rgba(0, 0, 0, 0.15);\n",
       "      filter: drop-shadow(0px 1px 2px rgba(0, 0, 0, 0.3));\n",
       "      fill: #FFFFFF;\n",
       "    }\n",
       "  </style>\n",
       "\n",
       "    <script>\n",
       "      const buttonEl =\n",
       "        document.querySelector('#df-21dc0455-2cb2-49f5-a179-764981ff81eb button.colab-df-convert');\n",
       "      buttonEl.style.display =\n",
       "        google.colab.kernel.accessAllowed ? 'block' : 'none';\n",
       "\n",
       "      async function convertToInteractive(key) {\n",
       "        const element = document.querySelector('#df-21dc0455-2cb2-49f5-a179-764981ff81eb');\n",
       "        const dataTable =\n",
       "          await google.colab.kernel.invokeFunction('convertToInteractive',\n",
       "                                                    [key], {});\n",
       "        if (!dataTable) return;\n",
       "\n",
       "        const docLinkHtml = 'Like what you see? Visit the ' +\n",
       "          '<a target=\"_blank\" href=https://colab.research.google.com/notebooks/data_table.ipynb>data table notebook</a>'\n",
       "          + ' to learn more about interactive tables.';\n",
       "        element.innerHTML = '';\n",
       "        dataTable['output_type'] = 'display_data';\n",
       "        await google.colab.output.renderOutput(dataTable, element);\n",
       "        const docLink = document.createElement('div');\n",
       "        docLink.innerHTML = docLinkHtml;\n",
       "        element.appendChild(docLink);\n",
       "      }\n",
       "    </script>\n",
       "  </div>\n",
       "\n",
       "\n",
       "<div id=\"df-a533b57a-06cf-44ac-9930-057cebfa1ff7\">\n",
       "  <button class=\"colab-df-quickchart\" onclick=\"quickchart('df-a533b57a-06cf-44ac-9930-057cebfa1ff7')\"\n",
       "            title=\"Suggest charts.\"\n",
       "            style=\"display:none;\">\n",
       "\n",
       "<svg xmlns=\"http://www.w3.org/2000/svg\" height=\"24px\"viewBox=\"0 0 24 24\"\n",
       "     width=\"24px\">\n",
       "    <g>\n",
       "        <path d=\"M19 3H5c-1.1 0-2 .9-2 2v14c0 1.1.9 2 2 2h14c1.1 0 2-.9 2-2V5c0-1.1-.9-2-2-2zM9 17H7v-7h2v7zm4 0h-2V7h2v10zm4 0h-2v-4h2v4z\"/>\n",
       "    </g>\n",
       "</svg>\n",
       "  </button>\n",
       "\n",
       "<style>\n",
       "  .colab-df-quickchart {\n",
       "      --bg-color: #E8F0FE;\n",
       "      --fill-color: #1967D2;\n",
       "      --hover-bg-color: #E2EBFA;\n",
       "      --hover-fill-color: #174EA6;\n",
       "      --disabled-fill-color: #AAA;\n",
       "      --disabled-bg-color: #DDD;\n",
       "  }\n",
       "\n",
       "  [theme=dark] .colab-df-quickchart {\n",
       "      --bg-color: #3B4455;\n",
       "      --fill-color: #D2E3FC;\n",
       "      --hover-bg-color: #434B5C;\n",
       "      --hover-fill-color: #FFFFFF;\n",
       "      --disabled-bg-color: #3B4455;\n",
       "      --disabled-fill-color: #666;\n",
       "  }\n",
       "\n",
       "  .colab-df-quickchart {\n",
       "    background-color: var(--bg-color);\n",
       "    border: none;\n",
       "    border-radius: 50%;\n",
       "    cursor: pointer;\n",
       "    display: none;\n",
       "    fill: var(--fill-color);\n",
       "    height: 32px;\n",
       "    padding: 0;\n",
       "    width: 32px;\n",
       "  }\n",
       "\n",
       "  .colab-df-quickchart:hover {\n",
       "    background-color: var(--hover-bg-color);\n",
       "    box-shadow: 0 1px 2px rgba(60, 64, 67, 0.3), 0 1px 3px 1px rgba(60, 64, 67, 0.15);\n",
       "    fill: var(--button-hover-fill-color);\n",
       "  }\n",
       "\n",
       "  .colab-df-quickchart-complete:disabled,\n",
       "  .colab-df-quickchart-complete:disabled:hover {\n",
       "    background-color: var(--disabled-bg-color);\n",
       "    fill: var(--disabled-fill-color);\n",
       "    box-shadow: none;\n",
       "  }\n",
       "\n",
       "  .colab-df-spinner {\n",
       "    border: 2px solid var(--fill-color);\n",
       "    border-color: transparent;\n",
       "    border-bottom-color: var(--fill-color);\n",
       "    animation:\n",
       "      spin 1s steps(1) infinite;\n",
       "  }\n",
       "\n",
       "  @keyframes spin {\n",
       "    0% {\n",
       "      border-color: transparent;\n",
       "      border-bottom-color: var(--fill-color);\n",
       "      border-left-color: var(--fill-color);\n",
       "    }\n",
       "    20% {\n",
       "      border-color: transparent;\n",
       "      border-left-color: var(--fill-color);\n",
       "      border-top-color: var(--fill-color);\n",
       "    }\n",
       "    30% {\n",
       "      border-color: transparent;\n",
       "      border-left-color: var(--fill-color);\n",
       "      border-top-color: var(--fill-color);\n",
       "      border-right-color: var(--fill-color);\n",
       "    }\n",
       "    40% {\n",
       "      border-color: transparent;\n",
       "      border-right-color: var(--fill-color);\n",
       "      border-top-color: var(--fill-color);\n",
       "    }\n",
       "    60% {\n",
       "      border-color: transparent;\n",
       "      border-right-color: var(--fill-color);\n",
       "    }\n",
       "    80% {\n",
       "      border-color: transparent;\n",
       "      border-right-color: var(--fill-color);\n",
       "      border-bottom-color: var(--fill-color);\n",
       "    }\n",
       "    90% {\n",
       "      border-color: transparent;\n",
       "      border-bottom-color: var(--fill-color);\n",
       "    }\n",
       "  }\n",
       "</style>\n",
       "\n",
       "  <script>\n",
       "    async function quickchart(key) {\n",
       "      const quickchartButtonEl =\n",
       "        document.querySelector('#' + key + ' button');\n",
       "      quickchartButtonEl.disabled = true;  // To prevent multiple clicks.\n",
       "      quickchartButtonEl.classList.add('colab-df-spinner');\n",
       "      try {\n",
       "        const charts = await google.colab.kernel.invokeFunction(\n",
       "            'suggestCharts', [key], {});\n",
       "      } catch (error) {\n",
       "        console.error('Error during call to suggestCharts:', error);\n",
       "      }\n",
       "      quickchartButtonEl.classList.remove('colab-df-spinner');\n",
       "      quickchartButtonEl.classList.add('colab-df-quickchart-complete');\n",
       "    }\n",
       "    (() => {\n",
       "      let quickchartButtonEl =\n",
       "        document.querySelector('#df-a533b57a-06cf-44ac-9930-057cebfa1ff7 button');\n",
       "      quickchartButtonEl.style.display =\n",
       "        google.colab.kernel.accessAllowed ? 'block' : 'none';\n",
       "    })();\n",
       "  </script>\n",
       "</div>\n",
       "    </div>\n",
       "  </div>\n"
      ],
      "text/plain": [
       "                     original_track_id                          track_id  \\\n",
       "7571                              None  d5e73a91b22b6473bef6464611330b22   \n",
       "7504  329703a0b71ba0c8321eb01e0c5eb74f  329703a0b71ba0c8321eb01e0c5eb74f   \n",
       "8712                              None  55639effa3681e6605b12b43b81268c6   \n",
       "356                               None  2e0b4d97f2019d8271aad70e6e9cbe8a   \n",
       "6681                              None  6bf71d6456063735e930c2e0b440bf4d   \n",
       "\n",
       "      track_remake_type  labels target_labels  \\\n",
       "7571                  1      85       1 COVER   \n",
       "7504                  0     129       1 COVER   \n",
       "8712                  1     141       1 COVER   \n",
       "356                   1     672       1 COVER   \n",
       "6681                  1     411       1 COVER   \n",
       "\n",
       "                              or_tr_ID  \n",
       "7571  ecfcc3542d9219bf01cd5fdf92821b79  \n",
       "7504  09e816e3c7072f3b6f6884ad63606506  \n",
       "8712  48e62100d29c5e528739f3e1d60daa94  \n",
       "356   2e0b4d97f2019d8271aad70e6e9cbe8a  \n",
       "6681  458ba5e50926d890a541c0fd4ebc2863  "
      ]
     },
     "execution_count": 111,
     "metadata": {},
     "output_type": "execute_result"
    }
   ],
   "source": [
    "# полученные кластеры\n",
    "df_kl[df_kl['labels'] >= 0].sort_values(by='labels').sample(5)"
   ]
  },
  {
   "cell_type": "code",
   "execution_count": null,
   "id": "P6LVK7AteghH",
   "metadata": {
    "colab": {
     "base_uri": "https://localhost:8080/",
     "height": 206
    },
    "id": "P6LVK7AteghH",
    "outputId": "abe3bb01-4616-45dd-c164-f839242cc1fc"
   },
   "outputs": [
    {
     "data": {
      "text/html": [
       "\n",
       "  <div id=\"df-088da2ff-02e0-4426-8859-38324926cb36\" class=\"colab-df-container\">\n",
       "    <div>\n",
       "<style scoped>\n",
       "    .dataframe tbody tr th:only-of-type {\n",
       "        vertical-align: middle;\n",
       "    }\n",
       "\n",
       "    .dataframe tbody tr th {\n",
       "        vertical-align: top;\n",
       "    }\n",
       "\n",
       "    .dataframe thead th {\n",
       "        text-align: right;\n",
       "    }\n",
       "</style>\n",
       "<table border=\"1\" class=\"dataframe\">\n",
       "  <thead>\n",
       "    <tr style=\"text-align: right;\">\n",
       "      <th></th>\n",
       "      <th>original_track_id</th>\n",
       "      <th>track_id</th>\n",
       "      <th>track_remake_type</th>\n",
       "      <th>labels</th>\n",
       "      <th>target_labels</th>\n",
       "      <th>or_tr_ID</th>\n",
       "    </tr>\n",
       "  </thead>\n",
       "  <tbody>\n",
       "    <tr>\n",
       "      <th>3500</th>\n",
       "      <td>None</td>\n",
       "      <td>c126ad9de2b3278e4cd6c04e91519405</td>\n",
       "      <td>1</td>\n",
       "      <td>719</td>\n",
       "      <td>1 COVER</td>\n",
       "      <td>930531da8e07084f9d7bf45067be8c53</td>\n",
       "    </tr>\n",
       "    <tr>\n",
       "      <th>2853</th>\n",
       "      <td>b394cdc3b1e3b509207b2082215023ac</td>\n",
       "      <td>b394cdc3b1e3b509207b2082215023ac</td>\n",
       "      <td>0</td>\n",
       "      <td>257</td>\n",
       "      <td>1 COVER</td>\n",
       "      <td>53e9ba631b769af52861834d8559a797</td>\n",
       "    </tr>\n",
       "    <tr>\n",
       "      <th>5587</th>\n",
       "      <td>None</td>\n",
       "      <td>201bc33d8583d71c4450e707d4bedced</td>\n",
       "      <td>1</td>\n",
       "      <td>386</td>\n",
       "      <td>1 COVER</td>\n",
       "      <td>78a576e7be283c8fe40a1d25761cec0a</td>\n",
       "    </tr>\n",
       "    <tr>\n",
       "      <th>6798</th>\n",
       "      <td>ba69d68ec0eb38289828ce00658c4474</td>\n",
       "      <td>ba69d68ec0eb38289828ce00658c4474</td>\n",
       "      <td>0</td>\n",
       "      <td>717</td>\n",
       "      <td>1 COVER</td>\n",
       "      <td>ab329a713d3b872a974c99a3d95f2f5c</td>\n",
       "    </tr>\n",
       "    <tr>\n",
       "      <th>7912</th>\n",
       "      <td>4bff13b29d32b21fe548d4751f6217c4</td>\n",
       "      <td>4bff13b29d32b21fe548d4751f6217c4</td>\n",
       "      <td>0</td>\n",
       "      <td>195</td>\n",
       "      <td>1 COVER</td>\n",
       "      <td>933915d7cfd8d406f6c3b457291fa1be</td>\n",
       "    </tr>\n",
       "  </tbody>\n",
       "</table>\n",
       "</div>\n",
       "    <div class=\"colab-df-buttons\">\n",
       "\n",
       "  <div class=\"colab-df-container\">\n",
       "    <button class=\"colab-df-convert\" onclick=\"convertToInteractive('df-088da2ff-02e0-4426-8859-38324926cb36')\"\n",
       "            title=\"Convert this dataframe to an interactive table.\"\n",
       "            style=\"display:none;\">\n",
       "\n",
       "  <svg xmlns=\"http://www.w3.org/2000/svg\" height=\"24px\" viewBox=\"0 -960 960 960\">\n",
       "    <path d=\"M120-120v-720h720v720H120Zm60-500h600v-160H180v160Zm220 220h160v-160H400v160Zm0 220h160v-160H400v160ZM180-400h160v-160H180v160Zm440 0h160v-160H620v160ZM180-180h160v-160H180v160Zm440 0h160v-160H620v160Z\"/>\n",
       "  </svg>\n",
       "    </button>\n",
       "\n",
       "  <style>\n",
       "    .colab-df-container {\n",
       "      display:flex;\n",
       "      gap: 12px;\n",
       "    }\n",
       "\n",
       "    .colab-df-convert {\n",
       "      background-color: #E8F0FE;\n",
       "      border: none;\n",
       "      border-radius: 50%;\n",
       "      cursor: pointer;\n",
       "      display: none;\n",
       "      fill: #1967D2;\n",
       "      height: 32px;\n",
       "      padding: 0 0 0 0;\n",
       "      width: 32px;\n",
       "    }\n",
       "\n",
       "    .colab-df-convert:hover {\n",
       "      background-color: #E2EBFA;\n",
       "      box-shadow: 0px 1px 2px rgba(60, 64, 67, 0.3), 0px 1px 3px 1px rgba(60, 64, 67, 0.15);\n",
       "      fill: #174EA6;\n",
       "    }\n",
       "\n",
       "    .colab-df-buttons div {\n",
       "      margin-bottom: 4px;\n",
       "    }\n",
       "\n",
       "    [theme=dark] .colab-df-convert {\n",
       "      background-color: #3B4455;\n",
       "      fill: #D2E3FC;\n",
       "    }\n",
       "\n",
       "    [theme=dark] .colab-df-convert:hover {\n",
       "      background-color: #434B5C;\n",
       "      box-shadow: 0px 1px 3px 1px rgba(0, 0, 0, 0.15);\n",
       "      filter: drop-shadow(0px 1px 2px rgba(0, 0, 0, 0.3));\n",
       "      fill: #FFFFFF;\n",
       "    }\n",
       "  </style>\n",
       "\n",
       "    <script>\n",
       "      const buttonEl =\n",
       "        document.querySelector('#df-088da2ff-02e0-4426-8859-38324926cb36 button.colab-df-convert');\n",
       "      buttonEl.style.display =\n",
       "        google.colab.kernel.accessAllowed ? 'block' : 'none';\n",
       "\n",
       "      async function convertToInteractive(key) {\n",
       "        const element = document.querySelector('#df-088da2ff-02e0-4426-8859-38324926cb36');\n",
       "        const dataTable =\n",
       "          await google.colab.kernel.invokeFunction('convertToInteractive',\n",
       "                                                    [key], {});\n",
       "        if (!dataTable) return;\n",
       "\n",
       "        const docLinkHtml = 'Like what you see? Visit the ' +\n",
       "          '<a target=\"_blank\" href=https://colab.research.google.com/notebooks/data_table.ipynb>data table notebook</a>'\n",
       "          + ' to learn more about interactive tables.';\n",
       "        element.innerHTML = '';\n",
       "        dataTable['output_type'] = 'display_data';\n",
       "        await google.colab.output.renderOutput(dataTable, element);\n",
       "        const docLink = document.createElement('div');\n",
       "        docLink.innerHTML = docLinkHtml;\n",
       "        element.appendChild(docLink);\n",
       "      }\n",
       "    </script>\n",
       "  </div>\n",
       "\n",
       "\n",
       "<div id=\"df-5db47a9e-7392-4ec0-a28c-6728fbb9fb5b\">\n",
       "  <button class=\"colab-df-quickchart\" onclick=\"quickchart('df-5db47a9e-7392-4ec0-a28c-6728fbb9fb5b')\"\n",
       "            title=\"Suggest charts.\"\n",
       "            style=\"display:none;\">\n",
       "\n",
       "<svg xmlns=\"http://www.w3.org/2000/svg\" height=\"24px\"viewBox=\"0 0 24 24\"\n",
       "     width=\"24px\">\n",
       "    <g>\n",
       "        <path d=\"M19 3H5c-1.1 0-2 .9-2 2v14c0 1.1.9 2 2 2h14c1.1 0 2-.9 2-2V5c0-1.1-.9-2-2-2zM9 17H7v-7h2v7zm4 0h-2V7h2v10zm4 0h-2v-4h2v4z\"/>\n",
       "    </g>\n",
       "</svg>\n",
       "  </button>\n",
       "\n",
       "<style>\n",
       "  .colab-df-quickchart {\n",
       "      --bg-color: #E8F0FE;\n",
       "      --fill-color: #1967D2;\n",
       "      --hover-bg-color: #E2EBFA;\n",
       "      --hover-fill-color: #174EA6;\n",
       "      --disabled-fill-color: #AAA;\n",
       "      --disabled-bg-color: #DDD;\n",
       "  }\n",
       "\n",
       "  [theme=dark] .colab-df-quickchart {\n",
       "      --bg-color: #3B4455;\n",
       "      --fill-color: #D2E3FC;\n",
       "      --hover-bg-color: #434B5C;\n",
       "      --hover-fill-color: #FFFFFF;\n",
       "      --disabled-bg-color: #3B4455;\n",
       "      --disabled-fill-color: #666;\n",
       "  }\n",
       "\n",
       "  .colab-df-quickchart {\n",
       "    background-color: var(--bg-color);\n",
       "    border: none;\n",
       "    border-radius: 50%;\n",
       "    cursor: pointer;\n",
       "    display: none;\n",
       "    fill: var(--fill-color);\n",
       "    height: 32px;\n",
       "    padding: 0;\n",
       "    width: 32px;\n",
       "  }\n",
       "\n",
       "  .colab-df-quickchart:hover {\n",
       "    background-color: var(--hover-bg-color);\n",
       "    box-shadow: 0 1px 2px rgba(60, 64, 67, 0.3), 0 1px 3px 1px rgba(60, 64, 67, 0.15);\n",
       "    fill: var(--button-hover-fill-color);\n",
       "  }\n",
       "\n",
       "  .colab-df-quickchart-complete:disabled,\n",
       "  .colab-df-quickchart-complete:disabled:hover {\n",
       "    background-color: var(--disabled-bg-color);\n",
       "    fill: var(--disabled-fill-color);\n",
       "    box-shadow: none;\n",
       "  }\n",
       "\n",
       "  .colab-df-spinner {\n",
       "    border: 2px solid var(--fill-color);\n",
       "    border-color: transparent;\n",
       "    border-bottom-color: var(--fill-color);\n",
       "    animation:\n",
       "      spin 1s steps(1) infinite;\n",
       "  }\n",
       "\n",
       "  @keyframes spin {\n",
       "    0% {\n",
       "      border-color: transparent;\n",
       "      border-bottom-color: var(--fill-color);\n",
       "      border-left-color: var(--fill-color);\n",
       "    }\n",
       "    20% {\n",
       "      border-color: transparent;\n",
       "      border-left-color: var(--fill-color);\n",
       "      border-top-color: var(--fill-color);\n",
       "    }\n",
       "    30% {\n",
       "      border-color: transparent;\n",
       "      border-left-color: var(--fill-color);\n",
       "      border-top-color: var(--fill-color);\n",
       "      border-right-color: var(--fill-color);\n",
       "    }\n",
       "    40% {\n",
       "      border-color: transparent;\n",
       "      border-right-color: var(--fill-color);\n",
       "      border-top-color: var(--fill-color);\n",
       "    }\n",
       "    60% {\n",
       "      border-color: transparent;\n",
       "      border-right-color: var(--fill-color);\n",
       "    }\n",
       "    80% {\n",
       "      border-color: transparent;\n",
       "      border-right-color: var(--fill-color);\n",
       "      border-bottom-color: var(--fill-color);\n",
       "    }\n",
       "    90% {\n",
       "      border-color: transparent;\n",
       "      border-bottom-color: var(--fill-color);\n",
       "    }\n",
       "  }\n",
       "</style>\n",
       "\n",
       "  <script>\n",
       "    async function quickchart(key) {\n",
       "      const quickchartButtonEl =\n",
       "        document.querySelector('#' + key + ' button');\n",
       "      quickchartButtonEl.disabled = true;  // To prevent multiple clicks.\n",
       "      quickchartButtonEl.classList.add('colab-df-spinner');\n",
       "      try {\n",
       "        const charts = await google.colab.kernel.invokeFunction(\n",
       "            'suggestCharts', [key], {});\n",
       "      } catch (error) {\n",
       "        console.error('Error during call to suggestCharts:', error);\n",
       "      }\n",
       "      quickchartButtonEl.classList.remove('colab-df-spinner');\n",
       "      quickchartButtonEl.classList.add('colab-df-quickchart-complete');\n",
       "    }\n",
       "    (() => {\n",
       "      let quickchartButtonEl =\n",
       "        document.querySelector('#df-5db47a9e-7392-4ec0-a28c-6728fbb9fb5b button');\n",
       "      quickchartButtonEl.style.display =\n",
       "        google.colab.kernel.accessAllowed ? 'block' : 'none';\n",
       "    })();\n",
       "  </script>\n",
       "</div>\n",
       "    </div>\n",
       "  </div>\n"
      ],
      "text/plain": [
       "                     original_track_id                          track_id  \\\n",
       "3500                              None  c126ad9de2b3278e4cd6c04e91519405   \n",
       "2853  b394cdc3b1e3b509207b2082215023ac  b394cdc3b1e3b509207b2082215023ac   \n",
       "5587                              None  201bc33d8583d71c4450e707d4bedced   \n",
       "6798  ba69d68ec0eb38289828ce00658c4474  ba69d68ec0eb38289828ce00658c4474   \n",
       "7912  4bff13b29d32b21fe548d4751f6217c4  4bff13b29d32b21fe548d4751f6217c4   \n",
       "\n",
       "      track_remake_type  labels target_labels  \\\n",
       "3500                  1     719       1 COVER   \n",
       "2853                  0     257       1 COVER   \n",
       "5587                  1     386       1 COVER   \n",
       "6798                  0     717       1 COVER   \n",
       "7912                  0     195       1 COVER   \n",
       "\n",
       "                              or_tr_ID  \n",
       "3500  930531da8e07084f9d7bf45067be8c53  \n",
       "2853  53e9ba631b769af52861834d8559a797  \n",
       "5587  78a576e7be283c8fe40a1d25761cec0a  \n",
       "6798  ab329a713d3b872a974c99a3d95f2f5c  \n",
       "7912  933915d7cfd8d406f6c3b457291fa1be  "
      ]
     },
     "execution_count": 112,
     "metadata": {},
     "output_type": "execute_result"
    }
   ],
   "source": [
    "df_kl[df_kl['target_labels'] != '-'].sample(5)"
   ]
  },
  {
   "cell_type": "code",
   "execution_count": null,
   "id": "enCpSR47d47C",
   "metadata": {
    "colab": {
     "base_uri": "https://localhost:8080/"
    },
    "id": "enCpSR47d47C",
    "outputId": "50463ddb-a2aa-4a66-8753-a66bfbd6fb28"
   },
   "outputs": [
    {
     "data": {
      "text/plain": [
       "False    8047\n",
       "True      753\n",
       "dtype: int64"
      ]
     },
     "execution_count": 113,
     "metadata": {},
     "output_type": "execute_result"
    }
   ],
   "source": [
    "# количество правильно определенных original_track_id\t(8,6%) в общей численности - 8800\n",
    "(df_kl['original_track_id'] == df_kl['or_tr_ID']).value_counts()"
   ]
  },
  {
   "cell_type": "code",
   "execution_count": null,
   "id": "Q2cxau8UdQAd",
   "metadata": {
    "colab": {
     "base_uri": "https://localhost:8080/",
     "height": 206
    },
    "id": "Q2cxau8UdQAd",
    "outputId": "6a5662a7-cec4-4ac7-94c9-3c3bfb5f7391"
   },
   "outputs": [
    {
     "data": {
      "text/html": [
       "\n",
       "  <div id=\"df-986f064d-5b86-4faf-903c-3f3735be553a\" class=\"colab-df-container\">\n",
       "    <div>\n",
       "<style scoped>\n",
       "    .dataframe tbody tr th:only-of-type {\n",
       "        vertical-align: middle;\n",
       "    }\n",
       "\n",
       "    .dataframe tbody tr th {\n",
       "        vertical-align: top;\n",
       "    }\n",
       "\n",
       "    .dataframe thead th {\n",
       "        text-align: right;\n",
       "    }\n",
       "</style>\n",
       "<table border=\"1\" class=\"dataframe\">\n",
       "  <thead>\n",
       "    <tr style=\"text-align: right;\">\n",
       "      <th></th>\n",
       "      <th>original_track_id</th>\n",
       "      <th>track_id</th>\n",
       "      <th>track_remake_type</th>\n",
       "      <th>labels</th>\n",
       "      <th>target_labels</th>\n",
       "      <th>or_tr_ID</th>\n",
       "    </tr>\n",
       "  </thead>\n",
       "  <tbody>\n",
       "    <tr>\n",
       "      <th>9772</th>\n",
       "      <td>1b20046d1401fad20997960f00c2e2b2</td>\n",
       "      <td>1b20046d1401fad20997960f00c2e2b2</td>\n",
       "      <td>0</td>\n",
       "      <td>-1</td>\n",
       "      <td>-</td>\n",
       "      <td>-</td>\n",
       "    </tr>\n",
       "    <tr>\n",
       "      <th>9760</th>\n",
       "      <td>10c31ae14820dabb1205f8cf646360b4</td>\n",
       "      <td>10c31ae14820dabb1205f8cf646360b4</td>\n",
       "      <td>0</td>\n",
       "      <td>-1</td>\n",
       "      <td>-</td>\n",
       "      <td>-</td>\n",
       "    </tr>\n",
       "    <tr>\n",
       "      <th>1522</th>\n",
       "      <td>951edd96627f47b783716a54d2368d7b</td>\n",
       "      <td>951edd96627f47b783716a54d2368d7b</td>\n",
       "      <td>0</td>\n",
       "      <td>3</td>\n",
       "      <td>0 ORIGINAL</td>\n",
       "      <td>951edd96627f47b783716a54d2368d7b</td>\n",
       "    </tr>\n",
       "    <tr>\n",
       "      <th>4220</th>\n",
       "      <td>a76ea1ec728632135e72fc76c27a7fa9</td>\n",
       "      <td>a76ea1ec728632135e72fc76c27a7fa9</td>\n",
       "      <td>0</td>\n",
       "      <td>-1</td>\n",
       "      <td>-</td>\n",
       "      <td>-</td>\n",
       "    </tr>\n",
       "    <tr>\n",
       "      <th>7663</th>\n",
       "      <td>e3dc2ec24a07c8de52051cea81f2797c</td>\n",
       "      <td>e3dc2ec24a07c8de52051cea81f2797c</td>\n",
       "      <td>0</td>\n",
       "      <td>-1</td>\n",
       "      <td>-</td>\n",
       "      <td>-</td>\n",
       "    </tr>\n",
       "  </tbody>\n",
       "</table>\n",
       "</div>\n",
       "    <div class=\"colab-df-buttons\">\n",
       "\n",
       "  <div class=\"colab-df-container\">\n",
       "    <button class=\"colab-df-convert\" onclick=\"convertToInteractive('df-986f064d-5b86-4faf-903c-3f3735be553a')\"\n",
       "            title=\"Convert this dataframe to an interactive table.\"\n",
       "            style=\"display:none;\">\n",
       "\n",
       "  <svg xmlns=\"http://www.w3.org/2000/svg\" height=\"24px\" viewBox=\"0 -960 960 960\">\n",
       "    <path d=\"M120-120v-720h720v720H120Zm60-500h600v-160H180v160Zm220 220h160v-160H400v160Zm0 220h160v-160H400v160ZM180-400h160v-160H180v160Zm440 0h160v-160H620v160ZM180-180h160v-160H180v160Zm440 0h160v-160H620v160Z\"/>\n",
       "  </svg>\n",
       "    </button>\n",
       "\n",
       "  <style>\n",
       "    .colab-df-container {\n",
       "      display:flex;\n",
       "      gap: 12px;\n",
       "    }\n",
       "\n",
       "    .colab-df-convert {\n",
       "      background-color: #E8F0FE;\n",
       "      border: none;\n",
       "      border-radius: 50%;\n",
       "      cursor: pointer;\n",
       "      display: none;\n",
       "      fill: #1967D2;\n",
       "      height: 32px;\n",
       "      padding: 0 0 0 0;\n",
       "      width: 32px;\n",
       "    }\n",
       "\n",
       "    .colab-df-convert:hover {\n",
       "      background-color: #E2EBFA;\n",
       "      box-shadow: 0px 1px 2px rgba(60, 64, 67, 0.3), 0px 1px 3px 1px rgba(60, 64, 67, 0.15);\n",
       "      fill: #174EA6;\n",
       "    }\n",
       "\n",
       "    .colab-df-buttons div {\n",
       "      margin-bottom: 4px;\n",
       "    }\n",
       "\n",
       "    [theme=dark] .colab-df-convert {\n",
       "      background-color: #3B4455;\n",
       "      fill: #D2E3FC;\n",
       "    }\n",
       "\n",
       "    [theme=dark] .colab-df-convert:hover {\n",
       "      background-color: #434B5C;\n",
       "      box-shadow: 0px 1px 3px 1px rgba(0, 0, 0, 0.15);\n",
       "      filter: drop-shadow(0px 1px 2px rgba(0, 0, 0, 0.3));\n",
       "      fill: #FFFFFF;\n",
       "    }\n",
       "  </style>\n",
       "\n",
       "    <script>\n",
       "      const buttonEl =\n",
       "        document.querySelector('#df-986f064d-5b86-4faf-903c-3f3735be553a button.colab-df-convert');\n",
       "      buttonEl.style.display =\n",
       "        google.colab.kernel.accessAllowed ? 'block' : 'none';\n",
       "\n",
       "      async function convertToInteractive(key) {\n",
       "        const element = document.querySelector('#df-986f064d-5b86-4faf-903c-3f3735be553a');\n",
       "        const dataTable =\n",
       "          await google.colab.kernel.invokeFunction('convertToInteractive',\n",
       "                                                    [key], {});\n",
       "        if (!dataTable) return;\n",
       "\n",
       "        const docLinkHtml = 'Like what you see? Visit the ' +\n",
       "          '<a target=\"_blank\" href=https://colab.research.google.com/notebooks/data_table.ipynb>data table notebook</a>'\n",
       "          + ' to learn more about interactive tables.';\n",
       "        element.innerHTML = '';\n",
       "        dataTable['output_type'] = 'display_data';\n",
       "        await google.colab.output.renderOutput(dataTable, element);\n",
       "        const docLink = document.createElement('div');\n",
       "        docLink.innerHTML = docLinkHtml;\n",
       "        element.appendChild(docLink);\n",
       "      }\n",
       "    </script>\n",
       "  </div>\n",
       "\n",
       "\n",
       "<div id=\"df-6101e190-84e6-44d4-857c-3ed7bf218a25\">\n",
       "  <button class=\"colab-df-quickchart\" onclick=\"quickchart('df-6101e190-84e6-44d4-857c-3ed7bf218a25')\"\n",
       "            title=\"Suggest charts.\"\n",
       "            style=\"display:none;\">\n",
       "\n",
       "<svg xmlns=\"http://www.w3.org/2000/svg\" height=\"24px\"viewBox=\"0 0 24 24\"\n",
       "     width=\"24px\">\n",
       "    <g>\n",
       "        <path d=\"M19 3H5c-1.1 0-2 .9-2 2v14c0 1.1.9 2 2 2h14c1.1 0 2-.9 2-2V5c0-1.1-.9-2-2-2zM9 17H7v-7h2v7zm4 0h-2V7h2v10zm4 0h-2v-4h2v4z\"/>\n",
       "    </g>\n",
       "</svg>\n",
       "  </button>\n",
       "\n",
       "<style>\n",
       "  .colab-df-quickchart {\n",
       "      --bg-color: #E8F0FE;\n",
       "      --fill-color: #1967D2;\n",
       "      --hover-bg-color: #E2EBFA;\n",
       "      --hover-fill-color: #174EA6;\n",
       "      --disabled-fill-color: #AAA;\n",
       "      --disabled-bg-color: #DDD;\n",
       "  }\n",
       "\n",
       "  [theme=dark] .colab-df-quickchart {\n",
       "      --bg-color: #3B4455;\n",
       "      --fill-color: #D2E3FC;\n",
       "      --hover-bg-color: #434B5C;\n",
       "      --hover-fill-color: #FFFFFF;\n",
       "      --disabled-bg-color: #3B4455;\n",
       "      --disabled-fill-color: #666;\n",
       "  }\n",
       "\n",
       "  .colab-df-quickchart {\n",
       "    background-color: var(--bg-color);\n",
       "    border: none;\n",
       "    border-radius: 50%;\n",
       "    cursor: pointer;\n",
       "    display: none;\n",
       "    fill: var(--fill-color);\n",
       "    height: 32px;\n",
       "    padding: 0;\n",
       "    width: 32px;\n",
       "  }\n",
       "\n",
       "  .colab-df-quickchart:hover {\n",
       "    background-color: var(--hover-bg-color);\n",
       "    box-shadow: 0 1px 2px rgba(60, 64, 67, 0.3), 0 1px 3px 1px rgba(60, 64, 67, 0.15);\n",
       "    fill: var(--button-hover-fill-color);\n",
       "  }\n",
       "\n",
       "  .colab-df-quickchart-complete:disabled,\n",
       "  .colab-df-quickchart-complete:disabled:hover {\n",
       "    background-color: var(--disabled-bg-color);\n",
       "    fill: var(--disabled-fill-color);\n",
       "    box-shadow: none;\n",
       "  }\n",
       "\n",
       "  .colab-df-spinner {\n",
       "    border: 2px solid var(--fill-color);\n",
       "    border-color: transparent;\n",
       "    border-bottom-color: var(--fill-color);\n",
       "    animation:\n",
       "      spin 1s steps(1) infinite;\n",
       "  }\n",
       "\n",
       "  @keyframes spin {\n",
       "    0% {\n",
       "      border-color: transparent;\n",
       "      border-bottom-color: var(--fill-color);\n",
       "      border-left-color: var(--fill-color);\n",
       "    }\n",
       "    20% {\n",
       "      border-color: transparent;\n",
       "      border-left-color: var(--fill-color);\n",
       "      border-top-color: var(--fill-color);\n",
       "    }\n",
       "    30% {\n",
       "      border-color: transparent;\n",
       "      border-left-color: var(--fill-color);\n",
       "      border-top-color: var(--fill-color);\n",
       "      border-right-color: var(--fill-color);\n",
       "    }\n",
       "    40% {\n",
       "      border-color: transparent;\n",
       "      border-right-color: var(--fill-color);\n",
       "      border-top-color: var(--fill-color);\n",
       "    }\n",
       "    60% {\n",
       "      border-color: transparent;\n",
       "      border-right-color: var(--fill-color);\n",
       "    }\n",
       "    80% {\n",
       "      border-color: transparent;\n",
       "      border-right-color: var(--fill-color);\n",
       "      border-bottom-color: var(--fill-color);\n",
       "    }\n",
       "    90% {\n",
       "      border-color: transparent;\n",
       "      border-bottom-color: var(--fill-color);\n",
       "    }\n",
       "  }\n",
       "</style>\n",
       "\n",
       "  <script>\n",
       "    async function quickchart(key) {\n",
       "      const quickchartButtonEl =\n",
       "        document.querySelector('#' + key + ' button');\n",
       "      quickchartButtonEl.disabled = true;  // To prevent multiple clicks.\n",
       "      quickchartButtonEl.classList.add('colab-df-spinner');\n",
       "      try {\n",
       "        const charts = await google.colab.kernel.invokeFunction(\n",
       "            'suggestCharts', [key], {});\n",
       "      } catch (error) {\n",
       "        console.error('Error during call to suggestCharts:', error);\n",
       "      }\n",
       "      quickchartButtonEl.classList.remove('colab-df-spinner');\n",
       "      quickchartButtonEl.classList.add('colab-df-quickchart-complete');\n",
       "    }\n",
       "    (() => {\n",
       "      let quickchartButtonEl =\n",
       "        document.querySelector('#df-6101e190-84e6-44d4-857c-3ed7bf218a25 button');\n",
       "      quickchartButtonEl.style.display =\n",
       "        google.colab.kernel.accessAllowed ? 'block' : 'none';\n",
       "    })();\n",
       "  </script>\n",
       "</div>\n",
       "    </div>\n",
       "  </div>\n"
      ],
      "text/plain": [
       "                     original_track_id                          track_id  \\\n",
       "9772  1b20046d1401fad20997960f00c2e2b2  1b20046d1401fad20997960f00c2e2b2   \n",
       "9760  10c31ae14820dabb1205f8cf646360b4  10c31ae14820dabb1205f8cf646360b4   \n",
       "1522  951edd96627f47b783716a54d2368d7b  951edd96627f47b783716a54d2368d7b   \n",
       "4220  a76ea1ec728632135e72fc76c27a7fa9  a76ea1ec728632135e72fc76c27a7fa9   \n",
       "7663  e3dc2ec24a07c8de52051cea81f2797c  e3dc2ec24a07c8de52051cea81f2797c   \n",
       "\n",
       "      track_remake_type  labels target_labels  \\\n",
       "9772                  0      -1             -   \n",
       "9760                  0      -1             -   \n",
       "1522                  0       3    0 ORIGINAL   \n",
       "4220                  0      -1             -   \n",
       "7663                  0      -1             -   \n",
       "\n",
       "                              or_tr_ID  \n",
       "9772                                 -  \n",
       "9760                                 -  \n",
       "1522  951edd96627f47b783716a54d2368d7b  \n",
       "4220                                 -  \n",
       "7663                                 -  "
      ]
     },
     "execution_count": 114,
     "metadata": {},
     "output_type": "execute_result"
    }
   ],
   "source": [
    "orig = df_kl[df_kl['original_track_id'].notnull()]\n",
    "orig.head(5)"
   ]
  },
  {
   "cell_type": "code",
   "execution_count": null,
   "id": "jF_or776mvjV",
   "metadata": {
    "colab": {
     "base_uri": "https://localhost:8080/"
    },
    "id": "jF_or776mvjV",
    "outputId": "171602d6-c065-40dd-9e0d-6c6c6fed1b0f"
   },
   "outputs": [
    {
     "data": {
      "text/plain": [
       "False    2069\n",
       "True      753\n",
       "dtype: int64"
      ]
     },
     "execution_count": 115,
     "metadata": {},
     "output_type": "execute_result"
    }
   ],
   "source": [
    "# количество правильно определенных original_track_id\t(26,7%) в численности original_track_id - 2822\n",
    "(orig['original_track_id'] == orig['or_tr_ID']).value_counts()"
   ]
  },
  {
   "cell_type": "markdown",
   "id": "d2iE5OQGuH5a",
   "metadata": {
    "id": "d2iE5OQGuH5a"
   },
   "source": [
    "Для лучших результатов следует попробовать поменять параметры кластеризаци: eps - радиус окрестности для определения плотности  min_samples - минимальное количество соседей (сейчас эти значения (0.3, 2))"
   ]
  },
  {
   "cell_type": "markdown",
   "id": "btDBDjrIewxf",
   "metadata": {
    "id": "btDBDjrIewxf"
   },
   "source": [
    "Вывод:\n",
    "- для кластеризации данных применена библиотека DBSCAN\n",
    "- положительных результатов пока не удалось добиться"
   ]
  },
  {
   "cell_type": "markdown",
   "id": "rOVoq0i7d0uz",
   "metadata": {
    "id": "rOVoq0i7d0uz"
   },
   "source": [
    "## Заключение:\n",
    "- в решении поставленной задачи основными признаками приняты текст и дата появления трека\n",
    "- целевой метрикой выбрана roc-auc, т.к. она устойчива к дисбалансу классов, который присущ предоставленным данным\n",
    "- при кодировании текстов использованы два трансформера: SentenceTransformer, Bert transformer\n",
    "- для обучения использовались признаки: дата выхода трека, эмбеддинги\n",
    "- целевой признак - метка оригинал/кавер\n",
    "- удалённые признаки:\n",
    "  - ID треков и текстов (чтобы модель была более универсальной)\n",
    "  - текст - удалён, т.к. есть его эмбеддинги\n",
    "  - язык, продолжительность, жанр - удалены, т.к. сами по себе данные признаки не информативны для решения поставленной задачи\n",
    "- при обучении выбирали лучшую из моделей: XGBoost, CatBoost, LogisticRegression\n",
    "- наилучший результат по выбранной метрике показала модель: CatBoost на эмбеддингах, полученных через Bert Transformer\n",
    "- не реализованные идеи:\n",
    "  - пробовали использовать библиотеку MusicMetaLinker для обогащения предоставленных данных, но для полноценного использования не хватило отведённого времени\n",
    "  - рассматривали алгоритм Doc2Vec, для полноценного изучения не хватило времени\n",
    "  - кластеризация данных библиотекой DBScan, для полноценного изучения не хватило времени"
   ]
  }
 ],
 "metadata": {
  "accelerator": "GPU",
  "colab": {
   "gpuType": "T4",
   "provenance": [],
   "toc_visible": true
  },
  "kernelspec": {
   "display_name": "Python 3 (ipykernel)",
   "language": "python",
   "name": "python3"
  },
  "language_info": {
   "codemirror_mode": {
    "name": "ipython",
    "version": 3
   },
   "file_extension": ".py",
   "mimetype": "text/x-python",
   "name": "python",
   "nbconvert_exporter": "python",
   "pygments_lexer": "ipython3",
   "version": "3.10.12"
  },
  "widgets": {
   "application/vnd.jupyter.widget-state+json": {
    "0449ca52f3854f908f4a1ba2f5d1d802": {
     "model_module": "@jupyter-widgets/controls",
     "model_module_version": "1.5.0",
     "model_name": "ProgressStyleModel",
     "state": {
      "_model_module": "@jupyter-widgets/controls",
      "_model_module_version": "1.5.0",
      "_model_name": "ProgressStyleModel",
      "_view_count": null,
      "_view_module": "@jupyter-widgets/base",
      "_view_module_version": "1.2.0",
      "_view_name": "StyleView",
      "bar_color": null,
      "description_width": ""
     }
    },
    "04d6763c4b1b4a839f79e252fbb7d8a1": {
     "model_module": "@jupyter-widgets/base",
     "model_module_version": "1.2.0",
     "model_name": "LayoutModel",
     "state": {
      "_model_module": "@jupyter-widgets/base",
      "_model_module_version": "1.2.0",
      "_model_name": "LayoutModel",
      "_view_count": null,
      "_view_module": "@jupyter-widgets/base",
      "_view_module_version": "1.2.0",
      "_view_name": "LayoutView",
      "align_content": null,
      "align_items": null,
      "align_self": null,
      "border": null,
      "bottom": null,
      "display": null,
      "flex": null,
      "flex_flow": null,
      "grid_area": null,
      "grid_auto_columns": null,
      "grid_auto_flow": null,
      "grid_auto_rows": null,
      "grid_column": null,
      "grid_gap": null,
      "grid_row": null,
      "grid_template_areas": null,
      "grid_template_columns": null,
      "grid_template_rows": null,
      "height": null,
      "justify_content": null,
      "justify_items": null,
      "left": null,
      "margin": null,
      "max_height": null,
      "max_width": null,
      "min_height": null,
      "min_width": null,
      "object_fit": null,
      "object_position": null,
      "order": null,
      "overflow": null,
      "overflow_x": null,
      "overflow_y": null,
      "padding": null,
      "right": null,
      "top": null,
      "visibility": null,
      "width": null
     }
    },
    "058d0ad44dc1493fb6ee1199350994d7": {
     "model_module": "@jupyter-widgets/controls",
     "model_module_version": "1.5.0",
     "model_name": "FloatProgressModel",
     "state": {
      "_dom_classes": [],
      "_model_module": "@jupyter-widgets/controls",
      "_model_module_version": "1.5.0",
      "_model_name": "FloatProgressModel",
      "_view_count": null,
      "_view_module": "@jupyter-widgets/controls",
      "_view_module_version": "1.5.0",
      "_view_name": "ProgressView",
      "bar_style": "success",
      "description": "",
      "description_tooltip": null,
      "layout": "IPY_MODEL_436c79b7f9574bc6a944ec4156ee0670",
      "max": 411,
      "min": 0,
      "orientation": "horizontal",
      "style": "IPY_MODEL_fe6f69734ac74910963fec8c027f7afc",
      "value": 411
     }
    },
    "08e5509b86284e90b0e3aaa3df2a327f": {
     "model_module": "@jupyter-widgets/controls",
     "model_module_version": "1.5.0",
     "model_name": "FloatProgressModel",
     "state": {
      "_dom_classes": [],
      "_model_module": "@jupyter-widgets/controls",
      "_model_module_version": "1.5.0",
      "_model_name": "FloatProgressModel",
      "_view_count": null,
      "_view_module": "@jupyter-widgets/controls",
      "_view_module_version": "1.5.0",
      "_view_name": "ProgressView",
      "bar_style": "success",
      "description": "",
      "description_tooltip": null,
      "layout": "IPY_MODEL_dbc2a7cbc7c44fd48635f2c76d250b40",
      "max": 190,
      "min": 0,
      "orientation": "horizontal",
      "style": "IPY_MODEL_359b1f71ed3348ee8f63812300ea5514",
      "value": 190
     }
    },
    "0a3790018df047a59696bc0890935ea9": {
     "model_module": "@jupyter-widgets/base",
     "model_module_version": "1.2.0",
     "model_name": "LayoutModel",
     "state": {
      "_model_module": "@jupyter-widgets/base",
      "_model_module_version": "1.2.0",
      "_model_name": "LayoutModel",
      "_view_count": null,
      "_view_module": "@jupyter-widgets/base",
      "_view_module_version": "1.2.0",
      "_view_name": "LayoutView",
      "align_content": null,
      "align_items": null,
      "align_self": null,
      "border": null,
      "bottom": null,
      "display": null,
      "flex": null,
      "flex_flow": null,
      "grid_area": null,
      "grid_auto_columns": null,
      "grid_auto_flow": null,
      "grid_auto_rows": null,
      "grid_column": null,
      "grid_gap": null,
      "grid_row": null,
      "grid_template_areas": null,
      "grid_template_columns": null,
      "grid_template_rows": null,
      "height": null,
      "justify_content": null,
      "justify_items": null,
      "left": null,
      "margin": null,
      "max_height": null,
      "max_width": null,
      "min_height": null,
      "min_width": null,
      "object_fit": null,
      "object_position": null,
      "order": null,
      "overflow": null,
      "overflow_x": null,
      "overflow_y": null,
      "padding": null,
      "right": null,
      "top": null,
      "visibility": null,
      "width": null
     }
    },
    "0a408a0a85e24692b2055c6e771ebdf3": {
     "model_module": "@jupyter-widgets/base",
     "model_module_version": "1.2.0",
     "model_name": "LayoutModel",
     "state": {
      "_model_module": "@jupyter-widgets/base",
      "_model_module_version": "1.2.0",
      "_model_name": "LayoutModel",
      "_view_count": null,
      "_view_module": "@jupyter-widgets/base",
      "_view_module_version": "1.2.0",
      "_view_name": "LayoutView",
      "align_content": null,
      "align_items": null,
      "align_self": null,
      "border": null,
      "bottom": null,
      "display": null,
      "flex": null,
      "flex_flow": null,
      "grid_area": null,
      "grid_auto_columns": null,
      "grid_auto_flow": null,
      "grid_auto_rows": null,
      "grid_column": null,
      "grid_gap": null,
      "grid_row": null,
      "grid_template_areas": null,
      "grid_template_columns": null,
      "grid_template_rows": null,
      "height": null,
      "justify_content": null,
      "justify_items": null,
      "left": null,
      "margin": null,
      "max_height": null,
      "max_width": null,
      "min_height": null,
      "min_width": null,
      "object_fit": null,
      "object_position": null,
      "order": null,
      "overflow": null,
      "overflow_x": null,
      "overflow_y": null,
      "padding": null,
      "right": null,
      "top": null,
      "visibility": null,
      "width": null
     }
    },
    "0bf4029ae67849ddab34eb676e683493": {
     "model_module": "@jupyter-widgets/controls",
     "model_module_version": "1.5.0",
     "model_name": "HTMLModel",
     "state": {
      "_dom_classes": [],
      "_model_module": "@jupyter-widgets/controls",
      "_model_module_version": "1.5.0",
      "_model_name": "HTMLModel",
      "_view_count": null,
      "_view_module": "@jupyter-widgets/controls",
      "_view_module_version": "1.5.0",
      "_view_name": "HTMLView",
      "description": "",
      "description_tooltip": null,
      "layout": "IPY_MODEL_901c4cd2966841838413a20f05393ead",
      "placeholder": "​",
      "style": "IPY_MODEL_b3d343b7221543a3bba77150e4ab257b",
      "value": " 2.19k/2.19k [00:00&lt;00:00, 103kB/s]"
     }
    },
    "0ce91961f92943b9b00d7da96ee5aa8a": {
     "model_module": "@jupyter-widgets/base",
     "model_module_version": "1.2.0",
     "model_name": "LayoutModel",
     "state": {
      "_model_module": "@jupyter-widgets/base",
      "_model_module_version": "1.2.0",
      "_model_name": "LayoutModel",
      "_view_count": null,
      "_view_module": "@jupyter-widgets/base",
      "_view_module_version": "1.2.0",
      "_view_name": "LayoutView",
      "align_content": null,
      "align_items": null,
      "align_self": null,
      "border": null,
      "bottom": null,
      "display": null,
      "flex": null,
      "flex_flow": null,
      "grid_area": null,
      "grid_auto_columns": null,
      "grid_auto_flow": null,
      "grid_auto_rows": null,
      "grid_column": null,
      "grid_gap": null,
      "grid_row": null,
      "grid_template_areas": null,
      "grid_template_columns": null,
      "grid_template_rows": null,
      "height": null,
      "justify_content": null,
      "justify_items": null,
      "left": null,
      "margin": null,
      "max_height": null,
      "max_width": null,
      "min_height": null,
      "min_width": null,
      "object_fit": null,
      "object_position": null,
      "order": null,
      "overflow": null,
      "overflow_x": null,
      "overflow_y": null,
      "padding": null,
      "right": null,
      "top": null,
      "visibility": null,
      "width": null
     }
    },
    "0e4a4f75acf6447fb8a676eb37ca0870": {
     "model_module": "@jupyter-widgets/controls",
     "model_module_version": "1.5.0",
     "model_name": "HBoxModel",
     "state": {
      "_dom_classes": [],
      "_model_module": "@jupyter-widgets/controls",
      "_model_module_version": "1.5.0",
      "_model_name": "HBoxModel",
      "_view_count": null,
      "_view_module": "@jupyter-widgets/controls",
      "_view_module_version": "1.5.0",
      "_view_name": "HBoxView",
      "box_style": "",
      "children": [
       "IPY_MODEL_8b95329afac644ce8b1280de59c8fbfc",
       "IPY_MODEL_eaeb5f3b830c4d45af8ef914f19d02f0",
       "IPY_MODEL_ae767f2ec1304fbc994f619fcddce3b8"
      ],
      "layout": "IPY_MODEL_ae9c1b9c476c4e9a84b9c7ce7bcf8b3b"
     }
    },
    "0eb87482e4054e9bb7adc5d654b5e34c": {
     "model_module": "@jupyter-widgets/base",
     "model_module_version": "1.2.0",
     "model_name": "LayoutModel",
     "state": {
      "_model_module": "@jupyter-widgets/base",
      "_model_module_version": "1.2.0",
      "_model_name": "LayoutModel",
      "_view_count": null,
      "_view_module": "@jupyter-widgets/base",
      "_view_module_version": "1.2.0",
      "_view_name": "LayoutView",
      "align_content": null,
      "align_items": null,
      "align_self": null,
      "border": null,
      "bottom": null,
      "display": null,
      "flex": null,
      "flex_flow": null,
      "grid_area": null,
      "grid_auto_columns": null,
      "grid_auto_flow": null,
      "grid_auto_rows": null,
      "grid_column": null,
      "grid_gap": null,
      "grid_row": null,
      "grid_template_areas": null,
      "grid_template_columns": null,
      "grid_template_rows": null,
      "height": null,
      "justify_content": null,
      "justify_items": null,
      "left": null,
      "margin": null,
      "max_height": null,
      "max_width": null,
      "min_height": null,
      "min_width": null,
      "object_fit": null,
      "object_position": null,
      "order": null,
      "overflow": null,
      "overflow_x": null,
      "overflow_y": null,
      "padding": null,
      "right": null,
      "top": null,
      "visibility": null,
      "width": null
     }
    },
    "10a9d8e3f6294ec9a3a3fb9d35317e87": {
     "model_module": "@jupyter-widgets/controls",
     "model_module_version": "1.5.0",
     "model_name": "HBoxModel",
     "state": {
      "_dom_classes": [],
      "_model_module": "@jupyter-widgets/controls",
      "_model_module_version": "1.5.0",
      "_model_name": "HBoxModel",
      "_view_count": null,
      "_view_module": "@jupyter-widgets/controls",
      "_view_module_version": "1.5.0",
      "_view_name": "HBoxView",
      "box_style": "",
      "children": [
       "IPY_MODEL_2265e723f8fa444a8a572ba5d864b5e8",
       "IPY_MODEL_08e5509b86284e90b0e3aaa3df2a327f",
       "IPY_MODEL_79b44fb0bb544b10b2da0dfd62b6135b"
      ],
      "layout": "IPY_MODEL_2d62947fa1694782955b6acb95b73c02"
     }
    },
    "13ee4e64ae394d84a7485256de4f609b": {
     "model_module": "@jupyter-widgets/controls",
     "model_module_version": "1.5.0",
     "model_name": "HBoxModel",
     "state": {
      "_dom_classes": [],
      "_model_module": "@jupyter-widgets/controls",
      "_model_module_version": "1.5.0",
      "_model_name": "HBoxModel",
      "_view_count": null,
      "_view_module": "@jupyter-widgets/controls",
      "_view_module_version": "1.5.0",
      "_view_name": "HBoxView",
      "box_style": "",
      "children": [
       "IPY_MODEL_3774dd8b74034a29b59fca1194ebbd72",
       "IPY_MODEL_a7d6de66bb984a12923be4e1d8b4af21",
       "IPY_MODEL_74e66723ae194c159cae8ea54b270755"
      ],
      "layout": "IPY_MODEL_a5c1633f66e84d838ee573c595e5f282"
     }
    },
    "1854cd3ae3fd4e8f9b1a3b23ccbf64cf": {
     "model_module": "@jupyter-widgets/base",
     "model_module_version": "1.2.0",
     "model_name": "LayoutModel",
     "state": {
      "_model_module": "@jupyter-widgets/base",
      "_model_module_version": "1.2.0",
      "_model_name": "LayoutModel",
      "_view_count": null,
      "_view_module": "@jupyter-widgets/base",
      "_view_module_version": "1.2.0",
      "_view_name": "LayoutView",
      "align_content": null,
      "align_items": null,
      "align_self": null,
      "border": null,
      "bottom": null,
      "display": null,
      "flex": null,
      "flex_flow": null,
      "grid_area": null,
      "grid_auto_columns": null,
      "grid_auto_flow": null,
      "grid_auto_rows": null,
      "grid_column": null,
      "grid_gap": null,
      "grid_row": null,
      "grid_template_areas": null,
      "grid_template_columns": null,
      "grid_template_rows": null,
      "height": null,
      "justify_content": null,
      "justify_items": null,
      "left": null,
      "margin": null,
      "max_height": null,
      "max_width": null,
      "min_height": null,
      "min_width": null,
      "object_fit": null,
      "object_position": null,
      "order": null,
      "overflow": null,
      "overflow_x": null,
      "overflow_y": null,
      "padding": null,
      "right": null,
      "top": null,
      "visibility": null,
      "width": null
     }
    },
    "185d26caba454994a829b9aee5a9efb4": {
     "model_module": "@jupyter-widgets/controls",
     "model_module_version": "1.5.0",
     "model_name": "HTMLModel",
     "state": {
      "_dom_classes": [],
      "_model_module": "@jupyter-widgets/controls",
      "_model_module_version": "1.5.0",
      "_model_name": "HTMLModel",
      "_view_count": null,
      "_view_module": "@jupyter-widgets/controls",
      "_view_module_version": "1.5.0",
      "_view_name": "HTMLView",
      "description": "",
      "description_tooltip": null,
      "layout": "IPY_MODEL_0a408a0a85e24692b2055c6e771ebdf3",
      "placeholder": "​",
      "style": "IPY_MODEL_698da2212e21455889ae43235ce4ffe2",
      "value": " 110/110 [00:02&lt;00:00, 85.76it/s]"
     }
    },
    "188eaca46e124556a080511f21bb8233": {
     "model_module": "@jupyter-widgets/controls",
     "model_module_version": "1.5.0",
     "model_name": "DescriptionStyleModel",
     "state": {
      "_model_module": "@jupyter-widgets/controls",
      "_model_module_version": "1.5.0",
      "_model_name": "DescriptionStyleModel",
      "_view_count": null,
      "_view_module": "@jupyter-widgets/base",
      "_view_module_version": "1.2.0",
      "_view_name": "StyleView",
      "description_width": ""
     }
    },
    "18d37c317ec54e1ba7cb99378ef6a475": {
     "model_module": "@jupyter-widgets/base",
     "model_module_version": "1.2.0",
     "model_name": "LayoutModel",
     "state": {
      "_model_module": "@jupyter-widgets/base",
      "_model_module_version": "1.2.0",
      "_model_name": "LayoutModel",
      "_view_count": null,
      "_view_module": "@jupyter-widgets/base",
      "_view_module_version": "1.2.0",
      "_view_name": "LayoutView",
      "align_content": null,
      "align_items": null,
      "align_self": null,
      "border": null,
      "bottom": null,
      "display": null,
      "flex": null,
      "flex_flow": null,
      "grid_area": null,
      "grid_auto_columns": null,
      "grid_auto_flow": null,
      "grid_auto_rows": null,
      "grid_column": null,
      "grid_gap": null,
      "grid_row": null,
      "grid_template_areas": null,
      "grid_template_columns": null,
      "grid_template_rows": null,
      "height": null,
      "justify_content": null,
      "justify_items": null,
      "left": null,
      "margin": null,
      "max_height": null,
      "max_width": null,
      "min_height": null,
      "min_width": null,
      "object_fit": null,
      "object_position": null,
      "order": null,
      "overflow": null,
      "overflow_x": null,
      "overflow_y": null,
      "padding": null,
      "right": null,
      "top": null,
      "visibility": null,
      "width": null
     }
    },
    "19d8f29806b6484797eeceba60e74ba9": {
     "model_module": "@jupyter-widgets/controls",
     "model_module_version": "1.5.0",
     "model_name": "DescriptionStyleModel",
     "state": {
      "_model_module": "@jupyter-widgets/controls",
      "_model_module_version": "1.5.0",
      "_model_name": "DescriptionStyleModel",
      "_view_count": null,
      "_view_module": "@jupyter-widgets/base",
      "_view_module_version": "1.2.0",
      "_view_name": "StyleView",
      "description_width": ""
     }
    },
    "1a7a6030aa9242d6b433fde34bec1b99": {
     "model_module": "@jupyter-widgets/base",
     "model_module_version": "1.2.0",
     "model_name": "LayoutModel",
     "state": {
      "_model_module": "@jupyter-widgets/base",
      "_model_module_version": "1.2.0",
      "_model_name": "LayoutModel",
      "_view_count": null,
      "_view_module": "@jupyter-widgets/base",
      "_view_module_version": "1.2.0",
      "_view_name": "LayoutView",
      "align_content": null,
      "align_items": null,
      "align_self": null,
      "border": null,
      "bottom": null,
      "display": null,
      "flex": null,
      "flex_flow": null,
      "grid_area": null,
      "grid_auto_columns": null,
      "grid_auto_flow": null,
      "grid_auto_rows": null,
      "grid_column": null,
      "grid_gap": null,
      "grid_row": null,
      "grid_template_areas": null,
      "grid_template_columns": null,
      "grid_template_rows": null,
      "height": null,
      "justify_content": null,
      "justify_items": null,
      "left": null,
      "margin": null,
      "max_height": null,
      "max_width": null,
      "min_height": null,
      "min_width": null,
      "object_fit": null,
      "object_position": null,
      "order": null,
      "overflow": null,
      "overflow_x": null,
      "overflow_y": null,
      "padding": null,
      "right": null,
      "top": null,
      "visibility": null,
      "width": null
     }
    },
    "1df46dce2a704347a523c6f9e86de8ec": {
     "model_module": "@jupyter-widgets/base",
     "model_module_version": "1.2.0",
     "model_name": "LayoutModel",
     "state": {
      "_model_module": "@jupyter-widgets/base",
      "_model_module_version": "1.2.0",
      "_model_name": "LayoutModel",
      "_view_count": null,
      "_view_module": "@jupyter-widgets/base",
      "_view_module_version": "1.2.0",
      "_view_name": "LayoutView",
      "align_content": null,
      "align_items": null,
      "align_self": null,
      "border": null,
      "bottom": null,
      "display": null,
      "flex": null,
      "flex_flow": null,
      "grid_area": null,
      "grid_auto_columns": null,
      "grid_auto_flow": null,
      "grid_auto_rows": null,
      "grid_column": null,
      "grid_gap": null,
      "grid_row": null,
      "grid_template_areas": null,
      "grid_template_columns": null,
      "grid_template_rows": null,
      "height": null,
      "justify_content": null,
      "justify_items": null,
      "left": null,
      "margin": null,
      "max_height": null,
      "max_width": null,
      "min_height": null,
      "min_width": null,
      "object_fit": null,
      "object_position": null,
      "order": null,
      "overflow": null,
      "overflow_x": null,
      "overflow_y": null,
      "padding": null,
      "right": null,
      "top": null,
      "visibility": null,
      "width": null
     }
    },
    "1e586dcd46ee455facf98280d55597f6": {
     "model_module": "@jupyter-widgets/controls",
     "model_module_version": "1.5.0",
     "model_name": "DescriptionStyleModel",
     "state": {
      "_model_module": "@jupyter-widgets/controls",
      "_model_module_version": "1.5.0",
      "_model_name": "DescriptionStyleModel",
      "_view_count": null,
      "_view_module": "@jupyter-widgets/base",
      "_view_module_version": "1.2.0",
      "_view_name": "StyleView",
      "description_width": ""
     }
    },
    "201fcfb960fd41e8aff99835f4c01b60": {
     "model_module": "@jupyter-widgets/base",
     "model_module_version": "1.2.0",
     "model_name": "LayoutModel",
     "state": {
      "_model_module": "@jupyter-widgets/base",
      "_model_module_version": "1.2.0",
      "_model_name": "LayoutModel",
      "_view_count": null,
      "_view_module": "@jupyter-widgets/base",
      "_view_module_version": "1.2.0",
      "_view_name": "LayoutView",
      "align_content": null,
      "align_items": null,
      "align_self": null,
      "border": null,
      "bottom": null,
      "display": null,
      "flex": null,
      "flex_flow": null,
      "grid_area": null,
      "grid_auto_columns": null,
      "grid_auto_flow": null,
      "grid_auto_rows": null,
      "grid_column": null,
      "grid_gap": null,
      "grid_row": null,
      "grid_template_areas": null,
      "grid_template_columns": null,
      "grid_template_rows": null,
      "height": null,
      "justify_content": null,
      "justify_items": null,
      "left": null,
      "margin": null,
      "max_height": null,
      "max_width": null,
      "min_height": null,
      "min_width": null,
      "object_fit": null,
      "object_position": null,
      "order": null,
      "overflow": null,
      "overflow_x": null,
      "overflow_y": null,
      "padding": null,
      "right": null,
      "top": null,
      "visibility": null,
      "width": null
     }
    },
    "217126a9fe0c48c2aa0f157cfbfe1987": {
     "model_module": "@jupyter-widgets/base",
     "model_module_version": "1.2.0",
     "model_name": "LayoutModel",
     "state": {
      "_model_module": "@jupyter-widgets/base",
      "_model_module_version": "1.2.0",
      "_model_name": "LayoutModel",
      "_view_count": null,
      "_view_module": "@jupyter-widgets/base",
      "_view_module_version": "1.2.0",
      "_view_name": "LayoutView",
      "align_content": null,
      "align_items": null,
      "align_self": null,
      "border": null,
      "bottom": null,
      "display": null,
      "flex": null,
      "flex_flow": null,
      "grid_area": null,
      "grid_auto_columns": null,
      "grid_auto_flow": null,
      "grid_auto_rows": null,
      "grid_column": null,
      "grid_gap": null,
      "grid_row": null,
      "grid_template_areas": null,
      "grid_template_columns": null,
      "grid_template_rows": null,
      "height": null,
      "justify_content": null,
      "justify_items": null,
      "left": null,
      "margin": null,
      "max_height": null,
      "max_width": null,
      "min_height": null,
      "min_width": null,
      "object_fit": null,
      "object_position": null,
      "order": null,
      "overflow": null,
      "overflow_x": null,
      "overflow_y": null,
      "padding": null,
      "right": null,
      "top": null,
      "visibility": null,
      "width": null
     }
    },
    "2265e723f8fa444a8a572ba5d864b5e8": {
     "model_module": "@jupyter-widgets/controls",
     "model_module_version": "1.5.0",
     "model_name": "HTMLModel",
     "state": {
      "_dom_classes": [],
      "_model_module": "@jupyter-widgets/controls",
      "_model_module_version": "1.5.0",
      "_model_name": "HTMLModel",
      "_view_count": null,
      "_view_module": "@jupyter-widgets/controls",
      "_view_module_version": "1.5.0",
      "_view_name": "HTMLView",
      "description": "",
      "description_tooltip": null,
      "layout": "IPY_MODEL_8232c0beb73641b395e26e1f29e58e31",
      "placeholder": "​",
      "style": "IPY_MODEL_4e84c85fbf844e98bb79ada8ac00da8b",
      "value": "(…)2fd5076498a46051dd/1_Pooling/config.json: 100%"
     }
    },
    "24a612fe443b4eb08dc96aed2352d202": {
     "model_module": "@jupyter-widgets/base",
     "model_module_version": "1.2.0",
     "model_name": "LayoutModel",
     "state": {
      "_model_module": "@jupyter-widgets/base",
      "_model_module_version": "1.2.0",
      "_model_name": "LayoutModel",
      "_view_count": null,
      "_view_module": "@jupyter-widgets/base",
      "_view_module_version": "1.2.0",
      "_view_name": "LayoutView",
      "align_content": null,
      "align_items": null,
      "align_self": null,
      "border": null,
      "bottom": null,
      "display": null,
      "flex": null,
      "flex_flow": null,
      "grid_area": null,
      "grid_auto_columns": null,
      "grid_auto_flow": null,
      "grid_auto_rows": null,
      "grid_column": null,
      "grid_gap": null,
      "grid_row": null,
      "grid_template_areas": null,
      "grid_template_columns": null,
      "grid_template_rows": null,
      "height": null,
      "justify_content": null,
      "justify_items": null,
      "left": null,
      "margin": null,
      "max_height": null,
      "max_width": null,
      "min_height": null,
      "min_width": null,
      "object_fit": null,
      "object_position": null,
      "order": null,
      "overflow": null,
      "overflow_x": null,
      "overflow_y": null,
      "padding": null,
      "right": null,
      "top": null,
      "visibility": null,
      "width": null
     }
    },
    "27b0cc982f384bb88cd43c245ef7137c": {
     "model_module": "@jupyter-widgets/base",
     "model_module_version": "1.2.0",
     "model_name": "LayoutModel",
     "state": {
      "_model_module": "@jupyter-widgets/base",
      "_model_module_version": "1.2.0",
      "_model_name": "LayoutModel",
      "_view_count": null,
      "_view_module": "@jupyter-widgets/base",
      "_view_module_version": "1.2.0",
      "_view_name": "LayoutView",
      "align_content": null,
      "align_items": null,
      "align_self": null,
      "border": null,
      "bottom": null,
      "display": null,
      "flex": null,
      "flex_flow": null,
      "grid_area": null,
      "grid_auto_columns": null,
      "grid_auto_flow": null,
      "grid_auto_rows": null,
      "grid_column": null,
      "grid_gap": null,
      "grid_row": null,
      "grid_template_areas": null,
      "grid_template_columns": null,
      "grid_template_rows": null,
      "height": null,
      "justify_content": null,
      "justify_items": null,
      "left": null,
      "margin": null,
      "max_height": null,
      "max_width": null,
      "min_height": null,
      "min_width": null,
      "object_fit": null,
      "object_position": null,
      "order": null,
      "overflow": null,
      "overflow_x": null,
      "overflow_y": null,
      "padding": null,
      "right": null,
      "top": null,
      "visibility": null,
      "width": null
     }
    },
    "28a59416dd8a4cf99b17a59c9863a33a": {
     "model_module": "@jupyter-widgets/controls",
     "model_module_version": "1.5.0",
     "model_name": "DescriptionStyleModel",
     "state": {
      "_model_module": "@jupyter-widgets/controls",
      "_model_module_version": "1.5.0",
      "_model_name": "DescriptionStyleModel",
      "_view_count": null,
      "_view_module": "@jupyter-widgets/base",
      "_view_module_version": "1.2.0",
      "_view_name": "StyleView",
      "description_width": ""
     }
    },
    "2b3e8ca930854687aba998cccdbeddb7": {
     "model_module": "@jupyter-widgets/controls",
     "model_module_version": "1.5.0",
     "model_name": "ProgressStyleModel",
     "state": {
      "_model_module": "@jupyter-widgets/controls",
      "_model_module_version": "1.5.0",
      "_model_name": "ProgressStyleModel",
      "_view_count": null,
      "_view_module": "@jupyter-widgets/base",
      "_view_module_version": "1.2.0",
      "_view_name": "StyleView",
      "bar_color": null,
      "description_width": ""
     }
    },
    "2ccf0192fb544cefbf12f2aa434132a1": {
     "model_module": "@jupyter-widgets/controls",
     "model_module_version": "1.5.0",
     "model_name": "HBoxModel",
     "state": {
      "_dom_classes": [],
      "_model_module": "@jupyter-widgets/controls",
      "_model_module_version": "1.5.0",
      "_model_name": "HBoxModel",
      "_view_count": null,
      "_view_module": "@jupyter-widgets/controls",
      "_view_module_version": "1.5.0",
      "_view_name": "HBoxView",
      "box_style": "",
      "children": [
       "IPY_MODEL_7de397fd2beb4a0baf1f261085d72a05",
       "IPY_MODEL_8e07c2f993234f00b82f127b534f9aa0",
       "IPY_MODEL_ef4611a52318459997ddf146b47460df"
      ],
      "layout": "IPY_MODEL_8ca8f03576904e039f26bd76d0170704"
     }
    },
    "2d62947fa1694782955b6acb95b73c02": {
     "model_module": "@jupyter-widgets/base",
     "model_module_version": "1.2.0",
     "model_name": "LayoutModel",
     "state": {
      "_model_module": "@jupyter-widgets/base",
      "_model_module_version": "1.2.0",
      "_model_name": "LayoutModel",
      "_view_count": null,
      "_view_module": "@jupyter-widgets/base",
      "_view_module_version": "1.2.0",
      "_view_name": "LayoutView",
      "align_content": null,
      "align_items": null,
      "align_self": null,
      "border": null,
      "bottom": null,
      "display": null,
      "flex": null,
      "flex_flow": null,
      "grid_area": null,
      "grid_auto_columns": null,
      "grid_auto_flow": null,
      "grid_auto_rows": null,
      "grid_column": null,
      "grid_gap": null,
      "grid_row": null,
      "grid_template_areas": null,
      "grid_template_columns": null,
      "grid_template_rows": null,
      "height": null,
      "justify_content": null,
      "justify_items": null,
      "left": null,
      "margin": null,
      "max_height": null,
      "max_width": null,
      "min_height": null,
      "min_width": null,
      "object_fit": null,
      "object_position": null,
      "order": null,
      "overflow": null,
      "overflow_x": null,
      "overflow_y": null,
      "padding": null,
      "right": null,
      "top": null,
      "visibility": null,
      "width": null
     }
    },
    "2f83113668104523be4e5ec0c137d7ca": {
     "model_module": "@jupyter-widgets/controls",
     "model_module_version": "1.5.0",
     "model_name": "HTMLModel",
     "state": {
      "_dom_classes": [],
      "_model_module": "@jupyter-widgets/controls",
      "_model_module_version": "1.5.0",
      "_model_name": "HTMLModel",
      "_view_count": null,
      "_view_module": "@jupyter-widgets/controls",
      "_view_module_version": "1.5.0",
      "_view_name": "HTMLView",
      "description": "",
      "description_tooltip": null,
      "layout": "IPY_MODEL_e2277aac1f8344b8a746d50578f58655",
      "placeholder": "​",
      "style": "IPY_MODEL_ed54b851e65b4604abf3974912a178f4",
      "value": " 391/391 [00:00&lt;00:00, 19.9kB/s]"
     }
    },
    "338fcc838b194eeea30a91b46c27569f": {
     "model_module": "@jupyter-widgets/controls",
     "model_module_version": "1.5.0",
     "model_name": "FloatProgressModel",
     "state": {
      "_dom_classes": [],
      "_model_module": "@jupyter-widgets/controls",
      "_model_module_version": "1.5.0",
      "_model_name": "FloatProgressModel",
      "_view_count": null,
      "_view_module": "@jupyter-widgets/controls",
      "_view_module_version": "1.5.0",
      "_view_name": "ProgressView",
      "bar_style": "success",
      "description": "",
      "description_tooltip": null,
      "layout": "IPY_MODEL_92b9866bc5b344fb990c3aabb590702b",
      "max": 53,
      "min": 0,
      "orientation": "horizontal",
      "style": "IPY_MODEL_ccce54687e654611ac087eedde2e21f2",
      "value": 53
     }
    },
    "343e5a9697d54fd986b92bcf6973ffc2": {
     "model_module": "@jupyter-widgets/base",
     "model_module_version": "1.2.0",
     "model_name": "LayoutModel",
     "state": {
      "_model_module": "@jupyter-widgets/base",
      "_model_module_version": "1.2.0",
      "_model_name": "LayoutModel",
      "_view_count": null,
      "_view_module": "@jupyter-widgets/base",
      "_view_module_version": "1.2.0",
      "_view_name": "LayoutView",
      "align_content": null,
      "align_items": null,
      "align_self": null,
      "border": null,
      "bottom": null,
      "display": null,
      "flex": null,
      "flex_flow": null,
      "grid_area": null,
      "grid_auto_columns": null,
      "grid_auto_flow": null,
      "grid_auto_rows": null,
      "grid_column": null,
      "grid_gap": null,
      "grid_row": null,
      "grid_template_areas": null,
      "grid_template_columns": null,
      "grid_template_rows": null,
      "height": null,
      "justify_content": null,
      "justify_items": null,
      "left": null,
      "margin": null,
      "max_height": null,
      "max_width": null,
      "min_height": null,
      "min_width": null,
      "object_fit": null,
      "object_position": null,
      "order": null,
      "overflow": null,
      "overflow_x": null,
      "overflow_y": null,
      "padding": null,
      "right": null,
      "top": null,
      "visibility": null,
      "width": null
     }
    },
    "359b1f71ed3348ee8f63812300ea5514": {
     "model_module": "@jupyter-widgets/controls",
     "model_module_version": "1.5.0",
     "model_name": "ProgressStyleModel",
     "state": {
      "_model_module": "@jupyter-widgets/controls",
      "_model_module_version": "1.5.0",
      "_model_name": "ProgressStyleModel",
      "_view_count": null,
      "_view_module": "@jupyter-widgets/base",
      "_view_module_version": "1.2.0",
      "_view_name": "StyleView",
      "bar_color": null,
      "description_width": ""
     }
    },
    "374e326a4d204266b424de935b7ad697": {
     "model_module": "@jupyter-widgets/controls",
     "model_module_version": "1.5.0",
     "model_name": "DescriptionStyleModel",
     "state": {
      "_model_module": "@jupyter-widgets/controls",
      "_model_module_version": "1.5.0",
      "_model_name": "DescriptionStyleModel",
      "_view_count": null,
      "_view_module": "@jupyter-widgets/base",
      "_view_module_version": "1.2.0",
      "_view_name": "StyleView",
      "description_width": ""
     }
    },
    "376748f72290485b8f789cd3fb4f4af5": {
     "model_module": "@jupyter-widgets/controls",
     "model_module_version": "1.5.0",
     "model_name": "HTMLModel",
     "state": {
      "_dom_classes": [],
      "_model_module": "@jupyter-widgets/controls",
      "_model_module_version": "1.5.0",
      "_model_name": "HTMLModel",
      "_view_count": null,
      "_view_module": "@jupyter-widgets/controls",
      "_view_module_version": "1.5.0",
      "_view_name": "HTMLView",
      "description": "",
      "description_tooltip": null,
      "layout": "IPY_MODEL_b8f13f463dce41db819e2fabd2e0697d",
      "placeholder": "​",
      "style": "IPY_MODEL_f185e754958f49d4bd1cab1f51bd4e5b",
      "value": " 5.22M/5.22M [00:00&lt;00:00, 38.6MB/s]"
     }
    },
    "3774dd8b74034a29b59fca1194ebbd72": {
     "model_module": "@jupyter-widgets/controls",
     "model_module_version": "1.5.0",
     "model_name": "HTMLModel",
     "state": {
      "_dom_classes": [],
      "_model_module": "@jupyter-widgets/controls",
      "_model_module_version": "1.5.0",
      "_model_name": "HTMLModel",
      "_view_count": null,
      "_view_module": "@jupyter-widgets/controls",
      "_view_module_version": "1.5.0",
      "_view_name": "HTMLView",
      "description": "",
      "description_tooltip": null,
      "layout": "IPY_MODEL_343e5a9697d54fd986b92bcf6973ffc2",
      "placeholder": "​",
      "style": "IPY_MODEL_422c773ac1944496acda628bfd76415f",
      "value": "(…)d5076498a46051dd/special_tokens_map.json: 100%"
     }
    },
    "3b7fba78c56c48688eb8ae9897520f1d": {
     "model_module": "@jupyter-widgets/base",
     "model_module_version": "1.2.0",
     "model_name": "LayoutModel",
     "state": {
      "_model_module": "@jupyter-widgets/base",
      "_model_module_version": "1.2.0",
      "_model_name": "LayoutModel",
      "_view_count": null,
      "_view_module": "@jupyter-widgets/base",
      "_view_module_version": "1.2.0",
      "_view_name": "LayoutView",
      "align_content": null,
      "align_items": null,
      "align_self": null,
      "border": null,
      "bottom": null,
      "display": null,
      "flex": null,
      "flex_flow": null,
      "grid_area": null,
      "grid_auto_columns": null,
      "grid_auto_flow": null,
      "grid_auto_rows": null,
      "grid_column": null,
      "grid_gap": null,
      "grid_row": null,
      "grid_template_areas": null,
      "grid_template_columns": null,
      "grid_template_rows": null,
      "height": null,
      "justify_content": null,
      "justify_items": null,
      "left": null,
      "margin": null,
      "max_height": null,
      "max_width": null,
      "min_height": null,
      "min_width": null,
      "object_fit": null,
      "object_position": null,
      "order": null,
      "overflow": null,
      "overflow_x": null,
      "overflow_y": null,
      "padding": null,
      "right": null,
      "top": null,
      "visibility": null,
      "width": null
     }
    },
    "3d56ef8e9bac4a6cbd36555f0a1a49e2": {
     "model_module": "@jupyter-widgets/controls",
     "model_module_version": "1.5.0",
     "model_name": "ProgressStyleModel",
     "state": {
      "_model_module": "@jupyter-widgets/controls",
      "_model_module_version": "1.5.0",
      "_model_name": "ProgressStyleModel",
      "_view_count": null,
      "_view_module": "@jupyter-widgets/base",
      "_view_module_version": "1.2.0",
      "_view_name": "StyleView",
      "bar_color": null,
      "description_width": ""
     }
    },
    "3d7def31c56943d9beb93cc93245a9d0": {
     "model_module": "@jupyter-widgets/controls",
     "model_module_version": "1.5.0",
     "model_name": "HTMLModel",
     "state": {
      "_dom_classes": [],
      "_model_module": "@jupyter-widgets/controls",
      "_model_module_version": "1.5.0",
      "_model_name": "HTMLModel",
      "_view_count": null,
      "_view_module": "@jupyter-widgets/controls",
      "_view_module_version": "1.5.0",
      "_view_name": "HTMLView",
      "description": "",
      "description_tooltip": null,
      "layout": "IPY_MODEL_a26ff67a75d24a5d996e4104937fd7e6",
      "placeholder": "​",
      "style": "IPY_MODEL_f59a8a05790d49678a960d414f0945bb",
      "value": " 122/122 [00:00&lt;00:00, 8.86kB/s]"
     }
    },
    "3d93c97804f54ac394884fef06a48e8c": {
     "model_module": "@jupyter-widgets/base",
     "model_module_version": "1.2.0",
     "model_name": "LayoutModel",
     "state": {
      "_model_module": "@jupyter-widgets/base",
      "_model_module_version": "1.2.0",
      "_model_name": "LayoutModel",
      "_view_count": null,
      "_view_module": "@jupyter-widgets/base",
      "_view_module_version": "1.2.0",
      "_view_name": "LayoutView",
      "align_content": null,
      "align_items": null,
      "align_self": null,
      "border": null,
      "bottom": null,
      "display": null,
      "flex": null,
      "flex_flow": null,
      "grid_area": null,
      "grid_auto_columns": null,
      "grid_auto_flow": null,
      "grid_auto_rows": null,
      "grid_column": null,
      "grid_gap": null,
      "grid_row": null,
      "grid_template_areas": null,
      "grid_template_columns": null,
      "grid_template_rows": null,
      "height": null,
      "justify_content": null,
      "justify_items": null,
      "left": null,
      "margin": null,
      "max_height": null,
      "max_width": null,
      "min_height": null,
      "min_width": null,
      "object_fit": null,
      "object_position": null,
      "order": null,
      "overflow": null,
      "overflow_x": null,
      "overflow_y": null,
      "padding": null,
      "right": null,
      "top": null,
      "visibility": null,
      "width": null
     }
    },
    "3ec6e42fc34b406e9b98d3f286c08fba": {
     "model_module": "@jupyter-widgets/base",
     "model_module_version": "1.2.0",
     "model_name": "LayoutModel",
     "state": {
      "_model_module": "@jupyter-widgets/base",
      "_model_module_version": "1.2.0",
      "_model_name": "LayoutModel",
      "_view_count": null,
      "_view_module": "@jupyter-widgets/base",
      "_view_module_version": "1.2.0",
      "_view_name": "LayoutView",
      "align_content": null,
      "align_items": null,
      "align_self": null,
      "border": null,
      "bottom": null,
      "display": null,
      "flex": null,
      "flex_flow": null,
      "grid_area": null,
      "grid_auto_columns": null,
      "grid_auto_flow": null,
      "grid_auto_rows": null,
      "grid_column": null,
      "grid_gap": null,
      "grid_row": null,
      "grid_template_areas": null,
      "grid_template_columns": null,
      "grid_template_rows": null,
      "height": null,
      "justify_content": null,
      "justify_items": null,
      "left": null,
      "margin": null,
      "max_height": null,
      "max_width": null,
      "min_height": null,
      "min_width": null,
      "object_fit": null,
      "object_position": null,
      "order": null,
      "overflow": null,
      "overflow_x": null,
      "overflow_y": null,
      "padding": null,
      "right": null,
      "top": null,
      "visibility": null,
      "width": null
     }
    },
    "40d2d096a4944efaa023c2216af0bbfc": {
     "model_module": "@jupyter-widgets/controls",
     "model_module_version": "1.5.0",
     "model_name": "ProgressStyleModel",
     "state": {
      "_model_module": "@jupyter-widgets/controls",
      "_model_module_version": "1.5.0",
      "_model_name": "ProgressStyleModel",
      "_view_count": null,
      "_view_module": "@jupyter-widgets/base",
      "_view_module_version": "1.2.0",
      "_view_name": "StyleView",
      "bar_color": null,
      "description_width": ""
     }
    },
    "422c773ac1944496acda628bfd76415f": {
     "model_module": "@jupyter-widgets/controls",
     "model_module_version": "1.5.0",
     "model_name": "DescriptionStyleModel",
     "state": {
      "_model_module": "@jupyter-widgets/controls",
      "_model_module_version": "1.5.0",
      "_model_name": "DescriptionStyleModel",
      "_view_count": null,
      "_view_module": "@jupyter-widgets/base",
      "_view_module_version": "1.2.0",
      "_view_name": "StyleView",
      "description_width": ""
     }
    },
    "4235b6ed80ee4ea2a0eeeac9edfca245": {
     "model_module": "@jupyter-widgets/base",
     "model_module_version": "1.2.0",
     "model_name": "LayoutModel",
     "state": {
      "_model_module": "@jupyter-widgets/base",
      "_model_module_version": "1.2.0",
      "_model_name": "LayoutModel",
      "_view_count": null,
      "_view_module": "@jupyter-widgets/base",
      "_view_module_version": "1.2.0",
      "_view_name": "LayoutView",
      "align_content": null,
      "align_items": null,
      "align_self": null,
      "border": null,
      "bottom": null,
      "display": null,
      "flex": null,
      "flex_flow": null,
      "grid_area": null,
      "grid_auto_columns": null,
      "grid_auto_flow": null,
      "grid_auto_rows": null,
      "grid_column": null,
      "grid_gap": null,
      "grid_row": null,
      "grid_template_areas": null,
      "grid_template_columns": null,
      "grid_template_rows": null,
      "height": null,
      "justify_content": null,
      "justify_items": null,
      "left": null,
      "margin": null,
      "max_height": null,
      "max_width": null,
      "min_height": null,
      "min_width": null,
      "object_fit": null,
      "object_position": null,
      "order": null,
      "overflow": null,
      "overflow_x": null,
      "overflow_y": null,
      "padding": null,
      "right": null,
      "top": null,
      "visibility": null,
      "width": null
     }
    },
    "42dcd8b9dc404eabb2392fef12ac1aa5": {
     "model_module": "@jupyter-widgets/controls",
     "model_module_version": "1.5.0",
     "model_name": "HBoxModel",
     "state": {
      "_dom_classes": [],
      "_model_module": "@jupyter-widgets/controls",
      "_model_module_version": "1.5.0",
      "_model_name": "HBoxModel",
      "_view_count": null,
      "_view_module": "@jupyter-widgets/controls",
      "_view_module_version": "1.5.0",
      "_view_name": "HBoxView",
      "box_style": "",
      "children": [
       "IPY_MODEL_9ff275732c0f43f38b62deceb78cffdd",
       "IPY_MODEL_ecb12230307e44d39a2e692e8a223e24",
       "IPY_MODEL_3d7def31c56943d9beb93cc93245a9d0"
      ],
      "layout": "IPY_MODEL_217126a9fe0c48c2aa0f157cfbfe1987"
     }
    },
    "4324ff44c8d04150a5a8c2677ad1c516": {
     "model_module": "@jupyter-widgets/controls",
     "model_module_version": "1.5.0",
     "model_name": "HTMLModel",
     "state": {
      "_dom_classes": [],
      "_model_module": "@jupyter-widgets/controls",
      "_model_module_version": "1.5.0",
      "_model_name": "HTMLModel",
      "_view_count": null,
      "_view_module": "@jupyter-widgets/controls",
      "_view_module_version": "1.5.0",
      "_view_name": "HTMLView",
      "description": "",
      "description_tooltip": null,
      "layout": "IPY_MODEL_8c3910885ee2446eb06efc817b81c086",
      "placeholder": "​",
      "style": "IPY_MODEL_62ab673ffab54c2f9cf6b034f8038ec8",
      "value": "(…)e3a328db482fd5076498a46051dd/config.json: 100%"
     }
    },
    "433b7ed0e675462e88a51e9da42b9978": {
     "model_module": "@jupyter-widgets/controls",
     "model_module_version": "1.5.0",
     "model_name": "HTMLModel",
     "state": {
      "_dom_classes": [],
      "_model_module": "@jupyter-widgets/controls",
      "_model_module_version": "1.5.0",
      "_model_name": "HTMLModel",
      "_view_count": null,
      "_view_module": "@jupyter-widgets/controls",
      "_view_module_version": "1.5.0",
      "_view_name": "HTMLView",
      "description": "",
      "description_tooltip": null,
      "layout": "IPY_MODEL_510aae57c4694c708c9a712269143ad6",
      "placeholder": "​",
      "style": "IPY_MODEL_5c425af0fb1b4cee9b66cd24961f61ed",
      "value": " 461/461 [00:00&lt;00:00, 30.2kB/s]"
     }
    },
    "4340dd88d1524015bd490bc16cf35bb2": {
     "model_module": "@jupyter-widgets/controls",
     "model_module_version": "1.5.0",
     "model_name": "DescriptionStyleModel",
     "state": {
      "_model_module": "@jupyter-widgets/controls",
      "_model_module_version": "1.5.0",
      "_model_name": "DescriptionStyleModel",
      "_view_count": null,
      "_view_module": "@jupyter-widgets/base",
      "_view_module_version": "1.2.0",
      "_view_name": "StyleView",
      "description_width": ""
     }
    },
    "436c79b7f9574bc6a944ec4156ee0670": {
     "model_module": "@jupyter-widgets/base",
     "model_module_version": "1.2.0",
     "model_name": "LayoutModel",
     "state": {
      "_model_module": "@jupyter-widgets/base",
      "_model_module_version": "1.2.0",
      "_model_name": "LayoutModel",
      "_view_count": null,
      "_view_module": "@jupyter-widgets/base",
      "_view_module_version": "1.2.0",
      "_view_name": "LayoutView",
      "align_content": null,
      "align_items": null,
      "align_self": null,
      "border": null,
      "bottom": null,
      "display": null,
      "flex": null,
      "flex_flow": null,
      "grid_area": null,
      "grid_auto_columns": null,
      "grid_auto_flow": null,
      "grid_auto_rows": null,
      "grid_column": null,
      "grid_gap": null,
      "grid_row": null,
      "grid_template_areas": null,
      "grid_template_columns": null,
      "grid_template_rows": null,
      "height": null,
      "justify_content": null,
      "justify_items": null,
      "left": null,
      "margin": null,
      "max_height": null,
      "max_width": null,
      "min_height": null,
      "min_width": null,
      "object_fit": null,
      "object_position": null,
      "order": null,
      "overflow": null,
      "overflow_x": null,
      "overflow_y": null,
      "padding": null,
      "right": null,
      "top": null,
      "visibility": null,
      "width": null
     }
    },
    "46a1c71ddd3b4d4ebc922aa505a0c76c": {
     "model_module": "@jupyter-widgets/controls",
     "model_module_version": "1.5.0",
     "model_name": "HTMLModel",
     "state": {
      "_dom_classes": [],
      "_model_module": "@jupyter-widgets/controls",
      "_model_module_version": "1.5.0",
      "_model_name": "HTMLModel",
      "_view_count": null,
      "_view_module": "@jupyter-widgets/controls",
      "_view_module_version": "1.5.0",
      "_view_name": "HTMLView",
      "description": "",
      "description_tooltip": null,
      "layout": "IPY_MODEL_3d93c97804f54ac394884fef06a48e8c",
      "placeholder": "​",
      "style": "IPY_MODEL_374e326a4d204266b424de935b7ad697",
      "value": "(…)1fe3a328db482fd5076498a46051dd/README.md: 100%"
     }
    },
    "4cff44f03d3a414d8adb3a4304b3fd83": {
     "model_module": "@jupyter-widgets/controls",
     "model_module_version": "1.5.0",
     "model_name": "HTMLModel",
     "state": {
      "_dom_classes": [],
      "_model_module": "@jupyter-widgets/controls",
      "_model_module_version": "1.5.0",
      "_model_name": "HTMLModel",
      "_view_count": null,
      "_view_module": "@jupyter-widgets/controls",
      "_view_module_version": "1.5.0",
      "_view_name": "HTMLView",
      "description": "",
      "description_tooltip": null,
      "layout": "IPY_MODEL_0ce91961f92943b9b00d7da96ee5aa8a",
      "placeholder": "​",
      "style": "IPY_MODEL_188eaca46e124556a080511f21bb8233",
      "value": "(…)076498a46051dd/sentence_bert_config.json: 100%"
     }
    },
    "4e84c85fbf844e98bb79ada8ac00da8b": {
     "model_module": "@jupyter-widgets/controls",
     "model_module_version": "1.5.0",
     "model_name": "DescriptionStyleModel",
     "state": {
      "_model_module": "@jupyter-widgets/controls",
      "_model_module_version": "1.5.0",
      "_model_name": "DescriptionStyleModel",
      "_view_count": null,
      "_view_module": "@jupyter-widgets/base",
      "_view_module_version": "1.2.0",
      "_view_name": "StyleView",
      "description_width": ""
     }
    },
    "510aae57c4694c708c9a712269143ad6": {
     "model_module": "@jupyter-widgets/base",
     "model_module_version": "1.2.0",
     "model_name": "LayoutModel",
     "state": {
      "_model_module": "@jupyter-widgets/base",
      "_model_module_version": "1.2.0",
      "_model_name": "LayoutModel",
      "_view_count": null,
      "_view_module": "@jupyter-widgets/base",
      "_view_module_version": "1.2.0",
      "_view_name": "LayoutView",
      "align_content": null,
      "align_items": null,
      "align_self": null,
      "border": null,
      "bottom": null,
      "display": null,
      "flex": null,
      "flex_flow": null,
      "grid_area": null,
      "grid_auto_columns": null,
      "grid_auto_flow": null,
      "grid_auto_rows": null,
      "grid_column": null,
      "grid_gap": null,
      "grid_row": null,
      "grid_template_areas": null,
      "grid_template_columns": null,
      "grid_template_rows": null,
      "height": null,
      "justify_content": null,
      "justify_items": null,
      "left": null,
      "margin": null,
      "max_height": null,
      "max_width": null,
      "min_height": null,
      "min_width": null,
      "object_fit": null,
      "object_position": null,
      "order": null,
      "overflow": null,
      "overflow_x": null,
      "overflow_y": null,
      "padding": null,
      "right": null,
      "top": null,
      "visibility": null,
      "width": null
     }
    },
    "515025b07bce44c3bf702b19badb503b": {
     "model_module": "@jupyter-widgets/controls",
     "model_module_version": "1.5.0",
     "model_name": "HTMLModel",
     "state": {
      "_dom_classes": [],
      "_model_module": "@jupyter-widgets/controls",
      "_model_module_version": "1.5.0",
      "_model_name": "HTMLModel",
      "_view_count": null,
      "_view_module": "@jupyter-widgets/controls",
      "_view_module_version": "1.5.0",
      "_view_name": "HTMLView",
      "description": "",
      "description_tooltip": null,
      "layout": "IPY_MODEL_0eb87482e4054e9bb7adc5d654b5e34c",
      "placeholder": "​",
      "style": "IPY_MODEL_cd805013bf82403699287406fd9e62d6",
      "value": " 9.62M/9.62M [00:00&lt;00:00, 24.1MB/s]"
     }
    },
    "5152d3f6bc9c462898cea45d0e15ef6b": {
     "model_module": "@jupyter-widgets/base",
     "model_module_version": "1.2.0",
     "model_name": "LayoutModel",
     "state": {
      "_model_module": "@jupyter-widgets/base",
      "_model_module_version": "1.2.0",
      "_model_name": "LayoutModel",
      "_view_count": null,
      "_view_module": "@jupyter-widgets/base",
      "_view_module_version": "1.2.0",
      "_view_name": "LayoutView",
      "align_content": null,
      "align_items": null,
      "align_self": null,
      "border": null,
      "bottom": null,
      "display": null,
      "flex": null,
      "flex_flow": null,
      "grid_area": null,
      "grid_auto_columns": null,
      "grid_auto_flow": null,
      "grid_auto_rows": null,
      "grid_column": null,
      "grid_gap": null,
      "grid_row": null,
      "grid_template_areas": null,
      "grid_template_columns": null,
      "grid_template_rows": null,
      "height": null,
      "justify_content": null,
      "justify_items": null,
      "left": null,
      "margin": null,
      "max_height": null,
      "max_width": null,
      "min_height": null,
      "min_width": null,
      "object_fit": null,
      "object_position": null,
      "order": null,
      "overflow": null,
      "overflow_x": null,
      "overflow_y": null,
      "padding": null,
      "right": null,
      "top": null,
      "visibility": null,
      "width": null
     }
    },
    "55c16f32a54d432aa27ad8e7b834904c": {
     "model_module": "catboost-widget",
     "model_module_version": "^1.0.0",
     "model_name": "CatboostWidgetModel",
     "state": {
      "_dom_classes": [],
      "_model_module": "catboost-widget",
      "_model_module_version": "^1.0.0",
      "_model_name": "CatboostWidgetModel",
      "_view_count": null,
      "_view_module": "catboost-widget",
      "_view_module_version": "^1.0.0",
      "_view_name": "CatboostWidgetView",
      "data": {
       "catboost_info": {
        "content": {
         "data": {
          "iterations": [
           {
            "iteration": 0,
            "learn": [
             0.6682452947
            ],
            "passed_time": 0.4520146429,
            "remaining_time": 451.5626282,
            "test": [
             0.7647068042,
             0.6682349665
            ]
           },
           {
            "iteration": 1,
            "learn": [
             0.646290949
            ],
            "passed_time": 0.7677669278,
            "remaining_time": 383.115697,
            "test": [
             0.7741795572,
             0.6467097779
            ]
           },
           {
            "iteration": 2,
            "learn": [
             0.6265427468
            ],
            "passed_time": 1.020064613,
            "remaining_time": 339.001473,
            "test": [
             0.7856505914,
             0.626916533
            ]
           },
           {
            "iteration": 3,
            "learn": [
             0.6069246049
            ],
            "passed_time": 1.33844317,
            "remaining_time": 333.2723494,
            "test": [
             0.7963345466,
             0.6072607192
            ]
           },
           {
            "iteration": 4,
            "learn": [
             0.5896204168
            ],
            "passed_time": 1.663484618,
            "remaining_time": 331.0334389,
            "test": [
             0.8023703367,
             0.5896766573
            ]
           },
           {
            "iteration": 5,
            "learn": [
             0.5725826749
            ],
            "passed_time": 1.839143553,
            "remaining_time": 304.684782,
            "test": [
             0.8198897988,
             0.5722037691
            ]
           },
           {
            "iteration": 6,
            "learn": [
             0.5573025235
            ],
            "passed_time": 2.020072421,
            "remaining_time": 286.5617021,
            "test": [
             0.8276028713,
             0.5564085681
            ]
           },
           {
            "iteration": 7,
            "learn": [
             0.5429640891
            ],
            "passed_time": 2.196514856,
            "remaining_time": 272.3678421,
            "test": [
             0.8389101203,
             0.5414856932
            ]
           },
           {
            "iteration": 8,
            "learn": [
             0.5319588956
            ],
            "passed_time": 2.373825112,
            "remaining_time": 261.3845206,
            "test": [
             0.8411894652,
             0.5304319711
            ]
           },
           {
            "iteration": 9,
            "learn": [
             0.5205680708
            ],
            "passed_time": 2.560499924,
            "remaining_time": 253.4894925,
            "test": [
             0.8430391265,
             0.5191260245
            ]
           },
           {
            "iteration": 10,
            "learn": [
             0.5117479359
            ],
            "passed_time": 2.770509907,
            "remaining_time": 249.0940271,
            "test": [
             0.842766151,
             0.5103113692
            ]
           },
           {
            "iteration": 11,
            "learn": [
             0.5029335716
            ],
            "passed_time": 3.117877128,
            "remaining_time": 256.7052169,
            "test": [
             0.8440309372,
             0.5012445109
            ]
           },
           {
            "iteration": 12,
            "learn": [
             0.4945855158
            ],
            "passed_time": 3.425842532,
            "remaining_time": 260.1005061,
            "test": [
             0.849648165,
             0.4927296518
            ]
           },
           {
            "iteration": 13,
            "learn": [
             0.4869874711
            ],
            "passed_time": 3.743810538,
            "remaining_time": 263.6712279,
            "test": [
             0.8514730563,
             0.4848969547
            ]
           },
           {
            "iteration": 14,
            "learn": [
             0.4804716353
            ],
            "passed_time": 4.062363307,
            "remaining_time": 266.7618572,
            "test": [
             0.8526053988,
             0.4782950525
            ]
           },
           {
            "iteration": 15,
            "learn": [
             0.4736985085
            ],
            "passed_time": 4.402459862,
            "remaining_time": 270.7512815,
            "test": [
             0.8527722172,
             0.4712483157
            ]
           },
           {
            "iteration": 16,
            "learn": [
             0.4667873313
            ],
            "passed_time": 4.740593395,
            "remaining_time": 274.1178416,
            "test": [
             0.8556652512,
             0.4644847908
            ]
           },
           {
            "iteration": 17,
            "learn": [
             0.4619349809
            ],
            "passed_time": 5.090093983,
            "remaining_time": 277.6929051,
            "test": [
             0.8551556971,
             0.4594880154
            ]
           },
           {
            "iteration": 18,
            "learn": [
             0.4548881947
            ],
            "passed_time": 5.452237311,
            "remaining_time": 281.5076211,
            "test": [
             0.8610949348,
             0.452505462
            ]
           },
           {
            "iteration": 19,
            "learn": [
             0.45035356
            ],
            "passed_time": 5.782507552,
            "remaining_time": 283.34287,
            "test": [
             0.8618673542,
             0.4478816008
            ]
           },
           {
            "iteration": 20,
            "learn": [
             0.446134921
            ],
            "passed_time": 6.115320835,
            "remaining_time": 285.0904332,
            "test": [
             0.8617379436,
             0.4436737865
            ]
           },
           {
            "iteration": 21,
            "learn": [
             0.4412327437
            ],
            "passed_time": 6.452885065,
            "remaining_time": 286.8600724,
            "test": [
             0.8644606208,
             0.4387937242
            ]
           },
           {
            "iteration": 22,
            "learn": [
             0.4370083341
            ],
            "passed_time": 6.792152501,
            "remaining_time": 288.5188258,
            "test": [
             0.8662238399,
             0.4346769463
            ]
           },
           {
            "iteration": 23,
            "learn": [
             0.4330991433
            ],
            "passed_time": 7.160967452,
            "remaining_time": 291.2126764,
            "test": [
             0.8674764938,
             0.4308894411
            ]
           },
           {
            "iteration": 24,
            "learn": [
             0.429397805
            ],
            "passed_time": 7.512577761,
            "remaining_time": 292.9905327,
            "test": [
             0.8687766657,
             0.4270303067
            ]
           },
           {
            "iteration": 25,
            "learn": [
             0.4257117254
            ],
            "passed_time": 7.82895029,
            "remaining_time": 293.2845224,
            "test": [
             0.8703467799,
             0.4233294736
            ]
           },
           {
            "iteration": 26,
            "learn": [
             0.4224217918
            ],
            "passed_time": 8.034333042,
            "remaining_time": 289.5335574,
            "test": [
             0.8714538469,
             0.4200119646
            ]
           },
           {
            "iteration": 27,
            "learn": [
             0.4192869429
            ],
            "passed_time": 8.207033282,
            "remaining_time": 284.9012982,
            "test": [
             0.8729572338,
             0.4173142618
            ]
           },
           {
            "iteration": 28,
            "learn": [
             0.416481462
            ],
            "passed_time": 8.382506922,
            "remaining_time": 280.6694559,
            "test": [
             0.874119907,
             0.415001806
            ]
           },
           {
            "iteration": 29,
            "learn": [
             0.4128193248
            ],
            "passed_time": 8.567578808,
            "remaining_time": 277.0183814,
            "test": [
             0.8759458093,
             0.4114498034
            ]
           },
           {
            "iteration": 30,
            "learn": [
             0.4104919434
            ],
            "passed_time": 8.75238076,
            "remaining_time": 273.5824825,
            "test": [
             0.876832474,
             0.4095341531
            ]
           },
           {
            "iteration": 31,
            "learn": [
             0.4082357511
            ],
            "passed_time": 8.928664899,
            "remaining_time": 270.0921132,
            "test": [
             0.8775169346,
             0.4074041676
            ]
           },
           {
            "iteration": 32,
            "learn": [
             0.4061832497
            ],
            "passed_time": 9.094700601,
            "remaining_time": 266.5022873,
            "test": [
             0.8775927611,
             0.4059159502
            ]
           },
           {
            "iteration": 33,
            "learn": [
             0.4043167947
            ],
            "passed_time": 9.273962246,
            "remaining_time": 263.4896332,
            "test": [
             0.8776332019,
             0.4043140934
            ]
           },
           {
            "iteration": 34,
            "learn": [
             0.4023558461
            ],
            "passed_time": 9.444169959,
            "remaining_time": 260.3892574,
            "test": [
             0.8787513902,
             0.4024669048
            ]
           },
           {
            "iteration": 35,
            "learn": [
             0.4003064797
            ],
            "passed_time": 9.618026582,
            "remaining_time": 257.5493785,
            "test": [
             0.8793145284,
             0.4005984938
            ]
           },
           {
            "iteration": 36,
            "learn": [
             0.3986087868
            ],
            "passed_time": 9.796197184,
            "remaining_time": 254.9658889,
            "test": [
             0.8795591952,
             0.3991527699
            ]
           },
           {
            "iteration": 37,
            "learn": [
             0.3969779552
            ],
            "passed_time": 9.972257987,
            "remaining_time": 252.4555838,
            "test": [
             0.8803093722,
             0.3976058995
            ]
           },
           {
            "iteration": 38,
            "learn": [
             0.3950324041
            ],
            "passed_time": 10.14111838,
            "remaining_time": 249.887558,
            "test": [
             0.8812405217,
             0.3959662814
            ]
           },
           {
            "iteration": 39,
            "learn": [
             0.3931406195
            ],
            "passed_time": 10.31705785,
            "remaining_time": 247.6093885,
            "test": [
             0.882159539,
             0.3941753499
            ]
           },
           {
            "iteration": 40,
            "learn": [
             0.3912988004
            ],
            "passed_time": 10.50403643,
            "remaining_time": 245.691974,
            "test": [
             0.8829319583,
             0.3923369661
            ]
           },
           {
            "iteration": 41,
            "learn": [
             0.3891494196
            ],
            "passed_time": 10.67959814,
            "remaining_time": 243.5965479,
            "test": [
             0.884223031,
             0.3907682409
            ]
           },
           {
            "iteration": 42,
            "learn": [
             0.3875869474
            ],
            "passed_time": 10.860754,
            "remaining_time": 241.7149205,
            "test": [
             0.8846891113,
             0.3896756601
            ]
           },
           {
            "iteration": 43,
            "learn": [
             0.3856057184
            ],
            "passed_time": 11.04147993,
            "remaining_time": 239.9012456,
            "test": [
             0.8860570215,
             0.3878264948
            ]
           },
           {
            "iteration": 44,
            "learn": [
             0.3837736927
            ],
            "passed_time": 11.21867535,
            "remaining_time": 238.0852214,
            "test": [
             0.8864129006,
             0.3863929243
            ]
           },
           {
            "iteration": 45,
            "learn": [
             0.3824917603
            ],
            "passed_time": 11.39572719,
            "remaining_time": 236.3374726,
            "test": [
             0.8875189566,
             0.385134194
            ]
           },
           {
            "iteration": 46,
            "learn": [
             0.3808773249
            ],
            "passed_time": 11.57055672,
            "remaining_time": 234.6115012,
            "test": [
             0.8880841169,
             0.3837780012
            ]
           },
           {
            "iteration": 47,
            "learn": [
             0.3794094016
            ],
            "passed_time": 11.74181116,
            "remaining_time": 232.8792546,
            "test": [
             0.8882620564,
             0.3826030022
            ]
           },
           {
            "iteration": 48,
            "learn": [
             0.377909213
            ],
            "passed_time": 11.9320244,
            "remaining_time": 231.5786777,
            "test": [
             0.888996057,
             0.3813901786
            ]
           },
           {
            "iteration": 49,
            "learn": [
             0.3762878141
            ],
            "passed_time": 12.10177642,
            "remaining_time": 229.933752,
            "test": [
             0.8895622283,
             0.379895473
            ]
           },
           {
            "iteration": 50,
            "learn": [
             0.3752388694
            ],
            "passed_time": 12.27258222,
            "remaining_time": 228.3662848,
            "test": [
             0.8899454049,
             0.3789780591
            ]
           },
           {
            "iteration": 51,
            "learn": [
             0.3737379594
            ],
            "passed_time": 12.44993401,
            "remaining_time": 226.9718739,
            "test": [
             0.8898604792,
             0.3779423957
            ]
           },
           {
            "iteration": 52,
            "learn": [
             0.3725183383
            ],
            "passed_time": 12.62555786,
            "remaining_time": 225.5925149,
            "test": [
             0.8903144273,
             0.3770743967
            ]
           },
           {
            "iteration": 53,
            "learn": [
             0.3710895053
            ],
            "passed_time": 12.81532899,
            "remaining_time": 224.5055783,
            "test": [
             0.8909099181,
             0.3759909546
            ]
           },
           {
            "iteration": 54,
            "learn": [
             0.3697396851
            ],
            "passed_time": 12.99899205,
            "remaining_time": 223.346318,
            "test": [
             0.8915539379,
             0.3748827311
            ]
           },
           {
            "iteration": 55,
            "learn": [
             0.367883495
            ],
            "passed_time": 13.18451781,
            "remaining_time": 222.2533002,
            "test": [
             0.8923485997,
             0.373897401
            ]
           },
           {
            "iteration": 56,
            "learn": [
             0.3668336071
            ],
            "passed_time": 13.36532429,
            "remaining_time": 221.1140492,
            "test": [
             0.8927297543,
             0.3731382906
            ]
           },
           {
            "iteration": 57,
            "learn": [
             0.365444003
            ],
            "passed_time": 13.53715235,
            "remaining_time": 219.8620261,
            "test": [
             0.8935476696,
             0.3721019505
            ]
           },
           {
            "iteration": 58,
            "learn": [
             0.3639022827
            ],
            "passed_time": 13.71144302,
            "remaining_time": 218.6858963,
            "test": [
             0.8939864523,
             0.3710531993
            ]
           },
           {
            "iteration": 59,
            "learn": [
             0.3627913042
            ],
            "passed_time": 13.89968131,
            "remaining_time": 217.7616738,
            "test": [
             0.8945920534,
             0.3701325922
            ]
           },
           {
            "iteration": 60,
            "learn": [
             0.3611008523
            ],
            "passed_time": 14.07169455,
            "remaining_time": 216.6118227,
            "test": [
             0.8954241229,
             0.3690474006
            ]
           },
           {
            "iteration": 61,
            "learn": [
             0.3601227916
            ],
            "passed_time": 14.2381752,
            "remaining_time": 215.4098119,
            "test": [
             0.8960034375,
             0.3682543503
            ]
           },
           {
            "iteration": 62,
            "learn": [
             0.3591392378
            ],
            "passed_time": 14.41912312,
            "remaining_time": 214.4558471,
            "test": [
             0.8962117076,
             0.3674797194
            ]
           },
           {
            "iteration": 63,
            "learn": [
             0.358067627
            ],
            "passed_time": 14.59408277,
            "remaining_time": 213.4384606,
            "test": [
             0.8966535234,
             0.366687585
            ]
           },
           {
            "iteration": 64,
            "learn": [
             0.3573819247
            ],
            "passed_time": 14.76902467,
            "remaining_time": 212.4467395,
            "test": [
             0.8967536144,
             0.3663323344
            ]
           },
           {
            "iteration": 65,
            "learn": [
             0.3564213146
            ],
            "passed_time": 14.95800773,
            "remaining_time": 211.678473,
            "test": [
             0.8970912951,
             0.3656396998
            ]
           },
           {
            "iteration": 66,
            "learn": [
             0.3552032471
            ],
            "passed_time": 15.15363728,
            "remaining_time": 211.0200535,
            "test": [
             0.8973400061,
             0.3648517546
            ]
           },
           {
            "iteration": 67,
            "learn": [
             0.3539407071
            ],
            "passed_time": 15.3409105,
            "remaining_time": 210.2607145,
            "test": [
             0.8981690426,
             0.3640806866
            ]
           },
           {
            "iteration": 68,
            "learn": [
             0.3527578458
            ],
            "passed_time": 15.51162498,
            "remaining_time": 209.2945341,
            "test": [
             0.8989879689,
             0.3632736737
            ]
           },
           {
            "iteration": 69,
            "learn": [
             0.3515983998
            ],
            "passed_time": 15.70778665,
            "remaining_time": 208.6891655,
            "test": [
             0.8991659084,
             0.3626971487
            ]
           },
           {
            "iteration": 70,
            "learn": [
             0.3506717474
            ],
            "passed_time": 15.88221054,
            "remaining_time": 207.8108957,
            "test": [
             0.8996006471,
             0.3619742598
            ]
           },
           {
            "iteration": 71,
            "learn": [
             0.3496029386
            ],
            "passed_time": 16.07909384,
            "remaining_time": 207.2416539,
            "test": [
             0.8996299666,
             0.3614492866
            ]
           },
           {
            "iteration": 72,
            "learn": [
             0.3483479448
            ],
            "passed_time": 16.25843283,
            "remaining_time": 206.4598251,
            "test": [
             0.8996431099,
             0.3608379584
            ]
           },
           {
            "iteration": 73,
            "learn": [
             0.3473425293
            ],
            "passed_time": 16.42861925,
            "remaining_time": 205.579749,
            "test": [
             0.9000738045,
             0.3601475527
            ]
           },
           {
            "iteration": 74,
            "learn": [
             0.3464775224
            ],
            "passed_time": 16.59815482,
            "remaining_time": 204.7105761,
            "test": [
             0.8998422809,
             0.3600291007
            ]
           },
           {
            "iteration": 75,
            "learn": [
             0.3457648537
            ],
            "passed_time": 16.76713369,
            "remaining_time": 203.8530465,
            "test": [
             0.9003043171,
             0.3594361456
            ]
           },
           {
            "iteration": 76,
            "learn": [
             0.3450587602
            ],
            "passed_time": 16.9608597,
            "remaining_time": 203.3100455,
            "test": [
             0.9004792235,
             0.3590494131
            ]
           },
           {
            "iteration": 77,
            "learn": [
             0.3436346713
            ],
            "passed_time": 17.13393919,
            "remaining_time": 202.5319478,
            "test": [
             0.9014942877,
             0.3578189819
            ]
           },
           {
            "iteration": 78,
            "learn": [
             0.3430085338
            ],
            "passed_time": 17.31137889,
            "remaining_time": 201.8199995,
            "test": [
             0.9016752603,
             0.3573964189
            ]
           },
           {
            "iteration": 79,
            "learn": [
             0.3421384499
            ],
            "passed_time": 17.49037071,
            "remaining_time": 201.1392632,
            "test": [
             0.9018036599,
             0.3569588606
            ]
           },
           {
            "iteration": 80,
            "learn": [
             0.341566495
            ],
            "passed_time": 17.67790664,
            "remaining_time": 200.5678544,
            "test": [
             0.9019674452,
             0.3566911977
            ]
           },
           {
            "iteration": 81,
            "learn": [
             0.3408153187
            ],
            "passed_time": 17.86594789,
            "remaining_time": 200.0114654,
            "test": [
             0.9020998888,
             0.3563969539
            ]
           },
           {
            "iteration": 82,
            "learn": [
             0.340014482
            ],
            "passed_time": 18.14844884,
            "remaining_time": 200.5075613,
            "test": [
             0.9018976848,
             0.3562632238
            ]
           },
           {
            "iteration": 83,
            "learn": [
             0.3394817006
            ],
            "passed_time": 18.46483957,
            "remaining_time": 201.3546792,
            "test": [
             0.9023324234,
             0.3557472059
            ]
           },
           {
            "iteration": 84,
            "learn": [
             0.3387200373
            ],
            "passed_time": 18.8117144,
            "remaining_time": 202.5025727,
            "test": [
             0.9028065919,
             0.3552329631
            ]
           },
           {
            "iteration": 85,
            "learn": [
             0.3379153442
            ],
            "passed_time": 19.15563396,
            "remaining_time": 203.5842958,
            "test": [
             0.903316146,
             0.3546710054
            ]
           },
           {
            "iteration": 86,
            "learn": [
             0.33714017
            ],
            "passed_time": 19.48103198,
            "remaining_time": 204.4388758,
            "test": [
             0.9033929835,
             0.3544853788
            ]
           },
           {
            "iteration": 87,
            "learn": [
             0.3363047929
            ],
            "passed_time": 19.81719208,
            "remaining_time": 205.3781725,
            "test": [
             0.9036588818,
             0.3538452807
            ]
           },
           {
            "iteration": 88,
            "learn": [
             0.3357353349
            ],
            "passed_time": 20.15459837,
            "remaining_time": 206.3015631,
            "test": [
             0.9038085128,
             0.353466929
            ]
           },
           {
            "iteration": 89,
            "learn": [
             0.335194286
            ],
            "passed_time": 20.4799405,
            "remaining_time": 207.0749539,
            "test": [
             0.9036791022,
             0.3532760661
            ]
           },
           {
            "iteration": 90,
            "learn": [
             0.3343948087
            ],
            "passed_time": 20.79738714,
            "remaining_time": 207.7453287,
            "test": [
             0.9043281771,
             0.3525743792
            ]
           },
           {
            "iteration": 91,
            "learn": [
             0.3335102151
            ],
            "passed_time": 21.1485963,
            "remaining_time": 208.7274504,
            "test": [
             0.9044262461,
             0.3522197027
            ]
           },
           {
            "iteration": 92,
            "learn": [
             0.3328097257
            ],
            "passed_time": 21.45922454,
            "remaining_time": 209.2851253,
            "test": [
             0.9046547366,
             0.3517689697
            ]
           },
           {
            "iteration": 93,
            "learn": [
             0.3322798018
            ],
            "passed_time": 21.79512321,
            "remaining_time": 210.0678896,
            "test": [
             0.9046951774,
             0.3514519238
            ]
           },
           {
            "iteration": 94,
            "learn": [
             0.3315045166
            ],
            "passed_time": 22.15682918,
            "remaining_time": 211.0729517,
            "test": [
             0.9049782631,
             0.350970407
            ]
           },
           {
            "iteration": 95,
            "learn": [
             0.3308137373
            ],
            "passed_time": 22.51315419,
            "remaining_time": 211.9988687,
            "test": [
             0.9050358912,
             0.3507303913
            ]
           },
           {
            "iteration": 96,
            "learn": [
             0.3302423651
            ],
            "passed_time": 22.86812941,
            "remaining_time": 212.885782,
            "test": [
             0.9052552826,
             0.3504261737
            ]
           },
           {
            "iteration": 97,
            "learn": [
             0.3294759577
            ],
            "passed_time": 23.23374365,
            "remaining_time": 213.8452732,
            "test": [
             0.9052330401,
             0.3501993556
            ]
           },
           {
            "iteration": 98,
            "learn": [
             0.3286327848
            ],
            "passed_time": 23.40933872,
            "remaining_time": 213.0486281,
            "test": [
             0.905328076,
             0.3498055978
            ]
           },
           {
            "iteration": 99,
            "learn": [
             0.3281577925
            ],
            "passed_time": 23.5803472,
            "remaining_time": 212.2231248,
            "test": [
             0.9052148418,
             0.3498669483
            ]
           },
           {
            "iteration": 100,
            "learn": [
             0.3276610218
            ],
            "passed_time": 23.74881743,
            "remaining_time": 211.3879888,
            "test": [
             0.9049358002,
             0.349813901
            ]
           },
           {
            "iteration": 101,
            "learn": [
             0.3265565352
            ],
            "passed_time": 23.92342376,
            "remaining_time": 210.6199464,
            "test": [
             0.905780002,
             0.3487425638
            ]
           },
           {
            "iteration": 102,
            "learn": [
             0.3256615101
            ],
            "passed_time": 24.10690477,
            "remaining_time": 209.9407143,
            "test": [
             0.9057223739,
             0.3483417918
            ]
           },
           {
            "iteration": 103,
            "learn": [
             0.3251114724
            ],
            "passed_time": 24.29326747,
            "remaining_time": 209.2958428,
            "test": [
             0.9060549995,
             0.3480273231
            ]
           },
           {
            "iteration": 104,
            "learn": [
             0.3245123568
            ],
            "passed_time": 24.47531071,
            "remaining_time": 208.6228865,
            "test": [
             0.9061106056,
             0.3478549319
            ]
           },
           {
            "iteration": 105,
            "learn": [
             0.3241714755
            ],
            "passed_time": 24.64277687,
            "remaining_time": 207.8362502,
            "test": [
             0.9063016884,
             0.3476681923
            ]
           },
           {
            "iteration": 106,
            "learn": [
             0.3235961359
            ],
            "passed_time": 24.81544543,
            "remaining_time": 207.1046053,
            "test": [
             0.9064664847,
             0.3473980429
            ]
           },
           {
            "iteration": 107,
            "learn": [
             0.3228335294
            ],
            "passed_time": 24.98618499,
            "remaining_time": 206.3673797,
            "test": [
             0.9065483773,
             0.3470391199
            ]
           },
           {
            "iteration": 108,
            "learn": [
             0.3220336359
            ],
            "passed_time": 25.17315152,
            "remaining_time": 205.7731927,
            "test": [
             0.9068810029,
             0.3465088568
            ]
           },
           {
            "iteration": 109,
            "learn": [
             0.3215216619
            ],
            "passed_time": 25.35967962,
            "remaining_time": 205.1828624,
            "test": [
             0.9066636336,
             0.3464564914
            ]
           },
           {
            "iteration": 110,
            "learn": [
             0.32073392
            ],
            "passed_time": 25.53721155,
            "remaining_time": 204.5277573,
            "test": [
             0.9069639066,
             0.3459426315
            ]
           },
           {
            "iteration": 111,
            "learn": [
             0.3201316695
            ],
            "passed_time": 25.71217031,
            "remaining_time": 203.8607789,
            "test": [
             0.9074087554,
             0.3454055363
            ]
           },
           {
            "iteration": 112,
            "learn": [
             0.3194540683
            ],
            "passed_time": 25.90115943,
            "remaining_time": 203.3126408,
            "test": [
             0.9076756647,
             0.344949707
            ]
           },
           {
            "iteration": 113,
            "learn": [
             0.3187804066
            ],
            "passed_time": 26.10122028,
            "remaining_time": 202.8568523,
            "test": [
             0.9077616015,
             0.3445603869
            ]
           },
           {
            "iteration": 114,
            "learn": [
             0.3180337802
            ],
            "passed_time": 26.27559113,
            "remaining_time": 202.20781,
            "test": [
             0.9080982712,
             0.3439434063
            ]
           },
           {
            "iteration": 115,
            "learn": [
             0.317469316
            ],
            "passed_time": 26.45399001,
            "remaining_time": 201.597648,
            "test": [
             0.9082317258,
             0.3436879574
            ]
           },
           {
            "iteration": 116,
            "learn": [
             0.3168062245
            ],
            "passed_time": 26.63150043,
            "remaining_time": 200.9881613,
            "test": [
             0.9082266707,
             0.3434834489
            ]
           },
           {
            "iteration": 117,
            "learn": [
             0.3163320645
            ],
            "passed_time": 26.80466773,
            "remaining_time": 200.3535333,
            "test": [
             0.9082549793,
             0.3433333722
            ]
           },
           {
            "iteration": 118,
            "learn": [
             0.3154953558
            ],
            "passed_time": 26.97551768,
            "remaining_time": 199.7095048,
            "test": [
             0.9087180265,
             0.3426751988
            ]
           },
           {
            "iteration": 119,
            "learn": [
             0.3149776667
            ],
            "passed_time": 27.15441741,
            "remaining_time": 199.1323944,
            "test": [
             0.9086533212,
             0.3425244595
            ]
           },
           {
            "iteration": 120,
            "learn": [
             0.3144585072
            ],
            "passed_time": 27.33164845,
            "remaining_time": 198.5497437,
            "test": [
             0.9085987261,
             0.3424903986
            ]
           },
           {
            "iteration": 121,
            "learn": [
             0.3136283736
            ],
            "passed_time": 27.52143808,
            "remaining_time": 198.0641199,
            "test": [
             0.9091820847,
             0.3417796265
            ]
           },
           {
            "iteration": 122,
            "learn": [
             0.3130248469
            ],
            "passed_time": 27.69493123,
            "remaining_time": 197.4671113,
            "test": [
             0.9092528561,
             0.3417073089
            ]
           },
           {
            "iteration": 123,
            "learn": [
             0.3123545144
            ],
            "passed_time": 27.8640657,
            "remaining_time": 196.8461416,
            "test": [
             0.9097159033,
             0.3412169302
            ]
           },
           {
            "iteration": 124,
            "learn": [
             0.3117034357
            ],
            "passed_time": 28.0353668,
            "remaining_time": 196.2475676,
            "test": [
             0.9096006471,
             0.3410464629
            ]
           },
           {
            "iteration": 125,
            "learn": [
             0.3110120184
            ],
            "passed_time": 28.2192392,
            "remaining_time": 195.7429766,
            "test": [
             0.9095005561,
             0.3408914319
            ]
           },
           {
            "iteration": 126,
            "learn": [
             0.3104436424
            ],
            "passed_time": 28.41421731,
            "remaining_time": 195.3197773,
            "test": [
             0.9096653523,
             0.3405418051
            ]
           },
           {
            "iteration": 127,
            "learn": [
             0.3097328602
            ],
            "passed_time": 28.58288433,
            "remaining_time": 194.7208995,
            "test": [
             0.9097341017,
             0.340320721
            ]
           },
           {
            "iteration": 128,
            "learn": [
             0.3091874001
            ],
            "passed_time": 28.7547821,
            "remaining_time": 194.1505055,
            "test": [
             0.9098331817,
             0.3401927612
            ]
           },
           {
            "iteration": 129,
            "learn": [
             0.3086637185
            ],
            "passed_time": 28.93071664,
            "remaining_time": 193.6132575,
            "test": [
             0.9099969669,
             0.3399198436
            ]
           },
           {
            "iteration": 130,
            "learn": [
             0.3081632302
            ],
            "passed_time": 29.11692163,
            "remaining_time": 193.1496557,
            "test": [
             0.9101374987,
             0.3396853745
            ]
           },
           {
            "iteration": 131,
            "learn": [
             0.307507352
            ],
            "passed_time": 29.30541983,
            "remaining_time": 192.7053364,
            "test": [
             0.9100545951,
             0.3393494538
            ]
           },
           {
            "iteration": 132,
            "learn": [
             0.3069928811
            ],
            "passed_time": 29.52507123,
            "remaining_time": 192.4679455,
            "test": [
             0.9101556971,
             0.3391394745
            ]
           },
           {
            "iteration": 133,
            "learn": [
             0.3065010764
            ],
            "passed_time": 29.82754995,
            "remaining_time": 192.7661064,
            "test": [
             0.9100677383,
             0.3390922927
            ]
           },
           {
            "iteration": 134,
            "learn": [
             0.3057446844
            ],
            "passed_time": 30.13648437,
            "remaining_time": 193.0967332,
            "test": [
             0.9100384188,
             0.3389216566
            ]
           },
           {
            "iteration": 135,
            "learn": [
             0.3052586781
            ],
            "passed_time": 30.44789994,
            "remaining_time": 193.4337173,
            "test": [
             0.9099373168,
             0.3390746086
            ]
           },
           {
            "iteration": 136,
            "learn": [
             0.3046317361
            ],
            "passed_time": 30.73445409,
            "remaining_time": 193.6046268,
            "test": [
             0.9097654433,
             0.3389311043
            ]
           },
           {
            "iteration": 137,
            "learn": [
             0.3041900635
            ],
            "passed_time": 31.04451886,
            "remaining_time": 193.9157627,
            "test": [
             0.9098129613,
             0.3387961575
            ]
           },
           {
            "iteration": 138,
            "learn": [
             0.3036004639
            ],
            "passed_time": 31.3010834,
            "remaining_time": 193.8865669,
            "test": [
             0.9097250025,
             0.3388080112
            ]
           },
           {
            "iteration": 139,
            "learn": [
             0.3029984908
            ],
            "passed_time": 31.62693707,
            "remaining_time": 194.2797563,
            "test": [
             0.9099828127,
             0.3384160299
            ]
           },
           {
            "iteration": 140,
            "learn": [
             0.3024758079
            ],
            "passed_time": 31.90931493,
            "remaining_time": 194.3978832,
            "test": [
             0.9101850167,
             0.3381490709
            ]
           },
           {
            "iteration": 141,
            "learn": [
             0.3019709917
            ],
            "passed_time": 32.19867655,
            "remaining_time": 194.5525667,
            "test": [
             0.9102871297,
             0.3378696185
            ]
           },
           {
            "iteration": 142,
            "learn": [
             0.3012620961
            ],
            "passed_time": 32.53016793,
            "remaining_time": 194.9535239,
            "test": [
             0.9104772015,
             0.3375303412
            ]
           },
           {
            "iteration": 143,
            "learn": [
             0.3007747026
            ],
            "passed_time": 32.83352445,
            "remaining_time": 195.177062,
            "test": [
             0.9104175513,
             0.337527142
            ]
           },
           {
            "iteration": 144,
            "learn": [
             0.3002456388
            ],
            "passed_time": 33.07609741,
            "remaining_time": 195.0349192,
            "test": [
             0.9106207664,
             0.3373093164
            ]
           },
           {
            "iteration": 145,
            "learn": [
             0.2997367165
            ],
            "passed_time": 33.44685333,
            "remaining_time": 195.6411832,
            "test": [
             0.9106662623,
             0.3371560084
            ]
           },
           {
            "iteration": 146,
            "learn": [
             0.2990843339
            ],
            "passed_time": 33.91574502,
            "remaining_time": 196.8036089,
            "test": [
             0.9107784855,
             0.3368551727
            ]
           },
           {
            "iteration": 147,
            "learn": [
             0.2983755493
            ],
            "passed_time": 34.43072976,
            "remaining_time": 198.2093362,
            "test": [
             0.910704681,
             0.3366580211
            ]
           },
           {
            "iteration": 148,
            "learn": [
             0.2976624645
            ],
            "passed_time": 34.91690947,
            "remaining_time": 199.4247648,
            "test": [
             0.9108704883,
             0.3362984604
            ]
           },
           {
            "iteration": 149,
            "learn": [
             0.2972918424
            ],
            "passed_time": 35.37207564,
            "remaining_time": 200.4417619,
            "test": [
             0.9109806895,
             0.3361126508
            ]
           },
           {
            "iteration": 150,
            "learn": [
             0.2966379062
            ],
            "passed_time": 35.84014504,
            "remaining_time": 201.5118089,
            "test": [
             0.9108239814,
             0.3362145509
            ]
           },
           {
            "iteration": 151,
            "learn": [
             0.2961127819
            ],
            "passed_time": 36.2973844,
            "remaining_time": 202.5011972,
            "test": [
             0.9108472349,
             0.3360638916
            ]
           },
           {
            "iteration": 152,
            "learn": [
             0.2956459184
            ],
            "passed_time": 36.68502557,
            "remaining_time": 203.0863834,
            "test": [
             0.9106126782,
             0.3361661955
            ]
           },
           {
            "iteration": 153,
            "learn": [
             0.294968983
            ],
            "passed_time": 37.13671208,
            "remaining_time": 204.010769,
            "test": [
             0.9107188353,
             0.3360018228
            ]
           },
           {
            "iteration": 154,
            "learn": [
             0.2942937955
            ],
            "passed_time": 37.57096498,
            "remaining_time": 204.8223575,
            "test": [
             0.9105661713,
             0.3358800361
            ]
           },
           {
            "iteration": 155,
            "learn": [
             0.2935307728
            ],
            "passed_time": 38.00441657,
            "remaining_time": 205.6136384,
            "test": [
             0.9107511879,
             0.3355174757
            ]
           },
           {
            "iteration": 156,
            "learn": [
             0.292998685
            ],
            "passed_time": 38.42268015,
            "remaining_time": 206.3077667,
            "test": [
             0.9110777474,
             0.3352060302
            ]
           },
           {
            "iteration": 157,
            "learn": [
             0.2925464977
            ],
            "passed_time": 38.8493998,
            "remaining_time": 207.0328774,
            "test": [
             0.9110787585,
             0.3350955809
            ]
           },
           {
            "iteration": 158,
            "learn": [
             0.2920341908
            ],
            "passed_time": 39.26884964,
            "remaining_time": 207.7050474,
            "test": [
             0.9111869376,
             0.334933972
            ]
           },
           {
            "iteration": 159,
            "learn": [
             0.2916376842
            ],
            "passed_time": 39.63465117,
            "remaining_time": 208.0819186,
            "test": [
             0.9112091801,
             0.3349426753
            ]
           },
           {
            "iteration": 160,
            "learn": [
             0.2910959972
            ],
            "passed_time": 39.86571601,
            "remaining_time": 207.7474269,
            "test": [
             0.9113123041,
             0.3347663955
            ]
           },
           {
            "iteration": 161,
            "learn": [
             0.2904585405
            ],
            "passed_time": 40.14411988,
            "remaining_time": 207.6590893,
            "test": [
             0.9113749874,
             0.3346994695
            ]
           },
           {
            "iteration": 162,
            "learn": [
             0.2900028853
            ],
            "passed_time": 40.47813476,
            "remaining_time": 207.8539803,
            "test": [
             0.9114649682,
             0.3345391484
            ]
           },
           {
            "iteration": 163,
            "learn": [
             0.2895850164
            ],
            "passed_time": 40.73232838,
            "remaining_time": 207.6355276,
            "test": [
             0.9116995248,
             0.3342959518
            ]
           },
           {
            "iteration": 164,
            "learn": [
             0.2889477539
            ],
            "passed_time": 41.08851579,
            "remaining_time": 207.932792,
            "test": [
             0.9116823375,
             0.3341301404
            ]
           },
           {
            "iteration": 165,
            "learn": [
             0.2884103116
            ],
            "passed_time": 41.32569843,
            "remaining_time": 207.6242921,
            "test": [
             0.9115225963,
             0.3340624996
            ]
           },
           {
            "iteration": 166,
            "learn": [
             0.2877979348
            ],
            "passed_time": 41.63901039,
            "remaining_time": 207.6963812,
            "test": [
             0.9116621171,
             0.3338335511
            ]
           },
           {
            "iteration": 167,
            "learn": [
             0.2873565674
            ],
            "passed_time": 41.99035629,
            "remaining_time": 207.9522407,
            "test": [
             0.9117773734,
             0.3337275386
            ]
           },
           {
            "iteration": 168,
            "learn": [
             0.2867301247
            ],
            "passed_time": 42.35381134,
            "remaining_time": 208.2604569,
            "test": [
             0.9115721363,
             0.3337136079
            ]
           },
           {
            "iteration": 169,
            "learn": [
             0.2860802113
            ],
            "passed_time": 42.75741092,
            "remaining_time": 208.756771,
            "test": [
             0.9115155192,
             0.3336773831
            ]
           },
           {
            "iteration": 170,
            "learn": [
             0.2855387462
            ],
            "passed_time": 43.12290437,
            "remaining_time": 209.057823,
            "test": [
             0.9113345466,
             0.3336929596
            ]
           },
           {
            "iteration": 171,
            "learn": [
             0.2846973766
            ],
            "passed_time": 43.52184748,
            "remaining_time": 209.5121495,
            "test": [
             0.9115458498,
             0.3331846981
            ]
           },
           {
            "iteration": 172,
            "learn": [
             0.2841927823
            ],
            "passed_time": 43.88810317,
            "remaining_time": 209.8003545,
            "test": [
             0.9117834395,
             0.332935406
            ]
           },
           {
            "iteration": 173,
            "learn": [
             0.2837420654
            ],
            "passed_time": 44.23708394,
            "remaining_time": 209.9990307,
            "test": [
             0.9118147811,
             0.3327345041
            ]
           },
           {
            "iteration": 174,
            "learn": [
             0.2829289939
            ],
            "passed_time": 44.6039917,
            "remaining_time": 210.2759609,
            "test": [
             0.9121736933,
             0.3322923995
            ]
           },
           {
            "iteration": 175,
            "learn": [
             0.2824856567
            ],
            "passed_time": 44.87387043,
            "remaining_time": 210.0913025,
            "test": [
             0.9121747043,
             0.3322547174
            ]
           },
           {
            "iteration": 176,
            "learn": [
             0.2817836137
            ],
            "passed_time": 45.13134796,
            "remaining_time": 209.848019,
            "test": [
             0.9123576989,
             0.3319924609
            ]
           },
           {
            "iteration": 177,
            "learn": [
             0.2812238659
            ],
            "passed_time": 45.39686494,
            "remaining_time": 209.6417022,
            "test": [
             0.9125346274,
             0.3317147449
            ]
           },
           {
            "iteration": 178,
            "learn": [
             0.2806786277
            ],
            "passed_time": 45.73287204,
            "remaining_time": 209.7580332,
            "test": [
             0.9127378425,
             0.3314006853
            ]
           },
           {
            "iteration": 179,
            "learn": [
             0.2801430997
            ],
            "passed_time": 45.92825513,
            "remaining_time": 209.2287178,
            "test": [
             0.9127388535,
             0.3313052544
            ]
           },
           {
            "iteration": 180,
            "learn": [
             0.2795349399
            ],
            "passed_time": 46.11240456,
            "remaining_time": 208.6522615,
            "test": [
             0.9128985947,
             0.330945445
            ]
           },
           {
            "iteration": 181,
            "learn": [
             0.2785522184
            ],
            "passed_time": 46.35968184,
            "remaining_time": 208.3638448,
            "test": [
             0.9127772723,
             0.330805779
            ]
           },
           {
            "iteration": 182,
            "learn": [
             0.2778548085
            ],
            "passed_time": 46.6962055,
            "remaining_time": 208.4743164,
            "test": [
             0.9130300273,
             0.330534493
            ]
           },
           {
            "iteration": 183,
            "learn": [
             0.2771166715
            ],
            "passed_time": 46.96417124,
            "remaining_time": 208.2758899,
            "test": [
             0.913065413,
             0.3302281208
            ]
           },
           {
            "iteration": 184,
            "learn": [
             0.27642678
            ],
            "passed_time": 47.20242038,
            "remaining_time": 207.9457979,
            "test": [
             0.913568901,
             0.3296368249
            ]
           },
           {
            "iteration": 185,
            "learn": [
             0.2756000033
            ],
            "passed_time": 47.52652621,
            "remaining_time": 207.9924319,
            "test": [
             0.9138267112,
             0.3293093176
            ]
           },
           {
            "iteration": 186,
            "learn": [
             0.2746532371
            ],
            "passed_time": 47.79497676,
            "remaining_time": 207.7931343,
            "test": [
             0.9139601658,
             0.3290714076
            ]
           },
           {
            "iteration": 187,
            "learn": [
             0.2738616388
            ],
            "passed_time": 48.0926501,
            "remaining_time": 207.7193185,
            "test": [
             0.9142665049,
             0.3285022407
            ]
           },
           {
            "iteration": 188,
            "learn": [
             0.2734175249
            ],
            "passed_time": 48.42464968,
            "remaining_time": 207.790428,
            "test": [
             0.9144282681,
             0.3282927686
            ]
           },
           {
            "iteration": 189,
            "learn": [
             0.2729622303
            ],
            "passed_time": 48.73968645,
            "remaining_time": 207.7849791,
            "test": [
             0.9145485795,
             0.3281043833
            ]
           },
           {
            "iteration": 190,
            "learn": [
             0.2723870295
            ],
            "passed_time": 49.05729184,
            "remaining_time": 207.787168,
            "test": [
             0.9146921444,
             0.3279936352
            ]
           },
           {
            "iteration": 191,
            "learn": [
             0.2714741932
            ],
            "passed_time": 49.29754203,
            "remaining_time": 207.4604894,
            "test": [
             0.9150328582,
             0.3274197727
            ]
           },
           {
            "iteration": 192,
            "learn": [
             0.2709221302
            ],
            "passed_time": 49.58633944,
            "remaining_time": 207.3376991,
            "test": [
             0.9151359822,
             0.3273740648
            ]
           },
           {
            "iteration": 193,
            "learn": [
             0.2704957719
            ],
            "passed_time": 49.99086465,
            "remaining_time": 207.6940047,
            "test": [
             0.9149701749,
             0.3274871645
            ]
           },
           {
            "iteration": 194,
            "learn": [
             0.2696759866
            ],
            "passed_time": 50.4291916,
            "remaining_time": 208.1820474,
            "test": [
             0.9149196239,
             0.3275100408
            ]
           },
           {
            "iteration": 195,
            "learn": [
             0.2690270996
            ],
            "passed_time": 50.88534054,
            "remaining_time": 208.7337439,
            "test": [
             0.9154382772,
             0.3269568368
            ]
           },
           {
            "iteration": 196,
            "learn": [
             0.268401517
            ],
            "passed_time": 51.37028647,
            "remaining_time": 209.392589,
            "test": [
             0.9155575776,
             0.3267989477
            ]
           },
           {
            "iteration": 197,
            "learn": [
             0.267625455
            ],
            "passed_time": 51.80769447,
            "remaining_time": 209.8473281,
            "test": [
             0.9156384592,
             0.3264996458
            ]
           },
           {
            "iteration": 198,
            "learn": [
             0.2669594227
            ],
            "passed_time": 52.30249219,
            "remaining_time": 210.5241017,
            "test": [
             0.9156334041,
             0.3262580928
            ]
           },
           {
            "iteration": 199,
            "learn": [
             0.2663437167
            ],
            "passed_time": 53.21523442,
            "remaining_time": 212.8609377,
            "test": [
             0.9157405722,
             0.3261413209
            ]
           },
           {
            "iteration": 200,
            "learn": [
             0.2658315208
            ],
            "passed_time": 54.12998172,
            "remaining_time": 215.1734099,
            "test": [
             0.9156596906,
             0.3261039043
            ]
           },
           {
            "iteration": 201,
            "learn": [
             0.2650550981
            ],
            "passed_time": 54.67576339,
            "remaining_time": 215.9963326,
            "test": [
             0.916080275,
             0.3256839269
            ]
           },
           {
            "iteration": 202,
            "learn": [
             0.2645877353
            ],
            "passed_time": 55.10765179,
            "remaining_time": 216.3586132,
            "test": [
             0.9161490244,
             0.3255244823
            ]
           },
           {
            "iteration": 203,
            "learn": [
             0.2638978993
            ],
            "passed_time": 55.50979182,
            "remaining_time": 216.5970308,
            "test": [
             0.9161065615,
             0.3254680572
            ]
           },
           {
            "iteration": 204,
            "learn": [
             0.263205067
            ],
            "passed_time": 55.94930995,
            "remaining_time": 216.9741532,
            "test": [
             0.9161662117,
             0.3253208067
            ]
           },
           {
            "iteration": 205,
            "learn": [
             0.2627449174
            ],
            "passed_time": 56.25941449,
            "remaining_time": 216.8445393,
            "test": [
             0.9163158427,
             0.3251206357
            ]
           },
           {
            "iteration": 206,
            "learn": [
             0.2621217485
            ],
            "passed_time": 56.57029362,
            "remaining_time": 216.716149,
            "test": [
             0.9165170357,
             0.3248378113
            ]
           },
           {
            "iteration": 207,
            "learn": [
             0.2614954168
            ],
            "passed_time": 56.85758158,
            "remaining_time": 216.496176,
            "test": [
             0.916782934,
             0.3243556464
            ]
           },
           {
            "iteration": 208,
            "learn": [
             0.2606987416
            ],
            "passed_time": 57.17741394,
            "remaining_time": 216.3987293,
            "test": [
             0.9169052674,
             0.3240850744
            ]
           },
           {
            "iteration": 209,
            "learn": [
             0.2600674438
            ],
            "passed_time": 57.47488789,
            "remaining_time": 216.2150545,
            "test": [
             0.9171681326,
             0.3236988359
            ]
           },
           {
            "iteration": 210,
            "learn": [
             0.259632069
            ],
            "passed_time": 57.77855851,
            "remaining_time": 216.0534723,
            "test": [
             0.9170276008,
             0.3236062395
            ]
           },
           {
            "iteration": 211,
            "learn": [
             0.2588325639
            ],
            "passed_time": 58.10414508,
            "remaining_time": 215.972011,
            "test": [
             0.9172126175,
             0.323177223
            ]
           },
           {
            "iteration": 212,
            "learn": [
             0.2581068282
            ],
            "passed_time": 58.40799741,
            "remaining_time": 215.8079529,
            "test": [
             0.9173693256,
             0.322762294
            ]
           },
           {
            "iteration": 213,
            "learn": [
             0.257582342
            ],
            "passed_time": 58.68193615,
            "remaining_time": 215.5327188,
            "test": [
             0.9177049843,
             0.3224491528
            ]
           },
           {
            "iteration": 214,
            "learn": [
             0.2569993453
            ],
            "passed_time": 58.92442633,
            "remaining_time": 215.1426729,
            "test": [
             0.9178182186,
             0.3221506052
            ]
           },
           {
            "iteration": 215,
            "learn": [
             0.2563603627
            ],
            "passed_time": 59.21672944,
            "remaining_time": 214.9347957,
            "test": [
             0.9179658275,
             0.3219704388
            ]
           },
           {
            "iteration": 216,
            "learn": [
             0.2555707897
            ],
            "passed_time": 59.45552981,
            "remaining_time": 214.5330868,
            "test": [
             0.9178738247,
             0.3220592438
            ]
           },
           {
            "iteration": 217,
            "learn": [
             0.2547363281
            ],
            "passed_time": 59.73908427,
            "remaining_time": 214.2934124,
            "test": [
             0.9181316348,
             0.3218303992
            ]
           },
           {
            "iteration": 218,
            "learn": [
             0.2542560924
            ],
            "passed_time": 60.04692434,
            "remaining_time": 214.1399448,
            "test": [
             0.918141745,
             0.3217267556
            ]
           },
           {
            "iteration": 219,
            "learn": [
             0.2536090643
            ],
            "passed_time": 60.32454404,
            "remaining_time": 213.8779289,
            "test": [
             0.9183075523,
             0.3214009389
            ]
           },
           {
            "iteration": 220,
            "learn": [
             0.2528396329
            ],
            "passed_time": 60.60831535,
            "remaining_time": 213.6374554,
            "test": [
             0.9184501062,
             0.321094007
            ]
           },
           {
            "iteration": 221,
            "learn": [
             0.2521459961
            ],
            "passed_time": 60.90322113,
            "remaining_time": 213.4356128,
            "test": [
             0.9184369629,
             0.3211400784
            ]
           },
           {
            "iteration": 222,
            "learn": [
             0.2514834317
            ],
            "passed_time": 61.14118936,
            "remaining_time": 213.0345477,
            "test": [
             0.91859266,
             0.3209859566
            ]
           },
           {
            "iteration": 223,
            "learn": [
             0.2508913352
            ],
            "passed_time": 61.42075299,
            "remaining_time": 212.7790371,
            "test": [
             0.9186624204,
             0.3207756783
            ]
           },
           {
            "iteration": 224,
            "learn": [
             0.2502077137
            ],
            "passed_time": 61.7337276,
            "remaining_time": 212.6383951,
            "test": [
             0.9186533212,
             0.3206801174
            ]
           },
           {
            "iteration": 225,
            "learn": [
             0.2494990123
            ],
            "passed_time": 62.07239443,
            "remaining_time": 212.5842181,
            "test": [
             0.9185380649,
             0.3206155873
            ]
           },
           {
            "iteration": 226,
            "learn": [
             0.2487607089
            ],
            "passed_time": 62.24311458,
            "remaining_time": 211.9556281,
            "test": [
             0.9187827318,
             0.3202964021
            ]
           },
           {
            "iteration": 227,
            "learn": [
             0.2482091175
            ],
            "passed_time": 62.46922871,
            "remaining_time": 211.5186165,
            "test": [
             0.918846426,
             0.3202736246
            ]
           },
           {
            "iteration": 228,
            "learn": [
             0.2475766824
            ],
            "passed_time": 62.71233328,
            "remaining_time": 211.1406505,
            "test": [
             0.9189576383,
             0.3200466512
            ]
           },
           {
            "iteration": 229,
            "learn": [
             0.2469712136
            ],
            "passed_time": 62.99822678,
            "remaining_time": 210.907107,
            "test": [
             0.9189374179,
             0.3199345838
            ]
           },
           {
            "iteration": 230,
            "learn": [
             0.2463843328
            ],
            "passed_time": 63.28451696,
            "remaining_time": 210.6744309,
            "test": [
             0.9191770296,
             0.3195053133
            ]
           },
           {
            "iteration": 231,
            "learn": [
             0.2455638539
            ],
            "passed_time": 63.55625745,
            "remaining_time": 210.3931281,
            "test": [
             0.9192154484,
             0.3192248301
            ]
           },
           {
            "iteration": 232,
            "learn": [
             0.2450236927
            ],
            "passed_time": 63.77937929,
            "remaining_time": 209.9518623,
            "test": [
             0.9192771206,
             0.3190538499
            ]
           },
           {
            "iteration": 233,
            "learn": [
             0.24427407
            ],
            "passed_time": 64.02413383,
            "remaining_time": 209.5832757,
            "test": [
             0.9191254676,
             0.3191354461
            ]
           },
           {
            "iteration": 234,
            "learn": [
             0.2437362393
            ],
            "passed_time": 64.30098086,
            "remaining_time": 209.3202143,
            "test": [
             0.9192922859,
             0.3188473477
            ]
           },
           {
            "iteration": 235,
            "learn": [
             0.2432709573
            ],
            "passed_time": 64.5473899,
            "remaining_time": 208.9584995,
            "test": [
             0.9194631483,
             0.3185544458
            ]
           },
           {
            "iteration": 236,
            "learn": [
             0.2427268288
            ],
            "passed_time": 64.85294802,
            "remaining_time": 208.7881829,
            "test": [
             0.9195046001,
             0.3184683234
            ]
           },
           {
            "iteration": 237,
            "learn": [
             0.2420450661
            ],
            "passed_time": 65.10659201,
            "remaining_time": 208.4505173,
            "test": [
             0.9193327267,
             0.318386227
            ]
           },
           {
            "iteration": 238,
            "learn": [
             0.2413440496
            ],
            "passed_time": 65.35656652,
            "remaining_time": 208.1018708,
            "test": [
             0.9192245476,
             0.3183573998
            ]
           },
           {
            "iteration": 239,
            "learn": [
             0.2407984508
            ],
            "passed_time": 65.6131968,
            "remaining_time": 207.7751232,
            "test": [
             0.9195531291,
             0.3179443685
            ]
           },
           {
            "iteration": 240,
            "learn": [
             0.2401625477
            ],
            "passed_time": 65.86034569,
            "remaining_time": 207.419097,
            "test": [
             0.9195025781,
             0.3179013746
            ]
           },
           {
            "iteration": 241,
            "learn": [
             0.239537298
            ],
            "passed_time": 66.18740848,
            "remaining_time": 207.3142795,
            "test": [
             0.9196148013,
             0.3177194492
            ]
           },
           {
            "iteration": 242,
            "learn": [
             0.2391332453
            ],
            "passed_time": 66.58356932,
            "remaining_time": 207.4228888,
            "test": [
             0.9195106663,
             0.3178152296
            ]
           },
           {
            "iteration": 243,
            "learn": [
             0.2385011985
            ],
            "passed_time": 67.07035452,
            "remaining_time": 207.8081476,
            "test": [
             0.9195359418,
             0.3174925685
            ]
           },
           {
            "iteration": 244,
            "learn": [
             0.2380114746
            ],
            "passed_time": 67.52818662,
            "remaining_time": 208.0970649,
            "test": [
             0.9195420079,
             0.3174122001
            ]
           },
           {
            "iteration": 245,
            "learn": [
             0.2373114569
            ],
            "passed_time": 67.96779976,
            "remaining_time": 208.3240692,
            "test": [
             0.9195389748,
             0.3172541137
            ]
           },
           {
            "iteration": 246,
            "learn": [
             0.2366654275
            ],
            "passed_time": 68.43347017,
            "remaining_time": 208.6251135,
            "test": [
             0.9195612173,
             0.3172732601
            ]
           },
           {
            "iteration": 247,
            "learn": [
             0.23619468
            ],
            "passed_time": 68.87754729,
            "remaining_time": 208.8544982,
            "test": [
             0.9196744515,
             0.317181403
            ]
           },
           {
            "iteration": 248,
            "learn": [
             0.2356772683
            ],
            "passed_time": 69.35645219,
            "remaining_time": 209.1835165,
            "test": [
             0.919748256,
             0.3170051044
            ]
           },
           {
            "iteration": 249,
            "learn": [
             0.2351899026
            ],
            "passed_time": 69.78762217,
            "remaining_time": 209.3628665,
            "test": [
             0.9198594682,
             0.3168666937
            ]
           },
           {
            "iteration": 250,
            "learn": [
             0.2346214156
            ],
            "passed_time": 70.17722627,
            "remaining_time": 209.4133166,
            "test": [
             0.9198695784,
             0.3168378889
            ]
           },
           {
            "iteration": 251,
            "learn": [
             0.2341022283
            ],
            "passed_time": 70.59990722,
            "remaining_time": 209.5584548,
            "test": [
             0.919997978,
             0.3165959573
            ]
           },
           {
            "iteration": 252,
            "learn": [
             0.2335450328
            ],
            "passed_time": 71.00515651,
            "remaining_time": 209.647636,
            "test": [
             0.9200101102,
             0.3166532568
            ]
           },
           {
            "iteration": 253,
            "learn": [
             0.2326917059
            ],
            "passed_time": 71.42630388,
            "remaining_time": 209.7796169,
            "test": [
             0.9202790416,
             0.3163209164
            ]
           },
           {
            "iteration": 254,
            "learn": [
             0.2322089178
            ],
            "passed_time": 71.86056494,
            "remaining_time": 209.9455721,
            "test": [
             0.920098069,
             0.3164430257
            ]
           },
           {
            "iteration": 255,
            "learn": [
             0.2317583119
            ],
            "passed_time": 72.26615527,
            "remaining_time": 210.0235138,
            "test": [
             0.9201031241,
             0.3164241877
            ]
           },
           {
            "iteration": 256,
            "learn": [
             0.2314600719
            ],
            "passed_time": 72.64516218,
            "remaining_time": 210.0208385,
            "test": [
             0.9202092812,
             0.3162933472
            ]
           },
           {
            "iteration": 257,
            "learn": [
             0.2309205073
            ],
            "passed_time": 72.94652827,
            "remaining_time": 209.7919534,
            "test": [
             0.9203437468,
             0.316284887
            ]
           },
           {
            "iteration": 258,
            "learn": [
             0.2304632568
            ],
            "passed_time": 73.27990513,
            "remaining_time": 209.6540915,
            "test": [
             0.9203973309,
             0.316175681
            ]
           },
           {
            "iteration": 259,
            "learn": [
             0.2295231074
            ],
            "passed_time": 73.63745852,
            "remaining_time": 209.5835358,
            "test": [
             0.9200171873,
             0.3163889827
            ]
           },
           {
            "iteration": 260,
            "learn": [
             0.2290380859
            ],
            "passed_time": 73.98728204,
            "remaining_time": 209.4888944,
            "test": [
             0.9200131433,
             0.3163908124
            ]
           },
           {
            "iteration": 261,
            "learn": [
             0.2283763539
            ],
            "passed_time": 74.34206615,
            "remaining_time": 209.4062779,
            "test": [
             0.9199403498,
             0.3163969999
            ]
           },
           {
            "iteration": 262,
            "learn": [
             0.2278961737
            ],
            "passed_time": 74.71546576,
            "remaining_time": 209.3737577,
            "test": [
             0.9198716004,
             0.3164246303
            ]
           },
           {
            "iteration": 263,
            "learn": [
             0.2272715621
            ],
            "passed_time": 75.04421265,
            "remaining_time": 209.2141686,
            "test": [
             0.9199170964,
             0.3161935466
            ]
           },
           {
            "iteration": 264,
            "learn": [
             0.2267100941
            ],
            "passed_time": 75.45418495,
            "remaining_time": 209.2785885,
            "test": [
             0.9198594682,
             0.3161253375
            ]
           },
           {
            "iteration": 265,
            "learn": [
             0.226266646
            ],
            "passed_time": 75.82467613,
            "remaining_time": 209.2304973,
            "test": [
             0.9199029421,
             0.316016046
            ]
           },
           {
            "iteration": 266,
            "learn": [
             0.2258282471
            ],
            "passed_time": 76.19131431,
            "remaining_time": 209.1694134,
            "test": [
             0.9198716004,
             0.3160115706
            ]
           },
           {
            "iteration": 267,
            "learn": [
             0.2251765026
            ],
            "passed_time": 76.50481788,
            "remaining_time": 208.9609205,
            "test": [
             0.9198938429,
             0.3159126952
            ]
           },
           {
            "iteration": 268,
            "learn": [
             0.2246703408
            ],
            "passed_time": 76.7901446,
            "remaining_time": 208.675077,
            "test": [
             0.9196218785,
             0.3160799257
            ]
           },
           {
            "iteration": 269,
            "learn": [
             0.2240895219
            ],
            "passed_time": 77.11294598,
            "remaining_time": 208.4905577,
            "test": [
             0.9198321707,
             0.315824263
            ]
           },
           {
            "iteration": 270,
            "learn": [
             0.2236446311
            ],
            "passed_time": 77.34295613,
            "remaining_time": 208.055406,
            "test": [
             0.9197816197,
             0.315874451
            ]
           },
           {
            "iteration": 271,
            "learn": [
             0.2232603038
            ],
            "passed_time": 77.63575369,
            "remaining_time": 207.7898113,
            "test": [
             0.9197452229,
             0.3158943818
            ]
           },
           {
            "iteration": 272,
            "learn": [
             0.2227083657
            ],
            "passed_time": 77.9045521,
            "remaining_time": 207.4601076,
            "test": [
             0.9198099282,
             0.3158842529
            ]
           },
           {
            "iteration": 273,
            "learn": [
             0.2222155484
            ],
            "passed_time": 78.19611209,
            "remaining_time": 207.1911583,
            "test": [
             0.9198938429,
             0.3158332877
            ]
           },
           {
            "iteration": 274,
            "learn": [
             0.2217606978
            ],
            "passed_time": 78.51594079,
            "remaining_time": 206.9965712,
            "test": [
             0.9199393388,
             0.3157301436
            ]
           },
           {
            "iteration": 275,
            "learn": [
             0.2212148632
            ],
            "passed_time": 78.81368368,
            "remaining_time": 206.7431413,
            "test": [
             0.9198291376,
             0.3156681945
            ]
           },
           {
            "iteration": 276,
            "learn": [
             0.2205838568
            ],
            "passed_time": 79.08585114,
            "remaining_time": 206.4226367,
            "test": [
             0.9198756445,
             0.3156072861
            ]
           },
           {
            "iteration": 277,
            "learn": [
             0.2199220415
            ],
            "passed_time": 79.35108999,
            "remaining_time": 206.0844855,
            "test": [
             0.9200121322,
             0.3153582242
            ]
           },
           {
            "iteration": 278,
            "learn": [
             0.2194964738
            ],
            "passed_time": 79.63193357,
            "remaining_time": 205.7871832,
            "test": [
             0.920052573,
             0.3152858449
            ]
           },
           {
            "iteration": 279,
            "learn": [
             0.2188753995
            ],
            "passed_time": 79.90164659,
            "remaining_time": 205.4613769,
            "test": [
             0.9200454959,
             0.3152036454
            ]
           },
           {
            "iteration": 280,
            "learn": [
             0.2183456976
            ],
            "passed_time": 80.18070755,
            "remaining_time": 205.1598887,
            "test": [
             0.9202466889,
             0.3149045212
            ]
           },
           {
            "iteration": 281,
            "learn": [
             0.2178939264
            ],
            "passed_time": 80.49225844,
            "remaining_time": 204.9412821,
            "test": [
             0.920251744,
             0.3148403249
            ]
           },
           {
            "iteration": 282,
            "learn": [
             0.2174887917
            ],
            "passed_time": 80.80761692,
            "remaining_time": 204.7316655,
            "test": [
             0.9204266505,
             0.3145975667
            ]
           },
           {
            "iteration": 283,
            "learn": [
             0.2169294323
            ],
            "passed_time": 81.05072232,
            "remaining_time": 204.339145,
            "test": [
             0.9205348296,
             0.3143910727
            ]
           },
           {
            "iteration": 284,
            "learn": [
             0.2165512085
            ],
            "passed_time": 81.365507,
            "remaining_time": 204.1275,
            "test": [
             0.9205085431,
             0.3144042554
            ]
           },
           {
            "iteration": 285,
            "learn": [
             0.216173928
            ],
            "passed_time": 81.60954534,
            "remaining_time": 203.7385153,
            "test": [
             0.9203336366,
             0.3143784889
            ]
           },
           {
            "iteration": 286,
            "learn": [
             0.2156419927
            ],
            "passed_time": 81.78615974,
            "remaining_time": 203.183038,
            "test": [
             0.9202770195,
             0.3143735698
            ]
           },
           {
            "iteration": 287,
            "learn": [
             0.2150347484
            ],
            "passed_time": 82.11168913,
            "remaining_time": 202.9983426,
            "test": [
             0.9202466889,
             0.3143731364
            ]
           },
           {
            "iteration": 288,
            "learn": [
             0.2144593395
            ],
            "passed_time": 82.45172572,
            "remaining_time": 202.8483633,
            "test": [
             0.9202840967,
             0.3143754025
            ]
           },
           {
            "iteration": 289,
            "learn": [
             0.2140640536
            ],
            "passed_time": 82.85156278,
            "remaining_time": 202.8434813,
            "test": [
             0.9202204024,
             0.3143699832
            ]
           },
           {
            "iteration": 290,
            "learn": [
             0.2136887152
            ],
            "passed_time": 83.28680959,
            "remaining_time": 202.9221581,
            "test": [
             0.9202911738,
             0.3142074709
            ]
           },
           {
            "iteration": 291,
            "learn": [
             0.2133919872
            ],
            "passed_time": 83.70075897,
            "remaining_time": 202.9456758,
            "test": [
             0.9202315236,
             0.3142377158
            ]
           },
           {
            "iteration": 292,
            "learn": [
             0.2128966037
            ],
            "passed_time": 84.13562035,
            "remaining_time": 203.0166675,
            "test": [
             0.9201607522,
             0.3142604287
            ]
           },
           {
            "iteration": 293,
            "learn": [
             0.2124305032
            ],
            "passed_time": 84.48873047,
            "remaining_time": 202.8879038,
            "test": [
             0.9202163583,
             0.3142142151
            ]
           },
           {
            "iteration": 294,
            "learn": [
             0.2119893161
            ],
            "passed_time": 85.00968567,
            "remaining_time": 203.1587403,
            "test": [
             0.9202770195,
             0.314078622
            ]
           },
           {
            "iteration": 295,
            "learn": [
             0.2114090382
            ],
            "passed_time": 85.48560794,
            "remaining_time": 203.3171216,
            "test": [
             0.9203397028,
             0.3139774406
            ]
           },
           {
            "iteration": 296,
            "learn": [
             0.2109748424
            ],
            "passed_time": 86.01389142,
            "remaining_time": 203.5951706,
            "test": [
             0.9204600142,
             0.3138580725
            ]
           },
           {
            "iteration": 297,
            "learn": [
             0.2105347373
            ],
            "passed_time": 86.50376042,
            "remaining_time": 203.7773148,
            "test": [
             0.9205125872,
             0.3137637371
            ]
           },
           {
            "iteration": 298,
            "learn": [
             0.2101753096
            ],
            "passed_time": 86.96000617,
            "remaining_time": 203.8761349,
            "test": [
             0.9206237994,
             0.3135795672
            ]
           },
           {
            "iteration": 299,
            "learn": [
             0.2096526267
            ],
            "passed_time": 87.38056599,
            "remaining_time": 203.8879873,
            "test": [
             0.9208078051,
             0.3133365797
            ]
           },
           {
            "iteration": 300,
            "learn": [
             0.2093043241
            ],
            "passed_time": 87.78129444,
            "remaining_time": 203.850913,
            "test": [
             0.9208704883,
             0.3131417103
            ]
           },
           {
            "iteration": 301,
            "learn": [
             0.208736711
            ],
            "passed_time": 88.26419527,
            "remaining_time": 204.001352,
            "test": [
             0.9210959458,
             0.3127909139
            ]
           },
           {
            "iteration": 302,
            "learn": [
             0.2082393161
            ],
            "passed_time": 88.67110759,
            "remaining_time": 203.9728118,
            "test": [
             0.9212405217,
             0.3126025691
            ]
           },
           {
            "iteration": 303,
            "learn": [
             0.2077632419
            ],
            "passed_time": 89.08624218,
            "remaining_time": 203.9606071,
            "test": [
             0.9213861086,
             0.3124693957
            ]
           },
           {
            "iteration": 304,
            "learn": [
             0.207380593
            ],
            "passed_time": 89.3329684,
            "remaining_time": 203.56201,
            "test": [
             0.9214123951,
             0.3123967196
            ]
           },
           {
            "iteration": 305,
            "learn": [
             0.2070708674
            ],
            "passed_time": 89.57322476,
            "remaining_time": 203.149732,
            "test": [
             0.9214892326,
             0.3122516257
            ]
           },
           {
            "iteration": 306,
            "learn": [
             0.2066399175
            ],
            "passed_time": 89.80559648,
            "remaining_time": 202.7207764,
            "test": [
             0.9215691032,
             0.3121836878
            ]
           },
           {
            "iteration": 307,
            "learn": [
             0.2060066639
            ],
            "passed_time": 90.12036104,
            "remaining_time": 202.4782138,
            "test": [
             0.921606511,
             0.3120970597
            ]
           },
           {
            "iteration": 308,
            "learn": [
             0.2054776695
            ],
            "passed_time": 90.45391885,
            "remaining_time": 202.2772101,
            "test": [
             0.9215519159,
             0.3120097967
            ]
           },
           {
            "iteration": 309,
            "learn": [
             0.2048903864
            ],
            "passed_time": 90.77562162,
            "remaining_time": 202.0489643,
            "test": [
             0.9216429077,
             0.311878291
            ]
           },
           {
            "iteration": 310,
            "learn": [
             0.2045409324
            ],
            "passed_time": 90.9999227,
            "remaining_time": 201.6043304,
            "test": [
             0.9215043979,
             0.3119824466
            ]
           },
           {
            "iteration": 311,
            "learn": [
             0.2042142556
            ],
            "passed_time": 91.27396955,
            "remaining_time": 201.2708047,
            "test": [
             0.9212870286,
             0.3121453271
            ]
           },
           {
            "iteration": 312,
            "learn": [
             0.2039129916
            ],
            "passed_time": 91.54437329,
            "remaining_time": 200.9296628,
            "test": [
             0.9214882216,
             0.3119551123
            ]
           },
           {
            "iteration": 313,
            "learn": [
             0.2035152505
            ],
            "passed_time": 91.83708577,
            "remaining_time": 200.6377097,
            "test": [
             0.9215316955,
             0.3118637886
            ]
           },
           {
            "iteration": 314,
            "learn": [
             0.2031220037
            ],
            "passed_time": 92.10591142,
            "remaining_time": 200.2938074,
            "test": [
             0.9214760894,
             0.3118466708
            ]
           },
           {
            "iteration": 315,
            "learn": [
             0.2025722989
            ],
            "passed_time": 92.3666754,
            "remaining_time": 199.9329303,
            "test": [
             0.9215327065,
             0.3118494343
            ]
           },
           {
            "iteration": 316,
            "learn": [
             0.202226937
            ],
            "passed_time": 92.6512787,
            "remaining_time": 199.6240484,
            "test": [
             0.9214963098,
             0.3118106281
            ]
           },
           {
            "iteration": 317,
            "learn": [
             0.2018310547
            ],
            "passed_time": 92.9289923,
            "remaining_time": 199.3005432,
            "test": [
             0.9214639571,
             0.3117952148
            ]
           },
           {
            "iteration": 318,
            "learn": [
             0.2014290827
            ],
            "passed_time": 93.21654127,
            "remaining_time": 198.9983216,
            "test": [
             0.9213689212,
             0.3118787992
            ]
           },
           {
            "iteration": 319,
            "learn": [
             0.2009297458
            ],
            "passed_time": 93.5545983,
            "remaining_time": 198.8035214,
            "test": [
             0.9213365686,
             0.3117251883
            ]
           },
           {
            "iteration": 320,
            "learn": [
             0.2004433927
            ],
            "passed_time": 93.82759064,
            "remaining_time": 198.4701995,
            "test": [
             0.9215428167,
             0.3114618919
            ]
           },
           {
            "iteration": 321,
            "learn": [
             0.1999852128
            ],
            "passed_time": 94.01460448,
            "remaining_time": 197.9562169,
            "test": [
             0.9215468608,
             0.3113776206
            ]
           },
           {
            "iteration": 322,
            "learn": [
             0.1996308899
            ],
            "passed_time": 94.20659772,
            "remaining_time": 197.4546955,
            "test": [
             0.9215478718,
             0.3112703001
            ]
           },
           {
            "iteration": 323,
            "learn": [
             0.1994644997
            ],
            "passed_time": 94.49847814,
            "remaining_time": 197.1634914,
            "test": [
             0.9214861996,
             0.3113346201
            ]
           },
           {
            "iteration": 324,
            "learn": [
             0.198982003
            ],
            "passed_time": 94.70986698,
            "remaining_time": 196.7051083,
            "test": [
             0.9215316955,
             0.3112859893
            ]
           },
           {
            "iteration": 325,
            "learn": [
             0.1986620123
            ],
            "passed_time": 94.91033755,
            "remaining_time": 196.2256672,
            "test": [
             0.9216004448,
             0.3112247966
            ]
           },
           {
            "iteration": 326,
            "learn": [
             0.1982558372
            ],
            "passed_time": 95.14321897,
            "remaining_time": 195.8146372,
            "test": [
             0.9217217673,
             0.3111096645
            ]
           },
           {
            "iteration": 327,
            "learn": [
             0.1977151489
            ],
            "passed_time": 95.33335684,
            "remaining_time": 195.3171213,
            "test": [
             0.9216236983,
             0.3112142415
            ]
           },
           {
            "iteration": 328,
            "learn": [
             0.1971331094
            ],
            "passed_time": 95.65916804,
            "remaining_time": 195.0981816,
            "test": [
             0.9217460317,
             0.3110782427
            ]
           },
           {
            "iteration": 329,
            "learn": [
             0.1966547047
            ],
            "passed_time": 95.83772754,
            "remaining_time": 194.5796286,
            "test": [
             0.9219219492,
             0.3109603796
            ]
           },
           {
            "iteration": 330,
            "learn": [
             0.1962846513
            ],
            "passed_time": 96.01920723,
            "remaining_time": 194.0690321,
            "test": [
             0.921910828,
             0.3109315764
            ]
           },
           {
            "iteration": 331,
            "learn": [
             0.1960447554
            ],
            "passed_time": 96.19449828,
            "remaining_time": 193.5479664,
            "test": [
             0.9219199272,
             0.3109116375
            ]
           },
           {
            "iteration": 332,
            "learn": [
             0.195365878
            ],
            "passed_time": 96.37186998,
            "remaining_time": 193.033145,
            "test": [
             0.9218461227,
             0.3108953273
            ]
           },
           {
            "iteration": 333,
            "learn": [
             0.1950567627
            ],
            "passed_time": 96.59912612,
            "remaining_time": 192.6198144,
            "test": [
             0.9218713982,
             0.310837034
            ]
           },
           {
            "iteration": 334,
            "learn": [
             0.1946999845
            ],
            "passed_time": 96.79348595,
            "remaining_time": 192.142293,
            "test": [
             0.9218774644,
             0.3107685217
            ]
           },
           {
            "iteration": 335,
            "learn": [
             0.1943780795
            ],
            "passed_time": 97.01790758,
            "remaining_time": 191.725865,
            "test": [
             0.9216843595,
             0.3108545306
            ]
           },
           {
            "iteration": 336,
            "learn": [
             0.194047699
            ],
            "passed_time": 97.20166543,
            "remaining_time": 191.2305762,
            "test": [
             0.9216924477,
             0.3108548398
            ]
           },
           {
            "iteration": 337,
            "learn": [
             0.1936428694
            ],
            "passed_time": 97.39083148,
            "remaining_time": 190.7477232,
            "test": [
             0.9218370236,
             0.3106571702
            ]
           },
           {
            "iteration": 338,
            "learn": [
             0.1932153598
            ],
            "passed_time": 97.63386169,
            "remaining_time": 190.37163,
            "test": [
             0.9220897786,
             0.3104778228
            ]
           },
           {
            "iteration": 339,
            "learn": [
             0.1929142068
            ],
            "passed_time": 97.96544473,
            "remaining_time": 190.1682162,
            "test": [
             0.9222788393,
             0.310163421
            ]
           },
           {
            "iteration": 340,
            "learn": [
             0.1923735185
            ],
            "passed_time": 98.24319052,
            "remaining_time": 189.8600075,
            "test": [
             0.9222424426,
             0.3101608708
            ]
           },
           {
            "iteration": 341,
            "learn": [
             0.1919350641
            ],
            "passed_time": 98.47658294,
            "remaining_time": 189.466642,
            "test": [
             0.9223051259,
             0.3101084243
            ]
           },
           {
            "iteration": 342,
            "learn": [
             0.1916488093
            ],
            "passed_time": 98.79264344,
            "remaining_time": 189.2325561,
            "test": [
             0.9223031038,
             0.309999942
            ]
           },
           {
            "iteration": 343,
            "learn": [
             0.1911165411
            ],
            "passed_time": 99.13446941,
            "remaining_time": 189.0471277,
            "test": [
             0.9222990598,
             0.3099188792
            ]
           },
           {
            "iteration": 344,
            "learn": [
             0.1904735773
            ],
            "passed_time": 99.49854803,
            "remaining_time": 188.9030405,
            "test": [
             0.9223233242,
             0.3099414441
            ]
           },
           {
            "iteration": 345,
            "learn": [
             0.1900809271
            ],
            "passed_time": 99.95407667,
            "remaining_time": 188.930538,
            "test": [
             0.922311192,
             0.3098933579
            ]
           },
           {
            "iteration": 346,
            "learn": [
             0.1895609353
            ],
            "passed_time": 100.4238452,
            "remaining_time": 188.9820488,
            "test": [
             0.9224507128,
             0.3097415703
            ]
           },
           {
            "iteration": 347,
            "learn": [
             0.1891659546
            ],
            "passed_time": 100.9667358,
            "remaining_time": 189.1675625,
            "test": [
             0.9223425336,
             0.3098243093
            ]
           },
           {
            "iteration": 348,
            "learn": [
             0.1888009089
            ],
            "passed_time": 101.3482201,
            "remaining_time": 189.0478261,
            "test": [
             0.9222141341,
             0.3099045075
            ]
           },
           {
            "iteration": 349,
            "learn": [
             0.188389199
            ],
            "passed_time": 101.7041047,
            "remaining_time": 188.8790515,
            "test": [
             0.9222343545,
             0.3098143954
            ]
           },
           {
            "iteration": 350,
            "learn": [
             0.1878098228
            ],
            "passed_time": 102.1633171,
            "remaining_time": 188.9002644,
            "test": [
             0.9222050349,
             0.3097970249
            ]
           },
           {
            "iteration": 351,
            "learn": [
             0.1874873629
            ],
            "passed_time": 102.5323436,
            "remaining_time": 188.7527235,
            "test": [
             0.9223304014,
             0.3095528502
            ]
           },
           {
            "iteration": 352,
            "learn": [
             0.1868192222
            ],
            "passed_time": 102.9251543,
            "remaining_time": 188.6475207,
            "test": [
             0.9225396825,
             0.309184264
            ]
           },
           {
            "iteration": 353,
            "learn": [
             0.1863914351
            ],
            "passed_time": 103.2780544,
            "remaining_time": 188.467862,
            "test": [
             0.9225295723,
             0.3090954837
            ]
           },
           {
            "iteration": 354,
            "learn": [
             0.1859712635
            ],
            "passed_time": 103.5726688,
            "remaining_time": 188.1813279,
            "test": [
             0.9224810434,
             0.3091026496
            ]
           },
           {
            "iteration": 355,
            "learn": [
             0.1857366943
            ],
            "passed_time": 103.9675995,
            "remaining_time": 188.0762193,
            "test": [
             0.9223961177,
             0.3091339441
            ]
           },
           {
            "iteration": 356,
            "learn": [
             0.1852826344
            ],
            "passed_time": 104.3345297,
            "remaining_time": 187.9190549,
            "test": [
             0.9226367405,
             0.3088486115
            ]
           },
           {
            "iteration": 357,
            "learn": [
             0.1848539179
            ],
            "passed_time": 104.7030912,
            "remaining_time": 187.763644,
            "test": [
             0.9227600849,
             0.3085140842
            ]
           },
           {
            "iteration": 358,
            "learn": [
             0.1844324424
            ],
            "passed_time": 104.92942,
            "remaining_time": 187.3530869,
            "test": [
             0.9227519968,
             0.3084769653
            ]
           },
           {
            "iteration": 359,
            "learn": [
             0.1840261425
            ],
            "passed_time": 105.232202,
            "remaining_time": 187.0794702,
            "test": [
             0.9228490547,
             0.3083610004
            ]
           },
           {
            "iteration": 360,
            "learn": [
             0.1836541193
            ],
            "passed_time": 105.4363989,
            "remaining_time": 186.6311881,
            "test": [
             0.9228338894,
             0.3084050556
            ]
           },
           {
            "iteration": 361,
            "learn": [
             0.1833039717
            ],
            "passed_time": 105.6412448,
            "remaining_time": 186.1853983,
            "test": [
             0.9228278233,
             0.3082990993
            ]
           },
           {
            "iteration": 362,
            "learn": [
             0.1830560025
            ],
            "passed_time": 105.818098,
            "remaining_time": 185.6918139,
            "test": [
             0.9226761703,
             0.3083964063
            ]
           },
           {
            "iteration": 363,
            "learn": [
             0.1827262046
            ],
            "passed_time": 106.4245516,
            "remaining_time": 185.9505902,
            "test": [
             0.9227368315,
             0.3082777674
            ]
           },
           {
            "iteration": 364,
            "learn": [
             0.1824852267
            ],
            "passed_time": 106.7447308,
            "remaining_time": 185.7065865,
            "test": [
             0.9228712971,
             0.3081159297
            ]
           },
           {
            "iteration": 365,
            "learn": [
             0.1820257846
            ],
            "passed_time": 107.0431196,
            "remaining_time": 185.4244202,
            "test": [
             0.9229178041,
             0.3079480476
            ]
           },
           {
            "iteration": 366,
            "learn": [
             0.1816403753
            ],
            "passed_time": 107.328625,
            "remaining_time": 185.1199444,
            "test": [
             0.9229794763,
             0.3077973953
            ]
           },
           {
            "iteration": 367,
            "learn": [
             0.1811785611
            ],
            "passed_time": 107.6604851,
            "remaining_time": 184.895181,
            "test": [
             0.9230330604,
             0.3076570161
            ]
           },
           {
            "iteration": 368,
            "learn": [
             0.180890281
            ],
            "passed_time": 107.9557428,
            "remaining_time": 184.6072459,
            "test": [
             0.9229592559,
             0.3077393117
            ]
           },
           {
            "iteration": 369,
            "learn": [
             0.1805362909
            ],
            "passed_time": 108.1954291,
            "remaining_time": 184.2246496,
            "test": [
             0.9228571429,
             0.3078071249
            ]
           },
           {
            "iteration": 370,
            "learn": [
             0.1800455544
            ],
            "passed_time": 108.482277,
            "remaining_time": 183.9227823,
            "test": [
             0.9228500657,
             0.3077195628
            ]
           },
           {
            "iteration": 371,
            "learn": [
             0.1796926048
            ],
            "passed_time": 108.7736192,
            "remaining_time": 183.628583,
            "test": [
             0.9227550298,
             0.3077208395
            ]
           },
           {
            "iteration": 372,
            "learn": [
             0.1793088462
            ],
            "passed_time": 109.0643778,
            "remaining_time": 183.3334179,
            "test": [
             0.9226387625,
             0.3079085424
            ]
           },
           {
            "iteration": 373,
            "learn": [
             0.1789505144
            ],
            "passed_time": 109.3624643,
            "remaining_time": 183.0505419,
            "test": [
             0.9225993327,
             0.3079326805
            ]
           },
           {
            "iteration": 374,
            "learn": [
             0.1785480846
            ],
            "passed_time": 109.6366744,
            "remaining_time": 182.7277906,
            "test": [
             0.9227894045,
             0.3076223463
            ]
           },
           {
            "iteration": 375,
            "learn": [
             0.1782363059
            ],
            "passed_time": 109.9335242,
            "remaining_time": 182.44287,
            "test": [
             0.922812658,
             0.3076131751
            ]
           },
           {
            "iteration": 376,
            "learn": [
             0.1779206709
            ],
            "passed_time": 110.2419609,
            "remaining_time": 182.1770335,
            "test": [
             0.922763118,
             0.307529105
            ]
           },
           {
            "iteration": 377,
            "learn": [
             0.1775238315
            ],
            "passed_time": 110.5487112,
            "remaining_time": 181.9081967,
            "test": [
             0.922812658,
             0.3074391883
            ]
           },
           {
            "iteration": 378,
            "learn": [
             0.1771819791
            ],
            "passed_time": 110.8682276,
            "remaining_time": 181.6600774,
            "test": [
             0.9228197351,
             0.3073471423
            ]
           },
           {
            "iteration": 379,
            "learn": [
             0.176897583
            ],
            "passed_time": 111.1423641,
            "remaining_time": 181.3375414,
            "test": [
             0.9227600849,
             0.3073489821
            ]
           },
           {
            "iteration": 380,
            "learn": [
             0.1766003418
            ],
            "passed_time": 111.4597446,
            "remaining_time": 181.0855169,
            "test": [
             0.9227489637,
             0.3073402249
            ]
           },
           {
            "iteration": 381,
            "learn": [
             0.1762379039
            ],
            "passed_time": 111.7502872,
            "remaining_time": 180.7897316,
            "test": [
             0.9227863714,
             0.3073134518
            ]
           },
           {
            "iteration": 382,
            "learn": [
             0.1759581965
            ],
            "passed_time": 112.0051777,
            "remaining_time": 180.4365396,
            "test": [
             0.9229309473,
             0.3071335429
            ]
           },
           {
            "iteration": 383,
            "learn": [
             0.1756117387
            ],
            "passed_time": 112.2887949,
            "remaining_time": 180.1299419,
            "test": [
             0.9230229502,
             0.3070337459
            ]
           },
           {
            "iteration": 384,
            "learn": [
             0.1753942316
            ],
            "passed_time": 112.5534571,
            "remaining_time": 179.7931847,
            "test": [
             0.9229612779,
             0.3070464754
            ]
           },
           {
            "iteration": 385,
            "learn": [
             0.1750464422
            ],
            "passed_time": 112.8382664,
            "remaining_time": 179.4888487,
            "test": [
             0.9228874735,
             0.3069917724
            ]
           },
           {
            "iteration": 386,
            "learn": [
             0.1748169778
            ],
            "passed_time": 113.1043485,
            "remaining_time": 179.15495,
            "test": [
             0.9229380245,
             0.3068918554
            ]
           },
           {
            "iteration": 387,
            "learn": [
             0.1744824357
            ],
            "passed_time": 113.4097062,
            "remaining_time": 178.883351,
            "test": [
             0.9229784653,
             0.3067419559
            ]
           },
           {
            "iteration": 388,
            "learn": [
             0.1741589633
            ],
            "passed_time": 113.6900805,
            "remaining_time": 178.5723372,
            "test": [
             0.9230219391,
             0.3066264376
            ]
           },
           {
            "iteration": 389,
            "learn": [
             0.1737904913
            ],
            "passed_time": 114.0052484,
            "remaining_time": 178.3159013,
            "test": [
             0.9231200081,
             0.3064199492
            ]
           },
           {
            "iteration": 390,
            "learn": [
             0.1734373335
            ],
            "passed_time": 114.2352475,
            "remaining_time": 177.9265109,
            "test": [
             0.9230522697,
             0.3064267504
            ]
           },
           {
            "iteration": 391,
            "learn": [
             0.1730952176
            ],
            "passed_time": 114.5633834,
            "remaining_time": 177.6901457,
            "test": [
             0.9231088869,
             0.3063352793
            ]
           },
           {
            "iteration": 392,
            "learn": [
             0.1727329046
            ],
            "passed_time": 114.8860175,
            "remaining_time": 177.4448158,
            "test": [
             0.9232069558,
             0.3062854644
            ]
           },
           {
            "iteration": 393,
            "learn": [
             0.1724223189
            ],
            "passed_time": 115.3967379,
            "remaining_time": 177.4883837,
            "test": [
             0.9231837024,
             0.3062425767
            ]
           },
           {
            "iteration": 394,
            "learn": [
             0.1720728233
            ],
            "passed_time": 115.9195619,
            "remaining_time": 177.5476834,
            "test": [
             0.9231291073,
             0.3061836522
            ]
           },
           {
            "iteration": 395,
            "learn": [
             0.171511175
            ],
            "passed_time": 116.4296778,
            "remaining_time": 177.58466,
            "test": [
             0.9232595289,
             0.3060218774
            ]
           },
           {
            "iteration": 396,
            "learn": [
             0.1711929599
            ],
            "passed_time": 116.8971642,
            "remaining_time": 177.554131,
            "test": [
             0.9233484986,
             0.3059386328
            ]
           },
           {
            "iteration": 397,
            "learn": [
             0.1707877697
            ],
            "passed_time": 117.2809109,
            "remaining_time": 177.3947447,
            "test": [
             0.9232908705,
             0.3059282596
            ]
           },
           {
            "iteration": 398,
            "learn": [
             0.1705013483
            ],
            "passed_time": 117.6856441,
            "remaining_time": 177.2658448,
            "test": [
             0.9232797493,
             0.3058132695
            ]
           },
           {
            "iteration": 399,
            "learn": [
             0.1701959783
            ],
            "passed_time": 118.1226396,
            "remaining_time": 177.1839594,
            "test": [
             0.9232008897,
             0.305976169
            ]
           },
           {
            "iteration": 400,
            "learn": [
             0.1698821883
            ],
            "passed_time": 118.5606709,
            "remaining_time": 177.10185,
            "test": [
             0.9231766252,
             0.3059847544
            ]
           },
           {
            "iteration": 401,
            "learn": [
             0.169610235
            ],
            "passed_time": 118.9566602,
            "remaining_time": 176.9554299,
            "test": [
             0.9233100799,
             0.3059265373
            ]
           },
           {
            "iteration": 402,
            "learn": [
             0.1692706576
            ],
            "passed_time": 119.4282834,
            "remaining_time": 176.9198144,
            "test": [
             0.9233444546,
             0.3059045334
            ]
           },
           {
            "iteration": 403,
            "learn": [
             0.1689045022
            ],
            "passed_time": 119.827886,
            "remaining_time": 176.7757923,
            "test": [
             0.9232089779,
             0.3059113118
            ]
           },
           {
            "iteration": 404,
            "learn": [
             0.1685462397
            ],
            "passed_time": 120.2722038,
            "remaining_time": 176.6962007,
            "test": [
             0.9230724901,
             0.3059735218
            ]
           },
           {
            "iteration": 405,
            "learn": [
             0.1683030978
            ],
            "passed_time": 120.6643854,
            "remaining_time": 176.5385343,
            "test": [
             0.9229916085,
             0.3060351739
            ]
           },
           {
            "iteration": 406,
            "learn": [
             0.1679454595
            ],
            "passed_time": 121.041872,
            "remaining_time": 176.3583049,
            "test": [
             0.9230087959,
             0.3060068014
            ]
           },
           {
            "iteration": 407,
            "learn": [
             0.1675511031
            ],
            "passed_time": 121.3080372,
            "remaining_time": 176.0155834,
            "test": [
             0.9230512587,
             0.306075812
            ]
           },
           {
            "iteration": 408,
            "learn": [
             0.1671318193
            ],
            "passed_time": 121.597412,
            "remaining_time": 175.7067738,
            "test": [
             0.9230826003,
             0.3060265172
            ]
           },
           {
            "iteration": 409,
            "learn": [
             0.166862141
            ],
            "passed_time": 121.9094456,
            "remaining_time": 175.4306656,
            "test": [
             0.9230189061,
             0.3060338358
            ]
           },
           {
            "iteration": 410,
            "learn": [
             0.1665642478
            ],
            "passed_time": 122.2207227,
            "remaining_time": 175.1532985,
            "test": [
             0.9229794763,
             0.3060860818
            ]
           },
           {
            "iteration": 411,
            "learn": [
             0.1663335627
            ],
            "passed_time": 122.5017264,
            "remaining_time": 174.832561,
            "test": [
             0.9230593469,
             0.30596602
            ]
           },
           {
            "iteration": 412,
            "learn": [
             0.1660888117
            ],
            "passed_time": 122.8258061,
            "remaining_time": 174.5732401,
            "test": [
             0.9231614599,
             0.3058535999
            ]
           },
           {
            "iteration": 413,
            "learn": [
             0.1657312844
            ],
            "passed_time": 123.175442,
            "remaining_time": 174.3497803,
            "test": [
             0.9230300273,
             0.3059487209
            ]
           },
           {
            "iteration": 414,
            "learn": [
             0.1653768921
            ],
            "passed_time": 123.5267367,
            "remaining_time": 174.1280505,
            "test": [
             0.9228571429,
             0.3060666532
            ]
           },
           {
            "iteration": 415,
            "learn": [
             0.1650764327
            ],
            "passed_time": 123.913067,
            "remaining_time": 173.9548825,
            "test": [
             0.9229046608,
             0.3059522778
            ]
           },
           {
            "iteration": 416,
            "learn": [
             0.1647550964
            ],
            "passed_time": 124.2479307,
            "remaining_time": 173.7087377,
            "test": [
             0.9228793853,
             0.3059628969
            ]
           },
           {
            "iteration": 417,
            "learn": [
             0.1644784823
            ],
            "passed_time": 124.6120335,
            "remaining_time": 173.5028792,
            "test": [
             0.9228783743,
             0.3059280394
            ]
           },
           {
            "iteration": 418,
            "learn": [
             0.1641085538
            ],
            "passed_time": 125.0580663,
            "remaining_time": 173.4098723,
            "test": [
             0.9230108179,
             0.305747933
            ]
           },
           {
            "iteration": 419,
            "learn": [
             0.1638769531
            ],
            "passed_time": 125.4068811,
            "remaining_time": 173.1809311,
            "test": [
             0.9229339804,
             0.305759623
            ]
           },
           {
            "iteration": 420,
            "learn": [
             0.1634055953
            ],
            "passed_time": 125.8178005,
            "remaining_time": 173.0368325,
            "test": [
             0.9229309473,
             0.3057745413
            ]
           },
           {
            "iteration": 421,
            "learn": [
             0.1629670577
            ],
            "passed_time": 126.1756111,
            "remaining_time": 172.818728,
            "test": [
             0.9229461126,
             0.305842129
            ]
           },
           {
            "iteration": 422,
            "learn": [
             0.1626407554
            ],
            "passed_time": 126.4706602,
            "remaining_time": 172.5143521,
            "test": [
             0.9229916085,
             0.3056833367
            ]
           },
           {
            "iteration": 423,
            "learn": [
             0.1621646812
            ],
            "passed_time": 126.7738281,
            "remaining_time": 172.2210495,
            "test": [
             0.9230108179,
             0.3055711219
            ]
           },
           {
            "iteration": 424,
            "learn": [
             0.1618069319
            ],
            "passed_time": 127.0852051,
            "remaining_time": 171.9388069,
            "test": [
             0.9229562228,
             0.3056092518
            ]
           },
           {
            "iteration": 425,
            "learn": [
             0.1615768987
            ],
            "passed_time": 127.3837928,
            "remaining_time": 171.639195,
            "test": [
             0.9229178041,
             0.3055971471
            ]
           },
           {
            "iteration": 426,
            "learn": [
             0.1613571583
            ],
            "passed_time": 127.7123283,
            "remaining_time": 171.3797755,
            "test": [
             0.9229076939,
             0.3055442824
            ]
           },
           {
            "iteration": 427,
            "learn": [
             0.1608789063
            ],
            "passed_time": 128.030729,
            "remaining_time": 171.1064883,
            "test": [
             0.9228925286,
             0.305556752
            ]
           },
           {
            "iteration": 428,
            "learn": [
             0.160563951
            ],
            "passed_time": 128.2700988,
            "remaining_time": 170.7278005,
            "test": [
             0.9229835204,
             0.3054010314
            ]
           },
           {
            "iteration": 429,
            "learn": [
             0.1602905551
            ],
            "passed_time": 128.5981945,
            "remaining_time": 170.4673742,
            "test": [
             0.9230269942,
             0.3053405229
            ]
           },
           {
            "iteration": 430,
            "learn": [
             0.1598586065
            ],
            "passed_time": 128.9108338,
            "remaining_time": 170.1862284,
            "test": [
             0.9230360934,
             0.3052250331
            ]
           },
           {
            "iteration": 431,
            "learn": [
             0.1595024525
            ],
            "passed_time": 129.1761887,
            "remaining_time": 169.8427666,
            "test": [
             0.9231473056,
             0.3050600031
            ]
           },
           {
            "iteration": 432,
            "learn": [
             0.1591523049
            ],
            "passed_time": 129.4453914,
            "remaining_time": 169.5047042,
            "test": [
             0.9232382974,
             0.304937615
            ]
           },
           {
            "iteration": 433,
            "learn": [
             0.1587392495
            ],
            "passed_time": 129.8065526,
            "remaining_time": 169.2868866,
            "test": [
             0.9233272672,
             0.3047958355
            ]
           },
           {
            "iteration": 434,
            "learn": [
             0.1585814597
            ],
            "passed_time": 130.1118688,
            "remaining_time": 168.9958756,
            "test": [
             0.9232615509,
             0.3048444097
            ]
           },
           {
            "iteration": 435,
            "learn": [
             0.1582489846
            ],
            "passed_time": 130.3616787,
            "remaining_time": 168.6329972,
            "test": [
             0.9234920635,
             0.3045538574
            ]
           },
           {
            "iteration": 436,
            "learn": [
             0.1578949391
            ],
            "passed_time": 130.643852,
            "remaining_time": 168.3123311,
            "test": [
             0.9234233141,
             0.304619029
            ]
           },
           {
            "iteration": 437,
            "learn": [
             0.1575866699
            ],
            "passed_time": 131.0005865,
            "remaining_time": 168.0875105,
            "test": [
             0.923317157,
             0.3047184969
            ]
           },
           {
            "iteration": 438,
            "learn": [
             0.1572932295
            ],
            "passed_time": 131.442477,
            "remaining_time": 167.9709102,
            "test": [
             0.9234071378,
             0.3045615426
            ]
           },
           {
            "iteration": 439,
            "learn": [
             0.1569811873
            ],
            "passed_time": 131.9615619,
            "remaining_time": 167.9510788,
            "test": [
             0.9235001517,
             0.3044234811
            ]
           },
           {
            "iteration": 440,
            "learn": [
             0.1566060847
            ],
            "passed_time": 132.4241159,
            "remaining_time": 167.8573261,
            "test": [
             0.9234253362,
             0.3045331579
            ]
           },
           {
            "iteration": 441,
            "learn": [
             0.1563684637
            ],
            "passed_time": 132.9672212,
            "remaining_time": 167.863596,
            "test": [
             0.9233929835,
             0.3046007428
            ]
           },
           {
            "iteration": 442,
            "learn": [
             0.1560719299
            ],
            "passed_time": 133.4733657,
            "remaining_time": 167.8209135,
            "test": [
             0.9234071378,
             0.3044929011
            ]
           },
           {
            "iteration": 443,
            "learn": [
             0.1556397039
            ],
            "passed_time": 134.5629942,
            "remaining_time": 168.5068125,
            "test": [
             0.9233768072,
             0.3045736907
            ]
           },
           {
            "iteration": 444,
            "learn": [
             0.1553646018
            ],
            "passed_time": 135.4318354,
            "remaining_time": 168.9093677,
            "test": [
             0.9233950056,
             0.3045036743
            ]
           },
           {
            "iteration": 445,
            "learn": [
             0.1551636852
            ],
            "passed_time": 135.844721,
            "remaining_time": 168.7398552,
            "test": [
             0.923364675,
             0.3044974158
            ]
           },
           {
            "iteration": 446,
            "learn": [
             0.1548310713
            ],
            "passed_time": 136.1897585,
            "remaining_time": 168.4853164,
            "test": [
             0.9233424325,
             0.3045050489
            ]
           },
           {
            "iteration": 447,
            "learn": [
             0.1543824352
            ],
            "passed_time": 136.5495176,
            "remaining_time": 168.2485127,
            "test": [
             0.9233131129,
             0.3044882763
            ]
           },
           {
            "iteration": 448,
            "learn": [
             0.1540207603
            ],
            "passed_time": 136.8423954,
            "remaining_time": 167.9290866,
            "test": [
             0.9234940855,
             0.3041770195
            ]
           },
           {
            "iteration": 449,
            "learn": [
             0.1536010465
            ],
            "passed_time": 137.0156575,
            "remaining_time": 167.4635814,
            "test": [
             0.9235203721,
             0.3041704732
            ]
           },
           {
            "iteration": 450,
            "learn": [
             0.1532261242
            ],
            "passed_time": 137.1971746,
            "remaining_time": 167.009421,
            "test": [
             0.9236507937,
             0.3040936771
            ]
           },
           {
            "iteration": 451,
            "learn": [
             0.1529314908
            ],
            "passed_time": 137.3662589,
            "remaining_time": 166.5413935,
            "test": [
             0.9237589728,
             0.3038976608
            ]
           },
           {
            "iteration": 452,
            "learn": [
             0.1526042037
            ],
            "passed_time": 137.5662028,
            "remaining_time": 166.1119491,
            "test": [
             0.9238347993,
             0.3038622377
            ]
           },
           {
            "iteration": 453,
            "learn": [
             0.1522447066
            ],
            "passed_time": 137.7371778,
            "remaining_time": 165.6486764,
            "test": [
             0.9239338793,
             0.3036385121
            ]
           },
           {
            "iteration": 454,
            "learn": [
             0.1518567311
            ],
            "passed_time": 137.9087991,
            "remaining_time": 165.1874627,
            "test": [
             0.9239096148,
             0.3036458603
            ]
           },
           {
            "iteration": 455,
            "learn": [
             0.1515475603
            ],
            "passed_time": 138.0795433,
            "remaining_time": 164.7264727,
            "test": [
             0.9239904964,
             0.3035221833
            ]
           },
           {
            "iteration": 456,
            "learn": [
             0.1513411366
            ],
            "passed_time": 138.2577754,
            "remaining_time": 164.2756499,
            "test": [
             0.9239733091,
             0.3035844414
            ]
           },
           {
            "iteration": 457,
            "learn": [
             0.1511202171
            ],
            "passed_time": 138.4286161,
            "remaining_time": 163.8172706,
            "test": [
             0.9240835103,
             0.3034595172
            ]
           },
           {
            "iteration": 458,
            "learn": [
             0.150858945
            ],
            "passed_time": 138.6228505,
            "remaining_time": 163.3877171,
            "test": [
             0.9241613588,
             0.3032721012
            ]
           },
           {
            "iteration": 459,
            "learn": [
             0.1505485673
            ],
            "passed_time": 138.7927991,
            "remaining_time": 162.9306773,
            "test": [
             0.9241552927,
             0.3032626794
            ]
           },
           {
            "iteration": 460,
            "learn": [
             0.150246804
            ],
            "passed_time": 138.9636745,
            "remaining_time": 162.4759665,
            "test": [
             0.9239864523,
             0.3034750129
            ]
           },
           {
            "iteration": 461,
            "learn": [
             0.1499031206
            ],
            "passed_time": 139.1392012,
            "remaining_time": 162.0279009,
            "test": [
             0.924169447,
             0.3032985601
            ]
           },
           {
            "iteration": 462,
            "learn": [
             0.149526492
            ],
            "passed_time": 139.3425163,
            "remaining_time": 161.6132425,
            "test": [
             0.924221009,
             0.3031605039
            ]
           },
           {
            "iteration": 463,
            "learn": [
             0.1492368109
            ],
            "passed_time": 139.554671,
            "remaining_time": 161.2097062,
            "test": [
             0.924171469,
             0.3031045007
            ]
           },
           {
            "iteration": 464,
            "learn": [
             0.1489150585
            ],
            "passed_time": 139.7504245,
            "remaining_time": 160.7881229,
            "test": [
             0.924221009,
             0.3030597479
            ]
           },
           {
            "iteration": 465,
            "learn": [
             0.148514432
            ],
            "passed_time": 139.9362417,
            "remaining_time": 160.3561224,
            "test": [
             0.9242574057,
             0.3029350753
            ]
           },
           {
            "iteration": 466,
            "learn": [
             0.1482942616
            ],
            "passed_time": 140.1264453,
            "remaining_time": 159.9301827,
            "test": [
             0.9243049237,
             0.302926344
            ]
           },
           {
            "iteration": 467,
            "learn": [
             0.1479171753
            ],
            "passed_time": 140.3202247,
            "remaining_time": 159.5093153,
            "test": [
             0.9244525326,
             0.3027283978
            ]
           },
           {
            "iteration": 468,
            "learn": [
             0.1476012213
            ],
            "passed_time": 140.5011622,
            "remaining_time": 159.0748766,
            "test": [
             0.9244970175,
             0.3026459932
            ]
           },
           {
            "iteration": 469,
            "learn": [
             0.1473175881
            ],
            "passed_time": 140.7022106,
            "remaining_time": 158.6641949,
            "test": [
             0.9245313922,
             0.3026178639
            ]
           },
           {
            "iteration": 470,
            "learn": [
             0.1470598117
            ],
            "passed_time": 140.8747586,
            "remaining_time": 158.2223934,
            "test": [
             0.9245040946,
             0.3026155559
            ]
           },
           {
            "iteration": 471,
            "learn": [
             0.146803894
            ],
            "passed_time": 141.0453095,
            "remaining_time": 157.7794987,
            "test": [
             0.9244100698,
             0.3027077975
            ]
           },
           {
            "iteration": 472,
            "learn": [
             0.146496915
            ],
            "passed_time": 141.2143176,
            "remaining_time": 157.3360367,
            "test": [
             0.9245313922,
             0.302538739
            ]
           },
           {
            "iteration": 473,
            "learn": [
             0.146132757
            ],
            "passed_time": 141.3996811,
            "remaining_time": 156.9118824,
            "test": [
             0.9245890203,
             0.3024698001
            ]
           },
           {
            "iteration": 474,
            "learn": [
             0.1457117532
            ],
            "passed_time": 141.5927515,
            "remaining_time": 156.4972517,
            "test": [
             0.9246142958,
             0.3024622138
            ]
           },
           {
            "iteration": 475,
            "learn": [
             0.1454667247
            ],
            "passed_time": 141.7671623,
            "remaining_time": 156.0630106,
            "test": [
             0.9246193509,
             0.3023752095
            ]
           },
           {
            "iteration": 476,
            "learn": [
             0.1452343611
            ],
            "passed_time": 141.9398932,
            "remaining_time": 155.6280171,
            "test": [
             0.9245667779,
             0.3023639541
            ]
           },
           {
            "iteration": 477,
            "learn": [
             0.1449004572
            ],
            "passed_time": 142.1102297,
            "remaining_time": 155.1915061,
            "test": [
             0.9246830452,
             0.3022138806
            ]
           },
           {
            "iteration": 478,
            "learn": [
             0.1445210405
            ],
            "passed_time": 142.2917312,
            "remaining_time": 154.7682504,
            "test": [
             0.9248074007,
             0.3020174983
            ]
           },
           {
            "iteration": 479,
            "learn": [
             0.1443233143
            ],
            "passed_time": 142.4790631,
            "remaining_time": 154.3523184,
            "test": [
             0.924825599,
             0.3020056218
            ]
           },
           {
            "iteration": 480,
            "learn": [
             0.1438667991
            ],
            "passed_time": 142.6829463,
            "remaining_time": 153.9551957,
            "test": [
             0.9248437974,
             0.3019486582
            ]
           },
           {
            "iteration": 481,
            "learn": [
             0.1436054299
            ],
            "passed_time": 142.8577287,
            "remaining_time": 153.5276006,
            "test": [
             0.9249590537,
             0.3017458622
            ]
           },
           {
            "iteration": 482,
            "learn": [
             0.1432687517
            ],
            "passed_time": 143.0303326,
            "remaining_time": 153.0987204,
            "test": [
             0.9249893843,
             0.3016033456
            ]
           },
           {
            "iteration": 483,
            "learn": [
             0.1429587902
            ],
            "passed_time": 143.2087556,
            "remaining_time": 152.6771031,
            "test": [
             0.9251076736,
             0.3014207174
            ]
           },
           {
            "iteration": 484,
            "learn": [
             0.1425681652
            ],
            "passed_time": 143.3952275,
            "remaining_time": 152.2650354,
            "test": [
             0.9252087757,
             0.3012248361
            ]
           },
           {
            "iteration": 485,
            "learn": [
             0.142073392
            ],
            "passed_time": 143.5785458,
            "remaining_time": 151.8505608,
            "test": [
             0.9252694369,
             0.3011969959
            ]
           },
           {
            "iteration": 486,
            "learn": [
             0.1416929072
            ],
            "passed_time": 143.7804172,
            "remaining_time": 151.4565791,
            "test": [
             0.9252653928,
             0.3012424993
            ]
           },
           {
            "iteration": 487,
            "learn": [
             0.1414070268
            ],
            "passed_time": 143.9546916,
            "remaining_time": 151.0344305,
            "test": [
             0.9253220099,
             0.3011550469
            ]
           },
           {
            "iteration": 488,
            "learn": [
             0.1411942638
            ],
            "passed_time": 144.1244139,
            "remaining_time": 150.6085389,
            "test": [
             0.9253806491,
             0.3010485192
            ]
           },
           {
            "iteration": 489,
            "learn": [
             0.1409238226
            ],
            "passed_time": 144.291585,
            "remaining_time": 150.1810374,
            "test": [
             0.9255211809,
             0.3007969979
            ]
           },
           {
            "iteration": 490,
            "learn": [
             0.1406184248
            ],
            "passed_time": 144.4781262,
            "remaining_time": 149.7746766,
            "test": [
             0.9255070266,
             0.3007097297
            ]
           },
           {
            "iteration": 491,
            "learn": [
             0.1402569441
            ],
            "passed_time": 144.6518073,
            "remaining_time": 149.3559311,
            "test": [
             0.9256505914,
             0.3005138881
            ]
           },
           {
            "iteration": 492,
            "learn": [
             0.1400158691
            ],
            "passed_time": 144.8577213,
            "remaining_time": 148.971328,
            "test": [
             0.9256789,
             0.3005639175
            ]
           },
           {
            "iteration": 493,
            "learn": [
             0.1397296143
            ],
            "passed_time": 145.0411009,
            "remaining_time": 148.5643665,
            "test": [
             0.9258750379,
             0.3003305667
            ]
           },
           {
            "iteration": 494,
            "learn": [
             0.1393789534
            ],
            "passed_time": 145.2130116,
            "remaining_time": 148.1466078,
            "test": [
             0.9258386412,
             0.3002926491
            ]
           },
           {
            "iteration": 495,
            "learn": [
             0.139125283
            ],
            "passed_time": 145.4044481,
            "remaining_time": 147.7496811,
            "test": [
             0.9258629057,
             0.300211992
            ]
           },
           {
            "iteration": 496,
            "learn": [
             0.1388302335
            ],
            "passed_time": 145.5774679,
            "remaining_time": 147.3349424,
            "test": [
             0.9260570215,
             0.3000105774
            ]
           },
           {
            "iteration": 497,
            "learn": [
             0.1384358077
            ],
            "passed_time": 145.7858834,
            "remaining_time": 146.9568544,
            "test": [
             0.9261267819,
             0.2999721357
            ]
           },
           {
            "iteration": 498,
            "learn": [
             0.1381632996
            ],
            "passed_time": 145.97112,
            "remaining_time": 146.5561746,
            "test": [
             0.9261884542,
             0.2999321584
            ]
           },
           {
            "iteration": 499,
            "learn": [
             0.1377630893
            ],
            "passed_time": 146.1472522,
            "remaining_time": 146.1472522,
            "test": [
             0.9262046305,
             0.2999412489
            ]
           },
           {
            "iteration": 500,
            "learn": [
             0.1374830766
            ],
            "passed_time": 146.3159981,
            "remaining_time": 145.7319023,
            "test": [
             0.9261924982,
             0.2999259731
            ]
           },
           {
            "iteration": 501,
            "learn": [
             0.1371578841
            ],
            "passed_time": 146.5056886,
            "remaining_time": 145.3383126,
            "test": [
             0.9261166717,
             0.3000648081
            ]
           },
           {
            "iteration": 502,
            "learn": [
             0.1368812145
            ],
            "passed_time": 146.6853597,
            "remaining_time": 144.9356337,
            "test": [
             0.9260944293,
             0.300127316
            ]
           },
           {
            "iteration": 503,
            "learn": [
             0.1366706155
            ],
            "passed_time": 146.9502101,
            "remaining_time": 144.6176671,
            "test": [
             0.9262470933,
             0.2999351433
            ]
           },
           {
            "iteration": 504,
            "learn": [
             0.1364455899
            ],
            "passed_time": 147.2776346,
            "remaining_time": 144.3612458,
            "test": [
             0.9262137297,
             0.2999518258
            ]
           },
           {
            "iteration": 505,
            "learn": [
             0.1360658958
            ],
            "passed_time": 147.6202518,
            "remaining_time": 144.1193763,
            "test": [
             0.9260519664,
             0.3001196033
            ]
           },
           {
            "iteration": 506,
            "learn": [
             0.1357615939
            ],
            "passed_time": 147.9796213,
            "remaining_time": 143.893399,
            "test": [
             0.9260944293,
             0.3001639004
            ]
           },
           {
            "iteration": 507,
            "learn": [
             0.13559691
            ],
            "passed_time": 148.3026231,
            "remaining_time": 143.6316743,
            "test": [
             0.9261368921,
             0.3000479999
            ]
           },
           {
            "iteration": 508,
            "learn": [
             0.1352586365
            ],
            "passed_time": 148.5928248,
            "remaining_time": 143.3380687,
            "test": [
             0.9260903852,
             0.300095453
            ]
           },
           {
            "iteration": 509,
            "learn": [
             0.1350006658
            ],
            "passed_time": 148.9423224,
            "remaining_time": 143.101447,
            "test": [
             0.9261085836,
             0.3000630131
            ]
           },
           {
            "iteration": 510,
            "learn": [
             0.1346477162
            ],
            "passed_time": 149.2875572,
            "remaining_time": 142.8603042,
            "test": [
             0.9260924072,
             0.3000088498
            ]
           },
           {
            "iteration": 511,
            "learn": [
             0.1343196245
            ],
            "passed_time": 149.623952,
            "remaining_time": 142.6103293,
            "test": [
             0.9261348701,
             0.2998611297
            ]
           },
           {
            "iteration": 512,
            "learn": [
             0.1340083452
            ],
            "passed_time": 149.9823947,
            "remaining_time": 142.3809478,
            "test": [
             0.926080275,
             0.2998620087
            ]
           },
           {
            "iteration": 513,
            "learn": [
             0.1336524547
            ],
            "passed_time": 150.3239972,
            "remaining_time": 142.1351413,
            "test": [
             0.9260529775,
             0.2998428105
            ]
           },
           {
            "iteration": 514,
            "learn": [
             0.1333621493
            ],
            "passed_time": 150.6309114,
            "remaining_time": 141.8562952,
            "test": [
             0.9260084926,
             0.2998205289
            ]
           },
           {
            "iteration": 515,
            "learn": [
             0.1330707897
            ],
            "passed_time": 150.9732092,
            "remaining_time": 141.6105296,
            "test": [
             0.9260236579,
             0.2997278209
            ]
           },
           {
            "iteration": 516,
            "learn": [
             0.1328689298
            ],
            "passed_time": 151.3179688,
            "remaining_time": 141.3666904,
            "test": [
             0.9260105146,
             0.2997226519
            ]
           },
           {
            "iteration": 517,
            "learn": [
             0.1326694835
            ],
            "passed_time": 151.6345869,
            "remaining_time": 141.0962759,
            "test": [
             0.9259720958,
             0.2997460845
            ]
           },
           {
            "iteration": 518,
            "learn": [
             0.1323958518
            ],
            "passed_time": 151.9093721,
            "remaining_time": 140.7869132,
            "test": [
             0.9260651097,
             0.2996515311
            ]
           },
           {
            "iteration": 519,
            "learn": [
             0.1321718528
            ],
            "passed_time": 152.235933,
            "remaining_time": 140.5254766,
            "test": [
             0.9261662117,
             0.2995738291
            ]
           },
           {
            "iteration": 520,
            "learn": [
             0.1319757496
            ],
            "passed_time": 152.4484434,
            "remaining_time": 140.1589336,
            "test": [
             0.9261753109,
             0.2995563918
            ]
           },
           {
            "iteration": 521,
            "learn": [
             0.1315608215
            ],
            "passed_time": 152.6269405,
            "remaining_time": 139.7618344,
            "test": [
             0.9262056415,
             0.2993888436
            ]
           },
           {
            "iteration": 522,
            "learn": [
             0.131321106
            ],
            "passed_time": 152.8156545,
            "remaining_time": 139.3748895,
            "test": [
             0.9262663027,
             0.2992325534
            ]
           },
           {
            "iteration": 523,
            "learn": [
             0.1311133229
            ],
            "passed_time": 152.9891664,
            "remaining_time": 138.9748916,
            "test": [
             0.9263481953,
             0.2991418388
            ]
           },
           {
            "iteration": 524,
            "learn": [
             0.1307959817
            ],
            "passed_time": 153.1888337,
            "remaining_time": 138.5994209,
            "test": [
             0.9264129006,
             0.2990537577
            ]
           },
           {
            "iteration": 525,
            "learn": [
             0.1304843972
            ],
            "passed_time": 153.3704233,
            "remaining_time": 138.2083282,
            "test": [
             0.9263623496,
             0.299163218
            ]
           },
           {
            "iteration": 526,
            "learn": [
             0.1302173823
            ],
            "passed_time": 153.5446736,
            "remaining_time": 137.8114433,
            "test": [
             0.9264715398,
             0.2989763682
            ]
           },
           {
            "iteration": 527,
            "learn": [
             0.1299506725
            ],
            "passed_time": 153.7255641,
            "remaining_time": 137.4213376,
            "test": [
             0.9264017794,
             0.299002756
            ]
           },
           {
            "iteration": 528,
            "learn": [
             0.1297615329
            ],
            "passed_time": 153.8984464,
            "remaining_time": 137.0248927,
            "test": [
             0.9264583965,
             0.2988163612
            ]
           },
           {
            "iteration": 529,
            "learn": [
             0.1294878041
            ],
            "passed_time": 154.0717136,
            "remaining_time": 136.6296328,
            "test": [
             0.926530179,
             0.29866256
            ]
           },
           {
            "iteration": 530,
            "learn": [
             0.1292884965
            ],
            "passed_time": 154.2700949,
            "remaining_time": 136.2573908,
            "test": [
             0.9264674957,
             0.2987173758
            ]
           },
           {
            "iteration": 531,
            "learn": [
             0.1289965543
            ],
            "passed_time": 154.4502508,
            "remaining_time": 135.8697695,
            "test": [
             0.9265423112,
             0.298618916
            ]
           },
           {
            "iteration": 532,
            "learn": [
             0.1287141835
            ],
            "passed_time": 154.6285985,
            "remaining_time": 135.4813424,
            "test": [
             0.9265534324,
             0.2986617968
            ]
           },
           {
            "iteration": 533,
            "learn": [
             0.1284368064
            ],
            "passed_time": 154.8107731,
            "remaining_time": 135.0970417,
            "test": [
             0.9264118896,
             0.2987130432
            ]
           },
           {
            "iteration": 534,
            "learn": [
             0.1281263317
            ],
            "passed_time": 154.9813884,
            "remaining_time": 134.7034497,
            "test": [
             0.9264270549,
             0.2985318031
            ]
           },
           {
            "iteration": 535,
            "learn": [
             0.1279344316
            ],
            "passed_time": 155.1490664,
            "remaining_time": 134.3081471,
            "test": [
             0.9264027904,
             0.2985900152
            ]
           },
           {
            "iteration": 536,
            "learn": [
             0.1277356651
            ],
            "passed_time": 155.3496146,
            "remaining_time": 133.9420327,
            "test": [
             0.926484683,
             0.2985628903
            ]
           },
           {
            "iteration": 537,
            "learn": [
             0.1275202248
            ],
            "passed_time": 155.5206812,
            "remaining_time": 133.5512169,
            "test": [
             0.9266151046,
             0.2984181254
            ]
           },
           {
            "iteration": 538,
            "learn": [
             0.1271961836
            ],
            "passed_time": 155.6966606,
            "remaining_time": 133.1654184,
            "test": [
             0.9265028814,
             0.2984928094
            ]
           },
           {
            "iteration": 539,
            "learn": [
             0.1269685225
            ],
            "passed_time": 155.8811396,
            "remaining_time": 132.7876375,
            "test": [
             0.9265291679,
             0.2983944343
            ]
           },
           {
            "iteration": 540,
            "learn": [
             0.1267527771
            ],
            "passed_time": 156.0539364,
            "remaining_time": 132.4006596,
            "test": [
             0.9266090385,
             0.298231953
            ]
           },
           {
            "iteration": 541,
            "learn": [
             0.1264577137
            ],
            "passed_time": 156.2282629,
            "remaining_time": 132.0157646,
            "test": [
             0.9266110606,
             0.2981782771
            ]
           },
           {
            "iteration": 542,
            "learn": [
             0.1261526489
            ],
            "passed_time": 156.4327845,
            "remaining_time": 131.6570581,
            "test": [
             0.9265443332,
             0.2981826102
            ]
           },
           {
            "iteration": 543,
            "learn": [
             0.1259925287
            ],
            "passed_time": 156.6023573,
            "remaining_time": 131.269623,
            "test": [
             0.9266009504,
             0.2981291387
            ]
           },
           {
            "iteration": 544,
            "learn": [
             0.1258160678
            ],
            "passed_time": 156.7850817,
            "remaining_time": 130.8939673,
            "test": [
             0.9265706198,
             0.2981267723
            ]
           },
           {
            "iteration": 545,
            "learn": [
             0.1254450989
            ],
            "passed_time": 156.9712938,
            "remaining_time": 130.5219183,
            "test": [
             0.9266656556,
             0.2978392492
            ]
           },
           {
            "iteration": 546,
            "learn": [
             0.1252286876
            ],
            "passed_time": 157.1523866,
            "remaining_time": 130.1463092,
            "test": [
             0.9266777879,
             0.2978389414
            ]
           },
           {
            "iteration": 547,
            "learn": [
             0.1250355807
            ],
            "passed_time": 157.326827,
            "remaining_time": 129.765923,
            "test": [
             0.9266019614,
             0.2979109526
            ]
           },
           {
            "iteration": 548,
            "learn": [
             0.1248140647
            ],
            "passed_time": 157.5430546,
            "remaining_time": 129.420615,
            "test": [
             0.926632292,
             0.2978423942
            ]
           },
           {
            "iteration": 549,
            "learn": [
             0.1245145208
            ],
            "passed_time": 157.7171054,
            "remaining_time": 129.041268,
            "test": [
             0.9266191487,
             0.2978896677
            ]
           },
           {
            "iteration": 550,
            "learn": [
             0.1243317621
            ],
            "passed_time": 157.8998048,
            "remaining_time": 128.6697139,
            "test": [
             0.9265746638,
             0.2979211232
            ]
           },
           {
            "iteration": 551,
            "learn": [
             0.1240050299
            ],
            "passed_time": 158.0738962,
            "remaining_time": 128.2918578,
            "test": [
             0.9266080275,
             0.2978881747
            ]
           },
           {
            "iteration": 552,
            "learn": [
             0.1237499168
            ],
            "passed_time": 158.2476268,
            "remaining_time": 127.914447,
            "test": [
             0.9266464463,
             0.2978595549
            ]
           },
           {
            "iteration": 553,
            "learn": [
             0.123500172
            ],
            "passed_time": 158.4411663,
            "remaining_time": 127.5537187,
            "test": [
             0.9265584875,
             0.2978771013
            ]
           },
           {
            "iteration": 554,
            "learn": [
             0.1233077171
            ],
            "passed_time": 158.631497,
            "remaining_time": 127.1910201,
            "test": [
             0.9266413912,
             0.2977993685
            ]
           },
           {
            "iteration": 555,
            "learn": [
             0.1230639648
            ],
            "passed_time": 158.805799,
            "remaining_time": 126.8161416,
            "test": [
             0.9266049944,
             0.2978359749
            ]
           },
           {
            "iteration": 556,
            "learn": [
             0.1227883079
            ],
            "passed_time": 158.9883692,
            "remaining_time": 126.4485594,
            "test": [
             0.9265028814,
             0.2978720197
            ]
           },
           {
            "iteration": 557,
            "learn": [
             0.1225578447
            ],
            "passed_time": 159.1600684,
            "remaining_time": 126.0730291,
            "test": [
             0.9265382671,
             0.2978641286
            ]
           },
           {
            "iteration": 558,
            "learn": [
             0.122333596
            ],
            "passed_time": 159.334242,
            "remaining_time": 125.7001802,
            "test": [
             0.9264452533,
             0.2978736679
            ]
           },
           {
            "iteration": 559,
            "learn": [
             0.1220101929
            ],
            "passed_time": 159.5531901,
            "remaining_time": 125.3632208,
            "test": [
             0.926532201,
             0.2976811626
            ]
           },
           {
            "iteration": 560,
            "learn": [
             0.1216985113
            ],
            "passed_time": 159.7297247,
            "remaining_time": 124.9934923,
            "test": [
             0.9265958953,
             0.2976402958
            ]
           },
           {
            "iteration": 561,
            "learn": [
             0.1214739852
            ],
            "passed_time": 159.9216221,
            "remaining_time": 124.6364243,
            "test": [
             0.9265402892,
             0.2976318726
            ]
           },
           {
            "iteration": 562,
            "learn": [
             0.1212149464
            ],
            "passed_time": 160.1016537,
            "remaining_time": 124.270733,
            "test": [
             0.9265999393,
             0.297520709
            ]
           },
           {
            "iteration": 563,
            "learn": [
             0.1209382491
            ],
            "passed_time": 160.2734883,
            "remaining_time": 123.8993633,
            "test": [
             0.9266878981,
             0.2974441746
            ]
           },
           {
            "iteration": 564,
            "learn": [
             0.1206196178
            ],
            "passed_time": 160.4555697,
            "remaining_time": 123.536589,
            "test": [
             0.9266798099,
             0.2974329817
            ]
           },
           {
            "iteration": 565,
            "learn": [
             0.1202832725
            ],
            "passed_time": 160.6677377,
            "remaining_time": 123.1975233,
            "test": [
             0.9265210798,
             0.2976761449
            ]
           },
           {
            "iteration": 566,
            "learn": [
             0.120116702
            ],
            "passed_time": 160.8498833,
            "remaining_time": 122.8359779,
            "test": [
             0.9265645536,
             0.2976542537
            ]
           },
           {
            "iteration": 567,
            "learn": [
             0.1199488692
            ],
            "passed_time": 161.0465482,
            "remaining_time": 122.4861071,
            "test": [
             0.9265281569,
             0.297636131
            ]
           },
           {
            "iteration": 568,
            "learn": [
             0.1197370911
            ],
            "passed_time": 161.2199512,
            "remaining_time": 122.1191546,
            "test": [
             0.9266161157,
             0.2974646901
            ]
           },
           {
            "iteration": 569,
            "learn": [
             0.1194810625
            ],
            "passed_time": 161.406981,
            "remaining_time": 121.7631611,
            "test": [
             0.9266393691,
             0.2974131473
            ]
           },
           {
            "iteration": 570,
            "learn": [
             0.1192251032
            ],
            "passed_time": 161.611857,
            "remaining_time": 121.4211675,
            "test": [
             0.9266595895,
             0.2973206785
            ]
           },
           {
            "iteration": 571,
            "learn": [
             0.1188818359
            ],
            "passed_time": 161.781865,
            "remaining_time": 121.0535633,
            "test": [
             0.9266717218,
             0.2973423643
            ]
           },
           {
            "iteration": 572,
            "learn": [
             0.1186183305
            ],
            "passed_time": 161.9747396,
            "remaining_time": 120.703689,
            "test": [
             0.9266140936,
             0.2974294578
            ]
           },
           {
            "iteration": 573,
            "learn": [
             0.1184278453
            ],
            "passed_time": 162.1424165,
            "remaining_time": 120.335661,
            "test": [
             0.9267000303,
             0.2973016216
            ]
           },
           {
            "iteration": 574,
            "learn": [
             0.1181521606
            ],
            "passed_time": 162.3225802,
            "remaining_time": 119.9775593,
            "test": [
             0.9267303609,
             0.2972659942
            ]
           },
           {
            "iteration": 575,
            "learn": [
             0.1179464028
            ],
            "passed_time": 162.6074949,
            "remaining_time": 119.6971837,
            "test": [
             0.9265696087,
             0.2974449324
            ]
           },
           {
            "iteration": 576,
            "learn": [
             0.1177550437
            ],
            "passed_time": 162.9712646,
            "remaining_time": 119.4746012,
            "test": [
             0.9265625316,
             0.297429028
            ]
           },
           {
            "iteration": 577,
            "learn": [
             0.1175001942
            ],
            "passed_time": 163.2990405,
            "remaining_time": 119.2252511,
            "test": [
             0.9265999393,
             0.2973685928
            ]
           },
           {
            "iteration": 578,
            "learn": [
             0.1173244268
            ],
            "passed_time": 163.6609541,
            "remaining_time": 119.000452,
            "test": [
             0.9265918512,
             0.2973894113
            ]
           },
           {
            "iteration": 579,
            "learn": [
             0.1170972928
            ],
            "passed_time": 164.0196244,
            "remaining_time": 118.7728315,
            "test": [
             0.9267273279,
             0.2972233835
            ]
           },
           {
            "iteration": 580,
            "learn": [
             0.1169184321
            ],
            "passed_time": 164.3540481,
            "remaining_time": 118.5272739,
            "test": [
             0.926634314,
             0.2973404286
            ]
           },
           {
            "iteration": 581,
            "learn": [
             0.1167155873
            ],
            "passed_time": 164.692801,
            "remaining_time": 118.2845203,
            "test": [
             0.9266878981,
             0.2972281133
            ]
           },
           {
            "iteration": 582,
            "learn": [
             0.1164627907
            ],
            "passed_time": 165.0631919,
            "remaining_time": 118.064067,
            "test": [
             0.9266393691,
             0.2973654305
            ]
           },
           {
            "iteration": 583,
            "learn": [
             0.1160864119
            ],
            "passed_time": 165.347668,
            "remaining_time": 117.7819005,
            "test": [
             0.9267202507,
             0.2971872263
            ]
           },
           {
            "iteration": 584,
            "learn": [
             0.115902599
            ],
            "passed_time": 165.6703171,
            "remaining_time": 117.5268061,
            "test": [
             0.9267738348,
             0.297046657
            ]
           },
           {
            "iteration": 585,
            "learn": [
             0.1156990953
            ],
            "passed_time": 166.0231446,
            "remaining_time": 117.2928018,
            "test": [
             0.9267697907,
             0.2969997945
            ]
           },
           {
            "iteration": 586,
            "learn": [
             0.1153674802
            ],
            "passed_time": 166.3654586,
            "remaining_time": 117.0509956,
            "test": [
             0.9269143666,
             0.2968194023
            ]
           },
           {
            "iteration": 587,
            "learn": [
             0.1152059937
            ],
            "passed_time": 166.7006338,
            "remaining_time": 116.8038455,
            "test": [
             0.9269507633,
             0.2968068587
            ]
           },
           {
            "iteration": 588,
            "learn": [
             0.1150270635
            ],
            "passed_time": 167.0710837,
            "remaining_time": 116.5810109,
            "test": [
             0.9269780609,
             0.2967216972
            ]
           },
           {
            "iteration": 589,
            "learn": [
             0.1147940688
            ],
            "passed_time": 167.400368,
            "remaining_time": 116.3290693,
            "test": [
             0.9269760388,
             0.2967241178
            ]
           },
           {
            "iteration": 590,
            "learn": [
             0.1145760415
            ],
            "passed_time": 167.738857,
            "remaining_time": 116.083236,
            "test": [
             0.9269912041,
             0.2966628572
            ]
           },
           {
            "iteration": 591,
            "learn": [
             0.1144172391
            ],
            "passed_time": 167.9327724,
            "remaining_time": 115.7374512,
            "test": [
             0.9268607825,
             0.2967479997
            ]
           },
           {
            "iteration": 592,
            "learn": [
             0.1142417769
            ],
            "passed_time": 168.1406257,
            "remaining_time": 115.4017448,
            "test": [
             0.9268779699,
             0.2967490916
            ]
           },
           {
            "iteration": 593,
            "learn": [
             0.1140289307
            ],
            "passed_time": 168.3279947,
            "remaining_time": 115.0524677,
            "test": [
             0.9269295319,
             0.2966996325
            ]
           },
           {
            "iteration": 594,
            "learn": [
             0.1138863997
            ],
            "passed_time": 168.4989824,
            "remaining_time": 114.6925847,
            "test": [
             0.9270185017,
             0.2965821417
            ]
           },
           {
            "iteration": 595,
            "learn": [
             0.1137004089
            ],
            "passed_time": 168.6689397,
            "remaining_time": 114.3326369,
            "test": [
             0.9272389041,
             0.2962063511
            ]
           },
           {
            "iteration": 596,
            "learn": [
             0.1135251548
            ],
            "passed_time": 168.8336362,
            "remaining_time": 113.9697745,
            "test": [
             0.9271640886,
             0.2963073119
            ]
           },
           {
            "iteration": 597,
            "learn": [
             0.1133614696
            ],
            "passed_time": 169.0211002,
            "remaining_time": 113.62288,
            "test": [
             0.927184309,
             0.2962718852
            ]
           },
           {
            "iteration": 598,
            "learn": [
             0.1131186052
            ],
            "passed_time": 169.2177903,
            "remaining_time": 113.2826944,
            "test": [
             0.9272409261,
             0.2961742259
            ]
           },
           {
            "iteration": 599,
            "learn": [
             0.1129349448
            ],
            "passed_time": 169.3939035,
            "remaining_time": 112.929269,
            "test": [
             0.9271560004,
             0.2963188247
            ]
           },
           {
            "iteration": 600,
            "learn": [
             0.1126553137
            ],
            "passed_time": 169.5695621,
            "remaining_time": 112.5761319,
            "test": [
             0.9271681326,
             0.2963029694
            ]
           },
           {
            "iteration": 601,
            "learn": [
             0.112459481
            ],
            "passed_time": 169.735309,
            "remaining_time": 112.2170315,
            "test": [
             0.9271701547,
             0.2962372844
            ]
           },
           {
            "iteration": 602,
            "learn": [
             0.1123027039
            ],
            "passed_time": 169.9209008,
            "remaining_time": 111.8716378,
            "test": [
             0.9272287939,
             0.2961065552
            ]
           },
           {
            "iteration": 603,
            "learn": [
             0.1120253892
            ],
            "passed_time": 170.1536479,
            "remaining_time": 111.5576897,
            "test": [
             0.9272318269,
             0.2960911475
            ]
           },
           {
            "iteration": 604,
            "learn": [
             0.1118104692
            ],
            "passed_time": 170.3444038,
            "remaining_time": 111.2165942,
            "test": [
             0.9272581134,
             0.2960676351
            ]
           },
           {
            "iteration": 605,
            "learn": [
             0.1116819347
            ],
            "passed_time": 170.5221859,
            "remaining_time": 110.8675598,
            "test": [
             0.9271944192,
             0.2960902315
            ]
           },
           {
            "iteration": 606,
            "learn": [
             0.111482107
            ],
            "passed_time": 170.6971059,
            "remaining_time": 110.5172366,
            "test": [
             0.9272955212,
             0.296027629
            ]
           },
           {
            "iteration": 607,
            "learn": [
             0.1113705028
            ],
            "passed_time": 170.8691737,
            "remaining_time": 110.1656514,
            "test": [
             0.9272975432,
             0.2960392344
            ]
           },
           {
            "iteration": 608,
            "learn": [
             0.1111272916
            ],
            "passed_time": 171.0414015,
            "remaining_time": 109.8147586,
            "test": [
             0.9273319179,
             0.2959385399
            ]
           },
           {
            "iteration": 609,
            "learn": [
             0.1108352592
            ],
            "passed_time": 171.2697719,
            "remaining_time": 109.500346,
            "test": [
             0.9272793449,
             0.2959021983
            ]
           },
           {
            "iteration": 610,
            "learn": [
             0.1106183971
            ],
            "passed_time": 171.4507623,
            "remaining_time": 109.15605,
            "test": [
             0.9274633505,
             0.2956559285
            ]
           },
           {
            "iteration": 611,
            "learn": [
             0.1104029846
            ],
            "passed_time": 171.6279342,
            "remaining_time": 108.8098668,
            "test": [
             0.9273662926,
             0.2957917013
            ]
           },
           {
            "iteration": 612,
            "learn": [
             0.1101740334
            ],
            "passed_time": 171.8024292,
            "remaining_time": 108.4625451,
            "test": [
             0.9273511273,
             0.2957435349
            ]
           },
           {
            "iteration": 613,
            "learn": [
             0.1100266405
            ],
            "passed_time": 171.9806234,
            "remaining_time": 108.1181117,
            "test": [
             0.9272520473,
             0.2958182707
            ]
           },
           {
            "iteration": 614,
            "learn": [
             0.1097447205
            ],
            "passed_time": 172.2022959,
            "remaining_time": 107.8014373,
            "test": [
             0.9272581134,
             0.2958251298
            ]
           },
           {
            "iteration": 615,
            "learn": [
             0.1096052482
            ],
            "passed_time": 172.3832769,
            "remaining_time": 107.4597051,
            "test": [
             0.9272409261,
             0.295842488
            ]
           },
           {
            "iteration": 616,
            "learn": [
             0.1093598036
            ],
            "passed_time": 172.5647663,
            "remaining_time": 107.1188095,
            "test": [
             0.9272651906,
             0.2957296579
            ]
           },
           {
            "iteration": 617,
            "learn": [
             0.1091125558
            ],
            "passed_time": 172.7469181,
            "remaining_time": 106.7788393,
            "test": [
             0.9272550804,
             0.2958144474
            ]
           },
           {
            "iteration": 618,
            "learn": [
             0.1088569086
            ],
            "passed_time": 172.9314414,
            "remaining_time": 106.4408387,
            "test": [
             0.9272308159,
             0.2957664674
            ]
           },
           {
            "iteration": 619,
            "learn": [
             0.1086204459
            ],
            "passed_time": 173.1009047,
            "remaining_time": 106.0941029,
            "test": [
             0.927137802,
             0.2958769372
            ]
           },
           {
            "iteration": 620,
            "learn": [
             0.1083976884
            ],
            "passed_time": 173.3183102,
            "remaining_time": 105.7771974,
            "test": [
             0.9271792539,
             0.2958262804
            ]
           },
           {
            "iteration": 621,
            "learn": [
             0.1082215326
            ],
            "passed_time": 173.4987063,
            "remaining_time": 105.4381205,
            "test": [
             0.9271762208,
             0.2958055982
            ]
           },
           {
            "iteration": 622,
            "learn": [
             0.1079716838
            ],
            "passed_time": 173.6746087,
            "remaining_time": 105.0968338,
            "test": [
             0.927338995,
             0.2956388225
            ]
           },
           {
            "iteration": 623,
            "learn": [
             0.1077552241
            ],
            "passed_time": 173.8530874,
            "remaining_time": 104.7576296,
            "test": [
             0.9273652816,
             0.2956079211
            ]
           },
           {
            "iteration": 624,
            "learn": [
             0.1075957697
            ],
            "passed_time": 174.0241962,
            "remaining_time": 104.4145177,
            "test": [
             0.9273602265,
             0.2956083814
            ]
           },
           {
            "iteration": 625,
            "learn": [
             0.1073370708
            ],
            "passed_time": 174.21439,
            "remaining_time": 104.0833576,
            "test": [
             0.9273066424,
             0.2956794769
            ]
           },
           {
            "iteration": 626,
            "learn": [
             0.1070606578
            ],
            "passed_time": 174.4172727,
            "remaining_time": 103.7601957,
            "test": [
             0.927184309,
             0.2957992846
            ]
           },
           {
            "iteration": 627,
            "learn": [
             0.1068798551
            ],
            "passed_time": 174.5910286,
            "remaining_time": 103.4201634,
            "test": [
             0.9272308159,
             0.2957571436
            ]
           },
           {
            "iteration": 628,
            "learn": [
             0.1066678134
            ],
            "passed_time": 174.7645847,
            "remaining_time": 103.080542,
            "test": [
             0.9271903751,
             0.295779456
            ]
           },
           {
            "iteration": 629,
            "learn": [
             0.10648794
            ],
            "passed_time": 174.9391168,
            "remaining_time": 102.742021,
            "test": [
             0.9272763118,
             0.2956559076
            ]
           },
           {
            "iteration": 630,
            "learn": [
             0.1062526842
            ],
            "passed_time": 175.1151042,
            "remaining_time": 102.4048708,
            "test": [
             0.9274057224,
             0.295638009
            ]
           },
           {
            "iteration": 631,
            "learn": [
             0.1059691204
            ],
            "passed_time": 175.3326416,
            "remaining_time": 102.0924242,
            "test": [
             0.9273824689,
             0.2955626094
            ]
           },
           {
            "iteration": 632,
            "learn": [
             0.1057195213
            ],
            "passed_time": 175.5291082,
            "remaining_time": 101.7680611,
            "test": [
             0.9273127085,
             0.2956775033
            ]
           },
           {
            "iteration": 633,
            "learn": [
             0.1055316925
            ],
            "passed_time": 175.7035945,
            "remaining_time": 101.4314126,
            "test": [
             0.9273096755,
             0.2955984217
            ]
           },
           {
            "iteration": 634,
            "learn": [
             0.1053390919
            ],
            "passed_time": 175.8793033,
            "remaining_time": 101.0959775,
            "test": [
             0.9272924881,
             0.2956427382
            ]
           },
           {
            "iteration": 635,
            "learn": [
             0.1051655579
            ],
            "passed_time": 176.0696169,
            "remaining_time": 100.7694034,
            "test": [
             0.9271620665,
             0.2957494046
            ]
           },
           {
            "iteration": 636,
            "learn": [
             0.1048583013
            ],
            "passed_time": 176.2386619,
            "remaining_time": 100.431137,
            "test": [
             0.9271923971,
             0.2957596178
            ]
           },
           {
            "iteration": 637,
            "learn": [
             0.1046472029
            ],
            "passed_time": 176.4678158,
            "remaining_time": 100.1275068,
            "test": [
             0.9272196947,
             0.2956943045
            ]
           },
           {
            "iteration": 638,
            "learn": [
             0.1043490878
            ],
            "passed_time": 176.6567421,
            "remaining_time": 99.80138326,
            "test": [
             0.92718532,
             0.2956506328
            ]
           },
           {
            "iteration": 639,
            "learn": [
             0.1041656494
            ],
            "passed_time": 176.8288528,
            "remaining_time": 99.4662297,
            "test": [
             0.9272176726,
             0.2956444885
            ]
           },
           {
            "iteration": 640,
            "learn": [
             0.1039017417
            ],
            "passed_time": 177.0053828,
            "remaining_time": 99.13405994,
            "test": [
             0.927286422,
             0.2955387889
            ]
           },
           {
            "iteration": 641,
            "learn": [
             0.1036545008
            ],
            "passed_time": 177.182856,
            "remaining_time": 98.80290102,
            "test": [
             0.9272742898,
             0.295559843
            ]
           },
           {
            "iteration": 642,
            "learn": [
             0.1034779219
            ],
            "passed_time": 177.3927336,
            "remaining_time": 98.49021135,
            "test": [
             0.9272500253,
             0.2955644584
            ]
           },
           {
            "iteration": 643,
            "learn": [
             0.1032730033
            ],
            "passed_time": 177.579312,
            "remaining_time": 98.16496129,
            "test": [
             0.9272267718,
             0.2955936838
            ]
           },
           {
            "iteration": 644,
            "learn": [
             0.1029777596
            ],
            "passed_time": 177.7603041,
            "remaining_time": 97.83706662,
            "test": [
             0.9271044384,
             0.2956972824
            ]
           },
           {
            "iteration": 645,
            "learn": [
             0.1027427188
            ],
            "passed_time": 177.9923724,
            "remaining_time": 97.53761582,
            "test": [
             0.9271640886,
             0.295658916
            ]
           },
           {
            "iteration": 646,
            "learn": [
             0.1024450684
            ],
            "passed_time": 178.3356865,
            "remaining_time": 97.29906855,
            "test": [
             0.9271934081,
             0.2955488464
            ]
           },
           {
            "iteration": 647,
            "learn": [
             0.1023160276
            ],
            "passed_time": 178.6856212,
            "remaining_time": 97.06379425,
            "test": [
             0.9272004853,
             0.2956225821
            ]
           },
           {
            "iteration": 648,
            "learn": [
             0.102137687
            ],
            "passed_time": 179.0222865,
            "remaining_time": 96.82099008,
            "test": [
             0.9271570114,
             0.2956287667
            ]
           },
           {
            "iteration": 649,
            "learn": [
             0.1020207631
            ],
            "passed_time": 179.3652681,
            "remaining_time": 96.58129819,
            "test": [
             0.9271711657,
             0.2956240869
            ]
           },
           {
            "iteration": 650,
            "learn": [
             0.1017502733
            ],
            "passed_time": 179.7868719,
            "remaining_time": 96.38343823,
            "test": [
             0.927186331,
             0.2955617619
            ]
           },
           {
            "iteration": 651,
            "learn": [
             0.101510953
            ],
            "passed_time": 180.1246185,
            "remaining_time": 96.14013381,
            "test": [
             0.9270923061,
             0.295701157
            ]
           },
           {
            "iteration": 652,
            "learn": [
             0.1013073869
            ],
            "passed_time": 180.4544931,
            "remaining_time": 95.89235698,
            "test": [
             0.9270771408,
             0.2957586442
            ]
           },
           {
            "iteration": 653,
            "learn": [
             0.1011181918
            ],
            "passed_time": 180.8559571,
            "remaining_time": 95.68220361,
            "test": [
             0.9269760388,
             0.2959503687
            ]
           },
           {
            "iteration": 654,
            "learn": [
             0.1009962186
            ],
            "passed_time": 181.1865112,
            "remaining_time": 95.43411656,
            "test": [
             0.9270447882,
             0.295841137
            ]
           },
           {
            "iteration": 655,
            "learn": [
             0.1008792738
            ],
            "passed_time": 181.5020053,
            "remaining_time": 95.17788082,
            "test": [
             0.9270387221,
             0.295814213
            ]
           },
           {
            "iteration": 656,
            "learn": [
             0.1006728155
            ],
            "passed_time": 181.8511403,
            "remaining_time": 94.93902758,
            "test": [
             0.9270457992,
             0.2957585269
            ]
           },
           {
            "iteration": 657,
            "learn": [
             0.1004882604
            ],
            "passed_time": 182.1921353,
            "remaining_time": 94.69560834,
            "test": [
             0.9270589425,
             0.2957840428
            ]
           },
           {
            "iteration": 658,
            "learn": [
             0.1002502996
            ],
            "passed_time": 182.5451445,
            "remaining_time": 94.45810969,
            "test": [
             0.9270215347,
             0.2958514959
            ]
           },
           {
            "iteration": 659,
            "learn": [
             0.1000631159
            ],
            "passed_time": 182.8913832,
            "remaining_time": 94.21677316,
            "test": [
             0.9271317359,
             0.2957124392
            ]
           },
           {
            "iteration": 660,
            "learn": [
             0.09988347834
            ],
            "passed_time": 183.2057054,
            "remaining_time": 93.9587506,
            "test": [
             0.9271741988,
             0.2956715271
            ]
           },
           {
            "iteration": 661,
            "learn": [
             0.0997195712
            ],
            "passed_time": 183.3899128,
            "remaining_time": 93.63412465,
            "test": [
             0.9271519563,
             0.2956398996
            ]
           },
           {
            "iteration": 662,
            "learn": [
             0.0995200556
            ],
            "passed_time": 183.5612866,
            "remaining_time": 93.30339905,
            "test": [
             0.9271297139,
             0.295637459
            ]
           },
           {
            "iteration": 663,
            "learn": [
             0.09934804049
            ],
            "passed_time": 183.7433815,
            "remaining_time": 92.97857858,
            "test": [
             0.927187342,
             0.2956121344
            ]
           },
           {
            "iteration": 664,
            "learn": [
             0.09915064031
            ],
            "passed_time": 183.9518949,
            "remaining_time": 92.66749592,
            "test": [
             0.9272641796,
             0.2955486785
            ]
           },
           {
            "iteration": 665,
            "learn": [
             0.099043482
            ],
            "passed_time": 184.1218403,
            "remaining_time": 92.33737935,
            "test": [
             0.9273339399,
             0.2954280015
            ]
           },
           {
            "iteration": 666,
            "learn": [
             0.09889801025
            ],
            "passed_time": 184.2908225,
            "remaining_time": 92.00726221,
            "test": [
             0.9273764028,
             0.2953921923
            ]
           },
           {
            "iteration": 667,
            "learn": [
             0.0986541748
            ],
            "passed_time": 184.4676698,
            "remaining_time": 91.6815365,
            "test": [
             0.9275978162,
             0.2950896222
            ]
           },
           {
            "iteration": 668,
            "learn": [
             0.09853099476
            ],
            "passed_time": 184.638741,
            "remaining_time": 91.353398,
            "test": [
             0.9275907391,
             0.2951025775
            ]
           },
           {
            "iteration": 669,
            "learn": [
             0.09829474709
            ],
            "passed_time": 184.8486388,
            "remaining_time": 91.04485193,
            "test": [
             0.9276069154,
             0.2950630375
            ]
           },
           {
            "iteration": 670,
            "learn": [
             0.098120894
            ],
            "passed_time": 185.0407412,
            "remaining_time": 90.72787461,
            "test": [
             0.9275816399,
             0.2950804937
            ]
           },
           {
            "iteration": 671,
            "learn": [
             0.09795698686
            ],
            "passed_time": 185.2185356,
            "remaining_time": 90.40428525,
            "test": [
             0.927536144,
             0.2950848308
            ]
           },
           {
            "iteration": 672,
            "learn": [
             0.09779632568
            ],
            "passed_time": 185.3903106,
            "remaining_time": 90.07820441,
            "test": [
             0.9275058134,
             0.2951243404
            ]
           },
           {
            "iteration": 673,
            "learn": [
             0.09752143166
            ],
            "passed_time": 185.5719082,
            "remaining_time": 89.75733246,
            "test": [
             0.9275068244,
             0.2950945575
            ]
           },
           {
            "iteration": 674,
            "learn": [
             0.09723819386
            ],
            "passed_time": 185.7512727,
            "remaining_time": 89.43579798,
            "test": [
             0.9275351329,
             0.2950828088
            ]
           },
           {
            "iteration": 675,
            "learn": [
             0.09704624523
            ],
            "passed_time": 185.9703421,
            "remaining_time": 89.13371427,
            "test": [
             0.9274734607,
             0.2951704872
            ]
           },
           {
            "iteration": 676,
            "learn": [
             0.09694698681
            ],
            "passed_time": 186.1436642,
            "remaining_time": 88.81004953,
            "test": [
             0.9274279648,
             0.2952756269
            ]
           },
           {
            "iteration": 677,
            "learn": [
             0.09682918202
            ],
            "passed_time": 186.3205375,
            "remaining_time": 88.48851484,
            "test": [
             0.927387524,
             0.2952635086
            ]
           },
           {
            "iteration": 678,
            "learn": [
             0.09654993231
            ],
            "passed_time": 186.5077885,
            "remaining_time": 88.17231239,
            "test": [
             0.9274441411,
             0.2951521631
            ]
           },
           {
            "iteration": 679,
            "learn": [
             0.09637925581
            ],
            "passed_time": 186.6780871,
            "remaining_time": 87.84851158,
            "test": [
             0.9274704277,
             0.2950978512
            ]
           },
           {
            "iteration": 680,
            "learn": [
             0.09619068493
            ],
            "passed_time": 186.8660934,
            "remaining_time": 87.53345638,
            "test": [
             0.9275007583,
             0.2950472153
            ]
           },
           {
            "iteration": 681,
            "learn": [
             0.0960844144
            ],
            "passed_time": 187.0796775,
            "remaining_time": 87.23070009,
            "test": [
             0.9274663836,
             0.2950374605
            ]
           },
           {
            "iteration": 682,
            "learn": [
             0.09593922702
            ],
            "passed_time": 187.254409,
            "remaining_time": 86.91017227,
            "test": [
             0.9274198767,
             0.2950710175
            ]
           },
           {
            "iteration": 683,
            "learn": [
             0.09573358016
            ],
            "passed_time": 187.4289122,
            "remaining_time": 86.58996528,
            "test": [
             0.9274724497,
             0.2948833803
            ]
           },
           {
            "iteration": 684,
            "learn": [
             0.09560723738
            ],
            "passed_time": 187.600044,
            "remaining_time": 86.26863335,
            "test": [
             0.9274421191,
             0.2948945348
            ]
           },
           {
            "iteration": 685,
            "learn": [
             0.09541870117
            ],
            "passed_time": 187.7783196,
            "remaining_time": 85.95100925,
            "test": [
             0.9273622485,
             0.2950313778
            ]
           },
           {
            "iteration": 686,
            "learn": [
             0.09522370772
            ],
            "passed_time": 187.9870574,
            "remaining_time": 85.64766955,
            "test": [
             0.927338995,
             0.295041716
            ]
           },
           {
            "iteration": 687,
            "learn": [
             0.09502641851
            ],
            "passed_time": 188.1888827,
            "remaining_time": 85.34147006,
            "test": [
             0.9274006673,
             0.2949756177
            ]
           },
           {
            "iteration": 688,
            "learn": [
             0.09489961798
            ],
            "passed_time": 188.3639613,
            "remaining_time": 85.02350067,
            "test": [
             0.9274168436,
             0.2949234746
            ]
           },
           {
            "iteration": 689,
            "learn": [
             0.09467148521
            ],
            "passed_time": 188.5393098,
            "remaining_time": 84.70606671,
            "test": [
             0.9275108685,
             0.2947665191
            ]
           },
           {
            "iteration": 690,
            "learn": [
             0.09453713157
            ],
            "passed_time": 188.7137313,
            "remaining_time": 84.38862949,
            "test": [
             0.927636235,
             0.2946426956
            ]
           },
           {
            "iteration": 691,
            "learn": [
             0.0943542203
            ],
            "passed_time": 188.9089606,
            "remaining_time": 84.08086687,
            "test": [
             0.927687797,
             0.2945504639
            ]
           },
           {
            "iteration": 692,
            "learn": [
             0.09418418884
            ],
            "passed_time": 189.1255722,
            "remaining_time": 83.78290137,
            "test": [
             0.9277282378,
             0.2945565791
            ]
           },
           {
            "iteration": 693,
            "learn": [
             0.09391643177
            ],
            "passed_time": 189.3042082,
            "remaining_time": 83.4684261,
            "test": [
             0.927739359,
             0.2946090183
            ]
           },
           {
            "iteration": 694,
            "learn": [
             0.09377258301
            ],
            "passed_time": 189.4807115,
            "remaining_time": 83.15340576,
            "test": [
             0.9277282378,
             0.2946774789
            ]
           },
           {
            "iteration": 695,
            "learn": [
             0.09357746471
            ],
            "passed_time": 189.6501664,
            "remaining_time": 82.83570486,
            "test": [
             0.9277727227,
             0.2945319211
            ]
           },
           {
            "iteration": 696,
            "learn": [
             0.09341985529
            ],
            "passed_time": 189.8240037,
            "remaining_time": 82.52033447,
            "test": [
             0.9278323729,
             0.2944396099
            ]
           },
           {
            "iteration": 697,
            "learn": [
             0.09328768643
            ],
            "passed_time": 190.0085644,
            "remaining_time": 82.21000924,
            "test": [
             0.9278455161,
             0.2944581944
            ]
           },
           {
            "iteration": 698,
            "learn": [
             0.09313509854
            ],
            "passed_time": 190.2294776,
            "remaining_time": 81.91569778,
            "test": [
             0.9278091194,
             0.2945368545
            ]
           },
           {
            "iteration": 699,
            "learn": [
             0.09292236328
            ],
            "passed_time": 190.4057356,
            "remaining_time": 81.6024581,
            "test": [
             0.9278627035,
             0.2944791191
            ]
           },
           {
            "iteration": 700,
            "learn": [
             0.09283100475
            ],
            "passed_time": 190.5779522,
            "remaining_time": 81.28788548,
            "test": [
             0.9279112324,
             0.2944332798
            ]
           },
           {
            "iteration": 701,
            "learn": [
             0.09268456199
            ],
            "passed_time": 190.7528519,
            "remaining_time": 80.97485734,
            "test": [
             0.9279172986,
             0.294430115
            ]
           },
           {
            "iteration": 702,
            "learn": [
             0.09240850969
            ],
            "passed_time": 190.9506421,
            "remaining_time": 80.6718929,
            "test": [
             0.9279425741,
             0.2943312716
            ]
           },
           {
            "iteration": 703,
            "learn": [
             0.09216150457
            ],
            "passed_time": 191.1519855,
            "remaining_time": 80.37072118,
            "test": [
             0.9279183096,
             0.2942783107
            ]
           },
           {
            "iteration": 704,
            "learn": [
             0.09199640447
            ],
            "passed_time": 191.3429567,
            "remaining_time": 80.0654925,
            "test": [
             0.9279617834,
             0.2942825995
            ]
           },
           {
            "iteration": 705,
            "learn": [
             0.09188591003
            ],
            "passed_time": 191.5174819,
            "remaining_time": 79.75373894,
            "test": [
             0.9279577394,
             0.2942804174
            ]
           },
           {
            "iteration": 706,
            "learn": [
             0.0916304571
            ],
            "passed_time": 191.688663,
            "remaining_time": 79.44098764,
            "test": [
             0.928040643,
             0.2941895306
            ]
           },
           {
            "iteration": 707,
            "learn": [
             0.09148302945
            ],
            "passed_time": 191.8606933,
            "remaining_time": 79.12898652,
            "test": [
             0.9280123344,
             0.2941257111
            ]
           },
           {
            "iteration": 708,
            "learn": [
             0.09135030573
            ],
            "passed_time": 192.0428945,
            "remaining_time": 78.82155471,
            "test": [
             0.9279931251,
             0.2942381206
            ]
           },
           {
            "iteration": 709,
            "learn": [
             0.09120916887
            ],
            "passed_time": 192.598427,
            "remaining_time": 78.66696314,
            "test": [
             0.9279830149,
             0.2942902713
            ]
           },
           {
            "iteration": 710,
            "learn": [
             0.09102695812
            ],
            "passed_time": 192.8027633,
            "remaining_time": 78.3684931,
            "test": [
             0.927937519,
             0.2943551544
            ]
           },
           {
            "iteration": 711,
            "learn": [
             0.09092143666
            ],
            "passed_time": 192.9728571,
            "remaining_time": 78.0564366,
            "test": [
             0.9279729047,
             0.2943064068
            ]
           },
           {
            "iteration": 712,
            "learn": [
             0.09078632702
            ],
            "passed_time": 193.1645294,
            "remaining_time": 77.75346413,
            "test": [
             0.9280052573,
             0.294294375
            ]
           },
           {
            "iteration": 713,
            "learn": [
             0.09068011197
            ],
            "passed_time": 193.4257656,
            "remaining_time": 77.47866801,
            "test": [
             0.9279648165,
             0.2943264949
            ]
           },
           {
            "iteration": 714,
            "learn": [
             0.0905424014
            ],
            "passed_time": 193.7826694,
            "remaining_time": 77.24204305,
            "test": [
             0.9279284198,
             0.2943487767
            ]
           },
           {
            "iteration": 715,
            "learn": [
             0.09034135298
            ],
            "passed_time": 194.1374482,
            "remaining_time": 77.00423924,
            "test": [
             0.9279061773,
             0.2943579053
            ]
           },
           {
            "iteration": 716,
            "learn": [
             0.09017049616
            ],
            "passed_time": 194.4660543,
            "remaining_time": 76.75577876,
            "test": [
             0.9279526843,
             0.2943235453
            ]
           },
           {
            "iteration": 717,
            "learn": [
             0.08996629195
            ],
            "passed_time": 194.8519863,
            "remaining_time": 76.52961023,
            "test": [
             0.9279769487,
             0.2942082182
            ]
           },
           {
            "iteration": 718,
            "learn": [
             0.08978499673
            ],
            "passed_time": 195.1805269,
            "remaining_time": 76.28056755,
            "test": [
             0.9280487312,
             0.2941527643
            ]
           },
           {
            "iteration": 719,
            "learn": [
             0.08964594754
            ],
            "passed_time": 195.5117669,
            "remaining_time": 76.0323538,
            "test": [
             0.9279456071,
             0.2942863699
            ]
           },
           {
            "iteration": 720,
            "learn": [
             0.08946523493
            ],
            "passed_time": 195.8445499,
            "remaining_time": 75.78450683,
            "test": [
             0.9279506622,
             0.2943246282
            ]
           },
           {
            "iteration": 721,
            "learn": [
             0.08931055242
            ],
            "passed_time": 196.2224811,
            "remaining_time": 75.55380851,
            "test": [
             0.9279456071,
             0.2943017731
            ]
           },
           {
            "iteration": 722,
            "learn": [
             0.08915437178
            ],
            "passed_time": 196.5136571,
            "remaining_time": 75.28946474,
            "test": [
             0.9279688606,
             0.2943398382
            ]
           },
           {
            "iteration": 723,
            "learn": [
             0.08901243036
            ],
            "passed_time": 196.8536692,
            "remaining_time": 75.04366393,
            "test": [
             0.9279658275,
             0.294328323
            ]
           },
           {
            "iteration": 724,
            "learn": [
             0.08886517611
            ],
            "passed_time": 197.2067554,
            "remaining_time": 74.8025624,
            "test": [
             0.9280345769,
             0.2941551709
            ]
           },
           {
            "iteration": 725,
            "learn": [
             0.08872992776
            ],
            "passed_time": 197.5307619,
            "remaining_time": 74.55017735,
            "test": [
             0.9281063593,
             0.2940481668
            ]
           },
           {
            "iteration": 726,
            "learn": [
             0.08847165194
            ],
            "passed_time": 197.8647216,
            "remaining_time": 74.30133286,
            "test": [
             0.9281710646,
             0.2939163541
            ]
           },
           {
            "iteration": 727,
            "learn": [
             0.08832578486
            ],
            "passed_time": 198.2097707,
            "remaining_time": 74.05639786,
            "test": [
             0.9281963401,
             0.2938443493
            ]
           },
           {
            "iteration": 728,
            "learn": [
             0.0881528681
            ],
            "passed_time": 198.5549573,
            "remaining_time": 73.81123928,
            "test": [
             0.9282115054,
             0.2937865916
            ]
           },
           {
            "iteration": 729,
            "learn": [
             0.08797936873
            ],
            "passed_time": 198.8509793,
            "remaining_time": 73.54762249,
            "test": [
             0.9282236377,
             0.2937386768
            ]
           },
           {
            "iteration": 730,
            "learn": [
             0.08781721635
            ],
            "passed_time": 199.042877,
            "remaining_time": 73.24560044,
            "test": [
             0.9281953291,
             0.2937625742
            ]
           },
           {
            "iteration": 731,
            "learn": [
             0.08766365745
            ],
            "passed_time": 199.2537542,
            "remaining_time": 72.95082803,
            "test": [
             0.928090183,
             0.293798644
            ]
           },
           {
            "iteration": 732,
            "learn": [
             0.08748457475
            ],
            "passed_time": 199.474052,
            "remaining_time": 72.65971606,
            "test": [
             0.9280770397,
             0.293806573
            ]
           },
           {
            "iteration": 733,
            "learn": [
             0.0873639887
            ],
            "passed_time": 199.6584864,
            "remaining_time": 72.35580023,
            "test": [
             0.9280446871,
             0.2938551766
            ]
           },
           {
            "iteration": 734,
            "learn": [
             0.08716415405
            ],
            "passed_time": 199.836743,
            "remaining_time": 72.04998216,
            "test": [
             0.9279112324,
             0.293983855
            ]
           },
           {
            "iteration": 735,
            "learn": [
             0.08701662237
            ],
            "passed_time": 200.0197782,
            "remaining_time": 71.74622478,
            "test": [
             0.9279051663,
             0.2940072334
            ]
           },
           {
            "iteration": 736,
            "learn": [
             0.08687205922
            ],
            "passed_time": 200.2132903,
            "remaining_time": 71.44653372,
            "test": [
             0.928139723,
             0.2938189826
            ]
           },
           {
            "iteration": 737,
            "learn": [
             0.08662814054
            ],
            "passed_time": 200.4685966,
            "remaining_time": 71.16906818,
            "test": [
             0.9282013952,
             0.2936790198
            ]
           },
           {
            "iteration": 738,
            "learn": [
             0.08649199052
            ],
            "passed_time": 200.6453436,
            "remaining_time": 70.86391703,
            "test": [
             0.9282337479,
             0.2937010332
            ]
           },
           {
            "iteration": 739,
            "learn": [
             0.08638721813
            ],
            "passed_time": 200.8312825,
            "remaining_time": 70.56234251,
            "test": [
             0.9282013952,
             0.2937501201
            ]
           },
           {
            "iteration": 740,
            "learn": [
             0.08620163657
            ],
            "passed_time": 201.0054847,
            "remaining_time": 70.25697777,
            "test": [
             0.9282074613,
             0.2937523741
            ]
           },
           {
            "iteration": 741,
            "learn": [
             0.08603283275
            ],
            "passed_time": 201.1847014,
            "remaining_time": 69.95371018,
            "test": [
             0.9282792438,
             0.2936692255
            ]
           },
           {
            "iteration": 742,
            "learn": [
             0.0858483748
            ],
            "passed_time": 201.4013535,
            "remaining_time": 69.66372524,
            "test": [
             0.9282741887,
             0.2936569683
            ]
           },
           {
            "iteration": 743,
            "learn": [
             0.08569541238
            ],
            "passed_time": 201.5937812,
            "remaining_time": 69.36560212,
            "test": [
             0.9282822768,
             0.293585277
            ]
           },
           {
            "iteration": 744,
            "learn": [
             0.08557199652
            ],
            "passed_time": 201.7701235,
            "remaining_time": 69.06225703,
            "test": [
             0.9282226266,
             0.2936658049
            ]
           },
           {
            "iteration": 745,
            "learn": [
             0.08545161854
            ],
            "passed_time": 201.9415559,
            "remaining_time": 68.75758068,
            "test": [
             0.9282762107,
             0.2936151522
            ]
           },
           {
            "iteration": 746,
            "learn": [
             0.08535514138
            ],
            "passed_time": 202.1122459,
            "remaining_time": 68.45300967,
            "test": [
             0.9283277727,
             0.2936434709
            ]
           },
           {
            "iteration": 747,
            "learn": [
             0.08520642367
            ],
            "passed_time": 202.2853787,
            "remaining_time": 68.14961957,
            "test": [
             0.9282762107,
             0.2936728058
            ]
           },
           {
            "iteration": 748,
            "learn": [
             0.08510092995
            ],
            "passed_time": 202.5094933,
            "remaining_time": 67.86366198,
            "test": [
             0.9282206046,
             0.2937715735
            ]
           },
           {
            "iteration": 749,
            "learn": [
             0.08492628618
            ],
            "passed_time": 202.6865926,
            "remaining_time": 67.56219754,
            "test": [
             0.9282489132,
             0.2937802014
            ]
           },
           {
            "iteration": 750,
            "learn": [
             0.08473144531
            ],
            "passed_time": 202.8634318,
            "remaining_time": 67.26097806,
            "test": [
             0.9283075523,
             0.2936100064
            ]
           },
           {
            "iteration": 751,
            "learn": [
             0.08450870861
            ],
            "passed_time": 203.0362072,
            "remaining_time": 66.95874919,
            "test": [
             0.9282751997,
             0.2936631998
            ]
           },
           {
            "iteration": 752,
            "learn": [
             0.08436051802
            ],
            "passed_time": 203.209252,
            "remaining_time": 66.65695251,
            "test": [
             0.9282195936,
             0.2937284241
            ]
           },
           {
            "iteration": 753,
            "learn": [
             0.08409852461
            ],
            "passed_time": 203.4206496,
            "remaining_time": 66.36801034,
            "test": [
             0.9283075523,
             0.2936448708
            ]
           },
           {
            "iteration": 754,
            "learn": [
             0.08396111228
            ],
            "passed_time": 203.6376144,
            "remaining_time": 66.08108016,
            "test": [
             0.9282185825,
             0.293724007
            ]
           },
           {
            "iteration": 755,
            "learn": [
             0.08380623557
            ],
            "passed_time": 203.8122039,
            "remaining_time": 65.78065839,
            "test": [
             0.9281821858,
             0.2937691062
            ]
           },
           {
            "iteration": 756,
            "learn": [
             0.08362369884
            ],
            "passed_time": 203.9900487,
            "remaining_time": 65.48161405,
            "test": [
             0.9281953291,
             0.2938319258
            ]
           },
           {
            "iteration": 757,
            "learn": [
             0.08341086648
            ],
            "passed_time": 204.1686191,
            "remaining_time": 65.18312114,
            "test": [
             0.9283661915,
             0.2937611667
            ]
           },
           {
            "iteration": 758,
            "learn": [
             0.0832914179
            ],
            "passed_time": 204.3465047,
            "remaining_time": 64.8847268,
            "test": [
             0.9284490951,
             0.2936068704
            ]
           },
           {
            "iteration": 759,
            "learn": [
             0.08312995911
            ],
            "passed_time": 204.5568557,
            "remaining_time": 64.59690179,
            "test": [
             0.9284369629,
             0.2935626991
            ]
           },
           {
            "iteration": 760,
            "learn": [
             0.08302541559
            ],
            "passed_time": 204.7537685,
            "remaining_time": 64.30506001,
            "test": [
             0.928391467,
             0.2935985965
            ]
           },
           {
            "iteration": 761,
            "learn": [
             0.08284060392
            ],
            "passed_time": 204.9343431,
            "remaining_time": 64.00836439,
            "test": [
             0.9283641694,
             0.293654197
            ]
           },
           {
            "iteration": 762,
            "learn": [
             0.08264891191
            ],
            "passed_time": 205.1121163,
            "remaining_time": 63.71110296,
            "test": [
             0.9284106764,
             0.2936378929
            ]
           },
           {
            "iteration": 763,
            "learn": [
             0.08246342052
            ],
            "passed_time": 205.2904546,
            "remaining_time": 63.41432891,
            "test": [
             0.9284096654,
             0.2936871028
            ]
           },
           {
            "iteration": 764,
            "learn": [
             0.08231672807
            ],
            "passed_time": 205.4713813,
            "remaining_time": 63.1186596,
            "test": [
             0.9284602164,
             0.2936736985
            ]
           },
           {
            "iteration": 765,
            "learn": [
             0.08211959145
            ],
            "passed_time": 205.6875391,
            "remaining_time": 62.8340524,
            "test": [
             0.928393489,
             0.293764792
            ]
           },
           {
            "iteration": 766,
            "learn": [
             0.081980355
            ],
            "passed_time": 205.8717225,
            "remaining_time": 62.53991048,
            "test": [
             0.9284308968,
             0.2937589023
            ]
           },
           {
            "iteration": 767,
            "learn": [
             0.08177608143
            ],
            "passed_time": 206.0491701,
            "remaining_time": 62.24402014,
            "test": [
             0.9284996461,
             0.2936838047
            ]
           },
           {
            "iteration": 768,
            "learn": [
             0.08160927512
            ],
            "passed_time": 206.2272212,
            "remaining_time": 61.94861911,
            "test": [
             0.9285532302,
             0.2936586373
            ]
           },
           {
            "iteration": 769,
            "learn": [
             0.08145363548
            ],
            "passed_time": 206.4031779,
            "remaining_time": 61.65289729,
            "test": [
             0.9286128804,
             0.2936220709
            ]
           },
           {
            "iteration": 770,
            "learn": [
             0.08130421032
            ],
            "passed_time": 206.5871377,
            "remaining_time": 61.3598632,
            "test": [
             0.9285481751,
             0.2936797201
            ]
           },
           {
            "iteration": 771,
            "learn": [
             0.08112742337
            ],
            "passed_time": 206.8132461,
            "remaining_time": 61.07955973,
            "test": [
             0.9285592963,
             0.2936481921
            ]
           },
           {
            "iteration": 772,
            "learn": [
             0.08097542503
            ],
            "passed_time": 206.9898726,
            "remaining_time": 60.78486557,
            "test": [
             0.9286341118,
             0.2935620296
            ]
           },
           {
            "iteration": 773,
            "learn": [
             0.08079326976
            ],
            "passed_time": 207.1704441,
            "remaining_time": 60.49162839,
            "test": [
             0.9285744616,
             0.2935873879
            ]
           },
           {
            "iteration": 774,
            "learn": [
             0.08066877885
            ],
            "passed_time": 207.34193,
            "remaining_time": 60.19604419,
            "test": [
             0.92854312,
             0.2936089008
            ]
           },
           {
            "iteration": 775,
            "learn": [
             0.08053735906
            ],
            "passed_time": 207.5280205,
            "remaining_time": 59.90499559,
            "test": [
             0.9284308968,
             0.2937573356
            ]
           },
           {
            "iteration": 776,
            "learn": [
             0.08043036027
            ],
            "passed_time": 207.7269317,
            "remaining_time": 59.61789675,
            "test": [
             0.9283611364,
             0.2938783405
            ]
           },
           {
            "iteration": 777,
            "learn": [
             0.08035895608
            ],
            "passed_time": 207.9246668,
            "remaining_time": 59.33068899,
            "test": [
             0.9283712466,
             0.2938803046
            ]
           },
           {
            "iteration": 778,
            "learn": [
             0.0802001537
            ],
            "passed_time": 208.1012987,
            "remaining_time": 59.03772403,
            "test": [
             0.9284763927,
             0.2937866043
            ]
           },
           {
            "iteration": 779,
            "learn": [
             0.08006267894
            ],
            "passed_time": 208.2757583,
            "remaining_time": 58.74444464,
            "test": [
             0.9283682135,
             0.293920279
            ]
           },
           {
            "iteration": 780,
            "learn": [
             0.07988983154
            ],
            "passed_time": 208.4553197,
            "remaining_time": 58.45290015,
            "test": [
             0.9284228086,
             0.2938714695
            ]
           },
           {
            "iteration": 781,
            "learn": [
             0.07974401301
            ],
            "passed_time": 208.6455432,
            "remaining_time": 58.16461435,
            "test": [
             0.9284177535,
             0.2938471932
            ]
           },
           {
            "iteration": 782,
            "learn": [
             0.07956266923
            ],
            "passed_time": 208.9103027,
            "remaining_time": 57.89723587,
            "test": [
             0.9284157315,
             0.2939260023
            ]
           },
           {
            "iteration": 783,
            "learn": [
             0.07942615856
            ],
            "passed_time": 209.2492611,
            "remaining_time": 57.65030664,
            "test": [
             0.9283864119,
             0.2939664796
            ]
           },
           {
            "iteration": 784,
            "learn": [
             0.07924491189
            ],
            "passed_time": 209.591997,
            "remaining_time": 57.40417752,
            "test": [
             0.9284592053,
             0.2938802384
            ]
           },
           {
            "iteration": 785,
            "learn": [
             0.07908512462
            ],
            "passed_time": 209.9868712,
            "remaining_time": 57.17199801,
            "test": [
             0.9284571833,
             0.2939772704
            ]
           },
           {
            "iteration": 786,
            "learn": [
             0.07891992049
            ],
            "passed_time": 210.3253144,
            "remaining_time": 56.9241321,
            "test": [
             0.9284541502,
             0.2939776666
            ]
           },
           {
            "iteration": 787,
            "learn": [
             0.07872971968
            ],
            "passed_time": 210.6823649,
            "remaining_time": 56.68104234,
            "test": [
             0.9284804368,
             0.2939118999
            ]
           },
           {
            "iteration": 788,
            "learn": [
             0.07857718728
            ],
            "passed_time": 211.0477919,
            "remaining_time": 56.43990378,
            "test": [
             0.9286128804,
             0.2938308197
            ]
           },
           {
            "iteration": 789,
            "learn": [
             0.07850662231
            ],
            "passed_time": 211.4073874,
            "remaining_time": 56.19690045,
            "test": [
             0.9286159135,
             0.2938110967
            ]
           },
           {
            "iteration": 790,
            "learn": [
             0.07838476701
            ],
            "passed_time": 211.7494974,
            "remaining_time": 55.94898224,
            "test": [
             0.9286260237,
             0.2938147431
            ]
           },
           {
            "iteration": 791,
            "learn": [
             0.0781740362
            ],
            "passed_time": 212.1197556,
            "remaining_time": 55.70821863,
            "test": [
             0.9286897179,
             0.2938197158
            ]
           },
           {
            "iteration": 792,
            "learn": [
             0.07801843817
            ],
            "passed_time": 212.4878088,
            "remaining_time": 55.46655288,
            "test": [
             0.92874128,
             0.2937386948
            ]
           },
           {
            "iteration": 793,
            "learn": [
             0.07788466714
            ],
            "passed_time": 212.8124785,
            "remaining_time": 55.21331305,
            "test": [
             0.9285805278,
             0.2939211589
            ]
           },
           {
            "iteration": 794,
            "learn": [
             0.07779287165
            ],
            "passed_time": 213.1562367,
            "remaining_time": 54.96481576,
            "test": [
             0.9285168335,
             0.2940070937
            ]
           },
           {
            "iteration": 795,
            "learn": [
             0.07765905207
            ],
            "passed_time": 213.5184861,
            "remaining_time": 54.72081804,
            "test": [
             0.9284703266,
             0.2940421868
            ]
           },
           {
            "iteration": 796,
            "learn": [
             0.07752648093
            ],
            "passed_time": 213.8172008,
            "remaining_time": 54.46034099,
            "test": [
             0.9283601254,
             0.2941787698
            ]
           },
           {
            "iteration": 797,
            "learn": [
             0.07740704623
            ],
            "passed_time": 214.154581,
            "remaining_time": 54.20955559,
            "test": [
             0.928439996,
             0.2940894725
            ]
           },
           {
            "iteration": 798,
            "learn": [
             0.07726801092
            ],
            "passed_time": 214.4914597,
            "remaining_time": 53.9584273,
            "test": [
             0.9284298858,
             0.2939942151
            ]
           },
           {
            "iteration": 799,
            "learn": [
             0.07712584756
            ],
            "passed_time": 214.6621074,
            "remaining_time": 53.66552686,
            "test": [
             0.9284025882,
             0.2940414559
            ]
           },
           {
            "iteration": 800,
            "learn": [
             0.0770180026
            ],
            "passed_time": 214.8460772,
            "remaining_time": 53.3762414,
            "test": [
             0.9283641694,
             0.2941514402
            ]
           },
           {
            "iteration": 801,
            "learn": [
             0.07689694491
            ],
            "passed_time": 215.0086983,
            "remaining_time": 53.08194797,
            "test": [
             0.9283783237,
             0.294034421
            ]
           },
           {
            "iteration": 802,
            "learn": [
             0.07677337646
            ],
            "passed_time": 215.1841902,
            "remaining_time": 52.79114006,
            "test": [
             0.9283186735,
             0.2941794125
            ]
           },
           {
            "iteration": 803,
            "learn": [
             0.07658862027
            ],
            "passed_time": 215.3659723,
            "remaining_time": 52.50215245,
            "test": [
             0.9282458801,
             0.2942501158
            ]
           },
           {
            "iteration": 804,
            "learn": [
             0.07649199746
            ],
            "passed_time": 215.5834953,
            "remaining_time": 52.22208893,
            "test": [
             0.928240825,
             0.294311851
            ]
           },
           {
            "iteration": 805,
            "learn": [
             0.07636786027
            ],
            "passed_time": 215.7510341,
            "remaining_time": 51.93014964,
            "test": [
             0.9282509352,
             0.294338697
            ]
           },
           {
            "iteration": 806,
            "learn": [
             0.07621896917
            ],
            "passed_time": 215.9369942,
            "remaining_time": 51.64292426,
            "test": [
             0.9281801638,
             0.2944179789
            ]
           },
           {
            "iteration": 807,
            "learn": [
             0.07609498457
            ],
            "passed_time": 216.1057183,
            "remaining_time": 51.35185384,
            "test": [
             0.9281740977,
             0.2943901548
            ]
           },
           {
            "iteration": 808,
            "learn": [
             0.07594507391
            ],
            "passed_time": 216.2756775,
            "remaining_time": 51.0613775,
            "test": [
             0.9281852189,
             0.2943122346
            ]
           },
           {
            "iteration": 809,
            "learn": [
             0.07578985041
            ],
            "passed_time": 216.4457603,
            "remaining_time": 50.77122774,
            "test": [
             0.9280972601,
             0.2944284968
            ]
           },
           {
            "iteration": 810,
            "learn": [
             0.07564933777
            ],
            "passed_time": 216.6604046,
            "remaining_time": 50.49175889,
            "test": [
             0.9281002932,
             0.2945242803
            ]
           },
           {
            "iteration": 811,
            "learn": [
             0.0755480957
            ],
            "passed_time": 216.833685,
            "remaining_time": 50.20287288,
            "test": [
             0.9280618744,
             0.2945901368
            ]
           },
           {
            "iteration": 812,
            "learn": [
             0.07540850553
            ],
            "passed_time": 217.0101837,
            "remaining_time": 49.9150115,
            "test": [
             0.9280608634,
             0.2946156275
            ]
           },
           {
            "iteration": 813,
            "learn": [
             0.07530908064
            ],
            "passed_time": 217.1780079,
            "remaining_time": 49.62544161,
            "test": [
             0.927991103,
             0.2946898099
            ]
           },
           {
            "iteration": 814,
            "learn": [
             0.07513502641
            ],
            "passed_time": 217.3522071,
            "remaining_time": 49.33761755,
            "test": [
             0.9279789708,
             0.2947201068
            ]
           },
           {
            "iteration": 815,
            "learn": [
             0.07495159496
            ],
            "passed_time": 217.5530106,
            "remaining_time": 49.05607102,
            "test": [
             0.9282145385,
             0.294484213
            ]
           },
           {
            "iteration": 816,
            "learn": [
             0.07481412714
            ],
            "passed_time": 217.7418102,
            "remaining_time": 48.77203337,
            "test": [
             0.9282094834,
             0.2944398463
            ]
           },
           {
            "iteration": 817,
            "learn": [
             0.07469443581
            ],
            "passed_time": 217.9244274,
            "remaining_time": 48.48685305,
            "test": [
             0.9282074613,
             0.2944452061
            ]
           },
           {
            "iteration": 818,
            "learn": [
             0.07453296315
            ],
            "passed_time": 218.0959829,
            "remaining_time": 48.19947852,
            "test": [
             0.9281993732,
             0.294502926
            ]
           },
           {
            "iteration": 819,
            "learn": [
             0.07441793962
            ],
            "passed_time": 218.2665692,
            "remaining_time": 47.91217374,
            "test": [
             0.9281761197,
             0.2944847316
            ]
           },
           {
            "iteration": 820,
            "learn": [
             0.07427352905
            ],
            "passed_time": 218.4439252,
            "remaining_time": 47.62662924,
            "test": [
             0.9281478111,
             0.2945543343
            ]
           },
           {
            "iteration": 821,
            "learn": [
             0.07407424927
            ],
            "passed_time": 218.6470521,
            "remaining_time": 47.34692856,
            "test": [
             0.928240825,
             0.2943751979
            ]
           },
           {
            "iteration": 822,
            "learn": [
             0.07390874689
            ],
            "passed_time": 218.858134,
            "remaining_time": 47.0691248,
            "test": [
             0.9283217066,
             0.2941985819
            ]
           },
           {
            "iteration": 823,
            "learn": [
             0.07380245556
            ],
            "passed_time": 219.0410207,
            "remaining_time": 46.78546073,
            "test": [
             0.9283591143,
             0.2941750866
            ]
           },
           {
            "iteration": 824,
            "learn": [
             0.07368341619
            ],
            "passed_time": 219.212572,
            "remaining_time": 46.49963648,
            "test": [
             0.9283338388,
             0.2942087015
            ]
           },
           {
            "iteration": 825,
            "learn": [
             0.07350643505
            ],
            "passed_time": 219.3854089,
            "remaining_time": 46.21435974,
            "test": [
             0.9283490041,
             0.294245817
            ]
           },
           {
            "iteration": 826,
            "learn": [
             0.07337332986
            ],
            "passed_time": 219.5627822,
            "remaining_time": 45.9303039,
            "test": [
             0.9282964311,
             0.2943393036
            ]
           },
           {
            "iteration": 827,
            "learn": [
             0.07325680819
            ],
            "passed_time": 219.7801751,
            "remaining_time": 45.65481899,
            "test": [
             0.9283257507,
             0.2943121393
            ]
           },
           {
            "iteration": 828,
            "learn": [
             0.073099823
            ],
            "passed_time": 219.9657021,
            "remaining_time": 45.37290115,
            "test": [
             0.9283328278,
             0.2943618648
            ]
           },
           {
            "iteration": 829,
            "learn": [
             0.07301869479
            ],
            "passed_time": 220.1387698,
            "remaining_time": 45.08866369,
            "test": [
             0.9283176625,
             0.2943462871
            ]
           },
           {
            "iteration": 830,
            "learn": [
             0.07287436745
            ],
            "passed_time": 220.3121561,
            "remaining_time": 44.80475858,
            "test": [
             0.9283621474,
             0.2943028442
            ]
           },
           {
            "iteration": 831,
            "learn": [
             0.07280506481
            ],
            "passed_time": 220.4849492,
            "remaining_time": 44.52099937,
            "test": [
             0.9283884339,
             0.294227672
            ]
           },
           {
            "iteration": 832,
            "learn": [
             0.07269498652
            ],
            "passed_time": 220.6569446,
            "remaining_time": 44.23734664,
            "test": [
             0.9284238196,
             0.2942291299
            ]
           },
           {
            "iteration": 833,
            "learn": [
             0.07254773227
            ],
            "passed_time": 220.8730758,
            "remaining_time": 43.96274651,
            "test": [
             0.9284137094,
             0.2941940104
            ]
           },
           {
            "iteration": 834,
            "learn": [
             0.07245949485
            ],
            "passed_time": 221.0543207,
            "remaining_time": 43.68139272,
            "test": [
             0.9284490951,
             0.2941704597
            ]
           },
           {
            "iteration": 835,
            "learn": [
             0.07233087713
            ],
            "passed_time": 221.2227582,
            "remaining_time": 43.39776597,
            "test": [
             0.9283995552,
             0.2942812661
            ]
           },
           {
            "iteration": 836,
            "learn": [
             0.07214617642
            ],
            "passed_time": 221.4036591,
            "remaining_time": 43.11684162,
            "test": [
             0.928492569,
             0.294162596
            ]
           },
           {
            "iteration": 837,
            "learn": [
             0.07206259988
            ],
            "passed_time": 221.5826462,
            "remaining_time": 42.83578601,
            "test": [
             0.9284743706,
             0.2941598498
            ]
           },
           {
            "iteration": 838,
            "learn": [
             0.07198019548
            ],
            "passed_time": 221.796927,
            "remaining_time": 42.56174642,
            "test": [
             0.9284662825,
             0.2941711391
            ]
           },
           {
            "iteration": 839,
            "learn": [
             0.0718658586
            ],
            "passed_time": 221.9997979,
            "remaining_time": 42.28567579,
            "test": [
             0.9285006572,
             0.2941237904
            ]
           },
           {
            "iteration": 840,
            "learn": [
             0.07177056052
            ],
            "passed_time": 222.1804805,
            "remaining_time": 42.0055843,
            "test": [
             0.9284389849,
             0.2942335762
            ]
           },
           {
            "iteration": 841,
            "learn": [
             0.07167456193
            ],
            "passed_time": 222.3545208,
            "remaining_time": 41.72448252,
            "test": [
             0.9284339298,
             0.2942640892
            ]
           },
           {
            "iteration": 842,
            "learn": [
             0.07155329618
            ],
            "passed_time": 222.5341711,
            "remaining_time": 41.44467955,
            "test": [
             0.928393489,
             0.2942872778
            ]
           },
           {
            "iteration": 843,
            "learn": [
             0.07142366583
            ],
            "passed_time": 222.7201835,
            "remaining_time": 41.16628984,
            "test": [
             0.928441007,
             0.294199373
            ]
           },
           {
            "iteration": 844,
            "learn": [
             0.07126319885
            ],
            "passed_time": 222.9502118,
            "remaining_time": 40.89619269,
            "test": [
             0.9284238196,
             0.2942386307
            ]
           },
           {
            "iteration": 845,
            "learn": [
             0.07113920038
            ],
            "passed_time": 223.1356512,
            "remaining_time": 40.61807363,
            "test": [
             0.9285087453,
             0.2941459833
            ]
           },
           {
            "iteration": 846,
            "learn": [
             0.07105893222
            ],
            "passed_time": 223.318153,
            "remaining_time": 40.33964275,
            "test": [
             0.9285239106,
             0.2941580152
            ]
           },
           {
            "iteration": 847,
            "learn": [
             0.07090688532
            ],
            "passed_time": 223.4973353,
            "remaining_time": 40.06084312,
            "test": [
             0.9285127894,
             0.2941479627
            ]
           },
           {
            "iteration": 848,
            "learn": [
             0.07072266319
            ],
            "passed_time": 223.6728936,
            "remaining_time": 39.7816336,
            "test": [
             0.9284693155,
             0.2942053765
            ]
           },
           {
            "iteration": 849,
            "learn": [
             0.07057506214
            ],
            "passed_time": 223.8844029,
            "remaining_time": 39.50901228,
            "test": [
             0.9284238196,
             0.294278922
            ]
           },
           {
            "iteration": 850,
            "learn": [
             0.07041232716
            ],
            "passed_time": 224.0909281,
            "remaining_time": 39.23566192,
            "test": [
             0.9284763927,
             0.2941635108
            ]
           },
           {
            "iteration": 851,
            "learn": [
             0.07026323492
            ],
            "passed_time": 224.2670245,
            "remaining_time": 38.95718265,
            "test": [
             0.9284814478,
             0.2941064975
            ]
           },
           {
            "iteration": 852,
            "learn": [
             0.07011179144
            ],
            "passed_time": 224.4685048,
            "remaining_time": 38.68331795,
            "test": [
             0.9285289657,
             0.2940319733
            ]
           },
           {
            "iteration": 853,
            "learn": [
             0.06998700229
            ],
            "passed_time": 224.7519659,
            "remaining_time": 38.4236382,
            "test": [
             0.9286037812,
             0.293953777
            ]
           },
           {
            "iteration": 854,
            "learn": [
             0.06988107161
            ],
            "passed_time": 225.1535407,
            "remaining_time": 38.18393381,
            "test": [
             0.9286058033,
             0.2939660219
            ]
           },
           {
            "iteration": 855,
            "learn": [
             0.06978856867
            ],
            "passed_time": 225.4854857,
            "remaining_time": 37.93213779,
            "test": [
             0.9285178445,
             0.2940659887
            ]
           },
           {
            "iteration": 856,
            "learn": [
             0.06968078613
            ],
            "passed_time": 225.8199197,
            "remaining_time": 37.68057003,
            "test": [
             0.9285097563,
             0.2941068882
            ]
           },
           {
            "iteration": 857,
            "learn": [
             0.0695696536
            ],
            "passed_time": 226.2088831,
            "remaining_time": 37.4378338,
            "test": [
             0.9284875139,
             0.2941175366
            ]
           },
           {
            "iteration": 858,
            "learn": [
             0.06938730413
            ],
            "passed_time": 226.5619801,
            "remaining_time": 37.18886985,
            "test": [
             0.9285390759,
             0.2941091719
            ]
           },
           {
            "iteration": 859,
            "learn": [
             0.06926311146
            ],
            "passed_time": 226.8984876,
            "remaining_time": 36.93696309,
            "test": [
             0.9285825498,
             0.2940393955
            ]
           },
           {
            "iteration": 860,
            "learn": [
             0.0691123685
            ],
            "passed_time": 227.2876586,
            "remaining_time": 36.69336184,
            "test": [
             0.928545142,
             0.2940853669
            ]
           },
           {
            "iteration": 861,
            "learn": [
             0.06893676064
            ],
            "passed_time": 227.6401439,
            "remaining_time": 36.44354972,
            "test": [
             0.9285876049,
             0.2941338494
            ]
           },
           {
            "iteration": 862,
            "learn": [
             0.06875665144
            ],
            "passed_time": 227.9797991,
            "remaining_time": 36.19146289,
            "test": [
             0.9285077343,
             0.2942490916
            ]
           },
           {
            "iteration": 863,
            "learn": [
             0.06862686851
            ],
            "passed_time": 228.3298053,
            "remaining_time": 35.94080269,
            "test": [
             0.9284612274,
             0.2943931377
            ]
           },
           {
            "iteration": 864,
            "learn": [
             0.06850814126
            ],
            "passed_time": 228.6605495,
            "remaining_time": 35.68690657,
            "test": [
             0.9285148114,
             0.2943707123
            ]
           },
           {
            "iteration": 865,
            "learn": [
             0.06837181785
            ],
            "passed_time": 228.9957061,
            "remaining_time": 35.43351572,
            "test": [
             0.9285239106,
             0.2944108977
            ]
           },
           {
            "iteration": 866,
            "learn": [
             0.06829226407
            ],
            "passed_time": 229.3477581,
            "remaining_time": 35.18252806,
            "test": [
             0.9285744616,
             0.2943386117
            ]
           },
           {
            "iteration": 867,
            "learn": [
             0.06813908664
            ],
            "passed_time": 229.7774115,
            "remaining_time": 34.94310867,
            "test": [
             0.9285886159,
             0.2944056277
            ]
           },
           {
            "iteration": 868,
            "learn": [
             0.06803158847
            ],
            "passed_time": 229.9907314,
            "remaining_time": 34.67063961,
            "test": [
             0.9286128804,
             0.2943820457
            ]
           },
           {
            "iteration": 869,
            "learn": [
             0.06795516968
            ],
            "passed_time": 230.1704329,
            "remaining_time": 34.39328308,
            "test": [
             0.9286149024,
             0.2944073269
            ]
           },
           {
            "iteration": 870,
            "learn": [
             0.06778653232
            ],
            "passed_time": 230.3569312,
            "remaining_time": 34.11715744,
            "test": [
             0.9285774947,
             0.2944607213
            ]
           },
           {
            "iteration": 871,
            "learn": [
             0.06768280029
            ],
            "passed_time": 230.5747007,
            "remaining_time": 33.84582762,
            "test": [
             0.9286209686,
             0.2944369693
            ]
           },
           {
            "iteration": 872,
            "learn": [
             0.06758243908
            ],
            "passed_time": 230.795478,
            "remaining_time": 33.57505809,
            "test": [
             0.9286310788,
             0.2944294025
            ]
           },
           {
            "iteration": 873,
            "learn": [
             0.06745606856
            ],
            "passed_time": 230.986557,
            "remaining_time": 33.30012149,
            "test": [
             0.9286624204,
             0.2944146815
            ]
           },
           {
            "iteration": 874,
            "learn": [
             0.0673285467
            ],
            "passed_time": 231.1635017,
            "remaining_time": 33.02335739,
            "test": [
             0.9286422,
             0.2944346536
            ]
           },
           {
            "iteration": 875,
            "learn": [
             0.06726436268
            ],
            "passed_time": 231.3400228,
            "remaining_time": 32.74676121,
            "test": [
             0.9286856738,
             0.2943715899
            ]
           },
           {
            "iteration": 876,
            "learn": [
             0.06713679921
            ],
            "passed_time": 231.5461648,
            "remaining_time": 32.47454763,
            "test": [
             0.928745324,
             0.2943260482
            ]
           },
           {
            "iteration": 877,
            "learn": [
             0.06698456504
            ],
            "passed_time": 231.7769023,
            "remaining_time": 32.20590215,
            "test": [
             0.928791831,
             0.2941952579
            ]
           },
           {
            "iteration": 878,
            "learn": [
             0.06685540633
            ],
            "passed_time": 231.9594249,
            "remaining_time": 31.93070582,
            "test": [
             0.9288403599,
             0.2941501574
            ]
           },
           {
            "iteration": 879,
            "learn": [
             0.06664564653
            ],
            "passed_time": 232.1431462,
            "remaining_time": 31.65588357,
            "test": [
             0.9289596603,
             0.2940248023
            ]
           },
           {
            "iteration": 880,
            "learn": [
             0.06645790794
            ],
            "passed_time": 232.3149225,
            "remaining_time": 31.37965468,
            "test": [
             0.9290112223,
             0.2939067541
            ]
           },
           {
            "iteration": 881,
            "learn": [
             0.06631410772
            ],
            "passed_time": 232.5019118,
            "remaining_time": 31.10569795,
            "test": [
             0.9290001011,
             0.2938665216
            ]
           },
           {
            "iteration": 882,
            "learn": [
             0.06624220415
            ],
            "passed_time": 232.6992443,
            "remaining_time": 30.83330871,
            "test": [
             0.9290304317,
             0.293857247
            ]
           },
           {
            "iteration": 883,
            "learn": [
             0.06616516113
            ],
            "passed_time": 232.8948581,
            "remaining_time": 30.56086373,
            "test": [
             0.9290304317,
             0.2938526965
            ]
           },
           {
            "iteration": 884,
            "learn": [
             0.06606951627
            ],
            "passed_time": 233.0689227,
            "remaining_time": 30.28579222,
            "test": [
             0.9290870488,
             0.2938583943
            ]
           },
           {
            "iteration": 885,
            "learn": [
             0.06591526378
            ],
            "passed_time": 233.2456859,
            "remaining_time": 30.01129593,
            "test": [
             0.9289869578,
             0.2939971113
            ]
           },
           {
            "iteration": 886,
            "learn": [
             0.06574225686
            ],
            "passed_time": 233.4243106,
            "remaining_time": 29.73725715,
            "test": [
             0.928944495,
             0.2941127937
            ]
           },
           {
            "iteration": 887,
            "learn": [
             0.06565059315
            ],
            "passed_time": 233.6054677,
            "remaining_time": 29.46375268,
            "test": [
             0.9289566272,
             0.2941174688
            ]
           },
           {
            "iteration": 888,
            "learn": [
             0.06558495261
            ],
            "passed_time": 233.8263749,
            "remaining_time": 29.19541914,
            "test": [
             0.9289313517,
             0.2942010351
            ]
           },
           {
            "iteration": 889,
            "learn": [
             0.06551241788
            ],
            "passed_time": 233.9958138,
            "remaining_time": 28.92083092,
            "test": [
             0.9289920129,
             0.2941033732
            ]
           },
           {
            "iteration": 890,
            "learn": [
             0.06539620139
            ],
            "passed_time": 234.1870019,
            "remaining_time": 28.6491394,
            "test": [
             0.9290021231,
             0.294066198
            ]
           },
           {
            "iteration": 891,
            "learn": [
             0.06528386896
            ],
            "passed_time": 234.3619241,
            "remaining_time": 28.37565897,
            "test": [
             0.9290203215,
             0.2940256915
            ]
           },
           {
            "iteration": 892,
            "learn": [
             0.06518497814
            ],
            "passed_time": 234.5481469,
            "remaining_time": 28.10375332,
            "test": [
             0.9289920129,
             0.2940497122
            ]
           },
           {
            "iteration": 893,
            "learn": [
             0.06509110191
            ],
            "passed_time": 234.7216696,
            "remaining_time": 27.83053353,
            "test": [
             0.9289535942,
             0.2940793795
            ]
           },
           {
            "iteration": 894,
            "learn": [
             0.06497969887
            ],
            "passed_time": 235.3127452,
            "remaining_time": 27.60652318,
            "test": [
             0.9289899909,
             0.2939783101
            ]
           },
           {
            "iteration": 895,
            "learn": [
             0.06490606828
            ],
            "passed_time": 235.4889063,
            "remaining_time": 27.33353377,
            "test": [
             0.9290152664,
             0.2940219025
            ]
           },
           {
            "iteration": 896,
            "learn": [
             0.06484334772
            ],
            "passed_time": 235.6698034,
            "remaining_time": 27.06130407,
            "test": [
             0.9290637954,
             0.2939909281
            ]
           },
           {
            "iteration": 897,
            "learn": [
             0.06472632668
            ],
            "passed_time": 235.857005,
            "remaining_time": 26.78999388,
            "test": [
             0.9291517541,
             0.2938684486
            ]
           },
           {
            "iteration": 898,
            "learn": [
             0.06459232677
            ],
            "passed_time": 236.0513008,
            "remaining_time": 26.51966783,
            "test": [
             0.9291234456,
             0.2939213576
            ]
           },
           {
            "iteration": 899,
            "learn": [
             0.06445785522
            ],
            "passed_time": 236.249769,
            "remaining_time": 26.24997433,
            "test": [
             0.929146699,
             0.2938592919
            ]
           },
           {
            "iteration": 900,
            "learn": [
             0.06430623835
            ],
            "passed_time": 236.4634255,
            "remaining_time": 25.9821078,
            "test": [
             0.9290243656,
             0.2939652822
            ]
           },
           {
            "iteration": 901,
            "learn": [
             0.06418001348
            ],
            "passed_time": 236.6626148,
            "remaining_time": 25.71278964,
            "test": [
             0.9290122333,
             0.2939951359
            ]
           },
           {
            "iteration": 902,
            "learn": [
             0.06408467379
            ],
            "passed_time": 236.8346675,
            "remaining_time": 25.44071179,
            "test": [
             0.929044586,
             0.2939125695
            ]
           },
           {
            "iteration": 903,
            "learn": [
             0.06394433455
            ],
            "passed_time": 237.0130032,
            "remaining_time": 25.16952246,
            "test": [
             0.929096148,
             0.293856198
            ]
           },
           {
            "iteration": 904,
            "learn": [
             0.06380562522
            ],
            "passed_time": 237.1870112,
            "remaining_time": 24.89808405,
            "test": [
             0.9290728946,
             0.2939126715
            ]
           },
           {
            "iteration": 905,
            "learn": [
             0.06370418895
            ],
            "passed_time": 237.4140804,
            "remaining_time": 24.63236595,
            "test": [
             0.9290243656,
             0.2940020005
            ]
           },
           {
            "iteration": 906,
            "learn": [
             0.06360710838
            ],
            "passed_time": 237.5895884,
            "remaining_time": 24.36144622,
            "test": [
             0.9290819937,
             0.2939268642
            ]
           },
           {
            "iteration": 907,
            "learn": [
             0.06352221402
            ],
            "passed_time": 237.7739291,
            "remaining_time": 24.09163159,
            "test": [
             0.9289980791,
             0.2940398196
            ]
           },
           {
            "iteration": 908,
            "learn": [
             0.0633594721
            ],
            "passed_time": 237.9559332,
            "remaining_time": 23.82177109,
            "test": [
             0.9290071782,
             0.2940880455
            ]
           },
           {
            "iteration": 909,
            "learn": [
             0.06325610074
            ],
            "passed_time": 238.129576,
            "remaining_time": 23.55127675,
            "test": [
             0.9290395309,
             0.2940736317
            ]
           },
           {
            "iteration": 910,
            "learn": [
             0.06313677008
            ],
            "passed_time": 238.3334121,
            "remaining_time": 23.28394476,
            "test": [
             0.9291851178,
             0.2939222879
            ]
           },
           {
            "iteration": 911,
            "learn": [
             0.06303748391
            ],
            "passed_time": 238.5317432,
            "remaining_time": 23.01622083,
            "test": [
             0.9292326357,
             0.2938925088
            ]
           },
           {
            "iteration": 912,
            "learn": [
             0.06290774259
            ],
            "passed_time": 238.7181122,
            "remaining_time": 22.74750905,
            "test": [
             0.929196239,
             0.2939108532
            ]
           },
           {
            "iteration": 913,
            "learn": [
             0.06281673085
            ],
            "passed_time": 238.8903078,
            "remaining_time": 22.47764384,
            "test": [
             0.9291901729,
             0.2939766378
            ]
           },
           {
            "iteration": 914,
            "learn": [
             0.06272614913
            ],
            "passed_time": 239.0663055,
            "remaining_time": 22.20834532,
            "test": [
             0.9293347488,
             0.2938159013
            ]
           },
           {
            "iteration": 915,
            "learn": [
             0.06262628729
            ],
            "passed_time": 239.2386983,
            "remaining_time": 21.93891993,
            "test": [
             0.9295591952,
             0.2935058386
            ]
           },
           {
            "iteration": 916,
            "learn": [
             0.06253258445
            ],
            "passed_time": 239.478528,
            "remaining_time": 21.67581006,
            "test": [
             0.9296046911,
             0.2934387045
            ]
           },
           {
            "iteration": 917,
            "learn": [
             0.06248299339
            ],
            "passed_time": 239.6503299,
            "remaining_time": 21.40667435,
            "test": [
             0.9296441209,
             0.2933744822
            ]
           },
           {
            "iteration": 918,
            "learn": [
             0.06238182068
            ],
            "passed_time": 239.8386767,
            "remaining_time": 21.13920872,
            "test": [
             0.9296754625,
             0.2933476428
            ]
           },
           {
            "iteration": 919,
            "learn": [
             0.06227489125
            ],
            "passed_time": 240.1395296,
            "remaining_time": 20.88169823,
            "test": [
             0.9297068042,
             0.2932418208
            ]
           },
           {
            "iteration": 920,
            "learn": [
             0.06213564092
            ],
            "passed_time": 240.5112444,
            "remaining_time": 20.63017189,
            "test": [
             0.9296228895,
             0.2933080267
            ]
           },
           {
            "iteration": 921,
            "learn": [
             0.06195856961
            ],
            "passed_time": 240.8888446,
            "remaining_time": 20.37888273,
            "test": [
             0.9297037711,
             0.2932433865
            ]
           },
           {
            "iteration": 922,
            "learn": [
             0.06184797807
            ],
            "passed_time": 241.2197335,
            "remaining_time": 20.12342305,
            "test": [
             0.9297199474,
             0.2931934701
            ]
           },
           {
            "iteration": 923,
            "learn": [
             0.06173651262
            ],
            "passed_time": 241.5665397,
            "remaining_time": 19.86910933,
            "test": [
             0.9297270246,
             0.2931852522
            ]
           },
           {
            "iteration": 924,
            "learn": [
             0.0616496693
            ],
            "passed_time": 241.904526,
            "remaining_time": 19.61388049,
            "test": [
             0.929699727,
             0.2931933474
            ]
           },
           {
            "iteration": 925,
            "learn": [
             0.06151835355
            ],
            "passed_time": 242.2232351,
            "remaining_time": 19.35693239,
            "test": [
             0.9296906278,
             0.2932640533
            ]
           },
           {
            "iteration": 926,
            "learn": [
             0.06137018377
            ],
            "passed_time": 242.5347901,
            "remaining_time": 19.09928768,
            "test": [
             0.9297290466,
             0.2932802815
            ]
           },
           {
            "iteration": 927,
            "learn": [
             0.06125593012
            ],
            "passed_time": 242.9483018,
            "remaining_time": 18.84943721,
            "test": [
             0.9297421899,
             0.2931849219
            ]
           },
           {
            "iteration": 928,
            "learn": [
             0.06111629139
            ],
            "passed_time": 243.2871636,
            "remaining_time": 18.59352918,
            "test": [
             0.9298038621,
             0.2931281339
            ]
           },
           {
            "iteration": 929,
            "learn": [
             0.06102967696
            ],
            "passed_time": 243.6077632,
            "remaining_time": 18.3360682,
            "test": [
             0.9297715095,
             0.293168795
            ]
           },
           {
            "iteration": 930,
            "learn": [
             0.06091226058
            ],
            "passed_time": 243.9728404,
            "remaining_time": 18.08176798,
            "test": [
             0.9297533111,
             0.2932084895
            ]
           },
           {
            "iteration": 931,
            "learn": [
             0.06081469449
            ],
            "passed_time": 244.3293244,
            "remaining_time": 17.82660307,
            "test": [
             0.9298250935,
             0.2931334921
            ]
           },
           {
            "iteration": 932,
            "learn": [
             0.06070543463
            ],
            "passed_time": 244.6869383,
            "remaining_time": 17.57130211,
            "test": [
             0.9298048731,
             0.2931301455
            ]
           },
           {
            "iteration": 933,
            "learn": [
             0.06063765092
            ],
            "passed_time": 245.0412831,
            "remaining_time": 17.31555105,
            "test": [
             0.9297897078,
             0.2931952238
            ]
           },
           {
            "iteration": 934,
            "learn": [
             0.0605027771
            ],
            "passed_time": 245.3644427,
            "remaining_time": 17.05742115,
            "test": [
             0.9298261045,
             0.293242172
            ]
           },
           {
            "iteration": 935,
            "learn": [
             0.06035529397
            ],
            "passed_time": 245.5415561,
            "remaining_time": 16.78916623,
            "test": [
             0.9298392478,
             0.2932520324
            ]
           },
           {
            "iteration": 936,
            "learn": [
             0.06024906505
            ],
            "passed_time": 245.7211574,
            "remaining_time": 16.52127312,
            "test": [
             0.9298695784,
             0.2932798445
            ]
           },
           {
            "iteration": 937,
            "learn": [
             0.06012365168
            ],
            "passed_time": 245.889901,
            "remaining_time": 16.2528506,
            "test": [
             0.9298068952,
             0.2934206501
            ]
           },
           {
            "iteration": 938,
            "learn": [
             0.06002628673
            ],
            "passed_time": 246.1168757,
            "remaining_time": 15.98842323,
            "test": [
             0.9298402588,
             0.2935030855
            ]
           },
           {
            "iteration": 939,
            "learn": [
             0.05987783259
            ],
            "passed_time": 246.2924842,
            "remaining_time": 15.72079687,
            "test": [
             0.9297644323,
             0.2935927687
            ]
           },
           {
            "iteration": 940,
            "learn": [
             0.05974785545
            ],
            "passed_time": 246.4725569,
            "remaining_time": 15.45364597,
            "test": [
             0.9298038621,
             0.2935149482
            ]
           },
           {
            "iteration": 941,
            "learn": [
             0.05967078469
            ],
            "passed_time": 246.6413657,
            "remaining_time": 15.18598642,
            "test": [
             0.9298190274,
             0.2934744139
            ]
           },
           {
            "iteration": 942,
            "learn": [
             0.05951921636
            ],
            "passed_time": 246.8177868,
            "remaining_time": 14.91899666,
            "test": [
             0.9297674654,
             0.2935749749
            ]
           },
           {
            "iteration": 943,
            "learn": [
             0.05944084861
            ],
            "passed_time": 246.9974985,
            "remaining_time": 14.65239398,
            "test": [
             0.9297391568,
             0.2936376066
            ]
           },
           {
            "iteration": 944,
            "learn": [
             0.05939300537
            ],
            "passed_time": 247.2183601,
            "remaining_time": 14.38837016,
            "test": [
             0.9297543221,
             0.2936327015
            ]
           },
           {
            "iteration": 945,
            "learn": [
             0.05925831881
            ],
            "passed_time": 247.392827,
            "remaining_time": 14.12178928,
            "test": [
             0.9297239915,
             0.2936461672
            ]
           },
           {
            "iteration": 946,
            "learn": [
             0.05914166537
            ],
            "passed_time": 247.5696164,
            "remaining_time": 13.85553291,
            "test": [
             0.9298190274,
             0.2935618432
            ]
           },
           {
            "iteration": 947,
            "learn": [
             0.05903133046
            ],
            "passed_time": 247.7415313,
            "remaining_time": 13.58919792,
            "test": [
             0.9298119503,
             0.2935429281
            ]
           },
           {
            "iteration": 948,
            "learn": [
             0.0589096
            ],
            "passed_time": 247.9137334,
            "remaining_time": 13.32307735,
            "test": [
             0.9297715095,
             0.2935655864
            ]
           },
           {
            "iteration": 949,
            "learn": [
             0.0587791859
            ],
            "passed_time": 248.097409,
            "remaining_time": 13.05775837,
            "test": [
             0.9297563442,
             0.2936165538
            ]
           },
           {
            "iteration": 950,
            "learn": [
             0.05868236195
            ],
            "passed_time": 248.3234747,
            "remaining_time": 12.79479523,
            "test": [
             0.9297613993,
             0.2935937724
            ]
           },
           {
            "iteration": 951,
            "learn": [
             0.05860769792
            ],
            "passed_time": 248.5083455,
            "remaining_time": 12.52983255,
            "test": [
             0.9297098372,
             0.2936126884
            ]
           },
           {
            "iteration": 952,
            "learn": [
             0.05848639748
            ],
            "passed_time": 248.6911264,
            "remaining_time": 12.26493488,
            "test": [
             0.9297553331,
             0.2936076381
            ]
           },
           {
            "iteration": 953,
            "learn": [
             0.05839994257
            ],
            "passed_time": 248.8749393,
            "remaining_time": 12.00025913,
            "test": [
             0.9297674654,
             0.2936036364
            ]
           },
           {
            "iteration": 954,
            "learn": [
             0.05833215887
            ],
            "passed_time": 249.0589656,
            "remaining_time": 11.73576278,
            "test": [
             0.9297260135,
             0.2936484945
            ]
           },
           {
            "iteration": 955,
            "learn": [
             0.05817032207
            ],
            "passed_time": 249.2983024,
            "remaining_time": 11.47398044,
            "test": [
             0.929697705,
             0.2937345574
            ]
           },
           {
            "iteration": 956,
            "learn": [
             0.05808170319
            ],
            "passed_time": 249.4818797,
            "remaining_time": 11.20973963,
            "test": [
             0.929648165,
             0.2938599967
            ]
           },
           {
            "iteration": 957,
            "learn": [
             0.0579654867
            ],
            "passed_time": 249.6564332,
            "remaining_time": 10.9452716,
            "test": [
             0.9296329997,
             0.2938935707
            ]
           },
           {
            "iteration": 958,
            "learn": [
             0.05789858038
            ],
            "passed_time": 249.8254391,
            "remaining_time": 10.68075391,
            "test": [
             0.9296613083,
             0.2938770942
            ]
           },
           {
            "iteration": 959,
            "learn": [
             0.05775303927
            ],
            "passed_time": 250.0082139,
            "remaining_time": 10.41700891,
            "test": [
             0.929646143,
             0.2939905085
            ]
           },
           {
            "iteration": 960,
            "learn": [
             0.05771518707
            ],
            "passed_time": 250.1903657,
            "remaining_time": 10.15340714,
            "test": [
             0.9296693964,
             0.2939566014
            ]
           },
           {
            "iteration": 961,
            "learn": [
             0.05761204113
            ],
            "passed_time": 250.4212658,
            "remaining_time": 9.891900311,
            "test": [
             0.9296329997,
             0.2939960133
            ]
           },
           {
            "iteration": 962,
            "learn": [
             0.05750978643
            ],
            "passed_time": 250.6012271,
            "remaining_time": 9.6284999,
            "test": [
             0.929697705,
             0.2939036548
            ]
           },
           {
            "iteration": 963,
            "learn": [
             0.05742605036
            ],
            "passed_time": 250.7772408,
            "remaining_time": 9.365125177,
            "test": [
             0.9296886058,
             0.293886345
            ]
           },
           {
            "iteration": 964,
            "learn": [
             0.05734445745
            ],
            "passed_time": 250.9495608,
            "remaining_time": 9.101797541,
            "test": [
             0.9297260135,
             0.2938676791
            ]
           },
           {
            "iteration": 965,
            "learn": [
             0.05722417658
            ],
            "passed_time": 251.1339177,
            "remaining_time": 8.839081988,
            "test": [
             0.9298129613,
             0.2937695022
            ]
           },
           {
            "iteration": 966,
            "learn": [
             0.05713528026
            ],
            "passed_time": 251.3384429,
            "remaining_time": 8.577216769,
            "test": [
             0.9298453139,
             0.2936470691
            ]
           },
           {
            "iteration": 967,
            "learn": [
             0.05699205572
            ],
            "passed_time": 251.5470568,
            "remaining_time": 8.315605185,
            "test": [
             0.9298432919,
             0.2936212051
            ]
           },
           {
            "iteration": 968,
            "learn": [
             0.05692554127
            ],
            "passed_time": 251.7133882,
            "remaining_time": 8.052750292,
            "test": [
             0.9298867657,
             0.2935686355
            ]
           },
           {
            "iteration": 969,
            "learn": [
             0.056867544
            ],
            "passed_time": 251.8970616,
            "remaining_time": 7.790630773,
            "test": [
             0.9299595592,
             0.2934873707
            ]
           },
           {
            "iteration": 970,
            "learn": [
             0.05677011663
            ],
            "passed_time": 252.0706668,
            "remaining_time": 7.52837213,
            "test": [
             0.9299625923,
             0.2934385237
            ]
           },
           {
            "iteration": 971,
            "learn": [
             0.05673011086
            ],
            "passed_time": 252.2495846,
            "remaining_time": 7.266448939,
            "test": [
             0.9299261955,
             0.2934739092
            ]
           },
           {
            "iteration": 972,
            "learn": [
             0.05666236877
            ],
            "passed_time": 252.4788512,
            "remaining_time": 7.006093507,
            "test": [
             0.9299241735,
             0.2934822126
            ]
           },
           {
            "iteration": 973,
            "learn": [
             0.05654287165
            ],
            "passed_time": 252.6604939,
            "remaining_time": 6.744530637,
            "test": [
             0.9299585482,
             0.2934829314
            ]
           },
           {
            "iteration": 974,
            "learn": [
             0.05643050801
            ],
            "passed_time": 252.8405847,
            "remaining_time": 6.483091916,
            "test": [
             0.9299969669,
             0.2934379794
            ]
           },
           {
            "iteration": 975,
            "learn": [
             0.0563195454
            ],
            "passed_time": 253.0220532,
            "remaining_time": 6.221853767,
            "test": [
             0.9299181074,
             0.2936235464
            ]
           },
           {
            "iteration": 976,
            "learn": [
             0.05618503917
            ],
            "passed_time": 253.2083801,
            "remaining_time": 5.960893287,
            "test": [
             0.9298614902,
             0.2936908831
            ]
           },
           {
            "iteration": 977,
            "learn": [
             0.05601605849
            ],
            "passed_time": 253.4027498,
            "remaining_time": 5.700266356,
            "test": [
             0.9299565261,
             0.293716042
            ]
           },
           {
            "iteration": 978,
            "learn": [
             0.0559328426
            ],
            "passed_time": 253.6326398,
            "remaining_time": 5.440536706,
            "test": [
             0.9298938429,
             0.2938458355
            ]
           },
           {
            "iteration": 979,
            "learn": [
             0.05582433527
            ],
            "passed_time": 253.8087089,
            "remaining_time": 5.179769569,
            "test": [
             0.9298705894,
             0.2939101762
            ]
           },
           {
            "iteration": 980,
            "learn": [
             0.05573669434
            ],
            "passed_time": 253.9806198,
            "remaining_time": 4.919094574,
            "test": [
             0.9298301486,
             0.2940408601
            ]
           },
           {
            "iteration": 981,
            "learn": [
             0.05565722032
            ],
            "passed_time": 254.1532011,
            "remaining_time": 4.658612648,
            "test": [
             0.9297674654,
             0.2940948749
            ]
           },
           {
            "iteration": 982,
            "learn": [
             0.05551419692
            ],
            "passed_time": 254.3403873,
            "remaining_time": 4.398562141,
            "test": [
             0.929798807,
             0.2939383001
            ]
           },
           {
            "iteration": 983,
            "learn": [
             0.05543809371
            ],
            "passed_time": 254.5679609,
            "remaining_time": 4.139316437,
            "test": [
             0.9299363057,
             0.2938174141
            ]
           },
           {
            "iteration": 984,
            "learn": [
             0.05534768191
            ],
            "passed_time": 254.756315,
            "remaining_time": 3.879537792,
            "test": [
             0.9299767465,
             0.2937585209
            ]
           },
           {
            "iteration": 985,
            "learn": [
             0.05524749062
            ],
            "passed_time": 254.9306067,
            "remaining_time": 3.619704355,
            "test": [
             0.9299181074,
             0.2938101424
            ]
           },
           {
            "iteration": 986,
            "learn": [
             0.05514800332
            ],
            "passed_time": 255.1026275,
            "remaining_time": 3.360014344,
            "test": [
             0.929947427,
             0.293758002
            ]
           },
           {
            "iteration": 987,
            "learn": [
             0.05506855358
            ],
            "passed_time": 255.2970632,
            "remaining_time": 3.100774047,
            "test": [
             0.9299656253,
             0.2937417123
            ]
           },
           {
            "iteration": 988,
            "learn": [
             0.05498076699
            ],
            "passed_time": 255.5529955,
            "remaining_time": 2.842348787,
            "test": [
             0.9299959559,
             0.2937536032
            ]
           },
           {
            "iteration": 989,
            "learn": [
             0.05488457073
            ],
            "passed_time": 255.9196444,
            "remaining_time": 2.585046913,
            "test": [
             0.9300161763,
             0.2937363367
            ]
           },
           {
            "iteration": 990,
            "learn": [
             0.05477893483
            ],
            "passed_time": 256.2624958,
            "remaining_time": 2.327308236,
            "test": [
             0.9300272975,
             0.2938021836
            ]
           },
           {
            "iteration": 991,
            "learn": [
             0.05467689861
            ],
            "passed_time": 256.6035288,
            "remaining_time": 2.069383297,
            "test": [
             0.9300303306,
             0.293804089
            ]
           },
           {
            "iteration": 992,
            "learn": [
             0.05458213806
            ],
            "passed_time": 256.9925999,
            "remaining_time": 1.811629607,
            "test": [
             0.930050551,
             0.2937749413
            ]
           },
           {
            "iteration": 993,
            "learn": [
             0.05448401018
            ],
            "passed_time": 257.3276978,
            "remaining_time": 1.553285902,
            "test": [
             0.9300111212,
             0.2938747196
            ]
           },
           {
            "iteration": 994,
            "learn": [
             0.05440890919
            ],
            "passed_time": 257.6356178,
            "remaining_time": 1.294651346,
            "test": [
             0.9300131433,
             0.2938966551
            ]
           },
           {
            "iteration": 995,
            "learn": [
             0.05428133184
            ],
            "passed_time": 258.0375595,
            "remaining_time": 1.03629542,
            "test": [
             0.9300252755,
             0.2938913344
            ]
           },
           {
            "iteration": 996,
            "learn": [
             0.05422112552
            ],
            "passed_time": 258.3588452,
            "remaining_time": 0.7774087618,
            "test": [
             0.9300586392,
             0.2938359757
            ]
           },
           {
            "iteration": 997,
            "learn": [
             0.05411167145
            ],
            "passed_time": 258.6832074,
            "remaining_time": 0.5184032212,
            "test": [
             0.9300060661,
             0.2939161452
            ]
           },
           {
            "iteration": 998,
            "learn": [
             0.05403650457
            ],
            "passed_time": 259.0526831,
            "remaining_time": 0.2593119951,
            "test": [
             0.9300788596,
             0.2938854209
            ]
           },
           {
            "iteration": 999,
            "learn": [
             0.05390840704
            ],
            "passed_time": 259.4055519,
            "remaining_time": 0,
            "test": [
             0.9301041351,
             0.2939058623
            ]
           }
          ],
          "meta": {
           "iteration_count": 1000,
           "launch_mode": "Train",
           "learn_metrics": [
            {
             "best_value": "Min",
             "name": "Logloss"
            }
           ],
           "learn_sets": [
            "learn"
           ],
           "name": "experiment",
           "parameters": "",
           "test_metrics": [
            {
             "best_value": "Max",
             "name": "AUC"
            },
            {
             "best_value": "Min",
             "name": "Logloss"
            }
           ],
           "test_sets": [
            "test"
           ]
          }
         },
         "passed_iterations": 999,
         "total_iterations": 1000
        },
        "name": "catboost_info",
        "path": "catboost_info"
       }
      },
      "layout": "IPY_MODEL_d345dff8fdc542e6b2da1f6e7ac1c86b"
     }
    },
    "5a32dfb1f636493aa8ab0d474866d4e5": {
     "model_module": "@jupyter-widgets/base",
     "model_module_version": "1.2.0",
     "model_name": "LayoutModel",
     "state": {
      "_model_module": "@jupyter-widgets/base",
      "_model_module_version": "1.2.0",
      "_model_name": "LayoutModel",
      "_view_count": null,
      "_view_module": "@jupyter-widgets/base",
      "_view_module_version": "1.2.0",
      "_view_name": "LayoutView",
      "align_content": null,
      "align_items": null,
      "align_self": null,
      "border": null,
      "bottom": null,
      "display": null,
      "flex": null,
      "flex_flow": null,
      "grid_area": null,
      "grid_auto_columns": null,
      "grid_auto_flow": null,
      "grid_auto_rows": null,
      "grid_column": null,
      "grid_gap": null,
      "grid_row": null,
      "grid_template_areas": null,
      "grid_template_columns": null,
      "grid_template_rows": null,
      "height": null,
      "justify_content": null,
      "justify_items": null,
      "left": null,
      "margin": null,
      "max_height": null,
      "max_width": null,
      "min_height": null,
      "min_width": null,
      "object_fit": null,
      "object_position": null,
      "order": null,
      "overflow": null,
      "overflow_x": null,
      "overflow_y": null,
      "padding": null,
      "right": null,
      "top": null,
      "visibility": null,
      "width": null
     }
    },
    "5c425af0fb1b4cee9b66cd24961f61ed": {
     "model_module": "@jupyter-widgets/controls",
     "model_module_version": "1.5.0",
     "model_name": "DescriptionStyleModel",
     "state": {
      "_model_module": "@jupyter-widgets/controls",
      "_model_module_version": "1.5.0",
      "_model_name": "DescriptionStyleModel",
      "_view_count": null,
      "_view_module": "@jupyter-widgets/base",
      "_view_module_version": "1.2.0",
      "_view_name": "StyleView",
      "description_width": ""
     }
    },
    "5c90da6b1a794ab19089723087fb85ba": {
     "model_module": "@jupyter-widgets/controls",
     "model_module_version": "1.5.0",
     "model_name": "HTMLModel",
     "state": {
      "_dom_classes": [],
      "_model_module": "@jupyter-widgets/controls",
      "_model_module_version": "1.5.0",
      "_model_name": "HTMLModel",
      "_view_count": null,
      "_view_module": "@jupyter-widgets/controls",
      "_view_module_version": "1.5.0",
      "_view_name": "HTMLView",
      "description": "",
      "description_tooltip": null,
      "layout": "IPY_MODEL_90e0dcaf2d4b4a419f5045d3d8c1d9f1",
      "placeholder": "​",
      "style": "IPY_MODEL_bb636c0c266e42609d6834a633f5c630",
      "value": "(…)1fe3a328db482fd5076498a46051dd/vocab.txt: 100%"
     }
    },
    "5e4d5b9175b7469d8492cd0c13e6a1a4": {
     "model_module": "@jupyter-widgets/controls",
     "model_module_version": "1.5.0",
     "model_name": "ProgressStyleModel",
     "state": {
      "_model_module": "@jupyter-widgets/controls",
      "_model_module_version": "1.5.0",
      "_model_name": "ProgressStyleModel",
      "_view_count": null,
      "_view_module": "@jupyter-widgets/base",
      "_view_module_version": "1.2.0",
      "_view_name": "StyleView",
      "bar_color": null,
      "description_width": ""
     }
    },
    "5ed84d41aec345f38080312567893755": {
     "model_module": "@jupyter-widgets/controls",
     "model_module_version": "1.5.0",
     "model_name": "HTMLModel",
     "state": {
      "_dom_classes": [],
      "_model_module": "@jupyter-widgets/controls",
      "_model_module_version": "1.5.0",
      "_model_name": "HTMLModel",
      "_view_count": null,
      "_view_module": "@jupyter-widgets/controls",
      "_view_module_version": "1.5.0",
      "_view_name": "HTMLView",
      "description": "",
      "description_tooltip": null,
      "layout": "IPY_MODEL_e22bb761c9664f28916e48412c3e9fb1",
      "placeholder": "​",
      "style": "IPY_MODEL_68eb489e88034cf28b279f7a93309f1f",
      "value": "(…)328db482fd5076498a46051dd/tokenizer.json: 100%"
     }
    },
    "62ab673ffab54c2f9cf6b034f8038ec8": {
     "model_module": "@jupyter-widgets/controls",
     "model_module_version": "1.5.0",
     "model_name": "DescriptionStyleModel",
     "state": {
      "_model_module": "@jupyter-widgets/controls",
      "_model_module_version": "1.5.0",
      "_model_name": "DescriptionStyleModel",
      "_view_count": null,
      "_view_module": "@jupyter-widgets/base",
      "_view_module_version": "1.2.0",
      "_view_name": "StyleView",
      "description_width": ""
     }
    },
    "66948fa0b4224b4bae6a4fd8e40fa59a": {
     "model_module": "@jupyter-widgets/controls",
     "model_module_version": "1.5.0",
     "model_name": "HTMLModel",
     "state": {
      "_dom_classes": [],
      "_model_module": "@jupyter-widgets/controls",
      "_model_module_version": "1.5.0",
      "_model_name": "HTMLModel",
      "_view_count": null,
      "_view_module": "@jupyter-widgets/controls",
      "_view_module_version": "1.5.0",
      "_view_name": "HTMLView",
      "description": "",
      "description_tooltip": null,
      "layout": "IPY_MODEL_aac3eeaa35164b89b9ce7fa6b995c804",
      "placeholder": "​",
      "style": "IPY_MODEL_1e586dcd46ee455facf98280d55597f6",
      "value": " 411/411 [00:00&lt;00:00, 22.3kB/s]"
     }
    },
    "675eb8aa0ec8426c95f657b911fa97b5": {
     "model_module": "@jupyter-widgets/controls",
     "model_module_version": "1.5.0",
     "model_name": "HTMLModel",
     "state": {
      "_dom_classes": [],
      "_model_module": "@jupyter-widgets/controls",
      "_model_module_version": "1.5.0",
      "_model_name": "HTMLModel",
      "_view_count": null,
      "_view_module": "@jupyter-widgets/controls",
      "_view_module_version": "1.5.0",
      "_view_name": "HTMLView",
      "description": "",
      "description_tooltip": null,
      "layout": "IPY_MODEL_e1bde327910a4ea6a6e8d114d0341522",
      "placeholder": "​",
      "style": "IPY_MODEL_c0e455ea3f1b463d8ffa128cf43b4613",
      "value": "100%"
     }
    },
    "68eb489e88034cf28b279f7a93309f1f": {
     "model_module": "@jupyter-widgets/controls",
     "model_module_version": "1.5.0",
     "model_name": "DescriptionStyleModel",
     "state": {
      "_model_module": "@jupyter-widgets/controls",
      "_model_module_version": "1.5.0",
      "_model_name": "DescriptionStyleModel",
      "_view_count": null,
      "_view_module": "@jupyter-widgets/base",
      "_view_module_version": "1.2.0",
      "_view_name": "StyleView",
      "description_width": ""
     }
    },
    "69679188b31b46aba6313ce89dc5890f": {
     "model_module": "@jupyter-widgets/controls",
     "model_module_version": "1.5.0",
     "model_name": "HBoxModel",
     "state": {
      "_dom_classes": [],
      "_model_module": "@jupyter-widgets/controls",
      "_model_module_version": "1.5.0",
      "_model_name": "HBoxModel",
      "_view_count": null,
      "_view_module": "@jupyter-widgets/controls",
      "_view_module_version": "1.5.0",
      "_view_name": "HBoxView",
      "box_style": "",
      "children": [
       "IPY_MODEL_675eb8aa0ec8426c95f657b911fa97b5",
       "IPY_MODEL_b976eb764d3e492fba78be5bbe64a276",
       "IPY_MODEL_185d26caba454994a829b9aee5a9efb4"
      ],
      "layout": "IPY_MODEL_04d6763c4b1b4a839f79e252fbb7d8a1"
     }
    },
    "698da2212e21455889ae43235ce4ffe2": {
     "model_module": "@jupyter-widgets/controls",
     "model_module_version": "1.5.0",
     "model_name": "DescriptionStyleModel",
     "state": {
      "_model_module": "@jupyter-widgets/controls",
      "_model_module_version": "1.5.0",
      "_model_name": "DescriptionStyleModel",
      "_view_count": null,
      "_view_module": "@jupyter-widgets/base",
      "_view_module_version": "1.2.0",
      "_view_name": "StyleView",
      "description_width": ""
     }
    },
    "69df4140e3c740c48902155163761b24": {
     "model_module": "@jupyter-widgets/controls",
     "model_module_version": "1.5.0",
     "model_name": "ProgressStyleModel",
     "state": {
      "_model_module": "@jupyter-widgets/controls",
      "_model_module_version": "1.5.0",
      "_model_name": "ProgressStyleModel",
      "_view_count": null,
      "_view_module": "@jupyter-widgets/base",
      "_view_module_version": "1.2.0",
      "_view_name": "StyleView",
      "bar_color": null,
      "description_width": ""
     }
    },
    "72d408e0373b477cb152c559d32ddd41": {
     "model_module": "@jupyter-widgets/controls",
     "model_module_version": "1.5.0",
     "model_name": "HTMLModel",
     "state": {
      "_dom_classes": [],
      "_model_module": "@jupyter-widgets/controls",
      "_model_module_version": "1.5.0",
      "_model_name": "HTMLModel",
      "_view_count": null,
      "_view_module": "@jupyter-widgets/controls",
      "_view_module_version": "1.5.0",
      "_view_name": "HTMLView",
      "description": "",
      "description_tooltip": null,
      "layout": "IPY_MODEL_c627a685aa2a41a592ffa1c7537888ca",
      "placeholder": "​",
      "style": "IPY_MODEL_28a59416dd8a4cf99b17a59c9863a33a",
      "value": " 1.88G/1.88G [00:12&lt;00:00, 34.3MB/s]"
     }
    },
    "74e66723ae194c159cae8ea54b270755": {
     "model_module": "@jupyter-widgets/controls",
     "model_module_version": "1.5.0",
     "model_name": "HTMLModel",
     "state": {
      "_dom_classes": [],
      "_model_module": "@jupyter-widgets/controls",
      "_model_module_version": "1.5.0",
      "_model_name": "HTMLModel",
      "_view_count": null,
      "_view_module": "@jupyter-widgets/controls",
      "_view_module_version": "1.5.0",
      "_view_name": "HTMLView",
      "description": "",
      "description_tooltip": null,
      "layout": "IPY_MODEL_24a612fe443b4eb08dc96aed2352d202",
      "placeholder": "​",
      "style": "IPY_MODEL_f3dded4083ce4e3b88485aacd87614bf",
      "value": " 112/112 [00:00&lt;00:00, 5.86kB/s]"
     }
    },
    "76460fa5ffc04722ac51884cbc5eea2d": {
     "model_module": "@jupyter-widgets/controls",
     "model_module_version": "1.5.0",
     "model_name": "DescriptionStyleModel",
     "state": {
      "_model_module": "@jupyter-widgets/controls",
      "_model_module_version": "1.5.0",
      "_model_name": "DescriptionStyleModel",
      "_view_count": null,
      "_view_module": "@jupyter-widgets/base",
      "_view_module_version": "1.2.0",
      "_view_name": "StyleView",
      "description_width": ""
     }
    },
    "77684e472b9648859ac91e73994b1827": {
     "model_module": "@jupyter-widgets/base",
     "model_module_version": "1.2.0",
     "model_name": "LayoutModel",
     "state": {
      "_model_module": "@jupyter-widgets/base",
      "_model_module_version": "1.2.0",
      "_model_name": "LayoutModel",
      "_view_count": null,
      "_view_module": "@jupyter-widgets/base",
      "_view_module_version": "1.2.0",
      "_view_name": "LayoutView",
      "align_content": null,
      "align_items": null,
      "align_self": null,
      "border": null,
      "bottom": null,
      "display": null,
      "flex": null,
      "flex_flow": null,
      "grid_area": null,
      "grid_auto_columns": null,
      "grid_auto_flow": null,
      "grid_auto_rows": null,
      "grid_column": null,
      "grid_gap": null,
      "grid_row": null,
      "grid_template_areas": null,
      "grid_template_columns": null,
      "grid_template_rows": null,
      "height": null,
      "justify_content": null,
      "justify_items": null,
      "left": null,
      "margin": null,
      "max_height": null,
      "max_width": null,
      "min_height": null,
      "min_width": null,
      "object_fit": null,
      "object_position": null,
      "order": null,
      "overflow": null,
      "overflow_x": null,
      "overflow_y": null,
      "padding": null,
      "right": null,
      "top": null,
      "visibility": null,
      "width": null
     }
    },
    "79b44fb0bb544b10b2da0dfd62b6135b": {
     "model_module": "@jupyter-widgets/controls",
     "model_module_version": "1.5.0",
     "model_name": "HTMLModel",
     "state": {
      "_dom_classes": [],
      "_model_module": "@jupyter-widgets/controls",
      "_model_module_version": "1.5.0",
      "_model_name": "HTMLModel",
      "_view_count": null,
      "_view_module": "@jupyter-widgets/controls",
      "_view_module_version": "1.5.0",
      "_view_name": "HTMLView",
      "description": "",
      "description_tooltip": null,
      "layout": "IPY_MODEL_ee554fea5aab446084644c0a881eda60",
      "placeholder": "​",
      "style": "IPY_MODEL_99b1ef01fcbd4a5683b4a4b0d672b7d4",
      "value": " 190/190 [00:00&lt;00:00, 7.07kB/s]"
     }
    },
    "7de397fd2beb4a0baf1f261085d72a05": {
     "model_module": "@jupyter-widgets/controls",
     "model_module_version": "1.5.0",
     "model_name": "HTMLModel",
     "state": {
      "_dom_classes": [],
      "_model_module": "@jupyter-widgets/controls",
      "_model_module_version": "1.5.0",
      "_model_name": "HTMLModel",
      "_view_count": null,
      "_view_module": "@jupyter-widgets/controls",
      "_view_module_version": "1.5.0",
      "_view_name": "HTMLView",
      "description": "",
      "description_tooltip": null,
      "layout": "IPY_MODEL_c29a1c2b7bc44276af419c5b7868753c",
      "placeholder": "​",
      "style": "IPY_MODEL_ca5f4bcd6bb643fda653cd234b912fb3",
      "value": "(…)482fd5076498a46051dd/2_Dense/config.json: 100%"
     }
    },
    "7e317b15805541ce89ea4242b1003511": {
     "model_module": "@jupyter-widgets/base",
     "model_module_version": "1.2.0",
     "model_name": "LayoutModel",
     "state": {
      "_model_module": "@jupyter-widgets/base",
      "_model_module_version": "1.2.0",
      "_model_name": "LayoutModel",
      "_view_count": null,
      "_view_module": "@jupyter-widgets/base",
      "_view_module_version": "1.2.0",
      "_view_name": "LayoutView",
      "align_content": null,
      "align_items": null,
      "align_self": null,
      "border": null,
      "bottom": null,
      "display": null,
      "flex": null,
      "flex_flow": null,
      "grid_area": null,
      "grid_auto_columns": null,
      "grid_auto_flow": null,
      "grid_auto_rows": null,
      "grid_column": null,
      "grid_gap": null,
      "grid_row": null,
      "grid_template_areas": null,
      "grid_template_columns": null,
      "grid_template_rows": null,
      "height": null,
      "justify_content": null,
      "justify_items": null,
      "left": null,
      "margin": null,
      "max_height": null,
      "max_width": null,
      "min_height": null,
      "min_width": null,
      "object_fit": null,
      "object_position": null,
      "order": null,
      "overflow": null,
      "overflow_x": null,
      "overflow_y": null,
      "padding": null,
      "right": null,
      "top": null,
      "visibility": null,
      "width": null
     }
    },
    "7ebf591f436943aa8bc76dc61258a515": {
     "model_module": "@jupyter-widgets/controls",
     "model_module_version": "1.5.0",
     "model_name": "HTMLModel",
     "state": {
      "_dom_classes": [],
      "_model_module": "@jupyter-widgets/controls",
      "_model_module_version": "1.5.0",
      "_model_name": "HTMLModel",
      "_view_count": null,
      "_view_module": "@jupyter-widgets/controls",
      "_view_module_version": "1.5.0",
      "_view_name": "HTMLView",
      "description": "",
      "description_tooltip": null,
      "layout": "IPY_MODEL_5152d3f6bc9c462898cea45d0e15ef6b",
      "placeholder": "​",
      "style": "IPY_MODEL_97dc5f4c98d744f2861797a9b5257468",
      "value": "(…)2fd5076498a46051dd/tokenizer_config.json: 100%"
     }
    },
    "7f78d4c6ad9946578f516e67f8f8bf46": {
     "model_module": "@jupyter-widgets/base",
     "model_module_version": "1.2.0",
     "model_name": "LayoutModel",
     "state": {
      "_model_module": "@jupyter-widgets/base",
      "_model_module_version": "1.2.0",
      "_model_name": "LayoutModel",
      "_view_count": null,
      "_view_module": "@jupyter-widgets/base",
      "_view_module_version": "1.2.0",
      "_view_name": "LayoutView",
      "align_content": null,
      "align_items": null,
      "align_self": null,
      "border": null,
      "bottom": null,
      "display": null,
      "flex": null,
      "flex_flow": null,
      "grid_area": null,
      "grid_auto_columns": null,
      "grid_auto_flow": null,
      "grid_auto_rows": null,
      "grid_column": null,
      "grid_gap": null,
      "grid_row": null,
      "grid_template_areas": null,
      "grid_template_columns": null,
      "grid_template_rows": null,
      "height": null,
      "justify_content": null,
      "justify_items": null,
      "left": null,
      "margin": null,
      "max_height": null,
      "max_width": null,
      "min_height": null,
      "min_width": null,
      "object_fit": null,
      "object_position": null,
      "order": null,
      "overflow": null,
      "overflow_x": null,
      "overflow_y": null,
      "padding": null,
      "right": null,
      "top": null,
      "visibility": null,
      "width": null
     }
    },
    "81f59561b9eb4f1392070af2d329c830": {
     "model_module": "@jupyter-widgets/base",
     "model_module_version": "1.2.0",
     "model_name": "LayoutModel",
     "state": {
      "_model_module": "@jupyter-widgets/base",
      "_model_module_version": "1.2.0",
      "_model_name": "LayoutModel",
      "_view_count": null,
      "_view_module": "@jupyter-widgets/base",
      "_view_module_version": "1.2.0",
      "_view_name": "LayoutView",
      "align_content": null,
      "align_items": null,
      "align_self": null,
      "border": null,
      "bottom": null,
      "display": null,
      "flex": null,
      "flex_flow": null,
      "grid_area": null,
      "grid_auto_columns": null,
      "grid_auto_flow": null,
      "grid_auto_rows": null,
      "grid_column": null,
      "grid_gap": null,
      "grid_row": null,
      "grid_template_areas": null,
      "grid_template_columns": null,
      "grid_template_rows": null,
      "height": null,
      "justify_content": null,
      "justify_items": null,
      "left": null,
      "margin": null,
      "max_height": null,
      "max_width": null,
      "min_height": null,
      "min_width": null,
      "object_fit": null,
      "object_position": null,
      "order": null,
      "overflow": null,
      "overflow_x": null,
      "overflow_y": null,
      "padding": null,
      "right": null,
      "top": null,
      "visibility": null,
      "width": null
     }
    },
    "82263b2ae88e4659818acb2967ad1a6a": {
     "model_module": "@jupyter-widgets/controls",
     "model_module_version": "1.5.0",
     "model_name": "HBoxModel",
     "state": {
      "_dom_classes": [],
      "_model_module": "@jupyter-widgets/controls",
      "_model_module_version": "1.5.0",
      "_model_name": "HBoxModel",
      "_view_count": null,
      "_view_module": "@jupyter-widgets/controls",
      "_view_module_version": "1.5.0",
      "_view_name": "HBoxView",
      "box_style": "",
      "children": [
       "IPY_MODEL_4324ff44c8d04150a5a8c2677ad1c516",
       "IPY_MODEL_c3988d59cab1449eac01ee751e844f5f",
       "IPY_MODEL_cc3b5417dc5e41efa9252cc9db2e0de1"
      ],
      "layout": "IPY_MODEL_1a7a6030aa9242d6b433fde34bec1b99"
     }
    },
    "8232c0beb73641b395e26e1f29e58e31": {
     "model_module": "@jupyter-widgets/base",
     "model_module_version": "1.2.0",
     "model_name": "LayoutModel",
     "state": {
      "_model_module": "@jupyter-widgets/base",
      "_model_module_version": "1.2.0",
      "_model_name": "LayoutModel",
      "_view_count": null,
      "_view_module": "@jupyter-widgets/base",
      "_view_module_version": "1.2.0",
      "_view_name": "LayoutView",
      "align_content": null,
      "align_items": null,
      "align_self": null,
      "border": null,
      "bottom": null,
      "display": null,
      "flex": null,
      "flex_flow": null,
      "grid_area": null,
      "grid_auto_columns": null,
      "grid_auto_flow": null,
      "grid_auto_rows": null,
      "grid_column": null,
      "grid_gap": null,
      "grid_row": null,
      "grid_template_areas": null,
      "grid_template_columns": null,
      "grid_template_rows": null,
      "height": null,
      "justify_content": null,
      "justify_items": null,
      "left": null,
      "margin": null,
      "max_height": null,
      "max_width": null,
      "min_height": null,
      "min_width": null,
      "object_fit": null,
      "object_position": null,
      "order": null,
      "overflow": null,
      "overflow_x": null,
      "overflow_y": null,
      "padding": null,
      "right": null,
      "top": null,
      "visibility": null,
      "width": null
     }
    },
    "86bf1cc4ddfa461fa771945b703ce70c": {
     "model_module": "@jupyter-widgets/controls",
     "model_module_version": "1.5.0",
     "model_name": "FloatProgressModel",
     "state": {
      "_dom_classes": [],
      "_model_module": "@jupyter-widgets/controls",
      "_model_module_version": "1.5.0",
      "_model_name": "FloatProgressModel",
      "_view_count": null,
      "_view_module": "@jupyter-widgets/controls",
      "_view_module_version": "1.5.0",
      "_view_name": "ProgressView",
      "bar_style": "success",
      "description": "",
      "description_tooltip": null,
      "layout": "IPY_MODEL_ed431f42232640b2baba114cc7d69dcc",
      "max": 2195,
      "min": 0,
      "orientation": "horizontal",
      "style": "IPY_MODEL_fd9ddf3e7224449d94fdf52b8e816e0a",
      "value": 2195
     }
    },
    "88971c9e5e974ffabcbff53abde35913": {
     "model_module": "@jupyter-widgets/controls",
     "model_module_version": "1.5.0",
     "model_name": "FloatProgressModel",
     "state": {
      "_dom_classes": [],
      "_model_module": "@jupyter-widgets/controls",
      "_model_module_version": "1.5.0",
      "_model_name": "FloatProgressModel",
      "_view_count": null,
      "_view_module": "@jupyter-widgets/controls",
      "_view_module_version": "1.5.0",
      "_view_name": "ProgressView",
      "bar_style": "success",
      "description": "",
      "description_tooltip": null,
      "layout": "IPY_MODEL_81f59561b9eb4f1392070af2d329c830",
      "max": 1883785969,
      "min": 0,
      "orientation": "horizontal",
      "style": "IPY_MODEL_b03dfa20ddd94449b3cecd8a2a016b05",
      "value": 1883785969
     }
    },
    "8b95329afac644ce8b1280de59c8fbfc": {
     "model_module": "@jupyter-widgets/controls",
     "model_module_version": "1.5.0",
     "model_name": "HTMLModel",
     "state": {
      "_dom_classes": [],
      "_model_module": "@jupyter-widgets/controls",
      "_model_module_version": "1.5.0",
      "_model_name": "HTMLModel",
      "_view_count": null,
      "_view_module": "@jupyter-widgets/controls",
      "_view_module_version": "1.5.0",
      "_view_name": "HTMLView",
      "description": "",
      "description_tooltip": null,
      "layout": "IPY_MODEL_eff493e5f1ee4bb68b5421e275e60880",
      "placeholder": "​",
      "style": "IPY_MODEL_f6470293e1034117898272903bb96973",
      "value": "pytorch_model.bin: 100%"
     }
    },
    "8c3910885ee2446eb06efc817b81c086": {
     "model_module": "@jupyter-widgets/base",
     "model_module_version": "1.2.0",
     "model_name": "LayoutModel",
     "state": {
      "_model_module": "@jupyter-widgets/base",
      "_model_module_version": "1.2.0",
      "_model_name": "LayoutModel",
      "_view_count": null,
      "_view_module": "@jupyter-widgets/base",
      "_view_module_version": "1.2.0",
      "_view_name": "LayoutView",
      "align_content": null,
      "align_items": null,
      "align_self": null,
      "border": null,
      "bottom": null,
      "display": null,
      "flex": null,
      "flex_flow": null,
      "grid_area": null,
      "grid_auto_columns": null,
      "grid_auto_flow": null,
      "grid_auto_rows": null,
      "grid_column": null,
      "grid_gap": null,
      "grid_row": null,
      "grid_template_areas": null,
      "grid_template_columns": null,
      "grid_template_rows": null,
      "height": null,
      "justify_content": null,
      "justify_items": null,
      "left": null,
      "margin": null,
      "max_height": null,
      "max_width": null,
      "min_height": null,
      "min_width": null,
      "object_fit": null,
      "object_position": null,
      "order": null,
      "overflow": null,
      "overflow_x": null,
      "overflow_y": null,
      "padding": null,
      "right": null,
      "top": null,
      "visibility": null,
      "width": null
     }
    },
    "8ca8f03576904e039f26bd76d0170704": {
     "model_module": "@jupyter-widgets/base",
     "model_module_version": "1.2.0",
     "model_name": "LayoutModel",
     "state": {
      "_model_module": "@jupyter-widgets/base",
      "_model_module_version": "1.2.0",
      "_model_name": "LayoutModel",
      "_view_count": null,
      "_view_module": "@jupyter-widgets/base",
      "_view_module_version": "1.2.0",
      "_view_name": "LayoutView",
      "align_content": null,
      "align_items": null,
      "align_self": null,
      "border": null,
      "bottom": null,
      "display": null,
      "flex": null,
      "flex_flow": null,
      "grid_area": null,
      "grid_auto_columns": null,
      "grid_auto_flow": null,
      "grid_auto_rows": null,
      "grid_column": null,
      "grid_gap": null,
      "grid_row": null,
      "grid_template_areas": null,
      "grid_template_columns": null,
      "grid_template_rows": null,
      "height": null,
      "justify_content": null,
      "justify_items": null,
      "left": null,
      "margin": null,
      "max_height": null,
      "max_width": null,
      "min_height": null,
      "min_width": null,
      "object_fit": null,
      "object_position": null,
      "order": null,
      "overflow": null,
      "overflow_x": null,
      "overflow_y": null,
      "padding": null,
      "right": null,
      "top": null,
      "visibility": null,
      "width": null
     }
    },
    "8d91c662cc3142219dd68c361cae3af7": {
     "model_module": "@jupyter-widgets/controls",
     "model_module_version": "1.5.0",
     "model_name": "ProgressStyleModel",
     "state": {
      "_model_module": "@jupyter-widgets/controls",
      "_model_module_version": "1.5.0",
      "_model_name": "ProgressStyleModel",
      "_view_count": null,
      "_view_module": "@jupyter-widgets/base",
      "_view_module_version": "1.2.0",
      "_view_name": "StyleView",
      "bar_color": null,
      "description_width": ""
     }
    },
    "8e07c2f993234f00b82f127b534f9aa0": {
     "model_module": "@jupyter-widgets/controls",
     "model_module_version": "1.5.0",
     "model_name": "FloatProgressModel",
     "state": {
      "_dom_classes": [],
      "_model_module": "@jupyter-widgets/controls",
      "_model_module_version": "1.5.0",
      "_model_name": "FloatProgressModel",
      "_view_count": null,
      "_view_module": "@jupyter-widgets/controls",
      "_view_module_version": "1.5.0",
      "_view_name": "ProgressView",
      "bar_style": "success",
      "description": "",
      "description_tooltip": null,
      "layout": "IPY_MODEL_77684e472b9648859ac91e73994b1827",
      "max": 114,
      "min": 0,
      "orientation": "horizontal",
      "style": "IPY_MODEL_d343102281554184af95f5a9998b04f5",
      "value": 114
     }
    },
    "8f3e9795aa4c4667aca7abd70ed54af5": {
     "model_module": "@jupyter-widgets/controls",
     "model_module_version": "1.5.0",
     "model_name": "DescriptionStyleModel",
     "state": {
      "_model_module": "@jupyter-widgets/controls",
      "_model_module_version": "1.5.0",
      "_model_name": "DescriptionStyleModel",
      "_view_count": null,
      "_view_module": "@jupyter-widgets/base",
      "_view_module_version": "1.2.0",
      "_view_name": "StyleView",
      "description_width": ""
     }
    },
    "8f446c2ff6b84ced828ebd82a42d5e10": {
     "model_module": "@jupyter-widgets/controls",
     "model_module_version": "1.5.0",
     "model_name": "ProgressStyleModel",
     "state": {
      "_model_module": "@jupyter-widgets/controls",
      "_model_module_version": "1.5.0",
      "_model_name": "ProgressStyleModel",
      "_view_count": null,
      "_view_module": "@jupyter-widgets/base",
      "_view_module_version": "1.2.0",
      "_view_name": "StyleView",
      "bar_color": null,
      "description_width": ""
     }
    },
    "901c4cd2966841838413a20f05393ead": {
     "model_module": "@jupyter-widgets/base",
     "model_module_version": "1.2.0",
     "model_name": "LayoutModel",
     "state": {
      "_model_module": "@jupyter-widgets/base",
      "_model_module_version": "1.2.0",
      "_model_name": "LayoutModel",
      "_view_count": null,
      "_view_module": "@jupyter-widgets/base",
      "_view_module_version": "1.2.0",
      "_view_name": "LayoutView",
      "align_content": null,
      "align_items": null,
      "align_self": null,
      "border": null,
      "bottom": null,
      "display": null,
      "flex": null,
      "flex_flow": null,
      "grid_area": null,
      "grid_auto_columns": null,
      "grid_auto_flow": null,
      "grid_auto_rows": null,
      "grid_column": null,
      "grid_gap": null,
      "grid_row": null,
      "grid_template_areas": null,
      "grid_template_columns": null,
      "grid_template_rows": null,
      "height": null,
      "justify_content": null,
      "justify_items": null,
      "left": null,
      "margin": null,
      "max_height": null,
      "max_width": null,
      "min_height": null,
      "min_width": null,
      "object_fit": null,
      "object_position": null,
      "order": null,
      "overflow": null,
      "overflow_x": null,
      "overflow_y": null,
      "padding": null,
      "right": null,
      "top": null,
      "visibility": null,
      "width": null
     }
    },
    "90e0dcaf2d4b4a419f5045d3d8c1d9f1": {
     "model_module": "@jupyter-widgets/base",
     "model_module_version": "1.2.0",
     "model_name": "LayoutModel",
     "state": {
      "_model_module": "@jupyter-widgets/base",
      "_model_module_version": "1.2.0",
      "_model_name": "LayoutModel",
      "_view_count": null,
      "_view_module": "@jupyter-widgets/base",
      "_view_module_version": "1.2.0",
      "_view_name": "LayoutView",
      "align_content": null,
      "align_items": null,
      "align_self": null,
      "border": null,
      "bottom": null,
      "display": null,
      "flex": null,
      "flex_flow": null,
      "grid_area": null,
      "grid_auto_columns": null,
      "grid_auto_flow": null,
      "grid_auto_rows": null,
      "grid_column": null,
      "grid_gap": null,
      "grid_row": null,
      "grid_template_areas": null,
      "grid_template_columns": null,
      "grid_template_rows": null,
      "height": null,
      "justify_content": null,
      "justify_items": null,
      "left": null,
      "margin": null,
      "max_height": null,
      "max_width": null,
      "min_height": null,
      "min_width": null,
      "object_fit": null,
      "object_position": null,
      "order": null,
      "overflow": null,
      "overflow_x": null,
      "overflow_y": null,
      "padding": null,
      "right": null,
      "top": null,
      "visibility": null,
      "width": null
     }
    },
    "91d26b3daca34be1b04e11ebd406a9c6": {
     "model_module": "@jupyter-widgets/base",
     "model_module_version": "1.2.0",
     "model_name": "LayoutModel",
     "state": {
      "_model_module": "@jupyter-widgets/base",
      "_model_module_version": "1.2.0",
      "_model_name": "LayoutModel",
      "_view_count": null,
      "_view_module": "@jupyter-widgets/base",
      "_view_module_version": "1.2.0",
      "_view_name": "LayoutView",
      "align_content": null,
      "align_items": null,
      "align_self": null,
      "border": null,
      "bottom": null,
      "display": null,
      "flex": null,
      "flex_flow": null,
      "grid_area": null,
      "grid_auto_columns": null,
      "grid_auto_flow": null,
      "grid_auto_rows": null,
      "grid_column": null,
      "grid_gap": null,
      "grid_row": null,
      "grid_template_areas": null,
      "grid_template_columns": null,
      "grid_template_rows": null,
      "height": null,
      "justify_content": null,
      "justify_items": null,
      "left": null,
      "margin": null,
      "max_height": null,
      "max_width": null,
      "min_height": null,
      "min_width": null,
      "object_fit": null,
      "object_position": null,
      "order": null,
      "overflow": null,
      "overflow_x": null,
      "overflow_y": null,
      "padding": null,
      "right": null,
      "top": null,
      "visibility": null,
      "width": null
     }
    },
    "92314e08530541dda20f44f97a68cf86": {
     "model_module": "@jupyter-widgets/base",
     "model_module_version": "1.2.0",
     "model_name": "LayoutModel",
     "state": {
      "_model_module": "@jupyter-widgets/base",
      "_model_module_version": "1.2.0",
      "_model_name": "LayoutModel",
      "_view_count": null,
      "_view_module": "@jupyter-widgets/base",
      "_view_module_version": "1.2.0",
      "_view_name": "LayoutView",
      "align_content": null,
      "align_items": null,
      "align_self": null,
      "border": null,
      "bottom": null,
      "display": null,
      "flex": null,
      "flex_flow": null,
      "grid_area": null,
      "grid_auto_columns": null,
      "grid_auto_flow": null,
      "grid_auto_rows": null,
      "grid_column": null,
      "grid_gap": null,
      "grid_row": null,
      "grid_template_areas": null,
      "grid_template_columns": null,
      "grid_template_rows": null,
      "height": null,
      "justify_content": null,
      "justify_items": null,
      "left": null,
      "margin": null,
      "max_height": null,
      "max_width": null,
      "min_height": null,
      "min_width": null,
      "object_fit": null,
      "object_position": null,
      "order": null,
      "overflow": null,
      "overflow_x": null,
      "overflow_y": null,
      "padding": null,
      "right": null,
      "top": null,
      "visibility": null,
      "width": null
     }
    },
    "927f518c1b484ddbb6c96968ea266e2d": {
     "model_module": "@jupyter-widgets/controls",
     "model_module_version": "1.5.0",
     "model_name": "HBoxModel",
     "state": {
      "_dom_classes": [],
      "_model_module": "@jupyter-widgets/controls",
      "_model_module_version": "1.5.0",
      "_model_name": "HBoxModel",
      "_view_count": null,
      "_view_module": "@jupyter-widgets/controls",
      "_view_module_version": "1.5.0",
      "_view_name": "HBoxView",
      "box_style": "",
      "children": [
       "IPY_MODEL_943a3806e0184cf5b731e0cfe867a8f8",
       "IPY_MODEL_88971c9e5e974ffabcbff53abde35913",
       "IPY_MODEL_72d408e0373b477cb152c559d32ddd41"
      ],
      "layout": "IPY_MODEL_7f78d4c6ad9946578f516e67f8f8bf46"
     }
    },
    "92b9866bc5b344fb990c3aabb590702b": {
     "model_module": "@jupyter-widgets/base",
     "model_module_version": "1.2.0",
     "model_name": "LayoutModel",
     "state": {
      "_model_module": "@jupyter-widgets/base",
      "_model_module_version": "1.2.0",
      "_model_name": "LayoutModel",
      "_view_count": null,
      "_view_module": "@jupyter-widgets/base",
      "_view_module_version": "1.2.0",
      "_view_name": "LayoutView",
      "align_content": null,
      "align_items": null,
      "align_self": null,
      "border": null,
      "bottom": null,
      "display": null,
      "flex": null,
      "flex_flow": null,
      "grid_area": null,
      "grid_auto_columns": null,
      "grid_auto_flow": null,
      "grid_auto_rows": null,
      "grid_column": null,
      "grid_gap": null,
      "grid_row": null,
      "grid_template_areas": null,
      "grid_template_columns": null,
      "grid_template_rows": null,
      "height": null,
      "justify_content": null,
      "justify_items": null,
      "left": null,
      "margin": null,
      "max_height": null,
      "max_width": null,
      "min_height": null,
      "min_width": null,
      "object_fit": null,
      "object_position": null,
      "order": null,
      "overflow": null,
      "overflow_x": null,
      "overflow_y": null,
      "padding": null,
      "right": null,
      "top": null,
      "visibility": null,
      "width": null
     }
    },
    "943a3806e0184cf5b731e0cfe867a8f8": {
     "model_module": "@jupyter-widgets/controls",
     "model_module_version": "1.5.0",
     "model_name": "HTMLModel",
     "state": {
      "_dom_classes": [],
      "_model_module": "@jupyter-widgets/controls",
      "_model_module_version": "1.5.0",
      "_model_name": "HTMLModel",
      "_view_count": null,
      "_view_module": "@jupyter-widgets/controls",
      "_view_module_version": "1.5.0",
      "_view_name": "HTMLView",
      "description": "",
      "description_tooltip": null,
      "layout": "IPY_MODEL_f4413422c9ca41b78be49223cde15a1b",
      "placeholder": "​",
      "style": "IPY_MODEL_19d8f29806b6484797eeceba60e74ba9",
      "value": "pytorch_model.bin: 100%"
     }
    },
    "97dc5f4c98d744f2861797a9b5257468": {
     "model_module": "@jupyter-widgets/controls",
     "model_module_version": "1.5.0",
     "model_name": "DescriptionStyleModel",
     "state": {
      "_model_module": "@jupyter-widgets/controls",
      "_model_module_version": "1.5.0",
      "_model_name": "DescriptionStyleModel",
      "_view_count": null,
      "_view_module": "@jupyter-widgets/base",
      "_view_module_version": "1.2.0",
      "_view_name": "StyleView",
      "description_width": ""
     }
    },
    "98334a3fb46b4197b9d915191f1a3d90": {
     "model_module": "@jupyter-widgets/controls",
     "model_module_version": "1.5.0",
     "model_name": "DescriptionStyleModel",
     "state": {
      "_model_module": "@jupyter-widgets/controls",
      "_model_module_version": "1.5.0",
      "_model_name": "DescriptionStyleModel",
      "_view_count": null,
      "_view_module": "@jupyter-widgets/base",
      "_view_module_version": "1.2.0",
      "_view_name": "StyleView",
      "description_width": ""
     }
    },
    "99b1ef01fcbd4a5683b4a4b0d672b7d4": {
     "model_module": "@jupyter-widgets/controls",
     "model_module_version": "1.5.0",
     "model_name": "DescriptionStyleModel",
     "state": {
      "_model_module": "@jupyter-widgets/controls",
      "_model_module_version": "1.5.0",
      "_model_name": "DescriptionStyleModel",
      "_view_count": null,
      "_view_module": "@jupyter-widgets/base",
      "_view_module_version": "1.2.0",
      "_view_name": "StyleView",
      "description_width": ""
     }
    },
    "9ba9e824fb684c3997a525ed2d517222": {
     "model_module": "@jupyter-widgets/base",
     "model_module_version": "1.2.0",
     "model_name": "LayoutModel",
     "state": {
      "_model_module": "@jupyter-widgets/base",
      "_model_module_version": "1.2.0",
      "_model_name": "LayoutModel",
      "_view_count": null,
      "_view_module": "@jupyter-widgets/base",
      "_view_module_version": "1.2.0",
      "_view_name": "LayoutView",
      "align_content": null,
      "align_items": null,
      "align_self": null,
      "border": null,
      "bottom": null,
      "display": null,
      "flex": null,
      "flex_flow": null,
      "grid_area": null,
      "grid_auto_columns": null,
      "grid_auto_flow": null,
      "grid_auto_rows": null,
      "grid_column": null,
      "grid_gap": null,
      "grid_row": null,
      "grid_template_areas": null,
      "grid_template_columns": null,
      "grid_template_rows": null,
      "height": null,
      "justify_content": null,
      "justify_items": null,
      "left": null,
      "margin": null,
      "max_height": null,
      "max_width": null,
      "min_height": null,
      "min_width": null,
      "object_fit": null,
      "object_position": null,
      "order": null,
      "overflow": null,
      "overflow_x": null,
      "overflow_y": null,
      "padding": null,
      "right": null,
      "top": null,
      "visibility": null,
      "width": null
     }
    },
    "9cdab39c9bed446799e8b3387030156a": {
     "model_module": "@jupyter-widgets/controls",
     "model_module_version": "1.5.0",
     "model_name": "HTMLModel",
     "state": {
      "_dom_classes": [],
      "_model_module": "@jupyter-widgets/controls",
      "_model_module_version": "1.5.0",
      "_model_name": "HTMLModel",
      "_view_count": null,
      "_view_module": "@jupyter-widgets/controls",
      "_view_module_version": "1.5.0",
      "_view_name": "HTMLView",
      "description": "",
      "description_tooltip": null,
      "layout": "IPY_MODEL_e8bf759403ba42ce893011fd67a1e115",
      "placeholder": "​",
      "style": "IPY_MODEL_c8496a7965034bd2956541a99ea56515",
      "value": " 53.0/53.0 [00:00&lt;00:00, 1.87kB/s]"
     }
    },
    "9ff275732c0f43f38b62deceb78cffdd": {
     "model_module": "@jupyter-widgets/controls",
     "model_module_version": "1.5.0",
     "model_name": "HTMLModel",
     "state": {
      "_dom_classes": [],
      "_model_module": "@jupyter-widgets/controls",
      "_model_module_version": "1.5.0",
      "_model_name": "HTMLModel",
      "_view_count": null,
      "_view_module": "@jupyter-widgets/controls",
      "_view_module_version": "1.5.0",
      "_view_name": "HTMLView",
      "description": "",
      "description_tooltip": null,
      "layout": "IPY_MODEL_ecc9e1096c474f0682e844aa1d98c805",
      "placeholder": "​",
      "style": "IPY_MODEL_8f3e9795aa4c4667aca7abd70ed54af5",
      "value": "(…)6051dd/config_sentence_transformers.json: 100%"
     }
    },
    "a26ff67a75d24a5d996e4104937fd7e6": {
     "model_module": "@jupyter-widgets/base",
     "model_module_version": "1.2.0",
     "model_name": "LayoutModel",
     "state": {
      "_model_module": "@jupyter-widgets/base",
      "_model_module_version": "1.2.0",
      "_model_name": "LayoutModel",
      "_view_count": null,
      "_view_module": "@jupyter-widgets/base",
      "_view_module_version": "1.2.0",
      "_view_name": "LayoutView",
      "align_content": null,
      "align_items": null,
      "align_self": null,
      "border": null,
      "bottom": null,
      "display": null,
      "flex": null,
      "flex_flow": null,
      "grid_area": null,
      "grid_auto_columns": null,
      "grid_auto_flow": null,
      "grid_auto_rows": null,
      "grid_column": null,
      "grid_gap": null,
      "grid_row": null,
      "grid_template_areas": null,
      "grid_template_columns": null,
      "grid_template_rows": null,
      "height": null,
      "justify_content": null,
      "justify_items": null,
      "left": null,
      "margin": null,
      "max_height": null,
      "max_width": null,
      "min_height": null,
      "min_width": null,
      "object_fit": null,
      "object_position": null,
      "order": null,
      "overflow": null,
      "overflow_x": null,
      "overflow_y": null,
      "padding": null,
      "right": null,
      "top": null,
      "visibility": null,
      "width": null
     }
    },
    "a341c710eb144e42bb780d7dd5bd4105": {
     "model_module": "@jupyter-widgets/controls",
     "model_module_version": "1.5.0",
     "model_name": "FloatProgressModel",
     "state": {
      "_dom_classes": [],
      "_model_module": "@jupyter-widgets/controls",
      "_model_module_version": "1.5.0",
      "_model_name": "FloatProgressModel",
      "_view_count": null,
      "_view_module": "@jupyter-widgets/controls",
      "_view_module_version": "1.5.0",
      "_view_name": "ProgressView",
      "bar_style": "success",
      "description": "",
      "description_tooltip": null,
      "layout": "IPY_MODEL_f156faa388854592ae18a5459e683966",
      "max": 5220781,
      "min": 0,
      "orientation": "horizontal",
      "style": "IPY_MODEL_69df4140e3c740c48902155163761b24",
      "value": 5220781
     }
    },
    "a5c1633f66e84d838ee573c595e5f282": {
     "model_module": "@jupyter-widgets/base",
     "model_module_version": "1.2.0",
     "model_name": "LayoutModel",
     "state": {
      "_model_module": "@jupyter-widgets/base",
      "_model_module_version": "1.2.0",
      "_model_name": "LayoutModel",
      "_view_count": null,
      "_view_module": "@jupyter-widgets/base",
      "_view_module_version": "1.2.0",
      "_view_name": "LayoutView",
      "align_content": null,
      "align_items": null,
      "align_self": null,
      "border": null,
      "bottom": null,
      "display": null,
      "flex": null,
      "flex_flow": null,
      "grid_area": null,
      "grid_auto_columns": null,
      "grid_auto_flow": null,
      "grid_auto_rows": null,
      "grid_column": null,
      "grid_gap": null,
      "grid_row": null,
      "grid_template_areas": null,
      "grid_template_columns": null,
      "grid_template_rows": null,
      "height": null,
      "justify_content": null,
      "justify_items": null,
      "left": null,
      "margin": null,
      "max_height": null,
      "max_width": null,
      "min_height": null,
      "min_width": null,
      "object_fit": null,
      "object_position": null,
      "order": null,
      "overflow": null,
      "overflow_x": null,
      "overflow_y": null,
      "padding": null,
      "right": null,
      "top": null,
      "visibility": null,
      "width": null
     }
    },
    "a66c0f0b05fb45529afcbc3ae7bba41d": {
     "model_module": "@jupyter-widgets/controls",
     "model_module_version": "1.5.0",
     "model_name": "HTMLModel",
     "state": {
      "_dom_classes": [],
      "_model_module": "@jupyter-widgets/controls",
      "_model_module_version": "1.5.0",
      "_model_name": "HTMLModel",
      "_view_count": null,
      "_view_module": "@jupyter-widgets/controls",
      "_view_module_version": "1.5.0",
      "_view_name": "HTMLView",
      "description": "",
      "description_tooltip": null,
      "layout": "IPY_MODEL_9ba9e824fb684c3997a525ed2d517222",
      "placeholder": "​",
      "style": "IPY_MODEL_4340dd88d1524015bd490bc16cf35bb2",
      "value": "(…)328db482fd5076498a46051dd/.gitattributes: 100%"
     }
    },
    "a7d6de66bb984a12923be4e1d8b4af21": {
     "model_module": "@jupyter-widgets/controls",
     "model_module_version": "1.5.0",
     "model_name": "FloatProgressModel",
     "state": {
      "_dom_classes": [],
      "_model_module": "@jupyter-widgets/controls",
      "_model_module_version": "1.5.0",
      "_model_name": "FloatProgressModel",
      "_view_count": null,
      "_view_module": "@jupyter-widgets/controls",
      "_view_module_version": "1.5.0",
      "_view_name": "ProgressView",
      "bar_style": "success",
      "description": "",
      "description_tooltip": null,
      "layout": "IPY_MODEL_f0315237d43545959d350d879f0e8c50",
      "max": 112,
      "min": 0,
      "orientation": "horizontal",
      "style": "IPY_MODEL_5e4d5b9175b7469d8492cd0c13e6a1a4",
      "value": 112
     }
    },
    "aac3eeaa35164b89b9ce7fa6b995c804": {
     "model_module": "@jupyter-widgets/base",
     "model_module_version": "1.2.0",
     "model_name": "LayoutModel",
     "state": {
      "_model_module": "@jupyter-widgets/base",
      "_model_module_version": "1.2.0",
      "_model_name": "LayoutModel",
      "_view_count": null,
      "_view_module": "@jupyter-widgets/base",
      "_view_module_version": "1.2.0",
      "_view_name": "LayoutView",
      "align_content": null,
      "align_items": null,
      "align_self": null,
      "border": null,
      "bottom": null,
      "display": null,
      "flex": null,
      "flex_flow": null,
      "grid_area": null,
      "grid_auto_columns": null,
      "grid_auto_flow": null,
      "grid_auto_rows": null,
      "grid_column": null,
      "grid_gap": null,
      "grid_row": null,
      "grid_template_areas": null,
      "grid_template_columns": null,
      "grid_template_rows": null,
      "height": null,
      "justify_content": null,
      "justify_items": null,
      "left": null,
      "margin": null,
      "max_height": null,
      "max_width": null,
      "min_height": null,
      "min_width": null,
      "object_fit": null,
      "object_position": null,
      "order": null,
      "overflow": null,
      "overflow_x": null,
      "overflow_y": null,
      "padding": null,
      "right": null,
      "top": null,
      "visibility": null,
      "width": null
     }
    },
    "acdd5e40c6df4f2384f6d6337db18594": {
     "model_module": "@jupyter-widgets/base",
     "model_module_version": "1.2.0",
     "model_name": "LayoutModel",
     "state": {
      "_model_module": "@jupyter-widgets/base",
      "_model_module_version": "1.2.0",
      "_model_name": "LayoutModel",
      "_view_count": null,
      "_view_module": "@jupyter-widgets/base",
      "_view_module_version": "1.2.0",
      "_view_name": "LayoutView",
      "align_content": null,
      "align_items": null,
      "align_self": null,
      "border": null,
      "bottom": null,
      "display": null,
      "flex": null,
      "flex_flow": null,
      "grid_area": null,
      "grid_auto_columns": null,
      "grid_auto_flow": null,
      "grid_auto_rows": null,
      "grid_column": null,
      "grid_gap": null,
      "grid_row": null,
      "grid_template_areas": null,
      "grid_template_columns": null,
      "grid_template_rows": null,
      "height": null,
      "justify_content": null,
      "justify_items": null,
      "left": null,
      "margin": null,
      "max_height": null,
      "max_width": null,
      "min_height": null,
      "min_width": null,
      "object_fit": null,
      "object_position": null,
      "order": null,
      "overflow": null,
      "overflow_x": null,
      "overflow_y": null,
      "padding": null,
      "right": null,
      "top": null,
      "visibility": null,
      "width": null
     }
    },
    "ae767f2ec1304fbc994f619fcddce3b8": {
     "model_module": "@jupyter-widgets/controls",
     "model_module_version": "1.5.0",
     "model_name": "HTMLModel",
     "state": {
      "_dom_classes": [],
      "_model_module": "@jupyter-widgets/controls",
      "_model_module_version": "1.5.0",
      "_model_name": "HTMLModel",
      "_view_count": null,
      "_view_module": "@jupyter-widgets/controls",
      "_view_module_version": "1.5.0",
      "_view_name": "HTMLView",
      "description": "",
      "description_tooltip": null,
      "layout": "IPY_MODEL_7e317b15805541ce89ea4242b1003511",
      "placeholder": "​",
      "style": "IPY_MODEL_76460fa5ffc04722ac51884cbc5eea2d",
      "value": " 2.36M/2.36M [00:00&lt;00:00, 17.2MB/s]"
     }
    },
    "ae9c1b9c476c4e9a84b9c7ce7bcf8b3b": {
     "model_module": "@jupyter-widgets/base",
     "model_module_version": "1.2.0",
     "model_name": "LayoutModel",
     "state": {
      "_model_module": "@jupyter-widgets/base",
      "_model_module_version": "1.2.0",
      "_model_name": "LayoutModel",
      "_view_count": null,
      "_view_module": "@jupyter-widgets/base",
      "_view_module_version": "1.2.0",
      "_view_name": "LayoutView",
      "align_content": null,
      "align_items": null,
      "align_self": null,
      "border": null,
      "bottom": null,
      "display": null,
      "flex": null,
      "flex_flow": null,
      "grid_area": null,
      "grid_auto_columns": null,
      "grid_auto_flow": null,
      "grid_auto_rows": null,
      "grid_column": null,
      "grid_gap": null,
      "grid_row": null,
      "grid_template_areas": null,
      "grid_template_columns": null,
      "grid_template_rows": null,
      "height": null,
      "justify_content": null,
      "justify_items": null,
      "left": null,
      "margin": null,
      "max_height": null,
      "max_width": null,
      "min_height": null,
      "min_width": null,
      "object_fit": null,
      "object_position": null,
      "order": null,
      "overflow": null,
      "overflow_x": null,
      "overflow_y": null,
      "padding": null,
      "right": null,
      "top": null,
      "visibility": null,
      "width": null
     }
    },
    "b03dfa20ddd94449b3cecd8a2a016b05": {
     "model_module": "@jupyter-widgets/controls",
     "model_module_version": "1.5.0",
     "model_name": "ProgressStyleModel",
     "state": {
      "_model_module": "@jupyter-widgets/controls",
      "_model_module_version": "1.5.0",
      "_model_name": "ProgressStyleModel",
      "_view_count": null,
      "_view_module": "@jupyter-widgets/base",
      "_view_module_version": "1.2.0",
      "_view_name": "StyleView",
      "bar_color": null,
      "description_width": ""
     }
    },
    "b22c283a360f409fbd00f3ddf5b76303": {
     "model_module": "@jupyter-widgets/controls",
     "model_module_version": "1.5.0",
     "model_name": "DescriptionStyleModel",
     "state": {
      "_model_module": "@jupyter-widgets/controls",
      "_model_module_version": "1.5.0",
      "_model_name": "DescriptionStyleModel",
      "_view_count": null,
      "_view_module": "@jupyter-widgets/base",
      "_view_module_version": "1.2.0",
      "_view_name": "StyleView",
      "description_width": ""
     }
    },
    "b3d343b7221543a3bba77150e4ab257b": {
     "model_module": "@jupyter-widgets/controls",
     "model_module_version": "1.5.0",
     "model_name": "DescriptionStyleModel",
     "state": {
      "_model_module": "@jupyter-widgets/controls",
      "_model_module_version": "1.5.0",
      "_model_name": "DescriptionStyleModel",
      "_view_count": null,
      "_view_module": "@jupyter-widgets/base",
      "_view_module_version": "1.2.0",
      "_view_name": "StyleView",
      "description_width": ""
     }
    },
    "b7992b1910b544dcb8a248de4a5e3970": {
     "model_module": "@jupyter-widgets/controls",
     "model_module_version": "1.5.0",
     "model_name": "HBoxModel",
     "state": {
      "_dom_classes": [],
      "_model_module": "@jupyter-widgets/controls",
      "_model_module_version": "1.5.0",
      "_model_name": "HBoxModel",
      "_view_count": null,
      "_view_module": "@jupyter-widgets/controls",
      "_view_module_version": "1.5.0",
      "_view_name": "HBoxView",
      "box_style": "",
      "children": [
       "IPY_MODEL_7ebf591f436943aa8bc76dc61258a515",
       "IPY_MODEL_058d0ad44dc1493fb6ee1199350994d7",
       "IPY_MODEL_66948fa0b4224b4bae6a4fd8e40fa59a"
      ],
      "layout": "IPY_MODEL_e2ce451faaeb4ded978d4b04775cd389"
     }
    },
    "b7d07f4ad15e4030a0a6da334bcc3ae6": {
     "model_module": "@jupyter-widgets/controls",
     "model_module_version": "1.5.0",
     "model_name": "HBoxModel",
     "state": {
      "_dom_classes": [],
      "_model_module": "@jupyter-widgets/controls",
      "_model_module_version": "1.5.0",
      "_model_name": "HBoxModel",
      "_view_count": null,
      "_view_module": "@jupyter-widgets/controls",
      "_view_module_version": "1.5.0",
      "_view_name": "HBoxView",
      "box_style": "",
      "children": [
       "IPY_MODEL_4cff44f03d3a414d8adb3a4304b3fd83",
       "IPY_MODEL_338fcc838b194eeea30a91b46c27569f",
       "IPY_MODEL_9cdab39c9bed446799e8b3387030156a"
      ],
      "layout": "IPY_MODEL_c9c35bb71648442cb99c5d5b6cd8dccb"
     }
    },
    "b7e2a2d483e946a5bdc1dc454aa3ba17": {
     "model_module": "@jupyter-widgets/controls",
     "model_module_version": "1.5.0",
     "model_name": "FloatProgressModel",
     "state": {
      "_dom_classes": [],
      "_model_module": "@jupyter-widgets/controls",
      "_model_module_version": "1.5.0",
      "_model_name": "FloatProgressModel",
      "_view_count": null,
      "_view_module": "@jupyter-widgets/controls",
      "_view_module_version": "1.5.0",
      "_view_name": "ProgressView",
      "bar_style": "success",
      "description": "",
      "description_tooltip": null,
      "layout": "IPY_MODEL_3b7fba78c56c48688eb8ae9897520f1d",
      "max": 391,
      "min": 0,
      "orientation": "horizontal",
      "style": "IPY_MODEL_f2d03949619e45a59fa7e467014470bf",
      "value": 391
     }
    },
    "b8f13f463dce41db819e2fabd2e0697d": {
     "model_module": "@jupyter-widgets/base",
     "model_module_version": "1.2.0",
     "model_name": "LayoutModel",
     "state": {
      "_model_module": "@jupyter-widgets/base",
      "_model_module_version": "1.2.0",
      "_model_name": "LayoutModel",
      "_view_count": null,
      "_view_module": "@jupyter-widgets/base",
      "_view_module_version": "1.2.0",
      "_view_name": "LayoutView",
      "align_content": null,
      "align_items": null,
      "align_self": null,
      "border": null,
      "bottom": null,
      "display": null,
      "flex": null,
      "flex_flow": null,
      "grid_area": null,
      "grid_auto_columns": null,
      "grid_auto_flow": null,
      "grid_auto_rows": null,
      "grid_column": null,
      "grid_gap": null,
      "grid_row": null,
      "grid_template_areas": null,
      "grid_template_columns": null,
      "grid_template_rows": null,
      "height": null,
      "justify_content": null,
      "justify_items": null,
      "left": null,
      "margin": null,
      "max_height": null,
      "max_width": null,
      "min_height": null,
      "min_width": null,
      "object_fit": null,
      "object_position": null,
      "order": null,
      "overflow": null,
      "overflow_x": null,
      "overflow_y": null,
      "padding": null,
      "right": null,
      "top": null,
      "visibility": null,
      "width": null
     }
    },
    "b976eb764d3e492fba78be5bbe64a276": {
     "model_module": "@jupyter-widgets/controls",
     "model_module_version": "1.5.0",
     "model_name": "FloatProgressModel",
     "state": {
      "_dom_classes": [],
      "_model_module": "@jupyter-widgets/controls",
      "_model_module_version": "1.5.0",
      "_model_name": "FloatProgressModel",
      "_view_count": null,
      "_view_module": "@jupyter-widgets/controls",
      "_view_module_version": "1.5.0",
      "_view_name": "ProgressView",
      "bar_style": "success",
      "description": "",
      "description_tooltip": null,
      "layout": "IPY_MODEL_acdd5e40c6df4f2384f6d6337db18594",
      "max": 110,
      "min": 0,
      "orientation": "horizontal",
      "style": "IPY_MODEL_2b3e8ca930854687aba998cccdbeddb7",
      "value": 110
     }
    },
    "bb636c0c266e42609d6834a633f5c630": {
     "model_module": "@jupyter-widgets/controls",
     "model_module_version": "1.5.0",
     "model_name": "DescriptionStyleModel",
     "state": {
      "_model_module": "@jupyter-widgets/controls",
      "_model_module_version": "1.5.0",
      "_model_name": "DescriptionStyleModel",
      "_view_count": null,
      "_view_module": "@jupyter-widgets/base",
      "_view_module_version": "1.2.0",
      "_view_name": "StyleView",
      "description_width": ""
     }
    },
    "bc479b102fb34b4790a0762bc1bc0156": {
     "model_module": "@jupyter-widgets/base",
     "model_module_version": "1.2.0",
     "model_name": "LayoutModel",
     "state": {
      "_model_module": "@jupyter-widgets/base",
      "_model_module_version": "1.2.0",
      "_model_name": "LayoutModel",
      "_view_count": null,
      "_view_module": "@jupyter-widgets/base",
      "_view_module_version": "1.2.0",
      "_view_name": "LayoutView",
      "align_content": null,
      "align_items": null,
      "align_self": null,
      "border": null,
      "bottom": null,
      "display": null,
      "flex": null,
      "flex_flow": null,
      "grid_area": null,
      "grid_auto_columns": null,
      "grid_auto_flow": null,
      "grid_auto_rows": null,
      "grid_column": null,
      "grid_gap": null,
      "grid_row": null,
      "grid_template_areas": null,
      "grid_template_columns": null,
      "grid_template_rows": null,
      "height": null,
      "justify_content": null,
      "justify_items": null,
      "left": null,
      "margin": null,
      "max_height": null,
      "max_width": null,
      "min_height": null,
      "min_width": null,
      "object_fit": null,
      "object_position": null,
      "order": null,
      "overflow": null,
      "overflow_x": null,
      "overflow_y": null,
      "padding": null,
      "right": null,
      "top": null,
      "visibility": null,
      "width": null
     }
    },
    "bd12cf1e23214f9eafa500eaa981cca7": {
     "model_module": "@jupyter-widgets/controls",
     "model_module_version": "1.5.0",
     "model_name": "DescriptionStyleModel",
     "state": {
      "_model_module": "@jupyter-widgets/controls",
      "_model_module_version": "1.5.0",
      "_model_name": "DescriptionStyleModel",
      "_view_count": null,
      "_view_module": "@jupyter-widgets/base",
      "_view_module_version": "1.2.0",
      "_view_name": "StyleView",
      "description_width": ""
     }
    },
    "c0e455ea3f1b463d8ffa128cf43b4613": {
     "model_module": "@jupyter-widgets/controls",
     "model_module_version": "1.5.0",
     "model_name": "DescriptionStyleModel",
     "state": {
      "_model_module": "@jupyter-widgets/controls",
      "_model_module_version": "1.5.0",
      "_model_name": "DescriptionStyleModel",
      "_view_count": null,
      "_view_module": "@jupyter-widgets/base",
      "_view_module_version": "1.2.0",
      "_view_name": "StyleView",
      "description_width": ""
     }
    },
    "c29a1c2b7bc44276af419c5b7868753c": {
     "model_module": "@jupyter-widgets/base",
     "model_module_version": "1.2.0",
     "model_name": "LayoutModel",
     "state": {
      "_model_module": "@jupyter-widgets/base",
      "_model_module_version": "1.2.0",
      "_model_name": "LayoutModel",
      "_view_count": null,
      "_view_module": "@jupyter-widgets/base",
      "_view_module_version": "1.2.0",
      "_view_name": "LayoutView",
      "align_content": null,
      "align_items": null,
      "align_self": null,
      "border": null,
      "bottom": null,
      "display": null,
      "flex": null,
      "flex_flow": null,
      "grid_area": null,
      "grid_auto_columns": null,
      "grid_auto_flow": null,
      "grid_auto_rows": null,
      "grid_column": null,
      "grid_gap": null,
      "grid_row": null,
      "grid_template_areas": null,
      "grid_template_columns": null,
      "grid_template_rows": null,
      "height": null,
      "justify_content": null,
      "justify_items": null,
      "left": null,
      "margin": null,
      "max_height": null,
      "max_width": null,
      "min_height": null,
      "min_width": null,
      "object_fit": null,
      "object_position": null,
      "order": null,
      "overflow": null,
      "overflow_x": null,
      "overflow_y": null,
      "padding": null,
      "right": null,
      "top": null,
      "visibility": null,
      "width": null
     }
    },
    "c3988d59cab1449eac01ee751e844f5f": {
     "model_module": "@jupyter-widgets/controls",
     "model_module_version": "1.5.0",
     "model_name": "FloatProgressModel",
     "state": {
      "_dom_classes": [],
      "_model_module": "@jupyter-widgets/controls",
      "_model_module_version": "1.5.0",
      "_model_name": "FloatProgressModel",
      "_view_count": null,
      "_view_module": "@jupyter-widgets/controls",
      "_view_module_version": "1.5.0",
      "_view_name": "ProgressView",
      "bar_style": "success",
      "description": "",
      "description_tooltip": null,
      "layout": "IPY_MODEL_27b0cc982f384bb88cd43c245ef7137c",
      "max": 804,
      "min": 0,
      "orientation": "horizontal",
      "style": "IPY_MODEL_3d56ef8e9bac4a6cbd36555f0a1a49e2",
      "value": 804
     }
    },
    "c627a685aa2a41a592ffa1c7537888ca": {
     "model_module": "@jupyter-widgets/base",
     "model_module_version": "1.2.0",
     "model_name": "LayoutModel",
     "state": {
      "_model_module": "@jupyter-widgets/base",
      "_model_module_version": "1.2.0",
      "_model_name": "LayoutModel",
      "_view_count": null,
      "_view_module": "@jupyter-widgets/base",
      "_view_module_version": "1.2.0",
      "_view_name": "LayoutView",
      "align_content": null,
      "align_items": null,
      "align_self": null,
      "border": null,
      "bottom": null,
      "display": null,
      "flex": null,
      "flex_flow": null,
      "grid_area": null,
      "grid_auto_columns": null,
      "grid_auto_flow": null,
      "grid_auto_rows": null,
      "grid_column": null,
      "grid_gap": null,
      "grid_row": null,
      "grid_template_areas": null,
      "grid_template_columns": null,
      "grid_template_rows": null,
      "height": null,
      "justify_content": null,
      "justify_items": null,
      "left": null,
      "margin": null,
      "max_height": null,
      "max_width": null,
      "min_height": null,
      "min_width": null,
      "object_fit": null,
      "object_position": null,
      "order": null,
      "overflow": null,
      "overflow_x": null,
      "overflow_y": null,
      "padding": null,
      "right": null,
      "top": null,
      "visibility": null,
      "width": null
     }
    },
    "c8496a7965034bd2956541a99ea56515": {
     "model_module": "@jupyter-widgets/controls",
     "model_module_version": "1.5.0",
     "model_name": "DescriptionStyleModel",
     "state": {
      "_model_module": "@jupyter-widgets/controls",
      "_model_module_version": "1.5.0",
      "_model_name": "DescriptionStyleModel",
      "_view_count": null,
      "_view_module": "@jupyter-widgets/base",
      "_view_module_version": "1.2.0",
      "_view_name": "StyleView",
      "description_width": ""
     }
    },
    "c861a4770b714e0a925e0306dcaf1688": {
     "model_module": "@jupyter-widgets/base",
     "model_module_version": "1.2.0",
     "model_name": "LayoutModel",
     "state": {
      "_model_module": "@jupyter-widgets/base",
      "_model_module_version": "1.2.0",
      "_model_name": "LayoutModel",
      "_view_count": null,
      "_view_module": "@jupyter-widgets/base",
      "_view_module_version": "1.2.0",
      "_view_name": "LayoutView",
      "align_content": null,
      "align_items": null,
      "align_self": null,
      "border": null,
      "bottom": null,
      "display": null,
      "flex": null,
      "flex_flow": null,
      "grid_area": null,
      "grid_auto_columns": null,
      "grid_auto_flow": null,
      "grid_auto_rows": null,
      "grid_column": null,
      "grid_gap": null,
      "grid_row": null,
      "grid_template_areas": null,
      "grid_template_columns": null,
      "grid_template_rows": null,
      "height": null,
      "justify_content": null,
      "justify_items": null,
      "left": null,
      "margin": null,
      "max_height": null,
      "max_width": null,
      "min_height": null,
      "min_width": null,
      "object_fit": null,
      "object_position": null,
      "order": null,
      "overflow": null,
      "overflow_x": null,
      "overflow_y": null,
      "padding": null,
      "right": null,
      "top": null,
      "visibility": null,
      "width": null
     }
    },
    "c9c35bb71648442cb99c5d5b6cd8dccb": {
     "model_module": "@jupyter-widgets/base",
     "model_module_version": "1.2.0",
     "model_name": "LayoutModel",
     "state": {
      "_model_module": "@jupyter-widgets/base",
      "_model_module_version": "1.2.0",
      "_model_name": "LayoutModel",
      "_view_count": null,
      "_view_module": "@jupyter-widgets/base",
      "_view_module_version": "1.2.0",
      "_view_name": "LayoutView",
      "align_content": null,
      "align_items": null,
      "align_self": null,
      "border": null,
      "bottom": null,
      "display": null,
      "flex": null,
      "flex_flow": null,
      "grid_area": null,
      "grid_auto_columns": null,
      "grid_auto_flow": null,
      "grid_auto_rows": null,
      "grid_column": null,
      "grid_gap": null,
      "grid_row": null,
      "grid_template_areas": null,
      "grid_template_columns": null,
      "grid_template_rows": null,
      "height": null,
      "justify_content": null,
      "justify_items": null,
      "left": null,
      "margin": null,
      "max_height": null,
      "max_width": null,
      "min_height": null,
      "min_width": null,
      "object_fit": null,
      "object_position": null,
      "order": null,
      "overflow": null,
      "overflow_x": null,
      "overflow_y": null,
      "padding": null,
      "right": null,
      "top": null,
      "visibility": null,
      "width": null
     }
    },
    "ca5f4bcd6bb643fda653cd234b912fb3": {
     "model_module": "@jupyter-widgets/controls",
     "model_module_version": "1.5.0",
     "model_name": "DescriptionStyleModel",
     "state": {
      "_model_module": "@jupyter-widgets/controls",
      "_model_module_version": "1.5.0",
      "_model_name": "DescriptionStyleModel",
      "_view_count": null,
      "_view_module": "@jupyter-widgets/base",
      "_view_module_version": "1.2.0",
      "_view_name": "StyleView",
      "description_width": ""
     }
    },
    "cc3b5417dc5e41efa9252cc9db2e0de1": {
     "model_module": "@jupyter-widgets/controls",
     "model_module_version": "1.5.0",
     "model_name": "HTMLModel",
     "state": {
      "_dom_classes": [],
      "_model_module": "@jupyter-widgets/controls",
      "_model_module_version": "1.5.0",
      "_model_name": "HTMLModel",
      "_view_count": null,
      "_view_module": "@jupyter-widgets/controls",
      "_view_module_version": "1.5.0",
      "_view_name": "HTMLView",
      "description": "",
      "description_tooltip": null,
      "layout": "IPY_MODEL_1854cd3ae3fd4e8f9b1a3b23ccbf64cf",
      "placeholder": "​",
      "style": "IPY_MODEL_bd12cf1e23214f9eafa500eaa981cca7",
      "value": " 804/804 [00:00&lt;00:00, 47.7kB/s]"
     }
    },
    "ccce54687e654611ac087eedde2e21f2": {
     "model_module": "@jupyter-widgets/controls",
     "model_module_version": "1.5.0",
     "model_name": "ProgressStyleModel",
     "state": {
      "_model_module": "@jupyter-widgets/controls",
      "_model_module_version": "1.5.0",
      "_model_name": "ProgressStyleModel",
      "_view_count": null,
      "_view_module": "@jupyter-widgets/base",
      "_view_module_version": "1.2.0",
      "_view_name": "StyleView",
      "bar_color": null,
      "description_width": ""
     }
    },
    "cd805013bf82403699287406fd9e62d6": {
     "model_module": "@jupyter-widgets/controls",
     "model_module_version": "1.5.0",
     "model_name": "DescriptionStyleModel",
     "state": {
      "_model_module": "@jupyter-widgets/controls",
      "_model_module_version": "1.5.0",
      "_model_name": "DescriptionStyleModel",
      "_view_count": null,
      "_view_module": "@jupyter-widgets/base",
      "_view_module_version": "1.2.0",
      "_view_name": "StyleView",
      "description_width": ""
     }
    },
    "d343102281554184af95f5a9998b04f5": {
     "model_module": "@jupyter-widgets/controls",
     "model_module_version": "1.5.0",
     "model_name": "ProgressStyleModel",
     "state": {
      "_model_module": "@jupyter-widgets/controls",
      "_model_module_version": "1.5.0",
      "_model_name": "ProgressStyleModel",
      "_view_count": null,
      "_view_module": "@jupyter-widgets/base",
      "_view_module_version": "1.2.0",
      "_view_name": "StyleView",
      "bar_color": null,
      "description_width": ""
     }
    },
    "dbc2a7cbc7c44fd48635f2c76d250b40": {
     "model_module": "@jupyter-widgets/base",
     "model_module_version": "1.2.0",
     "model_name": "LayoutModel",
     "state": {
      "_model_module": "@jupyter-widgets/base",
      "_model_module_version": "1.2.0",
      "_model_name": "LayoutModel",
      "_view_count": null,
      "_view_module": "@jupyter-widgets/base",
      "_view_module_version": "1.2.0",
      "_view_name": "LayoutView",
      "align_content": null,
      "align_items": null,
      "align_self": null,
      "border": null,
      "bottom": null,
      "display": null,
      "flex": null,
      "flex_flow": null,
      "grid_area": null,
      "grid_auto_columns": null,
      "grid_auto_flow": null,
      "grid_auto_rows": null,
      "grid_column": null,
      "grid_gap": null,
      "grid_row": null,
      "grid_template_areas": null,
      "grid_template_columns": null,
      "grid_template_rows": null,
      "height": null,
      "justify_content": null,
      "justify_items": null,
      "left": null,
      "margin": null,
      "max_height": null,
      "max_width": null,
      "min_height": null,
      "min_width": null,
      "object_fit": null,
      "object_position": null,
      "order": null,
      "overflow": null,
      "overflow_x": null,
      "overflow_y": null,
      "padding": null,
      "right": null,
      "top": null,
      "visibility": null,
      "width": null
     }
    },
    "deda229f1623400593f2333445f5698a": {
     "model_module": "@jupyter-widgets/controls",
     "model_module_version": "1.5.0",
     "model_name": "HBoxModel",
     "state": {
      "_dom_classes": [],
      "_model_module": "@jupyter-widgets/controls",
      "_model_module_version": "1.5.0",
      "_model_name": "HBoxModel",
      "_view_count": null,
      "_view_module": "@jupyter-widgets/controls",
      "_view_module_version": "1.5.0",
      "_view_name": "HBoxView",
      "box_style": "",
      "children": [
       "IPY_MODEL_a66c0f0b05fb45529afcbc3ae7bba41d",
       "IPY_MODEL_b7e2a2d483e946a5bdc1dc454aa3ba17",
       "IPY_MODEL_2f83113668104523be4e5ec0c137d7ca"
      ],
      "layout": "IPY_MODEL_bc479b102fb34b4790a0762bc1bc0156"
     }
    },
    "df6e97350a064465960c2ee1e41bc960": {
     "model_module": "@jupyter-widgets/controls",
     "model_module_version": "1.5.0",
     "model_name": "FloatProgressModel",
     "state": {
      "_dom_classes": [],
      "_model_module": "@jupyter-widgets/controls",
      "_model_module_version": "1.5.0",
      "_model_name": "FloatProgressModel",
      "_view_count": null,
      "_view_module": "@jupyter-widgets/controls",
      "_view_module_version": "1.5.0",
      "_view_name": "ProgressView",
      "bar_style": "success",
      "description": "",
      "description_tooltip": null,
      "layout": "IPY_MODEL_c861a4770b714e0a925e0306dcaf1688",
      "max": 461,
      "min": 0,
      "orientation": "horizontal",
      "style": "IPY_MODEL_40d2d096a4944efaa023c2216af0bbfc",
      "value": 461
     }
    },
    "e1bde327910a4ea6a6e8d114d0341522": {
     "model_module": "@jupyter-widgets/base",
     "model_module_version": "1.2.0",
     "model_name": "LayoutModel",
     "state": {
      "_model_module": "@jupyter-widgets/base",
      "_model_module_version": "1.2.0",
      "_model_name": "LayoutModel",
      "_view_count": null,
      "_view_module": "@jupyter-widgets/base",
      "_view_module_version": "1.2.0",
      "_view_name": "LayoutView",
      "align_content": null,
      "align_items": null,
      "align_self": null,
      "border": null,
      "bottom": null,
      "display": null,
      "flex": null,
      "flex_flow": null,
      "grid_area": null,
      "grid_auto_columns": null,
      "grid_auto_flow": null,
      "grid_auto_rows": null,
      "grid_column": null,
      "grid_gap": null,
      "grid_row": null,
      "grid_template_areas": null,
      "grid_template_columns": null,
      "grid_template_rows": null,
      "height": null,
      "justify_content": null,
      "justify_items": null,
      "left": null,
      "margin": null,
      "max_height": null,
      "max_width": null,
      "min_height": null,
      "min_width": null,
      "object_fit": null,
      "object_position": null,
      "order": null,
      "overflow": null,
      "overflow_x": null,
      "overflow_y": null,
      "padding": null,
      "right": null,
      "top": null,
      "visibility": null,
      "width": null
     }
    },
    "e2277aac1f8344b8a746d50578f58655": {
     "model_module": "@jupyter-widgets/base",
     "model_module_version": "1.2.0",
     "model_name": "LayoutModel",
     "state": {
      "_model_module": "@jupyter-widgets/base",
      "_model_module_version": "1.2.0",
      "_model_name": "LayoutModel",
      "_view_count": null,
      "_view_module": "@jupyter-widgets/base",
      "_view_module_version": "1.2.0",
      "_view_name": "LayoutView",
      "align_content": null,
      "align_items": null,
      "align_self": null,
      "border": null,
      "bottom": null,
      "display": null,
      "flex": null,
      "flex_flow": null,
      "grid_area": null,
      "grid_auto_columns": null,
      "grid_auto_flow": null,
      "grid_auto_rows": null,
      "grid_column": null,
      "grid_gap": null,
      "grid_row": null,
      "grid_template_areas": null,
      "grid_template_columns": null,
      "grid_template_rows": null,
      "height": null,
      "justify_content": null,
      "justify_items": null,
      "left": null,
      "margin": null,
      "max_height": null,
      "max_width": null,
      "min_height": null,
      "min_width": null,
      "object_fit": null,
      "object_position": null,
      "order": null,
      "overflow": null,
      "overflow_x": null,
      "overflow_y": null,
      "padding": null,
      "right": null,
      "top": null,
      "visibility": null,
      "width": null
     }
    },
    "e22bb761c9664f28916e48412c3e9fb1": {
     "model_module": "@jupyter-widgets/base",
     "model_module_version": "1.2.0",
     "model_name": "LayoutModel",
     "state": {
      "_model_module": "@jupyter-widgets/base",
      "_model_module_version": "1.2.0",
      "_model_name": "LayoutModel",
      "_view_count": null,
      "_view_module": "@jupyter-widgets/base",
      "_view_module_version": "1.2.0",
      "_view_name": "LayoutView",
      "align_content": null,
      "align_items": null,
      "align_self": null,
      "border": null,
      "bottom": null,
      "display": null,
      "flex": null,
      "flex_flow": null,
      "grid_area": null,
      "grid_auto_columns": null,
      "grid_auto_flow": null,
      "grid_auto_rows": null,
      "grid_column": null,
      "grid_gap": null,
      "grid_row": null,
      "grid_template_areas": null,
      "grid_template_columns": null,
      "grid_template_rows": null,
      "height": null,
      "justify_content": null,
      "justify_items": null,
      "left": null,
      "margin": null,
      "max_height": null,
      "max_width": null,
      "min_height": null,
      "min_width": null,
      "object_fit": null,
      "object_position": null,
      "order": null,
      "overflow": null,
      "overflow_x": null,
      "overflow_y": null,
      "padding": null,
      "right": null,
      "top": null,
      "visibility": null,
      "width": null
     }
    },
    "e2411dbcfbcc4bfeb40fbb076327b5b2": {
     "model_module": "@jupyter-widgets/controls",
     "model_module_version": "1.5.0",
     "model_name": "HBoxModel",
     "state": {
      "_dom_classes": [],
      "_model_module": "@jupyter-widgets/controls",
      "_model_module_version": "1.5.0",
      "_model_name": "HBoxModel",
      "_view_count": null,
      "_view_module": "@jupyter-widgets/controls",
      "_view_module_version": "1.5.0",
      "_view_name": "HBoxView",
      "box_style": "",
      "children": [
       "IPY_MODEL_5ed84d41aec345f38080312567893755",
       "IPY_MODEL_f95f1d597dad4e38b3c2142b25737e20",
       "IPY_MODEL_515025b07bce44c3bf702b19badb503b"
      ],
      "layout": "IPY_MODEL_3ec6e42fc34b406e9b98d3f286c08fba"
     }
    },
    "e2ce451faaeb4ded978d4b04775cd389": {
     "model_module": "@jupyter-widgets/base",
     "model_module_version": "1.2.0",
     "model_name": "LayoutModel",
     "state": {
      "_model_module": "@jupyter-widgets/base",
      "_model_module_version": "1.2.0",
      "_model_name": "LayoutModel",
      "_view_count": null,
      "_view_module": "@jupyter-widgets/base",
      "_view_module_version": "1.2.0",
      "_view_name": "LayoutView",
      "align_content": null,
      "align_items": null,
      "align_self": null,
      "border": null,
      "bottom": null,
      "display": null,
      "flex": null,
      "flex_flow": null,
      "grid_area": null,
      "grid_auto_columns": null,
      "grid_auto_flow": null,
      "grid_auto_rows": null,
      "grid_column": null,
      "grid_gap": null,
      "grid_row": null,
      "grid_template_areas": null,
      "grid_template_columns": null,
      "grid_template_rows": null,
      "height": null,
      "justify_content": null,
      "justify_items": null,
      "left": null,
      "margin": null,
      "max_height": null,
      "max_width": null,
      "min_height": null,
      "min_width": null,
      "object_fit": null,
      "object_position": null,
      "order": null,
      "overflow": null,
      "overflow_x": null,
      "overflow_y": null,
      "padding": null,
      "right": null,
      "top": null,
      "visibility": null,
      "width": null
     }
    },
    "e50b9570be8e417eae094f49d045e323": {
     "model_module": "@jupyter-widgets/controls",
     "model_module_version": "1.5.0",
     "model_name": "HBoxModel",
     "state": {
      "_dom_classes": [],
      "_model_module": "@jupyter-widgets/controls",
      "_model_module_version": "1.5.0",
      "_model_name": "HBoxModel",
      "_view_count": null,
      "_view_module": "@jupyter-widgets/controls",
      "_view_module_version": "1.5.0",
      "_view_name": "HBoxView",
      "box_style": "",
      "children": [
       "IPY_MODEL_ee36299691e34ce99df13ce3c94787d2",
       "IPY_MODEL_df6e97350a064465960c2ee1e41bc960",
       "IPY_MODEL_433b7ed0e675462e88a51e9da42b9978"
      ],
      "layout": "IPY_MODEL_201fcfb960fd41e8aff99835f4c01b60"
     }
    },
    "e8bf759403ba42ce893011fd67a1e115": {
     "model_module": "@jupyter-widgets/base",
     "model_module_version": "1.2.0",
     "model_name": "LayoutModel",
     "state": {
      "_model_module": "@jupyter-widgets/base",
      "_model_module_version": "1.2.0",
      "_model_name": "LayoutModel",
      "_view_count": null,
      "_view_module": "@jupyter-widgets/base",
      "_view_module_version": "1.2.0",
      "_view_name": "LayoutView",
      "align_content": null,
      "align_items": null,
      "align_self": null,
      "border": null,
      "bottom": null,
      "display": null,
      "flex": null,
      "flex_flow": null,
      "grid_area": null,
      "grid_auto_columns": null,
      "grid_auto_flow": null,
      "grid_auto_rows": null,
      "grid_column": null,
      "grid_gap": null,
      "grid_row": null,
      "grid_template_areas": null,
      "grid_template_columns": null,
      "grid_template_rows": null,
      "height": null,
      "justify_content": null,
      "justify_items": null,
      "left": null,
      "margin": null,
      "max_height": null,
      "max_width": null,
      "min_height": null,
      "min_width": null,
      "object_fit": null,
      "object_position": null,
      "order": null,
      "overflow": null,
      "overflow_x": null,
      "overflow_y": null,
      "padding": null,
      "right": null,
      "top": null,
      "visibility": null,
      "width": null
     }
    },
    "eaeb5f3b830c4d45af8ef914f19d02f0": {
     "model_module": "@jupyter-widgets/controls",
     "model_module_version": "1.5.0",
     "model_name": "FloatProgressModel",
     "state": {
      "_dom_classes": [],
      "_model_module": "@jupyter-widgets/controls",
      "_model_module_version": "1.5.0",
      "_model_name": "FloatProgressModel",
      "_view_count": null,
      "_view_module": "@jupyter-widgets/controls",
      "_view_module_version": "1.5.0",
      "_view_name": "ProgressView",
      "bar_style": "success",
      "description": "",
      "description_tooltip": null,
      "layout": "IPY_MODEL_91d26b3daca34be1b04e11ebd406a9c6",
      "max": 2363431,
      "min": 0,
      "orientation": "horizontal",
      "style": "IPY_MODEL_8d91c662cc3142219dd68c361cae3af7",
      "value": 2363431
     }
    },
    "eaede3435e37421d834f57aa8758bc61": {
     "model_module": "@jupyter-widgets/controls",
     "model_module_version": "1.5.0",
     "model_name": "HBoxModel",
     "state": {
      "_dom_classes": [],
      "_model_module": "@jupyter-widgets/controls",
      "_model_module_version": "1.5.0",
      "_model_name": "HBoxModel",
      "_view_count": null,
      "_view_module": "@jupyter-widgets/controls",
      "_view_module_version": "1.5.0",
      "_view_name": "HBoxView",
      "box_style": "",
      "children": [
       "IPY_MODEL_5c90da6b1a794ab19089723087fb85ba",
       "IPY_MODEL_a341c710eb144e42bb780d7dd5bd4105",
       "IPY_MODEL_376748f72290485b8f789cd3fb4f4af5"
      ],
      "layout": "IPY_MODEL_18d37c317ec54e1ba7cb99378ef6a475"
     }
    },
    "ecb12230307e44d39a2e692e8a223e24": {
     "model_module": "@jupyter-widgets/controls",
     "model_module_version": "1.5.0",
     "model_name": "FloatProgressModel",
     "state": {
      "_dom_classes": [],
      "_model_module": "@jupyter-widgets/controls",
      "_model_module_version": "1.5.0",
      "_model_name": "FloatProgressModel",
      "_view_count": null,
      "_view_module": "@jupyter-widgets/controls",
      "_view_module_version": "1.5.0",
      "_view_name": "ProgressView",
      "bar_style": "success",
      "description": "",
      "description_tooltip": null,
      "layout": "IPY_MODEL_5a32dfb1f636493aa8ab0d474866d4e5",
      "max": 122,
      "min": 0,
      "orientation": "horizontal",
      "style": "IPY_MODEL_0449ca52f3854f908f4a1ba2f5d1d802",
      "value": 122
     }
    },
    "ecc9e1096c474f0682e844aa1d98c805": {
     "model_module": "@jupyter-widgets/base",
     "model_module_version": "1.2.0",
     "model_name": "LayoutModel",
     "state": {
      "_model_module": "@jupyter-widgets/base",
      "_model_module_version": "1.2.0",
      "_model_name": "LayoutModel",
      "_view_count": null,
      "_view_module": "@jupyter-widgets/base",
      "_view_module_version": "1.2.0",
      "_view_name": "LayoutView",
      "align_content": null,
      "align_items": null,
      "align_self": null,
      "border": null,
      "bottom": null,
      "display": null,
      "flex": null,
      "flex_flow": null,
      "grid_area": null,
      "grid_auto_columns": null,
      "grid_auto_flow": null,
      "grid_auto_rows": null,
      "grid_column": null,
      "grid_gap": null,
      "grid_row": null,
      "grid_template_areas": null,
      "grid_template_columns": null,
      "grid_template_rows": null,
      "height": null,
      "justify_content": null,
      "justify_items": null,
      "left": null,
      "margin": null,
      "max_height": null,
      "max_width": null,
      "min_height": null,
      "min_width": null,
      "object_fit": null,
      "object_position": null,
      "order": null,
      "overflow": null,
      "overflow_x": null,
      "overflow_y": null,
      "padding": null,
      "right": null,
      "top": null,
      "visibility": null,
      "width": null
     }
    },
    "ed431f42232640b2baba114cc7d69dcc": {
     "model_module": "@jupyter-widgets/base",
     "model_module_version": "1.2.0",
     "model_name": "LayoutModel",
     "state": {
      "_model_module": "@jupyter-widgets/base",
      "_model_module_version": "1.2.0",
      "_model_name": "LayoutModel",
      "_view_count": null,
      "_view_module": "@jupyter-widgets/base",
      "_view_module_version": "1.2.0",
      "_view_name": "LayoutView",
      "align_content": null,
      "align_items": null,
      "align_self": null,
      "border": null,
      "bottom": null,
      "display": null,
      "flex": null,
      "flex_flow": null,
      "grid_area": null,
      "grid_auto_columns": null,
      "grid_auto_flow": null,
      "grid_auto_rows": null,
      "grid_column": null,
      "grid_gap": null,
      "grid_row": null,
      "grid_template_areas": null,
      "grid_template_columns": null,
      "grid_template_rows": null,
      "height": null,
      "justify_content": null,
      "justify_items": null,
      "left": null,
      "margin": null,
      "max_height": null,
      "max_width": null,
      "min_height": null,
      "min_width": null,
      "object_fit": null,
      "object_position": null,
      "order": null,
      "overflow": null,
      "overflow_x": null,
      "overflow_y": null,
      "padding": null,
      "right": null,
      "top": null,
      "visibility": null,
      "width": null
     }
    },
    "ed54b851e65b4604abf3974912a178f4": {
     "model_module": "@jupyter-widgets/controls",
     "model_module_version": "1.5.0",
     "model_name": "DescriptionStyleModel",
     "state": {
      "_model_module": "@jupyter-widgets/controls",
      "_model_module_version": "1.5.0",
      "_model_name": "DescriptionStyleModel",
      "_view_count": null,
      "_view_module": "@jupyter-widgets/base",
      "_view_module_version": "1.2.0",
      "_view_name": "StyleView",
      "description_width": ""
     }
    },
    "edf1128330f741dd85fbf1d90e141080": {
     "model_module": "@jupyter-widgets/controls",
     "model_module_version": "1.5.0",
     "model_name": "HBoxModel",
     "state": {
      "_dom_classes": [],
      "_model_module": "@jupyter-widgets/controls",
      "_model_module_version": "1.5.0",
      "_model_name": "HBoxModel",
      "_view_count": null,
      "_view_module": "@jupyter-widgets/controls",
      "_view_module_version": "1.5.0",
      "_view_name": "HBoxView",
      "box_style": "",
      "children": [
       "IPY_MODEL_46a1c71ddd3b4d4ebc922aa505a0c76c",
       "IPY_MODEL_86bf1cc4ddfa461fa771945b703ce70c",
       "IPY_MODEL_0bf4029ae67849ddab34eb676e683493"
      ],
      "layout": "IPY_MODEL_0a3790018df047a59696bc0890935ea9"
     }
    },
    "ee36299691e34ce99df13ce3c94787d2": {
     "model_module": "@jupyter-widgets/controls",
     "model_module_version": "1.5.0",
     "model_name": "HTMLModel",
     "state": {
      "_dom_classes": [],
      "_model_module": "@jupyter-widgets/controls",
      "_model_module_version": "1.5.0",
      "_model_name": "HTMLModel",
      "_view_count": null,
      "_view_module": "@jupyter-widgets/controls",
      "_view_module_version": "1.5.0",
      "_view_name": "HTMLView",
      "description": "",
      "description_tooltip": null,
      "layout": "IPY_MODEL_1df46dce2a704347a523c6f9e86de8ec",
      "placeholder": "​",
      "style": "IPY_MODEL_b22c283a360f409fbd00f3ddf5b76303",
      "value": "(…)3a328db482fd5076498a46051dd/modules.json: 100%"
     }
    },
    "ee554fea5aab446084644c0a881eda60": {
     "model_module": "@jupyter-widgets/base",
     "model_module_version": "1.2.0",
     "model_name": "LayoutModel",
     "state": {
      "_model_module": "@jupyter-widgets/base",
      "_model_module_version": "1.2.0",
      "_model_name": "LayoutModel",
      "_view_count": null,
      "_view_module": "@jupyter-widgets/base",
      "_view_module_version": "1.2.0",
      "_view_name": "LayoutView",
      "align_content": null,
      "align_items": null,
      "align_self": null,
      "border": null,
      "bottom": null,
      "display": null,
      "flex": null,
      "flex_flow": null,
      "grid_area": null,
      "grid_auto_columns": null,
      "grid_auto_flow": null,
      "grid_auto_rows": null,
      "grid_column": null,
      "grid_gap": null,
      "grid_row": null,
      "grid_template_areas": null,
      "grid_template_columns": null,
      "grid_template_rows": null,
      "height": null,
      "justify_content": null,
      "justify_items": null,
      "left": null,
      "margin": null,
      "max_height": null,
      "max_width": null,
      "min_height": null,
      "min_width": null,
      "object_fit": null,
      "object_position": null,
      "order": null,
      "overflow": null,
      "overflow_x": null,
      "overflow_y": null,
      "padding": null,
      "right": null,
      "top": null,
      "visibility": null,
      "width": null
     }
    },
    "ef4611a52318459997ddf146b47460df": {
     "model_module": "@jupyter-widgets/controls",
     "model_module_version": "1.5.0",
     "model_name": "HTMLModel",
     "state": {
      "_dom_classes": [],
      "_model_module": "@jupyter-widgets/controls",
      "_model_module_version": "1.5.0",
      "_model_name": "HTMLModel",
      "_view_count": null,
      "_view_module": "@jupyter-widgets/controls",
      "_view_module_version": "1.5.0",
      "_view_name": "HTMLView",
      "description": "",
      "description_tooltip": null,
      "layout": "IPY_MODEL_92314e08530541dda20f44f97a68cf86",
      "placeholder": "​",
      "style": "IPY_MODEL_98334a3fb46b4197b9d915191f1a3d90",
      "value": " 114/114 [00:00&lt;00:00, 4.84kB/s]"
     }
    },
    "eff493e5f1ee4bb68b5421e275e60880": {
     "model_module": "@jupyter-widgets/base",
     "model_module_version": "1.2.0",
     "model_name": "LayoutModel",
     "state": {
      "_model_module": "@jupyter-widgets/base",
      "_model_module_version": "1.2.0",
      "_model_name": "LayoutModel",
      "_view_count": null,
      "_view_module": "@jupyter-widgets/base",
      "_view_module_version": "1.2.0",
      "_view_name": "LayoutView",
      "align_content": null,
      "align_items": null,
      "align_self": null,
      "border": null,
      "bottom": null,
      "display": null,
      "flex": null,
      "flex_flow": null,
      "grid_area": null,
      "grid_auto_columns": null,
      "grid_auto_flow": null,
      "grid_auto_rows": null,
      "grid_column": null,
      "grid_gap": null,
      "grid_row": null,
      "grid_template_areas": null,
      "grid_template_columns": null,
      "grid_template_rows": null,
      "height": null,
      "justify_content": null,
      "justify_items": null,
      "left": null,
      "margin": null,
      "max_height": null,
      "max_width": null,
      "min_height": null,
      "min_width": null,
      "object_fit": null,
      "object_position": null,
      "order": null,
      "overflow": null,
      "overflow_x": null,
      "overflow_y": null,
      "padding": null,
      "right": null,
      "top": null,
      "visibility": null,
      "width": null
     }
    },
    "f0315237d43545959d350d879f0e8c50": {
     "model_module": "@jupyter-widgets/base",
     "model_module_version": "1.2.0",
     "model_name": "LayoutModel",
     "state": {
      "_model_module": "@jupyter-widgets/base",
      "_model_module_version": "1.2.0",
      "_model_name": "LayoutModel",
      "_view_count": null,
      "_view_module": "@jupyter-widgets/base",
      "_view_module_version": "1.2.0",
      "_view_name": "LayoutView",
      "align_content": null,
      "align_items": null,
      "align_self": null,
      "border": null,
      "bottom": null,
      "display": null,
      "flex": null,
      "flex_flow": null,
      "grid_area": null,
      "grid_auto_columns": null,
      "grid_auto_flow": null,
      "grid_auto_rows": null,
      "grid_column": null,
      "grid_gap": null,
      "grid_row": null,
      "grid_template_areas": null,
      "grid_template_columns": null,
      "grid_template_rows": null,
      "height": null,
      "justify_content": null,
      "justify_items": null,
      "left": null,
      "margin": null,
      "max_height": null,
      "max_width": null,
      "min_height": null,
      "min_width": null,
      "object_fit": null,
      "object_position": null,
      "order": null,
      "overflow": null,
      "overflow_x": null,
      "overflow_y": null,
      "padding": null,
      "right": null,
      "top": null,
      "visibility": null,
      "width": null
     }
    },
    "f156faa388854592ae18a5459e683966": {
     "model_module": "@jupyter-widgets/base",
     "model_module_version": "1.2.0",
     "model_name": "LayoutModel",
     "state": {
      "_model_module": "@jupyter-widgets/base",
      "_model_module_version": "1.2.0",
      "_model_name": "LayoutModel",
      "_view_count": null,
      "_view_module": "@jupyter-widgets/base",
      "_view_module_version": "1.2.0",
      "_view_name": "LayoutView",
      "align_content": null,
      "align_items": null,
      "align_self": null,
      "border": null,
      "bottom": null,
      "display": null,
      "flex": null,
      "flex_flow": null,
      "grid_area": null,
      "grid_auto_columns": null,
      "grid_auto_flow": null,
      "grid_auto_rows": null,
      "grid_column": null,
      "grid_gap": null,
      "grid_row": null,
      "grid_template_areas": null,
      "grid_template_columns": null,
      "grid_template_rows": null,
      "height": null,
      "justify_content": null,
      "justify_items": null,
      "left": null,
      "margin": null,
      "max_height": null,
      "max_width": null,
      "min_height": null,
      "min_width": null,
      "object_fit": null,
      "object_position": null,
      "order": null,
      "overflow": null,
      "overflow_x": null,
      "overflow_y": null,
      "padding": null,
      "right": null,
      "top": null,
      "visibility": null,
      "width": null
     }
    },
    "f185e754958f49d4bd1cab1f51bd4e5b": {
     "model_module": "@jupyter-widgets/controls",
     "model_module_version": "1.5.0",
     "model_name": "DescriptionStyleModel",
     "state": {
      "_model_module": "@jupyter-widgets/controls",
      "_model_module_version": "1.5.0",
      "_model_name": "DescriptionStyleModel",
      "_view_count": null,
      "_view_module": "@jupyter-widgets/base",
      "_view_module_version": "1.2.0",
      "_view_name": "StyleView",
      "description_width": ""
     }
    },
    "f2d03949619e45a59fa7e467014470bf": {
     "model_module": "@jupyter-widgets/controls",
     "model_module_version": "1.5.0",
     "model_name": "ProgressStyleModel",
     "state": {
      "_model_module": "@jupyter-widgets/controls",
      "_model_module_version": "1.5.0",
      "_model_name": "ProgressStyleModel",
      "_view_count": null,
      "_view_module": "@jupyter-widgets/base",
      "_view_module_version": "1.2.0",
      "_view_name": "StyleView",
      "bar_color": null,
      "description_width": ""
     }
    },
    "f3dded4083ce4e3b88485aacd87614bf": {
     "model_module": "@jupyter-widgets/controls",
     "model_module_version": "1.5.0",
     "model_name": "DescriptionStyleModel",
     "state": {
      "_model_module": "@jupyter-widgets/controls",
      "_model_module_version": "1.5.0",
      "_model_name": "DescriptionStyleModel",
      "_view_count": null,
      "_view_module": "@jupyter-widgets/base",
      "_view_module_version": "1.2.0",
      "_view_name": "StyleView",
      "description_width": ""
     }
    },
    "f4413422c9ca41b78be49223cde15a1b": {
     "model_module": "@jupyter-widgets/base",
     "model_module_version": "1.2.0",
     "model_name": "LayoutModel",
     "state": {
      "_model_module": "@jupyter-widgets/base",
      "_model_module_version": "1.2.0",
      "_model_name": "LayoutModel",
      "_view_count": null,
      "_view_module": "@jupyter-widgets/base",
      "_view_module_version": "1.2.0",
      "_view_name": "LayoutView",
      "align_content": null,
      "align_items": null,
      "align_self": null,
      "border": null,
      "bottom": null,
      "display": null,
      "flex": null,
      "flex_flow": null,
      "grid_area": null,
      "grid_auto_columns": null,
      "grid_auto_flow": null,
      "grid_auto_rows": null,
      "grid_column": null,
      "grid_gap": null,
      "grid_row": null,
      "grid_template_areas": null,
      "grid_template_columns": null,
      "grid_template_rows": null,
      "height": null,
      "justify_content": null,
      "justify_items": null,
      "left": null,
      "margin": null,
      "max_height": null,
      "max_width": null,
      "min_height": null,
      "min_width": null,
      "object_fit": null,
      "object_position": null,
      "order": null,
      "overflow": null,
      "overflow_x": null,
      "overflow_y": null,
      "padding": null,
      "right": null,
      "top": null,
      "visibility": null,
      "width": null
     }
    },
    "f59a8a05790d49678a960d414f0945bb": {
     "model_module": "@jupyter-widgets/controls",
     "model_module_version": "1.5.0",
     "model_name": "DescriptionStyleModel",
     "state": {
      "_model_module": "@jupyter-widgets/controls",
      "_model_module_version": "1.5.0",
      "_model_name": "DescriptionStyleModel",
      "_view_count": null,
      "_view_module": "@jupyter-widgets/base",
      "_view_module_version": "1.2.0",
      "_view_name": "StyleView",
      "description_width": ""
     }
    },
    "f6470293e1034117898272903bb96973": {
     "model_module": "@jupyter-widgets/controls",
     "model_module_version": "1.5.0",
     "model_name": "DescriptionStyleModel",
     "state": {
      "_model_module": "@jupyter-widgets/controls",
      "_model_module_version": "1.5.0",
      "_model_name": "DescriptionStyleModel",
      "_view_count": null,
      "_view_module": "@jupyter-widgets/base",
      "_view_module_version": "1.2.0",
      "_view_name": "StyleView",
      "description_width": ""
     }
    },
    "f95f1d597dad4e38b3c2142b25737e20": {
     "model_module": "@jupyter-widgets/controls",
     "model_module_version": "1.5.0",
     "model_name": "FloatProgressModel",
     "state": {
      "_dom_classes": [],
      "_model_module": "@jupyter-widgets/controls",
      "_model_module_version": "1.5.0",
      "_model_name": "FloatProgressModel",
      "_view_count": null,
      "_view_module": "@jupyter-widgets/controls",
      "_view_module_version": "1.5.0",
      "_view_name": "ProgressView",
      "bar_style": "success",
      "description": "",
      "description_tooltip": null,
      "layout": "IPY_MODEL_4235b6ed80ee4ea2a0eeeac9edfca245",
      "max": 9621556,
      "min": 0,
      "orientation": "horizontal",
      "style": "IPY_MODEL_8f446c2ff6b84ced828ebd82a42d5e10",
      "value": 9621556
     }
    },
    "fd9ddf3e7224449d94fdf52b8e816e0a": {
     "model_module": "@jupyter-widgets/controls",
     "model_module_version": "1.5.0",
     "model_name": "ProgressStyleModel",
     "state": {
      "_model_module": "@jupyter-widgets/controls",
      "_model_module_version": "1.5.0",
      "_model_name": "ProgressStyleModel",
      "_view_count": null,
      "_view_module": "@jupyter-widgets/base",
      "_view_module_version": "1.2.0",
      "_view_name": "StyleView",
      "bar_color": null,
      "description_width": ""
     }
    },
    "fe6f69734ac74910963fec8c027f7afc": {
     "model_module": "@jupyter-widgets/controls",
     "model_module_version": "1.5.0",
     "model_name": "ProgressStyleModel",
     "state": {
      "_model_module": "@jupyter-widgets/controls",
      "_model_module_version": "1.5.0",
      "_model_name": "ProgressStyleModel",
      "_view_count": null,
      "_view_module": "@jupyter-widgets/base",
      "_view_module_version": "1.2.0",
      "_view_name": "StyleView",
      "bar_color": null,
      "description_width": ""
     }
    }
   }
  }
 },
 "nbformat": 4,
 "nbformat_minor": 5
}
