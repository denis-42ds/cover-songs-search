{
 "cells": [
  {
   "cell_type": "markdown",
   "id": "cfd1cad8-4de2-4ebd-8004-a39c04f6e984",
   "metadata": {
    "id": "cfd1cad8-4de2-4ebd-8004-a39c04f6e984"
   },
   "source": [
    "# Поиск каверов композиций\n",
    "<br>Разработка ML-модели для сопоставления текстов музыкальных произведений и для поиска каверов (вариации обработки оригинала с элементами новой аранжировки) по их текстам\n",
    "\n",
    "<br>**Описание проекта**\n",
    "<br>Обнаружение треков каверов - важная продуктовая задача, которая может значительно улучшить качество рекомендаций музыкального сервиса и повысить счастье наших пользователей.\n",
    "<br>Если мы умеем с высокой точностью классифицировать каверы и связывать их между собой, то можно предложить пользователю новые возможности для управления потоком треков.\n",
    "<br>Например:\n",
    "- по желанию пользователя можем полностью исключить каверы из рекомендаций;\n",
    "- показать все каверы на любимый трек пользователя;\n",
    "- контролировать долю каверов в ленте пользователя.\n",
    "\n",
    "<br>**Цель проекта**\n",
    "<br>Необходимо разработать ML-продукт, который:\n",
    "- классифицирует треки по признаку кавер-некавер;\n",
    "- связывает (группирует) каверы и исходный трек;\n",
    "- находит исходный трек в цепочке каверов.\n",
    "\n",
    "<br>**Описание данных**\n",
    "- Файл covers.json содержит разметку каверов, сделанную редакторами сервиса:\n",
    "    - track_id - уникальный идентификатор трека;\n",
    "    - track_remake_type - метка, присвоенная редакторами. Может принимать значения ORIGINAL и COVER;\n",
    "    - original_track_id - уникальный идентификатор исходного трека.\n",
    "- Метаинформация:\n",
    "    - track_id - уникальный идентификатор трека;\n",
    "    - dttm - первая дата появления информации о треке;\n",
    "    - title - название трека;\n",
    "    - language - язык исполнения;\n",
    "    - isrc - международный уникальный идентификатор трека;\n",
    "    - genres - жанры;\n",
    "    - duration - длительность трека.\n",
    "- Текст песен:\n",
    "    - track_id - уникальный идентификатор трека;\n",
    "    - lyricId - уникальный идентификатор текста;\n",
    "    - text - текст трека.\n",
    "\n",
    "<br>**Целевой метрикой выбрана** `f1`"
   ]
  },
  {
   "cell_type": "markdown",
   "id": "c24c22f6-ab59-468f-83dd-c91e4205c98e",
   "metadata": {
    "id": "c24c22f6-ab59-468f-83dd-c91e4205c98e"
   },
   "source": [
    "## Импорт библиотек"
   ]
  },
  {
   "cell_type": "code",
   "execution_count": 3,
   "id": "3e7ec4b4-cb5d-4c1f-a6d7-81866d50e96a",
   "metadata": {
    "id": "3e7ec4b4-cb5d-4c1f-a6d7-81866d50e96a"
   },
   "outputs": [],
   "source": [
    "# !pip install sentence-transformers #-U\n",
    "# !pip install lyricsgenius\n",
    "# !pip install gensim\n",
    "# drive.mount('/content/drive')"
   ]
  },
  {
   "cell_type": "code",
   "execution_count": 3,
   "id": "ac1fca84-4981-4c45-8977-adc6b860573f",
   "metadata": {
    "id": "ac1fca84-4981-4c45-8977-adc6b860573f"
   },
   "outputs": [],
   "source": [
    "# from google.colab import drive\n",
    "import pandas as pd\n",
    "import numpy as np\n",
    "from sentence_transformers import SentenceTransformer\n",
    "import xgboost\n",
    "import warnings\n",
    "from sklearn.model_selection import train_test_split\n",
    "from sklearn.metrics import f1_score\n",
    "\n",
    "# from xgboost import XGBClassifier\n",
    "# from MusicMetaLinker.MusicMetaLinker.linking import linking\n",
    "# import gensim\n",
    "# from lyricsgenius import Genius\n",
    "# import matplotlib.pyplot as plt\n",
    "# import seaborn as sns\n",
    "# from sklearn.metrics import f1_score\n",
    "# sklearn, CatBoost, XGBoost, LightGBM, NLP\n",
    "warnings.filterwarnings('ignore')"
   ]
  },
  {
   "cell_type": "markdown",
   "id": "d44fd458-64b3-4731-ac7a-594451fb4f68",
   "metadata": {
    "id": "d44fd458-64b3-4731-ac7a-594451fb4f68"
   },
   "source": [
    "Установка констант"
   ]
  },
  {
   "cell_type": "code",
   "execution_count": 4,
   "id": "69b42ac3-3fb6-46a8-84da-2e7b9e8b721b",
   "metadata": {
    "id": "69b42ac3-3fb6-46a8-84da-2e7b9e8b721b"
   },
   "outputs": [],
   "source": [
    "RS = 42 # random state"
   ]
  },
  {
   "cell_type": "markdown",
   "id": "6a40b046-133f-4358-8a9f-27f986d510a2",
   "metadata": {
    "id": "6a40b046-133f-4358-8a9f-27f986d510a2"
   },
   "source": [
    "## EDA"
   ]
  },
  {
   "cell_type": "markdown",
   "id": "73a0824e-58a1-4ed8-96ad-e0830ef848c6",
   "metadata": {
    "id": "73a0824e-58a1-4ed8-96ad-e0830ef848c6"
   },
   "source": [
    "### Загрузка данных"
   ]
  },
  {
   "cell_type": "code",
   "execution_count": 5,
   "id": "e4a82880-256f-43cf-a413-1e32d500f20a",
   "metadata": {
    "colab": {
     "base_uri": "https://localhost:8080/"
    },
    "id": "e4a82880-256f-43cf-a413-1e32d500f20a",
    "outputId": "c0c177ba-a958-4db2-c1a7-3f8eb87096b2"
   },
   "outputs": [
    {
     "name": "stdout",
     "output_type": "stream",
     "text": [
      "загружено из каталога \"data\"\n"
     ]
    },
    {
     "data": {
      "text/plain": [
       "((71597, 3), (11414, 3), (71769, 7))"
      ]
     },
     "execution_count": 5,
     "metadata": {},
     "output_type": "execute_result"
    }
   ],
   "source": [
    "try:\n",
    "    drive.mount('/content/drive')\n",
    "    covers = pd.read_json('./drive/MyDrive/Colab Notebooks/music_covers/covers.json', orient='records', lines=True)\n",
    "    lyrics = pd.read_json('./drive/MyDrive/Colab Notebooks/music_covers/lyrics.json', orient='records', lines=True)\n",
    "    meta = pd.read_json('./drive/MyDrive/Colab Notebooks/music_covers/meta.json', orient='records', lines=True)\n",
    "    print('загружено из каталога \"Colab Notebooks\"')\n",
    "except:\n",
    "    covers = pd.read_json('data/covers.json', orient='records', lines=True)\n",
    "    lyrics = pd.read_json('data/lyrics.json', orient='records', lines=True)\n",
    "    meta = pd.read_json('data/meta.json', orient='records', lines=True)\n",
    "    print('загружено из каталога \"data\"')\n",
    "\n",
    "np.array(covers).shape, np.array(lyrics).shape, np.array(meta).shape"
   ]
  },
  {
   "cell_type": "markdown",
   "id": "53d5b430-adc3-4e9c-8fe0-f03d4e949e26",
   "metadata": {
    "id": "53d5b430-adc3-4e9c-8fe0-f03d4e949e26"
   },
   "source": [
    "### Датафрейм `lyrics`"
   ]
  },
  {
   "cell_type": "code",
   "execution_count": 6,
   "id": "6ce3b0e4-1118-4d03-8a11-73b6f85f6fd3",
   "metadata": {
    "colab": {
     "base_uri": "https://localhost:8080/",
     "height": 422
    },
    "id": "6ce3b0e4-1118-4d03-8a11-73b6f85f6fd3",
    "outputId": "4066659d-fd65-41d2-8a16-a3e94871578f"
   },
   "outputs": [
    {
     "name": "stdout",
     "output_type": "stream",
     "text": [
      "<class 'pandas.core.frame.DataFrame'>\n",
      "RangeIndex: 11414 entries, 0 to 11413\n",
      "Data columns (total 3 columns):\n",
      " #   Column    Non-Null Count  Dtype \n",
      "---  ------    --------------  ----- \n",
      " 0   lyricId   11414 non-null  object\n",
      " 1   text      11414 non-null  object\n",
      " 2   track_id  11414 non-null  object\n",
      "dtypes: object(3)\n",
      "memory usage: 267.6+ KB\n"
     ]
    },
    {
     "data": {
      "text/html": [
       "<div>\n",
       "<style scoped>\n",
       "    .dataframe tbody tr th:only-of-type {\n",
       "        vertical-align: middle;\n",
       "    }\n",
       "\n",
       "    .dataframe tbody tr th {\n",
       "        vertical-align: top;\n",
       "    }\n",
       "\n",
       "    .dataframe thead th {\n",
       "        text-align: right;\n",
       "    }\n",
       "</style>\n",
       "<table border=\"1\" class=\"dataframe\">\n",
       "  <thead>\n",
       "    <tr style=\"text-align: right;\">\n",
       "      <th></th>\n",
       "      <th>lyricId</th>\n",
       "      <th>text</th>\n",
       "      <th>track_id</th>\n",
       "    </tr>\n",
       "  </thead>\n",
       "  <tbody>\n",
       "    <tr>\n",
       "      <th>7949</th>\n",
       "      <td>1219c0cb2c4738d744eda6007fa17e62</td>\n",
       "      <td>Been there done that messed around,\\nI'm havin...</td>\n",
       "      <td>ecfcc3542d9219bf01cd5fdf92821b79</td>\n",
       "    </tr>\n",
       "    <tr>\n",
       "      <th>10448</th>\n",
       "      <td>b83f3d7cd6ba327e56f362b3231b20af</td>\n",
       "      <td>I come home, in the mornin' light\\nMy mother s...</td>\n",
       "      <td>81fc425f0de19fc76cedb36a6064a894</td>\n",
       "    </tr>\n",
       "    <tr>\n",
       "      <th>9530</th>\n",
       "      <td>fcafc3120bc04b44b0ffb288b010fc14</td>\n",
       "      <td>Молчи, когда бухой сосед на свою тёлку кричит\\...</td>\n",
       "      <td>e9f2d002484a165a59aba757bfab3f3d</td>\n",
       "    </tr>\n",
       "  </tbody>\n",
       "</table>\n",
       "</div>"
      ],
      "text/plain": [
       "                                lyricId  \\\n",
       "7949   1219c0cb2c4738d744eda6007fa17e62   \n",
       "10448  b83f3d7cd6ba327e56f362b3231b20af   \n",
       "9530   fcafc3120bc04b44b0ffb288b010fc14   \n",
       "\n",
       "                                                    text  \\\n",
       "7949   Been there done that messed around,\\nI'm havin...   \n",
       "10448  I come home, in the mornin' light\\nMy mother s...   \n",
       "9530   Молчи, когда бухой сосед на свою тёлку кричит\\...   \n",
       "\n",
       "                               track_id  \n",
       "7949   ecfcc3542d9219bf01cd5fdf92821b79  \n",
       "10448  81fc425f0de19fc76cedb36a6064a894  \n",
       "9530   e9f2d002484a165a59aba757bfab3f3d  "
      ]
     },
     "metadata": {},
     "output_type": "display_data"
    },
    {
     "name": "stdout",
     "output_type": "stream",
     "text": [
      "явные повторы строк: 0\n"
     ]
    },
    {
     "data": {
      "text/plain": [
       "'количество уникальных записей:'"
      ]
     },
     "metadata": {},
     "output_type": "display_data"
    },
    {
     "data": {
      "text/plain": [
       "lyricId     10915\n",
       "text        10644\n",
       "track_id    10277\n",
       "dtype: int64"
      ]
     },
     "metadata": {},
     "output_type": "display_data"
    }
   ],
   "source": [
    "lyrics.info()\n",
    "display(lyrics.sample(3))\n",
    "print('явные повторы строк:', lyrics.duplicated().sum())\n",
    "display('количество уникальных записей:', lyrics.nunique())"
   ]
  },
  {
   "cell_type": "markdown",
   "id": "3f12d4cf-e7fd-409e-abe3-3d53fe023096",
   "metadata": {
    "id": "3f12d4cf-e7fd-409e-abe3-3d53fe023096"
   },
   "source": [
    "Выводы:\n",
    "- тексты представлены на различных языках (английский, русский, испанский)\n",
    "- явных повторов строк не обнаружено, при этом количество уникальных ID текстов и треков меньше,\n",
    "  <br>чем всего строк, что означает использование текстов в других треках"
   ]
  },
  {
   "cell_type": "markdown",
   "id": "88c0358e-077d-4230-920a-67f83f758fc1",
   "metadata": {
    "id": "88c0358e-077d-4230-920a-67f83f758fc1"
   },
   "source": [
    "### Датафрейм `meta`"
   ]
  },
  {
   "cell_type": "code",
   "execution_count": 7,
   "id": "057c1e5d-2cb8-42ce-b674-a0aaba3c4430",
   "metadata": {
    "colab": {
     "base_uri": "https://localhost:8080/",
     "height": 638
    },
    "id": "057c1e5d-2cb8-42ce-b674-a0aaba3c4430",
    "outputId": "c9158a9f-d011-41af-f7da-b59f70ce05e0"
   },
   "outputs": [
    {
     "name": "stdout",
     "output_type": "stream",
     "text": [
      "<class 'pandas.core.frame.DataFrame'>\n",
      "RangeIndex: 71769 entries, 0 to 71768\n",
      "Data columns (total 7 columns):\n",
      " #   Column    Non-Null Count  Dtype  \n",
      "---  ------    --------------  -----  \n",
      " 0   track_id  71768 non-null  object \n",
      " 1   dttm      71768 non-null  float64\n",
      " 2   title     71768 non-null  object \n",
      " 3   language  21969 non-null  object \n",
      " 4   isrc      71455 non-null  object \n",
      " 5   genres    71768 non-null  object \n",
      " 6   duration  71768 non-null  float64\n",
      "dtypes: float64(2), object(5)\n",
      "memory usage: 3.8+ MB\n"
     ]
    },
    {
     "data": {
      "text/html": [
       "<div>\n",
       "<style scoped>\n",
       "    .dataframe tbody tr th:only-of-type {\n",
       "        vertical-align: middle;\n",
       "    }\n",
       "\n",
       "    .dataframe tbody tr th {\n",
       "        vertical-align: top;\n",
       "    }\n",
       "\n",
       "    .dataframe thead th {\n",
       "        text-align: right;\n",
       "    }\n",
       "</style>\n",
       "<table border=\"1\" class=\"dataframe\">\n",
       "  <thead>\n",
       "    <tr style=\"text-align: right;\">\n",
       "      <th></th>\n",
       "      <th>track_id</th>\n",
       "      <th>dttm</th>\n",
       "      <th>title</th>\n",
       "      <th>language</th>\n",
       "      <th>isrc</th>\n",
       "      <th>genres</th>\n",
       "      <th>duration</th>\n",
       "    </tr>\n",
       "  </thead>\n",
       "  <tbody>\n",
       "    <tr>\n",
       "      <th>25016</th>\n",
       "      <td>416e20724e2848b8e92e9583bb5d3c79</td>\n",
       "      <td>1.623876e+12</td>\n",
       "      <td>The Kids Aren't Alright</td>\n",
       "      <td>None</td>\n",
       "      <td>QZHZ52183036</td>\n",
       "      <td>[ROCK, ALLROCK]</td>\n",
       "      <td>186300.0</td>\n",
       "    </tr>\n",
       "  </tbody>\n",
       "</table>\n",
       "</div>"
      ],
      "text/plain": [
       "                               track_id          dttm  \\\n",
       "25016  416e20724e2848b8e92e9583bb5d3c79  1.623876e+12   \n",
       "\n",
       "                         title language          isrc           genres  \\\n",
       "25016  The Kids Aren't Alright     None  QZHZ52183036  [ROCK, ALLROCK]   \n",
       "\n",
       "       duration  \n",
       "25016  186300.0  "
      ]
     },
     "metadata": {},
     "output_type": "display_data"
    },
    {
     "name": "stdout",
     "output_type": "stream",
     "text": [
      "явные повторы строк: 0\n"
     ]
    },
    {
     "data": {
      "text/plain": [
       "'количество уникальных записей:'"
      ]
     },
     "metadata": {},
     "output_type": "display_data"
    },
    {
     "data": {
      "text/plain": [
       "track_id    71768\n",
       "dttm        27726\n",
       "title       45462\n",
       "language       85\n",
       "isrc        71283\n",
       "duration    23597\n",
       "dtype: int64"
      ]
     },
     "metadata": {},
     "output_type": "display_data"
    },
    {
     "data": {
      "text/plain": [
       "'список представленных стран:'"
      ]
     },
     "metadata": {},
     "output_type": "display_data"
    },
    {
     "data": {
      "text/plain": [
       "array(['EN', None, 'ES', 'HI', 'DE', 'RU', 'TR', 'HU', 'TH', 'PL', 'FR',\n",
       "       'NY', 'AF', 'AS', 'UZ', 'HT', 'EL', 'AZ', 'IT', 'PA', 'PT', 'TA',\n",
       "       'JA', 'ML', 'VI', 'ID', 'LA', 'CS', 'SI', 'UK', 'OR', 'HR', 'AR',\n",
       "       'KK', 'FI', 'IE', 'ZH', 'AB', 'KN', 'FA', 'BN', 'TL', 'SK', 'KS',\n",
       "       'SV', 'RO', 'TN', 'KO', 'MS', 'BM', 'HY', 'TW', 'MY', 'CA', 'NL',\n",
       "       'ET', 'TE', 'MN', 'HE', 'SQ', 'IG', 'MR', 'BE', 'LT', 'UR', 'IA',\n",
       "       'GN', 'SW', 'NO', 'GU', 'KY', 'KU', 'IS', 'TG', 'SR', 'DA', 'LO',\n",
       "       'LV', 'SE', 'WO', 'SA', 'YO', 'ST', 'HA', 'AV', 'IU'], dtype=object)"
      ]
     },
     "metadata": {},
     "output_type": "display_data"
    }
   ],
   "source": [
    "meta.info()\n",
    "display(meta.sample()) #genres - list\n",
    "print('явные повторы строк:', meta[['track_id', 'dttm', 'title', 'language', 'isrc', 'duration']].duplicated().sum())\n",
    "display('количество уникальных записей:', meta[['track_id', 'dttm', 'title', 'language', 'isrc', 'duration']].nunique())\n",
    "display('список представленных стран:', meta['language'].unique())"
   ]
  },
  {
   "cell_type": "code",
   "execution_count": null,
   "id": "72885f31-6c6e-4077-b6c7-3947dec16a2b",
   "metadata": {
    "id": "72885f31-6c6e-4077-b6c7-3947dec16a2b"
   },
   "outputs": [],
   "source": [
    "# from datetime import datetime\n",
    "\n",
    "# unix_timestamp1 = 1.555760e+12\n",
    "# unix_timestamp2 = 1.626110e+12\n",
    "\n",
    "# # Преобразование временной метки в объект datetime\n",
    "# dt1 = datetime.fromtimestamp(unix_timestamp1 / 1000) #2019-04-20 14:33:20\n",
    "# dt2 = datetime.fromtimestamp(unix_timestamp2 / 1000) #2021-07-12 20:13:20\n",
    "\n",
    "# print(dt1 < dt2) #True\n",
    "# unix_timestamp1 < unix_timestamp2 #True"
   ]
  },
  {
   "cell_type": "markdown",
   "id": "90b01dc8-bfea-498d-9521-69febad623dc",
   "metadata": {
    "id": "90b01dc8-bfea-498d-9521-69febad623dc"
   },
   "source": [
    "Выводы:\n",
    "- явных повторов строк не обнаружено\n",
    "- количество стран в колонке `language` - 85\n",
    "- информация о странах внесена менее, чем в 30% записей\n",
    "- все `track_id` уникальны\n",
    "- даты представлены в unix формате\n",
    "- можно удалить признаки:\n",
    "  - `duration` - не несёт важной информации, т.к. продолжительность кавера может отличаться от исходника\n",
    "  - `genres` - не несёт важной информации, т.к. жанр кавера может отличаться от исходника\n",
    "  - `isrc` - не несёт важной информации, т.к. имеется признак `track_id`, а ещё в нём есть пропуски"
   ]
  },
  {
   "cell_type": "markdown",
   "id": "75f1c50f-e907-4398-be6a-d23fa7fd3d8f",
   "metadata": {
    "id": "75f1c50f-e907-4398-be6a-d23fa7fd3d8f"
   },
   "source": [
    "### Датафрейм `covers`"
   ]
  },
  {
   "cell_type": "code",
   "execution_count": 8,
   "id": "e215f30d-7a23-4683-a185-dc69e4464912",
   "metadata": {
    "colab": {
     "base_uri": "https://localhost:8080/",
     "height": 377
    },
    "id": "e215f30d-7a23-4683-a185-dc69e4464912",
    "outputId": "5c5d1cc9-45d1-4bf0-ab54-49ee56d85afe"
   },
   "outputs": [
    {
     "name": "stdout",
     "output_type": "stream",
     "text": [
      "<class 'pandas.core.frame.DataFrame'>\n",
      "RangeIndex: 71597 entries, 0 to 71596\n",
      "Data columns (total 3 columns):\n",
      " #   Column             Non-Null Count  Dtype \n",
      "---  ------             --------------  ----- \n",
      " 0   original_track_id  4821 non-null   object\n",
      " 1   track_id           71597 non-null  object\n",
      " 2   track_remake_type  71597 non-null  object\n",
      "dtypes: object(3)\n",
      "memory usage: 1.6+ MB\n"
     ]
    },
    {
     "data": {
      "text/html": [
       "<div>\n",
       "<style scoped>\n",
       "    .dataframe tbody tr th:only-of-type {\n",
       "        vertical-align: middle;\n",
       "    }\n",
       "\n",
       "    .dataframe tbody tr th {\n",
       "        vertical-align: top;\n",
       "    }\n",
       "\n",
       "    .dataframe thead th {\n",
       "        text-align: right;\n",
       "    }\n",
       "</style>\n",
       "<table border=\"1\" class=\"dataframe\">\n",
       "  <thead>\n",
       "    <tr style=\"text-align: right;\">\n",
       "      <th></th>\n",
       "      <th>original_track_id</th>\n",
       "      <th>track_id</th>\n",
       "      <th>track_remake_type</th>\n",
       "    </tr>\n",
       "  </thead>\n",
       "  <tbody>\n",
       "    <tr>\n",
       "      <th>54987</th>\n",
       "      <td>None</td>\n",
       "      <td>046233b0a4583c0eac256374c550cf8b</td>\n",
       "      <td>COVER</td>\n",
       "    </tr>\n",
       "  </tbody>\n",
       "</table>\n",
       "</div>"
      ],
      "text/plain": [
       "      original_track_id                          track_id track_remake_type\n",
       "54987              None  046233b0a4583c0eac256374c550cf8b             COVER"
      ]
     },
     "metadata": {},
     "output_type": "display_data"
    },
    {
     "name": "stdout",
     "output_type": "stream",
     "text": [
      "явные повторы строк: 0\n"
     ]
    },
    {
     "data": {
      "text/plain": [
       "'количество уникальных записей:'"
      ]
     },
     "metadata": {},
     "output_type": "display_data"
    },
    {
     "data": {
      "text/plain": [
       "original_track_id     4468\n",
       "track_id             71597\n",
       "track_remake_type        2\n",
       "dtype: int64"
      ]
     },
     "metadata": {},
     "output_type": "display_data"
    },
    {
     "name": "stdout",
     "output_type": "stream",
     "text": [
      "оригинальных треков указано: 6.73 % записей\n"
     ]
    }
   ],
   "source": [
    "covers.info()\n",
    "display(covers.sample())\n",
    "print('явные повторы строк:', covers.duplicated().sum())\n",
    "display('количество уникальных записей:', covers.nunique())\n",
    "print('оригинальных треков указано:', round(covers['original_track_id'].count() / covers['track_id'].count() * 100, 2), '% записей')"
   ]
  },
  {
   "cell_type": "code",
   "execution_count": 9,
   "id": "626e58ae-db38-4a62-854a-43ad3e00b9dc",
   "metadata": {
    "colab": {
     "base_uri": "https://localhost:8080/"
    },
    "id": "626e58ae-db38-4a62-854a-43ad3e00b9dc",
    "outputId": "226dced3-25f3-4482-fbb5-06bac02012d7"
   },
   "outputs": [
    {
     "name": "stdout",
     "output_type": "stream",
     "text": [
      "<class 'pandas.core.frame.DataFrame'>\n",
      "RangeIndex: 71597 entries, 0 to 71596\n",
      "Data columns (total 3 columns):\n",
      " #   Column             Non-Null Count  Dtype \n",
      "---  ------             --------------  ----- \n",
      " 0   original_track_id  4821 non-null   object\n",
      " 1   track_id           71597 non-null  object\n",
      " 2   track_remake_type  71597 non-null  object\n",
      "dtypes: object(3)\n",
      "memory usage: 1.6+ MB\n"
     ]
    }
   ],
   "source": [
    "# удаление пропусков в целевом признаке\n",
    "filled_data = covers.dropna(subset=['track_remake_type'])\n",
    "filled_data.info()"
   ]
  },
  {
   "cell_type": "markdown",
   "id": "a2a6e9f6-f1f6-4d85-9615-efac2545bf4c",
   "metadata": {
    "id": "a2a6e9f6-f1f6-4d85-9615-efac2545bf4c"
   },
   "source": [
    "Выводы:\n",
    "- явных повторов строк не обнаружено\n",
    "- количество указанных оригинальных треков - 6.73 % от общего числа треков\n",
    "- удалены пропуски в целевом признаке"
   ]
  },
  {
   "cell_type": "markdown",
   "id": "45362bf8-c277-4280-a3b6-a6ff09114d25",
   "metadata": {
    "id": "45362bf8-c277-4280-a3b6-a6ff09114d25"
   },
   "source": [
    "### Объединение датафреймов"
   ]
  },
  {
   "cell_type": "code",
   "execution_count": 10,
   "id": "bd515337-ed4d-4cef-bb91-dea9c778f7ed",
   "metadata": {
    "colab": {
     "base_uri": "https://localhost:8080/"
    },
    "id": "bd515337-ed4d-4cef-bb91-dea9c778f7ed",
    "outputId": "2ef29d3d-d66c-4557-8e8d-e57872805170"
   },
   "outputs": [
    {
     "data": {
      "text/plain": [
       "(3599, 5)"
      ]
     },
     "execution_count": 10,
     "metadata": {},
     "output_type": "execute_result"
    }
   ],
   "source": [
    "cover_lyric = (filled_data\n",
    "               .merge(lyrics, on='track_id', how='left')\n",
    "               .merge(meta[['track_id', 'dttm']], on='track_id', how='left')\n",
    "              ) # объединение по левой таблице\n",
    "cover_lyric_wona = cover_lyric.dropna(subset=['text', 'original_track_id']).reset_index(drop=True) # удаление пропусков\n",
    "cover_lyric_wona = cover_lyric_wona.drop(['lyricId'], axis=1) # удаление колонки lyricId\n",
    "\n",
    "cover_lyric_wona.shape"
   ]
  },
  {
   "cell_type": "markdown",
   "id": "9173601d-aded-4a4d-b55c-54b793d65295",
   "metadata": {},
   "source": [
    "Выводы:\n",
    "- к основному датафрейму присоединены дополнительные\n",
    "- из объединённого датафрейма удалены пропуски и ненужные признаки\n",
    "- в данных осталось 3599 записей"
   ]
  },
  {
   "cell_type": "markdown",
   "id": "e334881b-ff28-44aa-8993-6088a3d70c8c",
   "metadata": {
    "id": "e334881b-ff28-44aa-8993-6088a3d70c8c"
   },
   "source": [
    "### Кодирование текстов"
   ]
  },
  {
   "cell_type": "code",
   "execution_count": 11,
   "id": "0232487d-d18b-4c6c-a838-5d4c99bb83b9",
   "metadata": {
    "colab": {
     "base_uri": "https://localhost:8080/"
    },
    "id": "0232487d-d18b-4c6c-a838-5d4c99bb83b9",
    "outputId": "8dee77a0-3d89-428b-b227-6fb3f7c2859b"
   },
   "outputs": [
    {
     "data": {
      "text/plain": [
       "(3599, 384)"
      ]
     },
     "execution_count": 11,
     "metadata": {},
     "output_type": "execute_result"
    }
   ],
   "source": [
    "sentences = np.array(cover_lyric_wona['text'])\n",
    "\n",
    "model = SentenceTransformer('all-MiniLM-L6-v2')  # new\n",
    "# model = SentenceTransformer('sentence-transformers/LaBSE')  # old\n",
    "\n",
    "sentence_embeddings = model.encode(sentences)\n",
    "sentence_embeddings.shape"
   ]
  },
  {
   "cell_type": "markdown",
   "id": "00550afa-3a6d-4317-b066-d6d266308062",
   "metadata": {},
   "source": [
    "Вывод:\n",
    "- тексты переведены в векторы при помощи `SentenceTransformer`"
   ]
  },
  {
   "cell_type": "markdown",
   "id": "f8AOFrgKRAxf",
   "metadata": {
    "id": "f8AOFrgKRAxf"
   },
   "source": [
    "Соединение закодированных текстов с исходными данными"
   ]
  },
  {
   "cell_type": "code",
   "execution_count": 12,
   "id": "vXqXdq0uRJdr",
   "metadata": {
    "colab": {
     "base_uri": "https://localhost:8080/",
     "height": 551
    },
    "id": "vXqXdq0uRJdr",
    "outputId": "024b882d-ceb5-47a2-83ef-797231f72c78"
   },
   "outputs": [
    {
     "data": {
      "text/html": [
       "<div>\n",
       "<style scoped>\n",
       "    .dataframe tbody tr th:only-of-type {\n",
       "        vertical-align: middle;\n",
       "    }\n",
       "\n",
       "    .dataframe tbody tr th {\n",
       "        vertical-align: top;\n",
       "    }\n",
       "\n",
       "    .dataframe thead th {\n",
       "        text-align: right;\n",
       "    }\n",
       "</style>\n",
       "<table border=\"1\" class=\"dataframe\">\n",
       "  <thead>\n",
       "    <tr style=\"text-align: right;\">\n",
       "      <th></th>\n",
       "      <th>original_track_id</th>\n",
       "      <th>track_id</th>\n",
       "      <th>track_remake_type</th>\n",
       "      <th>text</th>\n",
       "      <th>dttm</th>\n",
       "      <th>0</th>\n",
       "      <th>1</th>\n",
       "      <th>2</th>\n",
       "      <th>3</th>\n",
       "      <th>4</th>\n",
       "      <th>...</th>\n",
       "      <th>374</th>\n",
       "      <th>375</th>\n",
       "      <th>376</th>\n",
       "      <th>377</th>\n",
       "      <th>378</th>\n",
       "      <th>379</th>\n",
       "      <th>380</th>\n",
       "      <th>381</th>\n",
       "      <th>382</th>\n",
       "      <th>383</th>\n",
       "    </tr>\n",
       "  </thead>\n",
       "  <tbody>\n",
       "    <tr>\n",
       "      <th>0</th>\n",
       "      <td>eeb69a3cb92300456b6a5f4162093851</td>\n",
       "      <td>eeb69a3cb92300456b6a5f4162093851</td>\n",
       "      <td>ORIGINAL</td>\n",
       "      <td>Left a good job in the city\\nWorkin' for the m...</td>\n",
       "      <td>1.257973e+12</td>\n",
       "      <td>-0.036484</td>\n",
       "      <td>-0.010698</td>\n",
       "      <td>0.029330</td>\n",
       "      <td>-0.011374</td>\n",
       "      <td>-0.033324</td>\n",
       "      <td>...</td>\n",
       "      <td>0.098189</td>\n",
       "      <td>-0.027797</td>\n",
       "      <td>0.002791</td>\n",
       "      <td>0.039005</td>\n",
       "      <td>-0.001801</td>\n",
       "      <td>0.005720</td>\n",
       "      <td>-0.031388</td>\n",
       "      <td>0.068490</td>\n",
       "      <td>0.019620</td>\n",
       "      <td>-0.073913</td>\n",
       "    </tr>\n",
       "    <tr>\n",
       "      <th>1</th>\n",
       "      <td>eeb69a3cb92300456b6a5f4162093851</td>\n",
       "      <td>eeb69a3cb92300456b6a5f4162093851</td>\n",
       "      <td>ORIGINAL</td>\n",
       "      <td>Left a good job in the city\\nWorkin' for the m...</td>\n",
       "      <td>1.257973e+12</td>\n",
       "      <td>-0.031461</td>\n",
       "      <td>-0.019154</td>\n",
       "      <td>0.035092</td>\n",
       "      <td>-0.018275</td>\n",
       "      <td>-0.034330</td>\n",
       "      <td>...</td>\n",
       "      <td>0.098580</td>\n",
       "      <td>-0.021681</td>\n",
       "      <td>0.002494</td>\n",
       "      <td>0.030693</td>\n",
       "      <td>-0.006861</td>\n",
       "      <td>0.007400</td>\n",
       "      <td>-0.035143</td>\n",
       "      <td>0.060066</td>\n",
       "      <td>0.027317</td>\n",
       "      <td>-0.070681</td>\n",
       "    </tr>\n",
       "    <tr>\n",
       "      <th>2</th>\n",
       "      <td>fe7ee8fc1959cc7214fa21c4840dff0a</td>\n",
       "      <td>fe7ee8fc1959cc7214fa21c4840dff0a</td>\n",
       "      <td>ORIGINAL</td>\n",
       "      <td>Some folks are born made to wave the flag\\nOoh...</td>\n",
       "      <td>1.257973e+12</td>\n",
       "      <td>-0.053880</td>\n",
       "      <td>0.012169</td>\n",
       "      <td>0.019933</td>\n",
       "      <td>-0.073982</td>\n",
       "      <td>-0.022932</td>\n",
       "      <td>...</td>\n",
       "      <td>0.032407</td>\n",
       "      <td>-0.043861</td>\n",
       "      <td>0.029677</td>\n",
       "      <td>0.077275</td>\n",
       "      <td>0.032256</td>\n",
       "      <td>-0.025936</td>\n",
       "      <td>0.044958</td>\n",
       "      <td>-0.008292</td>\n",
       "      <td>0.023528</td>\n",
       "      <td>-0.085016</td>\n",
       "    </tr>\n",
       "    <tr>\n",
       "      <th>3</th>\n",
       "      <td>cd89fef7ffdd490db800357f47722b20</td>\n",
       "      <td>cd89fef7ffdd490db800357f47722b20</td>\n",
       "      <td>ORIGINAL</td>\n",
       "      <td>Uno por pobre y feo, hombre\\nPero antoja'o, ay...</td>\n",
       "      <td>1.253563e+12</td>\n",
       "      <td>-0.080533</td>\n",
       "      <td>0.020840</td>\n",
       "      <td>0.062667</td>\n",
       "      <td>-0.047301</td>\n",
       "      <td>0.036674</td>\n",
       "      <td>...</td>\n",
       "      <td>-0.028124</td>\n",
       "      <td>-0.088308</td>\n",
       "      <td>0.096382</td>\n",
       "      <td>0.048526</td>\n",
       "      <td>-0.036241</td>\n",
       "      <td>0.010646</td>\n",
       "      <td>0.094440</td>\n",
       "      <td>0.083824</td>\n",
       "      <td>-0.027932</td>\n",
       "      <td>-0.106751</td>\n",
       "    </tr>\n",
       "    <tr>\n",
       "      <th>4</th>\n",
       "      <td>995665640dc319973d3173a74a03860c</td>\n",
       "      <td>995665640dc319973d3173a74a03860c</td>\n",
       "      <td>ORIGINAL</td>\n",
       "      <td>Yeah!... yeah!... remember the time, baby... y...</td>\n",
       "      <td>1.258405e+12</td>\n",
       "      <td>-0.112342</td>\n",
       "      <td>0.004634</td>\n",
       "      <td>0.046857</td>\n",
       "      <td>-0.000905</td>\n",
       "      <td>0.012664</td>\n",
       "      <td>...</td>\n",
       "      <td>0.106143</td>\n",
       "      <td>-0.036825</td>\n",
       "      <td>0.032805</td>\n",
       "      <td>0.052460</td>\n",
       "      <td>0.039913</td>\n",
       "      <td>0.011443</td>\n",
       "      <td>-0.006147</td>\n",
       "      <td>0.010955</td>\n",
       "      <td>0.059665</td>\n",
       "      <td>-0.152829</td>\n",
       "    </tr>\n",
       "  </tbody>\n",
       "</table>\n",
       "<p>5 rows × 389 columns</p>\n",
       "</div>"
      ],
      "text/plain": [
       "                  original_track_id                          track_id  \\\n",
       "0  eeb69a3cb92300456b6a5f4162093851  eeb69a3cb92300456b6a5f4162093851   \n",
       "1  eeb69a3cb92300456b6a5f4162093851  eeb69a3cb92300456b6a5f4162093851   \n",
       "2  fe7ee8fc1959cc7214fa21c4840dff0a  fe7ee8fc1959cc7214fa21c4840dff0a   \n",
       "3  cd89fef7ffdd490db800357f47722b20  cd89fef7ffdd490db800357f47722b20   \n",
       "4  995665640dc319973d3173a74a03860c  995665640dc319973d3173a74a03860c   \n",
       "\n",
       "  track_remake_type                                               text  \\\n",
       "0          ORIGINAL  Left a good job in the city\\nWorkin' for the m...   \n",
       "1          ORIGINAL  Left a good job in the city\\nWorkin' for the m...   \n",
       "2          ORIGINAL  Some folks are born made to wave the flag\\nOoh...   \n",
       "3          ORIGINAL  Uno por pobre y feo, hombre\\nPero antoja'o, ay...   \n",
       "4          ORIGINAL  Yeah!... yeah!... remember the time, baby... y...   \n",
       "\n",
       "           dttm         0         1         2         3         4  ...  \\\n",
       "0  1.257973e+12 -0.036484 -0.010698  0.029330 -0.011374 -0.033324  ...   \n",
       "1  1.257973e+12 -0.031461 -0.019154  0.035092 -0.018275 -0.034330  ...   \n",
       "2  1.257973e+12 -0.053880  0.012169  0.019933 -0.073982 -0.022932  ...   \n",
       "3  1.253563e+12 -0.080533  0.020840  0.062667 -0.047301  0.036674  ...   \n",
       "4  1.258405e+12 -0.112342  0.004634  0.046857 -0.000905  0.012664  ...   \n",
       "\n",
       "        374       375       376       377       378       379       380  \\\n",
       "0  0.098189 -0.027797  0.002791  0.039005 -0.001801  0.005720 -0.031388   \n",
       "1  0.098580 -0.021681  0.002494  0.030693 -0.006861  0.007400 -0.035143   \n",
       "2  0.032407 -0.043861  0.029677  0.077275  0.032256 -0.025936  0.044958   \n",
       "3 -0.028124 -0.088308  0.096382  0.048526 -0.036241  0.010646  0.094440   \n",
       "4  0.106143 -0.036825  0.032805  0.052460  0.039913  0.011443 -0.006147   \n",
       "\n",
       "        381       382       383  \n",
       "0  0.068490  0.019620 -0.073913  \n",
       "1  0.060066  0.027317 -0.070681  \n",
       "2 -0.008292  0.023528 -0.085016  \n",
       "3  0.083824 -0.027932 -0.106751  \n",
       "4  0.010955  0.059665 -0.152829  \n",
       "\n",
       "[5 rows x 389 columns]"
      ]
     },
     "execution_count": 12,
     "metadata": {},
     "output_type": "execute_result"
    }
   ],
   "source": [
    "df_work = cover_lyric_wona.copy()\n",
    "df_work = df_work.join(pd.DataFrame(sentence_embeddings), how='left')\n",
    "df_work.head()"
   ]
  },
  {
   "cell_type": "markdown",
   "id": "95815581-a5b5-45b3-a153-b2bbcef573bd",
   "metadata": {},
   "source": [
    "Вывод:\n",
    "- к датафрейму присоединены векторные значения текстов"
   ]
  },
  {
   "cell_type": "markdown",
   "id": "XhjAQKCAccCz",
   "metadata": {
    "id": "XhjAQKCAccCz"
   },
   "source": [
    "### Подготовка к обучению"
   ]
  },
  {
   "cell_type": "code",
   "execution_count": 13,
   "id": "5HB0rpUwhbxW",
   "metadata": {
    "colab": {
     "base_uri": "https://localhost:8080/"
    },
    "id": "5HB0rpUwhbxW",
    "outputId": "a63b6bfd-768b-4208-e8be-87fcc5a6a55f"
   },
   "outputs": [
    {
     "data": {
      "text/plain": [
       "('соотношение классов:', 0.12)"
      ]
     },
     "execution_count": 13,
     "metadata": {},
     "output_type": "execute_result"
    }
   ],
   "source": [
    "'соотношение классов:', round(df_work['track_remake_type'].value_counts()[1] / df_work['track_remake_type'].value_counts()[0], 2)"
   ]
  },
  {
   "cell_type": "markdown",
   "id": "72bd5433-9f55-483b-9896-0206b8773a60",
   "metadata": {},
   "source": [
    "Вывод:\n",
    "- в данных наблюдается значительный дисбаланс классов\n",
    "- при разделении на выборки применим параметр `stratify`"
   ]
  },
  {
   "cell_type": "code",
   "execution_count": 14,
   "id": "l4GbjiOCUTb8",
   "metadata": {
    "colab": {
     "base_uri": "https://localhost:8080/"
    },
    "id": "l4GbjiOCUTb8",
    "outputId": "e36c3fc9-8fd1-4437-8080-acac2660c1eb"
   },
   "outputs": [
    {
     "data": {
      "text/plain": [
       "((2879, 385), (720, 385), (2879,), (720,))"
      ]
     },
     "execution_count": 14,
     "metadata": {},
     "output_type": "execute_result"
    }
   ],
   "source": [
    "df_tr = df_work.copy()\n",
    "X = df_tr.drop(['original_track_id', 'track_id', 'track_remake_type', 'text'], axis=1)\n",
    "y = df_tr['track_remake_type']\n",
    "y = (y != 'ORIGINAL').astype(int)\n",
    "\n",
    "X_train, X_test, y_train, y_test = train_test_split(X, y,\n",
    "                                                    test_size=0.2,\n",
    "                                                    random_state=RS,\n",
    "                                                    stratify=y)\n",
    "X_train.shape, X_test.shape, y_train.shape, y_test.shape"
   ]
  },
  {
   "cell_type": "markdown",
   "id": "931c97eb-d7eb-48de-bad9-4d5a1106fa99",
   "metadata": {},
   "source": [
    "Вывод:\n",
    "- данные разделены на выборки с учётом дисбаланса классов"
   ]
  },
  {
   "cell_type": "markdown",
   "id": "IlN-pl3AhwmA",
   "metadata": {
    "id": "IlN-pl3AhwmA"
   },
   "source": [
    "## Model"
   ]
  },
  {
   "cell_type": "code",
   "execution_count": 15,
   "id": "zQvlnN_akjip",
   "metadata": {
    "id": "zQvlnN_akjip"
   },
   "outputs": [],
   "source": [
    "# Определение функции оценки F1-меры\n",
    "def f1_eval(preds, dtrain):\n",
    "    labels = dtrain.get_label()\n",
    "    preds_binary = [1 if p >= 0.5 else 0 for p in preds]\n",
    "    return 'f1', f1_score(labels, preds_binary)"
   ]
  },
  {
   "cell_type": "code",
   "execution_count": 16,
   "id": "9bIsfoeNT1Hq",
   "metadata": {
    "colab": {
     "base_uri": "https://localhost:8080/"
    },
    "id": "9bIsfoeNT1Hq",
    "outputId": "27ef7941-f784-48e2-9c35-b74dd52f2914"
   },
   "outputs": [
    {
     "name": "stdout",
     "output_type": "stream",
     "text": [
      "F1-мера: 0.6356589147286822\n"
     ]
    }
   ],
   "source": [
    "# Параметры модели\n",
    "params = {\n",
    "    'objective':'binary:logistic',\n",
    "    'eval_metric': 'logloss', #f1_eval,  # Использование своей функции оценки F1-меры\n",
    "    'n_estimators': 2,\n",
    "    'max_depth': 2,\n",
    "    'learning_rate': 0.5\n",
    "}\n",
    "\n",
    "# Преобразование данных в формат DMatrix\n",
    "dtrain = xgboost.DMatrix(X_train, label=y_train)\n",
    "dtest = xgboost.DMatrix(X_test, label=y_test)\n",
    "\n",
    "# Обучение модели\n",
    "model = xgboost.train(params, dtrain, num_boost_round=100)\n",
    "\n",
    "# Прогнозирование на тестовом наборе данных\n",
    "y_pred = model.predict(dtest)\n",
    "y_pred_binary = [1 if p >= 0.5 else 0 for p in y_pred]\n",
    "\n",
    "# Вычисление F1-меры\n",
    "f1 = f1_score(y_test, y_pred_binary)\n",
    "print(\"F1-мера:\", f1)"
   ]
  },
  {
   "cell_type": "markdown",
   "id": "2f5caadb-cf2c-47b7-8ba5-6bfc4459fa78",
   "metadata": {
    "id": "Z4kITu0aT5HL"
   },
   "source": [
    "Вывод:\n",
    "- при обучении `XGBoost` получено значение `f1 = 0.636`"
   ]
  },
  {
   "cell_type": "code",
   "execution_count": null,
   "id": "5Iec5HzGT5DN",
   "metadata": {
    "id": "5Iec5HzGT5DN"
   },
   "outputs": [],
   "source": []
  },
  {
   "cell_type": "code",
   "execution_count": null,
   "id": "7Z6_2YmtT4_9",
   "metadata": {
    "id": "7Z6_2YmtT4_9"
   },
   "outputs": [],
   "source": []
  },
  {
   "cell_type": "code",
   "execution_count": null,
   "id": "zdrr6nc0T48r",
   "metadata": {
    "id": "zdrr6nc0T48r"
   },
   "outputs": [],
   "source": []
  },
  {
   "cell_type": "code",
   "execution_count": null,
   "id": "xvxq_5qQT4z1",
   "metadata": {
    "id": "xvxq_5qQT4z1"
   },
   "outputs": [],
   "source": []
  },
  {
   "cell_type": "code",
   "execution_count": null,
   "id": "qUwt10YOT4mH",
   "metadata": {
    "id": "qUwt10YOT4mH"
   },
   "outputs": [],
   "source": []
  }
 ],
 "metadata": {
  "accelerator": "TPU",
  "colab": {
   "provenance": [],
   "toc_visible": true
  },
  "kernelspec": {
   "display_name": "Python 3 (ipykernel)",
   "language": "python",
   "name": "python3"
  },
  "language_info": {
   "codemirror_mode": {
    "name": "ipython",
    "version": 3
   },
   "file_extension": ".py",
   "mimetype": "text/x-python",
   "name": "python",
   "nbconvert_exporter": "python",
   "pygments_lexer": "ipython3",
   "version": "3.10.12"
  }
 },
 "nbformat": 4,
 "nbformat_minor": 5
}
