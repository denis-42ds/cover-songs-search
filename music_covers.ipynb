{
  "cells": [
    {
      "cell_type": "markdown",
      "id": "cfd1cad8-4de2-4ebd-8004-a39c04f6e984",
      "metadata": {
        "id": "cfd1cad8-4de2-4ebd-8004-a39c04f6e984"
      },
      "source": [
        "# Поиск каверов композиций\n",
        "<br>Разработка ML-модели для сопоставления текстов музыкальных произведений и для поиска каверов (вариации обработки оригинала с элементами новой аранжировки) по их текстам\n",
        "\n",
        "<br>**Описание проекта**\n",
        "<br>Обнаружение треков каверов - важная продуктовая задача, которая может значительно улучшить качество рекомендаций музыкального сервиса и повысить счастье наших пользователей.\n",
        "<br>Если мы умеем с высокой точностью классифицировать каверы и связывать их между собой, то можно предложить пользователю новые возможности для управления потоком треков.\n",
        "<br>Например:\n",
        "- по желанию пользователя можем полностью исключить каверы из рекомендаций;\n",
        "- показать все каверы на любимый трек пользователя;\n",
        "- контролировать долю каверов в ленте пользователя.\n",
        "\n",
        "<br>**Цель проекта**\n",
        "<br>Необходимо разработать ML-продукт, который:\n",
        "- классифицирует треки по признаку кавер-некавер;\n",
        "- связывает (группирует) каверы и исходный трек;\n",
        "- находит исходный трек в цепочке каверов.\n",
        "\n",
        "<br>**Описание данных**\n",
        "- Файл covers.json содержит разметку каверов, сделанную редакторами сервиса:\n",
        "    - track_id - уникальный идентификатор трека;\n",
        "    - track_remake_type - метка, присвоенная редакторами. Может принимать значения ORIGINAL и COVER;\n",
        "    - original_track_id - уникальный идентификатор исходного трека.\n",
        "- Метаинформация:\n",
        "    - track_id - уникальный идентификатор трека;\n",
        "    - dttm - первая дата появления информации о треке;\n",
        "    - title - название трека;\n",
        "    - language - язык исполнения;\n",
        "    - isrc - международный уникальный идентификатор трека;\n",
        "    - genres - жанры;\n",
        "    - duration - длительность трека.\n",
        "- Текст песен:\n",
        "    - track_id - уникальный идентификатор трека;\n",
        "    - lyricId - уникальный идентификатор текста;\n",
        "    - text - текст трека.\n",
        "\n",
        "<br>**Целевые метрики**\n",
        "\n",
        "1. ROC-AUC (Receiver Operating Characteristic - Area Under the Curve) является метрикой, которая оценивает качество бинарной классификации, учитывая полноту (True Positive Rate) и специфичность (True Negative Rate) модели. ROC-AUC измеряет способность модели различать между классами и представляет площадь под кривой ROC. ROC-AUC особенно полезна, когда важно контролировать баланс между ложно-положительными и ложно-отрицательными предсказаниями. Она также устойчива к несбалансированным классам.\n",
        "2. F1-мера является метрикой, которая оценивает точность и полноту модели для бинарной классификации. F1-мера является гармоническим средним между точностью (precision) и полнотой (recall). Она особенно полезна, когда важно достичь баланса между точностью и полнотой. F1-мера хорошо работает, когда классы сбалансированы или когда важно минимизировать как ложно-положительные, так и ложно-отрицательные предсказания."
      ]
    },
    {
      "cell_type": "markdown",
      "id": "c24c22f6-ab59-468f-83dd-c91e4205c98e",
      "metadata": {
        "id": "c24c22f6-ab59-468f-83dd-c91e4205c98e"
      },
      "source": [
        "## Импорт библиотек"
      ]
    },
    {
      "cell_type": "code",
      "execution_count": 5,
      "id": "3e7ec4b4-cb5d-4c1f-a6d7-81866d50e96a",
      "metadata": {
        "id": "3e7ec4b4-cb5d-4c1f-a6d7-81866d50e96a"
      },
      "outputs": [],
      "source": [
        "# !pip install sentence-transformers #-U\n",
        "# !pip install lyricsgenius\n",
        "# !pip install gensim\n",
        "# !pip install catboost"
      ]
    },
    {
      "cell_type": "code",
      "execution_count": 6,
      "id": "ac1fca84-4981-4c45-8977-adc6b860573f",
      "metadata": {
        "id": "ac1fca84-4981-4c45-8977-adc6b860573f",
        "colab": {
          "base_uri": "https://localhost:8080/"
        },
        "outputId": "ea945480-28ec-4c27-e2fa-5415b0c090e8"
      },
      "outputs": [
        {
          "output_type": "stream",
          "name": "stdout",
          "text": [
            "Drive already mounted at /content/drive; to attempt to forcibly remount, call drive.mount(\"/content/drive\", force_remount=True).\n"
          ]
        }
      ],
      "source": [
        "from google.colab import drive\n",
        "drive.mount('/content/drive')\n",
        "\n",
        "import pandas as pd\n",
        "import numpy as np\n",
        "import matplotlib.pyplot as plt\n",
        "import xgboost\n",
        "import torch\n",
        "import warnings\n",
        "import transformers\n",
        "from sentence_transformers import SentenceTransformer\n",
        "from tqdm import notebook\n",
        "from sklearn.model_selection import train_test_split\n",
        "from sklearn.metrics import f1_score\n",
        "from sklearn.metrics import roc_curve, roc_auc_score\n",
        "from catboost import CatBoostClassifier\n",
        "from sklearn.linear_model import LogisticRegression\n",
        "\n",
        "warnings.filterwarnings('ignore')\n",
        "device = torch.device(\"cuda\" if torch.cuda.is_available() else \"cpu\")"
      ]
    },
    {
      "cell_type": "markdown",
      "id": "d44fd458-64b3-4731-ac7a-594451fb4f68",
      "metadata": {
        "id": "d44fd458-64b3-4731-ac7a-594451fb4f68"
      },
      "source": [
        "Установка констант"
      ]
    },
    {
      "cell_type": "code",
      "execution_count": 7,
      "id": "69b42ac3-3fb6-46a8-84da-2e7b9e8b721b",
      "metadata": {
        "id": "69b42ac3-3fb6-46a8-84da-2e7b9e8b721b"
      },
      "outputs": [],
      "source": [
        "RS = 42 # random state\n",
        "MAX_TOKEN_LEN = 512 # ограничение на максимальную длину токена"
      ]
    },
    {
      "cell_type": "markdown",
      "id": "6a40b046-133f-4358-8a9f-27f986d510a2",
      "metadata": {
        "id": "6a40b046-133f-4358-8a9f-27f986d510a2"
      },
      "source": [
        "## EDA"
      ]
    },
    {
      "cell_type": "markdown",
      "id": "73a0824e-58a1-4ed8-96ad-e0830ef848c6",
      "metadata": {
        "id": "73a0824e-58a1-4ed8-96ad-e0830ef848c6"
      },
      "source": [
        "### Загрузка данных"
      ]
    },
    {
      "cell_type": "code",
      "execution_count": 8,
      "id": "e4a82880-256f-43cf-a413-1e32d500f20a",
      "metadata": {
        "colab": {
          "base_uri": "https://localhost:8080/"
        },
        "id": "e4a82880-256f-43cf-a413-1e32d500f20a",
        "outputId": "a293de48-bf61-4390-982a-cd316b3b302c"
      },
      "outputs": [
        {
          "output_type": "stream",
          "name": "stdout",
          "text": [
            "Drive already mounted at /content/drive; to attempt to forcibly remount, call drive.mount(\"/content/drive\", force_remount=True).\n",
            "загружено из каталога \"Colab Notebooks\"\n"
          ]
        },
        {
          "output_type": "execute_result",
          "data": {
            "text/plain": [
              "((71597, 3), (11414, 3), (71769, 7))"
            ]
          },
          "metadata": {},
          "execution_count": 8
        }
      ],
      "source": [
        "try:\n",
        "    drive.mount('/content/drive')\n",
        "    covers = pd.read_json('./drive/MyDrive/Colab Notebooks/music_covers/covers.json', orient='records', lines=True)\n",
        "    lyrics = pd.read_json('./drive/MyDrive/Colab Notebooks/music_covers/lyrics.json', orient='records', lines=True)\n",
        "    meta = pd.read_json('./drive/MyDrive/Colab Notebooks/music_covers/meta.json', orient='records', lines=True)\n",
        "    print('загружено из каталога \"Colab Notebooks\"')\n",
        "except:\n",
        "    covers = pd.read_json('data/covers.json', orient='records', lines=True)\n",
        "    lyrics = pd.read_json('data/lyrics.json', orient='records', lines=True)\n",
        "    meta = pd.read_json('data/meta.json', orient='records', lines=True)\n",
        "    print('загружено из каталога \"data\"')\n",
        "\n",
        "np.array(covers).shape, np.array(lyrics).shape, np.array(meta).shape"
      ]
    },
    {
      "cell_type": "markdown",
      "id": "53d5b430-adc3-4e9c-8fe0-f03d4e949e26",
      "metadata": {
        "id": "53d5b430-adc3-4e9c-8fe0-f03d4e949e26"
      },
      "source": [
        "### Датафрейм `lyrics`"
      ]
    },
    {
      "cell_type": "code",
      "execution_count": 9,
      "id": "6ce3b0e4-1118-4d03-8a11-73b6f85f6fd3",
      "metadata": {
        "id": "6ce3b0e4-1118-4d03-8a11-73b6f85f6fd3",
        "outputId": "d06a3764-e4a6-4afd-d727-32aa91c0fe6a",
        "colab": {
          "base_uri": "https://localhost:8080/",
          "height": 422
        }
      },
      "outputs": [
        {
          "output_type": "stream",
          "name": "stdout",
          "text": [
            "<class 'pandas.core.frame.DataFrame'>\n",
            "RangeIndex: 11414 entries, 0 to 11413\n",
            "Data columns (total 3 columns):\n",
            " #   Column    Non-Null Count  Dtype \n",
            "---  ------    --------------  ----- \n",
            " 0   lyricId   11414 non-null  object\n",
            " 1   text      11414 non-null  object\n",
            " 2   track_id  11414 non-null  object\n",
            "dtypes: object(3)\n",
            "memory usage: 267.6+ KB\n"
          ]
        },
        {
          "output_type": "display_data",
          "data": {
            "text/plain": [
              "                               lyricId  \\\n",
              "4494  4494eb2387accad8eadcc820b1e0808f   \n",
              "4381  0845faeeb976ab61c9776002db8c8255   \n",
              "7659  d4f48d16618c0051424d62ea9ea785de   \n",
              "\n",
              "                                                   text  \\\n",
              "4494  When i'm with you\\nI'm feeling like the sky's ...   \n",
              "4381  Как будто все что было, я все выдумал\\nТы гово...   \n",
              "7659  Now I see there's things in my way\\nPush it 't...   \n",
              "\n",
              "                              track_id  \n",
              "4494  5178dac1aa69d6ab29975a02f73ec870  \n",
              "4381  a16ace9fa160c23df1f9de2ebd7fd2fc  \n",
              "7659  abf0759fe2124386f25fd96e93be2cad  "
            ],
            "text/html": [
              "\n",
              "  <div id=\"df-e84557cb-436d-4097-bbd5-8fda2366baa6\" class=\"colab-df-container\">\n",
              "    <div>\n",
              "<style scoped>\n",
              "    .dataframe tbody tr th:only-of-type {\n",
              "        vertical-align: middle;\n",
              "    }\n",
              "\n",
              "    .dataframe tbody tr th {\n",
              "        vertical-align: top;\n",
              "    }\n",
              "\n",
              "    .dataframe thead th {\n",
              "        text-align: right;\n",
              "    }\n",
              "</style>\n",
              "<table border=\"1\" class=\"dataframe\">\n",
              "  <thead>\n",
              "    <tr style=\"text-align: right;\">\n",
              "      <th></th>\n",
              "      <th>lyricId</th>\n",
              "      <th>text</th>\n",
              "      <th>track_id</th>\n",
              "    </tr>\n",
              "  </thead>\n",
              "  <tbody>\n",
              "    <tr>\n",
              "      <th>4494</th>\n",
              "      <td>4494eb2387accad8eadcc820b1e0808f</td>\n",
              "      <td>When i'm with you\\nI'm feeling like the sky's ...</td>\n",
              "      <td>5178dac1aa69d6ab29975a02f73ec870</td>\n",
              "    </tr>\n",
              "    <tr>\n",
              "      <th>4381</th>\n",
              "      <td>0845faeeb976ab61c9776002db8c8255</td>\n",
              "      <td>Как будто все что было, я все выдумал\\nТы гово...</td>\n",
              "      <td>a16ace9fa160c23df1f9de2ebd7fd2fc</td>\n",
              "    </tr>\n",
              "    <tr>\n",
              "      <th>7659</th>\n",
              "      <td>d4f48d16618c0051424d62ea9ea785de</td>\n",
              "      <td>Now I see there's things in my way\\nPush it 't...</td>\n",
              "      <td>abf0759fe2124386f25fd96e93be2cad</td>\n",
              "    </tr>\n",
              "  </tbody>\n",
              "</table>\n",
              "</div>\n",
              "    <div class=\"colab-df-buttons\">\n",
              "\n",
              "  <div class=\"colab-df-container\">\n",
              "    <button class=\"colab-df-convert\" onclick=\"convertToInteractive('df-e84557cb-436d-4097-bbd5-8fda2366baa6')\"\n",
              "            title=\"Convert this dataframe to an interactive table.\"\n",
              "            style=\"display:none;\">\n",
              "\n",
              "  <svg xmlns=\"http://www.w3.org/2000/svg\" height=\"24px\" viewBox=\"0 -960 960 960\">\n",
              "    <path d=\"M120-120v-720h720v720H120Zm60-500h600v-160H180v160Zm220 220h160v-160H400v160Zm0 220h160v-160H400v160ZM180-400h160v-160H180v160Zm440 0h160v-160H620v160ZM180-180h160v-160H180v160Zm440 0h160v-160H620v160Z\"/>\n",
              "  </svg>\n",
              "    </button>\n",
              "\n",
              "  <style>\n",
              "    .colab-df-container {\n",
              "      display:flex;\n",
              "      gap: 12px;\n",
              "    }\n",
              "\n",
              "    .colab-df-convert {\n",
              "      background-color: #E8F0FE;\n",
              "      border: none;\n",
              "      border-radius: 50%;\n",
              "      cursor: pointer;\n",
              "      display: none;\n",
              "      fill: #1967D2;\n",
              "      height: 32px;\n",
              "      padding: 0 0 0 0;\n",
              "      width: 32px;\n",
              "    }\n",
              "\n",
              "    .colab-df-convert:hover {\n",
              "      background-color: #E2EBFA;\n",
              "      box-shadow: 0px 1px 2px rgba(60, 64, 67, 0.3), 0px 1px 3px 1px rgba(60, 64, 67, 0.15);\n",
              "      fill: #174EA6;\n",
              "    }\n",
              "\n",
              "    .colab-df-buttons div {\n",
              "      margin-bottom: 4px;\n",
              "    }\n",
              "\n",
              "    [theme=dark] .colab-df-convert {\n",
              "      background-color: #3B4455;\n",
              "      fill: #D2E3FC;\n",
              "    }\n",
              "\n",
              "    [theme=dark] .colab-df-convert:hover {\n",
              "      background-color: #434B5C;\n",
              "      box-shadow: 0px 1px 3px 1px rgba(0, 0, 0, 0.15);\n",
              "      filter: drop-shadow(0px 1px 2px rgba(0, 0, 0, 0.3));\n",
              "      fill: #FFFFFF;\n",
              "    }\n",
              "  </style>\n",
              "\n",
              "    <script>\n",
              "      const buttonEl =\n",
              "        document.querySelector('#df-e84557cb-436d-4097-bbd5-8fda2366baa6 button.colab-df-convert');\n",
              "      buttonEl.style.display =\n",
              "        google.colab.kernel.accessAllowed ? 'block' : 'none';\n",
              "\n",
              "      async function convertToInteractive(key) {\n",
              "        const element = document.querySelector('#df-e84557cb-436d-4097-bbd5-8fda2366baa6');\n",
              "        const dataTable =\n",
              "          await google.colab.kernel.invokeFunction('convertToInteractive',\n",
              "                                                    [key], {});\n",
              "        if (!dataTable) return;\n",
              "\n",
              "        const docLinkHtml = 'Like what you see? Visit the ' +\n",
              "          '<a target=\"_blank\" href=https://colab.research.google.com/notebooks/data_table.ipynb>data table notebook</a>'\n",
              "          + ' to learn more about interactive tables.';\n",
              "        element.innerHTML = '';\n",
              "        dataTable['output_type'] = 'display_data';\n",
              "        await google.colab.output.renderOutput(dataTable, element);\n",
              "        const docLink = document.createElement('div');\n",
              "        docLink.innerHTML = docLinkHtml;\n",
              "        element.appendChild(docLink);\n",
              "      }\n",
              "    </script>\n",
              "  </div>\n",
              "\n",
              "\n",
              "<div id=\"df-e963b172-a63e-48e0-b2f1-3402a4421931\">\n",
              "  <button class=\"colab-df-quickchart\" onclick=\"quickchart('df-e963b172-a63e-48e0-b2f1-3402a4421931')\"\n",
              "            title=\"Suggest charts.\"\n",
              "            style=\"display:none;\">\n",
              "\n",
              "<svg xmlns=\"http://www.w3.org/2000/svg\" height=\"24px\"viewBox=\"0 0 24 24\"\n",
              "     width=\"24px\">\n",
              "    <g>\n",
              "        <path d=\"M19 3H5c-1.1 0-2 .9-2 2v14c0 1.1.9 2 2 2h14c1.1 0 2-.9 2-2V5c0-1.1-.9-2-2-2zM9 17H7v-7h2v7zm4 0h-2V7h2v10zm4 0h-2v-4h2v4z\"/>\n",
              "    </g>\n",
              "</svg>\n",
              "  </button>\n",
              "\n",
              "<style>\n",
              "  .colab-df-quickchart {\n",
              "      --bg-color: #E8F0FE;\n",
              "      --fill-color: #1967D2;\n",
              "      --hover-bg-color: #E2EBFA;\n",
              "      --hover-fill-color: #174EA6;\n",
              "      --disabled-fill-color: #AAA;\n",
              "      --disabled-bg-color: #DDD;\n",
              "  }\n",
              "\n",
              "  [theme=dark] .colab-df-quickchart {\n",
              "      --bg-color: #3B4455;\n",
              "      --fill-color: #D2E3FC;\n",
              "      --hover-bg-color: #434B5C;\n",
              "      --hover-fill-color: #FFFFFF;\n",
              "      --disabled-bg-color: #3B4455;\n",
              "      --disabled-fill-color: #666;\n",
              "  }\n",
              "\n",
              "  .colab-df-quickchart {\n",
              "    background-color: var(--bg-color);\n",
              "    border: none;\n",
              "    border-radius: 50%;\n",
              "    cursor: pointer;\n",
              "    display: none;\n",
              "    fill: var(--fill-color);\n",
              "    height: 32px;\n",
              "    padding: 0;\n",
              "    width: 32px;\n",
              "  }\n",
              "\n",
              "  .colab-df-quickchart:hover {\n",
              "    background-color: var(--hover-bg-color);\n",
              "    box-shadow: 0 1px 2px rgba(60, 64, 67, 0.3), 0 1px 3px 1px rgba(60, 64, 67, 0.15);\n",
              "    fill: var(--button-hover-fill-color);\n",
              "  }\n",
              "\n",
              "  .colab-df-quickchart-complete:disabled,\n",
              "  .colab-df-quickchart-complete:disabled:hover {\n",
              "    background-color: var(--disabled-bg-color);\n",
              "    fill: var(--disabled-fill-color);\n",
              "    box-shadow: none;\n",
              "  }\n",
              "\n",
              "  .colab-df-spinner {\n",
              "    border: 2px solid var(--fill-color);\n",
              "    border-color: transparent;\n",
              "    border-bottom-color: var(--fill-color);\n",
              "    animation:\n",
              "      spin 1s steps(1) infinite;\n",
              "  }\n",
              "\n",
              "  @keyframes spin {\n",
              "    0% {\n",
              "      border-color: transparent;\n",
              "      border-bottom-color: var(--fill-color);\n",
              "      border-left-color: var(--fill-color);\n",
              "    }\n",
              "    20% {\n",
              "      border-color: transparent;\n",
              "      border-left-color: var(--fill-color);\n",
              "      border-top-color: var(--fill-color);\n",
              "    }\n",
              "    30% {\n",
              "      border-color: transparent;\n",
              "      border-left-color: var(--fill-color);\n",
              "      border-top-color: var(--fill-color);\n",
              "      border-right-color: var(--fill-color);\n",
              "    }\n",
              "    40% {\n",
              "      border-color: transparent;\n",
              "      border-right-color: var(--fill-color);\n",
              "      border-top-color: var(--fill-color);\n",
              "    }\n",
              "    60% {\n",
              "      border-color: transparent;\n",
              "      border-right-color: var(--fill-color);\n",
              "    }\n",
              "    80% {\n",
              "      border-color: transparent;\n",
              "      border-right-color: var(--fill-color);\n",
              "      border-bottom-color: var(--fill-color);\n",
              "    }\n",
              "    90% {\n",
              "      border-color: transparent;\n",
              "      border-bottom-color: var(--fill-color);\n",
              "    }\n",
              "  }\n",
              "</style>\n",
              "\n",
              "  <script>\n",
              "    async function quickchart(key) {\n",
              "      const quickchartButtonEl =\n",
              "        document.querySelector('#' + key + ' button');\n",
              "      quickchartButtonEl.disabled = true;  // To prevent multiple clicks.\n",
              "      quickchartButtonEl.classList.add('colab-df-spinner');\n",
              "      try {\n",
              "        const charts = await google.colab.kernel.invokeFunction(\n",
              "            'suggestCharts', [key], {});\n",
              "      } catch (error) {\n",
              "        console.error('Error during call to suggestCharts:', error);\n",
              "      }\n",
              "      quickchartButtonEl.classList.remove('colab-df-spinner');\n",
              "      quickchartButtonEl.classList.add('colab-df-quickchart-complete');\n",
              "    }\n",
              "    (() => {\n",
              "      let quickchartButtonEl =\n",
              "        document.querySelector('#df-e963b172-a63e-48e0-b2f1-3402a4421931 button');\n",
              "      quickchartButtonEl.style.display =\n",
              "        google.colab.kernel.accessAllowed ? 'block' : 'none';\n",
              "    })();\n",
              "  </script>\n",
              "</div>\n",
              "    </div>\n",
              "  </div>\n"
            ]
          },
          "metadata": {}
        },
        {
          "output_type": "stream",
          "name": "stdout",
          "text": [
            "явные повторы строк: 0\n"
          ]
        },
        {
          "output_type": "display_data",
          "data": {
            "text/plain": [
              "'количество уникальных записей:'"
            ],
            "application/vnd.google.colaboratory.intrinsic+json": {
              "type": "string"
            }
          },
          "metadata": {}
        },
        {
          "output_type": "display_data",
          "data": {
            "text/plain": [
              "lyricId     10915\n",
              "text        10644\n",
              "track_id    10277\n",
              "dtype: int64"
            ]
          },
          "metadata": {}
        }
      ],
      "source": [
        "lyrics.info()\n",
        "display(lyrics.sample(3))\n",
        "print('явные повторы строк:', lyrics.duplicated().sum())\n",
        "display('количество уникальных записей:', lyrics.nunique())"
      ]
    },
    {
      "cell_type": "markdown",
      "id": "3f12d4cf-e7fd-409e-abe3-3d53fe023096",
      "metadata": {
        "id": "3f12d4cf-e7fd-409e-abe3-3d53fe023096"
      },
      "source": [
        "Выводы:\n",
        "- тексты представлены на различных языках (английский, русский, испанский)\n",
        "- явных повторов строк не обнаружено, при этом количество уникальных ID текстов и треков меньше,\n",
        "  <br>чем всего строк, что означает использование текстов в других треках"
      ]
    },
    {
      "cell_type": "markdown",
      "id": "88c0358e-077d-4230-920a-67f83f758fc1",
      "metadata": {
        "id": "88c0358e-077d-4230-920a-67f83f758fc1"
      },
      "source": [
        "### Датафрейм `meta`"
      ]
    },
    {
      "cell_type": "code",
      "execution_count": 10,
      "id": "057c1e5d-2cb8-42ce-b674-a0aaba3c4430",
      "metadata": {
        "id": "057c1e5d-2cb8-42ce-b674-a0aaba3c4430",
        "outputId": "0555fa23-2b80-4c48-d0bf-a1594b69479f",
        "colab": {
          "base_uri": "https://localhost:8080/",
          "height": 638
        }
      },
      "outputs": [
        {
          "output_type": "stream",
          "name": "stdout",
          "text": [
            "<class 'pandas.core.frame.DataFrame'>\n",
            "RangeIndex: 71769 entries, 0 to 71768\n",
            "Data columns (total 7 columns):\n",
            " #   Column    Non-Null Count  Dtype  \n",
            "---  ------    --------------  -----  \n",
            " 0   track_id  71768 non-null  object \n",
            " 1   dttm      71768 non-null  float64\n",
            " 2   title     71768 non-null  object \n",
            " 3   language  21969 non-null  object \n",
            " 4   isrc      71455 non-null  object \n",
            " 5   genres    71768 non-null  object \n",
            " 6   duration  71768 non-null  float64\n",
            "dtypes: float64(2), object(5)\n",
            "memory usage: 3.8+ MB\n"
          ]
        },
        {
          "output_type": "display_data",
          "data": {
            "text/plain": [
              "                               track_id          dttm      title language  \\\n",
              "54881  f88c2349e9370beb73526f32720c30cc  1.597762e+12  Soy Feliz     None   \n",
              "\n",
              "               isrc genres  duration  \n",
              "54881  QZHZ62090125  [SKA]  194820.0  "
            ],
            "text/html": [
              "\n",
              "  <div id=\"df-fb83651d-12a3-4140-bcfd-598ad3603fc9\" class=\"colab-df-container\">\n",
              "    <div>\n",
              "<style scoped>\n",
              "    .dataframe tbody tr th:only-of-type {\n",
              "        vertical-align: middle;\n",
              "    }\n",
              "\n",
              "    .dataframe tbody tr th {\n",
              "        vertical-align: top;\n",
              "    }\n",
              "\n",
              "    .dataframe thead th {\n",
              "        text-align: right;\n",
              "    }\n",
              "</style>\n",
              "<table border=\"1\" class=\"dataframe\">\n",
              "  <thead>\n",
              "    <tr style=\"text-align: right;\">\n",
              "      <th></th>\n",
              "      <th>track_id</th>\n",
              "      <th>dttm</th>\n",
              "      <th>title</th>\n",
              "      <th>language</th>\n",
              "      <th>isrc</th>\n",
              "      <th>genres</th>\n",
              "      <th>duration</th>\n",
              "    </tr>\n",
              "  </thead>\n",
              "  <tbody>\n",
              "    <tr>\n",
              "      <th>54881</th>\n",
              "      <td>f88c2349e9370beb73526f32720c30cc</td>\n",
              "      <td>1.597762e+12</td>\n",
              "      <td>Soy Feliz</td>\n",
              "      <td>None</td>\n",
              "      <td>QZHZ62090125</td>\n",
              "      <td>[SKA]</td>\n",
              "      <td>194820.0</td>\n",
              "    </tr>\n",
              "  </tbody>\n",
              "</table>\n",
              "</div>\n",
              "    <div class=\"colab-df-buttons\">\n",
              "\n",
              "  <div class=\"colab-df-container\">\n",
              "    <button class=\"colab-df-convert\" onclick=\"convertToInteractive('df-fb83651d-12a3-4140-bcfd-598ad3603fc9')\"\n",
              "            title=\"Convert this dataframe to an interactive table.\"\n",
              "            style=\"display:none;\">\n",
              "\n",
              "  <svg xmlns=\"http://www.w3.org/2000/svg\" height=\"24px\" viewBox=\"0 -960 960 960\">\n",
              "    <path d=\"M120-120v-720h720v720H120Zm60-500h600v-160H180v160Zm220 220h160v-160H400v160Zm0 220h160v-160H400v160ZM180-400h160v-160H180v160Zm440 0h160v-160H620v160ZM180-180h160v-160H180v160Zm440 0h160v-160H620v160Z\"/>\n",
              "  </svg>\n",
              "    </button>\n",
              "\n",
              "  <style>\n",
              "    .colab-df-container {\n",
              "      display:flex;\n",
              "      gap: 12px;\n",
              "    }\n",
              "\n",
              "    .colab-df-convert {\n",
              "      background-color: #E8F0FE;\n",
              "      border: none;\n",
              "      border-radius: 50%;\n",
              "      cursor: pointer;\n",
              "      display: none;\n",
              "      fill: #1967D2;\n",
              "      height: 32px;\n",
              "      padding: 0 0 0 0;\n",
              "      width: 32px;\n",
              "    }\n",
              "\n",
              "    .colab-df-convert:hover {\n",
              "      background-color: #E2EBFA;\n",
              "      box-shadow: 0px 1px 2px rgba(60, 64, 67, 0.3), 0px 1px 3px 1px rgba(60, 64, 67, 0.15);\n",
              "      fill: #174EA6;\n",
              "    }\n",
              "\n",
              "    .colab-df-buttons div {\n",
              "      margin-bottom: 4px;\n",
              "    }\n",
              "\n",
              "    [theme=dark] .colab-df-convert {\n",
              "      background-color: #3B4455;\n",
              "      fill: #D2E3FC;\n",
              "    }\n",
              "\n",
              "    [theme=dark] .colab-df-convert:hover {\n",
              "      background-color: #434B5C;\n",
              "      box-shadow: 0px 1px 3px 1px rgba(0, 0, 0, 0.15);\n",
              "      filter: drop-shadow(0px 1px 2px rgba(0, 0, 0, 0.3));\n",
              "      fill: #FFFFFF;\n",
              "    }\n",
              "  </style>\n",
              "\n",
              "    <script>\n",
              "      const buttonEl =\n",
              "        document.querySelector('#df-fb83651d-12a3-4140-bcfd-598ad3603fc9 button.colab-df-convert');\n",
              "      buttonEl.style.display =\n",
              "        google.colab.kernel.accessAllowed ? 'block' : 'none';\n",
              "\n",
              "      async function convertToInteractive(key) {\n",
              "        const element = document.querySelector('#df-fb83651d-12a3-4140-bcfd-598ad3603fc9');\n",
              "        const dataTable =\n",
              "          await google.colab.kernel.invokeFunction('convertToInteractive',\n",
              "                                                    [key], {});\n",
              "        if (!dataTable) return;\n",
              "\n",
              "        const docLinkHtml = 'Like what you see? Visit the ' +\n",
              "          '<a target=\"_blank\" href=https://colab.research.google.com/notebooks/data_table.ipynb>data table notebook</a>'\n",
              "          + ' to learn more about interactive tables.';\n",
              "        element.innerHTML = '';\n",
              "        dataTable['output_type'] = 'display_data';\n",
              "        await google.colab.output.renderOutput(dataTable, element);\n",
              "        const docLink = document.createElement('div');\n",
              "        docLink.innerHTML = docLinkHtml;\n",
              "        element.appendChild(docLink);\n",
              "      }\n",
              "    </script>\n",
              "  </div>\n",
              "\n",
              "    </div>\n",
              "  </div>\n"
            ]
          },
          "metadata": {}
        },
        {
          "output_type": "stream",
          "name": "stdout",
          "text": [
            "явные повторы строк: 0\n"
          ]
        },
        {
          "output_type": "display_data",
          "data": {
            "text/plain": [
              "'количество уникальных записей:'"
            ],
            "application/vnd.google.colaboratory.intrinsic+json": {
              "type": "string"
            }
          },
          "metadata": {}
        },
        {
          "output_type": "display_data",
          "data": {
            "text/plain": [
              "track_id    71768\n",
              "dttm        27726\n",
              "title       45462\n",
              "language       85\n",
              "isrc        71283\n",
              "duration    23597\n",
              "dtype: int64"
            ]
          },
          "metadata": {}
        },
        {
          "output_type": "display_data",
          "data": {
            "text/plain": [
              "'список представленных стран:'"
            ],
            "application/vnd.google.colaboratory.intrinsic+json": {
              "type": "string"
            }
          },
          "metadata": {}
        },
        {
          "output_type": "display_data",
          "data": {
            "text/plain": [
              "array(['EN', None, 'ES', 'HI', 'DE', 'RU', 'TR', 'HU', 'TH', 'PL', 'FR',\n",
              "       'NY', 'AF', 'AS', 'UZ', 'HT', 'EL', 'AZ', 'IT', 'PA', 'PT', 'TA',\n",
              "       'JA', 'ML', 'VI', 'ID', 'LA', 'CS', 'SI', 'UK', 'OR', 'HR', 'AR',\n",
              "       'KK', 'FI', 'IE', 'ZH', 'AB', 'KN', 'FA', 'BN', 'TL', 'SK', 'KS',\n",
              "       'SV', 'RO', 'TN', 'KO', 'MS', 'BM', 'HY', 'TW', 'MY', 'CA', 'NL',\n",
              "       'ET', 'TE', 'MN', 'HE', 'SQ', 'IG', 'MR', 'BE', 'LT', 'UR', 'IA',\n",
              "       'GN', 'SW', 'NO', 'GU', 'KY', 'KU', 'IS', 'TG', 'SR', 'DA', 'LO',\n",
              "       'LV', 'SE', 'WO', 'SA', 'YO', 'ST', 'HA', 'AV', 'IU'], dtype=object)"
            ]
          },
          "metadata": {}
        }
      ],
      "source": [
        "meta.info()\n",
        "display(meta.sample()) #genres - list\n",
        "print('явные повторы строк:', meta[['track_id', 'dttm', 'title', 'language', 'isrc', 'duration']].duplicated().sum())\n",
        "display('количество уникальных записей:', meta[['track_id', 'dttm', 'title', 'language', 'isrc', 'duration']].nunique())\n",
        "display('список представленных стран:', meta['language'].unique())"
      ]
    },
    {
      "cell_type": "code",
      "execution_count": null,
      "id": "72885f31-6c6e-4077-b6c7-3947dec16a2b",
      "metadata": {
        "id": "72885f31-6c6e-4077-b6c7-3947dec16a2b"
      },
      "outputs": [],
      "source": [
        "# from datetime import datetime\n",
        "\n",
        "# unix_timestamp1 = 1.555760e+12\n",
        "# unix_timestamp2 = 1.626110e+12\n",
        "\n",
        "# # Преобразование временной метки в объект datetime\n",
        "# dt1 = datetime.fromtimestamp(unix_timestamp1 / 1000) #2019-04-20 14:33:20\n",
        "# dt2 = datetime.fromtimestamp(unix_timestamp2 / 1000) #2021-07-12 20:13:20\n",
        "\n",
        "# print(dt1 < dt2) #True\n",
        "# unix_timestamp1 < unix_timestamp2 #True"
      ]
    },
    {
      "cell_type": "markdown",
      "id": "90b01dc8-bfea-498d-9521-69febad623dc",
      "metadata": {
        "id": "90b01dc8-bfea-498d-9521-69febad623dc"
      },
      "source": [
        "Выводы:\n",
        "- явных повторов строк не обнаружено\n",
        "- количество стран в колонке `language` - 85\n",
        "- информация о странах внесена менее, чем в 30% записей\n",
        "- все `track_id` уникальны\n",
        "- даты представлены в unix формате\n",
        "- можно удалить признаки:\n",
        "  - `duration` - не несёт важной информации, т.к. продолжительность кавера может отличаться от исходника\n",
        "  - `genres` - не несёт важной информации, т.к. жанр кавера может отличаться от исходника\n",
        "  - `isrc` - не несёт важной информации, т.к. имеется признак `track_id`, а ещё в нём есть пропуски"
      ]
    },
    {
      "cell_type": "markdown",
      "id": "75f1c50f-e907-4398-be6a-d23fa7fd3d8f",
      "metadata": {
        "id": "75f1c50f-e907-4398-be6a-d23fa7fd3d8f"
      },
      "source": [
        "### Датафрейм `covers`"
      ]
    },
    {
      "cell_type": "code",
      "execution_count": 11,
      "id": "e215f30d-7a23-4683-a185-dc69e4464912",
      "metadata": {
        "id": "e215f30d-7a23-4683-a185-dc69e4464912",
        "outputId": "33b37169-971d-4584-cb25-dded4c6d9baf",
        "colab": {
          "base_uri": "https://localhost:8080/",
          "height": 377
        }
      },
      "outputs": [
        {
          "output_type": "stream",
          "name": "stdout",
          "text": [
            "<class 'pandas.core.frame.DataFrame'>\n",
            "RangeIndex: 71597 entries, 0 to 71596\n",
            "Data columns (total 3 columns):\n",
            " #   Column             Non-Null Count  Dtype \n",
            "---  ------             --------------  ----- \n",
            " 0   original_track_id  4821 non-null   object\n",
            " 1   track_id           71597 non-null  object\n",
            " 2   track_remake_type  71597 non-null  object\n",
            "dtypes: object(3)\n",
            "memory usage: 1.6+ MB\n"
          ]
        },
        {
          "output_type": "display_data",
          "data": {
            "text/plain": [
              "      original_track_id                          track_id track_remake_type\n",
              "21461              None  624e2bad60290fd7b82696f5edd758c0             COVER"
            ],
            "text/html": [
              "\n",
              "  <div id=\"df-bf2e6967-05b0-4561-8157-e715d75eb475\" class=\"colab-df-container\">\n",
              "    <div>\n",
              "<style scoped>\n",
              "    .dataframe tbody tr th:only-of-type {\n",
              "        vertical-align: middle;\n",
              "    }\n",
              "\n",
              "    .dataframe tbody tr th {\n",
              "        vertical-align: top;\n",
              "    }\n",
              "\n",
              "    .dataframe thead th {\n",
              "        text-align: right;\n",
              "    }\n",
              "</style>\n",
              "<table border=\"1\" class=\"dataframe\">\n",
              "  <thead>\n",
              "    <tr style=\"text-align: right;\">\n",
              "      <th></th>\n",
              "      <th>original_track_id</th>\n",
              "      <th>track_id</th>\n",
              "      <th>track_remake_type</th>\n",
              "    </tr>\n",
              "  </thead>\n",
              "  <tbody>\n",
              "    <tr>\n",
              "      <th>21461</th>\n",
              "      <td>None</td>\n",
              "      <td>624e2bad60290fd7b82696f5edd758c0</td>\n",
              "      <td>COVER</td>\n",
              "    </tr>\n",
              "  </tbody>\n",
              "</table>\n",
              "</div>\n",
              "    <div class=\"colab-df-buttons\">\n",
              "\n",
              "  <div class=\"colab-df-container\">\n",
              "    <button class=\"colab-df-convert\" onclick=\"convertToInteractive('df-bf2e6967-05b0-4561-8157-e715d75eb475')\"\n",
              "            title=\"Convert this dataframe to an interactive table.\"\n",
              "            style=\"display:none;\">\n",
              "\n",
              "  <svg xmlns=\"http://www.w3.org/2000/svg\" height=\"24px\" viewBox=\"0 -960 960 960\">\n",
              "    <path d=\"M120-120v-720h720v720H120Zm60-500h600v-160H180v160Zm220 220h160v-160H400v160Zm0 220h160v-160H400v160ZM180-400h160v-160H180v160Zm440 0h160v-160H620v160ZM180-180h160v-160H180v160Zm440 0h160v-160H620v160Z\"/>\n",
              "  </svg>\n",
              "    </button>\n",
              "\n",
              "  <style>\n",
              "    .colab-df-container {\n",
              "      display:flex;\n",
              "      gap: 12px;\n",
              "    }\n",
              "\n",
              "    .colab-df-convert {\n",
              "      background-color: #E8F0FE;\n",
              "      border: none;\n",
              "      border-radius: 50%;\n",
              "      cursor: pointer;\n",
              "      display: none;\n",
              "      fill: #1967D2;\n",
              "      height: 32px;\n",
              "      padding: 0 0 0 0;\n",
              "      width: 32px;\n",
              "    }\n",
              "\n",
              "    .colab-df-convert:hover {\n",
              "      background-color: #E2EBFA;\n",
              "      box-shadow: 0px 1px 2px rgba(60, 64, 67, 0.3), 0px 1px 3px 1px rgba(60, 64, 67, 0.15);\n",
              "      fill: #174EA6;\n",
              "    }\n",
              "\n",
              "    .colab-df-buttons div {\n",
              "      margin-bottom: 4px;\n",
              "    }\n",
              "\n",
              "    [theme=dark] .colab-df-convert {\n",
              "      background-color: #3B4455;\n",
              "      fill: #D2E3FC;\n",
              "    }\n",
              "\n",
              "    [theme=dark] .colab-df-convert:hover {\n",
              "      background-color: #434B5C;\n",
              "      box-shadow: 0px 1px 3px 1px rgba(0, 0, 0, 0.15);\n",
              "      filter: drop-shadow(0px 1px 2px rgba(0, 0, 0, 0.3));\n",
              "      fill: #FFFFFF;\n",
              "    }\n",
              "  </style>\n",
              "\n",
              "    <script>\n",
              "      const buttonEl =\n",
              "        document.querySelector('#df-bf2e6967-05b0-4561-8157-e715d75eb475 button.colab-df-convert');\n",
              "      buttonEl.style.display =\n",
              "        google.colab.kernel.accessAllowed ? 'block' : 'none';\n",
              "\n",
              "      async function convertToInteractive(key) {\n",
              "        const element = document.querySelector('#df-bf2e6967-05b0-4561-8157-e715d75eb475');\n",
              "        const dataTable =\n",
              "          await google.colab.kernel.invokeFunction('convertToInteractive',\n",
              "                                                    [key], {});\n",
              "        if (!dataTable) return;\n",
              "\n",
              "        const docLinkHtml = 'Like what you see? Visit the ' +\n",
              "          '<a target=\"_blank\" href=https://colab.research.google.com/notebooks/data_table.ipynb>data table notebook</a>'\n",
              "          + ' to learn more about interactive tables.';\n",
              "        element.innerHTML = '';\n",
              "        dataTable['output_type'] = 'display_data';\n",
              "        await google.colab.output.renderOutput(dataTable, element);\n",
              "        const docLink = document.createElement('div');\n",
              "        docLink.innerHTML = docLinkHtml;\n",
              "        element.appendChild(docLink);\n",
              "      }\n",
              "    </script>\n",
              "  </div>\n",
              "\n",
              "    </div>\n",
              "  </div>\n"
            ]
          },
          "metadata": {}
        },
        {
          "output_type": "stream",
          "name": "stdout",
          "text": [
            "явные повторы строк: 0\n"
          ]
        },
        {
          "output_type": "display_data",
          "data": {
            "text/plain": [
              "'количество уникальных записей:'"
            ],
            "application/vnd.google.colaboratory.intrinsic+json": {
              "type": "string"
            }
          },
          "metadata": {}
        },
        {
          "output_type": "display_data",
          "data": {
            "text/plain": [
              "original_track_id     4468\n",
              "track_id             71597\n",
              "track_remake_type        2\n",
              "dtype: int64"
            ]
          },
          "metadata": {}
        },
        {
          "output_type": "stream",
          "name": "stdout",
          "text": [
            "оригинальных треков указано: 6.73 % записей\n"
          ]
        }
      ],
      "source": [
        "covers.info()\n",
        "display(covers.sample())\n",
        "print('явные повторы строк:', covers.duplicated().sum())\n",
        "display('количество уникальных записей:', covers.nunique())\n",
        "print('оригинальных треков указано:', round(covers['original_track_id'].count() / covers['track_id'].count() * 100, 2), '% записей')"
      ]
    },
    {
      "cell_type": "markdown",
      "id": "a2a6e9f6-f1f6-4d85-9615-efac2545bf4c",
      "metadata": {
        "id": "a2a6e9f6-f1f6-4d85-9615-efac2545bf4c"
      },
      "source": [
        "Выводы:\n",
        "- явных повторов строк не обнаружено\n",
        "- количество указанных оригинальных треков - 6.73 % от общего числа треков"
      ]
    },
    {
      "cell_type": "code",
      "execution_count": 12,
      "id": "626e58ae-db38-4a62-854a-43ad3e00b9dc",
      "metadata": {
        "id": "626e58ae-db38-4a62-854a-43ad3e00b9dc",
        "outputId": "3d91f626-6353-49c6-f39d-f93936877d44",
        "colab": {
          "base_uri": "https://localhost:8080/"
        }
      },
      "outputs": [
        {
          "output_type": "stream",
          "name": "stdout",
          "text": [
            "<class 'pandas.core.frame.DataFrame'>\n",
            "RangeIndex: 71597 entries, 0 to 71596\n",
            "Data columns (total 3 columns):\n",
            " #   Column             Non-Null Count  Dtype \n",
            "---  ------             --------------  ----- \n",
            " 0   original_track_id  4821 non-null   object\n",
            " 1   track_id           71597 non-null  object\n",
            " 2   track_remake_type  71597 non-null  object\n",
            "dtypes: object(3)\n",
            "memory usage: 1.6+ MB\n"
          ]
        }
      ],
      "source": [
        "filled_data = covers.dropna(subset=['track_remake_type'])\n",
        "filled_data.info()"
      ]
    },
    {
      "cell_type": "markdown",
      "id": "45362bf8-c277-4280-a3b6-a6ff09114d25",
      "metadata": {
        "id": "45362bf8-c277-4280-a3b6-a6ff09114d25"
      },
      "source": [
        "### Объединение датафреймов"
      ]
    },
    {
      "cell_type": "code",
      "execution_count": 13,
      "id": "bd515337-ed4d-4cef-bb91-dea9c778f7ed",
      "metadata": {
        "id": "bd515337-ed4d-4cef-bb91-dea9c778f7ed",
        "colab": {
          "base_uri": "https://localhost:8080/"
        },
        "outputId": "07c0e661-de5e-4c3f-b825-ee13b1d67543"
      },
      "outputs": [
        {
          "output_type": "execute_result",
          "data": {
            "text/plain": [
              "(3599, 5)"
            ]
          },
          "metadata": {},
          "execution_count": 13
        }
      ],
      "source": [
        "cover_lyric = (filled_data\n",
        "               .merge(lyrics, on='track_id', how='left')\n",
        "               .merge(meta[['track_id', 'dttm']], on='track_id', how='left')\n",
        "              ) # объединение по левой таблице\n",
        "cover_lyric_wona = cover_lyric.dropna(subset=['text', 'original_track_id']).reset_index(drop=True) # удаление пропусков\n",
        "cover_lyric_wona = cover_lyric_wona.drop(['lyricId'], axis=1) # удаление колонки lyricId\n",
        "\n",
        "cover_lyric_wona.shape"
      ]
    },
    {
      "cell_type": "markdown",
      "source": [
        "Вывод:\n",
        "- данные объединены с сохранением признака кавера\n",
        "- из данных удалены пропущенные значения\n",
        "- удалены ненужные признаки"
      ],
      "metadata": {
        "id": "96vmMb1XYVMW"
      },
      "id": "96vmMb1XYVMW"
    },
    {
      "cell_type": "markdown",
      "id": "e334881b-ff28-44aa-8993-6088a3d70c8c",
      "metadata": {
        "id": "e334881b-ff28-44aa-8993-6088a3d70c8c"
      },
      "source": [
        "### Кодирование текстов"
      ]
    },
    {
      "cell_type": "markdown",
      "source": [
        "#### SentenceTransformer"
      ],
      "metadata": {
        "id": "pUA1LvuEdDGl"
      },
      "id": "pUA1LvuEdDGl"
    },
    {
      "cell_type": "code",
      "execution_count": 14,
      "id": "0232487d-d18b-4c6c-a838-5d4c99bb83b9",
      "metadata": {
        "id": "0232487d-d18b-4c6c-a838-5d4c99bb83b9",
        "colab": {
          "base_uri": "https://localhost:8080/",
          "height": 482,
          "referenced_widgets": [
            "8d49f1874072412e829f676c317e66ec",
            "e64575ebaceb4aa791771fad5d7a7785",
            "50675f78f85d4fea9d8d1ce4bbf62fe2",
            "37aeabc524614895b39105918e4380cd",
            "9eaf463db7164fb88a1b9d7c1106c5d0",
            "9b4e67b840e14d6f892083264065fe86",
            "44b2f80cb9c245febbc98756ddb0ff41",
            "0dadc241485a42b1a7ff4208a5c05ee6",
            "4082d2ffbf2847b1be9e946f77b603a9",
            "88687bfc6d2848d483c5c2d28a57f7a7",
            "3b4d5e6c4ffa492f959498c7cb9ee76d",
            "abee42b18ad1410fa4fd5f08a46c9fc8",
            "588109e7e4c9488eb3ee7b4aa1c0a8dc",
            "eb1c8156a1154d4fa2d2f42c7a21d176",
            "4425eebc174e42259c610805336c7d32",
            "7fdae3d2926e45caa0eb7b37dd3c75e2",
            "08be8bce3f124f6eb04f3aa4a3ab19ba",
            "5f6780391ffc4144abaebb5cba8c4ee5",
            "5e388aa8a7a74baf8e72afb48800badc",
            "f8126320adf14dd69106d042d2317475",
            "511c1bc968ba4f6e9e505fe54eef9aa8",
            "48accb2480d94e5e8c7920f81009dd7e",
            "99c786df5f494019864b176a29f32727",
            "18a739626f834819b3b0b05bd26c37b9",
            "999ec73139d7485f801846b9525fd83e",
            "33f73bd3f489485da1ca361522223c4a",
            "21b65cab3b9341dd90b0024f52b61fea",
            "c6b8bf9e72314293b4e55e1ddbfb1847",
            "793676f567044ad3a3271c11dd9bcf81",
            "2340881c8def44619fd4455a53f1a2f3",
            "05a264b19b064a31b5922dfa5c1a205c",
            "ca0fd153e6c34ceeaab0624e44197a76",
            "6f1f731413df4f95ad9f74aad010b0b1",
            "30e5cfc7f2cd4765ad1734c44891f3a8",
            "52ebf98f2d50418da1c6dab995a9c69d",
            "16869890e78547c6a235ddb9c75d466f",
            "35dd642985394e53b3e72642b16880f7",
            "b61608e140554ec4aea051a7601cecd6",
            "12ff0bcb47bd451d983a8f167ca1175f",
            "419b2f4f9b6c499aa0d202528938a200",
            "d1fb9fe63cdb4344a6189192e280ccde",
            "909565640954414e9dae3d32cacf2b50",
            "571a34444c0b4ea2bd5b989cd69e9379",
            "fbcf560bc1d540e9a176bbcc5fad6817",
            "971f1c2766fd4e9898c5832cca06dc05",
            "f671636875524573b0da96dc4f65645f",
            "54ebd04072c044a99879899edb748b1a",
            "eeebb0ef15474cbc865f95e4d283aa69",
            "7b9b5e20b2a8485cbd6b03fd6b6bb83d",
            "76dc883b5a3e4197959802e18bea08ea",
            "6f0a2edd72104be78f1235dcd1448d7d",
            "df17bda818d04e9dae400d66cb66d3cb",
            "0fbe30ff70fe49ba97395f355f6fdd2e",
            "4707c7d407524381a6cdc8fbe265977d",
            "a63f2951197842c0ad0ed1a16a2aad86",
            "d961e4333a1f498d9917da5a85a42393",
            "f43f97aa5bbe4b5ca77c84dbfbb7bfc4",
            "38272c659a27404493d76d9c3705a81e",
            "97591d748b9d4798ac357fd6109bcb2a",
            "759eca7960ac4206bba15a648b38175e",
            "f34ab2f1388942f587dd7a3fc5e85a1b",
            "cf6aaa35156f4b68bb5c4606c06e8e9e",
            "822cdcf9ceeb4f1d925e4a30b72e1964",
            "c86b2ae9fc73404b9fd491cbf75d5ee2",
            "901df93394e04aa2b15715185b6d1f7e",
            "4c2bac75b3224c69a50f9033783d4461",
            "ce70151acfa44a89bec89cf94b0f7e17",
            "df83d109035647cd966664ca050530cd",
            "d4c0c285e3c043279ed7e1d9cd4090fd",
            "8cf00b3bb2e048e98404cdb9bf121a09",
            "0d0da06c2f1f4b8d9d6f70ed706204dc",
            "932d689a738c485686bd8eb3a304d5f7",
            "3811c035f2a748f8a51d3d933c265fea",
            "126169bb91f74314a0400ac0cc2387b8",
            "f4d79183dbee40ac8e9878b49dde19f3",
            "5cf25026b13945f0b4ac2650698fd5ef",
            "749f06ccabd84048b5abfc111e78a5fd",
            "522f12b3f7c445e48efcd874034175c6",
            "aee47fbe6ce0402d971d1fb985705655",
            "d68f638c892c480e87e5cfa6a8575344",
            "af1d39e3ff9c40f681c65aa7e4a94cff",
            "316ffd6b8ef1462f8b92343dacd76855",
            "8abfc1f9c9944367ab6c0c4fe17523dd",
            "d1bf94971d224f64b31f8905ca9d82b8",
            "76c0a0e1693d400d94a34497c13181ec",
            "38faa0c6ddaa4ba482b08ac2c80eebc3",
            "4cc9ef0e5b3c4343b814b9f5d986c7c0",
            "f36249f09916443eb61721804f74edc0",
            "fb7e282c05334ca3a25f64d0670464b0",
            "3b0310d54a12483ba9434e24ea249e3a",
            "e486dc0170d5462bbce18a2d2fd916d5",
            "607aa5ba989b4ff699952996a76fba95",
            "8b70ed7d9756403a87a20016067f17de",
            "eb57f7943c894f1ab8b402f3d8f8a8a7",
            "f2b930ffb2614f449a0f0420d07576eb",
            "075faf0874b14aa5998c95288a432ec6",
            "277677063a47455ea938a9f11eab5264",
            "f6876146338f4101b6c1c64c612feb84",
            "afaaba6d8669469fab1083bbebc3d2a9",
            "7e44716045e4493fbb23d6ca0422cf65",
            "0387ab8670a84a6c919825454beb2d36",
            "7dc94f878bec4f57a7877ead18f4b2d5",
            "04ce05adadc24c7a84d3b7dfc2a1ffc1",
            "bc2d5e5cb1da4690ad7c23974341b362",
            "3a249b1c9f9040949ef964ff4ad65967",
            "c0fd9367b45746839d51bd88dec82260",
            "c6c50db98a1049a8adfcf335f7aba753",
            "45a7cb5cb3e647039f0e1e26af3dedd7",
            "7549b11704124a7bbf74fcb55f42d526",
            "2eb17f4c2e0c45c096f9897b40b99b29",
            "7c63bb3e511546ccac2aab7da50ebca8",
            "99336d5ceb1a4f8f88baa319c2211a10",
            "a927aa3a307541fda39257a0bf722f26",
            "067c27cfba9141759f12da3707076db8",
            "336bf49d68374fdc8b34f4e29f5ada7c",
            "1f305f18389046ddb0faa8eeb555ded3",
            "68df6d94f11543c99275786eb3cf3fbd",
            "bace9a8919474de083d2fefbe8820b37",
            "ffef2eb625c3433c88e3227bf584b9b7",
            "701d7ee5ed64410dbe88807b07cf39ab",
            "3ad7c291351249449aec7a057c5bc283",
            "d0e07abdeaf4438d9a61d3313e18457f",
            "dedce4c164f2423783e7d2dab915204b",
            "662531c1dfa8417d9b698248ab726334",
            "5d51e9f3164e41f78173b202913b9034",
            "f471ee314d0b4dd38eb24f84604c5a2b",
            "a89669d4b17f4941b1bc978ef6d61949",
            "6d858bca22d84ee6a1c3e60c24e92d33",
            "f2abc3448ee04a4f855b08e9fdaab8fa",
            "64778e5acb7a4d428d5828c28047809e",
            "9d0a476de971422fa6842f2ecf3e2c3b",
            "959887705f7f47dd804bb2113e9fd5c3",
            "6fed12ca6e8b4a66b260fb900a305346",
            "d46b29d0b7dd48d7b1630751166e3de7",
            "9d01a1b693cc4d01b707b35a02d5720f",
            "c336ecf2fd044f239bf17f702b0c4af9",
            "8f6d7e49678c434baf3cd29d2933a535",
            "787d53738c274cb89ccb60bbb75c618a",
            "acd82b4959354dc2953a4c41506caef4",
            "b2f0ce62f9334b568a4a1c0b2ff7ed2b",
            "39f7784c938344aea7edbad449de2d91",
            "c1030141a45c418f9ae7af06cb1ccdd5",
            "277f9e88e0fd43b398712c3b43036d2a",
            "8a40235c8c4e47aa861d51d305838d20",
            "318ca95d081e438a82cabdbb1025daa7",
            "775ed0cd155a43ceac6311b3fde72b5b",
            "af4862a24b8143c3b7609d70de049c9c",
            "a7f45bd9d1814761bc8dd661f87c5a32",
            "61fdfe934f2c49378d1c26788c23da74",
            "b418a489c8df405f94dc834e89318f7e",
            "27949cf48d29415fac864825910c675d",
            "da582c41e48a4c4c9a5d2d7a62ffb8a0",
            "dfb78458ca754e908f8e01abec38ff17",
            "4fe4df90c97546afa8fdbc7b62e35618"
          ]
        },
        "outputId": "9647145b-b800-449f-9855-8d0ad8a84b98"
      },
      "outputs": [
        {
          "output_type": "display_data",
          "data": {
            "text/plain": [
              "Downloading (…)be010/.gitattributes:   0%|          | 0.00/391 [00:00<?, ?B/s]"
            ],
            "application/vnd.jupyter.widget-view+json": {
              "version_major": 2,
              "version_minor": 0,
              "model_id": "8d49f1874072412e829f676c317e66ec"
            }
          },
          "metadata": {}
        },
        {
          "output_type": "display_data",
          "data": {
            "text/plain": [
              "Downloading (…)_Pooling/config.json:   0%|          | 0.00/190 [00:00<?, ?B/s]"
            ],
            "application/vnd.jupyter.widget-view+json": {
              "version_major": 2,
              "version_minor": 0,
              "model_id": "abee42b18ad1410fa4fd5f08a46c9fc8"
            }
          },
          "metadata": {}
        },
        {
          "output_type": "display_data",
          "data": {
            "text/plain": [
              "Downloading (…)/2_Dense/config.json:   0%|          | 0.00/114 [00:00<?, ?B/s]"
            ],
            "application/vnd.jupyter.widget-view+json": {
              "version_major": 2,
              "version_minor": 0,
              "model_id": "99c786df5f494019864b176a29f32727"
            }
          },
          "metadata": {}
        },
        {
          "output_type": "display_data",
          "data": {
            "text/plain": [
              "Downloading pytorch_model.bin:   0%|          | 0.00/2.36M [00:00<?, ?B/s]"
            ],
            "application/vnd.jupyter.widget-view+json": {
              "version_major": 2,
              "version_minor": 0,
              "model_id": "30e5cfc7f2cd4765ad1734c44891f3a8"
            }
          },
          "metadata": {}
        },
        {
          "output_type": "display_data",
          "data": {
            "text/plain": [
              "Downloading (…)168ebbe010/README.md:   0%|          | 0.00/1.62k [00:00<?, ?B/s]"
            ],
            "application/vnd.jupyter.widget-view+json": {
              "version_major": 2,
              "version_minor": 0,
              "model_id": "971f1c2766fd4e9898c5832cca06dc05"
            }
          },
          "metadata": {}
        },
        {
          "output_type": "display_data",
          "data": {
            "text/plain": [
              "Downloading (…)8ebbe010/config.json:   0%|          | 0.00/804 [00:00<?, ?B/s]"
            ],
            "application/vnd.jupyter.widget-view+json": {
              "version_major": 2,
              "version_minor": 0,
              "model_id": "d961e4333a1f498d9917da5a85a42393"
            }
          },
          "metadata": {}
        },
        {
          "output_type": "display_data",
          "data": {
            "text/plain": [
              "Downloading (…)ce_transformers.json:   0%|          | 0.00/122 [00:00<?, ?B/s]"
            ],
            "application/vnd.jupyter.widget-view+json": {
              "version_major": 2,
              "version_minor": 0,
              "model_id": "ce70151acfa44a89bec89cf94b0f7e17"
            }
          },
          "metadata": {}
        },
        {
          "output_type": "display_data",
          "data": {
            "text/plain": [
              "Downloading pytorch_model.bin:   0%|          | 0.00/1.88G [00:00<?, ?B/s]"
            ],
            "application/vnd.jupyter.widget-view+json": {
              "version_major": 2,
              "version_minor": 0,
              "model_id": "522f12b3f7c445e48efcd874034175c6"
            }
          },
          "metadata": {}
        },
        {
          "output_type": "display_data",
          "data": {
            "text/plain": [
              "Downloading (…)nce_bert_config.json:   0%|          | 0.00/53.0 [00:00<?, ?B/s]"
            ],
            "application/vnd.jupyter.widget-view+json": {
              "version_major": 2,
              "version_minor": 0,
              "model_id": "fb7e282c05334ca3a25f64d0670464b0"
            }
          },
          "metadata": {}
        },
        {
          "output_type": "display_data",
          "data": {
            "text/plain": [
              "Downloading (…)cial_tokens_map.json:   0%|          | 0.00/112 [00:00<?, ?B/s]"
            ],
            "application/vnd.jupyter.widget-view+json": {
              "version_major": 2,
              "version_minor": 0,
              "model_id": "7e44716045e4493fbb23d6ca0422cf65"
            }
          },
          "metadata": {}
        },
        {
          "output_type": "display_data",
          "data": {
            "text/plain": [
              "Downloading (…)be010/tokenizer.json:   0%|          | 0.00/9.62M [00:00<?, ?B/s]"
            ],
            "application/vnd.jupyter.widget-view+json": {
              "version_major": 2,
              "version_minor": 0,
              "model_id": "7c63bb3e511546ccac2aab7da50ebca8"
            }
          },
          "metadata": {}
        },
        {
          "output_type": "display_data",
          "data": {
            "text/plain": [
              "Downloading (…)okenizer_config.json:   0%|          | 0.00/411 [00:00<?, ?B/s]"
            ],
            "application/vnd.jupyter.widget-view+json": {
              "version_major": 2,
              "version_minor": 0,
              "model_id": "d0e07abdeaf4438d9a61d3313e18457f"
            }
          },
          "metadata": {}
        },
        {
          "output_type": "display_data",
          "data": {
            "text/plain": [
              "Downloading (…)168ebbe010/vocab.txt:   0%|          | 0.00/5.22M [00:00<?, ?B/s]"
            ],
            "application/vnd.jupyter.widget-view+json": {
              "version_major": 2,
              "version_minor": 0,
              "model_id": "6fed12ca6e8b4a66b260fb900a305346"
            }
          },
          "metadata": {}
        },
        {
          "output_type": "display_data",
          "data": {
            "text/plain": [
              "Downloading (…)ebbe010/modules.json:   0%|          | 0.00/461 [00:00<?, ?B/s]"
            ],
            "application/vnd.jupyter.widget-view+json": {
              "version_major": 2,
              "version_minor": 0,
              "model_id": "8a40235c8c4e47aa861d51d305838d20"
            }
          },
          "metadata": {}
        },
        {
          "output_type": "execute_result",
          "data": {
            "text/plain": [
              "(3599, 768)"
            ]
          },
          "metadata": {},
          "execution_count": 14
        }
      ],
      "source": [
        "sentences = np.array(cover_lyric_wona['text'])\n",
        "\n",
        "# model = SentenceTransformer('all-MiniLM-L6-v2')  # архитектура MiniLM (время выполнения ~ 5 мин)\n",
        "model = SentenceTransformer('sentence-transformers/LaBSE')  # архитектура LaBSE (Language-agnostic BERT Sentence Embedding) (~ 70 мин)\n",
        "\n",
        "sentence_embeddings = model.encode(sentences)\n",
        "sentence_embeddings.shape"
      ]
    },
    {
      "cell_type": "markdown",
      "source": [
        "Вывод:\n",
        "- получены эмбеддинги текстов при помощи библиотеки `sentence_transformer` на архитектуре LaBSE\n",
        "- выбор данной архитектуры обусловлен её способностью распознавать и сравнивать тексты на более, чем 100 языках\n",
        "- затраченное на обучение время: 70 минут"
      ],
      "metadata": {
        "id": "gVoITuiNYp9q"
      },
      "id": "gVoITuiNYp9q"
    },
    {
      "cell_type": "markdown",
      "source": [
        "Соединение закодированных текстов с исходными данными"
      ],
      "metadata": {
        "id": "f8AOFrgKRAxf"
      },
      "id": "f8AOFrgKRAxf"
    },
    {
      "cell_type": "code",
      "source": [
        "df_work = cover_lyric_wona.copy()\n",
        "df_work = df_work.join(pd.DataFrame(sentence_embeddings), how='left')\n",
        "df_work.head()"
      ],
      "metadata": {
        "colab": {
          "base_uri": "https://localhost:8080/",
          "height": 551
        },
        "id": "vXqXdq0uRJdr",
        "outputId": "8b9efee4-e000-43bc-e4d1-75d97aa89bcf"
      },
      "id": "vXqXdq0uRJdr",
      "execution_count": 15,
      "outputs": [
        {
          "output_type": "execute_result",
          "data": {
            "text/plain": [
              "                  original_track_id                          track_id  \\\n",
              "0  eeb69a3cb92300456b6a5f4162093851  eeb69a3cb92300456b6a5f4162093851   \n",
              "1  eeb69a3cb92300456b6a5f4162093851  eeb69a3cb92300456b6a5f4162093851   \n",
              "2  fe7ee8fc1959cc7214fa21c4840dff0a  fe7ee8fc1959cc7214fa21c4840dff0a   \n",
              "3  cd89fef7ffdd490db800357f47722b20  cd89fef7ffdd490db800357f47722b20   \n",
              "4  995665640dc319973d3173a74a03860c  995665640dc319973d3173a74a03860c   \n",
              "\n",
              "  track_remake_type                                               text  \\\n",
              "0          ORIGINAL  Left a good job in the city\\nWorkin' for the m...   \n",
              "1          ORIGINAL  Left a good job in the city\\nWorkin' for the m...   \n",
              "2          ORIGINAL  Some folks are born made to wave the flag\\nOoh...   \n",
              "3          ORIGINAL  Uno por pobre y feo, hombre\\nPero antoja'o, ay...   \n",
              "4          ORIGINAL  Yeah!... yeah!... remember the time, baby... y...   \n",
              "\n",
              "           dttm         0         1         2         3         4  ...  \\\n",
              "0  1.257973e+12 -0.071151 -0.000550 -0.015525 -0.068183 -0.017857  ...   \n",
              "1  1.257973e+12 -0.072601 -0.008105 -0.007002 -0.066120 -0.022410  ...   \n",
              "2  1.257973e+12 -0.053419 -0.000123 -0.033951 -0.025266 -0.025993  ...   \n",
              "3  1.253563e+12 -0.056900 -0.049212 -0.031589 -0.068017 -0.026555  ...   \n",
              "4  1.258405e+12 -0.037682 -0.028061 -0.063845 -0.062088 -0.006575  ...   \n",
              "\n",
              "        758       759       760       761       762       763       764  \\\n",
              "0  0.037262 -0.010959  0.025177  0.026895  0.004867 -0.043662 -0.015377   \n",
              "1  0.040421 -0.008107  0.017281  0.025594  0.005750 -0.043891 -0.017041   \n",
              "2 -0.007231  0.005841 -0.020928  0.031590  0.011153 -0.046689  0.015612   \n",
              "3  0.043457 -0.031792 -0.022746 -0.008788 -0.046626 -0.038060 -0.037003   \n",
              "4 -0.020223 -0.016452 -0.013310  0.005944 -0.021391 -0.046816 -0.019437   \n",
              "\n",
              "        765       766       767  \n",
              "0 -0.008442 -0.041558 -0.055484  \n",
              "1 -0.004621 -0.034674 -0.053124  \n",
              "2  0.051465 -0.066878 -0.074791  \n",
              "3 -0.044537 -0.064605 -0.051017  \n",
              "4 -0.019671 -0.063563 -0.059268  \n",
              "\n",
              "[5 rows x 773 columns]"
            ],
            "text/html": [
              "\n",
              "  <div id=\"df-691590d8-2169-427b-8e77-a76a8c65ec6c\" class=\"colab-df-container\">\n",
              "    <div>\n",
              "<style scoped>\n",
              "    .dataframe tbody tr th:only-of-type {\n",
              "        vertical-align: middle;\n",
              "    }\n",
              "\n",
              "    .dataframe tbody tr th {\n",
              "        vertical-align: top;\n",
              "    }\n",
              "\n",
              "    .dataframe thead th {\n",
              "        text-align: right;\n",
              "    }\n",
              "</style>\n",
              "<table border=\"1\" class=\"dataframe\">\n",
              "  <thead>\n",
              "    <tr style=\"text-align: right;\">\n",
              "      <th></th>\n",
              "      <th>original_track_id</th>\n",
              "      <th>track_id</th>\n",
              "      <th>track_remake_type</th>\n",
              "      <th>text</th>\n",
              "      <th>dttm</th>\n",
              "      <th>0</th>\n",
              "      <th>1</th>\n",
              "      <th>2</th>\n",
              "      <th>3</th>\n",
              "      <th>4</th>\n",
              "      <th>...</th>\n",
              "      <th>758</th>\n",
              "      <th>759</th>\n",
              "      <th>760</th>\n",
              "      <th>761</th>\n",
              "      <th>762</th>\n",
              "      <th>763</th>\n",
              "      <th>764</th>\n",
              "      <th>765</th>\n",
              "      <th>766</th>\n",
              "      <th>767</th>\n",
              "    </tr>\n",
              "  </thead>\n",
              "  <tbody>\n",
              "    <tr>\n",
              "      <th>0</th>\n",
              "      <td>eeb69a3cb92300456b6a5f4162093851</td>\n",
              "      <td>eeb69a3cb92300456b6a5f4162093851</td>\n",
              "      <td>ORIGINAL</td>\n",
              "      <td>Left a good job in the city\\nWorkin' for the m...</td>\n",
              "      <td>1.257973e+12</td>\n",
              "      <td>-0.071151</td>\n",
              "      <td>-0.000550</td>\n",
              "      <td>-0.015525</td>\n",
              "      <td>-0.068183</td>\n",
              "      <td>-0.017857</td>\n",
              "      <td>...</td>\n",
              "      <td>0.037262</td>\n",
              "      <td>-0.010959</td>\n",
              "      <td>0.025177</td>\n",
              "      <td>0.026895</td>\n",
              "      <td>0.004867</td>\n",
              "      <td>-0.043662</td>\n",
              "      <td>-0.015377</td>\n",
              "      <td>-0.008442</td>\n",
              "      <td>-0.041558</td>\n",
              "      <td>-0.055484</td>\n",
              "    </tr>\n",
              "    <tr>\n",
              "      <th>1</th>\n",
              "      <td>eeb69a3cb92300456b6a5f4162093851</td>\n",
              "      <td>eeb69a3cb92300456b6a5f4162093851</td>\n",
              "      <td>ORIGINAL</td>\n",
              "      <td>Left a good job in the city\\nWorkin' for the m...</td>\n",
              "      <td>1.257973e+12</td>\n",
              "      <td>-0.072601</td>\n",
              "      <td>-0.008105</td>\n",
              "      <td>-0.007002</td>\n",
              "      <td>-0.066120</td>\n",
              "      <td>-0.022410</td>\n",
              "      <td>...</td>\n",
              "      <td>0.040421</td>\n",
              "      <td>-0.008107</td>\n",
              "      <td>0.017281</td>\n",
              "      <td>0.025594</td>\n",
              "      <td>0.005750</td>\n",
              "      <td>-0.043891</td>\n",
              "      <td>-0.017041</td>\n",
              "      <td>-0.004621</td>\n",
              "      <td>-0.034674</td>\n",
              "      <td>-0.053124</td>\n",
              "    </tr>\n",
              "    <tr>\n",
              "      <th>2</th>\n",
              "      <td>fe7ee8fc1959cc7214fa21c4840dff0a</td>\n",
              "      <td>fe7ee8fc1959cc7214fa21c4840dff0a</td>\n",
              "      <td>ORIGINAL</td>\n",
              "      <td>Some folks are born made to wave the flag\\nOoh...</td>\n",
              "      <td>1.257973e+12</td>\n",
              "      <td>-0.053419</td>\n",
              "      <td>-0.000123</td>\n",
              "      <td>-0.033951</td>\n",
              "      <td>-0.025266</td>\n",
              "      <td>-0.025993</td>\n",
              "      <td>...</td>\n",
              "      <td>-0.007231</td>\n",
              "      <td>0.005841</td>\n",
              "      <td>-0.020928</td>\n",
              "      <td>0.031590</td>\n",
              "      <td>0.011153</td>\n",
              "      <td>-0.046689</td>\n",
              "      <td>0.015612</td>\n",
              "      <td>0.051465</td>\n",
              "      <td>-0.066878</td>\n",
              "      <td>-0.074791</td>\n",
              "    </tr>\n",
              "    <tr>\n",
              "      <th>3</th>\n",
              "      <td>cd89fef7ffdd490db800357f47722b20</td>\n",
              "      <td>cd89fef7ffdd490db800357f47722b20</td>\n",
              "      <td>ORIGINAL</td>\n",
              "      <td>Uno por pobre y feo, hombre\\nPero antoja'o, ay...</td>\n",
              "      <td>1.253563e+12</td>\n",
              "      <td>-0.056900</td>\n",
              "      <td>-0.049212</td>\n",
              "      <td>-0.031589</td>\n",
              "      <td>-0.068017</td>\n",
              "      <td>-0.026555</td>\n",
              "      <td>...</td>\n",
              "      <td>0.043457</td>\n",
              "      <td>-0.031792</td>\n",
              "      <td>-0.022746</td>\n",
              "      <td>-0.008788</td>\n",
              "      <td>-0.046626</td>\n",
              "      <td>-0.038060</td>\n",
              "      <td>-0.037003</td>\n",
              "      <td>-0.044537</td>\n",
              "      <td>-0.064605</td>\n",
              "      <td>-0.051017</td>\n",
              "    </tr>\n",
              "    <tr>\n",
              "      <th>4</th>\n",
              "      <td>995665640dc319973d3173a74a03860c</td>\n",
              "      <td>995665640dc319973d3173a74a03860c</td>\n",
              "      <td>ORIGINAL</td>\n",
              "      <td>Yeah!... yeah!... remember the time, baby... y...</td>\n",
              "      <td>1.258405e+12</td>\n",
              "      <td>-0.037682</td>\n",
              "      <td>-0.028061</td>\n",
              "      <td>-0.063845</td>\n",
              "      <td>-0.062088</td>\n",
              "      <td>-0.006575</td>\n",
              "      <td>...</td>\n",
              "      <td>-0.020223</td>\n",
              "      <td>-0.016452</td>\n",
              "      <td>-0.013310</td>\n",
              "      <td>0.005944</td>\n",
              "      <td>-0.021391</td>\n",
              "      <td>-0.046816</td>\n",
              "      <td>-0.019437</td>\n",
              "      <td>-0.019671</td>\n",
              "      <td>-0.063563</td>\n",
              "      <td>-0.059268</td>\n",
              "    </tr>\n",
              "  </tbody>\n",
              "</table>\n",
              "<p>5 rows × 773 columns</p>\n",
              "</div>\n",
              "    <div class=\"colab-df-buttons\">\n",
              "\n",
              "  <div class=\"colab-df-container\">\n",
              "    <button class=\"colab-df-convert\" onclick=\"convertToInteractive('df-691590d8-2169-427b-8e77-a76a8c65ec6c')\"\n",
              "            title=\"Convert this dataframe to an interactive table.\"\n",
              "            style=\"display:none;\">\n",
              "\n",
              "  <svg xmlns=\"http://www.w3.org/2000/svg\" height=\"24px\" viewBox=\"0 -960 960 960\">\n",
              "    <path d=\"M120-120v-720h720v720H120Zm60-500h600v-160H180v160Zm220 220h160v-160H400v160Zm0 220h160v-160H400v160ZM180-400h160v-160H180v160Zm440 0h160v-160H620v160ZM180-180h160v-160H180v160Zm440 0h160v-160H620v160Z\"/>\n",
              "  </svg>\n",
              "    </button>\n",
              "\n",
              "  <style>\n",
              "    .colab-df-container {\n",
              "      display:flex;\n",
              "      gap: 12px;\n",
              "    }\n",
              "\n",
              "    .colab-df-convert {\n",
              "      background-color: #E8F0FE;\n",
              "      border: none;\n",
              "      border-radius: 50%;\n",
              "      cursor: pointer;\n",
              "      display: none;\n",
              "      fill: #1967D2;\n",
              "      height: 32px;\n",
              "      padding: 0 0 0 0;\n",
              "      width: 32px;\n",
              "    }\n",
              "\n",
              "    .colab-df-convert:hover {\n",
              "      background-color: #E2EBFA;\n",
              "      box-shadow: 0px 1px 2px rgba(60, 64, 67, 0.3), 0px 1px 3px 1px rgba(60, 64, 67, 0.15);\n",
              "      fill: #174EA6;\n",
              "    }\n",
              "\n",
              "    .colab-df-buttons div {\n",
              "      margin-bottom: 4px;\n",
              "    }\n",
              "\n",
              "    [theme=dark] .colab-df-convert {\n",
              "      background-color: #3B4455;\n",
              "      fill: #D2E3FC;\n",
              "    }\n",
              "\n",
              "    [theme=dark] .colab-df-convert:hover {\n",
              "      background-color: #434B5C;\n",
              "      box-shadow: 0px 1px 3px 1px rgba(0, 0, 0, 0.15);\n",
              "      filter: drop-shadow(0px 1px 2px rgba(0, 0, 0, 0.3));\n",
              "      fill: #FFFFFF;\n",
              "    }\n",
              "  </style>\n",
              "\n",
              "    <script>\n",
              "      const buttonEl =\n",
              "        document.querySelector('#df-691590d8-2169-427b-8e77-a76a8c65ec6c button.colab-df-convert');\n",
              "      buttonEl.style.display =\n",
              "        google.colab.kernel.accessAllowed ? 'block' : 'none';\n",
              "\n",
              "      async function convertToInteractive(key) {\n",
              "        const element = document.querySelector('#df-691590d8-2169-427b-8e77-a76a8c65ec6c');\n",
              "        const dataTable =\n",
              "          await google.colab.kernel.invokeFunction('convertToInteractive',\n",
              "                                                    [key], {});\n",
              "        if (!dataTable) return;\n",
              "\n",
              "        const docLinkHtml = 'Like what you see? Visit the ' +\n",
              "          '<a target=\"_blank\" href=https://colab.research.google.com/notebooks/data_table.ipynb>data table notebook</a>'\n",
              "          + ' to learn more about interactive tables.';\n",
              "        element.innerHTML = '';\n",
              "        dataTable['output_type'] = 'display_data';\n",
              "        await google.colab.output.renderOutput(dataTable, element);\n",
              "        const docLink = document.createElement('div');\n",
              "        docLink.innerHTML = docLinkHtml;\n",
              "        element.appendChild(docLink);\n",
              "      }\n",
              "    </script>\n",
              "  </div>\n",
              "\n",
              "\n",
              "<div id=\"df-573692e0-04f2-4285-bebb-7c729f7ef281\">\n",
              "  <button class=\"colab-df-quickchart\" onclick=\"quickchart('df-573692e0-04f2-4285-bebb-7c729f7ef281')\"\n",
              "            title=\"Suggest charts.\"\n",
              "            style=\"display:none;\">\n",
              "\n",
              "<svg xmlns=\"http://www.w3.org/2000/svg\" height=\"24px\"viewBox=\"0 0 24 24\"\n",
              "     width=\"24px\">\n",
              "    <g>\n",
              "        <path d=\"M19 3H5c-1.1 0-2 .9-2 2v14c0 1.1.9 2 2 2h14c1.1 0 2-.9 2-2V5c0-1.1-.9-2-2-2zM9 17H7v-7h2v7zm4 0h-2V7h2v10zm4 0h-2v-4h2v4z\"/>\n",
              "    </g>\n",
              "</svg>\n",
              "  </button>\n",
              "\n",
              "<style>\n",
              "  .colab-df-quickchart {\n",
              "      --bg-color: #E8F0FE;\n",
              "      --fill-color: #1967D2;\n",
              "      --hover-bg-color: #E2EBFA;\n",
              "      --hover-fill-color: #174EA6;\n",
              "      --disabled-fill-color: #AAA;\n",
              "      --disabled-bg-color: #DDD;\n",
              "  }\n",
              "\n",
              "  [theme=dark] .colab-df-quickchart {\n",
              "      --bg-color: #3B4455;\n",
              "      --fill-color: #D2E3FC;\n",
              "      --hover-bg-color: #434B5C;\n",
              "      --hover-fill-color: #FFFFFF;\n",
              "      --disabled-bg-color: #3B4455;\n",
              "      --disabled-fill-color: #666;\n",
              "  }\n",
              "\n",
              "  .colab-df-quickchart {\n",
              "    background-color: var(--bg-color);\n",
              "    border: none;\n",
              "    border-radius: 50%;\n",
              "    cursor: pointer;\n",
              "    display: none;\n",
              "    fill: var(--fill-color);\n",
              "    height: 32px;\n",
              "    padding: 0;\n",
              "    width: 32px;\n",
              "  }\n",
              "\n",
              "  .colab-df-quickchart:hover {\n",
              "    background-color: var(--hover-bg-color);\n",
              "    box-shadow: 0 1px 2px rgba(60, 64, 67, 0.3), 0 1px 3px 1px rgba(60, 64, 67, 0.15);\n",
              "    fill: var(--button-hover-fill-color);\n",
              "  }\n",
              "\n",
              "  .colab-df-quickchart-complete:disabled,\n",
              "  .colab-df-quickchart-complete:disabled:hover {\n",
              "    background-color: var(--disabled-bg-color);\n",
              "    fill: var(--disabled-fill-color);\n",
              "    box-shadow: none;\n",
              "  }\n",
              "\n",
              "  .colab-df-spinner {\n",
              "    border: 2px solid var(--fill-color);\n",
              "    border-color: transparent;\n",
              "    border-bottom-color: var(--fill-color);\n",
              "    animation:\n",
              "      spin 1s steps(1) infinite;\n",
              "  }\n",
              "\n",
              "  @keyframes spin {\n",
              "    0% {\n",
              "      border-color: transparent;\n",
              "      border-bottom-color: var(--fill-color);\n",
              "      border-left-color: var(--fill-color);\n",
              "    }\n",
              "    20% {\n",
              "      border-color: transparent;\n",
              "      border-left-color: var(--fill-color);\n",
              "      border-top-color: var(--fill-color);\n",
              "    }\n",
              "    30% {\n",
              "      border-color: transparent;\n",
              "      border-left-color: var(--fill-color);\n",
              "      border-top-color: var(--fill-color);\n",
              "      border-right-color: var(--fill-color);\n",
              "    }\n",
              "    40% {\n",
              "      border-color: transparent;\n",
              "      border-right-color: var(--fill-color);\n",
              "      border-top-color: var(--fill-color);\n",
              "    }\n",
              "    60% {\n",
              "      border-color: transparent;\n",
              "      border-right-color: var(--fill-color);\n",
              "    }\n",
              "    80% {\n",
              "      border-color: transparent;\n",
              "      border-right-color: var(--fill-color);\n",
              "      border-bottom-color: var(--fill-color);\n",
              "    }\n",
              "    90% {\n",
              "      border-color: transparent;\n",
              "      border-bottom-color: var(--fill-color);\n",
              "    }\n",
              "  }\n",
              "</style>\n",
              "\n",
              "  <script>\n",
              "    async function quickchart(key) {\n",
              "      const quickchartButtonEl =\n",
              "        document.querySelector('#' + key + ' button');\n",
              "      quickchartButtonEl.disabled = true;  // To prevent multiple clicks.\n",
              "      quickchartButtonEl.classList.add('colab-df-spinner');\n",
              "      try {\n",
              "        const charts = await google.colab.kernel.invokeFunction(\n",
              "            'suggestCharts', [key], {});\n",
              "      } catch (error) {\n",
              "        console.error('Error during call to suggestCharts:', error);\n",
              "      }\n",
              "      quickchartButtonEl.classList.remove('colab-df-spinner');\n",
              "      quickchartButtonEl.classList.add('colab-df-quickchart-complete');\n",
              "    }\n",
              "    (() => {\n",
              "      let quickchartButtonEl =\n",
              "        document.querySelector('#df-573692e0-04f2-4285-bebb-7c729f7ef281 button');\n",
              "      quickchartButtonEl.style.display =\n",
              "        google.colab.kernel.accessAllowed ? 'block' : 'none';\n",
              "    })();\n",
              "  </script>\n",
              "</div>\n",
              "    </div>\n",
              "  </div>\n"
            ]
          },
          "metadata": {},
          "execution_count": 15
        }
      ]
    },
    {
      "cell_type": "markdown",
      "source": [
        "Вывод:\n",
        "- закодированные тексты присоединены к основному датафрейму"
      ],
      "metadata": {
        "id": "GAH0q7B1Zb7b"
      },
      "id": "GAH0q7B1Zb7b"
    },
    {
      "cell_type": "markdown",
      "source": [
        "#### Bert transformer"
      ],
      "metadata": {
        "id": "CoYxXb1kdP4A"
      },
      "id": "CoYxXb1kdP4A"
    },
    {
      "cell_type": "code",
      "source": [
        "cover_lyric_wona_r = cover_lyric_wona.loc[:3499]\n",
        "tokenizer = transformers.BertTokenizer.from_pretrained('bert-base-multilingual-cased')\n",
        "tokenized = cover_lyric_wona_r['text'].apply(lambda x: tokenizer.encode(x, add_special_tokens=True))"
      ],
      "metadata": {
        "colab": {
          "base_uri": "https://localhost:8080/"
        },
        "id": "Z_cY6vwedWuJ",
        "outputId": "8a768af0-b73c-4464-bde0-eccb39b995bc"
      },
      "id": "Z_cY6vwedWuJ",
      "execution_count": 47,
      "outputs": [
        {
          "output_type": "stream",
          "name": "stderr",
          "text": [
            "Token indices sequence length is longer than the specified maximum sequence length for this model (815 > 512). Running this sequence through the model will result in indexing errors\n"
          ]
        }
      ]
    },
    {
      "cell_type": "markdown",
      "source": [
        "Применение паддинга к векторам"
      ],
      "metadata": {
        "id": "IZB06Fu_fZje"
      },
      "id": "IZB06Fu_fZje"
    },
    {
      "cell_type": "code",
      "source": [
        "padded = np.array([i[:MAX_TOKEN_LEN] + [0]*(MAX_TOKEN_LEN - len(i[:MAX_TOKEN_LEN]))\\\n",
        "                   if len(i) > MAX_TOKEN_LEN else i + [0]*(MAX_TOKEN_LEN - len(i)) for i in tokenized.values])\n",
        "attention_mask = np.where(padded != 0, 1, 0)\n",
        "attention_mask = torch.tensor(attention_mask, dtype=torch.long).to(device)"
      ],
      "metadata": {
        "id": "qoZF2ZcMfVDl"
      },
      "id": "qoZF2ZcMfVDl",
      "execution_count": 48,
      "outputs": []
    },
    {
      "cell_type": "markdown",
      "source": [
        "Инициализируем модель класса BertModel. Передадим ей файл с предобученной моделью"
      ],
      "metadata": {
        "id": "jqf0otbKivUa"
      },
      "id": "jqf0otbKivUa"
    },
    {
      "cell_type": "code",
      "source": [
        "model_bert = transformers.BertModel.from_pretrained('bert-base-multilingual-cased').to(device)"
      ],
      "metadata": {
        "id": "WhRjPJSQiteZ"
      },
      "id": "WhRjPJSQiteZ",
      "execution_count": 49,
      "outputs": []
    },
    {
      "cell_type": "markdown",
      "source": [
        "Преобразование текстов в эмбеддинги"
      ],
      "metadata": {
        "id": "kNCNmNwGijvd"
      },
      "id": "kNCNmNwGijvd"
    },
    {
      "cell_type": "code",
      "source": [
        "batch_size = 100\n",
        "bert_embeddings = []\n",
        "for i in notebook.tqdm(range(padded.shape[0] // batch_size)):\n",
        "  batch = torch.LongTensor(padded[batch_size*i:batch_size*(i+1)]).to(device)\n",
        "  attention_mask_batch = attention_mask[batch_size*i:batch_size*(i+1)]\n",
        "  with torch.no_grad():\n",
        "    batch_embeddings = model_bert(batch, attention_mask=attention_mask_batch)\n",
        "    bert_embeddings.append(batch_embeddings[0][:,0,:].cpu().numpy())"
      ],
      "metadata": {
        "colab": {
          "base_uri": "https://localhost:8080/",
          "height": 49,
          "referenced_widgets": [
            "15459129cf4a4fd1bc1b32741f8366c3",
            "0f8b43c00a0d42a2b2898c92fc860ee5",
            "ec7bce49811a4747b1a2035dc8e6796b",
            "8191fa9e121a4c6fad47a1f4de7be5e6",
            "5c1e28e8ab8140a3a40009d9015c238a",
            "eeff1fa6c2e74bf4a8e0c2c1c157fbdc",
            "820408e145ee411ab04247e5b6eca375",
            "6d63a088ca444e98b60fdd0470207728",
            "e3bc7290722f4bedac773e80b4d8b657",
            "ee5ef34f12134724911149466bf123ef",
            "bdd550c481be4e4286b9bd53af57cb87"
          ]
        },
        "id": "Ad4iYdehgqrL",
        "outputId": "b61eec30-ae3e-4247-c20b-2e1c5a6c4a88"
      },
      "id": "Ad4iYdehgqrL",
      "execution_count": 50,
      "outputs": [
        {
          "output_type": "display_data",
          "data": {
            "text/plain": [
              "  0%|          | 0/35 [00:00<?, ?it/s]"
            ],
            "application/vnd.jupyter.widget-view+json": {
              "version_major": 2,
              "version_minor": 0,
              "model_id": "15459129cf4a4fd1bc1b32741f8366c3"
            }
          },
          "metadata": {}
        }
      ]
    },
    {
      "cell_type": "markdown",
      "source": [
        "Функция для разделения списков"
      ],
      "metadata": {
        "id": "TKSzFo3Uyl3_"
      },
      "id": "TKSzFo3Uyl3_"
    },
    {
      "cell_type": "code",
      "source": [
        "def f(gen):\n",
        "    return pd.Series(gen, dtype='float64')"
      ],
      "metadata": {
        "id": "zSNFxs_wyo13"
      },
      "id": "zSNFxs_wyo13",
      "execution_count": 44,
      "outputs": []
    },
    {
      "cell_type": "markdown",
      "source": [
        "Добавление эмбеддингов к датафрейму"
      ],
      "metadata": {
        "id": "uY_SQ0kXjzkf"
      },
      "id": "uY_SQ0kXjzkf"
    },
    {
      "cell_type": "code",
      "source": [
        "bert_embedding = np.concatenate(bert_embeddings) # сбор в матрицу\n",
        "df_e = cover_lyric_wona_r[['text', 'track_remake_type']] # эмбендинги общим списком в данные df_e\n",
        "df_e['embedding'] = bert_embedding.tolist() # преобразование в список\n",
        "ren = df_e['embedding'].apply(f) # применение функции разделения к данным\n",
        "\n",
        "df_o = cover_lyric_wona_r.copy() # создание нового датафрейма\n",
        "df_o = df_o.drop('text', axis=1)\n",
        "\n",
        "df_o = pd.concat([df_o, ren], axis=1) # Добавление новых столбцов к датафрейму\n",
        "\n",
        "display('количество пропущенных значений:', df_o.isna().sum().sum())\n",
        "df_o.shape"
      ],
      "metadata": {
        "colab": {
          "base_uri": "https://localhost:8080/",
          "height": 70
        },
        "id": "nk-F3BQUj5KB",
        "outputId": "3c400d66-f917-4906-bf46-0b510fce66e8"
      },
      "id": "nk-F3BQUj5KB",
      "execution_count": 51,
      "outputs": [
        {
          "output_type": "display_data",
          "data": {
            "text/plain": [
              "'количество пропущенных значений:'"
            ],
            "application/vnd.google.colaboratory.intrinsic+json": {
              "type": "string"
            }
          },
          "metadata": {}
        },
        {
          "output_type": "display_data",
          "data": {
            "text/plain": [
              "0"
            ]
          },
          "metadata": {}
        },
        {
          "output_type": "execute_result",
          "data": {
            "text/plain": [
              "(3500, 772)"
            ]
          },
          "metadata": {},
          "execution_count": 51
        }
      ]
    },
    {
      "cell_type": "markdown",
      "source": [
        "Вывод:\n",
        "- получены эмбеддинги текстов при помощи мультиязычного трансформера на базе Bert\n",
        "- эмбеддинги добавлены к основным данным\n",
        "- затраченное на обучение время: 2 минуты"
      ],
      "metadata": {
        "id": "6k1U2wgF0WrK"
      },
      "id": "6k1U2wgF0WrK"
    },
    {
      "cell_type": "markdown",
      "source": [
        "### Подготовка к обучению"
      ],
      "metadata": {
        "id": "XhjAQKCAccCz"
      },
      "id": "XhjAQKCAccCz"
    },
    {
      "cell_type": "code",
      "source": [
        "'соотношение классов:', round(df_work['track_remake_type'].value_counts()[1] / df_work['track_remake_type'].value_counts()[0], 2)"
      ],
      "metadata": {
        "colab": {
          "base_uri": "https://localhost:8080/"
        },
        "id": "5HB0rpUwhbxW",
        "outputId": "66543741-bbcf-4635-d991-a528f0beca8e"
      },
      "id": "5HB0rpUwhbxW",
      "execution_count": 52,
      "outputs": [
        {
          "output_type": "execute_result",
          "data": {
            "text/plain": [
              "('соотношение классов:', 0.12)"
            ]
          },
          "metadata": {},
          "execution_count": 52
        }
      ]
    },
    {
      "cell_type": "markdown",
      "source": [
        "Вывод:\n",
        "- в данных наблюдается сильный дисбаланс классов\n",
        "- при разделении на выборки необходимо учесть этот момент"
      ],
      "metadata": {
        "id": "Qd5TYJHSZi6s"
      },
      "id": "Qd5TYJHSZi6s"
    },
    {
      "cell_type": "markdown",
      "source": [
        "## Machine learning"
      ],
      "metadata": {
        "id": "IlN-pl3AhwmA"
      },
      "id": "IlN-pl3AhwmA"
    },
    {
      "cell_type": "markdown",
      "source": [
        "### XGBoost на эмбеддингах SentenceTransformer"
      ],
      "metadata": {
        "id": "ddJu5-cdc51m"
      },
      "id": "ddJu5-cdc51m"
    },
    {
      "cell_type": "code",
      "source": [
        "df_tr = df_work.copy()\n",
        "X = df_tr.drop(['original_track_id', 'track_id', 'track_remake_type', 'text'], axis=1)\n",
        "y = df_tr['track_remake_type']\n",
        "y = (y != 'ORIGINAL').astype(int)\n",
        "\n",
        "X_train, X_test, y_train, y_test = train_test_split(X, y,\n",
        "                                                    test_size=0.2,\n",
        "                                                    random_state=RS,\n",
        "                                                    stratify=y)\n",
        "X_train.shape, X_test.shape, y_train.shape, y_test.shape"
      ],
      "metadata": {
        "colab": {
          "base_uri": "https://localhost:8080/"
        },
        "id": "l4GbjiOCUTb8",
        "outputId": "3c5bb1e5-9b79-4a5d-9b59-3e15c6d995e1"
      },
      "id": "l4GbjiOCUTb8",
      "execution_count": 53,
      "outputs": [
        {
          "output_type": "execute_result",
          "data": {
            "text/plain": [
              "((2879, 769), (720, 769), (2879,), (720,))"
            ]
          },
          "metadata": {},
          "execution_count": 53
        }
      ]
    },
    {
      "cell_type": "markdown",
      "source": [
        "Вывод:\n",
        "- данные поделены на обучающую и тестовую выборки с учётом дисбаланса классов"
      ],
      "metadata": {
        "id": "ws6YjakFZtxC"
      },
      "id": "ws6YjakFZtxC"
    },
    {
      "cell_type": "code",
      "source": [
        "# Преобразование данных в формат DMatrix\n",
        "dtrain = xgboost.DMatrix(X_train, label=y_train)\n",
        "dtest = xgboost.DMatrix(X_test, label=y_test)\n",
        "\n",
        "# Определение параметров модели\n",
        "params = {\n",
        "    'objective': 'binary:logistic',\n",
        "    'eval_metric': 'auc',\n",
        "    'eta': 0.1,\n",
        "    'max_depth': 3\n",
        "}\n",
        "\n",
        "# Обучение модели\n",
        "model = xgboost.train(params, dtrain, evals=[(dtest, 'Test')], num_boost_round=1000, verbose_eval=100)\n",
        "\n",
        "# Получение предсказаний на тестовом наборе данных\n",
        "y_pred = model.predict(dtest)\n",
        "y_pred_binary = [1 if p >= 0.5 else 0 for p in y_pred]\n",
        "\n",
        "# Вычисление ROC-AUC\n",
        "auc = roc_auc_score(y_test, y_pred)\n",
        "print('ROC-AUC:', round(auc, 2))\n",
        "\n",
        "# Вычисление F1-меры\n",
        "f1 = f1_score(y_test, y_pred_binary)\n",
        "print(\"F1-мера:\", round(f1, 2))"
      ],
      "metadata": {
        "colab": {
          "base_uri": "https://localhost:8080/"
        },
        "id": "9bIsfoeNT1Hq",
        "outputId": "23025234-4e98-429b-d6cf-022bdff60b6e"
      },
      "id": "9bIsfoeNT1Hq",
      "execution_count": 56,
      "outputs": [
        {
          "output_type": "stream",
          "name": "stdout",
          "text": [
            "[0]\tTest-auc:0.83211\n",
            "[100]\tTest-auc:0.92788\n",
            "[200]\tTest-auc:0.92418\n",
            "[300]\tTest-auc:0.92186\n",
            "[400]\tTest-auc:0.91983\n",
            "[500]\tTest-auc:0.92048\n",
            "[600]\tTest-auc:0.91886\n",
            "[700]\tTest-auc:0.91783\n",
            "[800]\tTest-auc:0.91647\n",
            "[900]\tTest-auc:0.91752\n",
            "[999]\tTest-auc:0.91709\n",
            "ROC-AUC: 0.92\n",
            "F1-мера: 0.68\n"
          ]
        }
      ]
    },
    {
      "cell_type": "markdown",
      "source": [
        "Вывод:\n",
        "- при обучении `XGBoost` получены метрики `ROC-AUC: 0.92`, `F1-мера: 0.68` на тестовых данных"
      ],
      "metadata": {
        "id": "63dYBqn7X05F"
      },
      "id": "63dYBqn7X05F"
    },
    {
      "cell_type": "markdown",
      "source": [
        "### CatBoost на эмбеддингах Bert"
      ],
      "metadata": {
        "id": "re2GCN541k5-"
      },
      "id": "re2GCN541k5-"
    },
    {
      "cell_type": "code",
      "source": [
        "df_tr_b = df_o.copy()\n",
        "X_bert_em = df_tr_b.drop(['original_track_id', 'track_id', 'track_remake_type'], axis=1)\n",
        "y_bert_m = df_tr_b['track_remake_type']\n",
        "y_bert_m = (y_bert_m != 'ORIGINAL').astype(int)\n",
        "\n",
        "X_train_b, X_test_b, y_train_b, y_test_b = train_test_split(X_bert_em,\n",
        "                                                            y_bert_m,\n",
        "                                                            test_size=0.2,\n",
        "                                                            random_state=RS,\n",
        "                                                            stratify=y_bert_m)\n",
        "X_train_b.shape, X_test_b.shape, y_train_b.shape, y_test_b.shape"
      ],
      "metadata": {
        "colab": {
          "base_uri": "https://localhost:8080/"
        },
        "id": "srFZUlJdVYTH",
        "outputId": "1cd44c3d-18dc-48f6-a7fd-f90bb8270cd3"
      },
      "id": "srFZUlJdVYTH",
      "execution_count": 70,
      "outputs": [
        {
          "output_type": "execute_result",
          "data": {
            "text/plain": [
              "((2800, 769), (700, 769), (2800,), (700,))"
            ]
          },
          "metadata": {},
          "execution_count": 70
        }
      ]
    },
    {
      "cell_type": "markdown",
      "source": [
        "Вывод:\n",
        "- данные разделены на выборки с учётом дисбаланса классов"
      ],
      "metadata": {
        "id": "eOc9_1G_5tAX"
      },
      "id": "eOc9_1G_5tAX"
    },
    {
      "cell_type": "code",
      "source": [
        "model_cat = CatBoostClassifier(random_state=RS, eval_metric='AUC') # инициализация модели\n",
        "model_cat.fit(X_train_b, y_train_b, eval_set=(X_test_b, y_test_b), verbose=100, plot=True) # обучение модели\n",
        "\n",
        "# Вычисление и вывод ROC-AUC\n",
        "y_pred_proba_cat = model_cat.predict_proba(X_test_b)[:, 1]\n",
        "roc_auc_cat = roc_auc_score(y_test_b, y_pred_proba_cat)\n",
        "print(\"ROC-AUC на тестовой выборке:\", roc_auc_cat)\n",
        "\n",
        "# Вычисление F1-меры\n",
        "y_pred_b = model_cat.predict(X_test_b) # получение предсказаний на тестовой выборке\n",
        "y_pred_binary_c = [1 if p >= 0.5 else 0 for p in y_pred_b]\n",
        "f1 = f1_score(y_test_b, y_pred_binary_c)\n",
        "print(\"F1-мера на тестовой выборке:\", f1)"
      ],
      "metadata": {
        "colab": {
          "base_uri": "https://localhost:8080/",
          "height": 347,
          "referenced_widgets": [
            "50c56c104f784a9e8bc9e4554e2bb335"
          ]
        },
        "id": "qUwt10YOT4mH",
        "outputId": "122ab7f1-c4aa-48ac-ea7c-633b25e352ef"
      },
      "id": "qUwt10YOT4mH",
      "execution_count": 79,
      "outputs": [
        {
          "output_type": "display_data",
          "data": {
            "text/plain": [
              "MetricVisualizer(layout=Layout(align_self='stretch', height='500px'))"
            ],
            "application/vnd.jupyter.widget-view+json": {
              "version_major": 2,
              "version_minor": 0,
              "model_id": "50c56c104f784a9e8bc9e4554e2bb335"
            }
          },
          "metadata": {}
        },
        {
          "output_type": "stream",
          "name": "stdout",
          "text": [
            "Learning rate set to 0.040866\n",
            "0:\ttest: 0.6451307\tbest: 0.6451307 (0)\ttotal: 393ms\tremaining: 6m 32s\n",
            "100:\ttest: 0.8317227\tbest: 0.8317227 (100)\ttotal: 23.9s\tremaining: 3m 33s\n",
            "200:\ttest: 0.8409173\tbest: 0.8409173 (200)\ttotal: 43s\tremaining: 2m 51s\n",
            "300:\ttest: 0.8511360\tbest: 0.8516693 (296)\ttotal: 1m 2s\tremaining: 2m 25s\n",
            "400:\ttest: 0.8537173\tbest: 0.8540160 (395)\ttotal: 1m 23s\tremaining: 2m 4s\n",
            "500:\ttest: 0.8577280\tbest: 0.8577280 (500)\ttotal: 1m 42s\tremaining: 1m 42s\n",
            "600:\ttest: 0.8580267\tbest: 0.8585173 (552)\ttotal: 2m 2s\tremaining: 1m 21s\n",
            "700:\ttest: 0.8598187\tbest: 0.8609493 (659)\ttotal: 2m 22s\tremaining: 1m\n",
            "800:\ttest: 0.8592000\tbest: 0.8609493 (659)\ttotal: 2m 43s\tremaining: 40.6s\n",
            "900:\ttest: 0.8585173\tbest: 0.8609493 (659)\ttotal: 3m 3s\tremaining: 20.2s\n",
            "999:\ttest: 0.8598187\tbest: 0.8609493 (659)\ttotal: 3m 24s\tremaining: 0us\n",
            "\n",
            "bestTest = 0.8609493333\n",
            "bestIteration = 659\n",
            "\n",
            "Shrink model to first 660 iterations.\n",
            "ROC-AUC на тестовой выборке: 0.8609493333333333\n",
            "F1-мера на тестовой выборке: 0.4380952380952381\n"
          ]
        }
      ]
    },
    {
      "cell_type": "markdown",
      "source": [
        "Вывод:\n",
        "- при обучении `CatBoost` получены метрики `ROC-AUC: 0.86`, `F1-мера: 0.43` на тестовых данных"
      ],
      "metadata": {
        "id": "H7apWPuW9RKK"
      },
      "id": "H7apWPuW9RKK"
    },
    {
      "cell_type": "markdown",
      "source": [
        "### LogisticRegression на эбеддингах Bert"
      ],
      "metadata": {
        "id": "Vfjj5C1YGFUe"
      },
      "id": "Vfjj5C1YGFUe"
    },
    {
      "cell_type": "code",
      "source": [
        "model_lg = LogisticRegression(random_state=RS, max_iter=1000)\n",
        "model_lg.fit(X_train_b.values, y_train_b)\n",
        "\n",
        "y_pred_tr_lg = model_lg.predict(X_train_b.values) # предсказания на обучающей выборке\n",
        "\n",
        "# Вычисление F1-меры для обучабщей выыборки\n",
        "y_pred_binary_lg = [1 if p >= 0.5 else 0 for p in y_pred_tr_lg]\n",
        "f1 = f1_score(y_train_b, y_pred_binary_lg)\n",
        "print(\"F1-мера на обучающей выборке:\", f1)\n",
        "\n",
        "# Вычисление F1-меры для тестовой выборки\n",
        "y_pred_t = model_lg.predict(X_test_b.values)\n",
        "y_pred_binary_tlg = [1 if p >= 0.5 else 0 for p in y_pred_t]\n",
        "f1 = f1_score(y_test_b, y_pred_binary_tlg)\n",
        "print(\"F1-мера на тестовой выборке:\", f1)\n",
        "\n",
        "# Вычисление ROC-AUC\n",
        "y_pred_proba_lg = model_lg.predict_proba(X_test_b.values)[:, 1]\n",
        "roc_auc_lg = roc_auc_score(y_test_b, y_pred_proba_lg)\n",
        "print(\"ROC-AUC на тестовой выборке:\", round(roc_auc_lg, 2))\n",
        "\n",
        "# Визуализация кривой ROC\n",
        "fpr_lg, tpr_lg, thresholds_lg = roc_curve(y_test_b, y_pred_proba_lg)\n",
        "plt.plot(fpr_lg, tpr_lg, label='ROC curve (area = %0.2f)' % roc_auc_lg)\n",
        "plt.plot([0, 1], [0, 1], 'k--')\n",
        "plt.xlim([0.0, 1.0])\n",
        "plt.ylim([0.0, 1.05])\n",
        "plt.xlabel('False Positive Rate')\n",
        "plt.ylabel('True Positive Rate')\n",
        "plt.title('Receiver Operating Characteristic')\n",
        "plt.legend(loc=\"lower right\")\n",
        "plt.show()"
      ],
      "metadata": {
        "colab": {
          "base_uri": "https://localhost:8080/",
          "height": 524
        },
        "id": "ii7v6UDKGVVS",
        "outputId": "4c028c6b-8c80-4771-dc89-a208b1c56a6b"
      },
      "id": "ii7v6UDKGVVS",
      "execution_count": 90,
      "outputs": [
        {
          "output_type": "stream",
          "name": "stdout",
          "text": [
            "F1-мера на обучающей выборке: 0.0\n",
            "F1-мера на тестовой выборке: 0.0\n",
            "ROC-AUC на тестовой выборке: 0.57\n"
          ]
        },
        {
          "output_type": "display_data",
          "data": {
            "text/plain": [
              "<Figure size 640x480 with 1 Axes>"
            ],
            "image/png": "[encoded data removed]"
          },
          "metadata": {}
        }
      ]
    },
    {
      "cell_type": "markdown",
      "source": [
        "Вывод:\n",
        "\n",
        "- при обучении `LogisticRegression` получены метрики `ROC-AUC: 0.57`, `F1-мера: 0.0` на тестовых данных"
      ],
      "metadata": {
        "id": "C36zyyFzcxZ7"
      },
      "id": "C36zyyFzcxZ7"
    },
    {
      "cell_type": "markdown",
      "source": [
        "## Заключение:\n",
        "- в решении поставленной задачи основными признаками приняты текст и дата появления трека\n",
        "- целевой метрикой выбрана roc-auc, т.к. она устойчива к дисбалансу классов, который присущ предоставленным данным\n",
        "- при кодировании текстов использованы два трансформера: SentenceTransformer, Bert transformer\n",
        "- для обучения использовались признаки: дата выхода трека, эмбеддинги\n",
        "- целевой признак - метка оригинал/кавер\n",
        "- удалённые признаки:\n",
        "  - ID треков и текстов (чтобы модель была более универсальной)\n",
        "  - текст - удалён, т.к. есть его эмбеддинги\n",
        "  - язык, продолжительность, жанр - удалены, т.к. сами по себе данные признаки не информативны для решения поставленной задачи\n",
        "- при обучении выбирали лучшую из моделей: XGBoost, CatBoost, LogisticRegression\n",
        "- наилучший результат по выбранной метрике показала модель: XGBoost\n",
        "- не реализованные идеи:\n",
        "  - пробовали использовать библиотеку MusicMetaLinker для обогащения предоставленных данных, но для полноценного использования не хватило отведённого времени\n",
        "  - рассматривали алгоритм Doc2Vec, для полноценного изучения не хватило времени"
      ],
      "metadata": {
        "id": "rOVoq0i7d0uz"
      },
      "id": "rOVoq0i7d0uz"
    }
  ],
  "metadata": {
    "kernelspec": {
      "display_name": "Python 3",
      "name": "python3"
    },
    "language_info": {
      "codemirror_mode": {
        "name": "ipython",
        "version": 3
      },
      "file_extension": ".py",
      "mimetype": "text/x-python",
      "name": "python",
      "nbconvert_exporter": "python",
      "pygments_lexer": "ipython3",
      "version": "3.10.12"
    },
    "colab": {
      "provenance": [],
      "toc_visible": true,
      "gpuType": "T4"
    },
    "accelerator": "GPU",
    "widgets": {
      "application/vnd.jupyter.widget-state+json": {
        "8d49f1874072412e829f676c317e66ec": {
          "model_module": "@jupyter-widgets/controls",
          "model_name": "HBoxModel",
          "model_module_version": "1.5.0",
          "state": {
            "_dom_classes": [],
            "_model_module": "@jupyter-widgets/controls",
            "_model_module_version": "1.5.0",
            "_model_name": "HBoxModel",
            "_view_count": null,
            "_view_module": "@jupyter-widgets/controls",
            "_view_module_version": "1.5.0",
            "_view_name": "HBoxView",
            "box_style": "",
            "children": [
              "IPY_MODEL_e64575ebaceb4aa791771fad5d7a7785",
              "IPY_MODEL_50675f78f85d4fea9d8d1ce4bbf62fe2",
              "IPY_MODEL_37aeabc524614895b39105918e4380cd"
            ],
            "layout": "IPY_MODEL_9eaf463db7164fb88a1b9d7c1106c5d0"
          }
        },
        "e64575ebaceb4aa791771fad5d7a7785": {
          "model_module": "@jupyter-widgets/controls",
          "model_name": "HTMLModel",
          "model_module_version": "1.5.0",
          "state": {
            "_dom_classes": [],
            "_model_module": "@jupyter-widgets/controls",
            "_model_module_version": "1.5.0",
            "_model_name": "HTMLModel",
            "_view_count": null,
            "_view_module": "@jupyter-widgets/controls",
            "_view_module_version": "1.5.0",
            "_view_name": "HTMLView",
            "description": "",
            "description_tooltip": null,
            "layout": "IPY_MODEL_9b4e67b840e14d6f892083264065fe86",
            "placeholder": "​",
            "style": "IPY_MODEL_44b2f80cb9c245febbc98756ddb0ff41",
            "value": "Downloading (…)be010/.gitattributes: 100%"
          }
        },
        "50675f78f85d4fea9d8d1ce4bbf62fe2": {
          "model_module": "@jupyter-widgets/controls",
          "model_name": "FloatProgressModel",
          "model_module_version": "1.5.0",
          "state": {
            "_dom_classes": [],
            "_model_module": "@jupyter-widgets/controls",
            "_model_module_version": "1.5.0",
            "_model_name": "FloatProgressModel",
            "_view_count": null,
            "_view_module": "@jupyter-widgets/controls",
            "_view_module_version": "1.5.0",
            "_view_name": "ProgressView",
            "bar_style": "success",
            "description": "",
            "description_tooltip": null,
            "layout": "IPY_MODEL_0dadc241485a42b1a7ff4208a5c05ee6",
            "max": 391,
            "min": 0,
            "orientation": "horizontal",
            "style": "IPY_MODEL_4082d2ffbf2847b1be9e946f77b603a9",
            "value": 391
          }
        },
        "37aeabc524614895b39105918e4380cd": {
          "model_module": "@jupyter-widgets/controls",
          "model_name": "HTMLModel",
          "model_module_version": "1.5.0",
          "state": {
            "_dom_classes": [],
            "_model_module": "@jupyter-widgets/controls",
            "_model_module_version": "1.5.0",
            "_model_name": "HTMLModel",
            "_view_count": null,
            "_view_module": "@jupyter-widgets/controls",
            "_view_module_version": "1.5.0",
            "_view_name": "HTMLView",
            "description": "",
            "description_tooltip": null,
            "layout": "IPY_MODEL_88687bfc6d2848d483c5c2d28a57f7a7",
            "placeholder": "​",
            "style": "IPY_MODEL_3b4d5e6c4ffa492f959498c7cb9ee76d",
            "value": " 391/391 [00:00&lt;00:00, 16.0kB/s]"
          }
        },
        "9eaf463db7164fb88a1b9d7c1106c5d0": {
          "model_module": "@jupyter-widgets/base",
          "model_name": "LayoutModel",
          "model_module_version": "1.2.0",
          "state": {
            "_model_module": "@jupyter-widgets/base",
            "_model_module_version": "1.2.0",
            "_model_name": "LayoutModel",
            "_view_count": null,
            "_view_module": "@jupyter-widgets/base",
            "_view_module_version": "1.2.0",
            "_view_name": "LayoutView",
            "align_content": null,
            "align_items": null,
            "align_self": null,
            "border": null,
            "bottom": null,
            "display": null,
            "flex": null,
            "flex_flow": null,
            "grid_area": null,
            "grid_auto_columns": null,
            "grid_auto_flow": null,
            "grid_auto_rows": null,
            "grid_column": null,
            "grid_gap": null,
            "grid_row": null,
            "grid_template_areas": null,
            "grid_template_columns": null,
            "grid_template_rows": null,
            "height": null,
            "justify_content": null,
            "justify_items": null,
            "left": null,
            "margin": null,
            "max_height": null,
            "max_width": null,
            "min_height": null,
            "min_width": null,
            "object_fit": null,
            "object_position": null,
            "order": null,
            "overflow": null,
            "overflow_x": null,
            "overflow_y": null,
            "padding": null,
            "right": null,
            "top": null,
            "visibility": null,
            "width": null
          }
        },
        "9b4e67b840e14d6f892083264065fe86": {
          "model_module": "@jupyter-widgets/base",
          "model_name": "LayoutModel",
          "model_module_version": "1.2.0",
          "state": {
            "_model_module": "@jupyter-widgets/base",
            "_model_module_version": "1.2.0",
            "_model_name": "LayoutModel",
            "_view_count": null,
            "_view_module": "@jupyter-widgets/base",
            "_view_module_version": "1.2.0",
            "_view_name": "LayoutView",
            "align_content": null,
            "align_items": null,
            "align_self": null,
            "border": null,
            "bottom": null,
            "display": null,
            "flex": null,
            "flex_flow": null,
            "grid_area": null,
            "grid_auto_columns": null,
            "grid_auto_flow": null,
            "grid_auto_rows": null,
            "grid_column": null,
            "grid_gap": null,
            "grid_row": null,
            "grid_template_areas": null,
            "grid_template_columns": null,
            "grid_template_rows": null,
            "height": null,
            "justify_content": null,
            "justify_items": null,
            "left": null,
            "margin": null,
            "max_height": null,
            "max_width": null,
            "min_height": null,
            "min_width": null,
            "object_fit": null,
            "object_position": null,
            "order": null,
            "overflow": null,
            "overflow_x": null,
            "overflow_y": null,
            "padding": null,
            "right": null,
            "top": null,
            "visibility": null,
            "width": null
          }
        },
        "44b2f80cb9c245febbc98756ddb0ff41": {
          "model_module": "@jupyter-widgets/controls",
          "model_name": "DescriptionStyleModel",
          "model_module_version": "1.5.0",
          "state": {
            "_model_module": "@jupyter-widgets/controls",
            "_model_module_version": "1.5.0",
            "_model_name": "DescriptionStyleModel",
            "_view_count": null,
            "_view_module": "@jupyter-widgets/base",
            "_view_module_version": "1.2.0",
            "_view_name": "StyleView",
            "description_width": ""
          }
        },
        "0dadc241485a42b1a7ff4208a5c05ee6": {
          "model_module": "@jupyter-widgets/base",
          "model_name": "LayoutModel",
          "model_module_version": "1.2.0",
          "state": {
            "_model_module": "@jupyter-widgets/base",
            "_model_module_version": "1.2.0",
            "_model_name": "LayoutModel",
            "_view_count": null,
            "_view_module": "@jupyter-widgets/base",
            "_view_module_version": "1.2.0",
            "_view_name": "LayoutView",
            "align_content": null,
            "align_items": null,
            "align_self": null,
            "border": null,
            "bottom": null,
            "display": null,
            "flex": null,
            "flex_flow": null,
            "grid_area": null,
            "grid_auto_columns": null,
            "grid_auto_flow": null,
            "grid_auto_rows": null,
            "grid_column": null,
            "grid_gap": null,
            "grid_row": null,
            "grid_template_areas": null,
            "grid_template_columns": null,
            "grid_template_rows": null,
            "height": null,
            "justify_content": null,
            "justify_items": null,
            "left": null,
            "margin": null,
            "max_height": null,
            "max_width": null,
            "min_height": null,
            "min_width": null,
            "object_fit": null,
            "object_position": null,
            "order": null,
            "overflow": null,
            "overflow_x": null,
            "overflow_y": null,
            "padding": null,
            "right": null,
            "top": null,
            "visibility": null,
            "width": null
          }
        },
        "4082d2ffbf2847b1be9e946f77b603a9": {
          "model_module": "@jupyter-widgets/controls",
          "model_name": "ProgressStyleModel",
          "model_module_version": "1.5.0",
          "state": {
            "_model_module": "@jupyter-widgets/controls",
            "_model_module_version": "1.5.0",
            "_model_name": "ProgressStyleModel",
            "_view_count": null,
            "_view_module": "@jupyter-widgets/base",
            "_view_module_version": "1.2.0",
            "_view_name": "StyleView",
            "bar_color": null,
            "description_width": ""
          }
        },
        "88687bfc6d2848d483c5c2d28a57f7a7": {
          "model_module": "@jupyter-widgets/base",
          "model_name": "LayoutModel",
          "model_module_version": "1.2.0",
          "state": {
            "_model_module": "@jupyter-widgets/base",
            "_model_module_version": "1.2.0",
            "_model_name": "LayoutModel",
            "_view_count": null,
            "_view_module": "@jupyter-widgets/base",
            "_view_module_version": "1.2.0",
            "_view_name": "LayoutView",
            "align_content": null,
            "align_items": null,
            "align_self": null,
            "border": null,
            "bottom": null,
            "display": null,
            "flex": null,
            "flex_flow": null,
            "grid_area": null,
            "grid_auto_columns": null,
            "grid_auto_flow": null,
            "grid_auto_rows": null,
            "grid_column": null,
            "grid_gap": null,
            "grid_row": null,
            "grid_template_areas": null,
            "grid_template_columns": null,
            "grid_template_rows": null,
            "height": null,
            "justify_content": null,
            "justify_items": null,
            "left": null,
            "margin": null,
            "max_height": null,
            "max_width": null,
            "min_height": null,
            "min_width": null,
            "object_fit": null,
            "object_position": null,
            "order": null,
            "overflow": null,
            "overflow_x": null,
            "overflow_y": null,
            "padding": null,
            "right": null,
            "top": null,
            "visibility": null,
            "width": null
          }
        },
        "3b4d5e6c4ffa492f959498c7cb9ee76d": {
          "model_module": "@jupyter-widgets/controls",
          "model_name": "DescriptionStyleModel",
          "model_module_version": "1.5.0",
          "state": {
            "_model_module": "@jupyter-widgets/controls",
            "_model_module_version": "1.5.0",
            "_model_name": "DescriptionStyleModel",
            "_view_count": null,
            "_view_module": "@jupyter-widgets/base",
            "_view_module_version": "1.2.0",
            "_view_name": "StyleView",
            "description_width": ""
          }
        },
        "abee42b18ad1410fa4fd5f08a46c9fc8": {
          "model_module": "@jupyter-widgets/controls",
          "model_name": "HBoxModel",
          "model_module_version": "1.5.0",
          "state": {
            "_dom_classes": [],
            "_model_module": "@jupyter-widgets/controls",
            "_model_module_version": "1.5.0",
            "_model_name": "HBoxModel",
            "_view_count": null,
            "_view_module": "@jupyter-widgets/controls",
            "_view_module_version": "1.5.0",
            "_view_name": "HBoxView",
            "box_style": "",
            "children": [
              "IPY_MODEL_588109e7e4c9488eb3ee7b4aa1c0a8dc",
              "IPY_MODEL_eb1c8156a1154d4fa2d2f42c7a21d176",
              "IPY_MODEL_4425eebc174e42259c610805336c7d32"
            ],
            "layout": "IPY_MODEL_7fdae3d2926e45caa0eb7b37dd3c75e2"
          }
        },
        "588109e7e4c9488eb3ee7b4aa1c0a8dc": {
          "model_module": "@jupyter-widgets/controls",
          "model_name": "HTMLModel",
          "model_module_version": "1.5.0",
          "state": {
            "_dom_classes": [],
            "_model_module": "@jupyter-widgets/controls",
            "_model_module_version": "1.5.0",
            "_model_name": "HTMLModel",
            "_view_count": null,
            "_view_module": "@jupyter-widgets/controls",
            "_view_module_version": "1.5.0",
            "_view_name": "HTMLView",
            "description": "",
            "description_tooltip": null,
            "layout": "IPY_MODEL_08be8bce3f124f6eb04f3aa4a3ab19ba",
            "placeholder": "​",
            "style": "IPY_MODEL_5f6780391ffc4144abaebb5cba8c4ee5",
            "value": "Downloading (…)_Pooling/config.json: 100%"
          }
        },
        "eb1c8156a1154d4fa2d2f42c7a21d176": {
          "model_module": "@jupyter-widgets/controls",
          "model_name": "FloatProgressModel",
          "model_module_version": "1.5.0",
          "state": {
            "_dom_classes": [],
            "_model_module": "@jupyter-widgets/controls",
            "_model_module_version": "1.5.0",
            "_model_name": "FloatProgressModel",
            "_view_count": null,
            "_view_module": "@jupyter-widgets/controls",
            "_view_module_version": "1.5.0",
            "_view_name": "ProgressView",
            "bar_style": "success",
            "description": "",
            "description_tooltip": null,
            "layout": "IPY_MODEL_5e388aa8a7a74baf8e72afb48800badc",
            "max": 190,
            "min": 0,
            "orientation": "horizontal",
            "style": "IPY_MODEL_f8126320adf14dd69106d042d2317475",
            "value": 190
          }
        },
        "4425eebc174e42259c610805336c7d32": {
          "model_module": "@jupyter-widgets/controls",
          "model_name": "HTMLModel",
          "model_module_version": "1.5.0",
          "state": {
            "_dom_classes": [],
            "_model_module": "@jupyter-widgets/controls",
            "_model_module_version": "1.5.0",
            "_model_name": "HTMLModel",
            "_view_count": null,
            "_view_module": "@jupyter-widgets/controls",
            "_view_module_version": "1.5.0",
            "_view_name": "HTMLView",
            "description": "",
            "description_tooltip": null,
            "layout": "IPY_MODEL_511c1bc968ba4f6e9e505fe54eef9aa8",
            "placeholder": "​",
            "style": "IPY_MODEL_48accb2480d94e5e8c7920f81009dd7e",
            "value": " 190/190 [00:00&lt;00:00, 7.34kB/s]"
          }
        },
        "7fdae3d2926e45caa0eb7b37dd3c75e2": {
          "model_module": "@jupyter-widgets/base",
          "model_name": "LayoutModel",
          "model_module_version": "1.2.0",
          "state": {
            "_model_module": "@jupyter-widgets/base",
            "_model_module_version": "1.2.0",
            "_model_name": "LayoutModel",
            "_view_count": null,
            "_view_module": "@jupyter-widgets/base",
            "_view_module_version": "1.2.0",
            "_view_name": "LayoutView",
            "align_content": null,
            "align_items": null,
            "align_self": null,
            "border": null,
            "bottom": null,
            "display": null,
            "flex": null,
            "flex_flow": null,
            "grid_area": null,
            "grid_auto_columns": null,
            "grid_auto_flow": null,
            "grid_auto_rows": null,
            "grid_column": null,
            "grid_gap": null,
            "grid_row": null,
            "grid_template_areas": null,
            "grid_template_columns": null,
            "grid_template_rows": null,
            "height": null,
            "justify_content": null,
            "justify_items": null,
            "left": null,
            "margin": null,
            "max_height": null,
            "max_width": null,
            "min_height": null,
            "min_width": null,
            "object_fit": null,
            "object_position": null,
            "order": null,
            "overflow": null,
            "overflow_x": null,
            "overflow_y": null,
            "padding": null,
            "right": null,
            "top": null,
            "visibility": null,
            "width": null
          }
        },
        "08be8bce3f124f6eb04f3aa4a3ab19ba": {
          "model_module": "@jupyter-widgets/base",
          "model_name": "LayoutModel",
          "model_module_version": "1.2.0",
          "state": {
            "_model_module": "@jupyter-widgets/base",
            "_model_module_version": "1.2.0",
            "_model_name": "LayoutModel",
            "_view_count": null,
            "_view_module": "@jupyter-widgets/base",
            "_view_module_version": "1.2.0",
            "_view_name": "LayoutView",
            "align_content": null,
            "align_items": null,
            "align_self": null,
            "border": null,
            "bottom": null,
            "display": null,
            "flex": null,
            "flex_flow": null,
            "grid_area": null,
            "grid_auto_columns": null,
            "grid_auto_flow": null,
            "grid_auto_rows": null,
            "grid_column": null,
            "grid_gap": null,
            "grid_row": null,
            "grid_template_areas": null,
            "grid_template_columns": null,
            "grid_template_rows": null,
            "height": null,
            "justify_content": null,
            "justify_items": null,
            "left": null,
            "margin": null,
            "max_height": null,
            "max_width": null,
            "min_height": null,
            "min_width": null,
            "object_fit": null,
            "object_position": null,
            "order": null,
            "overflow": null,
            "overflow_x": null,
            "overflow_y": null,
            "padding": null,
            "right": null,
            "top": null,
            "visibility": null,
            "width": null
          }
        },
        "5f6780391ffc4144abaebb5cba8c4ee5": {
          "model_module": "@jupyter-widgets/controls",
          "model_name": "DescriptionStyleModel",
          "model_module_version": "1.5.0",
          "state": {
            "_model_module": "@jupyter-widgets/controls",
            "_model_module_version": "1.5.0",
            "_model_name": "DescriptionStyleModel",
            "_view_count": null,
            "_view_module": "@jupyter-widgets/base",
            "_view_module_version": "1.2.0",
            "_view_name": "StyleView",
            "description_width": ""
          }
        },
        "5e388aa8a7a74baf8e72afb48800badc": {
          "model_module": "@jupyter-widgets/base",
          "model_name": "LayoutModel",
          "model_module_version": "1.2.0",
          "state": {
            "_model_module": "@jupyter-widgets/base",
            "_model_module_version": "1.2.0",
            "_model_name": "LayoutModel",
            "_view_count": null,
            "_view_module": "@jupyter-widgets/base",
            "_view_module_version": "1.2.0",
            "_view_name": "LayoutView",
            "align_content": null,
            "align_items": null,
            "align_self": null,
            "border": null,
            "bottom": null,
            "display": null,
            "flex": null,
            "flex_flow": null,
            "grid_area": null,
            "grid_auto_columns": null,
            "grid_auto_flow": null,
            "grid_auto_rows": null,
            "grid_column": null,
            "grid_gap": null,
            "grid_row": null,
            "grid_template_areas": null,
            "grid_template_columns": null,
            "grid_template_rows": null,
            "height": null,
            "justify_content": null,
            "justify_items": null,
            "left": null,
            "margin": null,
            "max_height": null,
            "max_width": null,
            "min_height": null,
            "min_width": null,
            "object_fit": null,
            "object_position": null,
            "order": null,
            "overflow": null,
            "overflow_x": null,
            "overflow_y": null,
            "padding": null,
            "right": null,
            "top": null,
            "visibility": null,
            "width": null
          }
        },
        "f8126320adf14dd69106d042d2317475": {
          "model_module": "@jupyter-widgets/controls",
          "model_name": "ProgressStyleModel",
          "model_module_version": "1.5.0",
          "state": {
            "_model_module": "@jupyter-widgets/controls",
            "_model_module_version": "1.5.0",
            "_model_name": "ProgressStyleModel",
            "_view_count": null,
            "_view_module": "@jupyter-widgets/base",
            "_view_module_version": "1.2.0",
            "_view_name": "StyleView",
            "bar_color": null,
            "description_width": ""
          }
        },
        "511c1bc968ba4f6e9e505fe54eef9aa8": {
          "model_module": "@jupyter-widgets/base",
          "model_name": "LayoutModel",
          "model_module_version": "1.2.0",
          "state": {
            "_model_module": "@jupyter-widgets/base",
            "_model_module_version": "1.2.0",
            "_model_name": "LayoutModel",
            "_view_count": null,
            "_view_module": "@jupyter-widgets/base",
            "_view_module_version": "1.2.0",
            "_view_name": "LayoutView",
            "align_content": null,
            "align_items": null,
            "align_self": null,
            "border": null,
            "bottom": null,
            "display": null,
            "flex": null,
            "flex_flow": null,
            "grid_area": null,
            "grid_auto_columns": null,
            "grid_auto_flow": null,
            "grid_auto_rows": null,
            "grid_column": null,
            "grid_gap": null,
            "grid_row": null,
            "grid_template_areas": null,
            "grid_template_columns": null,
            "grid_template_rows": null,
            "height": null,
            "justify_content": null,
            "justify_items": null,
            "left": null,
            "margin": null,
            "max_height": null,
            "max_width": null,
            "min_height": null,
            "min_width": null,
            "object_fit": null,
            "object_position": null,
            "order": null,
            "overflow": null,
            "overflow_x": null,
            "overflow_y": null,
            "padding": null,
            "right": null,
            "top": null,
            "visibility": null,
            "width": null
          }
        },
        "48accb2480d94e5e8c7920f81009dd7e": {
          "model_module": "@jupyter-widgets/controls",
          "model_name": "DescriptionStyleModel",
          "model_module_version": "1.5.0",
          "state": {
            "_model_module": "@jupyter-widgets/controls",
            "_model_module_version": "1.5.0",
            "_model_name": "DescriptionStyleModel",
            "_view_count": null,
            "_view_module": "@jupyter-widgets/base",
            "_view_module_version": "1.2.0",
            "_view_name": "StyleView",
            "description_width": ""
          }
        },
        "99c786df5f494019864b176a29f32727": {
          "model_module": "@jupyter-widgets/controls",
          "model_name": "HBoxModel",
          "model_module_version": "1.5.0",
          "state": {
            "_dom_classes": [],
            "_model_module": "@jupyter-widgets/controls",
            "_model_module_version": "1.5.0",
            "_model_name": "HBoxModel",
            "_view_count": null,
            "_view_module": "@jupyter-widgets/controls",
            "_view_module_version": "1.5.0",
            "_view_name": "HBoxView",
            "box_style": "",
            "children": [
              "IPY_MODEL_18a739626f834819b3b0b05bd26c37b9",
              "IPY_MODEL_999ec73139d7485f801846b9525fd83e",
              "IPY_MODEL_33f73bd3f489485da1ca361522223c4a"
            ],
            "layout": "IPY_MODEL_21b65cab3b9341dd90b0024f52b61fea"
          }
        },
        "18a739626f834819b3b0b05bd26c37b9": {
          "model_module": "@jupyter-widgets/controls",
          "model_name": "HTMLModel",
          "model_module_version": "1.5.0",
          "state": {
            "_dom_classes": [],
            "_model_module": "@jupyter-widgets/controls",
            "_model_module_version": "1.5.0",
            "_model_name": "HTMLModel",
            "_view_count": null,
            "_view_module": "@jupyter-widgets/controls",
            "_view_module_version": "1.5.0",
            "_view_name": "HTMLView",
            "description": "",
            "description_tooltip": null,
            "layout": "IPY_MODEL_c6b8bf9e72314293b4e55e1ddbfb1847",
            "placeholder": "​",
            "style": "IPY_MODEL_793676f567044ad3a3271c11dd9bcf81",
            "value": "Downloading (…)/2_Dense/config.json: 100%"
          }
        },
        "999ec73139d7485f801846b9525fd83e": {
          "model_module": "@jupyter-widgets/controls",
          "model_name": "FloatProgressModel",
          "model_module_version": "1.5.0",
          "state": {
            "_dom_classes": [],
            "_model_module": "@jupyter-widgets/controls",
            "_model_module_version": "1.5.0",
            "_model_name": "FloatProgressModel",
            "_view_count": null,
            "_view_module": "@jupyter-widgets/controls",
            "_view_module_version": "1.5.0",
            "_view_name": "ProgressView",
            "bar_style": "success",
            "description": "",
            "description_tooltip": null,
            "layout": "IPY_MODEL_2340881c8def44619fd4455a53f1a2f3",
            "max": 114,
            "min": 0,
            "orientation": "horizontal",
            "style": "IPY_MODEL_05a264b19b064a31b5922dfa5c1a205c",
            "value": 114
          }
        },
        "33f73bd3f489485da1ca361522223c4a": {
          "model_module": "@jupyter-widgets/controls",
          "model_name": "HTMLModel",
          "model_module_version": "1.5.0",
          "state": {
            "_dom_classes": [],
            "_model_module": "@jupyter-widgets/controls",
            "_model_module_version": "1.5.0",
            "_model_name": "HTMLModel",
            "_view_count": null,
            "_view_module": "@jupyter-widgets/controls",
            "_view_module_version": "1.5.0",
            "_view_name": "HTMLView",
            "description": "",
            "description_tooltip": null,
            "layout": "IPY_MODEL_ca0fd153e6c34ceeaab0624e44197a76",
            "placeholder": "​",
            "style": "IPY_MODEL_6f1f731413df4f95ad9f74aad010b0b1",
            "value": " 114/114 [00:00&lt;00:00, 5.53kB/s]"
          }
        },
        "21b65cab3b9341dd90b0024f52b61fea": {
          "model_module": "@jupyter-widgets/base",
          "model_name": "LayoutModel",
          "model_module_version": "1.2.0",
          "state": {
            "_model_module": "@jupyter-widgets/base",
            "_model_module_version": "1.2.0",
            "_model_name": "LayoutModel",
            "_view_count": null,
            "_view_module": "@jupyter-widgets/base",
            "_view_module_version": "1.2.0",
            "_view_name": "LayoutView",
            "align_content": null,
            "align_items": null,
            "align_self": null,
            "border": null,
            "bottom": null,
            "display": null,
            "flex": null,
            "flex_flow": null,
            "grid_area": null,
            "grid_auto_columns": null,
            "grid_auto_flow": null,
            "grid_auto_rows": null,
            "grid_column": null,
            "grid_gap": null,
            "grid_row": null,
            "grid_template_areas": null,
            "grid_template_columns": null,
            "grid_template_rows": null,
            "height": null,
            "justify_content": null,
            "justify_items": null,
            "left": null,
            "margin": null,
            "max_height": null,
            "max_width": null,
            "min_height": null,
            "min_width": null,
            "object_fit": null,
            "object_position": null,
            "order": null,
            "overflow": null,
            "overflow_x": null,
            "overflow_y": null,
            "padding": null,
            "right": null,
            "top": null,
            "visibility": null,
            "width": null
          }
        },
        "c6b8bf9e72314293b4e55e1ddbfb1847": {
          "model_module": "@jupyter-widgets/base",
          "model_name": "LayoutModel",
          "model_module_version": "1.2.0",
          "state": {
            "_model_module": "@jupyter-widgets/base",
            "_model_module_version": "1.2.0",
            "_model_name": "LayoutModel",
            "_view_count": null,
            "_view_module": "@jupyter-widgets/base",
            "_view_module_version": "1.2.0",
            "_view_name": "LayoutView",
            "align_content": null,
            "align_items": null,
            "align_self": null,
            "border": null,
            "bottom": null,
            "display": null,
            "flex": null,
            "flex_flow": null,
            "grid_area": null,
            "grid_auto_columns": null,
            "grid_auto_flow": null,
            "grid_auto_rows": null,
            "grid_column": null,
            "grid_gap": null,
            "grid_row": null,
            "grid_template_areas": null,
            "grid_template_columns": null,
            "grid_template_rows": null,
            "height": null,
            "justify_content": null,
            "justify_items": null,
            "left": null,
            "margin": null,
            "max_height": null,
            "max_width": null,
            "min_height": null,
            "min_width": null,
            "object_fit": null,
            "object_position": null,
            "order": null,
            "overflow": null,
            "overflow_x": null,
            "overflow_y": null,
            "padding": null,
            "right": null,
            "top": null,
            "visibility": null,
            "width": null
          }
        },
        "793676f567044ad3a3271c11dd9bcf81": {
          "model_module": "@jupyter-widgets/controls",
          "model_name": "DescriptionStyleModel",
          "model_module_version": "1.5.0",
          "state": {
            "_model_module": "@jupyter-widgets/controls",
            "_model_module_version": "1.5.0",
            "_model_name": "DescriptionStyleModel",
            "_view_count": null,
            "_view_module": "@jupyter-widgets/base",
            "_view_module_version": "1.2.0",
            "_view_name": "StyleView",
            "description_width": ""
          }
        },
        "2340881c8def44619fd4455a53f1a2f3": {
          "model_module": "@jupyter-widgets/base",
          "model_name": "LayoutModel",
          "model_module_version": "1.2.0",
          "state": {
            "_model_module": "@jupyter-widgets/base",
            "_model_module_version": "1.2.0",
            "_model_name": "LayoutModel",
            "_view_count": null,
            "_view_module": "@jupyter-widgets/base",
            "_view_module_version": "1.2.0",
            "_view_name": "LayoutView",
            "align_content": null,
            "align_items": null,
            "align_self": null,
            "border": null,
            "bottom": null,
            "display": null,
            "flex": null,
            "flex_flow": null,
            "grid_area": null,
            "grid_auto_columns": null,
            "grid_auto_flow": null,
            "grid_auto_rows": null,
            "grid_column": null,
            "grid_gap": null,
            "grid_row": null,
            "grid_template_areas": null,
            "grid_template_columns": null,
            "grid_template_rows": null,
            "height": null,
            "justify_content": null,
            "justify_items": null,
            "left": null,
            "margin": null,
            "max_height": null,
            "max_width": null,
            "min_height": null,
            "min_width": null,
            "object_fit": null,
            "object_position": null,
            "order": null,
            "overflow": null,
            "overflow_x": null,
            "overflow_y": null,
            "padding": null,
            "right": null,
            "top": null,
            "visibility": null,
            "width": null
          }
        },
        "05a264b19b064a31b5922dfa5c1a205c": {
          "model_module": "@jupyter-widgets/controls",
          "model_name": "ProgressStyleModel",
          "model_module_version": "1.5.0",
          "state": {
            "_model_module": "@jupyter-widgets/controls",
            "_model_module_version": "1.5.0",
            "_model_name": "ProgressStyleModel",
            "_view_count": null,
            "_view_module": "@jupyter-widgets/base",
            "_view_module_version": "1.2.0",
            "_view_name": "StyleView",
            "bar_color": null,
            "description_width": ""
          }
        },
        "ca0fd153e6c34ceeaab0624e44197a76": {
          "model_module": "@jupyter-widgets/base",
          "model_name": "LayoutModel",
          "model_module_version": "1.2.0",
          "state": {
            "_model_module": "@jupyter-widgets/base",
            "_model_module_version": "1.2.0",
            "_model_name": "LayoutModel",
            "_view_count": null,
            "_view_module": "@jupyter-widgets/base",
            "_view_module_version": "1.2.0",
            "_view_name": "LayoutView",
            "align_content": null,
            "align_items": null,
            "align_self": null,
            "border": null,
            "bottom": null,
            "display": null,
            "flex": null,
            "flex_flow": null,
            "grid_area": null,
            "grid_auto_columns": null,
            "grid_auto_flow": null,
            "grid_auto_rows": null,
            "grid_column": null,
            "grid_gap": null,
            "grid_row": null,
            "grid_template_areas": null,
            "grid_template_columns": null,
            "grid_template_rows": null,
            "height": null,
            "justify_content": null,
            "justify_items": null,
            "left": null,
            "margin": null,
            "max_height": null,
            "max_width": null,
            "min_height": null,
            "min_width": null,
            "object_fit": null,
            "object_position": null,
            "order": null,
            "overflow": null,
            "overflow_x": null,
            "overflow_y": null,
            "padding": null,
            "right": null,
            "top": null,
            "visibility": null,
            "width": null
          }
        },
        "6f1f731413df4f95ad9f74aad010b0b1": {
          "model_module": "@jupyter-widgets/controls",
          "model_name": "DescriptionStyleModel",
          "model_module_version": "1.5.0",
          "state": {
            "_model_module": "@jupyter-widgets/controls",
            "_model_module_version": "1.5.0",
            "_model_name": "DescriptionStyleModel",
            "_view_count": null,
            "_view_module": "@jupyter-widgets/base",
            "_view_module_version": "1.2.0",
            "_view_name": "StyleView",
            "description_width": ""
          }
        },
        "30e5cfc7f2cd4765ad1734c44891f3a8": {
          "model_module": "@jupyter-widgets/controls",
          "model_name": "HBoxModel",
          "model_module_version": "1.5.0",
          "state": {
            "_dom_classes": [],
            "_model_module": "@jupyter-widgets/controls",
            "_model_module_version": "1.5.0",
            "_model_name": "HBoxModel",
            "_view_count": null,
            "_view_module": "@jupyter-widgets/controls",
            "_view_module_version": "1.5.0",
            "_view_name": "HBoxView",
            "box_style": "",
            "children": [
              "IPY_MODEL_52ebf98f2d50418da1c6dab995a9c69d",
              "IPY_MODEL_16869890e78547c6a235ddb9c75d466f",
              "IPY_MODEL_35dd642985394e53b3e72642b16880f7"
            ],
            "layout": "IPY_MODEL_b61608e140554ec4aea051a7601cecd6"
          }
        },
        "52ebf98f2d50418da1c6dab995a9c69d": {
          "model_module": "@jupyter-widgets/controls",
          "model_name": "HTMLModel",
          "model_module_version": "1.5.0",
          "state": {
            "_dom_classes": [],
            "_model_module": "@jupyter-widgets/controls",
            "_model_module_version": "1.5.0",
            "_model_name": "HTMLModel",
            "_view_count": null,
            "_view_module": "@jupyter-widgets/controls",
            "_view_module_version": "1.5.0",
            "_view_name": "HTMLView",
            "description": "",
            "description_tooltip": null,
            "layout": "IPY_MODEL_12ff0bcb47bd451d983a8f167ca1175f",
            "placeholder": "​",
            "style": "IPY_MODEL_419b2f4f9b6c499aa0d202528938a200",
            "value": "Downloading pytorch_model.bin: 100%"
          }
        },
        "16869890e78547c6a235ddb9c75d466f": {
          "model_module": "@jupyter-widgets/controls",
          "model_name": "FloatProgressModel",
          "model_module_version": "1.5.0",
          "state": {
            "_dom_classes": [],
            "_model_module": "@jupyter-widgets/controls",
            "_model_module_version": "1.5.0",
            "_model_name": "FloatProgressModel",
            "_view_count": null,
            "_view_module": "@jupyter-widgets/controls",
            "_view_module_version": "1.5.0",
            "_view_name": "ProgressView",
            "bar_style": "success",
            "description": "",
            "description_tooltip": null,
            "layout": "IPY_MODEL_d1fb9fe63cdb4344a6189192e280ccde",
            "max": 2363431,
            "min": 0,
            "orientation": "horizontal",
            "style": "IPY_MODEL_909565640954414e9dae3d32cacf2b50",
            "value": 2363431
          }
        },
        "35dd642985394e53b3e72642b16880f7": {
          "model_module": "@jupyter-widgets/controls",
          "model_name": "HTMLModel",
          "model_module_version": "1.5.0",
          "state": {
            "_dom_classes": [],
            "_model_module": "@jupyter-widgets/controls",
            "_model_module_version": "1.5.0",
            "_model_name": "HTMLModel",
            "_view_count": null,
            "_view_module": "@jupyter-widgets/controls",
            "_view_module_version": "1.5.0",
            "_view_name": "HTMLView",
            "description": "",
            "description_tooltip": null,
            "layout": "IPY_MODEL_571a34444c0b4ea2bd5b989cd69e9379",
            "placeholder": "​",
            "style": "IPY_MODEL_fbcf560bc1d540e9a176bbcc5fad6817",
            "value": " 2.36M/2.36M [00:00&lt;00:00, 13.7MB/s]"
          }
        },
        "b61608e140554ec4aea051a7601cecd6": {
          "model_module": "@jupyter-widgets/base",
          "model_name": "LayoutModel",
          "model_module_version": "1.2.0",
          "state": {
            "_model_module": "@jupyter-widgets/base",
            "_model_module_version": "1.2.0",
            "_model_name": "LayoutModel",
            "_view_count": null,
            "_view_module": "@jupyter-widgets/base",
            "_view_module_version": "1.2.0",
            "_view_name": "LayoutView",
            "align_content": null,
            "align_items": null,
            "align_self": null,
            "border": null,
            "bottom": null,
            "display": null,
            "flex": null,
            "flex_flow": null,
            "grid_area": null,
            "grid_auto_columns": null,
            "grid_auto_flow": null,
            "grid_auto_rows": null,
            "grid_column": null,
            "grid_gap": null,
            "grid_row": null,
            "grid_template_areas": null,
            "grid_template_columns": null,
            "grid_template_rows": null,
            "height": null,
            "justify_content": null,
            "justify_items": null,
            "left": null,
            "margin": null,
            "max_height": null,
            "max_width": null,
            "min_height": null,
            "min_width": null,
            "object_fit": null,
            "object_position": null,
            "order": null,
            "overflow": null,
            "overflow_x": null,
            "overflow_y": null,
            "padding": null,
            "right": null,
            "top": null,
            "visibility": null,
            "width": null
          }
        },
        "12ff0bcb47bd451d983a8f167ca1175f": {
          "model_module": "@jupyter-widgets/base",
          "model_name": "LayoutModel",
          "model_module_version": "1.2.0",
          "state": {
            "_model_module": "@jupyter-widgets/base",
            "_model_module_version": "1.2.0",
            "_model_name": "LayoutModel",
            "_view_count": null,
            "_view_module": "@jupyter-widgets/base",
            "_view_module_version": "1.2.0",
            "_view_name": "LayoutView",
            "align_content": null,
            "align_items": null,
            "align_self": null,
            "border": null,
            "bottom": null,
            "display": null,
            "flex": null,
            "flex_flow": null,
            "grid_area": null,
            "grid_auto_columns": null,
            "grid_auto_flow": null,
            "grid_auto_rows": null,
            "grid_column": null,
            "grid_gap": null,
            "grid_row": null,
            "grid_template_areas": null,
            "grid_template_columns": null,
            "grid_template_rows": null,
            "height": null,
            "justify_content": null,
            "justify_items": null,
            "left": null,
            "margin": null,
            "max_height": null,
            "max_width": null,
            "min_height": null,
            "min_width": null,
            "object_fit": null,
            "object_position": null,
            "order": null,
            "overflow": null,
            "overflow_x": null,
            "overflow_y": null,
            "padding": null,
            "right": null,
            "top": null,
            "visibility": null,
            "width": null
          }
        },
        "419b2f4f9b6c499aa0d202528938a200": {
          "model_module": "@jupyter-widgets/controls",
          "model_name": "DescriptionStyleModel",
          "model_module_version": "1.5.0",
          "state": {
            "_model_module": "@jupyter-widgets/controls",
            "_model_module_version": "1.5.0",
            "_model_name": "DescriptionStyleModel",
            "_view_count": null,
            "_view_module": "@jupyter-widgets/base",
            "_view_module_version": "1.2.0",
            "_view_name": "StyleView",
            "description_width": ""
          }
        },
        "d1fb9fe63cdb4344a6189192e280ccde": {
          "model_module": "@jupyter-widgets/base",
          "model_name": "LayoutModel",
          "model_module_version": "1.2.0",
          "state": {
            "_model_module": "@jupyter-widgets/base",
            "_model_module_version": "1.2.0",
            "_model_name": "LayoutModel",
            "_view_count": null,
            "_view_module": "@jupyter-widgets/base",
            "_view_module_version": "1.2.0",
            "_view_name": "LayoutView",
            "align_content": null,
            "align_items": null,
            "align_self": null,
            "border": null,
            "bottom": null,
            "display": null,
            "flex": null,
            "flex_flow": null,
            "grid_area": null,
            "grid_auto_columns": null,
            "grid_auto_flow": null,
            "grid_auto_rows": null,
            "grid_column": null,
            "grid_gap": null,
            "grid_row": null,
            "grid_template_areas": null,
            "grid_template_columns": null,
            "grid_template_rows": null,
            "height": null,
            "justify_content": null,
            "justify_items": null,
            "left": null,
            "margin": null,
            "max_height": null,
            "max_width": null,
            "min_height": null,
            "min_width": null,
            "object_fit": null,
            "object_position": null,
            "order": null,
            "overflow": null,
            "overflow_x": null,
            "overflow_y": null,
            "padding": null,
            "right": null,
            "top": null,
            "visibility": null,
            "width": null
          }
        },
        "909565640954414e9dae3d32cacf2b50": {
          "model_module": "@jupyter-widgets/controls",
          "model_name": "ProgressStyleModel",
          "model_module_version": "1.5.0",
          "state": {
            "_model_module": "@jupyter-widgets/controls",
            "_model_module_version": "1.5.0",
            "_model_name": "ProgressStyleModel",
            "_view_count": null,
            "_view_module": "@jupyter-widgets/base",
            "_view_module_version": "1.2.0",
            "_view_name": "StyleView",
            "bar_color": null,
            "description_width": ""
          }
        },
        "571a34444c0b4ea2bd5b989cd69e9379": {
          "model_module": "@jupyter-widgets/base",
          "model_name": "LayoutModel",
          "model_module_version": "1.2.0",
          "state": {
            "_model_module": "@jupyter-widgets/base",
            "_model_module_version": "1.2.0",
            "_model_name": "LayoutModel",
            "_view_count": null,
            "_view_module": "@jupyter-widgets/base",
            "_view_module_version": "1.2.0",
            "_view_name": "LayoutView",
            "align_content": null,
            "align_items": null,
            "align_self": null,
            "border": null,
            "bottom": null,
            "display": null,
            "flex": null,
            "flex_flow": null,
            "grid_area": null,
            "grid_auto_columns": null,
            "grid_auto_flow": null,
            "grid_auto_rows": null,
            "grid_column": null,
            "grid_gap": null,
            "grid_row": null,
            "grid_template_areas": null,
            "grid_template_columns": null,
            "grid_template_rows": null,
            "height": null,
            "justify_content": null,
            "justify_items": null,
            "left": null,
            "margin": null,
            "max_height": null,
            "max_width": null,
            "min_height": null,
            "min_width": null,
            "object_fit": null,
            "object_position": null,
            "order": null,
            "overflow": null,
            "overflow_x": null,
            "overflow_y": null,
            "padding": null,
            "right": null,
            "top": null,
            "visibility": null,
            "width": null
          }
        },
        "fbcf560bc1d540e9a176bbcc5fad6817": {
          "model_module": "@jupyter-widgets/controls",
          "model_name": "DescriptionStyleModel",
          "model_module_version": "1.5.0",
          "state": {
            "_model_module": "@jupyter-widgets/controls",
            "_model_module_version": "1.5.0",
            "_model_name": "DescriptionStyleModel",
            "_view_count": null,
            "_view_module": "@jupyter-widgets/base",
            "_view_module_version": "1.2.0",
            "_view_name": "StyleView",
            "description_width": ""
          }
        },
        "971f1c2766fd4e9898c5832cca06dc05": {
          "model_module": "@jupyter-widgets/controls",
          "model_name": "HBoxModel",
          "model_module_version": "1.5.0",
          "state": {
            "_dom_classes": [],
            "_model_module": "@jupyter-widgets/controls",
            "_model_module_version": "1.5.0",
            "_model_name": "HBoxModel",
            "_view_count": null,
            "_view_module": "@jupyter-widgets/controls",
            "_view_module_version": "1.5.0",
            "_view_name": "HBoxView",
            "box_style": "",
            "children": [
              "IPY_MODEL_f671636875524573b0da96dc4f65645f",
              "IPY_MODEL_54ebd04072c044a99879899edb748b1a",
              "IPY_MODEL_eeebb0ef15474cbc865f95e4d283aa69"
            ],
            "layout": "IPY_MODEL_7b9b5e20b2a8485cbd6b03fd6b6bb83d"
          }
        },
        "f671636875524573b0da96dc4f65645f": {
          "model_module": "@jupyter-widgets/controls",
          "model_name": "HTMLModel",
          "model_module_version": "1.5.0",
          "state": {
            "_dom_classes": [],
            "_model_module": "@jupyter-widgets/controls",
            "_model_module_version": "1.5.0",
            "_model_name": "HTMLModel",
            "_view_count": null,
            "_view_module": "@jupyter-widgets/controls",
            "_view_module_version": "1.5.0",
            "_view_name": "HTMLView",
            "description": "",
            "description_tooltip": null,
            "layout": "IPY_MODEL_76dc883b5a3e4197959802e18bea08ea",
            "placeholder": "​",
            "style": "IPY_MODEL_6f0a2edd72104be78f1235dcd1448d7d",
            "value": "Downloading (…)168ebbe010/README.md: 100%"
          }
        },
        "54ebd04072c044a99879899edb748b1a": {
          "model_module": "@jupyter-widgets/controls",
          "model_name": "FloatProgressModel",
          "model_module_version": "1.5.0",
          "state": {
            "_dom_classes": [],
            "_model_module": "@jupyter-widgets/controls",
            "_model_module_version": "1.5.0",
            "_model_name": "FloatProgressModel",
            "_view_count": null,
            "_view_module": "@jupyter-widgets/controls",
            "_view_module_version": "1.5.0",
            "_view_name": "ProgressView",
            "bar_style": "success",
            "description": "",
            "description_tooltip": null,
            "layout": "IPY_MODEL_df17bda818d04e9dae400d66cb66d3cb",
            "max": 1622,
            "min": 0,
            "orientation": "horizontal",
            "style": "IPY_MODEL_0fbe30ff70fe49ba97395f355f6fdd2e",
            "value": 1622
          }
        },
        "eeebb0ef15474cbc865f95e4d283aa69": {
          "model_module": "@jupyter-widgets/controls",
          "model_name": "HTMLModel",
          "model_module_version": "1.5.0",
          "state": {
            "_dom_classes": [],
            "_model_module": "@jupyter-widgets/controls",
            "_model_module_version": "1.5.0",
            "_model_name": "HTMLModel",
            "_view_count": null,
            "_view_module": "@jupyter-widgets/controls",
            "_view_module_version": "1.5.0",
            "_view_name": "HTMLView",
            "description": "",
            "description_tooltip": null,
            "layout": "IPY_MODEL_4707c7d407524381a6cdc8fbe265977d",
            "placeholder": "​",
            "style": "IPY_MODEL_a63f2951197842c0ad0ed1a16a2aad86",
            "value": " 1.62k/1.62k [00:00&lt;00:00, 69.7kB/s]"
          }
        },
        "7b9b5e20b2a8485cbd6b03fd6b6bb83d": {
          "model_module": "@jupyter-widgets/base",
          "model_name": "LayoutModel",
          "model_module_version": "1.2.0",
          "state": {
            "_model_module": "@jupyter-widgets/base",
            "_model_module_version": "1.2.0",
            "_model_name": "LayoutModel",
            "_view_count": null,
            "_view_module": "@jupyter-widgets/base",
            "_view_module_version": "1.2.0",
            "_view_name": "LayoutView",
            "align_content": null,
            "align_items": null,
            "align_self": null,
            "border": null,
            "bottom": null,
            "display": null,
            "flex": null,
            "flex_flow": null,
            "grid_area": null,
            "grid_auto_columns": null,
            "grid_auto_flow": null,
            "grid_auto_rows": null,
            "grid_column": null,
            "grid_gap": null,
            "grid_row": null,
            "grid_template_areas": null,
            "grid_template_columns": null,
            "grid_template_rows": null,
            "height": null,
            "justify_content": null,
            "justify_items": null,
            "left": null,
            "margin": null,
            "max_height": null,
            "max_width": null,
            "min_height": null,
            "min_width": null,
            "object_fit": null,
            "object_position": null,
            "order": null,
            "overflow": null,
            "overflow_x": null,
            "overflow_y": null,
            "padding": null,
            "right": null,
            "top": null,
            "visibility": null,
            "width": null
          }
        },
        "76dc883b5a3e4197959802e18bea08ea": {
          "model_module": "@jupyter-widgets/base",
          "model_name": "LayoutModel",
          "model_module_version": "1.2.0",
          "state": {
            "_model_module": "@jupyter-widgets/base",
            "_model_module_version": "1.2.0",
            "_model_name": "LayoutModel",
            "_view_count": null,
            "_view_module": "@jupyter-widgets/base",
            "_view_module_version": "1.2.0",
            "_view_name": "LayoutView",
            "align_content": null,
            "align_items": null,
            "align_self": null,
            "border": null,
            "bottom": null,
            "display": null,
            "flex": null,
            "flex_flow": null,
            "grid_area": null,
            "grid_auto_columns": null,
            "grid_auto_flow": null,
            "grid_auto_rows": null,
            "grid_column": null,
            "grid_gap": null,
            "grid_row": null,
            "grid_template_areas": null,
            "grid_template_columns": null,
            "grid_template_rows": null,
            "height": null,
            "justify_content": null,
            "justify_items": null,
            "left": null,
            "margin": null,
            "max_height": null,
            "max_width": null,
            "min_height": null,
            "min_width": null,
            "object_fit": null,
            "object_position": null,
            "order": null,
            "overflow": null,
            "overflow_x": null,
            "overflow_y": null,
            "padding": null,
            "right": null,
            "top": null,
            "visibility": null,
            "width": null
          }
        },
        "6f0a2edd72104be78f1235dcd1448d7d": {
          "model_module": "@jupyter-widgets/controls",
          "model_name": "DescriptionStyleModel",
          "model_module_version": "1.5.0",
          "state": {
            "_model_module": "@jupyter-widgets/controls",
            "_model_module_version": "1.5.0",
            "_model_name": "DescriptionStyleModel",
            "_view_count": null,
            "_view_module": "@jupyter-widgets/base",
            "_view_module_version": "1.2.0",
            "_view_name": "StyleView",
            "description_width": ""
          }
        },
        "df17bda818d04e9dae400d66cb66d3cb": {
          "model_module": "@jupyter-widgets/base",
          "model_name": "LayoutModel",
          "model_module_version": "1.2.0",
          "state": {
            "_model_module": "@jupyter-widgets/base",
            "_model_module_version": "1.2.0",
            "_model_name": "LayoutModel",
            "_view_count": null,
            "_view_module": "@jupyter-widgets/base",
            "_view_module_version": "1.2.0",
            "_view_name": "LayoutView",
            "align_content": null,
            "align_items": null,
            "align_self": null,
            "border": null,
            "bottom": null,
            "display": null,
            "flex": null,
            "flex_flow": null,
            "grid_area": null,
            "grid_auto_columns": null,
            "grid_auto_flow": null,
            "grid_auto_rows": null,
            "grid_column": null,
            "grid_gap": null,
            "grid_row": null,
            "grid_template_areas": null,
            "grid_template_columns": null,
            "grid_template_rows": null,
            "height": null,
            "justify_content": null,
            "justify_items": null,
            "left": null,
            "margin": null,
            "max_height": null,
            "max_width": null,
            "min_height": null,
            "min_width": null,
            "object_fit": null,
            "object_position": null,
            "order": null,
            "overflow": null,
            "overflow_x": null,
            "overflow_y": null,
            "padding": null,
            "right": null,
            "top": null,
            "visibility": null,
            "width": null
          }
        },
        "0fbe30ff70fe49ba97395f355f6fdd2e": {
          "model_module": "@jupyter-widgets/controls",
          "model_name": "ProgressStyleModel",
          "model_module_version": "1.5.0",
          "state": {
            "_model_module": "@jupyter-widgets/controls",
            "_model_module_version": "1.5.0",
            "_model_name": "ProgressStyleModel",
            "_view_count": null,
            "_view_module": "@jupyter-widgets/base",
            "_view_module_version": "1.2.0",
            "_view_name": "StyleView",
            "bar_color": null,
            "description_width": ""
          }
        },
        "4707c7d407524381a6cdc8fbe265977d": {
          "model_module": "@jupyter-widgets/base",
          "model_name": "LayoutModel",
          "model_module_version": "1.2.0",
          "state": {
            "_model_module": "@jupyter-widgets/base",
            "_model_module_version": "1.2.0",
            "_model_name": "LayoutModel",
            "_view_count": null,
            "_view_module": "@jupyter-widgets/base",
            "_view_module_version": "1.2.0",
            "_view_name": "LayoutView",
            "align_content": null,
            "align_items": null,
            "align_self": null,
            "border": null,
            "bottom": null,
            "display": null,
            "flex": null,
            "flex_flow": null,
            "grid_area": null,
            "grid_auto_columns": null,
            "grid_auto_flow": null,
            "grid_auto_rows": null,
            "grid_column": null,
            "grid_gap": null,
            "grid_row": null,
            "grid_template_areas": null,
            "grid_template_columns": null,
            "grid_template_rows": null,
            "height": null,
            "justify_content": null,
            "justify_items": null,
            "left": null,
            "margin": null,
            "max_height": null,
            "max_width": null,
            "min_height": null,
            "min_width": null,
            "object_fit": null,
            "object_position": null,
            "order": null,
            "overflow": null,
            "overflow_x": null,
            "overflow_y": null,
            "padding": null,
            "right": null,
            "top": null,
            "visibility": null,
            "width": null
          }
        },
        "a63f2951197842c0ad0ed1a16a2aad86": {
          "model_module": "@jupyter-widgets/controls",
          "model_name": "DescriptionStyleModel",
          "model_module_version": "1.5.0",
          "state": {
            "_model_module": "@jupyter-widgets/controls",
            "_model_module_version": "1.5.0",
            "_model_name": "DescriptionStyleModel",
            "_view_count": null,
            "_view_module": "@jupyter-widgets/base",
            "_view_module_version": "1.2.0",
            "_view_name": "StyleView",
            "description_width": ""
          }
        },
        "d961e4333a1f498d9917da5a85a42393": {
          "model_module": "@jupyter-widgets/controls",
          "model_name": "HBoxModel",
          "model_module_version": "1.5.0",
          "state": {
            "_dom_classes": [],
            "_model_module": "@jupyter-widgets/controls",
            "_model_module_version": "1.5.0",
            "_model_name": "HBoxModel",
            "_view_count": null,
            "_view_module": "@jupyter-widgets/controls",
            "_view_module_version": "1.5.0",
            "_view_name": "HBoxView",
            "box_style": "",
            "children": [
              "IPY_MODEL_f43f97aa5bbe4b5ca77c84dbfbb7bfc4",
              "IPY_MODEL_38272c659a27404493d76d9c3705a81e",
              "IPY_MODEL_97591d748b9d4798ac357fd6109bcb2a"
            ],
            "layout": "IPY_MODEL_759eca7960ac4206bba15a648b38175e"
          }
        },
        "f43f97aa5bbe4b5ca77c84dbfbb7bfc4": {
          "model_module": "@jupyter-widgets/controls",
          "model_name": "HTMLModel",
          "model_module_version": "1.5.0",
          "state": {
            "_dom_classes": [],
            "_model_module": "@jupyter-widgets/controls",
            "_model_module_version": "1.5.0",
            "_model_name": "HTMLModel",
            "_view_count": null,
            "_view_module": "@jupyter-widgets/controls",
            "_view_module_version": "1.5.0",
            "_view_name": "HTMLView",
            "description": "",
            "description_tooltip": null,
            "layout": "IPY_MODEL_f34ab2f1388942f587dd7a3fc5e85a1b",
            "placeholder": "​",
            "style": "IPY_MODEL_cf6aaa35156f4b68bb5c4606c06e8e9e",
            "value": "Downloading (…)8ebbe010/config.json: 100%"
          }
        },
        "38272c659a27404493d76d9c3705a81e": {
          "model_module": "@jupyter-widgets/controls",
          "model_name": "FloatProgressModel",
          "model_module_version": "1.5.0",
          "state": {
            "_dom_classes": [],
            "_model_module": "@jupyter-widgets/controls",
            "_model_module_version": "1.5.0",
            "_model_name": "FloatProgressModel",
            "_view_count": null,
            "_view_module": "@jupyter-widgets/controls",
            "_view_module_version": "1.5.0",
            "_view_name": "ProgressView",
            "bar_style": "success",
            "description": "",
            "description_tooltip": null,
            "layout": "IPY_MODEL_822cdcf9ceeb4f1d925e4a30b72e1964",
            "max": 804,
            "min": 0,
            "orientation": "horizontal",
            "style": "IPY_MODEL_c86b2ae9fc73404b9fd491cbf75d5ee2",
            "value": 804
          }
        },
        "97591d748b9d4798ac357fd6109bcb2a": {
          "model_module": "@jupyter-widgets/controls",
          "model_name": "HTMLModel",
          "model_module_version": "1.5.0",
          "state": {
            "_dom_classes": [],
            "_model_module": "@jupyter-widgets/controls",
            "_model_module_version": "1.5.0",
            "_model_name": "HTMLModel",
            "_view_count": null,
            "_view_module": "@jupyter-widgets/controls",
            "_view_module_version": "1.5.0",
            "_view_name": "HTMLView",
            "description": "",
            "description_tooltip": null,
            "layout": "IPY_MODEL_901df93394e04aa2b15715185b6d1f7e",
            "placeholder": "​",
            "style": "IPY_MODEL_4c2bac75b3224c69a50f9033783d4461",
            "value": " 804/804 [00:00&lt;00:00, 36.4kB/s]"
          }
        },
        "759eca7960ac4206bba15a648b38175e": {
          "model_module": "@jupyter-widgets/base",
          "model_name": "LayoutModel",
          "model_module_version": "1.2.0",
          "state": {
            "_model_module": "@jupyter-widgets/base",
            "_model_module_version": "1.2.0",
            "_model_name": "LayoutModel",
            "_view_count": null,
            "_view_module": "@jupyter-widgets/base",
            "_view_module_version": "1.2.0",
            "_view_name": "LayoutView",
            "align_content": null,
            "align_items": null,
            "align_self": null,
            "border": null,
            "bottom": null,
            "display": null,
            "flex": null,
            "flex_flow": null,
            "grid_area": null,
            "grid_auto_columns": null,
            "grid_auto_flow": null,
            "grid_auto_rows": null,
            "grid_column": null,
            "grid_gap": null,
            "grid_row": null,
            "grid_template_areas": null,
            "grid_template_columns": null,
            "grid_template_rows": null,
            "height": null,
            "justify_content": null,
            "justify_items": null,
            "left": null,
            "margin": null,
            "max_height": null,
            "max_width": null,
            "min_height": null,
            "min_width": null,
            "object_fit": null,
            "object_position": null,
            "order": null,
            "overflow": null,
            "overflow_x": null,
            "overflow_y": null,
            "padding": null,
            "right": null,
            "top": null,
            "visibility": null,
            "width": null
          }
        },
        "f34ab2f1388942f587dd7a3fc5e85a1b": {
          "model_module": "@jupyter-widgets/base",
          "model_name": "LayoutModel",
          "model_module_version": "1.2.0",
          "state": {
            "_model_module": "@jupyter-widgets/base",
            "_model_module_version": "1.2.0",
            "_model_name": "LayoutModel",
            "_view_count": null,
            "_view_module": "@jupyter-widgets/base",
            "_view_module_version": "1.2.0",
            "_view_name": "LayoutView",
            "align_content": null,
            "align_items": null,
            "align_self": null,
            "border": null,
            "bottom": null,
            "display": null,
            "flex": null,
            "flex_flow": null,
            "grid_area": null,
            "grid_auto_columns": null,
            "grid_auto_flow": null,
            "grid_auto_rows": null,
            "grid_column": null,
            "grid_gap": null,
            "grid_row": null,
            "grid_template_areas": null,
            "grid_template_columns": null,
            "grid_template_rows": null,
            "height": null,
            "justify_content": null,
            "justify_items": null,
            "left": null,
            "margin": null,
            "max_height": null,
            "max_width": null,
            "min_height": null,
            "min_width": null,
            "object_fit": null,
            "object_position": null,
            "order": null,
            "overflow": null,
            "overflow_x": null,
            "overflow_y": null,
            "padding": null,
            "right": null,
            "top": null,
            "visibility": null,
            "width": null
          }
        },
        "cf6aaa35156f4b68bb5c4606c06e8e9e": {
          "model_module": "@jupyter-widgets/controls",
          "model_name": "DescriptionStyleModel",
          "model_module_version": "1.5.0",
          "state": {
            "_model_module": "@jupyter-widgets/controls",
            "_model_module_version": "1.5.0",
            "_model_name": "DescriptionStyleModel",
            "_view_count": null,
            "_view_module": "@jupyter-widgets/base",
            "_view_module_version": "1.2.0",
            "_view_name": "StyleView",
            "description_width": ""
          }
        },
        "822cdcf9ceeb4f1d925e4a30b72e1964": {
          "model_module": "@jupyter-widgets/base",
          "model_name": "LayoutModel",
          "model_module_version": "1.2.0",
          "state": {
            "_model_module": "@jupyter-widgets/base",
            "_model_module_version": "1.2.0",
            "_model_name": "LayoutModel",
            "_view_count": null,
            "_view_module": "@jupyter-widgets/base",
            "_view_module_version": "1.2.0",
            "_view_name": "LayoutView",
            "align_content": null,
            "align_items": null,
            "align_self": null,
            "border": null,
            "bottom": null,
            "display": null,
            "flex": null,
            "flex_flow": null,
            "grid_area": null,
            "grid_auto_columns": null,
            "grid_auto_flow": null,
            "grid_auto_rows": null,
            "grid_column": null,
            "grid_gap": null,
            "grid_row": null,
            "grid_template_areas": null,
            "grid_template_columns": null,
            "grid_template_rows": null,
            "height": null,
            "justify_content": null,
            "justify_items": null,
            "left": null,
            "margin": null,
            "max_height": null,
            "max_width": null,
            "min_height": null,
            "min_width": null,
            "object_fit": null,
            "object_position": null,
            "order": null,
            "overflow": null,
            "overflow_x": null,
            "overflow_y": null,
            "padding": null,
            "right": null,
            "top": null,
            "visibility": null,
            "width": null
          }
        },
        "c86b2ae9fc73404b9fd491cbf75d5ee2": {
          "model_module": "@jupyter-widgets/controls",
          "model_name": "ProgressStyleModel",
          "model_module_version": "1.5.0",
          "state": {
            "_model_module": "@jupyter-widgets/controls",
            "_model_module_version": "1.5.0",
            "_model_name": "ProgressStyleModel",
            "_view_count": null,
            "_view_module": "@jupyter-widgets/base",
            "_view_module_version": "1.2.0",
            "_view_name": "StyleView",
            "bar_color": null,
            "description_width": ""
          }
        },
        "901df93394e04aa2b15715185b6d1f7e": {
          "model_module": "@jupyter-widgets/base",
          "model_name": "LayoutModel",
          "model_module_version": "1.2.0",
          "state": {
            "_model_module": "@jupyter-widgets/base",
            "_model_module_version": "1.2.0",
            "_model_name": "LayoutModel",
            "_view_count": null,
            "_view_module": "@jupyter-widgets/base",
            "_view_module_version": "1.2.0",
            "_view_name": "LayoutView",
            "align_content": null,
            "align_items": null,
            "align_self": null,
            "border": null,
            "bottom": null,
            "display": null,
            "flex": null,
            "flex_flow": null,
            "grid_area": null,
            "grid_auto_columns": null,
            "grid_auto_flow": null,
            "grid_auto_rows": null,
            "grid_column": null,
            "grid_gap": null,
            "grid_row": null,
            "grid_template_areas": null,
            "grid_template_columns": null,
            "grid_template_rows": null,
            "height": null,
            "justify_content": null,
            "justify_items": null,
            "left": null,
            "margin": null,
            "max_height": null,
            "max_width": null,
            "min_height": null,
            "min_width": null,
            "object_fit": null,
            "object_position": null,
            "order": null,
            "overflow": null,
            "overflow_x": null,
            "overflow_y": null,
            "padding": null,
            "right": null,
            "top": null,
            "visibility": null,
            "width": null
          }
        },
        "4c2bac75b3224c69a50f9033783d4461": {
          "model_module": "@jupyter-widgets/controls",
          "model_name": "DescriptionStyleModel",
          "model_module_version": "1.5.0",
          "state": {
            "_model_module": "@jupyter-widgets/controls",
            "_model_module_version": "1.5.0",
            "_model_name": "DescriptionStyleModel",
            "_view_count": null,
            "_view_module": "@jupyter-widgets/base",
            "_view_module_version": "1.2.0",
            "_view_name": "StyleView",
            "description_width": ""
          }
        },
        "ce70151acfa44a89bec89cf94b0f7e17": {
          "model_module": "@jupyter-widgets/controls",
          "model_name": "HBoxModel",
          "model_module_version": "1.5.0",
          "state": {
            "_dom_classes": [],
            "_model_module": "@jupyter-widgets/controls",
            "_model_module_version": "1.5.0",
            "_model_name": "HBoxModel",
            "_view_count": null,
            "_view_module": "@jupyter-widgets/controls",
            "_view_module_version": "1.5.0",
            "_view_name": "HBoxView",
            "box_style": "",
            "children": [
              "IPY_MODEL_df83d109035647cd966664ca050530cd",
              "IPY_MODEL_d4c0c285e3c043279ed7e1d9cd4090fd",
              "IPY_MODEL_8cf00b3bb2e048e98404cdb9bf121a09"
            ],
            "layout": "IPY_MODEL_0d0da06c2f1f4b8d9d6f70ed706204dc"
          }
        },
        "df83d109035647cd966664ca050530cd": {
          "model_module": "@jupyter-widgets/controls",
          "model_name": "HTMLModel",
          "model_module_version": "1.5.0",
          "state": {
            "_dom_classes": [],
            "_model_module": "@jupyter-widgets/controls",
            "_model_module_version": "1.5.0",
            "_model_name": "HTMLModel",
            "_view_count": null,
            "_view_module": "@jupyter-widgets/controls",
            "_view_module_version": "1.5.0",
            "_view_name": "HTMLView",
            "description": "",
            "description_tooltip": null,
            "layout": "IPY_MODEL_932d689a738c485686bd8eb3a304d5f7",
            "placeholder": "​",
            "style": "IPY_MODEL_3811c035f2a748f8a51d3d933c265fea",
            "value": "Downloading (…)ce_transformers.json: 100%"
          }
        },
        "d4c0c285e3c043279ed7e1d9cd4090fd": {
          "model_module": "@jupyter-widgets/controls",
          "model_name": "FloatProgressModel",
          "model_module_version": "1.5.0",
          "state": {
            "_dom_classes": [],
            "_model_module": "@jupyter-widgets/controls",
            "_model_module_version": "1.5.0",
            "_model_name": "FloatProgressModel",
            "_view_count": null,
            "_view_module": "@jupyter-widgets/controls",
            "_view_module_version": "1.5.0",
            "_view_name": "ProgressView",
            "bar_style": "success",
            "description": "",
            "description_tooltip": null,
            "layout": "IPY_MODEL_126169bb91f74314a0400ac0cc2387b8",
            "max": 122,
            "min": 0,
            "orientation": "horizontal",
            "style": "IPY_MODEL_f4d79183dbee40ac8e9878b49dde19f3",
            "value": 122
          }
        },
        "8cf00b3bb2e048e98404cdb9bf121a09": {
          "model_module": "@jupyter-widgets/controls",
          "model_name": "HTMLModel",
          "model_module_version": "1.5.0",
          "state": {
            "_dom_classes": [],
            "_model_module": "@jupyter-widgets/controls",
            "_model_module_version": "1.5.0",
            "_model_name": "HTMLModel",
            "_view_count": null,
            "_view_module": "@jupyter-widgets/controls",
            "_view_module_version": "1.5.0",
            "_view_name": "HTMLView",
            "description": "",
            "description_tooltip": null,
            "layout": "IPY_MODEL_5cf25026b13945f0b4ac2650698fd5ef",
            "placeholder": "​",
            "style": "IPY_MODEL_749f06ccabd84048b5abfc111e78a5fd",
            "value": " 122/122 [00:00&lt;00:00, 4.88kB/s]"
          }
        },
        "0d0da06c2f1f4b8d9d6f70ed706204dc": {
          "model_module": "@jupyter-widgets/base",
          "model_name": "LayoutModel",
          "model_module_version": "1.2.0",
          "state": {
            "_model_module": "@jupyter-widgets/base",
            "_model_module_version": "1.2.0",
            "_model_name": "LayoutModel",
            "_view_count": null,
            "_view_module": "@jupyter-widgets/base",
            "_view_module_version": "1.2.0",
            "_view_name": "LayoutView",
            "align_content": null,
            "align_items": null,
            "align_self": null,
            "border": null,
            "bottom": null,
            "display": null,
            "flex": null,
            "flex_flow": null,
            "grid_area": null,
            "grid_auto_columns": null,
            "grid_auto_flow": null,
            "grid_auto_rows": null,
            "grid_column": null,
            "grid_gap": null,
            "grid_row": null,
            "grid_template_areas": null,
            "grid_template_columns": null,
            "grid_template_rows": null,
            "height": null,
            "justify_content": null,
            "justify_items": null,
            "left": null,
            "margin": null,
            "max_height": null,
            "max_width": null,
            "min_height": null,
            "min_width": null,
            "object_fit": null,
            "object_position": null,
            "order": null,
            "overflow": null,
            "overflow_x": null,
            "overflow_y": null,
            "padding": null,
            "right": null,
            "top": null,
            "visibility": null,
            "width": null
          }
        },
        "932d689a738c485686bd8eb3a304d5f7": {
          "model_module": "@jupyter-widgets/base",
          "model_name": "LayoutModel",
          "model_module_version": "1.2.0",
          "state": {
            "_model_module": "@jupyter-widgets/base",
            "_model_module_version": "1.2.0",
            "_model_name": "LayoutModel",
            "_view_count": null,
            "_view_module": "@jupyter-widgets/base",
            "_view_module_version": "1.2.0",
            "_view_name": "LayoutView",
            "align_content": null,
            "align_items": null,
            "align_self": null,
            "border": null,
            "bottom": null,
            "display": null,
            "flex": null,
            "flex_flow": null,
            "grid_area": null,
            "grid_auto_columns": null,
            "grid_auto_flow": null,
            "grid_auto_rows": null,
            "grid_column": null,
            "grid_gap": null,
            "grid_row": null,
            "grid_template_areas": null,
            "grid_template_columns": null,
            "grid_template_rows": null,
            "height": null,
            "justify_content": null,
            "justify_items": null,
            "left": null,
            "margin": null,
            "max_height": null,
            "max_width": null,
            "min_height": null,
            "min_width": null,
            "object_fit": null,
            "object_position": null,
            "order": null,
            "overflow": null,
            "overflow_x": null,
            "overflow_y": null,
            "padding": null,
            "right": null,
            "top": null,
            "visibility": null,
            "width": null
          }
        },
        "3811c035f2a748f8a51d3d933c265fea": {
          "model_module": "@jupyter-widgets/controls",
          "model_name": "DescriptionStyleModel",
          "model_module_version": "1.5.0",
          "state": {
            "_model_module": "@jupyter-widgets/controls",
            "_model_module_version": "1.5.0",
            "_model_name": "DescriptionStyleModel",
            "_view_count": null,
            "_view_module": "@jupyter-widgets/base",
            "_view_module_version": "1.2.0",
            "_view_name": "StyleView",
            "description_width": ""
          }
        },
        "126169bb91f74314a0400ac0cc2387b8": {
          "model_module": "@jupyter-widgets/base",
          "model_name": "LayoutModel",
          "model_module_version": "1.2.0",
          "state": {
            "_model_module": "@jupyter-widgets/base",
            "_model_module_version": "1.2.0",
            "_model_name": "LayoutModel",
            "_view_count": null,
            "_view_module": "@jupyter-widgets/base",
            "_view_module_version": "1.2.0",
            "_view_name": "LayoutView",
            "align_content": null,
            "align_items": null,
            "align_self": null,
            "border": null,
            "bottom": null,
            "display": null,
            "flex": null,
            "flex_flow": null,
            "grid_area": null,
            "grid_auto_columns": null,
            "grid_auto_flow": null,
            "grid_auto_rows": null,
            "grid_column": null,
            "grid_gap": null,
            "grid_row": null,
            "grid_template_areas": null,
            "grid_template_columns": null,
            "grid_template_rows": null,
            "height": null,
            "justify_content": null,
            "justify_items": null,
            "left": null,
            "margin": null,
            "max_height": null,
            "max_width": null,
            "min_height": null,
            "min_width": null,
            "object_fit": null,
            "object_position": null,
            "order": null,
            "overflow": null,
            "overflow_x": null,
            "overflow_y": null,
            "padding": null,
            "right": null,
            "top": null,
            "visibility": null,
            "width": null
          }
        },
        "f4d79183dbee40ac8e9878b49dde19f3": {
          "model_module": "@jupyter-widgets/controls",
          "model_name": "ProgressStyleModel",
          "model_module_version": "1.5.0",
          "state": {
            "_model_module": "@jupyter-widgets/controls",
            "_model_module_version": "1.5.0",
            "_model_name": "ProgressStyleModel",
            "_view_count": null,
            "_view_module": "@jupyter-widgets/base",
            "_view_module_version": "1.2.0",
            "_view_name": "StyleView",
            "bar_color": null,
            "description_width": ""
          }
        },
        "5cf25026b13945f0b4ac2650698fd5ef": {
          "model_module": "@jupyter-widgets/base",
          "model_name": "LayoutModel",
          "model_module_version": "1.2.0",
          "state": {
            "_model_module": "@jupyter-widgets/base",
            "_model_module_version": "1.2.0",
            "_model_name": "LayoutModel",
            "_view_count": null,
            "_view_module": "@jupyter-widgets/base",
            "_view_module_version": "1.2.0",
            "_view_name": "LayoutView",
            "align_content": null,
            "align_items": null,
            "align_self": null,
            "border": null,
            "bottom": null,
            "display": null,
            "flex": null,
            "flex_flow": null,
            "grid_area": null,
            "grid_auto_columns": null,
            "grid_auto_flow": null,
            "grid_auto_rows": null,
            "grid_column": null,
            "grid_gap": null,
            "grid_row": null,
            "grid_template_areas": null,
            "grid_template_columns": null,
            "grid_template_rows": null,
            "height": null,
            "justify_content": null,
            "justify_items": null,
            "left": null,
            "margin": null,
            "max_height": null,
            "max_width": null,
            "min_height": null,
            "min_width": null,
            "object_fit": null,
            "object_position": null,
            "order": null,
            "overflow": null,
            "overflow_x": null,
            "overflow_y": null,
            "padding": null,
            "right": null,
            "top": null,
            "visibility": null,
            "width": null
          }
        },
        "749f06ccabd84048b5abfc111e78a5fd": {
          "model_module": "@jupyter-widgets/controls",
          "model_name": "DescriptionStyleModel",
          "model_module_version": "1.5.0",
          "state": {
            "_model_module": "@jupyter-widgets/controls",
            "_model_module_version": "1.5.0",
            "_model_name": "DescriptionStyleModel",
            "_view_count": null,
            "_view_module": "@jupyter-widgets/base",
            "_view_module_version": "1.2.0",
            "_view_name": "StyleView",
            "description_width": ""
          }
        },
        "522f12b3f7c445e48efcd874034175c6": {
          "model_module": "@jupyter-widgets/controls",
          "model_name": "HBoxModel",
          "model_module_version": "1.5.0",
          "state": {
            "_dom_classes": [],
            "_model_module": "@jupyter-widgets/controls",
            "_model_module_version": "1.5.0",
            "_model_name": "HBoxModel",
            "_view_count": null,
            "_view_module": "@jupyter-widgets/controls",
            "_view_module_version": "1.5.0",
            "_view_name": "HBoxView",
            "box_style": "",
            "children": [
              "IPY_MODEL_aee47fbe6ce0402d971d1fb985705655",
              "IPY_MODEL_d68f638c892c480e87e5cfa6a8575344",
              "IPY_MODEL_af1d39e3ff9c40f681c65aa7e4a94cff"
            ],
            "layout": "IPY_MODEL_316ffd6b8ef1462f8b92343dacd76855"
          }
        },
        "aee47fbe6ce0402d971d1fb985705655": {
          "model_module": "@jupyter-widgets/controls",
          "model_name": "HTMLModel",
          "model_module_version": "1.5.0",
          "state": {
            "_dom_classes": [],
            "_model_module": "@jupyter-widgets/controls",
            "_model_module_version": "1.5.0",
            "_model_name": "HTMLModel",
            "_view_count": null,
            "_view_module": "@jupyter-widgets/controls",
            "_view_module_version": "1.5.0",
            "_view_name": "HTMLView",
            "description": "",
            "description_tooltip": null,
            "layout": "IPY_MODEL_8abfc1f9c9944367ab6c0c4fe17523dd",
            "placeholder": "​",
            "style": "IPY_MODEL_d1bf94971d224f64b31f8905ca9d82b8",
            "value": "Downloading pytorch_model.bin: 100%"
          }
        },
        "d68f638c892c480e87e5cfa6a8575344": {
          "model_module": "@jupyter-widgets/controls",
          "model_name": "FloatProgressModel",
          "model_module_version": "1.5.0",
          "state": {
            "_dom_classes": [],
            "_model_module": "@jupyter-widgets/controls",
            "_model_module_version": "1.5.0",
            "_model_name": "FloatProgressModel",
            "_view_count": null,
            "_view_module": "@jupyter-widgets/controls",
            "_view_module_version": "1.5.0",
            "_view_name": "ProgressView",
            "bar_style": "success",
            "description": "",
            "description_tooltip": null,
            "layout": "IPY_MODEL_76c0a0e1693d400d94a34497c13181ec",
            "max": 1883785969,
            "min": 0,
            "orientation": "horizontal",
            "style": "IPY_MODEL_38faa0c6ddaa4ba482b08ac2c80eebc3",
            "value": 1883785969
          }
        },
        "af1d39e3ff9c40f681c65aa7e4a94cff": {
          "model_module": "@jupyter-widgets/controls",
          "model_name": "HTMLModel",
          "model_module_version": "1.5.0",
          "state": {
            "_dom_classes": [],
            "_model_module": "@jupyter-widgets/controls",
            "_model_module_version": "1.5.0",
            "_model_name": "HTMLModel",
            "_view_count": null,
            "_view_module": "@jupyter-widgets/controls",
            "_view_module_version": "1.5.0",
            "_view_name": "HTMLView",
            "description": "",
            "description_tooltip": null,
            "layout": "IPY_MODEL_4cc9ef0e5b3c4343b814b9f5d986c7c0",
            "placeholder": "​",
            "style": "IPY_MODEL_f36249f09916443eb61721804f74edc0",
            "value": " 1.88G/1.88G [00:11&lt;00:00, 231MB/s]"
          }
        },
        "316ffd6b8ef1462f8b92343dacd76855": {
          "model_module": "@jupyter-widgets/base",
          "model_name": "LayoutModel",
          "model_module_version": "1.2.0",
          "state": {
            "_model_module": "@jupyter-widgets/base",
            "_model_module_version": "1.2.0",
            "_model_name": "LayoutModel",
            "_view_count": null,
            "_view_module": "@jupyter-widgets/base",
            "_view_module_version": "1.2.0",
            "_view_name": "LayoutView",
            "align_content": null,
            "align_items": null,
            "align_self": null,
            "border": null,
            "bottom": null,
            "display": null,
            "flex": null,
            "flex_flow": null,
            "grid_area": null,
            "grid_auto_columns": null,
            "grid_auto_flow": null,
            "grid_auto_rows": null,
            "grid_column": null,
            "grid_gap": null,
            "grid_row": null,
            "grid_template_areas": null,
            "grid_template_columns": null,
            "grid_template_rows": null,
            "height": null,
            "justify_content": null,
            "justify_items": null,
            "left": null,
            "margin": null,
            "max_height": null,
            "max_width": null,
            "min_height": null,
            "min_width": null,
            "object_fit": null,
            "object_position": null,
            "order": null,
            "overflow": null,
            "overflow_x": null,
            "overflow_y": null,
            "padding": null,
            "right": null,
            "top": null,
            "visibility": null,
            "width": null
          }
        },
        "8abfc1f9c9944367ab6c0c4fe17523dd": {
          "model_module": "@jupyter-widgets/base",
          "model_name": "LayoutModel",
          "model_module_version": "1.2.0",
          "state": {
            "_model_module": "@jupyter-widgets/base",
            "_model_module_version": "1.2.0",
            "_model_name": "LayoutModel",
            "_view_count": null,
            "_view_module": "@jupyter-widgets/base",
            "_view_module_version": "1.2.0",
            "_view_name": "LayoutView",
            "align_content": null,
            "align_items": null,
            "align_self": null,
            "border": null,
            "bottom": null,
            "display": null,
            "flex": null,
            "flex_flow": null,
            "grid_area": null,
            "grid_auto_columns": null,
            "grid_auto_flow": null,
            "grid_auto_rows": null,
            "grid_column": null,
            "grid_gap": null,
            "grid_row": null,
            "grid_template_areas": null,
            "grid_template_columns": null,
            "grid_template_rows": null,
            "height": null,
            "justify_content": null,
            "justify_items": null,
            "left": null,
            "margin": null,
            "max_height": null,
            "max_width": null,
            "min_height": null,
            "min_width": null,
            "object_fit": null,
            "object_position": null,
            "order": null,
            "overflow": null,
            "overflow_x": null,
            "overflow_y": null,
            "padding": null,
            "right": null,
            "top": null,
            "visibility": null,
            "width": null
          }
        },
        "d1bf94971d224f64b31f8905ca9d82b8": {
          "model_module": "@jupyter-widgets/controls",
          "model_name": "DescriptionStyleModel",
          "model_module_version": "1.5.0",
          "state": {
            "_model_module": "@jupyter-widgets/controls",
            "_model_module_version": "1.5.0",
            "_model_name": "DescriptionStyleModel",
            "_view_count": null,
            "_view_module": "@jupyter-widgets/base",
            "_view_module_version": "1.2.0",
            "_view_name": "StyleView",
            "description_width": ""
          }
        },
        "76c0a0e1693d400d94a34497c13181ec": {
          "model_module": "@jupyter-widgets/base",
          "model_name": "LayoutModel",
          "model_module_version": "1.2.0",
          "state": {
            "_model_module": "@jupyter-widgets/base",
            "_model_module_version": "1.2.0",
            "_model_name": "LayoutModel",
            "_view_count": null,
            "_view_module": "@jupyter-widgets/base",
            "_view_module_version": "1.2.0",
            "_view_name": "LayoutView",
            "align_content": null,
            "align_items": null,
            "align_self": null,
            "border": null,
            "bottom": null,
            "display": null,
            "flex": null,
            "flex_flow": null,
            "grid_area": null,
            "grid_auto_columns": null,
            "grid_auto_flow": null,
            "grid_auto_rows": null,
            "grid_column": null,
            "grid_gap": null,
            "grid_row": null,
            "grid_template_areas": null,
            "grid_template_columns": null,
            "grid_template_rows": null,
            "height": null,
            "justify_content": null,
            "justify_items": null,
            "left": null,
            "margin": null,
            "max_height": null,
            "max_width": null,
            "min_height": null,
            "min_width": null,
            "object_fit": null,
            "object_position": null,
            "order": null,
            "overflow": null,
            "overflow_x": null,
            "overflow_y": null,
            "padding": null,
            "right": null,
            "top": null,
            "visibility": null,
            "width": null
          }
        },
        "38faa0c6ddaa4ba482b08ac2c80eebc3": {
          "model_module": "@jupyter-widgets/controls",
          "model_name": "ProgressStyleModel",
          "model_module_version": "1.5.0",
          "state": {
            "_model_module": "@jupyter-widgets/controls",
            "_model_module_version": "1.5.0",
            "_model_name": "ProgressStyleModel",
            "_view_count": null,
            "_view_module": "@jupyter-widgets/base",
            "_view_module_version": "1.2.0",
            "_view_name": "StyleView",
            "bar_color": null,
            "description_width": ""
          }
        },
        "4cc9ef0e5b3c4343b814b9f5d986c7c0": {
          "model_module": "@jupyter-widgets/base",
          "model_name": "LayoutModel",
          "model_module_version": "1.2.0",
          "state": {
            "_model_module": "@jupyter-widgets/base",
            "_model_module_version": "1.2.0",
            "_model_name": "LayoutModel",
            "_view_count": null,
            "_view_module": "@jupyter-widgets/base",
            "_view_module_version": "1.2.0",
            "_view_name": "LayoutView",
            "align_content": null,
            "align_items": null,
            "align_self": null,
            "border": null,
            "bottom": null,
            "display": null,
            "flex": null,
            "flex_flow": null,
            "grid_area": null,
            "grid_auto_columns": null,
            "grid_auto_flow": null,
            "grid_auto_rows": null,
            "grid_column": null,
            "grid_gap": null,
            "grid_row": null,
            "grid_template_areas": null,
            "grid_template_columns": null,
            "grid_template_rows": null,
            "height": null,
            "justify_content": null,
            "justify_items": null,
            "left": null,
            "margin": null,
            "max_height": null,
            "max_width": null,
            "min_height": null,
            "min_width": null,
            "object_fit": null,
            "object_position": null,
            "order": null,
            "overflow": null,
            "overflow_x": null,
            "overflow_y": null,
            "padding": null,
            "right": null,
            "top": null,
            "visibility": null,
            "width": null
          }
        },
        "f36249f09916443eb61721804f74edc0": {
          "model_module": "@jupyter-widgets/controls",
          "model_name": "DescriptionStyleModel",
          "model_module_version": "1.5.0",
          "state": {
            "_model_module": "@jupyter-widgets/controls",
            "_model_module_version": "1.5.0",
            "_model_name": "DescriptionStyleModel",
            "_view_count": null,
            "_view_module": "@jupyter-widgets/base",
            "_view_module_version": "1.2.0",
            "_view_name": "StyleView",
            "description_width": ""
          }
        },
        "fb7e282c05334ca3a25f64d0670464b0": {
          "model_module": "@jupyter-widgets/controls",
          "model_name": "HBoxModel",
          "model_module_version": "1.5.0",
          "state": {
            "_dom_classes": [],
            "_model_module": "@jupyter-widgets/controls",
            "_model_module_version": "1.5.0",
            "_model_name": "HBoxModel",
            "_view_count": null,
            "_view_module": "@jupyter-widgets/controls",
            "_view_module_version": "1.5.0",
            "_view_name": "HBoxView",
            "box_style": "",
            "children": [
              "IPY_MODEL_3b0310d54a12483ba9434e24ea249e3a",
              "IPY_MODEL_e486dc0170d5462bbce18a2d2fd916d5",
              "IPY_MODEL_607aa5ba989b4ff699952996a76fba95"
            ],
            "layout": "IPY_MODEL_8b70ed7d9756403a87a20016067f17de"
          }
        },
        "3b0310d54a12483ba9434e24ea249e3a": {
          "model_module": "@jupyter-widgets/controls",
          "model_name": "HTMLModel",
          "model_module_version": "1.5.0",
          "state": {
            "_dom_classes": [],
            "_model_module": "@jupyter-widgets/controls",
            "_model_module_version": "1.5.0",
            "_model_name": "HTMLModel",
            "_view_count": null,
            "_view_module": "@jupyter-widgets/controls",
            "_view_module_version": "1.5.0",
            "_view_name": "HTMLView",
            "description": "",
            "description_tooltip": null,
            "layout": "IPY_MODEL_eb57f7943c894f1ab8b402f3d8f8a8a7",
            "placeholder": "​",
            "style": "IPY_MODEL_f2b930ffb2614f449a0f0420d07576eb",
            "value": "Downloading (…)nce_bert_config.json: 100%"
          }
        },
        "e486dc0170d5462bbce18a2d2fd916d5": {
          "model_module": "@jupyter-widgets/controls",
          "model_name": "FloatProgressModel",
          "model_module_version": "1.5.0",
          "state": {
            "_dom_classes": [],
            "_model_module": "@jupyter-widgets/controls",
            "_model_module_version": "1.5.0",
            "_model_name": "FloatProgressModel",
            "_view_count": null,
            "_view_module": "@jupyter-widgets/controls",
            "_view_module_version": "1.5.0",
            "_view_name": "ProgressView",
            "bar_style": "success",
            "description": "",
            "description_tooltip": null,
            "layout": "IPY_MODEL_075faf0874b14aa5998c95288a432ec6",
            "max": 53,
            "min": 0,
            "orientation": "horizontal",
            "style": "IPY_MODEL_277677063a47455ea938a9f11eab5264",
            "value": 53
          }
        },
        "607aa5ba989b4ff699952996a76fba95": {
          "model_module": "@jupyter-widgets/controls",
          "model_name": "HTMLModel",
          "model_module_version": "1.5.0",
          "state": {
            "_dom_classes": [],
            "_model_module": "@jupyter-widgets/controls",
            "_model_module_version": "1.5.0",
            "_model_name": "HTMLModel",
            "_view_count": null,
            "_view_module": "@jupyter-widgets/controls",
            "_view_module_version": "1.5.0",
            "_view_name": "HTMLView",
            "description": "",
            "description_tooltip": null,
            "layout": "IPY_MODEL_f6876146338f4101b6c1c64c612feb84",
            "placeholder": "​",
            "style": "IPY_MODEL_afaaba6d8669469fab1083bbebc3d2a9",
            "value": " 53.0/53.0 [00:00&lt;00:00, 2.88kB/s]"
          }
        },
        "8b70ed7d9756403a87a20016067f17de": {
          "model_module": "@jupyter-widgets/base",
          "model_name": "LayoutModel",
          "model_module_version": "1.2.0",
          "state": {
            "_model_module": "@jupyter-widgets/base",
            "_model_module_version": "1.2.0",
            "_model_name": "LayoutModel",
            "_view_count": null,
            "_view_module": "@jupyter-widgets/base",
            "_view_module_version": "1.2.0",
            "_view_name": "LayoutView",
            "align_content": null,
            "align_items": null,
            "align_self": null,
            "border": null,
            "bottom": null,
            "display": null,
            "flex": null,
            "flex_flow": null,
            "grid_area": null,
            "grid_auto_columns": null,
            "grid_auto_flow": null,
            "grid_auto_rows": null,
            "grid_column": null,
            "grid_gap": null,
            "grid_row": null,
            "grid_template_areas": null,
            "grid_template_columns": null,
            "grid_template_rows": null,
            "height": null,
            "justify_content": null,
            "justify_items": null,
            "left": null,
            "margin": null,
            "max_height": null,
            "max_width": null,
            "min_height": null,
            "min_width": null,
            "object_fit": null,
            "object_position": null,
            "order": null,
            "overflow": null,
            "overflow_x": null,
            "overflow_y": null,
            "padding": null,
            "right": null,
            "top": null,
            "visibility": null,
            "width": null
          }
        },
        "eb57f7943c894f1ab8b402f3d8f8a8a7": {
          "model_module": "@jupyter-widgets/base",
          "model_name": "LayoutModel",
          "model_module_version": "1.2.0",
          "state": {
            "_model_module": "@jupyter-widgets/base",
            "_model_module_version": "1.2.0",
            "_model_name": "LayoutModel",
            "_view_count": null,
            "_view_module": "@jupyter-widgets/base",
            "_view_module_version": "1.2.0",
            "_view_name": "LayoutView",
            "align_content": null,
            "align_items": null,
            "align_self": null,
            "border": null,
            "bottom": null,
            "display": null,
            "flex": null,
            "flex_flow": null,
            "grid_area": null,
            "grid_auto_columns": null,
            "grid_auto_flow": null,
            "grid_auto_rows": null,
            "grid_column": null,
            "grid_gap": null,
            "grid_row": null,
            "grid_template_areas": null,
            "grid_template_columns": null,
            "grid_template_rows": null,
            "height": null,
            "justify_content": null,
            "justify_items": null,
            "left": null,
            "margin": null,
            "max_height": null,
            "max_width": null,
            "min_height": null,
            "min_width": null,
            "object_fit": null,
            "object_position": null,
            "order": null,
            "overflow": null,
            "overflow_x": null,
            "overflow_y": null,
            "padding": null,
            "right": null,
            "top": null,
            "visibility": null,
            "width": null
          }
        },
        "f2b930ffb2614f449a0f0420d07576eb": {
          "model_module": "@jupyter-widgets/controls",
          "model_name": "DescriptionStyleModel",
          "model_module_version": "1.5.0",
          "state": {
            "_model_module": "@jupyter-widgets/controls",
            "_model_module_version": "1.5.0",
            "_model_name": "DescriptionStyleModel",
            "_view_count": null,
            "_view_module": "@jupyter-widgets/base",
            "_view_module_version": "1.2.0",
            "_view_name": "StyleView",
            "description_width": ""
          }
        },
        "075faf0874b14aa5998c95288a432ec6": {
          "model_module": "@jupyter-widgets/base",
          "model_name": "LayoutModel",
          "model_module_version": "1.2.0",
          "state": {
            "_model_module": "@jupyter-widgets/base",
            "_model_module_version": "1.2.0",
            "_model_name": "LayoutModel",
            "_view_count": null,
            "_view_module": "@jupyter-widgets/base",
            "_view_module_version": "1.2.0",
            "_view_name": "LayoutView",
            "align_content": null,
            "align_items": null,
            "align_self": null,
            "border": null,
            "bottom": null,
            "display": null,
            "flex": null,
            "flex_flow": null,
            "grid_area": null,
            "grid_auto_columns": null,
            "grid_auto_flow": null,
            "grid_auto_rows": null,
            "grid_column": null,
            "grid_gap": null,
            "grid_row": null,
            "grid_template_areas": null,
            "grid_template_columns": null,
            "grid_template_rows": null,
            "height": null,
            "justify_content": null,
            "justify_items": null,
            "left": null,
            "margin": null,
            "max_height": null,
            "max_width": null,
            "min_height": null,
            "min_width": null,
            "object_fit": null,
            "object_position": null,
            "order": null,
            "overflow": null,
            "overflow_x": null,
            "overflow_y": null,
            "padding": null,
            "right": null,
            "top": null,
            "visibility": null,
            "width": null
          }
        },
        "277677063a47455ea938a9f11eab5264": {
          "model_module": "@jupyter-widgets/controls",
          "model_name": "ProgressStyleModel",
          "model_module_version": "1.5.0",
          "state": {
            "_model_module": "@jupyter-widgets/controls",
            "_model_module_version": "1.5.0",
            "_model_name": "ProgressStyleModel",
            "_view_count": null,
            "_view_module": "@jupyter-widgets/base",
            "_view_module_version": "1.2.0",
            "_view_name": "StyleView",
            "bar_color": null,
            "description_width": ""
          }
        },
        "f6876146338f4101b6c1c64c612feb84": {
          "model_module": "@jupyter-widgets/base",
          "model_name": "LayoutModel",
          "model_module_version": "1.2.0",
          "state": {
            "_model_module": "@jupyter-widgets/base",
            "_model_module_version": "1.2.0",
            "_model_name": "LayoutModel",
            "_view_count": null,
            "_view_module": "@jupyter-widgets/base",
            "_view_module_version": "1.2.0",
            "_view_name": "LayoutView",
            "align_content": null,
            "align_items": null,
            "align_self": null,
            "border": null,
            "bottom": null,
            "display": null,
            "flex": null,
            "flex_flow": null,
            "grid_area": null,
            "grid_auto_columns": null,
            "grid_auto_flow": null,
            "grid_auto_rows": null,
            "grid_column": null,
            "grid_gap": null,
            "grid_row": null,
            "grid_template_areas": null,
            "grid_template_columns": null,
            "grid_template_rows": null,
            "height": null,
            "justify_content": null,
            "justify_items": null,
            "left": null,
            "margin": null,
            "max_height": null,
            "max_width": null,
            "min_height": null,
            "min_width": null,
            "object_fit": null,
            "object_position": null,
            "order": null,
            "overflow": null,
            "overflow_x": null,
            "overflow_y": null,
            "padding": null,
            "right": null,
            "top": null,
            "visibility": null,
            "width": null
          }
        },
        "afaaba6d8669469fab1083bbebc3d2a9": {
          "model_module": "@jupyter-widgets/controls",
          "model_name": "DescriptionStyleModel",
          "model_module_version": "1.5.0",
          "state": {
            "_model_module": "@jupyter-widgets/controls",
            "_model_module_version": "1.5.0",
            "_model_name": "DescriptionStyleModel",
            "_view_count": null,
            "_view_module": "@jupyter-widgets/base",
            "_view_module_version": "1.2.0",
            "_view_name": "StyleView",
            "description_width": ""
          }
        },
        "7e44716045e4493fbb23d6ca0422cf65": {
          "model_module": "@jupyter-widgets/controls",
          "model_name": "HBoxModel",
          "model_module_version": "1.5.0",
          "state": {
            "_dom_classes": [],
            "_model_module": "@jupyter-widgets/controls",
            "_model_module_version": "1.5.0",
            "_model_name": "HBoxModel",
            "_view_count": null,
            "_view_module": "@jupyter-widgets/controls",
            "_view_module_version": "1.5.0",
            "_view_name": "HBoxView",
            "box_style": "",
            "children": [
              "IPY_MODEL_0387ab8670a84a6c919825454beb2d36",
              "IPY_MODEL_7dc94f878bec4f57a7877ead18f4b2d5",
              "IPY_MODEL_04ce05adadc24c7a84d3b7dfc2a1ffc1"
            ],
            "layout": "IPY_MODEL_bc2d5e5cb1da4690ad7c23974341b362"
          }
        },
        "0387ab8670a84a6c919825454beb2d36": {
          "model_module": "@jupyter-widgets/controls",
          "model_name": "HTMLModel",
          "model_module_version": "1.5.0",
          "state": {
            "_dom_classes": [],
            "_model_module": "@jupyter-widgets/controls",
            "_model_module_version": "1.5.0",
            "_model_name": "HTMLModel",
            "_view_count": null,
            "_view_module": "@jupyter-widgets/controls",
            "_view_module_version": "1.5.0",
            "_view_name": "HTMLView",
            "description": "",
            "description_tooltip": null,
            "layout": "IPY_MODEL_3a249b1c9f9040949ef964ff4ad65967",
            "placeholder": "​",
            "style": "IPY_MODEL_c0fd9367b45746839d51bd88dec82260",
            "value": "Downloading (…)cial_tokens_map.json: 100%"
          }
        },
        "7dc94f878bec4f57a7877ead18f4b2d5": {
          "model_module": "@jupyter-widgets/controls",
          "model_name": "FloatProgressModel",
          "model_module_version": "1.5.0",
          "state": {
            "_dom_classes": [],
            "_model_module": "@jupyter-widgets/controls",
            "_model_module_version": "1.5.0",
            "_model_name": "FloatProgressModel",
            "_view_count": null,
            "_view_module": "@jupyter-widgets/controls",
            "_view_module_version": "1.5.0",
            "_view_name": "ProgressView",
            "bar_style": "success",
            "description": "",
            "description_tooltip": null,
            "layout": "IPY_MODEL_c6c50db98a1049a8adfcf335f7aba753",
            "max": 112,
            "min": 0,
            "orientation": "horizontal",
            "style": "IPY_MODEL_45a7cb5cb3e647039f0e1e26af3dedd7",
            "value": 112
          }
        },
        "04ce05adadc24c7a84d3b7dfc2a1ffc1": {
          "model_module": "@jupyter-widgets/controls",
          "model_name": "HTMLModel",
          "model_module_version": "1.5.0",
          "state": {
            "_dom_classes": [],
            "_model_module": "@jupyter-widgets/controls",
            "_model_module_version": "1.5.0",
            "_model_name": "HTMLModel",
            "_view_count": null,
            "_view_module": "@jupyter-widgets/controls",
            "_view_module_version": "1.5.0",
            "_view_name": "HTMLView",
            "description": "",
            "description_tooltip": null,
            "layout": "IPY_MODEL_7549b11704124a7bbf74fcb55f42d526",
            "placeholder": "​",
            "style": "IPY_MODEL_2eb17f4c2e0c45c096f9897b40b99b29",
            "value": " 112/112 [00:00&lt;00:00, 8.63kB/s]"
          }
        },
        "bc2d5e5cb1da4690ad7c23974341b362": {
          "model_module": "@jupyter-widgets/base",
          "model_name": "LayoutModel",
          "model_module_version": "1.2.0",
          "state": {
            "_model_module": "@jupyter-widgets/base",
            "_model_module_version": "1.2.0",
            "_model_name": "LayoutModel",
            "_view_count": null,
            "_view_module": "@jupyter-widgets/base",
            "_view_module_version": "1.2.0",
            "_view_name": "LayoutView",
            "align_content": null,
            "align_items": null,
            "align_self": null,
            "border": null,
            "bottom": null,
            "display": null,
            "flex": null,
            "flex_flow": null,
            "grid_area": null,
            "grid_auto_columns": null,
            "grid_auto_flow": null,
            "grid_auto_rows": null,
            "grid_column": null,
            "grid_gap": null,
            "grid_row": null,
            "grid_template_areas": null,
            "grid_template_columns": null,
            "grid_template_rows": null,
            "height": null,
            "justify_content": null,
            "justify_items": null,
            "left": null,
            "margin": null,
            "max_height": null,
            "max_width": null,
            "min_height": null,
            "min_width": null,
            "object_fit": null,
            "object_position": null,
            "order": null,
            "overflow": null,
            "overflow_x": null,
            "overflow_y": null,
            "padding": null,
            "right": null,
            "top": null,
            "visibility": null,
            "width": null
          }
        },
        "3a249b1c9f9040949ef964ff4ad65967": {
          "model_module": "@jupyter-widgets/base",
          "model_name": "LayoutModel",
          "model_module_version": "1.2.0",
          "state": {
            "_model_module": "@jupyter-widgets/base",
            "_model_module_version": "1.2.0",
            "_model_name": "LayoutModel",
            "_view_count": null,
            "_view_module": "@jupyter-widgets/base",
            "_view_module_version": "1.2.0",
            "_view_name": "LayoutView",
            "align_content": null,
            "align_items": null,
            "align_self": null,
            "border": null,
            "bottom": null,
            "display": null,
            "flex": null,
            "flex_flow": null,
            "grid_area": null,
            "grid_auto_columns": null,
            "grid_auto_flow": null,
            "grid_auto_rows": null,
            "grid_column": null,
            "grid_gap": null,
            "grid_row": null,
            "grid_template_areas": null,
            "grid_template_columns": null,
            "grid_template_rows": null,
            "height": null,
            "justify_content": null,
            "justify_items": null,
            "left": null,
            "margin": null,
            "max_height": null,
            "max_width": null,
            "min_height": null,
            "min_width": null,
            "object_fit": null,
            "object_position": null,
            "order": null,
            "overflow": null,
            "overflow_x": null,
            "overflow_y": null,
            "padding": null,
            "right": null,
            "top": null,
            "visibility": null,
            "width": null
          }
        },
        "c0fd9367b45746839d51bd88dec82260": {
          "model_module": "@jupyter-widgets/controls",
          "model_name": "DescriptionStyleModel",
          "model_module_version": "1.5.0",
          "state": {
            "_model_module": "@jupyter-widgets/controls",
            "_model_module_version": "1.5.0",
            "_model_name": "DescriptionStyleModel",
            "_view_count": null,
            "_view_module": "@jupyter-widgets/base",
            "_view_module_version": "1.2.0",
            "_view_name": "StyleView",
            "description_width": ""
          }
        },
        "c6c50db98a1049a8adfcf335f7aba753": {
          "model_module": "@jupyter-widgets/base",
          "model_name": "LayoutModel",
          "model_module_version": "1.2.0",
          "state": {
            "_model_module": "@jupyter-widgets/base",
            "_model_module_version": "1.2.0",
            "_model_name": "LayoutModel",
            "_view_count": null,
            "_view_module": "@jupyter-widgets/base",
            "_view_module_version": "1.2.0",
            "_view_name": "LayoutView",
            "align_content": null,
            "align_items": null,
            "align_self": null,
            "border": null,
            "bottom": null,
            "display": null,
            "flex": null,
            "flex_flow": null,
            "grid_area": null,
            "grid_auto_columns": null,
            "grid_auto_flow": null,
            "grid_auto_rows": null,
            "grid_column": null,
            "grid_gap": null,
            "grid_row": null,
            "grid_template_areas": null,
            "grid_template_columns": null,
            "grid_template_rows": null,
            "height": null,
            "justify_content": null,
            "justify_items": null,
            "left": null,
            "margin": null,
            "max_height": null,
            "max_width": null,
            "min_height": null,
            "min_width": null,
            "object_fit": null,
            "object_position": null,
            "order": null,
            "overflow": null,
            "overflow_x": null,
            "overflow_y": null,
            "padding": null,
            "right": null,
            "top": null,
            "visibility": null,
            "width": null
          }
        },
        "45a7cb5cb3e647039f0e1e26af3dedd7": {
          "model_module": "@jupyter-widgets/controls",
          "model_name": "ProgressStyleModel",
          "model_module_version": "1.5.0",
          "state": {
            "_model_module": "@jupyter-widgets/controls",
            "_model_module_version": "1.5.0",
            "_model_name": "ProgressStyleModel",
            "_view_count": null,
            "_view_module": "@jupyter-widgets/base",
            "_view_module_version": "1.2.0",
            "_view_name": "StyleView",
            "bar_color": null,
            "description_width": ""
          }
        },
        "7549b11704124a7bbf74fcb55f42d526": {
          "model_module": "@jupyter-widgets/base",
          "model_name": "LayoutModel",
          "model_module_version": "1.2.0",
          "state": {
            "_model_module": "@jupyter-widgets/base",
            "_model_module_version": "1.2.0",
            "_model_name": "LayoutModel",
            "_view_count": null,
            "_view_module": "@jupyter-widgets/base",
            "_view_module_version": "1.2.0",
            "_view_name": "LayoutView",
            "align_content": null,
            "align_items": null,
            "align_self": null,
            "border": null,
            "bottom": null,
            "display": null,
            "flex": null,
            "flex_flow": null,
            "grid_area": null,
            "grid_auto_columns": null,
            "grid_auto_flow": null,
            "grid_auto_rows": null,
            "grid_column": null,
            "grid_gap": null,
            "grid_row": null,
            "grid_template_areas": null,
            "grid_template_columns": null,
            "grid_template_rows": null,
            "height": null,
            "justify_content": null,
            "justify_items": null,
            "left": null,
            "margin": null,
            "max_height": null,
            "max_width": null,
            "min_height": null,
            "min_width": null,
            "object_fit": null,
            "object_position": null,
            "order": null,
            "overflow": null,
            "overflow_x": null,
            "overflow_y": null,
            "padding": null,
            "right": null,
            "top": null,
            "visibility": null,
            "width": null
          }
        },
        "2eb17f4c2e0c45c096f9897b40b99b29": {
          "model_module": "@jupyter-widgets/controls",
          "model_name": "DescriptionStyleModel",
          "model_module_version": "1.5.0",
          "state": {
            "_model_module": "@jupyter-widgets/controls",
            "_model_module_version": "1.5.0",
            "_model_name": "DescriptionStyleModel",
            "_view_count": null,
            "_view_module": "@jupyter-widgets/base",
            "_view_module_version": "1.2.0",
            "_view_name": "StyleView",
            "description_width": ""
          }
        },
        "7c63bb3e511546ccac2aab7da50ebca8": {
          "model_module": "@jupyter-widgets/controls",
          "model_name": "HBoxModel",
          "model_module_version": "1.5.0",
          "state": {
            "_dom_classes": [],
            "_model_module": "@jupyter-widgets/controls",
            "_model_module_version": "1.5.0",
            "_model_name": "HBoxModel",
            "_view_count": null,
            "_view_module": "@jupyter-widgets/controls",
            "_view_module_version": "1.5.0",
            "_view_name": "HBoxView",
            "box_style": "",
            "children": [
              "IPY_MODEL_99336d5ceb1a4f8f88baa319c2211a10",
              "IPY_MODEL_a927aa3a307541fda39257a0bf722f26",
              "IPY_MODEL_067c27cfba9141759f12da3707076db8"
            ],
            "layout": "IPY_MODEL_336bf49d68374fdc8b34f4e29f5ada7c"
          }
        },
        "99336d5ceb1a4f8f88baa319c2211a10": {
          "model_module": "@jupyter-widgets/controls",
          "model_name": "HTMLModel",
          "model_module_version": "1.5.0",
          "state": {
            "_dom_classes": [],
            "_model_module": "@jupyter-widgets/controls",
            "_model_module_version": "1.5.0",
            "_model_name": "HTMLModel",
            "_view_count": null,
            "_view_module": "@jupyter-widgets/controls",
            "_view_module_version": "1.5.0",
            "_view_name": "HTMLView",
            "description": "",
            "description_tooltip": null,
            "layout": "IPY_MODEL_1f305f18389046ddb0faa8eeb555ded3",
            "placeholder": "​",
            "style": "IPY_MODEL_68df6d94f11543c99275786eb3cf3fbd",
            "value": "Downloading (…)be010/tokenizer.json: 100%"
          }
        },
        "a927aa3a307541fda39257a0bf722f26": {
          "model_module": "@jupyter-widgets/controls",
          "model_name": "FloatProgressModel",
          "model_module_version": "1.5.0",
          "state": {
            "_dom_classes": [],
            "_model_module": "@jupyter-widgets/controls",
            "_model_module_version": "1.5.0",
            "_model_name": "FloatProgressModel",
            "_view_count": null,
            "_view_module": "@jupyter-widgets/controls",
            "_view_module_version": "1.5.0",
            "_view_name": "ProgressView",
            "bar_style": "success",
            "description": "",
            "description_tooltip": null,
            "layout": "IPY_MODEL_bace9a8919474de083d2fefbe8820b37",
            "max": 9621556,
            "min": 0,
            "orientation": "horizontal",
            "style": "IPY_MODEL_ffef2eb625c3433c88e3227bf584b9b7",
            "value": 9621556
          }
        },
        "067c27cfba9141759f12da3707076db8": {
          "model_module": "@jupyter-widgets/controls",
          "model_name": "HTMLModel",
          "model_module_version": "1.5.0",
          "state": {
            "_dom_classes": [],
            "_model_module": "@jupyter-widgets/controls",
            "_model_module_version": "1.5.0",
            "_model_name": "HTMLModel",
            "_view_count": null,
            "_view_module": "@jupyter-widgets/controls",
            "_view_module_version": "1.5.0",
            "_view_name": "HTMLView",
            "description": "",
            "description_tooltip": null,
            "layout": "IPY_MODEL_701d7ee5ed64410dbe88807b07cf39ab",
            "placeholder": "​",
            "style": "IPY_MODEL_3ad7c291351249449aec7a057c5bc283",
            "value": " 9.62M/9.62M [00:00&lt;00:00, 41.4MB/s]"
          }
        },
        "336bf49d68374fdc8b34f4e29f5ada7c": {
          "model_module": "@jupyter-widgets/base",
          "model_name": "LayoutModel",
          "model_module_version": "1.2.0",
          "state": {
            "_model_module": "@jupyter-widgets/base",
            "_model_module_version": "1.2.0",
            "_model_name": "LayoutModel",
            "_view_count": null,
            "_view_module": "@jupyter-widgets/base",
            "_view_module_version": "1.2.0",
            "_view_name": "LayoutView",
            "align_content": null,
            "align_items": null,
            "align_self": null,
            "border": null,
            "bottom": null,
            "display": null,
            "flex": null,
            "flex_flow": null,
            "grid_area": null,
            "grid_auto_columns": null,
            "grid_auto_flow": null,
            "grid_auto_rows": null,
            "grid_column": null,
            "grid_gap": null,
            "grid_row": null,
            "grid_template_areas": null,
            "grid_template_columns": null,
            "grid_template_rows": null,
            "height": null,
            "justify_content": null,
            "justify_items": null,
            "left": null,
            "margin": null,
            "max_height": null,
            "max_width": null,
            "min_height": null,
            "min_width": null,
            "object_fit": null,
            "object_position": null,
            "order": null,
            "overflow": null,
            "overflow_x": null,
            "overflow_y": null,
            "padding": null,
            "right": null,
            "top": null,
            "visibility": null,
            "width": null
          }
        },
        "1f305f18389046ddb0faa8eeb555ded3": {
          "model_module": "@jupyter-widgets/base",
          "model_name": "LayoutModel",
          "model_module_version": "1.2.0",
          "state": {
            "_model_module": "@jupyter-widgets/base",
            "_model_module_version": "1.2.0",
            "_model_name": "LayoutModel",
            "_view_count": null,
            "_view_module": "@jupyter-widgets/base",
            "_view_module_version": "1.2.0",
            "_view_name": "LayoutView",
            "align_content": null,
            "align_items": null,
            "align_self": null,
            "border": null,
            "bottom": null,
            "display": null,
            "flex": null,
            "flex_flow": null,
            "grid_area": null,
            "grid_auto_columns": null,
            "grid_auto_flow": null,
            "grid_auto_rows": null,
            "grid_column": null,
            "grid_gap": null,
            "grid_row": null,
            "grid_template_areas": null,
            "grid_template_columns": null,
            "grid_template_rows": null,
            "height": null,
            "justify_content": null,
            "justify_items": null,
            "left": null,
            "margin": null,
            "max_height": null,
            "max_width": null,
            "min_height": null,
            "min_width": null,
            "object_fit": null,
            "object_position": null,
            "order": null,
            "overflow": null,
            "overflow_x": null,
            "overflow_y": null,
            "padding": null,
            "right": null,
            "top": null,
            "visibility": null,
            "width": null
          }
        },
        "68df6d94f11543c99275786eb3cf3fbd": {
          "model_module": "@jupyter-widgets/controls",
          "model_name": "DescriptionStyleModel",
          "model_module_version": "1.5.0",
          "state": {
            "_model_module": "@jupyter-widgets/controls",
            "_model_module_version": "1.5.0",
            "_model_name": "DescriptionStyleModel",
            "_view_count": null,
            "_view_module": "@jupyter-widgets/base",
            "_view_module_version": "1.2.0",
            "_view_name": "StyleView",
            "description_width": ""
          }
        },
        "bace9a8919474de083d2fefbe8820b37": {
          "model_module": "@jupyter-widgets/base",
          "model_name": "LayoutModel",
          "model_module_version": "1.2.0",
          "state": {
            "_model_module": "@jupyter-widgets/base",
            "_model_module_version": "1.2.0",
            "_model_name": "LayoutModel",
            "_view_count": null,
            "_view_module": "@jupyter-widgets/base",
            "_view_module_version": "1.2.0",
            "_view_name": "LayoutView",
            "align_content": null,
            "align_items": null,
            "align_self": null,
            "border": null,
            "bottom": null,
            "display": null,
            "flex": null,
            "flex_flow": null,
            "grid_area": null,
            "grid_auto_columns": null,
            "grid_auto_flow": null,
            "grid_auto_rows": null,
            "grid_column": null,
            "grid_gap": null,
            "grid_row": null,
            "grid_template_areas": null,
            "grid_template_columns": null,
            "grid_template_rows": null,
            "height": null,
            "justify_content": null,
            "justify_items": null,
            "left": null,
            "margin": null,
            "max_height": null,
            "max_width": null,
            "min_height": null,
            "min_width": null,
            "object_fit": null,
            "object_position": null,
            "order": null,
            "overflow": null,
            "overflow_x": null,
            "overflow_y": null,
            "padding": null,
            "right": null,
            "top": null,
            "visibility": null,
            "width": null
          }
        },
        "ffef2eb625c3433c88e3227bf584b9b7": {
          "model_module": "@jupyter-widgets/controls",
          "model_name": "ProgressStyleModel",
          "model_module_version": "1.5.0",
          "state": {
            "_model_module": "@jupyter-widgets/controls",
            "_model_module_version": "1.5.0",
            "_model_name": "ProgressStyleModel",
            "_view_count": null,
            "_view_module": "@jupyter-widgets/base",
            "_view_module_version": "1.2.0",
            "_view_name": "StyleView",
            "bar_color": null,
            "description_width": ""
          }
        },
        "701d7ee5ed64410dbe88807b07cf39ab": {
          "model_module": "@jupyter-widgets/base",
          "model_name": "LayoutModel",
          "model_module_version": "1.2.0",
          "state": {
            "_model_module": "@jupyter-widgets/base",
            "_model_module_version": "1.2.0",
            "_model_name": "LayoutModel",
            "_view_count": null,
            "_view_module": "@jupyter-widgets/base",
            "_view_module_version": "1.2.0",
            "_view_name": "LayoutView",
            "align_content": null,
            "align_items": null,
            "align_self": null,
            "border": null,
            "bottom": null,
            "display": null,
            "flex": null,
            "flex_flow": null,
            "grid_area": null,
            "grid_auto_columns": null,
            "grid_auto_flow": null,
            "grid_auto_rows": null,
            "grid_column": null,
            "grid_gap": null,
            "grid_row": null,
            "grid_template_areas": null,
            "grid_template_columns": null,
            "grid_template_rows": null,
            "height": null,
            "justify_content": null,
            "justify_items": null,
            "left": null,
            "margin": null,
            "max_height": null,
            "max_width": null,
            "min_height": null,
            "min_width": null,
            "object_fit": null,
            "object_position": null,
            "order": null,
            "overflow": null,
            "overflow_x": null,
            "overflow_y": null,
            "padding": null,
            "right": null,
            "top": null,
            "visibility": null,
            "width": null
          }
        },
        "3ad7c291351249449aec7a057c5bc283": {
          "model_module": "@jupyter-widgets/controls",
          "model_name": "DescriptionStyleModel",
          "model_module_version": "1.5.0",
          "state": {
            "_model_module": "@jupyter-widgets/controls",
            "_model_module_version": "1.5.0",
            "_model_name": "DescriptionStyleModel",
            "_view_count": null,
            "_view_module": "@jupyter-widgets/base",
            "_view_module_version": "1.2.0",
            "_view_name": "StyleView",
            "description_width": ""
          }
        },
        "d0e07abdeaf4438d9a61d3313e18457f": {
          "model_module": "@jupyter-widgets/controls",
          "model_name": "HBoxModel",
          "model_module_version": "1.5.0",
          "state": {
            "_dom_classes": [],
            "_model_module": "@jupyter-widgets/controls",
            "_model_module_version": "1.5.0",
            "_model_name": "HBoxModel",
            "_view_count": null,
            "_view_module": "@jupyter-widgets/controls",
            "_view_module_version": "1.5.0",
            "_view_name": "HBoxView",
            "box_style": "",
            "children": [
              "IPY_MODEL_dedce4c164f2423783e7d2dab915204b",
              "IPY_MODEL_662531c1dfa8417d9b698248ab726334",
              "IPY_MODEL_5d51e9f3164e41f78173b202913b9034"
            ],
            "layout": "IPY_MODEL_f471ee314d0b4dd38eb24f84604c5a2b"
          }
        },
        "dedce4c164f2423783e7d2dab915204b": {
          "model_module": "@jupyter-widgets/controls",
          "model_name": "HTMLModel",
          "model_module_version": "1.5.0",
          "state": {
            "_dom_classes": [],
            "_model_module": "@jupyter-widgets/controls",
            "_model_module_version": "1.5.0",
            "_model_name": "HTMLModel",
            "_view_count": null,
            "_view_module": "@jupyter-widgets/controls",
            "_view_module_version": "1.5.0",
            "_view_name": "HTMLView",
            "description": "",
            "description_tooltip": null,
            "layout": "IPY_MODEL_a89669d4b17f4941b1bc978ef6d61949",
            "placeholder": "​",
            "style": "IPY_MODEL_6d858bca22d84ee6a1c3e60c24e92d33",
            "value": "Downloading (…)okenizer_config.json: 100%"
          }
        },
        "662531c1dfa8417d9b698248ab726334": {
          "model_module": "@jupyter-widgets/controls",
          "model_name": "FloatProgressModel",
          "model_module_version": "1.5.0",
          "state": {
            "_dom_classes": [],
            "_model_module": "@jupyter-widgets/controls",
            "_model_module_version": "1.5.0",
            "_model_name": "FloatProgressModel",
            "_view_count": null,
            "_view_module": "@jupyter-widgets/controls",
            "_view_module_version": "1.5.0",
            "_view_name": "ProgressView",
            "bar_style": "success",
            "description": "",
            "description_tooltip": null,
            "layout": "IPY_MODEL_f2abc3448ee04a4f855b08e9fdaab8fa",
            "max": 411,
            "min": 0,
            "orientation": "horizontal",
            "style": "IPY_MODEL_64778e5acb7a4d428d5828c28047809e",
            "value": 411
          }
        },
        "5d51e9f3164e41f78173b202913b9034": {
          "model_module": "@jupyter-widgets/controls",
          "model_name": "HTMLModel",
          "model_module_version": "1.5.0",
          "state": {
            "_dom_classes": [],
            "_model_module": "@jupyter-widgets/controls",
            "_model_module_version": "1.5.0",
            "_model_name": "HTMLModel",
            "_view_count": null,
            "_view_module": "@jupyter-widgets/controls",
            "_view_module_version": "1.5.0",
            "_view_name": "HTMLView",
            "description": "",
            "description_tooltip": null,
            "layout": "IPY_MODEL_9d0a476de971422fa6842f2ecf3e2c3b",
            "placeholder": "​",
            "style": "IPY_MODEL_959887705f7f47dd804bb2113e9fd5c3",
            "value": " 411/411 [00:00&lt;00:00, 28.9kB/s]"
          }
        },
        "f471ee314d0b4dd38eb24f84604c5a2b": {
          "model_module": "@jupyter-widgets/base",
          "model_name": "LayoutModel",
          "model_module_version": "1.2.0",
          "state": {
            "_model_module": "@jupyter-widgets/base",
            "_model_module_version": "1.2.0",
            "_model_name": "LayoutModel",
            "_view_count": null,
            "_view_module": "@jupyter-widgets/base",
            "_view_module_version": "1.2.0",
            "_view_name": "LayoutView",
            "align_content": null,
            "align_items": null,
            "align_self": null,
            "border": null,
            "bottom": null,
            "display": null,
            "flex": null,
            "flex_flow": null,
            "grid_area": null,
            "grid_auto_columns": null,
            "grid_auto_flow": null,
            "grid_auto_rows": null,
            "grid_column": null,
            "grid_gap": null,
            "grid_row": null,
            "grid_template_areas": null,
            "grid_template_columns": null,
            "grid_template_rows": null,
            "height": null,
            "justify_content": null,
            "justify_items": null,
            "left": null,
            "margin": null,
            "max_height": null,
            "max_width": null,
            "min_height": null,
            "min_width": null,
            "object_fit": null,
            "object_position": null,
            "order": null,
            "overflow": null,
            "overflow_x": null,
            "overflow_y": null,
            "padding": null,
            "right": null,
            "top": null,
            "visibility": null,
            "width": null
          }
        },
        "a89669d4b17f4941b1bc978ef6d61949": {
          "model_module": "@jupyter-widgets/base",
          "model_name": "LayoutModel",
          "model_module_version": "1.2.0",
          "state": {
            "_model_module": "@jupyter-widgets/base",
            "_model_module_version": "1.2.0",
            "_model_name": "LayoutModel",
            "_view_count": null,
            "_view_module": "@jupyter-widgets/base",
            "_view_module_version": "1.2.0",
            "_view_name": "LayoutView",
            "align_content": null,
            "align_items": null,
            "align_self": null,
            "border": null,
            "bottom": null,
            "display": null,
            "flex": null,
            "flex_flow": null,
            "grid_area": null,
            "grid_auto_columns": null,
            "grid_auto_flow": null,
            "grid_auto_rows": null,
            "grid_column": null,
            "grid_gap": null,
            "grid_row": null,
            "grid_template_areas": null,
            "grid_template_columns": null,
            "grid_template_rows": null,
            "height": null,
            "justify_content": null,
            "justify_items": null,
            "left": null,
            "margin": null,
            "max_height": null,
            "max_width": null,
            "min_height": null,
            "min_width": null,
            "object_fit": null,
            "object_position": null,
            "order": null,
            "overflow": null,
            "overflow_x": null,
            "overflow_y": null,
            "padding": null,
            "right": null,
            "top": null,
            "visibility": null,
            "width": null
          }
        },
        "6d858bca22d84ee6a1c3e60c24e92d33": {
          "model_module": "@jupyter-widgets/controls",
          "model_name": "DescriptionStyleModel",
          "model_module_version": "1.5.0",
          "state": {
            "_model_module": "@jupyter-widgets/controls",
            "_model_module_version": "1.5.0",
            "_model_name": "DescriptionStyleModel",
            "_view_count": null,
            "_view_module": "@jupyter-widgets/base",
            "_view_module_version": "1.2.0",
            "_view_name": "StyleView",
            "description_width": ""
          }
        },
        "f2abc3448ee04a4f855b08e9fdaab8fa": {
          "model_module": "@jupyter-widgets/base",
          "model_name": "LayoutModel",
          "model_module_version": "1.2.0",
          "state": {
            "_model_module": "@jupyter-widgets/base",
            "_model_module_version": "1.2.0",
            "_model_name": "LayoutModel",
            "_view_count": null,
            "_view_module": "@jupyter-widgets/base",
            "_view_module_version": "1.2.0",
            "_view_name": "LayoutView",
            "align_content": null,
            "align_items": null,
            "align_self": null,
            "border": null,
            "bottom": null,
            "display": null,
            "flex": null,
            "flex_flow": null,
            "grid_area": null,
            "grid_auto_columns": null,
            "grid_auto_flow": null,
            "grid_auto_rows": null,
            "grid_column": null,
            "grid_gap": null,
            "grid_row": null,
            "grid_template_areas": null,
            "grid_template_columns": null,
            "grid_template_rows": null,
            "height": null,
            "justify_content": null,
            "justify_items": null,
            "left": null,
            "margin": null,
            "max_height": null,
            "max_width": null,
            "min_height": null,
            "min_width": null,
            "object_fit": null,
            "object_position": null,
            "order": null,
            "overflow": null,
            "overflow_x": null,
            "overflow_y": null,
            "padding": null,
            "right": null,
            "top": null,
            "visibility": null,
            "width": null
          }
        },
        "64778e5acb7a4d428d5828c28047809e": {
          "model_module": "@jupyter-widgets/controls",
          "model_name": "ProgressStyleModel",
          "model_module_version": "1.5.0",
          "state": {
            "_model_module": "@jupyter-widgets/controls",
            "_model_module_version": "1.5.0",
            "_model_name": "ProgressStyleModel",
            "_view_count": null,
            "_view_module": "@jupyter-widgets/base",
            "_view_module_version": "1.2.0",
            "_view_name": "StyleView",
            "bar_color": null,
            "description_width": ""
          }
        },
        "9d0a476de971422fa6842f2ecf3e2c3b": {
          "model_module": "@jupyter-widgets/base",
          "model_name": "LayoutModel",
          "model_module_version": "1.2.0",
          "state": {
            "_model_module": "@jupyter-widgets/base",
            "_model_module_version": "1.2.0",
            "_model_name": "LayoutModel",
            "_view_count": null,
            "_view_module": "@jupyter-widgets/base",
            "_view_module_version": "1.2.0",
            "_view_name": "LayoutView",
            "align_content": null,
            "align_items": null,
            "align_self": null,
            "border": null,
            "bottom": null,
            "display": null,
            "flex": null,
            "flex_flow": null,
            "grid_area": null,
            "grid_auto_columns": null,
            "grid_auto_flow": null,
            "grid_auto_rows": null,
            "grid_column": null,
            "grid_gap": null,
            "grid_row": null,
            "grid_template_areas": null,
            "grid_template_columns": null,
            "grid_template_rows": null,
            "height": null,
            "justify_content": null,
            "justify_items": null,
            "left": null,
            "margin": null,
            "max_height": null,
            "max_width": null,
            "min_height": null,
            "min_width": null,
            "object_fit": null,
            "object_position": null,
            "order": null,
            "overflow": null,
            "overflow_x": null,
            "overflow_y": null,
            "padding": null,
            "right": null,
            "top": null,
            "visibility": null,
            "width": null
          }
        },
        "959887705f7f47dd804bb2113e9fd5c3": {
          "model_module": "@jupyter-widgets/controls",
          "model_name": "DescriptionStyleModel",
          "model_module_version": "1.5.0",
          "state": {
            "_model_module": "@jupyter-widgets/controls",
            "_model_module_version": "1.5.0",
            "_model_name": "DescriptionStyleModel",
            "_view_count": null,
            "_view_module": "@jupyter-widgets/base",
            "_view_module_version": "1.2.0",
            "_view_name": "StyleView",
            "description_width": ""
          }
        },
        "6fed12ca6e8b4a66b260fb900a305346": {
          "model_module": "@jupyter-widgets/controls",
          "model_name": "HBoxModel",
          "model_module_version": "1.5.0",
          "state": {
            "_dom_classes": [],
            "_model_module": "@jupyter-widgets/controls",
            "_model_module_version": "1.5.0",
            "_model_name": "HBoxModel",
            "_view_count": null,
            "_view_module": "@jupyter-widgets/controls",
            "_view_module_version": "1.5.0",
            "_view_name": "HBoxView",
            "box_style": "",
            "children": [
              "IPY_MODEL_d46b29d0b7dd48d7b1630751166e3de7",
              "IPY_MODEL_9d01a1b693cc4d01b707b35a02d5720f",
              "IPY_MODEL_c336ecf2fd044f239bf17f702b0c4af9"
            ],
            "layout": "IPY_MODEL_8f6d7e49678c434baf3cd29d2933a535"
          }
        },
        "d46b29d0b7dd48d7b1630751166e3de7": {
          "model_module": "@jupyter-widgets/controls",
          "model_name": "HTMLModel",
          "model_module_version": "1.5.0",
          "state": {
            "_dom_classes": [],
            "_model_module": "@jupyter-widgets/controls",
            "_model_module_version": "1.5.0",
            "_model_name": "HTMLModel",
            "_view_count": null,
            "_view_module": "@jupyter-widgets/controls",
            "_view_module_version": "1.5.0",
            "_view_name": "HTMLView",
            "description": "",
            "description_tooltip": null,
            "layout": "IPY_MODEL_787d53738c274cb89ccb60bbb75c618a",
            "placeholder": "​",
            "style": "IPY_MODEL_acd82b4959354dc2953a4c41506caef4",
            "value": "Downloading (…)168ebbe010/vocab.txt: 100%"
          }
        },
        "9d01a1b693cc4d01b707b35a02d5720f": {
          "model_module": "@jupyter-widgets/controls",
          "model_name": "FloatProgressModel",
          "model_module_version": "1.5.0",
          "state": {
            "_dom_classes": [],
            "_model_module": "@jupyter-widgets/controls",
            "_model_module_version": "1.5.0",
            "_model_name": "FloatProgressModel",
            "_view_count": null,
            "_view_module": "@jupyter-widgets/controls",
            "_view_module_version": "1.5.0",
            "_view_name": "ProgressView",
            "bar_style": "success",
            "description": "",
            "description_tooltip": null,
            "layout": "IPY_MODEL_b2f0ce62f9334b568a4a1c0b2ff7ed2b",
            "max": 5220781,
            "min": 0,
            "orientation": "horizontal",
            "style": "IPY_MODEL_39f7784c938344aea7edbad449de2d91",
            "value": 5220781
          }
        },
        "c336ecf2fd044f239bf17f702b0c4af9": {
          "model_module": "@jupyter-widgets/controls",
          "model_name": "HTMLModel",
          "model_module_version": "1.5.0",
          "state": {
            "_dom_classes": [],
            "_model_module": "@jupyter-widgets/controls",
            "_model_module_version": "1.5.0",
            "_model_name": "HTMLModel",
            "_view_count": null,
            "_view_module": "@jupyter-widgets/controls",
            "_view_module_version": "1.5.0",
            "_view_name": "HTMLView",
            "description": "",
            "description_tooltip": null,
            "layout": "IPY_MODEL_c1030141a45c418f9ae7af06cb1ccdd5",
            "placeholder": "​",
            "style": "IPY_MODEL_277f9e88e0fd43b398712c3b43036d2a",
            "value": " 5.22M/5.22M [00:00&lt;00:00, 12.7MB/s]"
          }
        },
        "8f6d7e49678c434baf3cd29d2933a535": {
          "model_module": "@jupyter-widgets/base",
          "model_name": "LayoutModel",
          "model_module_version": "1.2.0",
          "state": {
            "_model_module": "@jupyter-widgets/base",
            "_model_module_version": "1.2.0",
            "_model_name": "LayoutModel",
            "_view_count": null,
            "_view_module": "@jupyter-widgets/base",
            "_view_module_version": "1.2.0",
            "_view_name": "LayoutView",
            "align_content": null,
            "align_items": null,
            "align_self": null,
            "border": null,
            "bottom": null,
            "display": null,
            "flex": null,
            "flex_flow": null,
            "grid_area": null,
            "grid_auto_columns": null,
            "grid_auto_flow": null,
            "grid_auto_rows": null,
            "grid_column": null,
            "grid_gap": null,
            "grid_row": null,
            "grid_template_areas": null,
            "grid_template_columns": null,
            "grid_template_rows": null,
            "height": null,
            "justify_content": null,
            "justify_items": null,
            "left": null,
            "margin": null,
            "max_height": null,
            "max_width": null,
            "min_height": null,
            "min_width": null,
            "object_fit": null,
            "object_position": null,
            "order": null,
            "overflow": null,
            "overflow_x": null,
            "overflow_y": null,
            "padding": null,
            "right": null,
            "top": null,
            "visibility": null,
            "width": null
          }
        },
        "787d53738c274cb89ccb60bbb75c618a": {
          "model_module": "@jupyter-widgets/base",
          "model_name": "LayoutModel",
          "model_module_version": "1.2.0",
          "state": {
            "_model_module": "@jupyter-widgets/base",
            "_model_module_version": "1.2.0",
            "_model_name": "LayoutModel",
            "_view_count": null,
            "_view_module": "@jupyter-widgets/base",
            "_view_module_version": "1.2.0",
            "_view_name": "LayoutView",
            "align_content": null,
            "align_items": null,
            "align_self": null,
            "border": null,
            "bottom": null,
            "display": null,
            "flex": null,
            "flex_flow": null,
            "grid_area": null,
            "grid_auto_columns": null,
            "grid_auto_flow": null,
            "grid_auto_rows": null,
            "grid_column": null,
            "grid_gap": null,
            "grid_row": null,
            "grid_template_areas": null,
            "grid_template_columns": null,
            "grid_template_rows": null,
            "height": null,
            "justify_content": null,
            "justify_items": null,
            "left": null,
            "margin": null,
            "max_height": null,
            "max_width": null,
            "min_height": null,
            "min_width": null,
            "object_fit": null,
            "object_position": null,
            "order": null,
            "overflow": null,
            "overflow_x": null,
            "overflow_y": null,
            "padding": null,
            "right": null,
            "top": null,
            "visibility": null,
            "width": null
          }
        },
        "acd82b4959354dc2953a4c41506caef4": {
          "model_module": "@jupyter-widgets/controls",
          "model_name": "DescriptionStyleModel",
          "model_module_version": "1.5.0",
          "state": {
            "_model_module": "@jupyter-widgets/controls",
            "_model_module_version": "1.5.0",
            "_model_name": "DescriptionStyleModel",
            "_view_count": null,
            "_view_module": "@jupyter-widgets/base",
            "_view_module_version": "1.2.0",
            "_view_name": "StyleView",
            "description_width": ""
          }
        },
        "b2f0ce62f9334b568a4a1c0b2ff7ed2b": {
          "model_module": "@jupyter-widgets/base",
          "model_name": "LayoutModel",
          "model_module_version": "1.2.0",
          "state": {
            "_model_module": "@jupyter-widgets/base",
            "_model_module_version": "1.2.0",
            "_model_name": "LayoutModel",
            "_view_count": null,
            "_view_module": "@jupyter-widgets/base",
            "_view_module_version": "1.2.0",
            "_view_name": "LayoutView",
            "align_content": null,
            "align_items": null,
            "align_self": null,
            "border": null,
            "bottom": null,
            "display": null,
            "flex": null,
            "flex_flow": null,
            "grid_area": null,
            "grid_auto_columns": null,
            "grid_auto_flow": null,
            "grid_auto_rows": null,
            "grid_column": null,
            "grid_gap": null,
            "grid_row": null,
            "grid_template_areas": null,
            "grid_template_columns": null,
            "grid_template_rows": null,
            "height": null,
            "justify_content": null,
            "justify_items": null,
            "left": null,
            "margin": null,
            "max_height": null,
            "max_width": null,
            "min_height": null,
            "min_width": null,
            "object_fit": null,
            "object_position": null,
            "order": null,
            "overflow": null,
            "overflow_x": null,
            "overflow_y": null,
            "padding": null,
            "right": null,
            "top": null,
            "visibility": null,
            "width": null
          }
        },
        "39f7784c938344aea7edbad449de2d91": {
          "model_module": "@jupyter-widgets/controls",
          "model_name": "ProgressStyleModel",
          "model_module_version": "1.5.0",
          "state": {
            "_model_module": "@jupyter-widgets/controls",
            "_model_module_version": "1.5.0",
            "_model_name": "ProgressStyleModel",
            "_view_count": null,
            "_view_module": "@jupyter-widgets/base",
            "_view_module_version": "1.2.0",
            "_view_name": "StyleView",
            "bar_color": null,
            "description_width": ""
          }
        },
        "c1030141a45c418f9ae7af06cb1ccdd5": {
          "model_module": "@jupyter-widgets/base",
          "model_name": "LayoutModel",
          "model_module_version": "1.2.0",
          "state": {
            "_model_module": "@jupyter-widgets/base",
            "_model_module_version": "1.2.0",
            "_model_name": "LayoutModel",
            "_view_count": null,
            "_view_module": "@jupyter-widgets/base",
            "_view_module_version": "1.2.0",
            "_view_name": "LayoutView",
            "align_content": null,
            "align_items": null,
            "align_self": null,
            "border": null,
            "bottom": null,
            "display": null,
            "flex": null,
            "flex_flow": null,
            "grid_area": null,
            "grid_auto_columns": null,
            "grid_auto_flow": null,
            "grid_auto_rows": null,
            "grid_column": null,
            "grid_gap": null,
            "grid_row": null,
            "grid_template_areas": null,
            "grid_template_columns": null,
            "grid_template_rows": null,
            "height": null,
            "justify_content": null,
            "justify_items": null,
            "left": null,
            "margin": null,
            "max_height": null,
            "max_width": null,
            "min_height": null,
            "min_width": null,
            "object_fit": null,
            "object_position": null,
            "order": null,
            "overflow": null,
            "overflow_x": null,
            "overflow_y": null,
            "padding": null,
            "right": null,
            "top": null,
            "visibility": null,
            "width": null
          }
        },
        "277f9e88e0fd43b398712c3b43036d2a": {
          "model_module": "@jupyter-widgets/controls",
          "model_name": "DescriptionStyleModel",
          "model_module_version": "1.5.0",
          "state": {
            "_model_module": "@jupyter-widgets/controls",
            "_model_module_version": "1.5.0",
            "_model_name": "DescriptionStyleModel",
            "_view_count": null,
            "_view_module": "@jupyter-widgets/base",
            "_view_module_version": "1.2.0",
            "_view_name": "StyleView",
            "description_width": ""
          }
        },
        "8a40235c8c4e47aa861d51d305838d20": {
          "model_module": "@jupyter-widgets/controls",
          "model_name": "HBoxModel",
          "model_module_version": "1.5.0",
          "state": {
            "_dom_classes": [],
            "_model_module": "@jupyter-widgets/controls",
            "_model_module_version": "1.5.0",
            "_model_name": "HBoxModel",
            "_view_count": null,
            "_view_module": "@jupyter-widgets/controls",
            "_view_module_version": "1.5.0",
            "_view_name": "HBoxView",
            "box_style": "",
            "children": [
              "IPY_MODEL_318ca95d081e438a82cabdbb1025daa7",
              "IPY_MODEL_775ed0cd155a43ceac6311b3fde72b5b",
              "IPY_MODEL_af4862a24b8143c3b7609d70de049c9c"
            ],
            "layout": "IPY_MODEL_a7f45bd9d1814761bc8dd661f87c5a32"
          }
        },
        "318ca95d081e438a82cabdbb1025daa7": {
          "model_module": "@jupyter-widgets/controls",
          "model_name": "HTMLModel",
          "model_module_version": "1.5.0",
          "state": {
            "_dom_classes": [],
            "_model_module": "@jupyter-widgets/controls",
            "_model_module_version": "1.5.0",
            "_model_name": "HTMLModel",
            "_view_count": null,
            "_view_module": "@jupyter-widgets/controls",
            "_view_module_version": "1.5.0",
            "_view_name": "HTMLView",
            "description": "",
            "description_tooltip": null,
            "layout": "IPY_MODEL_61fdfe934f2c49378d1c26788c23da74",
            "placeholder": "​",
            "style": "IPY_MODEL_b418a489c8df405f94dc834e89318f7e",
            "value": "Downloading (…)ebbe010/modules.json: 100%"
          }
        },
        "775ed0cd155a43ceac6311b3fde72b5b": {
          "model_module": "@jupyter-widgets/controls",
          "model_name": "FloatProgressModel",
          "model_module_version": "1.5.0",
          "state": {
            "_dom_classes": [],
            "_model_module": "@jupyter-widgets/controls",
            "_model_module_version": "1.5.0",
            "_model_name": "FloatProgressModel",
            "_view_count": null,
            "_view_module": "@jupyter-widgets/controls",
            "_view_module_version": "1.5.0",
            "_view_name": "ProgressView",
            "bar_style": "success",
            "description": "",
            "description_tooltip": null,
            "layout": "IPY_MODEL_27949cf48d29415fac864825910c675d",
            "max": 461,
            "min": 0,
            "orientation": "horizontal",
            "style": "IPY_MODEL_da582c41e48a4c4c9a5d2d7a62ffb8a0",
            "value": 461
          }
        },
        "af4862a24b8143c3b7609d70de049c9c": {
          "model_module": "@jupyter-widgets/controls",
          "model_name": "HTMLModel",
          "model_module_version": "1.5.0",
          "state": {
            "_dom_classes": [],
            "_model_module": "@jupyter-widgets/controls",
            "_model_module_version": "1.5.0",
            "_model_name": "HTMLModel",
            "_view_count": null,
            "_view_module": "@jupyter-widgets/controls",
            "_view_module_version": "1.5.0",
            "_view_name": "HTMLView",
            "description": "",
            "description_tooltip": null,
            "layout": "IPY_MODEL_dfb78458ca754e908f8e01abec38ff17",
            "placeholder": "​",
            "style": "IPY_MODEL_4fe4df90c97546afa8fdbc7b62e35618",
            "value": " 461/461 [00:00&lt;00:00, 33.0kB/s]"
          }
        },
        "a7f45bd9d1814761bc8dd661f87c5a32": {
          "model_module": "@jupyter-widgets/base",
          "model_name": "LayoutModel",
          "model_module_version": "1.2.0",
          "state": {
            "_model_module": "@jupyter-widgets/base",
            "_model_module_version": "1.2.0",
            "_model_name": "LayoutModel",
            "_view_count": null,
            "_view_module": "@jupyter-widgets/base",
            "_view_module_version": "1.2.0",
            "_view_name": "LayoutView",
            "align_content": null,
            "align_items": null,
            "align_self": null,
            "border": null,
            "bottom": null,
            "display": null,
            "flex": null,
            "flex_flow": null,
            "grid_area": null,
            "grid_auto_columns": null,
            "grid_auto_flow": null,
            "grid_auto_rows": null,
            "grid_column": null,
            "grid_gap": null,
            "grid_row": null,
            "grid_template_areas": null,
            "grid_template_columns": null,
            "grid_template_rows": null,
            "height": null,
            "justify_content": null,
            "justify_items": null,
            "left": null,
            "margin": null,
            "max_height": null,
            "max_width": null,
            "min_height": null,
            "min_width": null,
            "object_fit": null,
            "object_position": null,
            "order": null,
            "overflow": null,
            "overflow_x": null,
            "overflow_y": null,
            "padding": null,
            "right": null,
            "top": null,
            "visibility": null,
            "width": null
          }
        },
        "61fdfe934f2c49378d1c26788c23da74": {
          "model_module": "@jupyter-widgets/base",
          "model_name": "LayoutModel",
          "model_module_version": "1.2.0",
          "state": {
            "_model_module": "@jupyter-widgets/base",
            "_model_module_version": "1.2.0",
            "_model_name": "LayoutModel",
            "_view_count": null,
            "_view_module": "@jupyter-widgets/base",
            "_view_module_version": "1.2.0",
            "_view_name": "LayoutView",
            "align_content": null,
            "align_items": null,
            "align_self": null,
            "border": null,
            "bottom": null,
            "display": null,
            "flex": null,
            "flex_flow": null,
            "grid_area": null,
            "grid_auto_columns": null,
            "grid_auto_flow": null,
            "grid_auto_rows": null,
            "grid_column": null,
            "grid_gap": null,
            "grid_row": null,
            "grid_template_areas": null,
            "grid_template_columns": null,
            "grid_template_rows": null,
            "height": null,
            "justify_content": null,
            "justify_items": null,
            "left": null,
            "margin": null,
            "max_height": null,
            "max_width": null,
            "min_height": null,
            "min_width": null,
            "object_fit": null,
            "object_position": null,
            "order": null,
            "overflow": null,
            "overflow_x": null,
            "overflow_y": null,
            "padding": null,
            "right": null,
            "top": null,
            "visibility": null,
            "width": null
          }
        },
        "b418a489c8df405f94dc834e89318f7e": {
          "model_module": "@jupyter-widgets/controls",
          "model_name": "DescriptionStyleModel",
          "model_module_version": "1.5.0",
          "state": {
            "_model_module": "@jupyter-widgets/controls",
            "_model_module_version": "1.5.0",
            "_model_name": "DescriptionStyleModel",
            "_view_count": null,
            "_view_module": "@jupyter-widgets/base",
            "_view_module_version": "1.2.0",
            "_view_name": "StyleView",
            "description_width": ""
          }
        },
        "27949cf48d29415fac864825910c675d": {
          "model_module": "@jupyter-widgets/base",
          "model_name": "LayoutModel",
          "model_module_version": "1.2.0",
          "state": {
            "_model_module": "@jupyter-widgets/base",
            "_model_module_version": "1.2.0",
            "_model_name": "LayoutModel",
            "_view_count": null,
            "_view_module": "@jupyter-widgets/base",
            "_view_module_version": "1.2.0",
            "_view_name": "LayoutView",
            "align_content": null,
            "align_items": null,
            "align_self": null,
            "border": null,
            "bottom": null,
            "display": null,
            "flex": null,
            "flex_flow": null,
            "grid_area": null,
            "grid_auto_columns": null,
            "grid_auto_flow": null,
            "grid_auto_rows": null,
            "grid_column": null,
            "grid_gap": null,
            "grid_row": null,
            "grid_template_areas": null,
            "grid_template_columns": null,
            "grid_template_rows": null,
            "height": null,
            "justify_content": null,
            "justify_items": null,
            "left": null,
            "margin": null,
            "max_height": null,
            "max_width": null,
            "min_height": null,
            "min_width": null,
            "object_fit": null,
            "object_position": null,
            "order": null,
            "overflow": null,
            "overflow_x": null,
            "overflow_y": null,
            "padding": null,
            "right": null,
            "top": null,
            "visibility": null,
            "width": null
          }
        },
        "da582c41e48a4c4c9a5d2d7a62ffb8a0": {
          "model_module": "@jupyter-widgets/controls",
          "model_name": "ProgressStyleModel",
          "model_module_version": "1.5.0",
          "state": {
            "_model_module": "@jupyter-widgets/controls",
            "_model_module_version": "1.5.0",
            "_model_name": "ProgressStyleModel",
            "_view_count": null,
            "_view_module": "@jupyter-widgets/base",
            "_view_module_version": "1.2.0",
            "_view_name": "StyleView",
            "bar_color": null,
            "description_width": ""
          }
        },
        "dfb78458ca754e908f8e01abec38ff17": {
          "model_module": "@jupyter-widgets/base",
          "model_name": "LayoutModel",
          "model_module_version": "1.2.0",
          "state": {
            "_model_module": "@jupyter-widgets/base",
            "_model_module_version": "1.2.0",
            "_model_name": "LayoutModel",
            "_view_count": null,
            "_view_module": "@jupyter-widgets/base",
            "_view_module_version": "1.2.0",
            "_view_name": "LayoutView",
            "align_content": null,
            "align_items": null,
            "align_self": null,
            "border": null,
            "bottom": null,
            "display": null,
            "flex": null,
            "flex_flow": null,
            "grid_area": null,
            "grid_auto_columns": null,
            "grid_auto_flow": null,
            "grid_auto_rows": null,
            "grid_column": null,
            "grid_gap": null,
            "grid_row": null,
            "grid_template_areas": null,
            "grid_template_columns": null,
            "grid_template_rows": null,
            "height": null,
            "justify_content": null,
            "justify_items": null,
            "left": null,
            "margin": null,
            "max_height": null,
            "max_width": null,
            "min_height": null,
            "min_width": null,
            "object_fit": null,
            "object_position": null,
            "order": null,
            "overflow": null,
            "overflow_x": null,
            "overflow_y": null,
            "padding": null,
            "right": null,
            "top": null,
            "visibility": null,
            "width": null
          }
        },
        "4fe4df90c97546afa8fdbc7b62e35618": {
          "model_module": "@jupyter-widgets/controls",
          "model_name": "DescriptionStyleModel",
          "model_module_version": "1.5.0",
          "state": {
            "_model_module": "@jupyter-widgets/controls",
            "_model_module_version": "1.5.0",
            "_model_name": "DescriptionStyleModel",
            "_view_count": null,
            "_view_module": "@jupyter-widgets/base",
            "_view_module_version": "1.2.0",
            "_view_name": "StyleView",
            "description_width": ""
          }
        },
        "15459129cf4a4fd1bc1b32741f8366c3": {
          "model_module": "@jupyter-widgets/controls",
          "model_name": "HBoxModel",
          "model_module_version": "1.5.0",
          "state": {
            "_dom_classes": [],
            "_model_module": "@jupyter-widgets/controls",
            "_model_module_version": "1.5.0",
            "_model_name": "HBoxModel",
            "_view_count": null,
            "_view_module": "@jupyter-widgets/controls",
            "_view_module_version": "1.5.0",
            "_view_name": "HBoxView",
            "box_style": "",
            "children": [
              "IPY_MODEL_0f8b43c00a0d42a2b2898c92fc860ee5",
              "IPY_MODEL_ec7bce49811a4747b1a2035dc8e6796b",
              "IPY_MODEL_8191fa9e121a4c6fad47a1f4de7be5e6"
            ],
            "layout": "IPY_MODEL_5c1e28e8ab8140a3a40009d9015c238a"
          }
        },
        "0f8b43c00a0d42a2b2898c92fc860ee5": {
          "model_module": "@jupyter-widgets/controls",
          "model_name": "HTMLModel",
          "model_module_version": "1.5.0",
          "state": {
            "_dom_classes": [],
            "_model_module": "@jupyter-widgets/controls",
            "_model_module_version": "1.5.0",
            "_model_name": "HTMLModel",
            "_view_count": null,
            "_view_module": "@jupyter-widgets/controls",
            "_view_module_version": "1.5.0",
            "_view_name": "HTMLView",
            "description": "",
            "description_tooltip": null,
            "layout": "IPY_MODEL_eeff1fa6c2e74bf4a8e0c2c1c157fbdc",
            "placeholder": "​",
            "style": "IPY_MODEL_820408e145ee411ab04247e5b6eca375",
            "value": "100%"
          }
        },
        "ec7bce49811a4747b1a2035dc8e6796b": {
          "model_module": "@jupyter-widgets/controls",
          "model_name": "FloatProgressModel",
          "model_module_version": "1.5.0",
          "state": {
            "_dom_classes": [],
            "_model_module": "@jupyter-widgets/controls",
            "_model_module_version": "1.5.0",
            "_model_name": "FloatProgressModel",
            "_view_count": null,
            "_view_module": "@jupyter-widgets/controls",
            "_view_module_version": "1.5.0",
            "_view_name": "ProgressView",
            "bar_style": "success",
            "description": "",
            "description_tooltip": null,
            "layout": "IPY_MODEL_6d63a088ca444e98b60fdd0470207728",
            "max": 35,
            "min": 0,
            "orientation": "horizontal",
            "style": "IPY_MODEL_e3bc7290722f4bedac773e80b4d8b657",
            "value": 35
          }
        },
        "8191fa9e121a4c6fad47a1f4de7be5e6": {
          "model_module": "@jupyter-widgets/controls",
          "model_name": "HTMLModel",
          "model_module_version": "1.5.0",
          "state": {
            "_dom_classes": [],
            "_model_module": "@jupyter-widgets/controls",
            "_model_module_version": "1.5.0",
            "_model_name": "HTMLModel",
            "_view_count": null,
            "_view_module": "@jupyter-widgets/controls",
            "_view_module_version": "1.5.0",
            "_view_name": "HTMLView",
            "description": "",
            "description_tooltip": null,
            "layout": "IPY_MODEL_ee5ef34f12134724911149466bf123ef",
            "placeholder": "​",
            "style": "IPY_MODEL_bdd550c481be4e4286b9bd53af57cb87",
            "value": " 35/35 [01:39&lt;00:00,  2.91s/it]"
          }
        },
        "5c1e28e8ab8140a3a40009d9015c238a": {
          "model_module": "@jupyter-widgets/base",
          "model_name": "LayoutModel",
          "model_module_version": "1.2.0",
          "state": {
            "_model_module": "@jupyter-widgets/base",
            "_model_module_version": "1.2.0",
            "_model_name": "LayoutModel",
            "_view_count": null,
            "_view_module": "@jupyter-widgets/base",
            "_view_module_version": "1.2.0",
            "_view_name": "LayoutView",
            "align_content": null,
            "align_items": null,
            "align_self": null,
            "border": null,
            "bottom": null,
            "display": null,
            "flex": null,
            "flex_flow": null,
            "grid_area": null,
            "grid_auto_columns": null,
            "grid_auto_flow": null,
            "grid_auto_rows": null,
            "grid_column": null,
            "grid_gap": null,
            "grid_row": null,
            "grid_template_areas": null,
            "grid_template_columns": null,
            "grid_template_rows": null,
            "height": null,
            "justify_content": null,
            "justify_items": null,
            "left": null,
            "margin": null,
            "max_height": null,
            "max_width": null,
            "min_height": null,
            "min_width": null,
            "object_fit": null,
            "object_position": null,
            "order": null,
            "overflow": null,
            "overflow_x": null,
            "overflow_y": null,
            "padding": null,
            "right": null,
            "top": null,
            "visibility": null,
            "width": null
          }
        },
        "eeff1fa6c2e74bf4a8e0c2c1c157fbdc": {
          "model_module": "@jupyter-widgets/base",
          "model_name": "LayoutModel",
          "model_module_version": "1.2.0",
          "state": {
            "_model_module": "@jupyter-widgets/base",
            "_model_module_version": "1.2.0",
            "_model_name": "LayoutModel",
            "_view_count": null,
            "_view_module": "@jupyter-widgets/base",
            "_view_module_version": "1.2.0",
            "_view_name": "LayoutView",
            "align_content": null,
            "align_items": null,
            "align_self": null,
            "border": null,
            "bottom": null,
            "display": null,
            "flex": null,
            "flex_flow": null,
            "grid_area": null,
            "grid_auto_columns": null,
            "grid_auto_flow": null,
            "grid_auto_rows": null,
            "grid_column": null,
            "grid_gap": null,
            "grid_row": null,
            "grid_template_areas": null,
            "grid_template_columns": null,
            "grid_template_rows": null,
            "height": null,
            "justify_content": null,
            "justify_items": null,
            "left": null,
            "margin": null,
            "max_height": null,
            "max_width": null,
            "min_height": null,
            "min_width": null,
            "object_fit": null,
            "object_position": null,
            "order": null,
            "overflow": null,
            "overflow_x": null,
            "overflow_y": null,
            "padding": null,
            "right": null,
            "top": null,
            "visibility": null,
            "width": null
          }
        },
        "820408e145ee411ab04247e5b6eca375": {
          "model_module": "@jupyter-widgets/controls",
          "model_name": "DescriptionStyleModel",
          "model_module_version": "1.5.0",
          "state": {
            "_model_module": "@jupyter-widgets/controls",
            "_model_module_version": "1.5.0",
            "_model_name": "DescriptionStyleModel",
            "_view_count": null,
            "_view_module": "@jupyter-widgets/base",
            "_view_module_version": "1.2.0",
            "_view_name": "StyleView",
            "description_width": ""
          }
        },
        "6d63a088ca444e98b60fdd0470207728": {
          "model_module": "@jupyter-widgets/base",
          "model_name": "LayoutModel",
          "model_module_version": "1.2.0",
          "state": {
            "_model_module": "@jupyter-widgets/base",
            "_model_module_version": "1.2.0",
            "_model_name": "LayoutModel",
            "_view_count": null,
            "_view_module": "@jupyter-widgets/base",
            "_view_module_version": "1.2.0",
            "_view_name": "LayoutView",
            "align_content": null,
            "align_items": null,
            "align_self": null,
            "border": null,
            "bottom": null,
            "display": null,
            "flex": null,
            "flex_flow": null,
            "grid_area": null,
            "grid_auto_columns": null,
            "grid_auto_flow": null,
            "grid_auto_rows": null,
            "grid_column": null,
            "grid_gap": null,
            "grid_row": null,
            "grid_template_areas": null,
            "grid_template_columns": null,
            "grid_template_rows": null,
            "height": null,
            "justify_content": null,
            "justify_items": null,
            "left": null,
            "margin": null,
            "max_height": null,
            "max_width": null,
            "min_height": null,
            "min_width": null,
            "object_fit": null,
            "object_position": null,
            "order": null,
            "overflow": null,
            "overflow_x": null,
            "overflow_y": null,
            "padding": null,
            "right": null,
            "top": null,
            "visibility": null,
            "width": null
          }
        },
        "e3bc7290722f4bedac773e80b4d8b657": {
          "model_module": "@jupyter-widgets/controls",
          "model_name": "ProgressStyleModel",
          "model_module_version": "1.5.0",
          "state": {
            "_model_module": "@jupyter-widgets/controls",
            "_model_module_version": "1.5.0",
            "_model_name": "ProgressStyleModel",
            "_view_count": null,
            "_view_module": "@jupyter-widgets/base",
            "_view_module_version": "1.2.0",
            "_view_name": "StyleView",
            "bar_color": null,
            "description_width": ""
          }
        },
        "ee5ef34f12134724911149466bf123ef": {
          "model_module": "@jupyter-widgets/base",
          "model_name": "LayoutModel",
          "model_module_version": "1.2.0",
          "state": {
            "_model_module": "@jupyter-widgets/base",
            "_model_module_version": "1.2.0",
            "_model_name": "LayoutModel",
            "_view_count": null,
            "_view_module": "@jupyter-widgets/base",
            "_view_module_version": "1.2.0",
            "_view_name": "LayoutView",
            "align_content": null,
            "align_items": null,
            "align_self": null,
            "border": null,
            "bottom": null,
            "display": null,
            "flex": null,
            "flex_flow": null,
            "grid_area": null,
            "grid_auto_columns": null,
            "grid_auto_flow": null,
            "grid_auto_rows": null,
            "grid_column": null,
            "grid_gap": null,
            "grid_row": null,
            "grid_template_areas": null,
            "grid_template_columns": null,
            "grid_template_rows": null,
            "height": null,
            "justify_content": null,
            "justify_items": null,
            "left": null,
            "margin": null,
            "max_height": null,
            "max_width": null,
            "min_height": null,
            "min_width": null,
            "object_fit": null,
            "object_position": null,
            "order": null,
            "overflow": null,
            "overflow_x": null,
            "overflow_y": null,
            "padding": null,
            "right": null,
            "top": null,
            "visibility": null,
            "width": null
          }
        },
        "bdd550c481be4e4286b9bd53af57cb87": {
          "model_module": "@jupyter-widgets/controls",
          "model_name": "DescriptionStyleModel",
          "model_module_version": "1.5.0",
          "state": {
            "_model_module": "@jupyter-widgets/controls",
            "_model_module_version": "1.5.0",
            "_model_name": "DescriptionStyleModel",
            "_view_count": null,
            "_view_module": "@jupyter-widgets/base",
            "_view_module_version": "1.2.0",
            "_view_name": "StyleView",
            "description_width": ""
          }
        },
        "50c56c104f784a9e8bc9e4554e2bb335": {
          "model_module": "catboost-widget",
          "model_name": "CatboostWidgetModel",
          "model_module_version": "^1.0.0",
          "state": {
            "_dom_classes": [],
            "_model_module": "catboost-widget",
            "_model_module_version": "^1.0.0",
            "_model_name": "CatboostWidgetModel",
            "_view_count": null,
            "_view_module": "catboost-widget",
            "_view_module_version": "^1.0.0",
            "_view_name": "CatboostWidgetView",
            "data": {
              "catboost_info": {
                "path": "catboost_info",
                "name": "catboost_info",
                "content": {
                  "passed_iterations": 999,
                  "total_iterations": 1000,
                  "data": {
                    "iterations": [
                      {
                        "learn": [
                          0.6521913801
                        ],
                        "iteration": 0,
                        "passed_time": 0.3931755223,
                        "remaining_time": 392.7823468,
                        "test": [
                          0.6451306667,
                          0.6543806723
                        ]
                      },
                      {
                        "learn": [
                          0.6159938703
                        ],
                        "iteration": 1,
                        "passed_time": 0.6699840195,
                        "remaining_time": 334.3220257,
                        "test": [
                          0.6941546667,
                          0.6196132339
                        ]
                      },
                      {
                        "learn": [
                          0.5793640137
                        ],
                        "iteration": 2,
                        "passed_time": 0.9387232569,
                        "remaining_time": 311.969029,
                        "test": [
                          0.738816,
                          0.5829691662
                        ]
                      },
                      {
                        "learn": [
                          0.5490890939
                        ],
                        "iteration": 3,
                        "passed_time": 1.189244766,
                        "remaining_time": 296.1219468,
                        "test": [
                          0.7570986667,
                          0.5526645838
                        ]
                      },
                      {
                        "learn": [
                          0.5191290283
                        ],
                        "iteration": 4,
                        "passed_time": 1.494859362,
                        "remaining_time": 297.4770129,
                        "test": [
                          0.758528,
                          0.5244471042
                        ]
                      },
                      {
                        "learn": [
                          0.4943777902
                        ],
                        "iteration": 5,
                        "passed_time": 1.753592921,
                        "remaining_time": 290.5118939,
                        "test": [
                          0.7694293333,
                          0.5003657146
                        ]
                      },
                      {
                        "learn": [
                          0.4734796579
                        ],
                        "iteration": 6,
                        "passed_time": 1.984769485,
                        "remaining_time": 281.5537283,
                        "test": [
                          0.773696,
                          0.4794629269
                        ]
                      },
                      {
                        "learn": [
                          0.4560263497
                        ],
                        "iteration": 7,
                        "passed_time": 2.336753258,
                        "remaining_time": 289.757404,
                        "test": [
                          0.7749226667,
                          0.4624509048
                        ]
                      },
                      {
                        "learn": [
                          0.439788862
                        ],
                        "iteration": 8,
                        "passed_time": 2.781007933,
                        "remaining_time": 306.2198735,
                        "test": [
                          0.7741333333,
                          0.4471777718
                        ]
                      },
                      {
                        "learn": [
                          0.4247124808
                        ],
                        "iteration": 9,
                        "passed_time": 3.18819155,
                        "remaining_time": 315.6309634,
                        "test": [
                          0.773632,
                          0.4334225313
                        ]
                      },
                      {
                        "learn": [
                          0.4083033098
                        ],
                        "iteration": 10,
                        "passed_time": 3.656110152,
                        "remaining_time": 328.71754,
                        "test": [
                          0.7747413333,
                          0.4181853158
                        ]
                      },
                      {
                        "learn": [
                          0.3939363316
                        ],
                        "iteration": 11,
                        "passed_time": 4.022180346,
                        "remaining_time": 331.1595151,
                        "test": [
                          0.7781973333,
                          0.4041946179
                        ]
                      },
                      {
                        "learn": [
                          0.3828056117
                        ],
                        "iteration": 12,
                        "passed_time": 4.402181777,
                        "remaining_time": 334.2271857,
                        "test": [
                          0.7810346667,
                          0.3939816852
                        ]
                      },
                      {
                        "learn": [
                          0.3705950056
                        ],
                        "iteration": 13,
                        "passed_time": 4.805649118,
                        "remaining_time": 338.4550022,
                        "test": [
                          0.7789653333,
                          0.3828897591
                        ]
                      },
                      {
                        "learn": [
                          0.3593937901
                        ],
                        "iteration": 14,
                        "passed_time": 5.252401583,
                        "remaining_time": 344.9077039,
                        "test": [
                          0.7791146667,
                          0.372729143
                        ]
                      },
                      {
                        "learn": [
                          0.3499505179
                        ],
                        "iteration": 15,
                        "passed_time": 5.706664368,
                        "remaining_time": 350.9598586,
                        "test": [
                          0.78496,
                          0.3636531527
                        ]
                      },
                      {
                        "learn": [
                          0.3413549805
                        ],
                        "iteration": 16,
                        "passed_time": 6.121043253,
                        "remaining_time": 353.9403246,
                        "test": [
                          0.7813333333,
                          0.3569423025
                        ]
                      },
                      {
                        "learn": [
                          0.3324946812
                        ],
                        "iteration": 17,
                        "passed_time": 6.489984201,
                        "remaining_time": 354.0646936,
                        "test": [
                          0.78176,
                          0.3496640567
                        ]
                      },
                      {
                        "learn": [
                          0.32600514
                        ],
                        "iteration": 18,
                        "passed_time": 6.862198926,
                        "remaining_time": 354.3061656,
                        "test": [
                          0.78208,
                          0.3448385864
                        ]
                      },
                      {
                        "learn": [
                          0.3197375488
                        ],
                        "iteration": 19,
                        "passed_time": 7.249977603,
                        "remaining_time": 355.2489026,
                        "test": [
                          0.7808,
                          0.3401904334
                        ]
                      },
                      {
                        "learn": [
                          0.3130380031
                        ],
                        "iteration": 20,
                        "passed_time": 7.649007296,
                        "remaining_time": 356.5894354,
                        "test": [
                          0.779648,
                          0.3350466847
                        ]
                      },
                      {
                        "learn": [
                          0.3071925136
                        ],
                        "iteration": 21,
                        "passed_time": 8.050739562,
                        "remaining_time": 357.8919678,
                        "test": [
                          0.782912,
                          0.3298519806
                        ]
                      },
                      {
                        "learn": [
                          0.3017621504
                        ],
                        "iteration": 22,
                        "passed_time": 8.331540804,
                        "remaining_time": 353.9093637,
                        "test": [
                          0.786368,
                          0.3252120369
                        ]
                      },
                      {
                        "learn": [
                          0.2969215829
                        ],
                        "iteration": 23,
                        "passed_time": 8.64401843,
                        "remaining_time": 351.5234162,
                        "test": [
                          0.788416,
                          0.3216332284
                        ]
                      },
                      {
                        "learn": [
                          0.2918994141
                        ],
                        "iteration": 24,
                        "passed_time": 8.994834203,
                        "remaining_time": 350.7985339,
                        "test": [
                          0.79008,
                          0.3178630762
                        ]
                      },
                      {
                        "learn": [
                          0.2863865008
                        ],
                        "iteration": 25,
                        "passed_time": 9.22984391,
                        "remaining_time": 345.7641526,
                        "test": [
                          0.792128,
                          0.3141625911
                        ]
                      },
                      {
                        "learn": [
                          0.281477138
                        ],
                        "iteration": 26,
                        "passed_time": 9.498913136,
                        "remaining_time": 342.3126845,
                        "test": [
                          0.792064,
                          0.3109377824
                        ]
                      },
                      {
                        "learn": [
                          0.277618103
                        ],
                        "iteration": 27,
                        "passed_time": 9.664578068,
                        "remaining_time": 335.4989244,
                        "test": [
                          0.794176,
                          0.3080858765
                        ]
                      },
                      {
                        "learn": [
                          0.2738110352
                        ],
                        "iteration": 28,
                        "passed_time": 9.836761025,
                        "remaining_time": 329.361895,
                        "test": [
                          0.7952426667,
                          0.3056909348
                        ]
                      },
                      {
                        "learn": [
                          0.2699585397
                        ],
                        "iteration": 29,
                        "passed_time": 9.997082668,
                        "remaining_time": 323.2390063,
                        "test": [
                          0.793792,
                          0.3034120527
                        ]
                      },
                      {
                        "learn": [
                          0.2672407968
                        ],
                        "iteration": 30,
                        "passed_time": 10.15860593,
                        "remaining_time": 317.5383597,
                        "test": [
                          0.794048,
                          0.3016155785
                        ]
                      },
                      {
                        "learn": [
                          0.2642373221
                        ],
                        "iteration": 31,
                        "passed_time": 10.31653617,
                        "remaining_time": 312.0752193,
                        "test": [
                          0.796352,
                          0.2995976096
                        ]
                      },
                      {
                        "learn": [
                          0.2606493051
                        ],
                        "iteration": 32,
                        "passed_time": 10.47161433,
                        "remaining_time": 306.850032,
                        "test": [
                          0.7966506667,
                          0.2978154762
                        ]
                      },
                      {
                        "learn": [
                          0.2580655997
                        ],
                        "iteration": 33,
                        "passed_time": 10.63918503,
                        "remaining_time": 302.2780218,
                        "test": [
                          0.799424,
                          0.2957930102
                        ]
                      },
                      {
                        "learn": [
                          0.2557152448
                        ],
                        "iteration": 34,
                        "passed_time": 10.80682084,
                        "remaining_time": 297.9594888,
                        "test": [
                          0.7993813333,
                          0.2943392794
                        ]
                      },
                      {
                        "learn": [
                          0.2535261318
                        ],
                        "iteration": 35,
                        "passed_time": 10.96998896,
                        "remaining_time": 293.7519266,
                        "test": [
                          0.800512,
                          0.2928782375
                        ]
                      },
                      {
                        "learn": [
                          0.2514600045
                        ],
                        "iteration": 36,
                        "passed_time": 11.12831072,
                        "remaining_time": 289.636844,
                        "test": [
                          0.801088,
                          0.2915926721
                        ]
                      },
                      {
                        "learn": [
                          0.2488294983
                        ],
                        "iteration": 37,
                        "passed_time": 11.30857923,
                        "remaining_time": 286.285611,
                        "test": [
                          0.8024106667,
                          0.290087066
                        ]
                      },
                      {
                        "learn": [
                          0.2461628941
                        ],
                        "iteration": 38,
                        "passed_time": 11.48491127,
                        "remaining_time": 282.999993,
                        "test": [
                          0.805568,
                          0.2883627065
                        ]
                      },
                      {
                        "learn": [
                          0.243860975
                        ],
                        "iteration": 39,
                        "passed_time": 11.65449531,
                        "remaining_time": 279.7078874,
                        "test": [
                          0.8064853333,
                          0.2867873729
                        ]
                      },
                      {
                        "learn": [
                          0.241764679
                        ],
                        "iteration": 40,
                        "passed_time": 11.82043697,
                        "remaining_time": 276.4829037,
                        "test": [
                          0.80704,
                          0.285577413
                        ]
                      },
                      {
                        "learn": [
                          0.2392046029
                        ],
                        "iteration": 41,
                        "passed_time": 11.98036086,
                        "remaining_time": 273.2663263,
                        "test": [
                          0.8107733333,
                          0.2836957776
                        ]
                      },
                      {
                        "learn": [
                          0.2373960876
                        ],
                        "iteration": 42,
                        "passed_time": 12.13586735,
                        "remaining_time": 270.0936059,
                        "test": [
                          0.810304,
                          0.2831857703
                        ]
                      },
                      {
                        "learn": [
                          0.2357590594
                        ],
                        "iteration": 43,
                        "passed_time": 12.29082686,
                        "remaining_time": 267.0461472,
                        "test": [
                          0.8096213333,
                          0.2824693857
                        ]
                      },
                      {
                        "learn": [
                          0.2338470459
                        ],
                        "iteration": 44,
                        "passed_time": 12.44485972,
                        "remaining_time": 264.1075786,
                        "test": [
                          0.8096,
                          0.2819071853
                        ]
                      },
                      {
                        "learn": [
                          0.231801845
                        ],
                        "iteration": 45,
                        "passed_time": 12.60759768,
                        "remaining_time": 261.4706127,
                        "test": [
                          0.8098346667,
                          0.2810440059
                        ]
                      },
                      {
                        "learn": [
                          0.2300731986
                        ],
                        "iteration": 46,
                        "passed_time": 12.7663943,
                        "remaining_time": 258.8590164,
                        "test": [
                          0.8112426667,
                          0.2800828333
                        ]
                      },
                      {
                        "learn": [
                          0.2283400835
                        ],
                        "iteration": 47,
                        "passed_time": 12.93205788,
                        "remaining_time": 256.4858145,
                        "test": [
                          0.8123306667,
                          0.2793073498
                        ]
                      },
                      {
                        "learn": [
                          0.2267010062
                        ],
                        "iteration": 48,
                        "passed_time": 13.09197207,
                        "remaining_time": 254.0911313,
                        "test": [
                          0.811776,
                          0.2785025099
                        ]
                      },
                      {
                        "learn": [
                          0.2251583644
                        ],
                        "iteration": 49,
                        "passed_time": 13.24804241,
                        "remaining_time": 251.7128058,
                        "test": [
                          0.8125226667,
                          0.2778868108
                        ]
                      },
                      {
                        "learn": [
                          0.2230551583
                        ],
                        "iteration": 50,
                        "passed_time": 13.41075631,
                        "remaining_time": 249.5452497,
                        "test": [
                          0.8139306667,
                          0.2773072031
                        ]
                      },
                      {
                        "learn": [
                          0.2216351754
                        ],
                        "iteration": 51,
                        "passed_time": 13.5684645,
                        "remaining_time": 247.3635451,
                        "test": [
                          0.8149546667,
                          0.2768308156
                        ]
                      },
                      {
                        "learn": [
                          0.2201182774
                        ],
                        "iteration": 52,
                        "passed_time": 13.7279354,
                        "remaining_time": 245.2897137,
                        "test": [
                          0.8145066667,
                          0.2764902342
                        ]
                      },
                      {
                        "learn": [
                          0.2181720843
                        ],
                        "iteration": 53,
                        "passed_time": 13.89617687,
                        "remaining_time": 243.4404318,
                        "test": [
                          0.8137386667,
                          0.2763420846
                        ]
                      },
                      {
                        "learn": [
                          0.2163946097
                        ],
                        "iteration": 54,
                        "passed_time": 14.05989205,
                        "remaining_time": 241.5745089,
                        "test": [
                          0.815232,
                          0.2756491627
                        ]
                      },
                      {
                        "learn": [
                          0.2154045541
                        ],
                        "iteration": 55,
                        "passed_time": 14.21963425,
                        "remaining_time": 239.702406,
                        "test": [
                          0.816448,
                          0.274989077
                        ]
                      },
                      {
                        "learn": [
                          0.2140421404
                        ],
                        "iteration": 56,
                        "passed_time": 14.37399684,
                        "remaining_time": 237.8013863,
                        "test": [
                          0.8163413333,
                          0.2746576501
                        ]
                      },
                      {
                        "learn": [
                          0.2124511937
                        ],
                        "iteration": 57,
                        "passed_time": 14.54904137,
                        "remaining_time": 236.2964995,
                        "test": [
                          0.8175786667,
                          0.2737625952
                        ]
                      },
                      {
                        "learn": [
                          0.2108599854
                        ],
                        "iteration": 58,
                        "passed_time": 14.71447528,
                        "remaining_time": 234.6834107,
                        "test": [
                          0.819648,
                          0.2727946098
                        ]
                      },
                      {
                        "learn": [
                          0.2097524588
                        ],
                        "iteration": 59,
                        "passed_time": 14.87498823,
                        "remaining_time": 233.0414823,
                        "test": [
                          0.8207573333,
                          0.2722725772
                        ]
                      },
                      {
                        "learn": [
                          0.2087785775
                        ],
                        "iteration": 60,
                        "passed_time": 15.03756702,
                        "remaining_time": 231.4799251,
                        "test": [
                          0.822016,
                          0.2718648946
                        ]
                      },
                      {
                        "learn": [
                          0.20730399
                        ],
                        "iteration": 61,
                        "passed_time": 15.19588811,
                        "remaining_time": 229.8990814,
                        "test": [
                          0.8234666667,
                          0.2712375519
                        ]
                      },
                      {
                        "learn": [
                          0.2063650731
                        ],
                        "iteration": 62,
                        "passed_time": 15.3505442,
                        "remaining_time": 228.3088876,
                        "test": [
                          0.8234026667,
                          0.2707403547
                        ]
                      },
                      {
                        "learn": [
                          0.205163378
                        ],
                        "iteration": 63,
                        "passed_time": 15.50792534,
                        "remaining_time": 226.8034082,
                        "test": [
                          0.8216746667,
                          0.2708738717
                        ]
                      },
                      {
                        "learn": [
                          0.2038153512
                        ],
                        "iteration": 64,
                        "passed_time": 15.67670504,
                        "remaining_time": 225.5033725,
                        "test": [
                          0.8213546667,
                          0.270841921
                        ]
                      },
                      {
                        "learn": [
                          0.2030034528
                        ],
                        "iteration": 65,
                        "passed_time": 15.83241263,
                        "remaining_time": 224.0526272,
                        "test": [
                          0.8213333333,
                          0.2703724772
                        ]
                      },
                      {
                        "learn": [
                          0.2014045715
                        ],
                        "iteration": 66,
                        "passed_time": 15.99879936,
                        "remaining_time": 222.7892508,
                        "test": [
                          0.8211626667,
                          0.2702285089
                        ]
                      },
                      {
                        "learn": [
                          0.2004498727
                        ],
                        "iteration": 67,
                        "passed_time": 16.15751218,
                        "remaining_time": 221.452961,
                        "test": [
                          0.82112,
                          0.2700431895
                        ]
                      },
                      {
                        "learn": [
                          0.1992406137
                        ],
                        "iteration": 68,
                        "passed_time": 16.31246318,
                        "remaining_time": 220.1000466,
                        "test": [
                          0.8228906667,
                          0.269121105
                        ]
                      },
                      {
                        "learn": [
                          0.1984568569
                        ],
                        "iteration": 69,
                        "passed_time": 16.46870624,
                        "remaining_time": 218.7985258,
                        "test": [
                          0.822528,
                          0.2690428995
                        ]
                      },
                      {
                        "learn": [
                          0.1976995414
                        ],
                        "iteration": 70,
                        "passed_time": 16.6373223,
                        "remaining_time": 217.6911609,
                        "test": [
                          0.8220373333,
                          0.2690698049
                        ]
                      },
                      {
                        "learn": [
                          0.1965011597
                        ],
                        "iteration": 71,
                        "passed_time": 16.79204639,
                        "remaining_time": 216.4308202,
                        "test": [
                          0.822144,
                          0.2686734315
                        ]
                      },
                      {
                        "learn": [
                          0.1952222552
                        ],
                        "iteration": 72,
                        "passed_time": 16.97006541,
                        "remaining_time": 215.496584,
                        "test": [
                          0.822848,
                          0.2680837788
                        ]
                      },
                      {
                        "learn": [
                          0.1939000157
                        ],
                        "iteration": 73,
                        "passed_time": 17.12985573,
                        "remaining_time": 214.3546811,
                        "test": [
                          0.822272,
                          0.2678264832
                        ]
                      },
                      {
                        "learn": [
                          0.1928341675
                        ],
                        "iteration": 74,
                        "passed_time": 17.28835476,
                        "remaining_time": 213.223042,
                        "test": [
                          0.823232,
                          0.2673554105
                        ]
                      },
                      {
                        "learn": [
                          0.1921643938
                        ],
                        "iteration": 75,
                        "passed_time": 17.44579235,
                        "remaining_time": 212.104107,
                        "test": [
                          0.824064,
                          0.2669395997
                        ]
                      },
                      {
                        "learn": [
                          0.1907288034
                        ],
                        "iteration": 76,
                        "passed_time": 17.61836397,
                        "remaining_time": 211.1915577,
                        "test": [
                          0.8254293333,
                          0.2663322553
                        ]
                      },
                      {
                        "learn": [
                          0.189105508
                        ],
                        "iteration": 77,
                        "passed_time": 17.78181006,
                        "remaining_time": 210.1901138,
                        "test": [
                          0.825728,
                          0.2660266718
                        ]
                      },
                      {
                        "learn": [
                          0.1875279454
                        ],
                        "iteration": 78,
                        "passed_time": 17.94963612,
                        "remaining_time": 209.2609477,
                        "test": [
                          0.8262826667,
                          0.2656192201
                        ]
                      },
                      {
                        "learn": [
                          0.1863544791
                        ],
                        "iteration": 79,
                        "passed_time": 18.11146815,
                        "remaining_time": 208.2818838,
                        "test": [
                          0.826112,
                          0.26557811
                        ]
                      },
                      {
                        "learn": [
                          0.1852693394
                        ],
                        "iteration": 80,
                        "passed_time": 18.30423233,
                        "remaining_time": 207.6739446,
                        "test": [
                          0.8272426667,
                          0.2650461389
                        ]
                      },
                      {
                        "learn": [
                          0.1841445923
                        ],
                        "iteration": 81,
                        "passed_time": 18.58576908,
                        "remaining_time": 208.0699514,
                        "test": [
                          0.827136,
                          0.2645199908
                        ]
                      },
                      {
                        "learn": [
                          0.1833341108
                        ],
                        "iteration": 82,
                        "passed_time": 18.89515051,
                        "remaining_time": 208.7572653,
                        "test": [
                          0.8267306667,
                          0.2644840393
                        ]
                      },
                      {
                        "learn": [
                          0.1819598716
                        ],
                        "iteration": 83,
                        "passed_time": 19.2077192,
                        "remaining_time": 209.4556047,
                        "test": [
                          0.8269013333,
                          0.2642459495
                        ]
                      },
                      {
                        "learn": [
                          0.1812954385
                        ],
                        "iteration": 84,
                        "passed_time": 19.48311091,
                        "remaining_time": 209.7299586,
                        "test": [
                          0.826496,
                          0.2642313922
                        ]
                      },
                      {
                        "learn": [
                          0.1803398023
                        ],
                        "iteration": 85,
                        "passed_time": 19.77103715,
                        "remaining_time": 210.1247437,
                        "test": [
                          0.82624,
                          0.2640440845
                        ]
                      },
                      {
                        "learn": [
                          0.1795268359
                        ],
                        "iteration": 86,
                        "passed_time": 20.05060243,
                        "remaining_time": 210.4160921,
                        "test": [
                          0.8263253333,
                          0.2640238856
                        ]
                      },
                      {
                        "learn": [
                          0.1786220878
                        ],
                        "iteration": 87,
                        "passed_time": 20.35046917,
                        "remaining_time": 210.9048623,
                        "test": [
                          0.827008,
                          0.2635507486
                        ]
                      },
                      {
                        "learn": [
                          0.1776019505
                        ],
                        "iteration": 88,
                        "passed_time": 20.65769365,
                        "remaining_time": 211.4512238,
                        "test": [
                          0.8254933333,
                          0.2636428455
                        ]
                      },
                      {
                        "learn": [
                          0.1764964294
                        ],
                        "iteration": 89,
                        "passed_time": 20.96577094,
                        "remaining_time": 211.9872395,
                        "test": [
                          0.8251306667,
                          0.2637007692
                        ]
                      },
                      {
                        "learn": [
                          0.1757177298
                        ],
                        "iteration": 90,
                        "passed_time": 21.28098969,
                        "remaining_time": 212.5760399,
                        "test": [
                          0.8258133333,
                          0.2631069147
                        ]
                      },
                      {
                        "learn": [
                          0.1748783875
                        ],
                        "iteration": 91,
                        "passed_time": 21.5898416,
                        "remaining_time": 213.0823497,
                        "test": [
                          0.8269866667,
                          0.262655142
                        ]
                      },
                      {
                        "learn": [
                          0.1741554478
                        ],
                        "iteration": 92,
                        "passed_time": 21.91563284,
                        "remaining_time": 213.7363332,
                        "test": [
                          0.8280533333,
                          0.2622974202
                        ]
                      },
                      {
                        "learn": [
                          0.1735361808
                        ],
                        "iteration": 93,
                        "passed_time": 22.20979977,
                        "remaining_time": 214.0646658,
                        "test": [
                          0.828736,
                          0.2619887973
                        ]
                      },
                      {
                        "learn": [
                          0.1729505157
                        ],
                        "iteration": 94,
                        "passed_time": 22.52442485,
                        "remaining_time": 214.5747841,
                        "test": [
                          0.8287786667,
                          0.2619446608
                        ]
                      },
                      {
                        "learn": [
                          0.1725791713
                        ],
                        "iteration": 95,
                        "passed_time": 22.81664333,
                        "remaining_time": 214.8567246,
                        "test": [
                          0.8287573333,
                          0.261894831
                        ]
                      },
                      {
                        "learn": [
                          0.1719198608
                        ],
                        "iteration": 96,
                        "passed_time": 23.1193507,
                        "remaining_time": 215.2244709,
                        "test": [
                          0.8298026667,
                          0.2618072945
                        ]
                      },
                      {
                        "learn": [
                          0.1710906328
                        ],
                        "iteration": 97,
                        "passed_time": 23.40625044,
                        "remaining_time": 215.4330398,
                        "test": [
                          0.8303573333,
                          0.2617139218
                        ]
                      },
                      {
                        "learn": [
                          0.1703078352
                        ],
                        "iteration": 98,
                        "passed_time": 23.60151887,
                        "remaining_time": 214.7976617,
                        "test": [
                          0.8302506667,
                          0.2615903504
                        ]
                      },
                      {
                        "learn": [
                          0.1692883846
                        ],
                        "iteration": 99,
                        "passed_time": 23.78097924,
                        "remaining_time": 214.0288131,
                        "test": [
                          0.830464,
                          0.2613464377
                        ]
                      },
                      {
                        "learn": [
                          0.1684958322
                        ],
                        "iteration": 100,
                        "passed_time": 23.94270545,
                        "remaining_time": 213.1137841,
                        "test": [
                          0.8317226667,
                          0.2606446799
                        ]
                      },
                      {
                        "learn": [
                          0.1678992571
                        ],
                        "iteration": 101,
                        "passed_time": 24.10221708,
                        "remaining_time": 212.1940288,
                        "test": [
                          0.8322773333,
                          0.2603147748
                        ]
                      },
                      {
                        "learn": [
                          0.1671001979
                        ],
                        "iteration": 102,
                        "passed_time": 24.27388182,
                        "remaining_time": 211.3948737,
                        "test": [
                          0.833152,
                          0.2596060815
                        ]
                      },
                      {
                        "learn": [
                          0.1665199825
                        ],
                        "iteration": 103,
                        "passed_time": 24.43153404,
                        "remaining_time": 210.4870625,
                        "test": [
                          0.8330453333,
                          0.25940072
                        ]
                      },
                      {
                        "learn": [
                          0.1658712006
                        ],
                        "iteration": 104,
                        "passed_time": 24.5920251,
                        "remaining_time": 209.6177378,
                        "test": [
                          0.8333866667,
                          0.2589784203
                        ]
                      },
                      {
                        "learn": [
                          0.1649890682
                        ],
                        "iteration": 105,
                        "passed_time": 24.76020164,
                        "remaining_time": 208.8266063,
                        "test": [
                          0.8341546667,
                          0.2586286624
                        ]
                      },
                      {
                        "learn": [
                          0.164196494
                        ],
                        "iteration": 106,
                        "passed_time": 24.91527487,
                        "remaining_time": 207.9377613,
                        "test": [
                          0.8344746667,
                          0.2582555918
                        ]
                      },
                      {
                        "learn": [
                          0.163351375
                        ],
                        "iteration": 107,
                        "passed_time": 25.06982331,
                        "remaining_time": 207.0581703,
                        "test": [
                          0.8348586667,
                          0.2579712673
                        ]
                      },
                      {
                        "learn": [
                          0.1628475298
                        ],
                        "iteration": 108,
                        "passed_time": 25.25433023,
                        "remaining_time": 206.4367728,
                        "test": [
                          0.8343893333,
                          0.2580885562
                        ]
                      },
                      {
                        "learn": [
                          0.1617834255
                        ],
                        "iteration": 109,
                        "passed_time": 25.41323048,
                        "remaining_time": 205.6161375,
                        "test": [
                          0.8351786667,
                          0.2579734524
                        ]
                      },
                      {
                        "learn": [
                          0.161075592
                        ],
                        "iteration": 110,
                        "passed_time": 25.5703364,
                        "remaining_time": 204.7930546,
                        "test": [
                          0.835136,
                          0.2579647632
                        ]
                      },
                      {
                        "learn": [
                          0.1605210332
                        ],
                        "iteration": 111,
                        "passed_time": 25.73213184,
                        "remaining_time": 204.0190453,
                        "test": [
                          0.834944,
                          0.2580164898
                        ]
                      },
                      {
                        "learn": [
                          0.1596891349
                        ],
                        "iteration": 112,
                        "passed_time": 25.88894786,
                        "remaining_time": 203.2167854,
                        "test": [
                          0.8352,
                          0.2580868791
                        ]
                      },
                      {
                        "learn": [
                          0.1590734318
                        ],
                        "iteration": 113,
                        "passed_time": 26.04838113,
                        "remaining_time": 202.4461902,
                        "test": [
                          0.8360106667,
                          0.257733046
                        ]
                      },
                      {
                        "learn": [
                          0.1581337956
                        ],
                        "iteration": 114,
                        "passed_time": 26.20464906,
                        "remaining_time": 201.6618645,
                        "test": [
                          0.8355413333,
                          0.2579816713
                        ]
                      },
                      {
                        "learn": [
                          0.1570135607
                        ],
                        "iteration": 115,
                        "passed_time": 26.37429031,
                        "remaining_time": 200.9902813,
                        "test": [
                          0.83616,
                          0.2577946476
                        ]
                      },
                      {
                        "learn": [
                          0.1560029602
                        ],
                        "iteration": 116,
                        "passed_time": 26.57778569,
                        "remaining_time": 200.5827758,
                        "test": [
                          0.83552,
                          0.2577030361
                        ]
                      },
                      {
                        "learn": [
                          0.1549698094
                        ],
                        "iteration": 117,
                        "passed_time": 26.88500867,
                        "remaining_time": 200.9540479,
                        "test": [
                          0.835904,
                          0.2574792785
                        ]
                      },
                      {
                        "learn": [
                          0.1545308794
                        ],
                        "iteration": 118,
                        "passed_time": 27.14978881,
                        "remaining_time": 200.999697,
                        "test": [
                          0.835904,
                          0.257389724
                        ]
                      },
                      {
                        "learn": [
                          0.1540347508
                        ],
                        "iteration": 119,
                        "passed_time": 27.32836638,
                        "remaining_time": 200.4080201,
                        "test": [
                          0.8361813333,
                          0.2570254683
                        ]
                      },
                      {
                        "learn": [
                          0.1534109933
                        ],
                        "iteration": 120,
                        "passed_time": 27.50079547,
                        "remaining_time": 199.7785059,
                        "test": [
                          0.8365866667,
                          0.2568349436
                        ]
                      },
                      {
                        "learn": [
                          0.1528688485
                        ],
                        "iteration": 121,
                        "passed_time": 27.65802477,
                        "remaining_time": 199.0470963,
                        "test": [
                          0.8365226667,
                          0.2568772131
                        ]
                      },
                      {
                        "learn": [
                          0.1520367105
                        ],
                        "iteration": 122,
                        "passed_time": 27.83135174,
                        "remaining_time": 198.4398006,
                        "test": [
                          0.837056,
                          0.2567056418
                        ]
                      },
                      {
                        "learn": [
                          0.1516410392
                        ],
                        "iteration": 123,
                        "passed_time": 27.98819795,
                        "remaining_time": 197.7230758,
                        "test": [
                          0.837312,
                          0.2566704861
                        ]
                      },
                      {
                        "learn": [
                          0.1509085628
                        ],
                        "iteration": 124,
                        "passed_time": 28.14306782,
                        "remaining_time": 197.0014747,
                        "test": [
                          0.8368426667,
                          0.256488578
                        ]
                      },
                      {
                        "learn": [
                          0.1503645216
                        ],
                        "iteration": 125,
                        "passed_time": 28.31296099,
                        "remaining_time": 196.3930786,
                        "test": [
                          0.8373973333,
                          0.2561719549
                        ]
                      },
                      {
                        "learn": [
                          0.1499991281
                        ],
                        "iteration": 126,
                        "passed_time": 28.46890188,
                        "remaining_time": 195.6956798,
                        "test": [
                          0.837376,
                          0.2560852991
                        ]
                      },
                      {
                        "learn": [
                          0.1493780082
                        ],
                        "iteration": 127,
                        "passed_time": 28.62649391,
                        "remaining_time": 195.0179898,
                        "test": [
                          0.8370346667,
                          0.2560675141
                        ]
                      },
                      {
                        "learn": [
                          0.1488553946
                        ],
                        "iteration": 128,
                        "passed_time": 28.79403304,
                        "remaining_time": 194.4155254,
                        "test": [
                          0.8369493333,
                          0.2560064067
                        ]
                      },
                      {
                        "learn": [
                          0.1483032227
                        ],
                        "iteration": 129,
                        "passed_time": 28.95304341,
                        "remaining_time": 193.7626751,
                        "test": [
                          0.83648,
                          0.2560041281
                        ]
                      },
                      {
                        "learn": [
                          0.1473728289
                        ],
                        "iteration": 130,
                        "passed_time": 29.11097921,
                        "remaining_time": 193.1102361,
                        "test": [
                          0.8378453333,
                          0.2555995728
                        ]
                      },
                      {
                        "learn": [
                          0.1468371037
                        ],
                        "iteration": 131,
                        "passed_time": 29.26896457,
                        "remaining_time": 192.4656155,
                        "test": [
                          0.8381653333,
                          0.2555675595
                        ]
                      },
                      {
                        "learn": [
                          0.1457433646
                        ],
                        "iteration": 132,
                        "passed_time": 29.4367735,
                        "remaining_time": 191.8923505,
                        "test": [
                          0.837824,
                          0.255413211
                        ]
                      },
                      {
                        "learn": [
                          0.1447292001
                        ],
                        "iteration": 133,
                        "passed_time": 29.59226506,
                        "remaining_time": 191.2455339,
                        "test": [
                          0.8367786667,
                          0.2556657578
                        ]
                      },
                      {
                        "learn": [
                          0.1440108926
                        ],
                        "iteration": 134,
                        "passed_time": 29.75204107,
                        "remaining_time": 190.6334483,
                        "test": [
                          0.836864,
                          0.255826015
                        ]
                      },
                      {
                        "learn": [
                          0.1434099797
                        ],
                        "iteration": 135,
                        "passed_time": 29.92359838,
                        "remaining_time": 190.1028603,
                        "test": [
                          0.8372266667,
                          0.2557778971
                        ]
                      },
                      {
                        "learn": [
                          0.1428779602
                        ],
                        "iteration": 136,
                        "passed_time": 30.08423939,
                        "remaining_time": 189.5087489,
                        "test": [
                          0.837376,
                          0.2556151921
                        ]
                      },
                      {
                        "learn": [
                          0.1422915431
                        ],
                        "iteration": 137,
                        "passed_time": 30.24916667,
                        "remaining_time": 188.9476933,
                        "test": [
                          0.8376106667,
                          0.2557798962
                        ]
                      },
                      {
                        "learn": [
                          0.1416894095
                        ],
                        "iteration": 138,
                        "passed_time": 30.43071698,
                        "remaining_time": 188.4953044,
                        "test": [
                          0.8375893333,
                          0.2556744265
                        ]
                      },
                      {
                        "learn": [
                          0.1410547856
                        ],
                        "iteration": 139,
                        "passed_time": 30.59519086,
                        "remaining_time": 187.9418867,
                        "test": [
                          0.8374613333,
                          0.2556503477
                        ]
                      },
                      {
                        "learn": [
                          0.1404065813
                        ],
                        "iteration": 140,
                        "passed_time": 30.75836162,
                        "remaining_time": 187.386047,
                        "test": [
                          0.8365226667,
                          0.2558389551
                        ]
                      },
                      {
                        "learn": [
                          0.1397865404
                        ],
                        "iteration": 141,
                        "passed_time": 30.93331183,
                        "remaining_time": 186.9069123,
                        "test": [
                          0.8370346667,
                          0.2555927945
                        ]
                      },
                      {
                        "learn": [
                          0.1391259766
                        ],
                        "iteration": 142,
                        "passed_time": 31.09791168,
                        "remaining_time": 186.3700022,
                        "test": [
                          0.8368,
                          0.2558409196
                        ]
                      },
                      {
                        "learn": [
                          0.138588235
                        ],
                        "iteration": 143,
                        "passed_time": 31.25792413,
                        "remaining_time": 185.8109934,
                        "test": [
                          0.8363306667,
                          0.2559654972
                        ]
                      },
                      {
                        "learn": [
                          0.137971344
                        ],
                        "iteration": 144,
                        "passed_time": 31.42708983,
                        "remaining_time": 185.3114607,
                        "test": [
                          0.8363093333,
                          0.2556108621
                        ]
                      },
                      {
                        "learn": [
                          0.1374961635
                        ],
                        "iteration": 145,
                        "passed_time": 31.58809219,
                        "remaining_time": 184.7687036,
                        "test": [
                          0.83648,
                          0.2554368742
                        ]
                      },
                      {
                        "learn": [
                          0.1370022801
                        ],
                        "iteration": 146,
                        "passed_time": 31.75012516,
                        "remaining_time": 184.2371208,
                        "test": [
                          0.8370133333,
                          0.2551164379
                        ]
                      },
                      {
                        "learn": [
                          0.1366090829
                        ],
                        "iteration": 147,
                        "passed_time": 31.9185722,
                        "remaining_time": 183.7474562,
                        "test": [
                          0.8369066667,
                          0.2550676567
                        ]
                      },
                      {
                        "learn": [
                          0.1359603664
                        ],
                        "iteration": 148,
                        "passed_time": 32.07514799,
                        "remaining_time": 183.1943016,
                        "test": [
                          0.8364586667,
                          0.255205032
                        ]
                      },
                      {
                        "learn": [
                          0.1352058411
                        ],
                        "iteration": 149,
                        "passed_time": 32.24010111,
                        "remaining_time": 182.6939063,
                        "test": [
                          0.836352,
                          0.2551625336
                        ]
                      },
                      {
                        "learn": [
                          0.1348206656
                        ],
                        "iteration": 150,
                        "passed_time": 32.41101544,
                        "remaining_time": 182.2314709,
                        "test": [
                          0.836736,
                          0.2549319918
                        ]
                      },
                      {
                        "learn": [
                          0.1343695286
                        ],
                        "iteration": 151,
                        "passed_time": 32.56635778,
                        "remaining_time": 181.685996,
                        "test": [
                          0.8374186667,
                          0.254633783
                        ]
                      },
                      {
                        "learn": [
                          0.1339180647
                        ],
                        "iteration": 152,
                        "passed_time": 32.72829926,
                        "remaining_time": 181.1821534,
                        "test": [
                          0.836992,
                          0.2546601754
                        ]
                      },
                      {
                        "learn": [
                          0.1332542419
                        ],
                        "iteration": 153,
                        "passed_time": 32.89799338,
                        "remaining_time": 180.7253403,
                        "test": [
                          0.8362453333,
                          0.2550630931
                        ]
                      },
                      {
                        "learn": [
                          0.132386649
                        ],
                        "iteration": 154,
                        "passed_time": 33.05615326,
                        "remaining_time": 180.2093517,
                        "test": [
                          0.8373546667,
                          0.2546210073
                        ]
                      },
                      {
                        "learn": [
                          0.1319057465
                        ],
                        "iteration": 155,
                        "passed_time": 33.21131893,
                        "remaining_time": 179.6817511,
                        "test": [
                          0.8374613333,
                          0.2545840052
                        ]
                      },
                      {
                        "learn": [
                          0.1315876443
                        ],
                        "iteration": 156,
                        "passed_time": 33.3655047,
                        "remaining_time": 179.1536335,
                        "test": [
                          0.8372266667,
                          0.2546377721
                        ]
                      },
                      {
                        "learn": [
                          0.1312811824
                        ],
                        "iteration": 157,
                        "passed_time": 33.55817244,
                        "remaining_time": 178.835324,
                        "test": [
                          0.8374186667,
                          0.2546361706
                        ]
                      },
                      {
                        "learn": [
                          0.1308674404
                        ],
                        "iteration": 158,
                        "passed_time": 33.88054732,
                        "remaining_time": 179.204656,
                        "test": [
                          0.8373333333,
                          0.2545237139
                        ]
                      },
                      {
                        "learn": [
                          0.1299399894
                        ],
                        "iteration": 159,
                        "passed_time": 34.19066212,
                        "remaining_time": 179.5009761,
                        "test": [
                          0.8377386667,
                          0.2545091395
                        ]
                      },
                      {
                        "learn": [
                          0.1296342032
                        ],
                        "iteration": 160,
                        "passed_time": 34.4987159,
                        "remaining_time": 179.7790226,
                        "test": [
                          0.8376533333,
                          0.2545517789
                        ]
                      },
                      {
                        "learn": [
                          0.1291540963
                        ],
                        "iteration": 161,
                        "passed_time": 34.79857681,
                        "remaining_time": 180.0074529,
                        "test": [
                          0.838016,
                          0.2545600844
                        ]
                      },
                      {
                        "learn": [
                          0.1286230578
                        ],
                        "iteration": 162,
                        "passed_time": 35.12564344,
                        "remaining_time": 180.3691016,
                        "test": [
                          0.837824,
                          0.2546277184
                        ]
                      },
                      {
                        "learn": [
                          0.1281775447
                        ],
                        "iteration": 163,
                        "passed_time": 35.4311721,
                        "remaining_time": 180.6125602,
                        "test": [
                          0.837824,
                          0.2545811812
                        ]
                      },
                      {
                        "learn": [
                          0.1278006417
                        ],
                        "iteration": 164,
                        "passed_time": 35.73623953,
                        "remaining_time": 180.8470304,
                        "test": [
                          0.8381013333,
                          0.2544907416
                        ]
                      },
                      {
                        "learn": [
                          0.1273548017
                        ],
                        "iteration": 165,
                        "passed_time": 36.05489804,
                        "remaining_time": 181.1432829,
                        "test": [
                          0.8384426667,
                          0.2542673418
                        ]
                      },
                      {
                        "learn": [
                          0.1270509011
                        ],
                        "iteration": 166,
                        "passed_time": 36.35985943,
                        "remaining_time": 181.3638497,
                        "test": [
                          0.8385493333,
                          0.2541800735
                        ]
                      },
                      {
                        "learn": [
                          0.1266386305
                        ],
                        "iteration": 167,
                        "passed_time": 36.65022954,
                        "remaining_time": 181.5058987,
                        "test": [
                          0.8384,
                          0.2538945414
                        ]
                      },
                      {
                        "learn": [
                          0.1261329869
                        ],
                        "iteration": 168,
                        "passed_time": 36.96400948,
                        "remaining_time": 181.7579401,
                        "test": [
                          0.839232,
                          0.2536443351
                        ]
                      },
                      {
                        "learn": [
                          0.1258213152
                        ],
                        "iteration": 169,
                        "passed_time": 37.2691841,
                        "remaining_time": 181.9613106,
                        "test": [
                          0.8396586667,
                          0.2535945898
                        ]
                      },
                      {
                        "learn": [
                          0.1253540475
                        ],
                        "iteration": 170,
                        "passed_time": 37.56818197,
                        "remaining_time": 182.1287886,
                        "test": [
                          0.8389333333,
                          0.2537218742
                        ]
                      },
                      {
                        "learn": [
                          0.1245146615
                        ],
                        "iteration": 171,
                        "passed_time": 37.84125378,
                        "remaining_time": 182.1660356,
                        "test": [
                          0.8388266667,
                          0.2536607928
                        ]
                      },
                      {
                        "learn": [
                          0.1238989585
                        ],
                        "iteration": 172,
                        "passed_time": 38.15466049,
                        "remaining_time": 182.39251,
                        "test": [
                          0.838464,
                          0.2536941895
                        ]
                      },
                      {
                        "learn": [
                          0.1235447039
                        ],
                        "iteration": 173,
                        "passed_time": 38.47145883,
                        "remaining_time": 182.6288793,
                        "test": [
                          0.8384426667,
                          0.2536752256
                        ]
                      },
                      {
                        "learn": [
                          0.1227451651
                        ],
                        "iteration": 174,
                        "passed_time": 38.75439985,
                        "remaining_time": 182.6993136,
                        "test": [
                          0.8384213333,
                          0.2539078227
                        ]
                      },
                      {
                        "learn": [
                          0.1223987688
                        ],
                        "iteration": 175,
                        "passed_time": 38.92728652,
                        "remaining_time": 182.2504778,
                        "test": [
                          0.8388053333,
                          0.253814721
                        ]
                      },
                      {
                        "learn": [
                          0.1221531023
                        ],
                        "iteration": 176,
                        "passed_time": 39.11003214,
                        "remaining_time": 181.8506014,
                        "test": [
                          0.838912,
                          0.2538509215
                        ]
                      },
                      {
                        "learn": [
                          0.1214184352
                        ],
                        "iteration": 177,
                        "passed_time": 39.27692089,
                        "remaining_time": 181.3799381,
                        "test": [
                          0.839168,
                          0.2538126836
                        ]
                      },
                      {
                        "learn": [
                          0.1207969666
                        ],
                        "iteration": 178,
                        "passed_time": 39.43880714,
                        "remaining_time": 180.8897244,
                        "test": [
                          0.839424,
                          0.2538064616
                        ]
                      },
                      {
                        "learn": [
                          0.1203744071
                        ],
                        "iteration": 179,
                        "passed_time": 39.5987966,
                        "remaining_time": 180.3945178,
                        "test": [
                          0.8396373333,
                          0.2535268562
                        ]
                      },
                      {
                        "learn": [
                          0.1201843044
                        ],
                        "iteration": 180,
                        "passed_time": 39.77027315,
                        "remaining_time": 179.9549929,
                        "test": [
                          0.8397013333,
                          0.2536028491
                        ]
                      },
                      {
                        "learn": [
                          0.1197312164
                        ],
                        "iteration": 181,
                        "passed_time": 39.93330591,
                        "remaining_time": 179.4804628,
                        "test": [
                          0.8394666667,
                          0.2537416159
                        ]
                      },
                      {
                        "learn": [
                          0.1191760472
                        ],
                        "iteration": 182,
                        "passed_time": 40.10228998,
                        "remaining_time": 179.0359066,
                        "test": [
                          0.8392746667,
                          0.2539981862
                        ]
                      },
                      {
                        "learn": [
                          0.1184616743
                        ],
                        "iteration": 183,
                        "passed_time": 40.25663216,
                        "remaining_time": 178.5294122,
                        "test": [
                          0.839168,
                          0.2541699885
                        ]
                      },
                      {
                        "learn": [
                          0.1178791046
                        ],
                        "iteration": 184,
                        "passed_time": 40.41317321,
                        "remaining_time": 178.0364117,
                        "test": [
                          0.8389973333,
                          0.2540079654
                        ]
                      },
                      {
                        "learn": [
                          0.1172297777
                        ],
                        "iteration": 185,
                        "passed_time": 40.57584236,
                        "remaining_time": 177.5738477,
                        "test": [
                          0.8393173333,
                          0.253858014
                        ]
                      },
                      {
                        "learn": [
                          0.1166845921
                        ],
                        "iteration": 186,
                        "passed_time": 40.75106468,
                        "remaining_time": 177.1690673,
                        "test": [
                          0.8390613333,
                          0.2540466699
                        ]
                      },
                      {
                        "learn": [
                          0.1164655195
                        ],
                        "iteration": 187,
                        "passed_time": 40.91294171,
                        "remaining_time": 176.7090887,
                        "test": [
                          0.8391253333,
                          0.2540675374
                        ]
                      },
                      {
                        "learn": [
                          0.1161202567
                        ],
                        "iteration": 188,
                        "passed_time": 41.08443931,
                        "remaining_time": 176.2935464,
                        "test": [
                          0.838976,
                          0.2542073598
                        ]
                      },
                      {
                        "learn": [
                          0.1158139038
                        ],
                        "iteration": 189,
                        "passed_time": 41.242212,
                        "remaining_time": 175.8220617,
                        "test": [
                          0.8384426667,
                          0.2543013489
                        ]
                      },
                      {
                        "learn": [
                          0.1153338841
                        ],
                        "iteration": 190,
                        "passed_time": 41.40497349,
                        "remaining_time": 175.3749924,
                        "test": [
                          0.83872,
                          0.2538668321
                        ]
                      },
                      {
                        "learn": [
                          0.1149714334
                        ],
                        "iteration": 191,
                        "passed_time": 41.56258286,
                        "remaining_time": 174.9092029,
                        "test": [
                          0.83904,
                          0.2537618832
                        ]
                      },
                      {
                        "learn": [
                          0.1146766118
                        ],
                        "iteration": 192,
                        "passed_time": 41.7241837,
                        "remaining_time": 174.4632966,
                        "test": [
                          0.8390186667,
                          0.2537634866
                        ]
                      },
                      {
                        "learn": [
                          0.1143016924
                        ],
                        "iteration": 193,
                        "passed_time": 41.89525448,
                        "remaining_time": 174.0596655,
                        "test": [
                          0.8391893333,
                          0.2537065153
                        ]
                      },
                      {
                        "learn": [
                          0.1139426749
                        ],
                        "iteration": 194,
                        "passed_time": 42.06551405,
                        "remaining_time": 173.6550708,
                        "test": [
                          0.8392746667,
                          0.253630638
                        ]
                      },
                      {
                        "learn": [
                          0.1133569663
                        ],
                        "iteration": 195,
                        "passed_time": 42.228711,
                        "remaining_time": 173.2238961,
                        "test": [
                          0.8391893333,
                          0.2536686963
                        ]
                      },
                      {
                        "learn": [
                          0.1130482592
                        ],
                        "iteration": 196,
                        "passed_time": 42.38553254,
                        "remaining_time": 172.769455,
                        "test": [
                          0.839424,
                          0.2536621436
                        ]
                      },
                      {
                        "learn": [
                          0.1123669325
                        ],
                        "iteration": 197,
                        "passed_time": 42.54266835,
                        "remaining_time": 172.319293,
                        "test": [
                          0.840128,
                          0.2534904603
                        ]
                      },
                      {
                        "learn": [
                          0.1120566014
                        ],
                        "iteration": 198,
                        "passed_time": 42.70589228,
                        "remaining_time": 171.8965815,
                        "test": [
                          0.8402986667,
                          0.2533657862
                        ]
                      },
                      {
                        "learn": [
                          0.1115529306
                        ],
                        "iteration": 199,
                        "passed_time": 42.87587693,
                        "remaining_time": 171.5035077,
                        "test": [
                          0.84064,
                          0.2530866828
                        ]
                      },
                      {
                        "learn": [
                          0.1109513746
                        ],
                        "iteration": 200,
                        "passed_time": 43.0323739,
                        "remaining_time": 171.0590385,
                        "test": [
                          0.8409173333,
                          0.2528917476
                        ]
                      },
                      {
                        "learn": [
                          0.1104366847
                        ],
                        "iteration": 201,
                        "passed_time": 43.21126769,
                        "remaining_time": 170.7058991,
                        "test": [
                          0.84064,
                          0.2528662464
                        ]
                      },
                      {
                        "learn": [
                          0.1099011339
                        ],
                        "iteration": 202,
                        "passed_time": 43.37208905,
                        "remaining_time": 170.283522,
                        "test": [
                          0.8408106667,
                          0.2525406813
                        ]
                      },
                      {
                        "learn": [
                          0.1097236415
                        ],
                        "iteration": 203,
                        "passed_time": 43.53041856,
                        "remaining_time": 169.8539861,
                        "test": [
                          0.8408746667,
                          0.2525768801
                        ]
                      },
                      {
                        "learn": [
                          0.1093653434
                        ],
                        "iteration": 204,
                        "passed_time": 43.69299279,
                        "remaining_time": 169.4435574,
                        "test": [
                          0.8404053333,
                          0.2528550661
                        ]
                      },
                      {
                        "learn": [
                          0.1090734427
                        ],
                        "iteration": 205,
                        "passed_time": 43.86100023,
                        "remaining_time": 169.0564766,
                        "test": [
                          0.8405333333,
                          0.2527466027
                        ]
                      },
                      {
                        "learn": [
                          0.1084576634
                        ],
                        "iteration": 206,
                        "passed_time": 44.02086943,
                        "remaining_time": 168.6403356,
                        "test": [
                          0.8405333333,
                          0.2524296799
                        ]
                      },
                      {
                        "learn": [
                          0.1082380894
                        ],
                        "iteration": 207,
                        "passed_time": 44.19928014,
                        "remaining_time": 168.297259,
                        "test": [
                          0.8406613333,
                          0.2524413235
                        ]
                      },
                      {
                        "learn": [
                          0.1075799016
                        ],
                        "iteration": 208,
                        "passed_time": 44.35752561,
                        "remaining_time": 167.879439,
                        "test": [
                          0.8413226667,
                          0.2522115263
                        ]
                      },
                      {
                        "learn": [
                          0.1072425624
                        ],
                        "iteration": 209,
                        "passed_time": 44.51823872,
                        "remaining_time": 167.4733742,
                        "test": [
                          0.841472,
                          0.2520519851
                        ]
                      },
                      {
                        "learn": [
                          0.1068562208
                        ],
                        "iteration": 210,
                        "passed_time": 44.67572295,
                        "remaining_time": 167.0575612,
                        "test": [
                          0.841408,
                          0.2521418828
                        ]
                      },
                      {
                        "learn": [
                          0.1062794059
                        ],
                        "iteration": 211,
                        "passed_time": 44.84396098,
                        "remaining_time": 166.6841568,
                        "test": [
                          0.841792,
                          0.2518321635
                        ]
                      },
                      {
                        "learn": [
                          0.1060430472
                        ],
                        "iteration": 212,
                        "passed_time": 45.00863107,
                        "remaining_time": 166.299496,
                        "test": [
                          0.8414293333,
                          0.2520137975
                        ]
                      },
                      {
                        "learn": [
                          0.1054391697
                        ],
                        "iteration": 213,
                        "passed_time": 45.18149833,
                        "remaining_time": 165.9469985,
                        "test": [
                          0.841216,
                          0.2519852936
                        ]
                      },
                      {
                        "learn": [
                          0.1052841513
                        ],
                        "iteration": 214,
                        "passed_time": 45.33911764,
                        "remaining_time": 165.5404993,
                        "test": [
                          0.8411946667,
                          0.2519677873
                        ]
                      },
                      {
                        "learn": [
                          0.1048178537
                        ],
                        "iteration": 215,
                        "passed_time": 45.50045024,
                        "remaining_time": 165.1497823,
                        "test": [
                          0.841792,
                          0.251571398
                        ]
                      },
                      {
                        "learn": [
                          0.1044788034
                        ],
                        "iteration": 216,
                        "passed_time": 45.65621039,
                        "remaining_time": 164.7410725,
                        "test": [
                          0.841856,
                          0.2515924024
                        ]
                      },
                      {
                        "learn": [
                          0.1042363303
                        ],
                        "iteration": 217,
                        "passed_time": 45.81757618,
                        "remaining_time": 164.3547916,
                        "test": [
                          0.8418346667,
                          0.2516986528
                        ]
                      },
                      {
                        "learn": [
                          0.1038076237
                        ],
                        "iteration": 218,
                        "passed_time": 45.98945575,
                        "remaining_time": 164.0080591,
                        "test": [
                          0.84192,
                          0.251764798
                        ]
                      },
                      {
                        "learn": [
                          0.1033660889
                        ],
                        "iteration": 219,
                        "passed_time": 46.14975526,
                        "remaining_time": 163.6218596,
                        "test": [
                          0.842176,
                          0.2515400692
                        ]
                      },
                      {
                        "learn": [
                          0.1031419155
                        ],
                        "iteration": 220,
                        "passed_time": 46.32222933,
                        "remaining_time": 163.2806183,
                        "test": [
                          0.842048,
                          0.2515555128
                        ]
                      },
                      {
                        "learn": [
                          0.1027122934
                        ],
                        "iteration": 221,
                        "passed_time": 46.47918336,
                        "remaining_time": 162.8865075,
                        "test": [
                          0.8427306667,
                          0.2513349867
                        ]
                      },
                      {
                        "learn": [
                          0.1024023873
                        ],
                        "iteration": 222,
                        "passed_time": 46.63635279,
                        "remaining_time": 162.4952741,
                        "test": [
                          0.8425813333,
                          0.251310962
                        ]
                      },
                      {
                        "learn": [
                          0.1018641663
                        ],
                        "iteration": 223,
                        "passed_time": 46.79558264,
                        "remaining_time": 162.1132684,
                        "test": [
                          0.843264,
                          0.2510402442
                        ]
                      },
                      {
                        "learn": [
                          0.1015343911
                        ],
                        "iteration": 224,
                        "passed_time": 46.97215234,
                        "remaining_time": 161.7929692,
                        "test": [
                          0.843264,
                          0.2510010895
                        ]
                      },
                      {
                        "learn": [
                          0.1012269265
                        ],
                        "iteration": 225,
                        "passed_time": 47.12947457,
                        "remaining_time": 161.4080235,
                        "test": [
                          0.8434773333,
                          0.2509348069
                        ]
                      },
                      {
                        "learn": [
                          0.1005605752
                        ],
                        "iteration": 226,
                        "passed_time": 47.30309367,
                        "remaining_time": 161.0805789,
                        "test": [
                          0.8432,
                          0.2511680895
                        ]
                      },
                      {
                        "learn": [
                          0.1003436061
                        ],
                        "iteration": 227,
                        "passed_time": 47.4664055,
                        "remaining_time": 160.7195835,
                        "test": [
                          0.843584,
                          0.2510210308
                        ]
                      },
                      {
                        "learn": [
                          0.09988179888
                        ],
                        "iteration": 228,
                        "passed_time": 47.62575779,
                        "remaining_time": 160.3469836,
                        "test": [
                          0.843648,
                          0.2509087287
                        ]
                      },
                      {
                        "learn": [
                          0.09947043283
                        ],
                        "iteration": 229,
                        "passed_time": 47.78753847,
                        "remaining_time": 159.9843679,
                        "test": [
                          0.8437333333,
                          0.2509657737
                        ]
                      },
                      {
                        "learn": [
                          0.09895065308
                        ],
                        "iteration": 230,
                        "passed_time": 47.94966981,
                        "remaining_time": 159.6246584,
                        "test": [
                          0.843648,
                          0.2507758462
                        ]
                      },
                      {
                        "learn": [
                          0.09845271519
                        ],
                        "iteration": 231,
                        "passed_time": 48.1142701,
                        "remaining_time": 159.2748252,
                        "test": [
                          0.8438186667,
                          0.2506930239
                        ]
                      },
                      {
                        "learn": [
                          0.09800054278
                        ],
                        "iteration": 232,
                        "passed_time": 48.28706265,
                        "remaining_time": 158.9535496,
                        "test": [
                          0.844224,
                          0.2504998854
                        ]
                      },
                      {
                        "learn": [
                          0.09760032654
                        ],
                        "iteration": 233,
                        "passed_time": 48.44461193,
                        "remaining_time": 158.5836442,
                        "test": [
                          0.8443093333,
                          0.2504458217
                        ]
                      },
                      {
                        "learn": [
                          0.09705023629
                        ],
                        "iteration": 234,
                        "passed_time": 48.60761092,
                        "remaining_time": 158.2332866,
                        "test": [
                          0.844544,
                          0.2506316201
                        ]
                      },
                      {
                        "learn": [
                          0.09657153538
                        ],
                        "iteration": 235,
                        "passed_time": 48.8014268,
                        "remaining_time": 157.98428,
                        "test": [
                          0.8446293333,
                          0.2506734556
                        ]
                      },
                      {
                        "learn": [
                          0.0964037105
                        ],
                        "iteration": 236,
                        "passed_time": 49.11753453,
                        "remaining_time": 158.1294466,
                        "test": [
                          0.8446933333,
                          0.2505971763
                        ]
                      },
                      {
                        "learn": [
                          0.09610567365
                        ],
                        "iteration": 237,
                        "passed_time": 49.43991242,
                        "remaining_time": 158.290812,
                        "test": [
                          0.844864,
                          0.2505955638
                        ]
                      },
                      {
                        "learn": [
                          0.09559042794
                        ],
                        "iteration": 238,
                        "passed_time": 49.75173576,
                        "remaining_time": 158.4145227,
                        "test": [
                          0.8446506667,
                          0.250774613
                        ]
                      },
                      {
                        "learn": [
                          0.09506637573
                        ],
                        "iteration": 239,
                        "passed_time": 50.05789231,
                        "remaining_time": 158.516659,
                        "test": [
                          0.844992,
                          0.2506921256
                        ]
                      },
                      {
                        "learn": [
                          0.09458990914
                        ],
                        "iteration": 240,
                        "passed_time": 50.36241996,
                        "remaining_time": 158.610277,
                        "test": [
                          0.8450133333,
                          0.2506850472
                        ]
                      },
                      {
                        "learn": [
                          0.09424418858
                        ],
                        "iteration": 241,
                        "passed_time": 50.65917349,
                        "remaining_time": 158.6762542,
                        "test": [
                          0.8448426667,
                          0.2507420966
                        ]
                      },
                      {
                        "learn": [
                          0.09390731812
                        ],
                        "iteration": 242,
                        "passed_time": 50.9610371,
                        "remaining_time": 158.755165,
                        "test": [
                          0.8448,
                          0.2507511484
                        ]
                      },
                      {
                        "learn": [
                          0.09359836033
                        ],
                        "iteration": 243,
                        "passed_time": 51.26336659,
                        "remaining_time": 158.8323981,
                        "test": [
                          0.8447786667,
                          0.2507885101
                        ]
                      },
                      {
                        "learn": [
                          0.09346444266
                        ],
                        "iteration": 244,
                        "passed_time": 51.55688375,
                        "remaining_time": 158.8793764,
                        "test": [
                          0.8447573333,
                          0.2507996491
                        ]
                      },
                      {
                        "learn": [
                          0.09302176339
                        ],
                        "iteration": 245,
                        "passed_time": 51.84824386,
                        "remaining_time": 158.9169751,
                        "test": [
                          0.8451413333,
                          0.2504901793
                        ]
                      },
                      {
                        "learn": [
                          0.09241982596
                        ],
                        "iteration": 246,
                        "passed_time": 52.17288581,
                        "remaining_time": 159.0533725,
                        "test": [
                          0.8456533333,
                          0.2503043144
                        ]
                      },
                      {
                        "learn": [
                          0.09176601955
                        ],
                        "iteration": 247,
                        "passed_time": 52.51049309,
                        "remaining_time": 159.2253661,
                        "test": [
                          0.8455253333,
                          0.2504001093
                        ]
                      },
                      {
                        "learn": [
                          0.09168254307
                        ],
                        "iteration": 248,
                        "passed_time": 52.80194439,
                        "remaining_time": 159.2540572,
                        "test": [
                          0.8456106667,
                          0.2503728367
                        ]
                      },
                      {
                        "learn": [
                          0.09146051679
                        ],
                        "iteration": 249,
                        "passed_time": 53.10614675,
                        "remaining_time": 159.3184403,
                        "test": [
                          0.8454186667,
                          0.2503658379
                        ]
                      },
                      {
                        "learn": [
                          0.0912808391
                        ],
                        "iteration": 250,
                        "passed_time": 53.42228122,
                        "remaining_time": 159.4154926,
                        "test": [
                          0.8453973333,
                          0.2503630364
                        ]
                      },
                      {
                        "learn": [
                          0.09112621307
                        ],
                        "iteration": 251,
                        "passed_time": 53.74343553,
                        "remaining_time": 159.5241658,
                        "test": [
                          0.84544,
                          0.2502955654
                        ]
                      },
                      {
                        "learn": [
                          0.09066871098
                        ],
                        "iteration": 252,
                        "passed_time": 54.03119129,
                        "remaining_time": 159.5308296,
                        "test": [
                          0.8455253333,
                          0.2501941497
                        ]
                      },
                      {
                        "learn": [
                          0.0902142552
                        ],
                        "iteration": 253,
                        "passed_time": 54.19538982,
                        "remaining_time": 159.1722866,
                        "test": [
                          0.8455893333,
                          0.2502297503
                        ]
                      },
                      {
                        "learn": [
                          0.08948815482
                        ],
                        "iteration": 254,
                        "passed_time": 54.35524203,
                        "remaining_time": 158.8025698,
                        "test": [
                          0.846144,
                          0.2499815309
                        ]
                      },
                      {
                        "learn": [
                          0.08902823312
                        ],
                        "iteration": 255,
                        "passed_time": 54.52826787,
                        "remaining_time": 158.4727785,
                        "test": [
                          0.8465066667,
                          0.2497256451
                        ]
                      },
                      {
                        "learn": [
                          0.08877053397
                        ],
                        "iteration": 256,
                        "passed_time": 54.68440944,
                        "remaining_time": 158.0953938,
                        "test": [
                          0.8463146667,
                          0.2497983966
                        ]
                      },
                      {
                        "learn": [
                          0.08833378383
                        ],
                        "iteration": 257,
                        "passed_time": 54.84621988,
                        "remaining_time": 157.7360277,
                        "test": [
                          0.846784,
                          0.2497246247
                        ]
                      },
                      {
                        "learn": [
                          0.08810913631
                        ],
                        "iteration": 258,
                        "passed_time": 55.00053995,
                        "remaining_time": 157.3567572,
                        "test": [
                          0.8473386667,
                          0.2495494959
                        ]
                      },
                      {
                        "learn": [
                          0.08778990064
                        ],
                        "iteration": 259,
                        "passed_time": 55.15632645,
                        "remaining_time": 156.9833907,
                        "test": [
                          0.8479786667,
                          0.2492555051
                        ]
                      },
                      {
                        "learn": [
                          0.08736212594
                        ],
                        "iteration": 260,
                        "passed_time": 55.32422754,
                        "remaining_time": 156.6459929,
                        "test": [
                          0.8475306667,
                          0.2494316355
                        ]
                      },
                      {
                        "learn": [
                          0.0868662153
                        ],
                        "iteration": 261,
                        "passed_time": 55.48862117,
                        "remaining_time": 156.3000092,
                        "test": [
                          0.8477653333,
                          0.2493263024
                        ]
                      },
                      {
                        "learn": [
                          0.08613631657
                        ],
                        "iteration": 262,
                        "passed_time": 55.65567885,
                        "remaining_time": 155.9628719,
                        "test": [
                          0.847744,
                          0.2492160974
                        ]
                      },
                      {
                        "learn": [
                          0.08599566323
                        ],
                        "iteration": 263,
                        "passed_time": 55.81626354,
                        "remaining_time": 155.6089771,
                        "test": [
                          0.847616,
                          0.2492455799
                        ]
                      },
                      {
                        "learn": [
                          0.08530394418
                        ],
                        "iteration": 264,
                        "passed_time": 55.97294699,
                        "remaining_time": 155.2457209,
                        "test": [
                          0.8484266667,
                          0.2487777216
                        ]
                      },
                      {
                        "learn": [
                          0.08495203836
                        ],
                        "iteration": 265,
                        "passed_time": 56.12995214,
                        "remaining_time": 154.8849055,
                        "test": [
                          0.8484906667,
                          0.2489206824
                        ]
                      },
                      {
                        "learn": [
                          0.08468129839
                        ],
                        "iteration": 266,
                        "passed_time": 56.29306196,
                        "remaining_time": 154.5423761,
                        "test": [
                          0.8488533333,
                          0.2486712122
                        ]
                      },
                      {
                        "learn": [
                          0.08441595895
                        ],
                        "iteration": 267,
                        "passed_time": 56.44650777,
                        "remaining_time": 154.1747899,
                        "test": [
                          0.848896,
                          0.2486657279
                        ]
                      },
                      {
                        "learn": [
                          0.08407935006
                        ],
                        "iteration": 268,
                        "passed_time": 56.6193676,
                        "remaining_time": 153.8615529,
                        "test": [
                          0.849088,
                          0.2485087709
                        ]
                      },
                      {
                        "learn": [
                          0.08377570016
                        ],
                        "iteration": 269,
                        "passed_time": 56.77966876,
                        "remaining_time": 153.5154007,
                        "test": [
                          0.849088,
                          0.2486074507
                        ]
                      },
                      {
                        "learn": [
                          0.08340677534
                        ],
                        "iteration": 270,
                        "passed_time": 56.93499485,
                        "remaining_time": 153.1572371,
                        "test": [
                          0.8492586667,
                          0.2485465584
                        ]
                      },
                      {
                        "learn": [
                          0.08313678741
                        ],
                        "iteration": 271,
                        "passed_time": 57.09475457,
                        "remaining_time": 152.8124313,
                        "test": [
                          0.8493226667,
                          0.2486285816
                        ]
                      },
                      {
                        "learn": [
                          0.08287270682
                        ],
                        "iteration": 272,
                        "passed_time": 57.25026836,
                        "remaining_time": 152.4576743,
                        "test": [
                          0.849728,
                          0.2485207483
                        ]
                      },
                      {
                        "learn": [
                          0.08241651263
                        ],
                        "iteration": 273,
                        "passed_time": 57.41696096,
                        "remaining_time": 152.1339915,
                        "test": [
                          0.8497066667,
                          0.2484174943
                        ]
                      },
                      {
                        "learn": [
                          0.08193348476
                        ],
                        "iteration": 274,
                        "passed_time": 57.59162691,
                        "remaining_time": 151.832471,
                        "test": [
                          0.8496,
                          0.2486154711
                        ]
                      },
                      {
                        "learn": [
                          0.0815221732
                        ],
                        "iteration": 275,
                        "passed_time": 57.74685366,
                        "remaining_time": 151.480877,
                        "test": [
                          0.849664,
                          0.2486139778
                        ]
                      },
                      {
                        "learn": [
                          0.08133967808
                        ],
                        "iteration": 276,
                        "passed_time": 57.90810515,
                        "remaining_time": 151.1464261,
                        "test": [
                          0.8495573333,
                          0.2486070004
                        ]
                      },
                      {
                        "learn": [
                          0.08124985831
                        ],
                        "iteration": 277,
                        "passed_time": 58.06277713,
                        "remaining_time": 150.7961334,
                        "test": [
                          0.8495146667,
                          0.2486487892
                        ]
                      },
                      {
                        "learn": [
                          0.08084595816
                        ],
                        "iteration": 278,
                        "passed_time": 58.48029595,
                        "remaining_time": 151.1264996,
                        "test": [
                          0.849536,
                          0.2487800158
                        ]
                      },
                      {
                        "learn": [
                          0.08050918579
                        ],
                        "iteration": 279,
                        "passed_time": 58.95874584,
                        "remaining_time": 151.6082036,
                        "test": [
                          0.8498133333,
                          0.2486628448
                        ]
                      },
                      {
                        "learn": [
                          0.08014720372
                        ],
                        "iteration": 280,
                        "passed_time": 59.24480604,
                        "remaining_time": 151.5908026,
                        "test": [
                          0.8495146667,
                          0.2486146752
                        ]
                      },
                      {
                        "learn": [
                          0.07958218711
                        ],
                        "iteration": 281,
                        "passed_time": 59.42825229,
                        "remaining_time": 151.310231,
                        "test": [
                          0.85024,
                          0.2482539406
                        ]
                      },
                      {
                        "learn": [
                          0.07902867998
                        ],
                        "iteration": 282,
                        "passed_time": 59.59182128,
                        "remaining_time": 150.9799854,
                        "test": [
                          0.8501333333,
                          0.2482187574
                        ]
                      },
                      {
                        "learn": [
                          0.07857343401
                        ],
                        "iteration": 283,
                        "passed_time": 59.77652322,
                        "remaining_time": 150.7041923,
                        "test": [
                          0.8506453333,
                          0.247988883
                        ]
                      },
                      {
                        "learn": [
                          0.07817884173
                        ],
                        "iteration": 284,
                        "passed_time": 59.93341925,
                        "remaining_time": 150.3592799,
                        "test": [
                          0.850496,
                          0.2480563342
                        ]
                      },
                      {
                        "learn": [
                          0.07809015547
                        ],
                        "iteration": 285,
                        "passed_time": 60.09806217,
                        "remaining_time": 150.0350223,
                        "test": [
                          0.8505173333,
                          0.2481079375
                        ]
                      },
                      {
                        "learn": [
                          0.07779125759
                        ],
                        "iteration": 286,
                        "passed_time": 60.26051463,
                        "remaining_time": 149.7064353,
                        "test": [
                          0.8509226667,
                          0.2480590211
                        ]
                      },
                      {
                        "learn": [
                          0.07736233847
                        ],
                        "iteration": 287,
                        "passed_time": 60.43107328,
                        "remaining_time": 149.3990423,
                        "test": [
                          0.8507093333,
                          0.2482826876
                        ]
                      },
                      {
                        "learn": [
                          0.07722251892
                        ],
                        "iteration": 288,
                        "passed_time": 60.59148489,
                        "remaining_time": 149.0676324,
                        "test": [
                          0.8507733333,
                          0.2483632654
                        ]
                      },
                      {
                        "learn": [
                          0.07694099426
                        ],
                        "iteration": 289,
                        "passed_time": 60.77196648,
                        "remaining_time": 148.7865386,
                        "test": [
                          0.8510933333,
                          0.2483379199
                        ]
                      },
                      {
                        "learn": [
                          0.07684679304
                        ],
                        "iteration": 290,
                        "passed_time": 60.93152643,
                        "remaining_time": 148.4551623,
                        "test": [
                          0.851072,
                          0.2483294869
                        ]
                      },
                      {
                        "learn": [
                          0.07640696934
                        ],
                        "iteration": 291,
                        "passed_time": 61.09152725,
                        "remaining_time": 148.1260318,
                        "test": [
                          0.8513493333,
                          0.2479675937
                        ]
                      },
                      {
                        "learn": [
                          0.07591721671
                        ],
                        "iteration": 292,
                        "passed_time": 61.25228954,
                        "remaining_time": 147.7998932,
                        "test": [
                          0.8513066667,
                          0.2479809421
                        ]
                      },
                      {
                        "learn": [
                          0.07560176304
                        ],
                        "iteration": 293,
                        "passed_time": 61.41323653,
                        "remaining_time": 147.4753231,
                        "test": [
                          0.8512,
                          0.2481089547
                        ]
                      },
                      {
                        "learn": [
                          0.07552073887
                        ],
                        "iteration": 294,
                        "passed_time": 61.57318399,
                        "remaining_time": 147.1494736,
                        "test": [
                          0.8513493333,
                          0.2479689939
                        ]
                      },
                      {
                        "learn": [
                          0.07517069135
                        ],
                        "iteration": 295,
                        "passed_time": 61.75399457,
                        "remaining_time": 146.8743655,
                        "test": [
                          0.8512213333,
                          0.248194356
                        ]
                      },
                      {
                        "learn": [
                          0.07489328112
                        ],
                        "iteration": 296,
                        "passed_time": 61.91177405,
                        "remaining_time": 146.5453776,
                        "test": [
                          0.8516693333,
                          0.2481391384
                        ]
                      },
                      {
                        "learn": [
                          0.07476411547
                        ],
                        "iteration": 297,
                        "passed_time": 62.07607458,
                        "remaining_time": 146.2329005,
                        "test": [
                          0.851648,
                          0.248178205
                        ]
                      },
                      {
                        "learn": [
                          0.07462280273
                        ],
                        "iteration": 298,
                        "passed_time": 62.24170358,
                        "remaining_time": 145.9245291,
                        "test": [
                          0.8514773333,
                          0.2481996785
                        ]
                      },
                      {
                        "learn": [
                          0.07425906045
                        ],
                        "iteration": 299,
                        "passed_time": 62.40093566,
                        "remaining_time": 145.6021832,
                        "test": [
                          0.8516693333,
                          0.2480834697
                        ]
                      },
                      {
                        "learn": [
                          0.0740165111
                        ],
                        "iteration": 300,
                        "passed_time": 62.56631226,
                        "remaining_time": 145.2951903,
                        "test": [
                          0.851136,
                          0.2482991777
                        ]
                      },
                      {
                        "learn": [
                          0.07372047424
                        ],
                        "iteration": 301,
                        "passed_time": 62.74517375,
                        "remaining_time": 145.0203022,
                        "test": [
                          0.8508586667,
                          0.2484476959
                        ]
                      },
                      {
                        "learn": [
                          0.07359488351
                        ],
                        "iteration": 302,
                        "passed_time": 62.90263642,
                        "remaining_time": 144.6968237,
                        "test": [
                          0.8509226667,
                          0.2484501926
                        ]
                      },
                      {
                        "learn": [
                          0.07351203374
                        ],
                        "iteration": 303,
                        "passed_time": 63.05665178,
                        "remaining_time": 144.3665449,
                        "test": [
                          0.8509226667,
                          0.2484558535
                        ]
                      },
                      {
                        "learn": [
                          0.07339007241
                        ],
                        "iteration": 304,
                        "passed_time": 63.21951247,
                        "remaining_time": 144.0575776,
                        "test": [
                          0.8509653333,
                          0.2484426
                        ]
                      },
                      {
                        "learn": [
                          0.07271075112
                        ],
                        "iteration": 305,
                        "passed_time": 63.37711894,
                        "remaining_time": 143.7376488,
                        "test": [
                          0.850624,
                          0.2483347634
                        ]
                      },
                      {
                        "learn": [
                          0.07235313416
                        ],
                        "iteration": 306,
                        "passed_time": 63.54631401,
                        "remaining_time": 143.4449368,
                        "test": [
                          0.8510293333,
                          0.2479626296
                        ]
                      },
                      {
                        "learn": [
                          0.07220995222
                        ],
                        "iteration": 307,
                        "passed_time": 63.70067525,
                        "remaining_time": 143.1196989,
                        "test": [
                          0.8510933333,
                          0.2479997808
                        ]
                      },
                      {
                        "learn": [
                          0.07213547298
                        ],
                        "iteration": 308,
                        "passed_time": 63.88495303,
                        "remaining_time": 142.8624678,
                        "test": [
                          0.8509226667,
                          0.2479821552
                        ]
                      },
                      {
                        "learn": [
                          0.07167274475
                        ],
                        "iteration": 309,
                        "passed_time": 64.06119123,
                        "remaining_time": 142.5878127,
                        "test": [
                          0.8510933333,
                          0.2481701911
                        ]
                      },
                      {
                        "learn": [
                          0.07157205854
                        ],
                        "iteration": 310,
                        "passed_time": 64.35026676,
                        "remaining_time": 142.5637743,
                        "test": [
                          0.8512213333,
                          0.2480691052
                        ]
                      },
                      {
                        "learn": [
                          0.07122465951
                        ],
                        "iteration": 311,
                        "passed_time": 64.652993,
                        "remaining_time": 142.5681384,
                        "test": [
                          0.85152,
                          0.2481194667
                        ]
                      },
                      {
                        "learn": [
                          0.07094269889
                        ],
                        "iteration": 312,
                        "passed_time": 64.95759176,
                        "remaining_time": 142.5746503,
                        "test": [
                          0.850816,
                          0.2482960746
                        ]
                      },
                      {
                        "learn": [
                          0.07058765956
                        ],
                        "iteration": 313,
                        "passed_time": 65.22405032,
                        "remaining_time": 142.4958551,
                        "test": [
                          0.8509866667,
                          0.2482562281
                        ]
                      },
                      {
                        "learn": [
                          0.0701184518
                        ],
                        "iteration": 314,
                        "passed_time": 65.52551931,
                        "remaining_time": 142.4920023,
                        "test": [
                          0.8519893333,
                          0.2478981655
                        ]
                      },
                      {
                        "learn": [
                          0.06981642587
                        ],
                        "iteration": 315,
                        "passed_time": 65.86107356,
                        "remaining_time": 142.5600453,
                        "test": [
                          0.8516693333,
                          0.2480720873
                        ]
                      },
                      {
                        "learn": [
                          0.06972487313
                        ],
                        "iteration": 316,
                        "passed_time": 66.16989812,
                        "remaining_time": 142.5679508,
                        "test": [
                          0.851584,
                          0.2481390774
                        ]
                      },
                      {
                        "learn": [
                          0.06957107544
                        ],
                        "iteration": 317,
                        "passed_time": 66.46848549,
                        "remaining_time": 142.5519091,
                        "test": [
                          0.8513706667,
                          0.2481512602
                        ]
                      },
                      {
                        "learn": [
                          0.06923589434
                        ],
                        "iteration": 318,
                        "passed_time": 66.77201039,
                        "remaining_time": 142.5446366,
                        "test": [
                          0.8515413333,
                          0.2482165084
                        ]
                      },
                      {
                        "learn": [
                          0.06875296456
                        ],
                        "iteration": 319,
                        "passed_time": 67.10227918,
                        "remaining_time": 142.5923433,
                        "test": [
                          0.8516266667,
                          0.2482539544
                        ]
                      },
                      {
                        "learn": [
                          0.06832799639
                        ],
                        "iteration": 320,
                        "passed_time": 67.36537872,
                        "remaining_time": 142.4956142,
                        "test": [
                          0.8520533333,
                          0.24799744
                        ]
                      },
                      {
                        "learn": [
                          0.06817652021
                        ],
                        "iteration": 321,
                        "passed_time": 67.62204988,
                        "remaining_time": 142.3843162,
                        "test": [
                          0.8519253333,
                          0.2480530892
                        ]
                      },
                      {
                        "learn": [
                          0.06800058637
                        ],
                        "iteration": 322,
                        "passed_time": 67.93922422,
                        "remaining_time": 142.3989313,
                        "test": [
                          0.851264,
                          0.2484336419
                        ]
                      },
                      {
                        "learn": [
                          0.06784872872
                        ],
                        "iteration": 323,
                        "passed_time": 68.21133381,
                        "remaining_time": 142.3174742,
                        "test": [
                          0.8509013333,
                          0.248423354
                        ]
                      },
                      {
                        "learn": [
                          0.06759328025
                        ],
                        "iteration": 324,
                        "passed_time": 68.49705273,
                        "remaining_time": 142.2631095,
                        "test": [
                          0.850752,
                          0.248403079
                        ]
                      },
                      {
                        "learn": [
                          0.06730494908
                        ],
                        "iteration": 325,
                        "passed_time": 68.81993317,
                        "remaining_time": 142.2841563,
                        "test": [
                          0.8510933333,
                          0.2481792947
                        ]
                      },
                      {
                        "learn": [
                          0.06697739737
                        ],
                        "iteration": 326,
                        "passed_time": 69.15371451,
                        "remaining_time": 142.3255347,
                        "test": [
                          0.851072,
                          0.2479911018
                        ]
                      },
                      {
                        "learn": [
                          0.06663508824
                        ],
                        "iteration": 327,
                        "passed_time": 69.4325312,
                        "remaining_time": 142.2520151,
                        "test": [
                          0.8516053333,
                          0.2479708292
                        ]
                      },
                      {
                        "learn": [
                          0.06640391214
                        ],
                        "iteration": 328,
                        "passed_time": 69.60495564,
                        "remaining_time": 141.9602591,
                        "test": [
                          0.8516906667,
                          0.2480140308
                        ]
                      },
                      {
                        "learn": [
                          0.06626340594
                        ],
                        "iteration": 329,
                        "passed_time": 69.77730333,
                        "remaining_time": 141.6690704,
                        "test": [
                          0.8514346667,
                          0.2480229714
                        ]
                      },
                      {
                        "learn": [
                          0.06579141344
                        ],
                        "iteration": 330,
                        "passed_time": 69.9357263,
                        "remaining_time": 141.3504559,
                        "test": [
                          0.8516906667,
                          0.2477535256
                        ]
                      },
                      {
                        "learn": [
                          0.06538760594
                        ],
                        "iteration": 331,
                        "passed_time": 70.11666796,
                        "remaining_time": 141.078115,
                        "test": [
                          0.852032,
                          0.2475958321
                        ]
                      },
                      {
                        "learn": [
                          0.06496804374
                        ],
                        "iteration": 332,
                        "passed_time": 70.27918621,
                        "remaining_time": 140.769421,
                        "test": [
                          0.8522666667,
                          0.2477278045
                        ]
                      },
                      {
                        "learn": [
                          0.06468783242
                        ],
                        "iteration": 333,
                        "passed_time": 70.43480482,
                        "remaining_time": 140.4478443,
                        "test": [
                          0.8516693333,
                          0.2478525206
                        ]
                      },
                      {
                        "learn": [
                          0.06444475991
                        ],
                        "iteration": 334,
                        "passed_time": 70.58800419,
                        "remaining_time": 140.1224561,
                        "test": [
                          0.8519253333,
                          0.2476724504
                        ]
                      },
                      {
                        "learn": [
                          0.06435833522
                        ],
                        "iteration": 335,
                        "passed_time": 70.74310303,
                        "remaining_time": 139.8018465,
                        "test": [
                          0.8519893333,
                          0.2476832973
                        ]
                      },
                      {
                        "learn": [
                          0.06401632581
                        ],
                        "iteration": 336,
                        "passed_time": 70.91885077,
                        "remaining_time": 139.5228429,
                        "test": [
                          0.8521813333,
                          0.2479337521
                        ]
                      },
                      {
                        "learn": [
                          0.06372956412
                        ],
                        "iteration": 337,
                        "passed_time": 71.09727845,
                        "remaining_time": 139.2496992,
                        "test": [
                          0.85216,
                          0.2480259062
                        ]
                      },
                      {
                        "learn": [
                          0.06336358207
                        ],
                        "iteration": 338,
                        "passed_time": 71.25376022,
                        "remaining_time": 138.934323,
                        "test": [
                          0.852032,
                          0.2480102642
                        ]
                      },
                      {
                        "learn": [
                          0.06302130563
                        ],
                        "iteration": 339,
                        "passed_time": 71.43375171,
                        "remaining_time": 138.665518,
                        "test": [
                          0.852288,
                          0.247947711
                        ]
                      },
                      {
                        "learn": [
                          0.06275681632
                        ],
                        "iteration": 340,
                        "passed_time": 71.59602391,
                        "remaining_time": 138.3629905,
                        "test": [
                          0.8522026667,
                          0.2482387262
                        ]
                      },
                      {
                        "learn": [
                          0.06266828809
                        ],
                        "iteration": 341,
                        "passed_time": 71.75479297,
                        "remaining_time": 138.0545432,
                        "test": [
                          0.852288,
                          0.2482403573
                        ]
                      },
                      {
                        "learn": [
                          0.06239068713
                        ],
                        "iteration": 342,
                        "passed_time": 71.92125188,
                        "remaining_time": 137.7616982,
                        "test": [
                          0.8524373333,
                          0.24814002
                        ]
                      },
                      {
                        "learn": [
                          0.06215057373
                        ],
                        "iteration": 343,
                        "passed_time": 72.0993542,
                        "remaining_time": 137.4917917,
                        "test": [
                          0.8528,
                          0.2479376351
                        ]
                      },
                      {
                        "learn": [
                          0.06208152771
                        ],
                        "iteration": 344,
                        "passed_time": 72.25485339,
                        "remaining_time": 137.1795043,
                        "test": [
                          0.8527786667,
                          0.2479977721
                        ]
                      },
                      {
                        "learn": [
                          0.06171058655
                        ],
                        "iteration": 345,
                        "passed_time": 72.41221216,
                        "remaining_time": 136.871638,
                        "test": [
                          0.852992,
                          0.247859223
                        ]
                      },
                      {
                        "learn": [
                          0.06139523097
                        ],
                        "iteration": 346,
                        "passed_time": 72.57165355,
                        "remaining_time": 136.5685584,
                        "test": [
                          0.8531626667,
                          0.2478392631
                        ]
                      },
                      {
                        "learn": [
                          0.06103918348
                        ],
                        "iteration": 347,
                        "passed_time": 72.73056992,
                        "remaining_time": 136.2653207,
                        "test": [
                          0.853376,
                          0.2478491729
                        ]
                      },
                      {
                        "learn": [
                          0.06076783861
                        ],
                        "iteration": 348,
                        "passed_time": 72.89832796,
                        "remaining_time": 135.9794026,
                        "test": [
                          0.8530986667,
                          0.2480688612
                        ]
                      },
                      {
                        "learn": [
                          0.06062399728
                        ],
                        "iteration": 349,
                        "passed_time": 73.06727583,
                        "remaining_time": 135.6963694,
                        "test": [
                          0.8532693333,
                          0.2480699508
                        ]
                      },
                      {
                        "learn": [
                          0.06051596505
                        ],
                        "iteration": 350,
                        "passed_time": 73.23392517,
                        "remaining_time": 135.4097363,
                        "test": [
                          0.852992,
                          0.2480400735
                        ]
                      },
                      {
                        "learn": [
                          0.06031473977
                        ],
                        "iteration": 351,
                        "passed_time": 73.39323818,
                        "remaining_time": 135.1102794,
                        "test": [
                          0.8530986667,
                          0.2480750939
                        ]
                      },
                      {
                        "learn": [
                          0.06018723079
                        ],
                        "iteration": 352,
                        "passed_time": 73.54806415,
                        "remaining_time": 134.8033924,
                        "test": [
                          0.852928,
                          0.2482294058
                        ]
                      },
                      {
                        "learn": [
                          0.06000059945
                        ],
                        "iteration": 353,
                        "passed_time": 73.70236587,
                        "remaining_time": 134.4964078,
                        "test": [
                          0.8527146667,
                          0.2483378022
                        ]
                      },
                      {
                        "learn": [
                          0.05956073216
                        ],
                        "iteration": 354,
                        "passed_time": 73.87450689,
                        "remaining_time": 134.2226956,
                        "test": [
                          0.8528,
                          0.2483889449
                        ]
                      },
                      {
                        "learn": [
                          0.05941676549
                        ],
                        "iteration": 355,
                        "passed_time": 74.03070657,
                        "remaining_time": 133.9207164,
                        "test": [
                          0.8525226667,
                          0.2484664811
                        ]
                      },
                      {
                        "learn": [
                          0.05917770386
                        ],
                        "iteration": 356,
                        "passed_time": 74.21752205,
                        "remaining_time": 133.6746966,
                        "test": [
                          0.8523306667,
                          0.2485764277
                        ]
                      },
                      {
                        "learn": [
                          0.05889546531
                        ],
                        "iteration": 357,
                        "passed_time": 74.37202877,
                        "remaining_time": 133.3710684,
                        "test": [
                          0.8523093333,
                          0.2487788527
                        ]
                      },
                      {
                        "learn": [
                          0.05861421858
                        ],
                        "iteration": 358,
                        "passed_time": 74.53290953,
                        "remaining_time": 133.0796518,
                        "test": [
                          0.8526293333,
                          0.2487908336
                        ]
                      },
                      {
                        "learn": [
                          0.05833762578
                        ],
                        "iteration": 359,
                        "passed_time": 74.69415044,
                        "remaining_time": 132.7896008,
                        "test": [
                          0.8530346667,
                          0.2488705707
                        ]
                      },
                      {
                        "learn": [
                          0.05819244385
                        ],
                        "iteration": 360,
                        "passed_time": 74.85492555,
                        "remaining_time": 132.4994389,
                        "test": [
                          0.8526506667,
                          0.2489319323
                        ]
                      },
                      {
                        "learn": [
                          0.05792946952
                        ],
                        "iteration": 361,
                        "passed_time": 75.02930736,
                        "remaining_time": 132.2339726,
                        "test": [
                          0.8529066667,
                          0.2488141702
                        ]
                      },
                      {
                        "learn": [
                          0.05765293121
                        ],
                        "iteration": 362,
                        "passed_time": 75.21350918,
                        "remaining_time": 131.9862406,
                        "test": [
                          0.8530986667,
                          0.2488273441
                        ]
                      },
                      {
                        "learn": [
                          0.0573923002
                        ],
                        "iteration": 363,
                        "passed_time": 75.37559085,
                        "remaining_time": 131.7002082,
                        "test": [
                          0.85312,
                          0.2489081995
                        ]
                      },
                      {
                        "learn": [
                          0.0570917184
                        ],
                        "iteration": 364,
                        "passed_time": 75.53180579,
                        "remaining_time": 131.4046484,
                        "test": [
                          0.853248,
                          0.2487199259
                        ]
                      },
                      {
                        "learn": [
                          0.05682195391
                        ],
                        "iteration": 365,
                        "passed_time": 75.6911861,
                        "remaining_time": 131.1153333,
                        "test": [
                          0.852992,
                          0.2488798088
                        ]
                      },
                      {
                        "learn": [
                          0.05661900112
                        ],
                        "iteration": 366,
                        "passed_time": 75.84905851,
                        "remaining_time": 130.8241254,
                        "test": [
                          0.852544,
                          0.2490125758
                        ]
                      },
                      {
                        "learn": [
                          0.05649211339
                        ],
                        "iteration": 367,
                        "passed_time": 76.01993868,
                        "remaining_time": 130.5559817,
                        "test": [
                          0.8525866667,
                          0.2490070816
                        ]
                      },
                      {
                        "learn": [
                          0.05636061532
                        ],
                        "iteration": 368,
                        "passed_time": 76.203501,
                        "remaining_time": 130.3100518,
                        "test": [
                          0.8524373333,
                          0.249060089
                        ]
                      },
                      {
                        "learn": [
                          0.05623311724
                        ],
                        "iteration": 369,
                        "passed_time": 76.35925493,
                        "remaining_time": 130.0171097,
                        "test": [
                          0.852672,
                          0.249066142
                        ]
                      },
                      {
                        "learn": [
                          0.05601448059
                        ],
                        "iteration": 370,
                        "passed_time": 76.51178043,
                        "remaining_time": 129.7194337,
                        "test": [
                          0.8529066667,
                          0.2491295727
                        ]
                      },
                      {
                        "learn": [
                          0.0557724762
                        ],
                        "iteration": 371,
                        "passed_time": 76.66542191,
                        "remaining_time": 129.4244219,
                        "test": [
                          0.8530346667,
                          0.2491353929
                        ]
                      },
                      {
                        "learn": [
                          0.05551164355
                        ],
                        "iteration": 372,
                        "passed_time": 76.82885035,
                        "remaining_time": 129.1466197,
                        "test": [
                          0.852992,
                          0.2493176551
                        ]
                      },
                      {
                        "learn": [
                          0.05532953535
                        ],
                        "iteration": 373,
                        "passed_time": 77.00342158,
                        "remaining_time": 128.88808,
                        "test": [
                          0.853056,
                          0.2491443249
                        ]
                      },
                      {
                        "learn": [
                          0.05511803218
                        ],
                        "iteration": 374,
                        "passed_time": 77.17652802,
                        "remaining_time": 128.6275467,
                        "test": [
                          0.853376,
                          0.249044822
                        ]
                      },
                      {
                        "learn": [
                          0.05482438769
                        ],
                        "iteration": 375,
                        "passed_time": 77.34136938,
                        "remaining_time": 128.353762,
                        "test": [
                          0.8534826667,
                          0.2492681754
                        ]
                      },
                      {
                        "learn": [
                          0.05460246495
                        ],
                        "iteration": 376,
                        "passed_time": 77.49861772,
                        "remaining_time": 128.0680075,
                        "test": [
                          0.8535253333,
                          0.2494673817
                        ]
                      },
                      {
                        "learn": [
                          0.05454863957
                        ],
                        "iteration": 377,
                        "passed_time": 77.6503386,
                        "remaining_time": 127.7738376,
                        "test": [
                          0.853568,
                          0.2494879002
                        ]
                      },
                      {
                        "learn": [
                          0.05442768642
                        ],
                        "iteration": 378,
                        "passed_time": 77.80998581,
                        "remaining_time": 127.4934068,
                        "test": [
                          0.853504,
                          0.2494569004
                        ]
                      },
                      {
                        "learn": [
                          0.0543346514
                        ],
                        "iteration": 379,
                        "passed_time": 77.96897165,
                        "remaining_time": 127.2125327,
                        "test": [
                          0.8531413333,
                          0.2496582393
                        ]
                      },
                      {
                        "learn": [
                          0.05420442309
                        ],
                        "iteration": 380,
                        "passed_time": 78.13092282,
                        "remaining_time": 126.9371161,
                        "test": [
                          0.8533546667,
                          0.2496663062
                        ]
                      },
                      {
                        "learn": [
                          0.05405081068
                        ],
                        "iteration": 381,
                        "passed_time": 78.31270534,
                        "remaining_time": 126.6943767,
                        "test": [
                          0.8532693333,
                          0.2497431444
                        ]
                      },
                      {
                        "learn": [
                          0.05369818006
                        ],
                        "iteration": 382,
                        "passed_time": 78.47071878,
                        "remaining_time": 126.4136645,
                        "test": [
                          0.853504,
                          0.2497446407
                        ]
                      },
                      {
                        "learn": [
                          0.05345752716
                        ],
                        "iteration": 383,
                        "passed_time": 78.62675846,
                        "remaining_time": 126.130425,
                        "test": [
                          0.8534186667,
                          0.2497585375
                        ]
                      },
                      {
                        "learn": [
                          0.05316472735
                        ],
                        "iteration": 384,
                        "passed_time": 78.7874489,
                        "remaining_time": 125.8552755,
                        "test": [
                          0.8535466667,
                          0.2496836125
                        ]
                      },
                      {
                        "learn": [
                          0.05300451006
                        ],
                        "iteration": 385,
                        "passed_time": 78.95114562,
                        "remaining_time": 125.5855011,
                        "test": [
                          0.85312,
                          0.2498690379
                        ]
                      },
                      {
                        "learn": [
                          0.05284739903
                        ],
                        "iteration": 386,
                        "passed_time": 79.11957915,
                        "remaining_time": 125.3237778,
                        "test": [
                          0.8529706667,
                          0.2499279575
                        ]
                      },
                      {
                        "learn": [
                          0.05276494707
                        ],
                        "iteration": 387,
                        "passed_time": 79.30458297,
                        "remaining_time": 125.0886721,
                        "test": [
                          0.8530773333,
                          0.2499268439
                        ]
                      },
                      {
                        "learn": [
                          0.05254725865
                        ],
                        "iteration": 388,
                        "passed_time": 79.51036521,
                        "remaining_time": 124.8864605,
                        "test": [
                          0.8529706667,
                          0.2501162663
                        ]
                      },
                      {
                        "learn": [
                          0.05241359711
                        ],
                        "iteration": 389,
                        "passed_time": 79.80140728,
                        "remaining_time": 124.8175858,
                        "test": [
                          0.8530773333,
                          0.2501086685
                        ]
                      },
                      {
                        "learn": [
                          0.05228436606
                        ],
                        "iteration": 390,
                        "passed_time": 80.10488275,
                        "remaining_time": 124.7669401,
                        "test": [
                          0.853312,
                          0.2501537044
                        ]
                      },
                      {
                        "learn": [
                          0.05190048218
                        ],
                        "iteration": 391,
                        "passed_time": 80.40336199,
                        "remaining_time": 124.7072553,
                        "test": [
                          0.8537173333,
                          0.2500562966
                        ]
                      },
                      {
                        "learn": [
                          0.05162148612
                        ],
                        "iteration": 392,
                        "passed_time": 80.70752401,
                        "remaining_time": 124.6551325,
                        "test": [
                          0.853504,
                          0.2501900616
                        ]
                      },
                      {
                        "learn": [
                          0.05150720869
                        ],
                        "iteration": 393,
                        "passed_time": 81.00132695,
                        "remaining_time": 124.5857973,
                        "test": [
                          0.85344,
                          0.2501364068
                        ]
                      },
                      {
                        "learn": [
                          0.05126534598
                        ],
                        "iteration": 394,
                        "passed_time": 81.31052482,
                        "remaining_time": 124.5389051,
                        "test": [
                          0.8537173333,
                          0.2500644419
                        ]
                      },
                      {
                        "learn": [
                          0.05114439828
                        ],
                        "iteration": 395,
                        "passed_time": 81.63899531,
                        "remaining_time": 124.5200838,
                        "test": [
                          0.854016,
                          0.2501503911
                        ]
                      },
                      {
                        "learn": [
                          0.05097091675
                        ],
                        "iteration": 396,
                        "passed_time": 81.93829816,
                        "remaining_time": 124.4554,
                        "test": [
                          0.8538666667,
                          0.2501956079
                        ]
                      },
                      {
                        "learn": [
                          0.0505928203
                        ],
                        "iteration": 397,
                        "passed_time": 82.22972737,
                        "remaining_time": 124.3776278,
                        "test": [
                          0.853952,
                          0.2501802495
                        ]
                      },
                      {
                        "learn": [
                          0.05046254294
                        ],
                        "iteration": 398,
                        "passed_time": 82.55140399,
                        "remaining_time": 124.3443454,
                        "test": [
                          0.853952,
                          0.250245201
                        ]
                      },
                      {
                        "learn": [
                          0.05031860352
                        ],
                        "iteration": 399,
                        "passed_time": 82.84845554,
                        "remaining_time": 124.2726833,
                        "test": [
                          0.8537173333,
                          0.2504553902
                        ]
                      },
                      {
                        "learn": [
                          0.05022009168
                        ],
                        "iteration": 400,
                        "passed_time": 83.14701492,
                        "remaining_time": 124.2021495,
                        "test": [
                          0.8537173333,
                          0.250553313
                        ]
                      },
                      {
                        "learn": [
                          0.04996275766
                        ],
                        "iteration": 401,
                        "passed_time": 83.45158108,
                        "remaining_time": 124.1394166,
                        "test": [
                          0.8537813333,
                          0.2507237921
                        ]
                      },
                      {
                        "learn": [
                          0.04970835549
                        ],
                        "iteration": 402,
                        "passed_time": 83.79263328,
                        "remaining_time": 124.1295337,
                        "test": [
                          0.8541013333,
                          0.2504725498
                        ]
                      },
                      {
                        "learn": [
                          0.0495841435
                        ],
                        "iteration": 403,
                        "passed_time": 84.09129252,
                        "remaining_time": 124.0554711,
                        "test": [
                          0.85408,
                          0.2505247306
                        ]
                      },
                      {
                        "learn": [
                          0.04945460183
                        ],
                        "iteration": 404,
                        "passed_time": 84.39695445,
                        "remaining_time": 123.9905874,
                        "test": [
                          0.8539946667,
                          0.2506871352
                        ]
                      },
                      {
                        "learn": [
                          0.04941286904
                        ],
                        "iteration": 405,
                        "passed_time": 84.68868407,
                        "remaining_time": 123.9041338,
                        "test": [
                          0.853952,
                          0.2507296138
                        ]
                      },
                      {
                        "learn": [
                          0.04926476615
                        ],
                        "iteration": 406,
                        "passed_time": 84.84576227,
                        "remaining_time": 123.6204841,
                        "test": [
                          0.8538666667,
                          0.2508438104
                        ]
                      },
                      {
                        "learn": [
                          0.04905506679
                        ],
                        "iteration": 407,
                        "passed_time": 85.01114792,
                        "remaining_time": 123.3495087,
                        "test": [
                          0.853888,
                          0.2508626256
                        ]
                      },
                      {
                        "learn": [
                          0.04893239158
                        ],
                        "iteration": 408,
                        "passed_time": 85.16811888,
                        "remaining_time": 123.0668906,
                        "test": [
                          0.8537173333,
                          0.2509065823
                        ]
                      },
                      {
                        "learn": [
                          0.04870261056
                        ],
                        "iteration": 409,
                        "passed_time": 85.33502172,
                        "remaining_time": 122.7991776,
                        "test": [
                          0.8544213333,
                          0.2507058522
                        ]
                      },
                      {
                        "learn": [
                          0.04851922171
                        ],
                        "iteration": 410,
                        "passed_time": 85.4923072,
                        "remaining_time": 122.5181726,
                        "test": [
                          0.8545066667,
                          0.2508216198
                        ]
                      },
                      {
                        "learn": [
                          0.04835512434
                        ],
                        "iteration": 411,
                        "passed_time": 85.67729829,
                        "remaining_time": 122.2773092,
                        "test": [
                          0.8546346667,
                          0.2507619215
                        ]
                      },
                      {
                        "learn": [
                          0.04818517412
                        ],
                        "iteration": 412,
                        "passed_time": 85.83113632,
                        "remaining_time": 121.9924383,
                        "test": [
                          0.8548906667,
                          0.2509232842
                        ]
                      },
                      {
                        "learn": [
                          0.04797281538
                        ],
                        "iteration": 413,
                        "passed_time": 85.99381343,
                        "remaining_time": 121.7207118,
                        "test": [
                          0.8547626667,
                          0.2508160793
                        ]
                      },
                      {
                        "learn": [
                          0.04779727391
                        ],
                        "iteration": 414,
                        "passed_time": 86.15351804,
                        "remaining_time": 121.4453206,
                        "test": [
                          0.854848,
                          0.2509552429
                        ]
                      },
                      {
                        "learn": [
                          0.04766122001
                        ],
                        "iteration": 415,
                        "passed_time": 86.31160885,
                        "remaining_time": 121.1682201,
                        "test": [
                          0.8546986667,
                          0.2510199727
                        ]
                      },
                      {
                        "learn": [
                          0.04745007106
                        ],
                        "iteration": 416,
                        "passed_time": 86.47488707,
                        "remaining_time": 120.8989428,
                        "test": [
                          0.8548053333,
                          0.2512464209
                        ]
                      },
                      {
                        "learn": [
                          0.04720893315
                        ],
                        "iteration": 417,
                        "passed_time": 86.62976183,
                        "remaining_time": 120.6184722,
                        "test": [
                          0.8549333333,
                          0.2513934479
                        ]
                      },
                      {
                        "learn": [
                          0.04708066668
                        ],
                        "iteration": 418,
                        "passed_time": 86.81748481,
                        "remaining_time": 120.3841496,
                        "test": [
                          0.85504,
                          0.2512825088
                        ]
                      },
                      {
                        "learn": [
                          0.04686949594
                        ],
                        "iteration": 419,
                        "passed_time": 86.97826302,
                        "remaining_time": 120.1128394,
                        "test": [
                          0.8550826667,
                          0.251151395
                        ]
                      },
                      {
                        "learn": [
                          0.04655574254
                        ],
                        "iteration": 420,
                        "passed_time": 87.13961172,
                        "remaining_time": 119.8428389,
                        "test": [
                          0.8555733333,
                          0.2512545814
                        ]
                      },
                      {
                        "learn": [
                          0.04634245736
                        ],
                        "iteration": 421,
                        "passed_time": 87.2975075,
                        "remaining_time": 119.568624,
                        "test": [
                          0.8560426667,
                          0.2512893889
                        ]
                      },
                      {
                        "learn": [
                          0.04622083936
                        ],
                        "iteration": 422,
                        "passed_time": 87.46560161,
                        "remaining_time": 119.3088703,
                        "test": [
                          0.855936,
                          0.2513071305
                        ]
                      },
                      {
                        "learn": [
                          0.0461404201
                        ],
                        "iteration": 423,
                        "passed_time": 87.61989068,
                        "remaining_time": 119.0307949,
                        "test": [
                          0.8559146667,
                          0.2513569433
                        ]
                      },
                      {
                        "learn": [
                          0.04589673723
                        ],
                        "iteration": 424,
                        "passed_time": 87.80618284,
                        "remaining_time": 118.7966003,
                        "test": [
                          0.8558933333,
                          0.251432215
                        ]
                      },
                      {
                        "learn": [
                          0.04565627507
                        ],
                        "iteration": 425,
                        "passed_time": 87.96688793,
                        "remaining_time": 118.5281542,
                        "test": [
                          0.8556586667,
                          0.2515025979
                        ]
                      },
                      {
                        "learn": [
                          0.04549509321
                        ],
                        "iteration": 426,
                        "passed_time": 88.12994338,
                        "remaining_time": 118.2633666,
                        "test": [
                          0.855104,
                          0.251757691
                        ]
                      },
                      {
                        "learn": [
                          0.0453616115
                        ],
                        "iteration": 427,
                        "passed_time": 88.28747794,
                        "remaining_time": 117.9916761,
                        "test": [
                          0.85536,
                          0.251696378
                        ]
                      },
                      {
                        "learn": [
                          0.04532034193
                        ],
                        "iteration": 428,
                        "passed_time": 88.45072411,
                        "remaining_time": 117.72812,
                        "test": [
                          0.8553386667,
                          0.2517357026
                        ]
                      },
                      {
                        "learn": [
                          0.04521531241
                        ],
                        "iteration": 429,
                        "passed_time": 88.60867013,
                        "remaining_time": 117.4580046,
                        "test": [
                          0.855488,
                          0.251795623
                        ]
                      },
                      {
                        "learn": [
                          0.04504269736
                        ],
                        "iteration": 430,
                        "passed_time": 88.79238722,
                        "remaining_time": 117.2224323,
                        "test": [
                          0.8557013333,
                          0.2517352264
                        ]
                      },
                      {
                        "learn": [
                          0.04479905265
                        ],
                        "iteration": 431,
                        "passed_time": 88.95133232,
                        "remaining_time": 116.9545295,
                        "test": [
                          0.855744,
                          0.2516290937
                        ]
                      },
                      {
                        "learn": [
                          0.044665105
                        ],
                        "iteration": 432,
                        "passed_time": 89.11396499,
                        "remaining_time": 116.6919588,
                        "test": [
                          0.8559573333,
                          0.2515495609
                        ]
                      },
                      {
                        "learn": [
                          0.04443976266
                        ],
                        "iteration": 433,
                        "passed_time": 89.26941904,
                        "remaining_time": 116.4204866,
                        "test": [
                          0.8561706667,
                          0.2513434996
                        ]
                      },
                      {
                        "learn": [
                          0.04426683698
                        ],
                        "iteration": 434,
                        "passed_time": 89.4335095,
                        "remaining_time": 116.1607652,
                        "test": [
                          0.8562773333,
                          0.2512767723
                        ]
                      },
                      {
                        "learn": [
                          0.04410480499
                        ],
                        "iteration": 435,
                        "passed_time": 89.5932775,
                        "remaining_time": 115.8958911,
                        "test": [
                          0.8561066667,
                          0.2512978628
                        ]
                      },
                      {
                        "learn": [
                          0.04398514884
                        ],
                        "iteration": 436,
                        "passed_time": 89.78658752,
                        "remaining_time": 115.6747112,
                        "test": [
                          0.8562133333,
                          0.2514498364
                        ]
                      },
                      {
                        "learn": [
                          0.04369034631
                        ],
                        "iteration": 437,
                        "passed_time": 89.95061517,
                        "remaining_time": 115.4160861,
                        "test": [
                          0.8564053333,
                          0.2514356354
                        ]
                      },
                      {
                        "learn": [
                          0.04363532475
                        ],
                        "iteration": 438,
                        "passed_time": 90.11047983,
                        "remaining_time": 115.1525722,
                        "test": [
                          0.8562773333,
                          0.2515180771
                        ]
                      },
                      {
                        "learn": [
                          0.04349610737
                        ],
                        "iteration": 439,
                        "passed_time": 90.26861817,
                        "remaining_time": 114.8873322,
                        "test": [
                          0.8565333333,
                          0.2514169442
                        ]
                      },
                      {
                        "learn": [
                          0.04324476242
                        ],
                        "iteration": 440,
                        "passed_time": 90.44065698,
                        "remaining_time": 114.6401978,
                        "test": [
                          0.8562986667,
                          0.2515259941
                        ]
                      },
                      {
                        "learn": [
                          0.04293960299
                        ],
                        "iteration": 441,
                        "passed_time": 90.60254053,
                        "remaining_time": 114.3805828,
                        "test": [
                          0.8564053333,
                          0.2514192239
                        ]
                      },
                      {
                        "learn": [
                          0.04282852718
                        ],
                        "iteration": 442,
                        "passed_time": 90.75589298,
                        "remaining_time": 114.1106826,
                        "test": [
                          0.8562773333,
                          0.2515805549
                        ]
                      },
                      {
                        "learn": [
                          0.04260598591
                        ],
                        "iteration": 443,
                        "passed_time": 90.94166793,
                        "remaining_time": 113.8819085,
                        "test": [
                          0.8561066667,
                          0.2517196888
                        ]
                      },
                      {
                        "learn": [
                          0.04252337864
                        ],
                        "iteration": 444,
                        "passed_time": 91.09825493,
                        "remaining_time": 113.6169247,
                        "test": [
                          0.8561066667,
                          0.2517184406
                        ]
                      },
                      {
                        "learn": [
                          0.04244181497
                        ],
                        "iteration": 445,
                        "passed_time": 91.25417565,
                        "remaining_time": 113.3515994,
                        "test": [
                          0.8561066667,
                          0.2517598353
                        ]
                      },
                      {
                        "learn": [
                          0.04223791667
                        ],
                        "iteration": 446,
                        "passed_time": 91.41242911,
                        "remaining_time": 113.0896494,
                        "test": [
                          0.8560853333,
                          0.2518957457
                        ]
                      },
                      {
                        "learn": [
                          0.04208575112
                        ],
                        "iteration": 447,
                        "passed_time": 91.58002729,
                        "remaining_time": 112.8396765,
                        "test": [
                          0.85632,
                          0.2518813955
                        ]
                      },
                      {
                        "learn": [
                          0.04205372402
                        ],
                        "iteration": 448,
                        "passed_time": 91.73385923,
                        "remaining_time": 112.5731769,
                        "test": [
                          0.8562346667,
                          0.2519252921
                        ]
                      },
                      {
                        "learn": [
                          0.041925463
                        ],
                        "iteration": 449,
                        "passed_time": 91.91591861,
                        "remaining_time": 112.3416783,
                        "test": [
                          0.855936,
                          0.2521373152
                        ]
                      },
                      {
                        "learn": [
                          0.04178649357
                        ],
                        "iteration": 450,
                        "passed_time": 92.07479988,
                        "remaining_time": 112.0821843,
                        "test": [
                          0.855744,
                          0.2521516187
                        ]
                      },
                      {
                        "learn": [
                          0.04174978529
                        ],
                        "iteration": 451,
                        "passed_time": 92.23405445,
                        "remaining_time": 111.8235881,
                        "test": [
                          0.85568,
                          0.2521803384
                        ]
                      },
                      {
                        "learn": [
                          0.04155352729
                        ],
                        "iteration": 452,
                        "passed_time": 92.39260855,
                        "remaining_time": 111.5645847,
                        "test": [
                          0.8557226667,
                          0.2523368979
                        ]
                      },
                      {
                        "learn": [
                          0.04134434291
                        ],
                        "iteration": 453,
                        "passed_time": 92.56456101,
                        "remaining_time": 111.3221372,
                        "test": [
                          0.8557013333,
                          0.2523254631
                        ]
                      },
                      {
                        "learn": [
                          0.04124035427
                        ],
                        "iteration": 454,
                        "passed_time": 92.72526649,
                        "remaining_time": 111.066528,
                        "test": [
                          0.8558506667,
                          0.2522931633
                        ]
                      },
                      {
                        "learn": [
                          0.041203725
                        ],
                        "iteration": 455,
                        "passed_time": 92.90047447,
                        "remaining_time": 110.8286362,
                        "test": [
                          0.8557226667,
                          0.2523655148
                        ]
                      },
                      {
                        "learn": [
                          0.04109020778
                        ],
                        "iteration": 456,
                        "passed_time": 93.06903848,
                        "remaining_time": 110.5831245,
                        "test": [
                          0.8557653333,
                          0.2524706107
                        ]
                      },
                      {
                        "learn": [
                          0.04084727968
                        ],
                        "iteration": 457,
                        "passed_time": 93.22576504,
                        "remaining_time": 110.3239403,
                        "test": [
                          0.8558933333,
                          0.252305861
                        ]
                      },
                      {
                        "learn": [
                          0.0406275395
                        ],
                        "iteration": 458,
                        "passed_time": 93.38199623,
                        "remaining_time": 110.0646186,
                        "test": [
                          0.8559786667,
                          0.2526539229
                        ]
                      },
                      {
                        "learn": [
                          0.04051925114
                        ],
                        "iteration": 459,
                        "passed_time": 93.54961874,
                        "remaining_time": 109.8191177,
                        "test": [
                          0.8562346667,
                          0.2526994343
                        ]
                      },
                      {
                        "learn": [
                          0.04042956216
                        ],
                        "iteration": 460,
                        "passed_time": 93.71402314,
                        "remaining_time": 109.5701919,
                        "test": [
                          0.8558933333,
                          0.2528202393
                        ]
                      },
                      {
                        "learn": [
                          0.04022794451
                        ],
                        "iteration": 461,
                        "passed_time": 93.87950077,
                        "remaining_time": 109.3228818,
                        "test": [
                          0.8562773333,
                          0.2527410561
                        ]
                      },
                      {
                        "learn": [
                          0.04009104048
                        ],
                        "iteration": 462,
                        "passed_time": 94.07801829,
                        "remaining_time": 109.1142458,
                        "test": [
                          0.85664,
                          0.2526155807
                        ]
                      },
                      {
                        "learn": [
                          0.03997379848
                        ],
                        "iteration": 463,
                        "passed_time": 94.23674754,
                        "remaining_time": 108.8596911,
                        "test": [
                          0.856576,
                          0.2527005451
                        ]
                      },
                      {
                        "learn": [
                          0.03978205817
                        ],
                        "iteration": 464,
                        "passed_time": 94.39400894,
                        "remaining_time": 108.6038597,
                        "test": [
                          0.856384,
                          0.2527401397
                        ]
                      },
                      {
                        "learn": [
                          0.03970214844
                        ],
                        "iteration": 465,
                        "passed_time": 94.56061481,
                        "remaining_time": 108.3591595,
                        "test": [
                          0.8564266667,
                          0.2527796012
                        ]
                      },
                      {
                        "learn": [
                          0.03954059328
                        ],
                        "iteration": 466,
                        "passed_time": 94.74462725,
                        "remaining_time": 108.1346602,
                        "test": [
                          0.8562133333,
                          0.2530316655
                        ]
                      },
                      {
                        "learn": [
                          0.03942244938
                        ],
                        "iteration": 467,
                        "passed_time": 95.04345102,
                        "remaining_time": 108.040846,
                        "test": [
                          0.856256,
                          0.2531039738
                        ]
                      },
                      {
                        "learn": [
                          0.03930855342
                        ],
                        "iteration": 468,
                        "passed_time": 95.3387104,
                        "remaining_time": 107.942122,
                        "test": [
                          0.8561493333,
                          0.2531570184
                        ]
                      },
                      {
                        "learn": [
                          0.03926971708
                        ],
                        "iteration": 469,
                        "passed_time": 95.62750378,
                        "remaining_time": 107.8352702,
                        "test": [
                          0.85632,
                          0.2531483418
                        ]
                      },
                      {
                        "learn": [
                          0.03914466858
                        ],
                        "iteration": 470,
                        "passed_time": 95.93692276,
                        "remaining_time": 107.7508113,
                        "test": [
                          0.8564266667,
                          0.2531204798
                        ]
                      },
                      {
                        "learn": [
                          0.03896010535
                        ],
                        "iteration": 471,
                        "passed_time": 96.25476312,
                        "remaining_time": 107.6748198,
                        "test": [
                          0.856256,
                          0.2532338333
                        ]
                      },
                      {
                        "learn": [
                          0.03890465873
                        ],
                        "iteration": 472,
                        "passed_time": 96.56339618,
                        "remaining_time": 107.5875471,
                        "test": [
                          0.8564053333,
                          0.2532762717
                        ]
                      },
                      {
                        "learn": [
                          0.03878099714
                        ],
                        "iteration": 473,
                        "passed_time": 96.863857,
                        "remaining_time": 107.4902717,
                        "test": [
                          0.856448,
                          0.2533103515
                        ]
                      },
                      {
                        "learn": [
                          0.03866315842
                        ],
                        "iteration": 474,
                        "passed_time": 97.20855126,
                        "remaining_time": 107.4410303,
                        "test": [
                          0.8566613333,
                          0.2532549114
                        ]
                      },
                      {
                        "learn": [
                          0.0385042899
                        ],
                        "iteration": 475,
                        "passed_time": 97.51076408,
                        "remaining_time": 107.3437823,
                        "test": [
                          0.856576,
                          0.2533973281
                        ]
                      },
                      {
                        "learn": [
                          0.03838403974
                        ],
                        "iteration": 476,
                        "passed_time": 97.81131544,
                        "remaining_time": 107.2438532,
                        "test": [
                          0.8567253333,
                          0.2535562424
                        ]
                      },
                      {
                        "learn": [
                          0.03824813298
                        ],
                        "iteration": 477,
                        "passed_time": 98.113492,
                        "remaining_time": 107.1448595,
                        "test": [
                          0.856768,
                          0.2535752339
                        ]
                      },
                      {
                        "learn": [
                          0.03815935407
                        ],
                        "iteration": 478,
                        "passed_time": 98.43630028,
                        "remaining_time": 107.0674581,
                        "test": [
                          0.8568746667,
                          0.2534792294
                        ]
                      },
                      {
                        "learn": [
                          0.03805491039
                        ],
                        "iteration": 479,
                        "passed_time": 98.71912933,
                        "remaining_time": 106.9457234,
                        "test": [
                          0.8571306667,
                          0.2534310442
                        ]
                      },
                      {
                        "learn": [
                          0.03785718645
                        ],
                        "iteration": 480,
                        "passed_time": 99.03505509,
                        "remaining_time": 106.8590303,
                        "test": [
                          0.857024,
                          0.2536991744
                        ]
                      },
                      {
                        "learn": [
                          0.03783941814
                        ],
                        "iteration": 481,
                        "passed_time": 99.34085222,
                        "remaining_time": 106.7605009,
                        "test": [
                          0.857088,
                          0.2537199404
                        ]
                      },
                      {
                        "learn": [
                          0.0377948216
                        ],
                        "iteration": 482,
                        "passed_time": 99.66343569,
                        "remaining_time": 106.6790813,
                        "test": [
                          0.857024,
                          0.2537247389
                        ]
                      },
                      {
                        "learn": [
                          0.03767974581
                        ],
                        "iteration": 483,
                        "passed_time": 99.95868685,
                        "remaining_time": 106.5675256,
                        "test": [
                          0.857024,
                          0.2538908455
                        ]
                      },
                      {
                        "learn": [
                          0.03754778998
                        ],
                        "iteration": 484,
                        "passed_time": 100.2170335,
                        "remaining_time": 106.4160253,
                        "test": [
                          0.8569813333,
                          0.2538593085
                        ]
                      },
                      {
                        "learn": [
                          0.03741072518
                        ],
                        "iteration": 485,
                        "passed_time": 100.4103256,
                        "remaining_time": 106.1952826,
                        "test": [
                          0.857344,
                          0.2537509898
                        ]
                      },
                      {
                        "learn": [
                          0.03737265178
                        ],
                        "iteration": 486,
                        "passed_time": 100.5742307,
                        "remaining_time": 105.9436968,
                        "test": [
                          0.857344,
                          0.2537165787
                        ]
                      },
                      {
                        "learn": [
                          0.03730543409
                        ],
                        "iteration": 487,
                        "passed_time": 100.7325136,
                        "remaining_time": 105.6865717,
                        "test": [
                          0.8574293333,
                          0.2537583558
                        ]
                      },
                      {
                        "learn": [
                          0.03707308088
                        ],
                        "iteration": 488,
                        "passed_time": 100.9073875,
                        "remaining_time": 105.4471882,
                        "test": [
                          0.8571093333,
                          0.2539899529
                        ]
                      },
                      {
                        "learn": [
                          0.03682813917
                        ],
                        "iteration": 489,
                        "passed_time": 101.0722983,
                        "remaining_time": 105.1976982,
                        "test": [
                          0.8572586667,
                          0.2540499217
                        ]
                      },
                      {
                        "learn": [
                          0.03667812075
                        ],
                        "iteration": 490,
                        "passed_time": 101.231016,
                        "remaining_time": 104.9421326,
                        "test": [
                          0.8571946667,
                          0.2541062299
                        ]
                      },
                      {
                        "learn": [
                          0.03655776433
                        ],
                        "iteration": 491,
                        "passed_time": 101.4196439,
                        "remaining_time": 104.7178437,
                        "test": [
                          0.8572586667,
                          0.2540958446
                        ]
                      },
                      {
                        "learn": [
                          0.03651497432
                        ],
                        "iteration": 492,
                        "passed_time": 101.5789883,
                        "remaining_time": 104.4635843,
                        "test": [
                          0.8573013333,
                          0.2540600463
                        ]
                      },
                      {
                        "learn": [
                          0.03649360112
                        ],
                        "iteration": 493,
                        "passed_time": 101.7423252,
                        "remaining_time": 104.2137987,
                        "test": [
                          0.8573226667,
                          0.2540893427
                        ]
                      },
                      {
                        "learn": [
                          0.0364642007
                        ],
                        "iteration": 494,
                        "passed_time": 101.9089599,
                        "remaining_time": 103.9677268,
                        "test": [
                          0.8572373333,
                          0.2541614957
                        ]
                      },
                      {
                        "learn": [
                          0.03623208182
                        ],
                        "iteration": 495,
                        "passed_time": 102.0707696,
                        "remaining_time": 103.7170723,
                        "test": [
                          0.8574293333,
                          0.2540053917
                        ]
                      },
                      {
                        "learn": [
                          0.03618661608
                        ],
                        "iteration": 496,
                        "passed_time": 102.2315491,
                        "remaining_time": 103.4657328,
                        "test": [
                          0.8573866667,
                          0.2540855455
                        ]
                      },
                      {
                        "learn": [
                          0.03603608813
                        ],
                        "iteration": 497,
                        "passed_time": 102.4212821,
                        "remaining_time": 103.243943,
                        "test": [
                          0.8573013333,
                          0.2543467183
                        ]
                      },
                      {
                        "learn": [
                          0.03593406132
                        ],
                        "iteration": 498,
                        "passed_time": 102.5824448,
                        "remaining_time": 102.9935968,
                        "test": [
                          0.8573226667,
                          0.2544092883
                        ]
                      },
                      {
                        "learn": [
                          0.03584294455
                        ],
                        "iteration": 499,
                        "passed_time": 102.7501258,
                        "remaining_time": 102.7501258,
                        "test": [
                          0.857536,
                          0.2546108541
                        ]
                      },
                      {
                        "learn": [
                          0.03573576791
                        ],
                        "iteration": 500,
                        "passed_time": 102.9208238,
                        "remaining_time": 102.5099622,
                        "test": [
                          0.857728,
                          0.2544943256
                        ]
                      },
                      {
                        "learn": [
                          0.03560137068
                        ],
                        "iteration": 501,
                        "passed_time": 103.0800183,
                        "remaining_time": 102.2586636,
                        "test": [
                          0.857472,
                          0.2546319944
                        ]
                      },
                      {
                        "learn": [
                          0.03545531682
                        ],
                        "iteration": 502,
                        "passed_time": 103.2449346,
                        "remaining_time": 102.0133847,
                        "test": [
                          0.8574506667,
                          0.2549862955
                        ]
                      },
                      {
                        "learn": [
                          0.03533420018
                        ],
                        "iteration": 503,
                        "passed_time": 103.427331,
                        "remaining_time": 101.7856274,
                        "test": [
                          0.8576426667,
                          0.2548994878
                        ]
                      },
                      {
                        "learn": [
                          0.03530258724
                        ],
                        "iteration": 504,
                        "passed_time": 103.596923,
                        "remaining_time": 101.5454988,
                        "test": [
                          0.857728,
                          0.2549313101
                        ]
                      },
                      {
                        "learn": [
                          0.0351896831
                        ],
                        "iteration": 505,
                        "passed_time": 103.7581486,
                        "remaining_time": 101.297481,
                        "test": [
                          0.8578986667,
                          0.2549339388
                        ]
                      },
                      {
                        "learn": [
                          0.03509369714
                        ],
                        "iteration": 506,
                        "passed_time": 103.9354296,
                        "remaining_time": 101.0654177,
                        "test": [
                          0.8578773333,
                          0.2548903549
                        ]
                      },
                      {
                        "learn": [
                          0.03490978786
                        ],
                        "iteration": 507,
                        "passed_time": 104.0971607,
                        "remaining_time": 100.8185099,
                        "test": [
                          0.8576426667,
                          0.2549709759
                        ]
                      },
                      {
                        "learn": [
                          0.03479800088
                        ],
                        "iteration": 508,
                        "passed_time": 104.2578366,
                        "remaining_time": 100.570919,
                        "test": [
                          0.857728,
                          0.2548992742
                        ]
                      },
                      {
                        "learn": [
                          0.03466243199
                        ],
                        "iteration": 509,
                        "passed_time": 104.4331164,
                        "remaining_time": 100.3377,
                        "test": [
                          0.857728,
                          0.2549054065
                        ]
                      },
                      {
                        "learn": [
                          0.03459724426
                        ],
                        "iteration": 510,
                        "passed_time": 104.6043329,
                        "remaining_time": 100.1008195,
                        "test": [
                          0.857856,
                          0.2548940309
                        ]
                      },
                      {
                        "learn": [
                          0.03454077584
                        ],
                        "iteration": 511,
                        "passed_time": 104.7628428,
                        "remaining_time": 99.85208456,
                        "test": [
                          0.857664,
                          0.2549800252
                        ]
                      },
                      {
                        "learn": [
                          0.03439416068
                        ],
                        "iteration": 512,
                        "passed_time": 104.934751,
                        "remaining_time": 99.61642055,
                        "test": [
                          0.8575786667,
                          0.2550622664
                        ]
                      },
                      {
                        "learn": [
                          0.03418801444
                        ],
                        "iteration": 513,
                        "passed_time": 105.0988797,
                        "remaining_time": 99.37364892,
                        "test": [
                          0.8575786667,
                          0.2549371923
                        ]
                      },
                      {
                        "learn": [
                          0.03408683504
                        ],
                        "iteration": 514,
                        "passed_time": 105.2540811,
                        "remaining_time": 99.12277536,
                        "test": [
                          0.857664,
                          0.254981755
                        ]
                      },
                      {
                        "learn": [
                          0.0340221405
                        ],
                        "iteration": 515,
                        "passed_time": 105.4162389,
                        "remaining_time": 98.8787977,
                        "test": [
                          0.8576853333,
                          0.2550976392
                        ]
                      },
                      {
                        "learn": [
                          0.03382644108
                        ],
                        "iteration": 516,
                        "passed_time": 105.6089514,
                        "remaining_time": 98.66368184,
                        "test": [
                          0.8575146667,
                          0.2552178016
                        ]
                      },
                      {
                        "learn": [
                          0.03369624547
                        ],
                        "iteration": 517,
                        "passed_time": 105.7758447,
                        "remaining_time": 98.42462765,
                        "test": [
                          0.85728,
                          0.2554844815
                        ]
                      },
                      {
                        "learn": [
                          0.03360745021
                        ],
                        "iteration": 518,
                        "passed_time": 105.947048,
                        "remaining_time": 98.18984604,
                        "test": [
                          0.8572373333,
                          0.2555850078
                        ]
                      },
                      {
                        "learn": [
                          0.03346633366
                        ],
                        "iteration": 519,
                        "passed_time": 106.1073611,
                        "remaining_time": 97.94525636,
                        "test": [
                          0.857088,
                          0.2558378271
                        ]
                      },
                      {
                        "learn": [
                          0.0333306912
                        ],
                        "iteration": 520,
                        "passed_time": 106.2651028,
                        "remaining_time": 97.69862617,
                        "test": [
                          0.8571733333,
                          0.2558922166
                        ]
                      },
                      {
                        "learn": [
                          0.03330080305
                        ],
                        "iteration": 521,
                        "passed_time": 106.41755,
                        "remaining_time": 97.44748828,
                        "test": [
                          0.8571946667,
                          0.2559108145
                        ]
                      },
                      {
                        "learn": [
                          0.03314477376
                        ],
                        "iteration": 522,
                        "passed_time": 106.6168658,
                        "remaining_time": 97.23947416,
                        "test": [
                          0.8571733333,
                          0.2559080356
                        ]
                      },
                      {
                        "learn": [
                          0.03300920214
                        ],
                        "iteration": 523,
                        "passed_time": 106.7751618,
                        "remaining_time": 96.99423098,
                        "test": [
                          0.857344,
                          0.2559705012
                        ]
                      },
                      {
                        "learn": [
                          0.03296280452
                        ],
                        "iteration": 524,
                        "passed_time": 106.9360947,
                        "remaining_time": 96.75170474,
                        "test": [
                          0.85728,
                          0.2559970529
                        ]
                      },
                      {
                        "learn": [
                          0.03283759526
                        ],
                        "iteration": 525,
                        "passed_time": 107.1092741,
                        "remaining_time": 96.52052459,
                        "test": [
                          0.8576213333,
                          0.2560659016
                        ]
                      },
                      {
                        "learn": [
                          0.0327242715
                        ],
                        "iteration": 526,
                        "passed_time": 107.265593,
                        "remaining_time": 96.27443164,
                        "test": [
                          0.857728,
                          0.2561863565
                        ]
                      },
                      {
                        "learn": [
                          0.03262656621
                        ],
                        "iteration": 527,
                        "passed_time": 107.4260227,
                        "remaining_time": 96.03235363,
                        "test": [
                          0.8574933333,
                          0.256275085
                        ]
                      },
                      {
                        "learn": [
                          0.03251729148
                        ],
                        "iteration": 528,
                        "passed_time": 107.6230978,
                        "remaining_time": 95.82321181,
                        "test": [
                          0.8574293333,
                          0.2562955223
                        ]
                      },
                      {
                        "learn": [
                          0.0324036353
                        ],
                        "iteration": 529,
                        "passed_time": 107.7849871,
                        "remaining_time": 95.5829131,
                        "test": [
                          0.857344,
                          0.2563361598
                        ]
                      },
                      {
                        "learn": [
                          0.03222946167
                        ],
                        "iteration": 530,
                        "passed_time": 107.942942,
                        "remaining_time": 95.33943462,
                        "test": [
                          0.8573653333,
                          0.2564686361
                        ]
                      },
                      {
                        "learn": [
                          0.03212310791
                        ],
                        "iteration": 531,
                        "passed_time": 108.1299764,
                        "remaining_time": 95.12185895,
                        "test": [
                          0.8573866667,
                          0.2565604156
                        ]
                      },
                      {
                        "learn": [
                          0.03204645157
                        ],
                        "iteration": 532,
                        "passed_time": 108.2946559,
                        "remaining_time": 94.88481112,
                        "test": [
                          0.8574933333,
                          0.2565536152
                        ]
                      },
                      {
                        "learn": [
                          0.03199419294
                        ],
                        "iteration": 533,
                        "passed_time": 108.4629335,
                        "remaining_time": 94.65117421,
                        "test": [
                          0.857536,
                          0.2567205252
                        ]
                      },
                      {
                        "learn": [
                          0.0318856975
                        ],
                        "iteration": 534,
                        "passed_time": 108.658041,
                        "remaining_time": 94.44110102,
                        "test": [
                          0.857728,
                          0.2566733045
                        ]
                      },
                      {
                        "learn": [
                          0.03182142258
                        ],
                        "iteration": 535,
                        "passed_time": 108.8178251,
                        "remaining_time": 94.20050531,
                        "test": [
                          0.8576853333,
                          0.2566646099
                        ]
                      },
                      {
                        "learn": [
                          0.03176839284
                        ],
                        "iteration": 536,
                        "passed_time": 108.9745007,
                        "remaining_time": 93.95753042,
                        "test": [
                          0.8576,
                          0.2566741029
                        ]
                      },
                      {
                        "learn": [
                          0.03167567662
                        ],
                        "iteration": 537,
                        "passed_time": 109.1450293,
                        "remaining_time": 93.72677236,
                        "test": [
                          0.8576426667,
                          0.256761437
                        ]
                      },
                      {
                        "learn": [
                          0.0315899195
                        ],
                        "iteration": 538,
                        "passed_time": 109.3013752,
                        "remaining_time": 93.48410756,
                        "test": [
                          0.857792,
                          0.2567677903
                        ]
                      },
                      {
                        "learn": [
                          0.03152036122
                        ],
                        "iteration": 539,
                        "passed_time": 109.4540164,
                        "remaining_time": 93.23860653,
                        "test": [
                          0.857984,
                          0.256744762
                        ]
                      },
                      {
                        "learn": [
                          0.03150120871
                        ],
                        "iteration": 540,
                        "passed_time": 109.6275945,
                        "remaining_time": 93.01121232,
                        "test": [
                          0.8580053333,
                          0.256788655
                        ]
                      },
                      {
                        "learn": [
                          0.03142154694
                        ],
                        "iteration": 541,
                        "passed_time": 109.821429,
                        "remaining_time": 92.80113377,
                        "test": [
                          0.8578773333,
                          0.2569689102
                        ]
                      },
                      {
                        "learn": [
                          0.0312688446
                        ],
                        "iteration": 542,
                        "passed_time": 109.9856833,
                        "remaining_time": 92.56621962,
                        "test": [
                          0.8578346667,
                          0.2568704858
                        ]
                      },
                      {
                        "learn": [
                          0.03120877402
                        ],
                        "iteration": 543,
                        "passed_time": 110.1710436,
                        "remaining_time": 92.34925713,
                        "test": [
                          0.8576,
                          0.2570251094
                        ]
                      },
                      {
                        "learn": [
                          0.03114800044
                        ],
                        "iteration": 544,
                        "passed_time": 110.4675475,
                        "remaining_time": 92.2252002,
                        "test": [
                          0.8576426667,
                          0.2571305504
                        ]
                      },
                      {
                        "learn": [
                          0.03105957031
                        ],
                        "iteration": 545,
                        "passed_time": 110.7981868,
                        "remaining_time": 92.12889529,
                        "test": [
                          0.8578133333,
                          0.2571764602
                        ]
                      },
                      {
                        "learn": [
                          0.03097841263
                        ],
                        "iteration": 546,
                        "passed_time": 111.085637,
                        "remaining_time": 91.99596631,
                        "test": [
                          0.8580266667,
                          0.2572252582
                        ]
                      },
                      {
                        "learn": [
                          0.03089007786
                        ],
                        "iteration": 547,
                        "passed_time": 111.3338157,
                        "remaining_time": 91.83008156,
                        "test": [
                          0.8582186667,
                          0.2573162323
                        ]
                      },
                      {
                        "learn": [
                          0.03083618709
                        ],
                        "iteration": 548,
                        "passed_time": 111.6278559,
                        "remaining_time": 91.70157193,
                        "test": [
                          0.8581973333,
                          0.2574079299
                        ]
                      },
                      {
                        "learn": [
                          0.03072850909
                        ],
                        "iteration": 549,
                        "passed_time": 111.9214296,
                        "remaining_time": 91.57207876,
                        "test": [
                          0.8582186667,
                          0.2574530227
                        ]
                      },
                      {
                        "learn": [
                          0.0306744521
                        ],
                        "iteration": 550,
                        "passed_time": 112.2263305,
                        "remaining_time": 91.45122033,
                        "test": [
                          0.8582613333,
                          0.2574451279
                        ]
                      },
                      {
                        "learn": [
                          0.0306142807
                        ],
                        "iteration": 551,
                        "passed_time": 112.5303936,
                        "remaining_time": 91.32901513,
                        "test": [
                          0.8582186667,
                          0.2575468244
                        ]
                      },
                      {
                        "learn": [
                          0.03051786695
                        ],
                        "iteration": 552,
                        "passed_time": 112.834605,
                        "remaining_time": 91.20627203,
                        "test": [
                          0.8585173333,
                          0.2575678215
                        ]
                      },
                      {
                        "learn": [
                          0.03043422154
                        ],
                        "iteration": 553,
                        "passed_time": 113.1957115,
                        "remaining_time": 91.12867752,
                        "test": [
                          0.8581973333,
                          0.2578001517
                        ]
                      },
                      {
                        "learn": [
                          0.03034873417
                        ],
                        "iteration": 554,
                        "passed_time": 113.4767052,
                        "remaining_time": 90.98582669,
                        "test": [
                          0.8580693333,
                          0.2579027049
                        ]
                      },
                      {
                        "learn": [
                          0.03025905064
                        ],
                        "iteration": 555,
                        "passed_time": 113.7822402,
                        "remaining_time": 90.86207669,
                        "test": [
                          0.858176,
                          0.2579066645
                        ]
                      },
                      {
                        "learn": [
                          0.03015654428
                        ],
                        "iteration": 556,
                        "passed_time": 114.1330797,
                        "remaining_time": 90.77370614,
                        "test": [
                          0.8581973333,
                          0.2579825997
                        ]
                      },
                      {
                        "learn": [
                          0.03007471357
                        ],
                        "iteration": 557,
                        "passed_time": 114.4427877,
                        "remaining_time": 90.65181391,
                        "test": [
                          0.858432,
                          0.2580297644
                        ]
                      },
                      {
                        "learn": [
                          0.02988814218
                        ],
                        "iteration": 558,
                        "passed_time": 114.7580539,
                        "remaining_time": 90.53363467,
                        "test": [
                          0.8582826667,
                          0.2579861588
                        ]
                      },
                      {
                        "learn": [
                          0.02977222715
                        ],
                        "iteration": 559,
                        "passed_time": 115.0952022,
                        "remaining_time": 90.43194456,
                        "test": [
                          0.8581333333,
                          0.2581865176
                        ]
                      },
                      {
                        "learn": [
                          0.02972137451
                        ],
                        "iteration": 560,
                        "passed_time": 115.4009295,
                        "remaining_time": 90.3048272,
                        "test": [
                          0.8581546667,
                          0.2581828516
                        ]
                      },
                      {
                        "learn": [
                          0.0296122551
                        ],
                        "iteration": 561,
                        "passed_time": 115.5618865,
                        "remaining_time": 90.06424603,
                        "test": [
                          0.85824,
                          0.2581448156
                        ]
                      },
                      {
                        "learn": [
                          0.02946700777
                        ],
                        "iteration": 562,
                        "passed_time": 115.722337,
                        "remaining_time": 89.82355464,
                        "test": [
                          0.858368,
                          0.2580140335
                        ]
                      },
                      {
                        "learn": [
                          0.02937254225
                        ],
                        "iteration": 563,
                        "passed_time": 115.8783489,
                        "remaining_time": 89.57971656,
                        "test": [
                          0.8583466667,
                          0.2580015145
                        ]
                      },
                      {
                        "learn": [
                          0.02930340631
                        ],
                        "iteration": 564,
                        "passed_time": 116.0355091,
                        "remaining_time": 89.33707334,
                        "test": [
                          0.8583893333,
                          0.2581185953
                        ]
                      },
                      {
                        "learn": [
                          0.02917672566
                        ],
                        "iteration": 565,
                        "passed_time": 116.228521,
                        "remaining_time": 89.1222228,
                        "test": [
                          0.8583253333,
                          0.2581406216
                        ]
                      },
                      {
                        "learn": [
                          0.02912155151
                        ],
                        "iteration": 566,
                        "passed_time": 116.4000842,
                        "remaining_time": 88.89106962,
                        "test": [
                          0.858368,
                          0.2582777464
                        ]
                      },
                      {
                        "learn": [
                          0.02901109423
                        ],
                        "iteration": 567,
                        "passed_time": 116.562849,
                        "remaining_time": 88.65343447,
                        "test": [
                          0.857984,
                          0.258563583
                        ]
                      },
                      {
                        "learn": [
                          0.02893789019
                        ],
                        "iteration": 568,
                        "passed_time": 116.7176768,
                        "remaining_time": 88.41005047,
                        "test": [
                          0.8581546667,
                          0.2585602421
                        ]
                      },
                      {
                        "learn": [
                          0.02887301036
                        ],
                        "iteration": 569,
                        "passed_time": 116.8726674,
                        "remaining_time": 88.16709995,
                        "test": [
                          0.85824,
                          0.2585546332
                        ]
                      },
                      {
                        "learn": [
                          0.02875215803
                        ],
                        "iteration": 570,
                        "passed_time": 117.0335726,
                        "remaining_time": 87.9289013,
                        "test": [
                          0.857856,
                          0.2587473572
                        ]
                      },
                      {
                        "learn": [
                          0.02865630014
                        ],
                        "iteration": 571,
                        "passed_time": 117.2075341,
                        "remaining_time": 87.70074229,
                        "test": [
                          0.8582826667,
                          0.2587015096
                        ]
                      },
                      {
                        "learn": [
                          0.02861979348
                        ],
                        "iteration": 572,
                        "passed_time": 117.3875441,
                        "remaining_time": 87.47727985,
                        "test": [
                          0.8583253333,
                          0.2587984596
                        ]
                      },
                      {
                        "learn": [
                          0.02850502014
                        ],
                        "iteration": 573,
                        "passed_time": 117.5493319,
                        "remaining_time": 87.24044496,
                        "test": [
                          0.8582186667,
                          0.258762868
                        ]
                      },
                      {
                        "learn": [
                          0.02834948676
                        ],
                        "iteration": 574,
                        "passed_time": 117.706285,
                        "remaining_time": 87.00029764,
                        "test": [
                          0.8580053333,
                          0.2589689797
                        ]
                      },
                      {
                        "learn": [
                          0.02824273791
                        ],
                        "iteration": 575,
                        "passed_time": 117.8602537,
                        "remaining_time": 86.75824228,
                        "test": [
                          0.8578986667,
                          0.2590264346
                        ]
                      },
                      {
                        "learn": [
                          0.02809073312
                        ],
                        "iteration": 576,
                        "passed_time": 118.0197824,
                        "remaining_time": 86.52056836,
                        "test": [
                          0.8576853333,
                          0.2592244181
                        ]
                      },
                      {
                        "learn": [
                          0.02804169791
                        ],
                        "iteration": 577,
                        "passed_time": 118.1818556,
                        "remaining_time": 86.28502258,
                        "test": [
                          0.8577066667,
                          0.2593367321
                        ]
                      },
                      {
                        "learn": [
                          0.02797954559
                        ],
                        "iteration": 578,
                        "passed_time": 118.3816935,
                        "remaining_time": 86.07718991,
                        "test": [
                          0.8578346667,
                          0.2593447559
                        ]
                      },
                      {
                        "learn": [
                          0.02784095219
                        ],
                        "iteration": 579,
                        "passed_time": 118.5488498,
                        "remaining_time": 85.84571883,
                        "test": [
                          0.8577706667,
                          0.2594233204
                        ]
                      },
                      {
                        "learn": [
                          0.02778737749
                        ],
                        "iteration": 580,
                        "passed_time": 118.7101334,
                        "remaining_time": 85.61023393,
                        "test": [
                          0.857664,
                          0.2596609661
                        ]
                      },
                      {
                        "learn": [
                          0.02769215175
                        ],
                        "iteration": 581,
                        "passed_time": 118.868818,
                        "remaining_time": 85.37313732,
                        "test": [
                          0.857984,
                          0.2595860241
                        ]
                      },
                      {
                        "learn": [
                          0.02763768877
                        ],
                        "iteration": 582,
                        "passed_time": 119.0298801,
                        "remaining_time": 85.13801027,
                        "test": [
                          0.8577066667,
                          0.2597737749
                        ]
                      },
                      {
                        "learn": [
                          0.02761865343
                        ],
                        "iteration": 583,
                        "passed_time": 119.1913524,
                        "remaining_time": 84.90342912,
                        "test": [
                          0.8577706667,
                          0.2597864737
                        ]
                      },
                      {
                        "learn": [
                          0.02757318769
                        ],
                        "iteration": 584,
                        "passed_time": 119.3890248,
                        "remaining_time": 84.69477828,
                        "test": [
                          0.8577706667,
                          0.2598679204
                        ]
                      },
                      {
                        "learn": [
                          0.02749132974
                        ],
                        "iteration": 585,
                        "passed_time": 119.5644982,
                        "remaining_time": 84.47048165,
                        "test": [
                          0.8574506667,
                          0.2600035759
                        ]
                      },
                      {
                        "learn": [
                          0.02737644741
                        ],
                        "iteration": 586,
                        "passed_time": 119.7221187,
                        "remaining_time": 84.23379049,
                        "test": [
                          0.8573653333,
                          0.2600872903
                        ]
                      },
                      {
                        "learn": [
                          0.0273116466
                        ],
                        "iteration": 587,
                        "passed_time": 119.8837901,
                        "remaining_time": 84.00020666,
                        "test": [
                          0.8572586667,
                          0.2602630114
                        ]
                      },
                      {
                        "learn": [
                          0.02725124359
                        ],
                        "iteration": 588,
                        "passed_time": 120.0388523,
                        "remaining_time": 83.76225519,
                        "test": [
                          0.857216,
                          0.2604004419
                        ]
                      },
                      {
                        "learn": [
                          0.02719303131
                        ],
                        "iteration": 589,
                        "passed_time": 120.199073,
                        "remaining_time": 83.52816935,
                        "test": [
                          0.857408,
                          0.2604251126
                        ]
                      },
                      {
                        "learn": [
                          0.02712803977
                        ],
                        "iteration": 590,
                        "passed_time": 120.3880751,
                        "remaining_time": 83.31425167,
                        "test": [
                          0.8571306667,
                          0.260449884
                        ]
                      },
                      {
                        "learn": [
                          0.02705057962
                        ],
                        "iteration": 591,
                        "passed_time": 120.5582639,
                        "remaining_time": 83.08745212,
                        "test": [
                          0.857408,
                          0.2603556975
                        ]
                      },
                      {
                        "learn": [
                          0.02703058243
                        ],
                        "iteration": 592,
                        "passed_time": 120.7171294,
                        "remaining_time": 82.85307197,
                        "test": [
                          0.8574506667,
                          0.2603781422
                        ]
                      },
                      {
                        "learn": [
                          0.02693849836
                        ],
                        "iteration": 593,
                        "passed_time": 120.8741949,
                        "remaining_time": 82.6177157,
                        "test": [
                          0.8574933333,
                          0.2602909443
                        ]
                      },
                      {
                        "learn": [
                          0.02686399732
                        ],
                        "iteration": 594,
                        "passed_time": 121.0288752,
                        "remaining_time": 82.38099906,
                        "test": [
                          0.857728,
                          0.2602406989
                        ]
                      },
                      {
                        "learn": [
                          0.02673992157
                        ],
                        "iteration": 595,
                        "passed_time": 121.1877586,
                        "remaining_time": 82.14740683,
                        "test": [
                          0.8582613333,
                          0.2600580611
                        ]
                      },
                      {
                        "learn": [
                          0.02664331164
                        ],
                        "iteration": 596,
                        "passed_time": 121.3630458,
                        "remaining_time": 81.92513811,
                        "test": [
                          0.858432,
                          0.2599217603
                        ]
                      },
                      {
                        "learn": [
                          0.02657213484
                        ],
                        "iteration": 597,
                        "passed_time": 121.5523816,
                        "remaining_time": 81.7124706,
                        "test": [
                          0.8584106667,
                          0.2600081019
                        ]
                      },
                      {
                        "learn": [
                          0.026470841
                        ],
                        "iteration": 598,
                        "passed_time": 121.7160682,
                        "remaining_time": 81.4827101,
                        "test": [
                          0.858368,
                          0.2600913353
                        ]
                      },
                      {
                        "learn": [
                          0.02639150075
                        ],
                        "iteration": 599,
                        "passed_time": 121.8708409,
                        "remaining_time": 81.24722725,
                        "test": [
                          0.858176,
                          0.2601729191
                        ]
                      },
                      {
                        "learn": [
                          0.02626283918
                        ],
                        "iteration": 600,
                        "passed_time": 122.0295335,
                        "remaining_time": 81.01461543,
                        "test": [
                          0.8580266667,
                          0.2604058369
                        ]
                      },
                      {
                        "learn": [
                          0.02613170896
                        ],
                        "iteration": 601,
                        "passed_time": 122.1936591,
                        "remaining_time": 80.78584107,
                        "test": [
                          0.858112,
                          0.2604144711
                        ]
                      },
                      {
                        "learn": [
                          0.02611457552
                        ],
                        "iteration": 602,
                        "passed_time": 122.3520601,
                        "remaining_time": 80.55351222,
                        "test": [
                          0.8580906667,
                          0.2604821935
                        ]
                      },
                      {
                        "learn": [
                          0.02608517238
                        ],
                        "iteration": 603,
                        "passed_time": 122.559389,
                        "remaining_time": 80.35350671,
                        "test": [
                          0.8582613333,
                          0.2604053873
                        ]
                      },
                      {
                        "learn": [
                          0.02596547263
                        ],
                        "iteration": 604,
                        "passed_time": 122.7205069,
                        "remaining_time": 80.12330615,
                        "test": [
                          0.8584533333,
                          0.260258754
                        ]
                      },
                      {
                        "learn": [
                          0.02588876724
                        ],
                        "iteration": 605,
                        "passed_time": 122.8845143,
                        "remaining_time": 79.89521226,
                        "test": [
                          0.8586666667,
                          0.26021127
                        ]
                      },
                      {
                        "learn": [
                          0.0258335386
                        ],
                        "iteration": 606,
                        "passed_time": 123.0474715,
                        "remaining_time": 79.66664956,
                        "test": [
                          0.8585386667,
                          0.2601625338
                        ]
                      },
                      {
                        "learn": [
                          0.02577855246
                        ],
                        "iteration": 607,
                        "passed_time": 123.2085968,
                        "remaining_time": 79.4371216,
                        "test": [
                          0.8585386667,
                          0.2602528741
                        ]
                      },
                      {
                        "learn": [
                          0.02570415497
                        ],
                        "iteration": 608,
                        "passed_time": 123.3689759,
                        "remaining_time": 79.20733923,
                        "test": [
                          0.858624,
                          0.2602661804
                        ]
                      },
                      {
                        "learn": [
                          0.02569298063
                        ],
                        "iteration": 609,
                        "passed_time": 123.5791284,
                        "remaining_time": 79.00960666,
                        "test": [
                          0.8587306667,
                          0.2602442776
                        ]
                      },
                      {
                        "learn": [
                          0.02564916338
                        ],
                        "iteration": 610,
                        "passed_time": 123.7413519,
                        "remaining_time": 78.78131896,
                        "test": [
                          0.858624,
                          0.2603376929
                        ]
                      },
                      {
                        "learn": [
                          0.02556501116
                        ],
                        "iteration": 611,
                        "passed_time": 123.8990744,
                        "remaining_time": 78.55039358,
                        "test": [
                          0.858624,
                          0.2604398225
                        ]
                      },
                      {
                        "learn": [
                          0.02551284518
                        ],
                        "iteration": 612,
                        "passed_time": 124.0599278,
                        "remaining_time": 78.32168361,
                        "test": [
                          0.858752,
                          0.2605213348
                        ]
                      },
                      {
                        "learn": [
                          0.02544689723
                        ],
                        "iteration": 613,
                        "passed_time": 124.2211997,
                        "remaining_time": 78.09345776,
                        "test": [
                          0.8589226667,
                          0.2605610514
                        ]
                      },
                      {
                        "learn": [
                          0.0254007176
                        ],
                        "iteration": 614,
                        "passed_time": 124.3796948,
                        "remaining_time": 77.86371139,
                        "test": [
                          0.8590506667,
                          0.2605162669
                        ]
                      },
                      {
                        "learn": [
                          0.02535418647
                        ],
                        "iteration": 615,
                        "passed_time": 124.5838227,
                        "remaining_time": 77.66264272,
                        "test": [
                          0.859008,
                          0.2605383638
                        ]
                      },
                      {
                        "learn": [
                          0.02527230944
                        ],
                        "iteration": 616,
                        "passed_time": 124.7438698,
                        "remaining_time": 77.43420116,
                        "test": [
                          0.859008,
                          0.2605502594
                        ]
                      },
                      {
                        "learn": [
                          0.02522865295
                        ],
                        "iteration": 617,
                        "passed_time": 124.9024414,
                        "remaining_time": 77.20506895,
                        "test": [
                          0.8589653333,
                          0.2605641831
                        ]
                      },
                      {
                        "learn": [
                          0.02512402126
                        ],
                        "iteration": 618,
                        "passed_time": 125.0670943,
                        "remaining_time": 76.97990781,
                        "test": [
                          0.859008,
                          0.2608133594
                        ]
                      },
                      {
                        "learn": [
                          0.02506822859
                        ],
                        "iteration": 619,
                        "passed_time": 125.2266001,
                        "remaining_time": 76.75178717,
                        "test": [
                          0.859328,
                          0.2608322235
                        ]
                      },
                      {
                        "learn": [
                          0.025033335
                        ],
                        "iteration": 620,
                        "passed_time": 125.3901397,
                        "remaining_time": 76.52634932,
                        "test": [
                          0.859456,
                          0.2608713919
                        ]
                      },
                      {
                        "learn": [
                          0.0249449076
                        ],
                        "iteration": 621,
                        "passed_time": 125.6803102,
                        "remaining_time": 76.37806632,
                        "test": [
                          0.85952,
                          0.2608386353
                        ]
                      },
                      {
                        "learn": [
                          0.0248806245
                        ],
                        "iteration": 622,
                        "passed_time": 125.9915857,
                        "remaining_time": 76.24209921,
                        "test": [
                          0.8593066667,
                          0.2609751318
                        ]
                      },
                      {
                        "learn": [
                          0.02482519967
                        ],
                        "iteration": 623,
                        "passed_time": 126.2978434,
                        "remaining_time": 76.10254668,
                        "test": [
                          0.8592426667,
                          0.2609940496
                        ]
                      },
                      {
                        "learn": [
                          0.02479200091
                        ],
                        "iteration": 624,
                        "passed_time": 126.6383613,
                        "remaining_time": 75.9830168,
                        "test": [
                          0.8592426667,
                          0.2610336061
                        ]
                      },
                      {
                        "learn": [
                          0.02472432273
                        ],
                        "iteration": 625,
                        "passed_time": 126.9692275,
                        "remaining_time": 75.8570145,
                        "test": [
                          0.8591573333,
                          0.2611858412
                        ]
                      },
                      {
                        "learn": [
                          0.02465815953
                        ],
                        "iteration": 626,
                        "passed_time": 127.2481073,
                        "remaining_time": 75.69943226,
                        "test": [
                          0.8592853333,
                          0.2610442591
                        ]
                      },
                      {
                        "learn": [
                          0.02464391436
                        ],
                        "iteration": 627,
                        "passed_time": 127.5516172,
                        "remaining_time": 75.55605347,
                        "test": [
                          0.8593066667,
                          0.2610498564
                        ]
                      },
                      {
                        "learn": [
                          0.02460818699
                        ],
                        "iteration": 628,
                        "passed_time": 127.8992704,
                        "remaining_time": 75.4382024,
                        "test": [
                          0.8592426667,
                          0.2611122875
                        ]
                      },
                      {
                        "learn": [
                          0.02456013816
                        ],
                        "iteration": 629,
                        "passed_time": 128.1925269,
                        "remaining_time": 75.28767454,
                        "test": [
                          0.8591146667,
                          0.2611811886
                        ]
                      },
                      {
                        "learn": [
                          0.02450493949
                        ],
                        "iteration": 630,
                        "passed_time": 128.5085187,
                        "remaining_time": 75.14998953,
                        "test": [
                          0.8593706667,
                          0.2611682049
                        ]
                      },
                      {
                        "learn": [
                          0.02441062382
                        ],
                        "iteration": 631,
                        "passed_time": 128.8457196,
                        "remaining_time": 75.02408988,
                        "test": [
                          0.85952,
                          0.2611920673
                        ]
                      },
                      {
                        "learn": [
                          0.02435517447
                        ],
                        "iteration": 632,
                        "passed_time": 129.1670785,
                        "remaining_time": 74.88833778,
                        "test": [
                          0.8594346667,
                          0.2612977213
                        ]
                      },
                      {
                        "learn": [
                          0.02434201377
                        ],
                        "iteration": 633,
                        "passed_time": 129.4729093,
                        "remaining_time": 74.74303597,
                        "test": [
                          0.8594986667,
                          0.2612996375
                        ]
                      },
                      {
                        "learn": [
                          0.02428482328
                        ],
                        "iteration": 634,
                        "passed_time": 129.7889287,
                        "remaining_time": 74.60308499,
                        "test": [
                          0.8595626667,
                          0.2613144486
                        ]
                      },
                      {
                        "learn": [
                          0.02424881526
                        ],
                        "iteration": 635,
                        "passed_time": 130.1576236,
                        "remaining_time": 74.49272799,
                        "test": [
                          0.8596053333,
                          0.2613502157
                        ]
                      },
                      {
                        "learn": [
                          0.02413199016
                        ],
                        "iteration": 636,
                        "passed_time": 130.502685,
                        "remaining_time": 74.36809211,
                        "test": [
                          0.8598826667,
                          0.2612483722
                        ]
                      },
                      {
                        "learn": [
                          0.02408140455
                        ],
                        "iteration": 637,
                        "passed_time": 130.7516474,
                        "remaining_time": 74.18823883,
                        "test": [
                          0.8599893333,
                          0.2612445334
                        ]
                      },
                      {
                        "learn": [
                          0.02404098511
                        ],
                        "iteration": 638,
                        "passed_time": 130.9398848,
                        "remaining_time": 73.97386292,
                        "test": [
                          0.860096,
                          0.2612868184
                        ]
                      },
                      {
                        "learn": [
                          0.02398211343
                        ],
                        "iteration": 639,
                        "passed_time": 131.1202377,
                        "remaining_time": 73.75513371,
                        "test": [
                          0.860352,
                          0.2613296672
                        ]
                      },
                      {
                        "learn": [
                          0.02389673233
                        ],
                        "iteration": 640,
                        "passed_time": 131.2771851,
                        "remaining_time": 73.52341568,
                        "test": [
                          0.8603093333,
                          0.2612487799
                        ]
                      },
                      {
                        "learn": [
                          0.02385924203
                        ],
                        "iteration": 641,
                        "passed_time": 131.4570256,
                        "remaining_time": 73.30469651,
                        "test": [
                          0.8604373333,
                          0.2611715987
                        ]
                      },
                      {
                        "learn": [
                          0.02379718508
                        ],
                        "iteration": 642,
                        "passed_time": 131.6208357,
                        "remaining_time": 73.07719804,
                        "test": [
                          0.8605653333,
                          0.2611513227
                        ]
                      },
                      {
                        "learn": [
                          0.02373432159
                        ],
                        "iteration": 643,
                        "passed_time": 131.77821,
                        "remaining_time": 72.84633968,
                        "test": [
                          0.8606933333,
                          0.2611655357
                        ]
                      },
                      {
                        "learn": [
                          0.02372292382
                        ],
                        "iteration": 644,
                        "passed_time": 131.9679412,
                        "remaining_time": 72.63351801,
                        "test": [
                          0.8607146667,
                          0.2612013111
                        ]
                      },
                      {
                        "learn": [
                          0.02364962442
                        ],
                        "iteration": 645,
                        "passed_time": 132.1472207,
                        "remaining_time": 72.41504044,
                        "test": [
                          0.860736,
                          0.2612644765
                        ]
                      },
                      {
                        "learn": [
                          0.02356201717
                        ],
                        "iteration": 646,
                        "passed_time": 132.3095489,
                        "remaining_time": 72.18743551,
                        "test": [
                          0.8607786667,
                          0.2611519447
                        ]
                      },
                      {
                        "learn": [
                          0.02347689492
                        ],
                        "iteration": 647,
                        "passed_time": 132.4658135,
                        "remaining_time": 71.95673822,
                        "test": [
                          0.8605866667,
                          0.2613907403
                        ]
                      },
                      {
                        "learn": [
                          0.02341856275
                        ],
                        "iteration": 648,
                        "passed_time": 132.6263859,
                        "remaining_time": 71.72860005,
                        "test": [
                          0.860608,
                          0.2615982617
                        ]
                      },
                      {
                        "learn": [
                          0.02335797991
                        ],
                        "iteration": 649,
                        "passed_time": 132.7840555,
                        "remaining_time": 71.49910681,
                        "test": [
                          0.860736,
                          0.2616437103
                        ]
                      },
                      {
                        "learn": [
                          0.02326298305
                        ],
                        "iteration": 650,
                        "passed_time": 132.9487793,
                        "remaining_time": 71.27361594,
                        "test": [
                          0.8608,
                          0.2617547216
                        ]
                      },
                      {
                        "learn": [
                          0.02320727212
                        ],
                        "iteration": 651,
                        "passed_time": 133.1497298,
                        "remaining_time": 71.06764721,
                        "test": [
                          0.8607573333,
                          0.2617992227
                        ]
                      },
                      {
                        "learn": [
                          0.02312746593
                        ],
                        "iteration": 652,
                        "passed_time": 133.303452,
                        "remaining_time": 70.836597,
                        "test": [
                          0.8608,
                          0.26182844
                        ]
                      },
                      {
                        "learn": [
                          0.02309837341
                        ],
                        "iteration": 653,
                        "passed_time": 133.4664132,
                        "remaining_time": 70.61067121,
                        "test": [
                          0.8608213333,
                          0.2619015759
                        ]
                      },
                      {
                        "learn": [
                          0.02307281767
                        ],
                        "iteration": 654,
                        "passed_time": 133.6231779,
                        "remaining_time": 70.38167386,
                        "test": [
                          0.8607573333,
                          0.2619947116
                        ]
                      },
                      {
                        "learn": [
                          0.02303035736
                        ],
                        "iteration": 655,
                        "passed_time": 133.7791484,
                        "remaining_time": 70.15248026,
                        "test": [
                          0.860672,
                          0.2619843294
                        ]
                      },
                      {
                        "learn": [
                          0.02292566027
                        ],
                        "iteration": 656,
                        "passed_time": 133.9509067,
                        "remaining_time": 69.93175191,
                        "test": [
                          0.8607573333,
                          0.26200093
                        ]
                      },
                      {
                        "learn": [
                          0.02286089761
                        ],
                        "iteration": 657,
                        "passed_time": 134.1509958,
                        "remaining_time": 69.72589753,
                        "test": [
                          0.8607146667,
                          0.2621305074
                        ]
                      },
                      {
                        "learn": [
                          0.02273832049
                        ],
                        "iteration": 658,
                        "passed_time": 134.3090899,
                        "remaining_time": 69.49833026,
                        "test": [
                          0.8608426667,
                          0.2623126523
                        ]
                      },
                      {
                        "learn": [
                          0.02267669405
                        ],
                        "iteration": 659,
                        "passed_time": 134.468764,
                        "remaining_time": 69.27178751,
                        "test": [
                          0.8609493333,
                          0.2623637814
                        ]
                      },
                      {
                        "learn": [
                          0.02261851856
                        ],
                        "iteration": 660,
                        "passed_time": 134.6267372,
                        "remaining_time": 69.04457474,
                        "test": [
                          0.8605866667,
                          0.2625581177
                        ]
                      },
                      {
                        "learn": [
                          0.02252541951
                        ],
                        "iteration": 661,
                        "passed_time": 134.7818262,
                        "remaining_time": 68.81609856,
                        "test": [
                          0.8605226667,
                          0.2627013547
                        ]
                      },
                      {
                        "learn": [
                          0.02243844986
                        ],
                        "iteration": 662,
                        "passed_time": 134.941478,
                        "remaining_time": 68.59016302,
                        "test": [
                          0.8603733333,
                          0.2629260321
                        ]
                      },
                      {
                        "learn": [
                          0.02235266277
                        ],
                        "iteration": 663,
                        "passed_time": 135.4193002,
                        "remaining_time": 68.52542901,
                        "test": [
                          0.8603733333,
                          0.2629721738
                        ]
                      },
                      {
                        "learn": [
                          0.02231324877
                        ],
                        "iteration": 664,
                        "passed_time": 135.5978518,
                        "remaining_time": 68.30869224,
                        "test": [
                          0.860288,
                          0.2630829641
                        ]
                      },
                      {
                        "learn": [
                          0.02227456774
                        ],
                        "iteration": 665,
                        "passed_time": 135.75602,
                        "remaining_time": 68.08184786,
                        "test": [
                          0.8604586667,
                          0.2630495115
                        ]
                      },
                      {
                        "learn": [
                          0.02222029822
                        ],
                        "iteration": 666,
                        "passed_time": 135.9120582,
                        "remaining_time": 67.85414601,
                        "test": [
                          0.8605226667,
                          0.2630105234
                        ]
                      },
                      {
                        "learn": [
                          0.02216648374
                        ],
                        "iteration": 667,
                        "passed_time": 136.07774,
                        "remaining_time": 67.63145164,
                        "test": [
                          0.8605013333,
                          0.2630127441
                        ]
                      },
                      {
                        "learn": [
                          0.02208938735
                        ],
                        "iteration": 668,
                        "passed_time": 136.2380911,
                        "remaining_time": 67.40629023,
                        "test": [
                          0.8606293333,
                          0.2630706929
                        ]
                      },
                      {
                        "learn": [
                          0.02204937799
                        ],
                        "iteration": 669,
                        "passed_time": 136.3934549,
                        "remaining_time": 67.17886584,
                        "test": [
                          0.86048,
                          0.2632933939
                        ]
                      },
                      {
                        "learn": [
                          0.021973426
                        ],
                        "iteration": 670,
                        "passed_time": 136.5967582,
                        "remaining_time": 66.9751616,
                        "test": [
                          0.860544,
                          0.2634387067
                        ]
                      },
                      {
                        "learn": [
                          0.02191454342
                        ],
                        "iteration": 671,
                        "passed_time": 136.7563907,
                        "remaining_time": 66.75014308,
                        "test": [
                          0.8605653333,
                          0.2635448656
                        ]
                      },
                      {
                        "learn": [
                          0.02188488552
                        ],
                        "iteration": 672,
                        "passed_time": 136.9116526,
                        "remaining_time": 66.52319523,
                        "test": [
                          0.8605226667,
                          0.263652902
                        ]
                      },
                      {
                        "learn": [
                          0.02187026569
                        ],
                        "iteration": 673,
                        "passed_time": 137.0813941,
                        "remaining_time": 66.30346363,
                        "test": [
                          0.8604586667,
                          0.2636770116
                        ]
                      },
                      {
                        "learn": [
                          0.0217984581
                        ],
                        "iteration": 674,
                        "passed_time": 137.2374487,
                        "remaining_time": 66.07729011,
                        "test": [
                          0.860288,
                          0.2638269776
                        ]
                      },
                      {
                        "learn": [
                          0.02171902112
                        ],
                        "iteration": 675,
                        "passed_time": 137.39379,
                        "remaining_time": 65.85146148,
                        "test": [
                          0.8602453333,
                          0.2638068261
                        ]
                      },
                      {
                        "learn": [
                          0.0216904504
                        ],
                        "iteration": 676,
                        "passed_time": 137.5917924,
                        "remaining_time": 65.64571486,
                        "test": [
                          0.860224,
                          0.2639026669
                        ]
                      },
                      {
                        "learn": [
                          0.0216255079
                        ],
                        "iteration": 677,
                        "passed_time": 137.7496426,
                        "remaining_time": 65.4209217,
                        "test": [
                          0.8602026667,
                          0.2638927436
                        ]
                      },
                      {
                        "learn": [
                          0.02156244005
                        ],
                        "iteration": 678,
                        "passed_time": 137.9111783,
                        "remaining_time": 65.1980681,
                        "test": [
                          0.8604373333,
                          0.2637218032
                        ]
                      },
                      {
                        "learn": [
                          0.0215229266
                        ],
                        "iteration": 679,
                        "passed_time": 138.0825378,
                        "remaining_time": 64.98001778,
                        "test": [
                          0.8602453333,
                          0.2638967778
                        ]
                      },
                      {
                        "learn": [
                          0.02147537776
                        ],
                        "iteration": 680,
                        "passed_time": 138.2467552,
                        "remaining_time": 64.75875906,
                        "test": [
                          0.860352,
                          0.2638631047
                        ]
                      },
                      {
                        "learn": [
                          0.02145503998
                        ],
                        "iteration": 681,
                        "passed_time": 138.4050156,
                        "remaining_time": 64.53488997,
                        "test": [
                          0.8602453333,
                          0.2639226028
                        ]
                      },
                      {
                        "learn": [
                          0.02139433725
                        ],
                        "iteration": 682,
                        "passed_time": 138.5861666,
                        "remaining_time": 64.3218372,
                        "test": [
                          0.8606293333,
                          0.2639695637
                        ]
                      },
                      {
                        "learn": [
                          0.02134837559
                        ],
                        "iteration": 683,
                        "passed_time": 138.7614903,
                        "remaining_time": 64.10618556,
                        "test": [
                          0.8606293333,
                          0.2640050408
                        ]
                      },
                      {
                        "learn": [
                          0.02130708422
                        ],
                        "iteration": 684,
                        "passed_time": 138.9216101,
                        "remaining_time": 63.88366012,
                        "test": [
                          0.86048,
                          0.2641365705
                        ]
                      },
                      {
                        "learn": [
                          0.02121405193
                        ],
                        "iteration": 685,
                        "passed_time": 139.0839127,
                        "remaining_time": 63.66231572,
                        "test": [
                          0.8606293333,
                          0.264120068
                        ]
                      },
                      {
                        "learn": [
                          0.02111535617
                        ],
                        "iteration": 686,
                        "passed_time": 139.2503242,
                        "remaining_time": 63.44301526,
                        "test": [
                          0.8606933333,
                          0.2642783884
                        ]
                      },
                      {
                        "learn": [
                          0.02109023912
                        ],
                        "iteration": 687,
                        "passed_time": 139.4089088,
                        "remaining_time": 63.2203191,
                        "test": [
                          0.8606293333,
                          0.2643726803
                        ]
                      },
                      {
                        "learn": [
                          0.02103497641
                        ],
                        "iteration": 688,
                        "passed_time": 139.5713177,
                        "remaining_time": 62.99953528,
                        "test": [
                          0.860544,
                          0.2643352675
                        ]
                      },
                      {
                        "learn": [
                          0.02094546454
                        ],
                        "iteration": 689,
                        "passed_time": 139.8042397,
                        "remaining_time": 62.81060045,
                        "test": [
                          0.8601813333,
                          0.264639462
                        ]
                      },
                      {
                        "learn": [
                          0.02090270587
                        ],
                        "iteration": 690,
                        "passed_time": 139.9615126,
                        "remaining_time": 62.58770968,
                        "test": [
                          0.860032,
                          0.2647408432
                        ]
                      },
                      {
                        "learn": [
                          0.02083168166
                        ],
                        "iteration": 691,
                        "passed_time": 140.1371964,
                        "remaining_time": 62.37320303,
                        "test": [
                          0.8598613333,
                          0.2648004223
                        ]
                      },
                      {
                        "learn": [
                          0.02079202107
                        ],
                        "iteration": 692,
                        "passed_time": 140.293274,
                        "remaining_time": 62.15012282,
                        "test": [
                          0.8596693333,
                          0.2648996859
                        ]
                      },
                      {
                        "learn": [
                          0.02074228968
                        ],
                        "iteration": 693,
                        "passed_time": 140.4522255,
                        "remaining_time": 61.92850288,
                        "test": [
                          0.8597973333,
                          0.2649574725
                        ]
                      },
                      {
                        "learn": [
                          0.02067625591
                        ],
                        "iteration": 694,
                        "passed_time": 140.6163224,
                        "remaining_time": 61.70932135,
                        "test": [
                          0.859712,
                          0.2650173829
                        ]
                      },
                      {
                        "learn": [
                          0.02062396458
                        ],
                        "iteration": 695,
                        "passed_time": 140.8748343,
                        "remaining_time": 61.53153684,
                        "test": [
                          0.8596693333,
                          0.2650539896
                        ]
                      },
                      {
                        "learn": [
                          0.02057020324
                        ],
                        "iteration": 696,
                        "passed_time": 141.1883877,
                        "remaining_time": 61.37744831,
                        "test": [
                          0.85984,
                          0.2650690624
                        ]
                      },
                      {
                        "learn": [
                          0.02053618022
                        ],
                        "iteration": 697,
                        "passed_time": 141.4929978,
                        "remaining_time": 61.21903344,
                        "test": [
                          0.8597973333,
                          0.2651282279
                        ]
                      },
                      {
                        "learn": [
                          0.02049260957
                        ],
                        "iteration": 698,
                        "passed_time": 141.8667219,
                        "remaining_time": 61.08996179,
                        "test": [
                          0.8598826667,
                          0.2651873792
                        ]
                      },
                      {
                        "learn": [
                          0.02048286983
                        ],
                        "iteration": 699,
                        "passed_time": 142.1693276,
                        "remaining_time": 60.92971185,
                        "test": [
                          0.8598826667,
                          0.265253299
                        ]
                      },
                      {
                        "learn": [
                          0.02043194907
                        ],
                        "iteration": 700,
                        "passed_time": 142.4812553,
                        "remaining_time": 60.77303185,
                        "test": [
                          0.8598186667,
                          0.2653517408
                        ]
                      },
                      {
                        "learn": [
                          0.0203745951
                        ],
                        "iteration": 701,
                        "passed_time": 142.8283533,
                        "remaining_time": 60.63083943,
                        "test": [
                          0.8596693333,
                          0.2655316025
                        ]
                      },
                      {
                        "learn": [
                          0.02036742619
                        ],
                        "iteration": 702,
                        "passed_time": 143.1131853,
                        "remaining_time": 60.46175823,
                        "test": [
                          0.8596693333,
                          0.2655433133
                        ]
                      },
                      {
                        "learn": [
                          0.02031829834
                        ],
                        "iteration": 703,
                        "passed_time": 143.41305,
                        "remaining_time": 60.29866875,
                        "test": [
                          0.8596053333,
                          0.2654862761
                        ]
                      },
                      {
                        "learn": [
                          0.02024789129
                        ],
                        "iteration": 704,
                        "passed_time": 143.7150275,
                        "remaining_time": 60.13607534,
                        "test": [
                          0.859712,
                          0.2657966901
                        ]
                      },
                      {
                        "learn": [
                          0.02017985344
                        ],
                        "iteration": 705,
                        "passed_time": 144.0692155,
                        "remaining_time": 59.99482912,
                        "test": [
                          0.8598186667,
                          0.2658244649
                        ]
                      },
                      {
                        "learn": [
                          0.02013265337
                        ],
                        "iteration": 706,
                        "passed_time": 144.3533745,
                        "remaining_time": 59.82395859,
                        "test": [
                          0.859904,
                          0.2658769685
                        ]
                      },
                      {
                        "learn": [
                          0.02009821483
                        ],
                        "iteration": 707,
                        "passed_time": 144.6652181,
                        "remaining_time": 59.66418598,
                        "test": [
                          0.8599893333,
                          0.2659405376
                        ]
                      },
                      {
                        "learn": [
                          0.0200404208
                        ],
                        "iteration": 708,
                        "passed_time": 144.9736041,
                        "remaining_time": 59.50256531,
                        "test": [
                          0.8600106667,
                          0.2659752198
                        ]
                      },
                      {
                        "learn": [
                          0.01999856949
                        ],
                        "iteration": 709,
                        "passed_time": 145.30553,
                        "remaining_time": 59.35014606,
                        "test": [
                          0.860096,
                          0.2660092003
                        ]
                      },
                      {
                        "learn": [
                          0.01993676322
                        ],
                        "iteration": 710,
                        "passed_time": 145.5989061,
                        "remaining_time": 59.18155254,
                        "test": [
                          0.859968,
                          0.2661726946
                        ]
                      },
                      {
                        "learn": [
                          0.01990127291
                        ],
                        "iteration": 711,
                        "passed_time": 145.9039977,
                        "remaining_time": 59.01734739,
                        "test": [
                          0.859968,
                          0.2661977828
                        ]
                      },
                      {
                        "learn": [
                          0.01984546661
                        ],
                        "iteration": 712,
                        "passed_time": 146.105097,
                        "remaining_time": 58.81088757,
                        "test": [
                          0.8600106667,
                          0.266269442
                        ]
                      },
                      {
                        "learn": [
                          0.01979211262
                        ],
                        "iteration": 713,
                        "passed_time": 146.281632,
                        "remaining_time": 58.59460327,
                        "test": [
                          0.860032,
                          0.2663170419
                        ]
                      },
                      {
                        "learn": [
                          0.01972652299
                        ],
                        "iteration": 714,
                        "passed_time": 146.4438392,
                        "remaining_time": 58.3727191,
                        "test": [
                          0.8596693333,
                          0.2665459561
                        ]
                      },
                      {
                        "learn": [
                          0.01971755164
                        ],
                        "iteration": 715,
                        "passed_time": 146.5991043,
                        "remaining_time": 58.14824808,
                        "test": [
                          0.8596693333,
                          0.2665910015
                        ]
                      },
                      {
                        "learn": [
                          0.01965287617
                        ],
                        "iteration": 716,
                        "passed_time": 146.7557361,
                        "remaining_time": 57.92450952,
                        "test": [
                          0.8595626667,
                          0.2665918466
                        ]
                      },
                      {
                        "learn": [
                          0.01961666107
                        ],
                        "iteration": 717,
                        "passed_time": 146.9104878,
                        "remaining_time": 57.70021946,
                        "test": [
                          0.8594986667,
                          0.2667175129
                        ]
                      },
                      {
                        "learn": [
                          0.01958344051
                        ],
                        "iteration": 718,
                        "passed_time": 147.0685105,
                        "remaining_time": 57.4774012,
                        "test": [
                          0.8594346667,
                          0.2667852125
                        ]
                      },
                      {
                        "learn": [
                          0.0195139667
                        ],
                        "iteration": 719,
                        "passed_time": 147.2666254,
                        "remaining_time": 57.27035432,
                        "test": [
                          0.8590933333,
                          0.2669978453
                        ]
                      },
                      {
                        "learn": [
                          0.01946360588
                        ],
                        "iteration": 720,
                        "passed_time": 147.4309364,
                        "remaining_time": 57.05025141,
                        "test": [
                          0.859072,
                          0.2672195954
                        ]
                      },
                      {
                        "learn": [
                          0.01941344806
                        ],
                        "iteration": 721,
                        "passed_time": 147.59157,
                        "remaining_time": 56.82888705,
                        "test": [
                          0.8590933333,
                          0.2672932832
                        ]
                      },
                      {
                        "learn": [
                          0.01936919894
                        ],
                        "iteration": 722,
                        "passed_time": 147.745897,
                        "remaining_time": 56.6052745,
                        "test": [
                          0.8593493333,
                          0.2673075583
                        ]
                      },
                      {
                        "learn": [
                          0.01935086114
                        ],
                        "iteration": 723,
                        "passed_time": 147.9053388,
                        "remaining_time": 56.38380319,
                        "test": [
                          0.8593706667,
                          0.267269712
                        ]
                      },
                      {
                        "learn": [
                          0.01927368709
                        ],
                        "iteration": 724,
                        "passed_time": 148.0640579,
                        "remaining_time": 56.16222885,
                        "test": [
                          0.8594986667,
                          0.267203049
                        ]
                      },
                      {
                        "learn": [
                          0.01921679633
                        ],
                        "iteration": 725,
                        "passed_time": 148.2430093,
                        "remaining_time": 55.94846357,
                        "test": [
                          0.8596053333,
                          0.2670436973
                        ]
                      },
                      {
                        "learn": [
                          0.01919795445
                        ],
                        "iteration": 726,
                        "passed_time": 148.4239183,
                        "remaining_time": 55.73552915,
                        "test": [
                          0.859456,
                          0.2671267901
                        ]
                      },
                      {
                        "learn": [
                          0.0191390637
                        ],
                        "iteration": 727,
                        "passed_time": 148.5846181,
                        "remaining_time": 55.51513202,
                        "test": [
                          0.8594986667,
                          0.2672730063
                        ]
                      },
                      {
                        "learn": [
                          0.01909957068
                        ],
                        "iteration": 728,
                        "passed_time": 148.7425409,
                        "remaining_time": 55.29386638,
                        "test": [
                          0.859776,
                          0.2672409125
                        ]
                      },
                      {
                        "learn": [
                          0.01905879566
                        ],
                        "iteration": 729,
                        "passed_time": 148.9005159,
                        "remaining_time": 55.07279355,
                        "test": [
                          0.8597333333,
                          0.2673083786
                        ]
                      },
                      {
                        "learn": [
                          0.01905178888
                        ],
                        "iteration": 730,
                        "passed_time": 149.0610533,
                        "remaining_time": 54.85283632,
                        "test": [
                          0.8597546667,
                          0.267319677
                        ]
                      },
                      {
                        "learn": [
                          0.01904154096
                        ],
                        "iteration": 731,
                        "passed_time": 149.2174051,
                        "remaining_time": 54.63150897,
                        "test": [
                          0.8597973333,
                          0.2673354692
                        ]
                      },
                      {
                        "learn": [
                          0.01901125227
                        ],
                        "iteration": 732,
                        "passed_time": 149.4233779,
                        "remaining_time": 54.42843368,
                        "test": [
                          0.859648,
                          0.2674189512
                        ]
                      },
                      {
                        "learn": [
                          0.01898696627
                        ],
                        "iteration": 733,
                        "passed_time": 149.5865601,
                        "remaining_time": 54.20984331,
                        "test": [
                          0.8596266667,
                          0.267466747
                        ]
                      },
                      {
                        "learn": [
                          0.01897473199
                        ],
                        "iteration": 734,
                        "passed_time": 149.7393548,
                        "remaining_time": 53.98765853,
                        "test": [
                          0.859456,
                          0.2675428433
                        ]
                      },
                      {
                        "learn": [
                          0.01893218449
                        ],
                        "iteration": 735,
                        "passed_time": 149.8928301,
                        "remaining_time": 53.76590644,
                        "test": [
                          0.8595413333,
                          0.2676962891
                        ]
                      },
                      {
                        "learn": [
                          0.01889165061
                        ],
                        "iteration": 736,
                        "passed_time": 150.047755,
                        "remaining_time": 53.54485694,
                        "test": [
                          0.85952,
                          0.2676162325
                        ]
                      },
                      {
                        "learn": [
                          0.01888362885
                        ],
                        "iteration": 737,
                        "passed_time": 150.206363,
                        "remaining_time": 53.32529418,
                        "test": [
                          0.859456,
                          0.2676194463
                        ]
                      },
                      {
                        "learn": [
                          0.01883805411
                        ],
                        "iteration": 738,
                        "passed_time": 150.4049371,
                        "remaining_time": 53.1200116,
                        "test": [
                          0.859456,
                          0.2677098437
                        ]
                      },
                      {
                        "learn": [
                          0.01882462093
                        ],
                        "iteration": 739,
                        "passed_time": 150.5694708,
                        "remaining_time": 52.90278705,
                        "test": [
                          0.8594133333,
                          0.2677339326
                        ]
                      },
                      {
                        "learn": [
                          0.01874850682
                        ],
                        "iteration": 740,
                        "passed_time": 150.7244374,
                        "remaining_time": 52.68236071,
                        "test": [
                          0.8594346667,
                          0.2677754671
                        ]
                      },
                      {
                        "learn": [
                          0.01865872519
                        ],
                        "iteration": 741,
                        "passed_time": 150.8862812,
                        "remaining_time": 52.46450208,
                        "test": [
                          0.8593706667,
                          0.2679845673
                        ]
                      },
                      {
                        "learn": [
                          0.01861037118
                        ],
                        "iteration": 742,
                        "passed_time": 151.04159,
                        "remaining_time": 52.24453382,
                        "test": [
                          0.8592426667,
                          0.2680940902
                        ]
                      },
                      {
                        "learn": [
                          0.01856263024
                        ],
                        "iteration": 743,
                        "passed_time": 151.2004412,
                        "remaining_time": 52.02595827,
                        "test": [
                          0.8593706667,
                          0.2680464257
                        ]
                      },
                      {
                        "learn": [
                          0.01855188915
                        ],
                        "iteration": 744,
                        "passed_time": 151.3759462,
                        "remaining_time": 51.81324334,
                        "test": [
                          0.8594346667,
                          0.268067331
                        ]
                      },
                      {
                        "learn": [
                          0.01849240439
                        ],
                        "iteration": 745,
                        "passed_time": 151.5605427,
                        "remaining_time": 51.60372364,
                        "test": [
                          0.8589866667,
                          0.2683082843
                        ]
                      },
                      {
                        "learn": [
                          0.01844259943
                        ],
                        "iteration": 746,
                        "passed_time": 151.7198363,
                        "remaining_time": 51.38570091,
                        "test": [
                          0.8590506667,
                          0.2684436493
                        ]
                      },
                      {
                        "learn": [
                          0.01837832042
                        ],
                        "iteration": 747,
                        "passed_time": 151.8829865,
                        "remaining_time": 51.1691345,
                        "test": [
                          0.8592426667,
                          0.2686676397
                        ]
                      },
                      {
                        "learn": [
                          0.01835863113
                        ],
                        "iteration": 748,
                        "passed_time": 152.039508,
                        "remaining_time": 50.95048934,
                        "test": [
                          0.8592213333,
                          0.2686381953
                        ]
                      },
                      {
                        "learn": [
                          0.01830242157
                        ],
                        "iteration": 749,
                        "passed_time": 152.1963089,
                        "remaining_time": 50.73210298,
                        "test": [
                          0.859456,
                          0.2687386953
                        ]
                      },
                      {
                        "learn": [
                          0.01824051176
                        ],
                        "iteration": 750,
                        "passed_time": 152.363447,
                        "remaining_time": 50.517308,
                        "test": [
                          0.8588586667,
                          0.2689455553
                        ]
                      },
                      {
                        "learn": [
                          0.01819578716
                        ],
                        "iteration": 751,
                        "passed_time": 152.5746737,
                        "remaining_time": 50.31717963,
                        "test": [
                          0.859072,
                          0.2688698709
                        ]
                      },
                      {
                        "learn": [
                          0.01817038809
                        ],
                        "iteration": 752,
                        "passed_time": 152.7355621,
                        "remaining_time": 50.10050976,
                        "test": [
                          0.859136,
                          0.2688602987
                        ]
                      },
                      {
                        "learn": [
                          0.01811499596
                        ],
                        "iteration": 753,
                        "passed_time": 152.8907089,
                        "remaining_time": 49.88211459,
                        "test": [
                          0.859328,
                          0.2689282331
                        ]
                      },
                      {
                        "learn": [
                          0.01809636933
                        ],
                        "iteration": 754,
                        "passed_time": 153.0477184,
                        "remaining_time": 49.66449141,
                        "test": [
                          0.8593493333,
                          0.2689774182
                        ]
                      },
                      {
                        "learn": [
                          0.01805813244
                        ],
                        "iteration": 755,
                        "passed_time": 153.2045575,
                        "remaining_time": 49.44697357,
                        "test": [
                          0.8593066667,
                          0.2689806001
                        ]
                      },
                      {
                        "learn": [
                          0.01801624571
                        ],
                        "iteration": 756,
                        "passed_time": 153.3616938,
                        "remaining_time": 49.22971149,
                        "test": [
                          0.859264,
                          0.2691088411
                        ]
                      },
                      {
                        "learn": [
                          0.01797609329
                        ],
                        "iteration": 757,
                        "passed_time": 153.5836362,
                        "remaining_time": 49.0332981,
                        "test": [
                          0.8591786667,
                          0.2691680702
                        ]
                      },
                      {
                        "learn": [
                          0.01792906216
                        ],
                        "iteration": 758,
                        "passed_time": 153.7431751,
                        "remaining_time": 48.81700289,
                        "test": [
                          0.859264,
                          0.2692173516
                        ]
                      },
                      {
                        "learn": [
                          0.01788812365
                        ],
                        "iteration": 759,
                        "passed_time": 153.9052461,
                        "remaining_time": 48.60165665,
                        "test": [
                          0.8593493333,
                          0.2691926379
                        ]
                      },
                      {
                        "learn": [
                          0.01784265654
                        ],
                        "iteration": 760,
                        "passed_time": 154.0649019,
                        "remaining_time": 48.38569191,
                        "test": [
                          0.8596053333,
                          0.2690975012
                        ]
                      },
                      {
                        "learn": [
                          0.01778681074
                        ],
                        "iteration": 761,
                        "passed_time": 154.226836,
                        "remaining_time": 48.17058658,
                        "test": [
                          0.85952,
                          0.2694054234
                        ]
                      },
                      {
                        "learn": [
                          0.01774340357
                        ],
                        "iteration": 762,
                        "passed_time": 154.3846295,
                        "remaining_time": 47.95433447,
                        "test": [
                          0.859456,
                          0.2694035285
                        ]
                      },
                      {
                        "learn": [
                          0.01768666131
                        ],
                        "iteration": 763,
                        "passed_time": 154.5983869,
                        "remaining_time": 47.75552266,
                        "test": [
                          0.859584,
                          0.2694739954
                        ]
                      },
                      {
                        "learn": [
                          0.01766828401
                        ],
                        "iteration": 764,
                        "passed_time": 154.7548258,
                        "remaining_time": 47.53906415,
                        "test": [
                          0.8593706667,
                          0.2695896681
                        ]
                      },
                      {
                        "learn": [
                          0.01761723791
                        ],
                        "iteration": 765,
                        "passed_time": 154.9115002,
                        "remaining_time": 47.32283425,
                        "test": [
                          0.8594773333,
                          0.2697357322
                        ]
                      },
                      {
                        "learn": [
                          0.01759386335
                        ],
                        "iteration": 766,
                        "passed_time": 155.0709204,
                        "remaining_time": 47.10759381,
                        "test": [
                          0.859392,
                          0.2698318874
                        ]
                      },
                      {
                        "learn": [
                          0.01753498077
                        ],
                        "iteration": 767,
                        "passed_time": 155.230343,
                        "remaining_time": 46.89249946,
                        "test": [
                          0.8596266667,
                          0.2699038763
                        ]
                      },
                      {
                        "learn": [
                          0.01746259417
                        ],
                        "iteration": 768,
                        "passed_time": 155.3869633,
                        "remaining_time": 46.67670809,
                        "test": [
                          0.8597973333,
                          0.2700948773
                        ]
                      },
                      {
                        "learn": [
                          0.01739219393
                        ],
                        "iteration": 769,
                        "passed_time": 155.5666706,
                        "remaining_time": 46.46796655,
                        "test": [
                          0.8595413333,
                          0.2701463278
                        ]
                      },
                      {
                        "learn": [
                          0.01732389723
                        ],
                        "iteration": 770,
                        "passed_time": 155.7555853,
                        "remaining_time": 46.26203507,
                        "test": [
                          0.8598186667,
                          0.2701222124
                        ]
                      },
                      {
                        "learn": [
                          0.01728400912
                        ],
                        "iteration": 771,
                        "passed_time": 155.9217475,
                        "remaining_time": 46.04942801,
                        "test": [
                          0.8597546667,
                          0.2701875515
                        ]
                      },
                      {
                        "learn": [
                          0.01725057329
                        ],
                        "iteration": 772,
                        "passed_time": 156.134011,
                        "remaining_time": 45.8504793,
                        "test": [
                          0.8595413333,
                          0.2703289975
                        ]
                      },
                      {
                        "learn": [
                          0.01723000663
                        ],
                        "iteration": 773,
                        "passed_time": 156.4318124,
                        "remaining_time": 45.67647234,
                        "test": [
                          0.8595413333,
                          0.2704027791
                        ]
                      },
                      {
                        "learn": [
                          0.01720486777
                        ],
                        "iteration": 774,
                        "passed_time": 156.8215363,
                        "remaining_time": 45.52883313,
                        "test": [
                          0.859392,
                          0.2704913983
                        ]
                      },
                      {
                        "learn": [
                          0.01715427126
                        ],
                        "iteration": 775,
                        "passed_time": 157.1339371,
                        "remaining_time": 45.35824988,
                        "test": [
                          0.8595413333,
                          0.2704662008
                        ]
                      },
                      {
                        "learn": [
                          0.01710197994
                        ],
                        "iteration": 776,
                        "passed_time": 157.4370723,
                        "remaining_time": 45.18464238,
                        "test": [
                          0.8594986667,
                          0.2705334295
                        ]
                      },
                      {
                        "learn": [
                          0.01706114633
                        ],
                        "iteration": 777,
                        "passed_time": 157.7902932,
                        "remaining_time": 45.02499368,
                        "test": [
                          0.8596266667,
                          0.2704924415
                        ]
                      },
                      {
                        "learn": [
                          0.017009558
                        ],
                        "iteration": 778,
                        "passed_time": 158.1035679,
                        "remaining_time": 44.85351541,
                        "test": [
                          0.8597546667,
                          0.2704261477
                        ]
                      },
                      {
                        "learn": [
                          0.01692374638
                        ],
                        "iteration": 779,
                        "passed_time": 158.4040925,
                        "remaining_time": 44.67807736,
                        "test": [
                          0.859712,
                          0.2703930166
                        ]
                      },
                      {
                        "learn": [
                          0.01688461304
                        ],
                        "iteration": 780,
                        "passed_time": 158.710554,
                        "remaining_time": 44.50398378,
                        "test": [
                          0.8597546667,
                          0.2705105579
                        ]
                      },
                      {
                        "learn": [
                          0.0168671172
                        ],
                        "iteration": 781,
                        "passed_time": 159.0720426,
                        "remaining_time": 44.34489168,
                        "test": [
                          0.8596906667,
                          0.2705863254
                        ]
                      },
                      {
                        "learn": [
                          0.01680493491
                        ],
                        "iteration": 782,
                        "passed_time": 159.373029,
                        "remaining_time": 44.16851505,
                        "test": [
                          0.859392,
                          0.2708957692
                        ]
                      },
                      {
                        "learn": [
                          0.01676476615
                        ],
                        "iteration": 783,
                        "passed_time": 159.6619873,
                        "remaining_time": 43.9885067,
                        "test": [
                          0.859584,
                          0.2709974505
                        ]
                      },
                      {
                        "learn": [
                          0.01674674715
                        ],
                        "iteration": 784,
                        "passed_time": 159.9830419,
                        "remaining_time": 43.81701146,
                        "test": [
                          0.8594773333,
                          0.2710768929
                        ]
                      },
                      {
                        "learn": [
                          0.01670912606
                        ],
                        "iteration": 785,
                        "passed_time": 160.2938197,
                        "remaining_time": 43.64233768,
                        "test": [
                          0.859456,
                          0.2710942487
                        ]
                      },
                      {
                        "learn": [
                          0.01666354043
                        ],
                        "iteration": 786,
                        "passed_time": 160.6459297,
                        "remaining_time": 43.47850449,
                        "test": [
                          0.859584,
                          0.2710858073
                        ]
                      },
                      {
                        "learn": [
                          0.01662723269
                        ],
                        "iteration": 787,
                        "passed_time": 160.9818356,
                        "remaining_time": 43.30983394,
                        "test": [
                          0.8594773333,
                          0.2712689636
                        ]
                      },
                      {
                        "learn": [
                          0.01656044006
                        ],
                        "iteration": 788,
                        "passed_time": 161.3007333,
                        "remaining_time": 43.13619103,
                        "test": [
                          0.8595413333,
                          0.2713385956
                        ]
                      },
                      {
                        "learn": [
                          0.01650357791
                        ],
                        "iteration": 789,
                        "passed_time": 161.4610239,
                        "remaining_time": 42.920019,
                        "test": [
                          0.859456,
                          0.2716113825
                        ]
                      },
                      {
                        "learn": [
                          0.01648702485
                        ],
                        "iteration": 790,
                        "passed_time": 161.6197279,
                        "remaining_time": 42.70356908,
                        "test": [
                          0.859264,
                          0.2716237532
                        ]
                      },
                      {
                        "learn": [
                          0.01645639147
                        ],
                        "iteration": 791,
                        "passed_time": 161.7827811,
                        "remaining_time": 42.48840715,
                        "test": [
                          0.8592853333,
                          0.2716336665
                        ]
                      },
                      {
                        "learn": [
                          0.01644642557
                        ],
                        "iteration": 792,
                        "passed_time": 161.946799,
                        "remaining_time": 42.2736285,
                        "test": [
                          0.8592426667,
                          0.2716508278
                        ]
                      },
                      {
                        "learn": [
                          0.0164004285
                        ],
                        "iteration": 793,
                        "passed_time": 162.1085892,
                        "remaining_time": 42.05839971,
                        "test": [
                          0.8592,
                          0.2718942336
                        ]
                      },
                      {
                        "learn": [
                          0.01635958263
                        ],
                        "iteration": 794,
                        "passed_time": 162.3143354,
                        "remaining_time": 41.85463995,
                        "test": [
                          0.8593493333,
                          0.2718574839
                        ]
                      },
                      {
                        "learn": [
                          0.01629774639
                        ],
                        "iteration": 795,
                        "passed_time": 162.4677266,
                        "remaining_time": 41.63745756,
                        "test": [
                          0.8590506667,
                          0.2719363075
                        ]
                      },
                      {
                        "learn": [
                          0.0162674645
                        ],
                        "iteration": 796,
                        "passed_time": 162.629418,
                        "remaining_time": 41.42254937,
                        "test": [
                          0.8593706667,
                          0.2719562031
                        ]
                      },
                      {
                        "learn": [
                          0.01622962407
                        ],
                        "iteration": 797,
                        "passed_time": 162.7914704,
                        "remaining_time": 41.20786594,
                        "test": [
                          0.8593493333,
                          0.2719079302
                        ]
                      },
                      {
                        "learn": [
                          0.01619332041
                        ],
                        "iteration": 798,
                        "passed_time": 162.9691865,
                        "remaining_time": 40.99725467,
                        "test": [
                          0.859264,
                          0.2720413899
                        ]
                      },
                      {
                        "learn": [
                          0.01618509565
                        ],
                        "iteration": 799,
                        "passed_time": 163.1295235,
                        "remaining_time": 40.78238086,
                        "test": [
                          0.859264,
                          0.2720818384
                        ]
                      },
                      {
                        "learn": [
                          0.01615319933
                        ],
                        "iteration": 800,
                        "passed_time": 163.3434715,
                        "remaining_time": 40.58096233,
                        "test": [
                          0.8592,
                          0.2722156843
                        ]
                      },
                      {
                        "learn": [
                          0.01613589968
                        ],
                        "iteration": 801,
                        "passed_time": 163.5055967,
                        "remaining_time": 40.3667184,
                        "test": [
                          0.859264,
                          0.2722090402
                        ]
                      },
                      {
                        "learn": [
                          0.01609350341
                        ],
                        "iteration": 802,
                        "passed_time": 163.6681451,
                        "remaining_time": 40.15270807,
                        "test": [
                          0.8593066667,
                          0.2723066805
                        ]
                      },
                      {
                        "learn": [
                          0.01605171067
                        ],
                        "iteration": 803,
                        "passed_time": 163.827034,
                        "remaining_time": 39.93793365,
                        "test": [
                          0.859392,
                          0.2722155133
                        ]
                      },
                      {
                        "learn": [
                          0.01602169446
                        ],
                        "iteration": 804,
                        "passed_time": 163.9988043,
                        "remaining_time": 39.72641844,
                        "test": [
                          0.8593493333,
                          0.272318965
                        ]
                      },
                      {
                        "learn": [
                          0.01598114014
                        ],
                        "iteration": 805,
                        "passed_time": 164.1633071,
                        "remaining_time": 39.51325257,
                        "test": [
                          0.8592853333,
                          0.2724785716
                        ]
                      },
                      {
                        "learn": [
                          0.01592739241
                        ],
                        "iteration": 806,
                        "passed_time": 164.4009411,
                        "remaining_time": 39.31769718,
                        "test": [
                          0.8595413333,
                          0.272354451
                        ]
                      },
                      {
                        "learn": [
                          0.01588999884
                        ],
                        "iteration": 807,
                        "passed_time": 164.5786662,
                        "remaining_time": 39.10780186,
                        "test": [
                          0.8594773333,
                          0.272442041
                        ]
                      },
                      {
                        "learn": [
                          0.01585073335
                        ],
                        "iteration": 808,
                        "passed_time": 164.7426376,
                        "remaining_time": 38.89473892,
                        "test": [
                          0.8592,
                          0.2724894839
                        ]
                      },
                      {
                        "learn": [
                          0.01582738195
                        ],
                        "iteration": 809,
                        "passed_time": 165.0196924,
                        "remaining_time": 38.70832291,
                        "test": [
                          0.859328,
                          0.2725136976
                        ]
                      },
                      {
                        "learn": [
                          0.01581094742
                        ],
                        "iteration": 810,
                        "passed_time": 165.6061192,
                        "remaining_time": 38.59378117,
                        "test": [
                          0.859456,
                          0.2724913523
                        ]
                      },
                      {
                        "learn": [
                          0.0157748958
                        ],
                        "iteration": 811,
                        "passed_time": 165.9346375,
                        "remaining_time": 38.41836435,
                        "test": [
                          0.8594133333,
                          0.2726992856
                        ]
                      },
                      {
                        "learn": [
                          0.01573099954
                        ],
                        "iteration": 812,
                        "passed_time": 166.1071633,
                        "remaining_time": 38.2066907,
                        "test": [
                          0.859328,
                          0.272771014
                        ]
                      },
                      {
                        "learn": [
                          0.01569141252
                        ],
                        "iteration": 813,
                        "passed_time": 166.26053,
                        "remaining_time": 37.99073536,
                        "test": [
                          0.8591146667,
                          0.2730501715
                        ]
                      },
                      {
                        "learn": [
                          0.01565431595
                        ],
                        "iteration": 814,
                        "passed_time": 166.4213657,
                        "remaining_time": 37.77662902,
                        "test": [
                          0.8593066667,
                          0.2729254947
                        ]
                      },
                      {
                        "learn": [
                          0.01562336649
                        ],
                        "iteration": 815,
                        "passed_time": 166.6269572,
                        "remaining_time": 37.57274525,
                        "test": [
                          0.8592213333,
                          0.2730123613
                        ]
                      },
                      {
                        "learn": [
                          0.01561513492
                        ],
                        "iteration": 816,
                        "passed_time": 166.7844065,
                        "remaining_time": 37.35807392,
                        "test": [
                          0.8592,
                          0.2730498151
                        ]
                      },
                      {
                        "learn": [
                          0.01558514595
                        ],
                        "iteration": 817,
                        "passed_time": 166.9483461,
                        "remaining_time": 37.14498653,
                        "test": [
                          0.8592,
                          0.273082688
                        ]
                      },
                      {
                        "learn": [
                          0.01555869784
                        ],
                        "iteration": 818,
                        "passed_time": 167.1193857,
                        "remaining_time": 36.9335883,
                        "test": [
                          0.858944,
                          0.2731998951
                        ]
                      },
                      {
                        "learn": [
                          0.01551253864
                        ],
                        "iteration": 819,
                        "passed_time": 167.2765416,
                        "remaining_time": 36.71924085,
                        "test": [
                          0.8589653333,
                          0.2732537326
                        ]
                      },
                      {
                        "learn": [
                          0.01547742844
                        ],
                        "iteration": 820,
                        "passed_time": 167.4352085,
                        "remaining_time": 36.50536214,
                        "test": [
                          0.8590506667,
                          0.2732012526
                        ]
                      },
                      {
                        "learn": [
                          0.01544772966
                        ],
                        "iteration": 821,
                        "passed_time": 167.6416705,
                        "remaining_time": 36.30196758,
                        "test": [
                          0.8590293333,
                          0.2732372824
                        ]
                      },
                      {
                        "learn": [
                          0.01541616167
                        ],
                        "iteration": 822,
                        "passed_time": 167.8052739,
                        "remaining_time": 36.08934809,
                        "test": [
                          0.8589653333,
                          0.2733271135
                        ]
                      },
                      {
                        "learn": [
                          0.0154029165
                        ],
                        "iteration": 823,
                        "passed_time": 167.9587467,
                        "remaining_time": 35.87468376,
                        "test": [
                          0.8589653333,
                          0.2733528564
                        ]
                      },
                      {
                        "learn": [
                          0.01539515359
                        ],
                        "iteration": 824,
                        "passed_time": 168.1312074,
                        "remaining_time": 35.6641955,
                        "test": [
                          0.8589866667,
                          0.2733699699
                        ]
                      },
                      {
                        "learn": [
                          0.0153801305
                        ],
                        "iteration": 825,
                        "passed_time": 168.2866158,
                        "remaining_time": 35.4502072,
                        "test": [
                          0.8590506667,
                          0.2734110745
                        ]
                      },
                      {
                        "learn": [
                          0.01535181182
                        ],
                        "iteration": 826,
                        "passed_time": 168.4450161,
                        "remaining_time": 35.23698645,
                        "test": [
                          0.85888,
                          0.273596757
                        ]
                      },
                      {
                        "learn": [
                          0.015344147
                        ],
                        "iteration": 827,
                        "passed_time": 168.6300543,
                        "remaining_time": 35.02943157,
                        "test": [
                          0.8589013333,
                          0.2736158864
                        ]
                      },
                      {
                        "learn": [
                          0.01530697686
                        ],
                        "iteration": 828,
                        "passed_time": 168.8198551,
                        "remaining_time": 34.82291342,
                        "test": [
                          0.8589866667,
                          0.2736891688
                        ]
                      },
                      {
                        "learn": [
                          0.01527991431
                        ],
                        "iteration": 829,
                        "passed_time": 168.9845967,
                        "remaining_time": 34.61130293,
                        "test": [
                          0.8589866667,
                          0.2737621559
                        ]
                      },
                      {
                        "learn": [
                          0.0152523286
                        ],
                        "iteration": 830,
                        "passed_time": 169.1593639,
                        "remaining_time": 34.40184416,
                        "test": [
                          0.8590506667,
                          0.2737519303
                        ]
                      },
                      {
                        "learn": [
                          0.01522177832
                        ],
                        "iteration": 831,
                        "passed_time": 169.3183669,
                        "remaining_time": 34.18928562,
                        "test": [
                          0.8592426667,
                          0.2737772234
                        ]
                      },
                      {
                        "learn": [
                          0.01518754959
                        ],
                        "iteration": 832,
                        "passed_time": 169.4757202,
                        "remaining_time": 33.97652493,
                        "test": [
                          0.8591786667,
                          0.2739046896
                        ]
                      },
                      {
                        "learn": [
                          0.01513867106
                        ],
                        "iteration": 833,
                        "passed_time": 169.6661133,
                        "remaining_time": 33.77047339,
                        "test": [
                          0.8590933333,
                          0.2740118392
                        ]
                      },
                      {
                        "learn": [
                          0.01511229379
                        ],
                        "iteration": 834,
                        "passed_time": 169.8579701,
                        "remaining_time": 33.56474859,
                        "test": [
                          0.8590293333,
                          0.2740275951
                        ]
                      },
                      {
                        "learn": [
                          0.01507236072
                        ],
                        "iteration": 835,
                        "passed_time": 170.0268178,
                        "remaining_time": 33.3545432,
                        "test": [
                          0.859328,
                          0.2740961802
                        ]
                      },
                      {
                        "learn": [
                          0.01504534313
                        ],
                        "iteration": 836,
                        "passed_time": 170.1924401,
                        "remaining_time": 33.14380853,
                        "test": [
                          0.8591786667,
                          0.2742764495
                        ]
                      },
                      {
                        "learn": [
                          0.01498591968
                        ],
                        "iteration": 837,
                        "passed_time": 170.359181,
                        "remaining_time": 32.93339776,
                        "test": [
                          0.859136,
                          0.274256335
                        ]
                      },
                      {
                        "learn": [
                          0.01496707099
                        ],
                        "iteration": 838,
                        "passed_time": 170.5177982,
                        "remaining_time": 32.7215322,
                        "test": [
                          0.8591146667,
                          0.2743134425
                        ]
                      },
                      {
                        "learn": [
                          0.01495918955
                        ],
                        "iteration": 839,
                        "passed_time": 170.7018565,
                        "remaining_time": 32.51463932,
                        "test": [
                          0.859072,
                          0.2744040622
                        ]
                      },
                      {
                        "learn": [
                          0.01492356437
                        ],
                        "iteration": 840,
                        "passed_time": 170.8932723,
                        "remaining_time": 32.30919179,
                        "test": [
                          0.8590293333,
                          0.2745231966
                        ]
                      },
                      {
                        "learn": [
                          0.01488244193
                        ],
                        "iteration": 841,
                        "passed_time": 171.0532332,
                        "remaining_time": 32.09787511,
                        "test": [
                          0.8590506667,
                          0.2743849581
                        ]
                      },
                      {
                        "learn": [
                          0.01484527588
                        ],
                        "iteration": 842,
                        "passed_time": 171.2249081,
                        "remaining_time": 31.88886189,
                        "test": [
                          0.8590933333,
                          0.2744649341
                        ]
                      },
                      {
                        "learn": [
                          0.0148162978
                        ],
                        "iteration": 843,
                        "passed_time": 171.445703,
                        "remaining_time": 31.68901619,
                        "test": [
                          0.8591573333,
                          0.2745058632
                        ]
                      },
                      {
                        "learn": [
                          0.01478056771
                        ],
                        "iteration": 844,
                        "passed_time": 171.7808619,
                        "remaining_time": 31.51009893,
                        "test": [
                          0.8590293333,
                          0.2745716865
                        ]
                      },
                      {
                        "learn": [
                          0.0147404589
                        ],
                        "iteration": 845,
                        "passed_time": 172.1211465,
                        "remaining_time": 31.33174534,
                        "test": [
                          0.8591146667,
                          0.2745932415
                        ]
                      },
                      {
                        "learn": [
                          0.01468594142
                        ],
                        "iteration": 846,
                        "passed_time": 172.4089715,
                        "remaining_time": 31.14353323,
                        "test": [
                          0.8595413333,
                          0.2744646017
                        ]
                      },
                      {
                        "learn": [
                          0.01466870989
                        ],
                        "iteration": 847,
                        "passed_time": 172.7013873,
                        "remaining_time": 30.95590904,
                        "test": [
                          0.8594133333,
                          0.2745884243
                        ]
                      },
                      {
                        "learn": [
                          0.0146406092
                        ],
                        "iteration": 848,
                        "passed_time": 173.0568697,
                        "remaining_time": 30.7792548,
                        "test": [
                          0.8594773333,
                          0.2745984931
                        ]
                      },
                      {
                        "learn": [
                          0.01462190356
                        ],
                        "iteration": 849,
                        "passed_time": 173.3549529,
                        "remaining_time": 30.59205051,
                        "test": [
                          0.8594986667,
                          0.2746962225
                        ]
                      },
                      {
                        "learn": [
                          0.01461511884
                        ],
                        "iteration": 850,
                        "passed_time": 173.6578906,
                        "remaining_time": 30.4054356,
                        "test": [
                          0.8595626667,
                          0.2747147815
                        ]
                      },
                      {
                        "learn": [
                          0.01458752768
                        ],
                        "iteration": 851,
                        "passed_time": 173.9610914,
                        "remaining_time": 30.21859335,
                        "test": [
                          0.8596053333,
                          0.2748613013
                        ]
                      },
                      {
                        "learn": [
                          0.01457561357
                        ],
                        "iteration": 852,
                        "passed_time": 174.3152755,
                        "remaining_time": 30.04026436,
                        "test": [
                          0.8595626667,
                          0.27491121
                        ]
                      },
                      {
                        "learn": [
                          0.01453778676
                        ],
                        "iteration": 853,
                        "passed_time": 174.6182686,
                        "remaining_time": 29.85277191,
                        "test": [
                          0.8591573333,
                          0.2751966989
                        ]
                      },
                      {
                        "learn": [
                          0.01450736455
                        ],
                        "iteration": 854,
                        "passed_time": 174.919588,
                        "remaining_time": 29.66472545,
                        "test": [
                          0.8592213333,
                          0.2752903484
                        ]
                      },
                      {
                        "learn": [
                          0.01446166039
                        ],
                        "iteration": 855,
                        "passed_time": 175.2847554,
                        "remaining_time": 29.48715512,
                        "test": [
                          0.8591146667,
                          0.275320899
                        ]
                      },
                      {
                        "learn": [
                          0.01441832951
                        ],
                        "iteration": 856,
                        "passed_time": 175.588207,
                        "remaining_time": 29.29884901,
                        "test": [
                          0.8589013333,
                          0.2756402742
                        ]
                      },
                      {
                        "learn": [
                          0.01434672492
                        ],
                        "iteration": 857,
                        "passed_time": 175.9009588,
                        "remaining_time": 29.1118137,
                        "test": [
                          0.858688,
                          0.2758426097
                        ]
                      },
                      {
                        "learn": [
                          0.01430144719
                        ],
                        "iteration": 858,
                        "passed_time": 176.2159686,
                        "remaining_time": 28.92485631,
                        "test": [
                          0.8587733333,
                          0.275838932
                        ]
                      },
                      {
                        "learn": [
                          0.01427584784
                        ],
                        "iteration": 859,
                        "passed_time": 176.5201292,
                        "remaining_time": 28.73583498,
                        "test": [
                          0.8586666667,
                          0.2758543278
                        ]
                      },
                      {
                        "learn": [
                          0.01422479902
                        ],
                        "iteration": 860,
                        "passed_time": 176.6794392,
                        "remaining_time": 28.5231615,
                        "test": [
                          0.8586666667,
                          0.2759925624
                        ]
                      },
                      {
                        "learn": [
                          0.01421747889
                        ],
                        "iteration": 861,
                        "passed_time": 176.8356017,
                        "remaining_time": 28.31010793,
                        "test": [
                          0.8587306667,
                          0.2760012682
                        ]
                      },
                      {
                        "learn": [
                          0.01418383735
                        ],
                        "iteration": 862,
                        "passed_time": 176.9916585,
                        "remaining_time": 28.09716943,
                        "test": [
                          0.858752,
                          0.2759346683
                        ]
                      },
                      {
                        "learn": [
                          0.01413332394
                        ],
                        "iteration": 863,
                        "passed_time": 177.1471994,
                        "remaining_time": 27.88428139,
                        "test": [
                          0.85856,
                          0.2760623376
                        ]
                      },
                      {
                        "learn": [
                          0.01408885002
                        ],
                        "iteration": 864,
                        "passed_time": 177.3294576,
                        "remaining_time": 27.67569569,
                        "test": [
                          0.858496,
                          0.2762203468
                        ]
                      },
                      {
                        "learn": [
                          0.01407619476
                        ],
                        "iteration": 865,
                        "passed_time": 177.5213641,
                        "remaining_time": 27.46866373,
                        "test": [
                          0.8585386667,
                          0.2762963885
                        ]
                      },
                      {
                        "learn": [
                          0.01404481615
                        ],
                        "iteration": 866,
                        "passed_time": 177.6840197,
                        "remaining_time": 27.25717949,
                        "test": [
                          0.8584746667,
                          0.2763808446
                        ]
                      },
                      {
                        "learn": [
                          0.01401057925
                        ],
                        "iteration": 867,
                        "passed_time": 177.8459485,
                        "remaining_time": 27.04569724,
                        "test": [
                          0.8585173333,
                          0.2765649047
                        ]
                      },
                      {
                        "learn": [
                          0.01399140767
                        ],
                        "iteration": 868,
                        "passed_time": 177.9995955,
                        "remaining_time": 26.83308057,
                        "test": [
                          0.858432,
                          0.2767183953
                        ]
                      },
                      {
                        "learn": [
                          0.01395160403
                        ],
                        "iteration": 869,
                        "passed_time": 178.1619225,
                        "remaining_time": 26.62189647,
                        "test": [
                          0.8584106667,
                          0.2767567244
                        ]
                      },
                      {
                        "learn": [
                          0.01394096647
                        ],
                        "iteration": 870,
                        "passed_time": 178.321098,
                        "remaining_time": 26.4103578,
                        "test": [
                          0.8583893333,
                          0.2767604748
                        ]
                      },
                      {
                        "learn": [
                          0.01390458516
                        ],
                        "iteration": 871,
                        "passed_time": 178.5375358,
                        "remaining_time": 26.2073447,
                        "test": [
                          0.8585173333,
                          0.2767007631
                        ]
                      },
                      {
                        "learn": [
                          0.01387318475
                        ],
                        "iteration": 872,
                        "passed_time": 178.691494,
                        "remaining_time": 25.99521161,
                        "test": [
                          0.8585173333,
                          0.2767213436
                        ]
                      },
                      {
                        "learn": [
                          0.01383747373
                        ],
                        "iteration": 873,
                        "passed_time": 178.8495187,
                        "remaining_time": 25.78379789,
                        "test": [
                          0.858624,
                          0.2765942755
                        ]
                      },
                      {
                        "learn": [
                          0.01381781442
                        ],
                        "iteration": 874,
                        "passed_time": 179.0059986,
                        "remaining_time": 25.57228551,
                        "test": [
                          0.8587946667,
                          0.2765694674
                        ]
                      },
                      {
                        "learn": [
                          0.0138003976
                        ],
                        "iteration": 875,
                        "passed_time": 179.1655626,
                        "remaining_time": 25.36133534,
                        "test": [
                          0.8587733333,
                          0.2766252024
                        ]
                      },
                      {
                        "learn": [
                          0.0137547057
                        ],
                        "iteration": 876,
                        "passed_time": 179.3199552,
                        "remaining_time": 25.14977707,
                        "test": [
                          0.858624,
                          0.2768375738
                        ]
                      },
                      {
                        "learn": [
                          0.01374218396
                        ],
                        "iteration": 877,
                        "passed_time": 179.8081215,
                        "remaining_time": 24.98472759,
                        "test": [
                          0.858624,
                          0.2768823054
                        ]
                      },
                      {
                        "learn": [
                          0.01369992801
                        ],
                        "iteration": 878,
                        "passed_time": 179.9837623,
                        "remaining_time": 24.77592178,
                        "test": [
                          0.8584746667,
                          0.2770043189
                        ]
                      },
                      {
                        "learn": [
                          0.01365968432
                        ],
                        "iteration": 879,
                        "passed_time": 180.1437086,
                        "remaining_time": 24.56505117,
                        "test": [
                          0.8583893333,
                          0.27712872
                        ]
                      },
                      {
                        "learn": [
                          0.01363478388
                        ],
                        "iteration": 880,
                        "passed_time": 180.2983509,
                        "remaining_time": 24.35357974,
                        "test": [
                          0.8582613333,
                          0.2772191442
                        ]
                      },
                      {
                        "learn": [
                          0.01358322007
                        ],
                        "iteration": 881,
                        "passed_time": 180.457278,
                        "remaining_time": 24.14281043,
                        "test": [
                          0.8581973333,
                          0.2774632883
                        ]
                      },
                      {
                        "learn": [
                          0.01353652682
                        ],
                        "iteration": 882,
                        "passed_time": 180.624938,
                        "remaining_time": 23.93331568,
                        "test": [
                          0.8581973333,
                          0.277510767
                        ]
                      },
                      {
                        "learn": [
                          0.01350367546
                        ],
                        "iteration": 883,
                        "passed_time": 180.7866116,
                        "remaining_time": 23.72313004,
                        "test": [
                          0.8582613333,
                          0.2774303623
                        ]
                      },
                      {
                        "learn": [
                          0.01346422332
                        ],
                        "iteration": 884,
                        "passed_time": 180.9946643,
                        "remaining_time": 23.51908067,
                        "test": [
                          0.85824,
                          0.2776365179
                        ]
                      },
                      {
                        "learn": [
                          0.01343661853
                        ],
                        "iteration": 885,
                        "passed_time": 181.1536378,
                        "remaining_time": 23.30870734,
                        "test": [
                          0.8582826667,
                          0.2776042095
                        ]
                      },
                      {
                        "learn": [
                          0.01341392517
                        ],
                        "iteration": 886,
                        "passed_time": 181.3129923,
                        "remaining_time": 23.09849846,
                        "test": [
                          0.8583253333,
                          0.277693662
                        ]
                      },
                      {
                        "learn": [
                          0.01338420595
                        ],
                        "iteration": 887,
                        "passed_time": 181.4771639,
                        "remaining_time": 22.88901166,
                        "test": [
                          0.8584533333,
                          0.2776725951
                        ]
                      },
                      {
                        "learn": [
                          0.01336612565
                        ],
                        "iteration": 888,
                        "passed_time": 181.6448562,
                        "remaining_time": 22.68006641,
                        "test": [
                          0.8583893333,
                          0.2778078573
                        ]
                      },
                      {
                        "learn": [
                          0.0133377879
                        ],
                        "iteration": 889,
                        "passed_time": 181.8044454,
                        "remaining_time": 22.47021235,
                        "test": [
                          0.858432,
                          0.2778711988
                        ]
                      },
                      {
                        "learn": [
                          0.01333176068
                        ],
                        "iteration": 890,
                        "passed_time": 182.0145757,
                        "remaining_time": 22.26665404,
                        "test": [
                          0.8583893333,
                          0.2778952515
                        ]
                      },
                      {
                        "learn": [
                          0.01328945296
                        ],
                        "iteration": 891,
                        "passed_time": 182.171218,
                        "remaining_time": 22.05660487,
                        "test": [
                          0.8585173333,
                          0.2778702531
                        ]
                      },
                      {
                        "learn": [
                          0.01325538908
                        ],
                        "iteration": 892,
                        "passed_time": 182.327233,
                        "remaining_time": 21.84660014,
                        "test": [
                          0.858432,
                          0.2780073399
                        ]
                      },
                      {
                        "learn": [
                          0.01321628026
                        ],
                        "iteration": 893,
                        "passed_time": 182.483321,
                        "remaining_time": 21.63672486,
                        "test": [
                          0.858624,
                          0.2781335289
                        ]
                      },
                      {
                        "learn": [
                          0.01320952824
                        ],
                        "iteration": 894,
                        "passed_time": 182.6489404,
                        "remaining_time": 21.42808798,
                        "test": [
                          0.8586453333,
                          0.2781621546
                        ]
                      },
                      {
                        "learn": [
                          0.01318141665
                        ],
                        "iteration": 895,
                        "passed_time": 182.8052822,
                        "remaining_time": 21.21847025,
                        "test": [
                          0.8585173333,
                          0.2783015624
                        ]
                      },
                      {
                        "learn": [
                          0.01315219062
                        ],
                        "iteration": 896,
                        "passed_time": 182.9911247,
                        "remaining_time": 21.0123588,
                        "test": [
                          0.8587093333,
                          0.2783393318
                        ]
                      },
                      {
                        "learn": [
                          0.01313693183
                        ],
                        "iteration": 897,
                        "passed_time": 183.1728722,
                        "remaining_time": 20.80582735,
                        "test": [
                          0.858816,
                          0.278342595
                        ]
                      },
                      {
                        "learn": [
                          0.01310908045
                        ],
                        "iteration": 898,
                        "passed_time": 183.3312995,
                        "remaining_time": 20.59673109,
                        "test": [
                          0.8585813333,
                          0.278474797
                        ]
                      },
                      {
                        "learn": [
                          0.01307600839
                        ],
                        "iteration": 899,
                        "passed_time": 183.4914411,
                        "remaining_time": 20.3879379,
                        "test": [
                          0.858304,
                          0.2785687109
                        ]
                      },
                      {
                        "learn": [
                          0.01304707936
                        ],
                        "iteration": 900,
                        "passed_time": 183.6636765,
                        "remaining_time": 20.18058155,
                        "test": [
                          0.8585173333,
                          0.2786010418
                        ]
                      },
                      {
                        "learn": [
                          0.01300062997
                        ],
                        "iteration": 901,
                        "passed_time": 183.8242058,
                        "remaining_time": 19.97203123,
                        "test": [
                          0.8584106667,
                          0.2787105109
                        ]
                      },
                      {
                        "learn": [
                          0.01296704429
                        ],
                        "iteration": 902,
                        "passed_time": 183.9856811,
                        "remaining_time": 19.76368889,
                        "test": [
                          0.8584106667,
                          0.2787478262
                        ]
                      },
                      {
                        "learn": [
                          0.01294011252
                        ],
                        "iteration": 903,
                        "passed_time": 184.1957086,
                        "remaining_time": 19.56060622,
                        "test": [
                          0.858368,
                          0.2786903803
                        ]
                      },
                      {
                        "learn": [
                          0.01292913846
                        ],
                        "iteration": 904,
                        "passed_time": 184.3557562,
                        "remaining_time": 19.3522617,
                        "test": [
                          0.8583466667,
                          0.2787108666
                        ]
                      },
                      {
                        "learn": [
                          0.01290593965
                        ],
                        "iteration": 905,
                        "passed_time": 184.525378,
                        "remaining_time": 19.14501714,
                        "test": [
                          0.8583893333,
                          0.2787924246
                        ]
                      },
                      {
                        "learn": [
                          0.01287541934
                        ],
                        "iteration": 906,
                        "passed_time": 184.6919115,
                        "remaining_time": 18.93753888,
                        "test": [
                          0.8584106667,
                          0.27867292
                        ]
                      },
                      {
                        "learn": [
                          0.01282845088
                        ],
                        "iteration": 907,
                        "passed_time": 184.8496407,
                        "remaining_time": 18.72925875,
                        "test": [
                          0.858624,
                          0.2788106312
                        ]
                      },
                      {
                        "learn": [
                          0.01277733258
                        ],
                        "iteration": 908,
                        "passed_time": 185.015621,
                        "remaining_time": 18.52191585,
                        "test": [
                          0.8588373333,
                          0.2786843602
                        ]
                      },
                      {
                        "learn": [
                          0.01275710787
                        ],
                        "iteration": 909,
                        "passed_time": 185.2244865,
                        "remaining_time": 18.31890526,
                        "test": [
                          0.8589013333,
                          0.2787773675
                        ]
                      },
                      {
                        "learn": [
                          0.01273067611
                        ],
                        "iteration": 910,
                        "passed_time": 185.384184,
                        "remaining_time": 18.11107835,
                        "test": [
                          0.8588586667,
                          0.2787831264
                        ]
                      },
                      {
                        "learn": [
                          0.01269477844
                        ],
                        "iteration": 911,
                        "passed_time": 185.554105,
                        "remaining_time": 17.90434347,
                        "test": [
                          0.8589013333,
                          0.2789565929
                        ]
                      },
                      {
                        "learn": [
                          0.01264714514
                        ],
                        "iteration": 912,
                        "passed_time": 185.728777,
                        "remaining_time": 17.69814195,
                        "test": [
                          0.8587946667,
                          0.2790765855
                        ]
                      },
                      {
                        "learn": [
                          0.01264219557
                        ],
                        "iteration": 913,
                        "passed_time": 185.891432,
                        "remaining_time": 17.49087873,
                        "test": [
                          0.8587733333,
                          0.2790869665
                        ]
                      },
                      {
                        "learn": [
                          0.01260306903
                        ],
                        "iteration": 914,
                        "passed_time": 186.0615743,
                        "remaining_time": 17.28440854,
                        "test": [
                          0.8587946667,
                          0.2793340705
                        ]
                      },
                      {
                        "learn": [
                          0.01259190014
                        ],
                        "iteration": 915,
                        "passed_time": 186.2753585,
                        "remaining_time": 17.08201977,
                        "test": [
                          0.8587093333,
                          0.2793573375
                        ]
                      },
                      {
                        "learn": [
                          0.01257767541
                        ],
                        "iteration": 916,
                        "passed_time": 186.4302884,
                        "remaining_time": 16.8742791,
                        "test": [
                          0.8587733333,
                          0.2794009626
                        ]
                      },
                      {
                        "learn": [
                          0.01253555025
                        ],
                        "iteration": 917,
                        "passed_time": 186.6544177,
                        "remaining_time": 16.6728347,
                        "test": [
                          0.858944,
                          0.2794752302
                        ]
                      },
                      {
                        "learn": [
                          0.01252160345
                        ],
                        "iteration": 918,
                        "passed_time": 186.9456143,
                        "remaining_time": 16.47725218,
                        "test": [
                          0.85888,
                          0.2795919004
                        ]
                      },
                      {
                        "learn": [
                          0.01249531337
                        ],
                        "iteration": 919,
                        "passed_time": 187.3273333,
                        "remaining_time": 16.28933333,
                        "test": [
                          0.8587306667,
                          0.2798030234
                        ]
                      },
                      {
                        "learn": [
                          0.01248909542
                        ],
                        "iteration": 920,
                        "passed_time": 187.6175151,
                        "remaining_time": 16.0931419,
                        "test": [
                          0.8587306667,
                          0.2798503819
                        ]
                      },
                      {
                        "learn": [
                          0.01247806004
                        ],
                        "iteration": 921,
                        "passed_time": 187.9197455,
                        "remaining_time": 15.89776589,
                        "test": [
                          0.8588586667,
                          0.2798953327
                        ]
                      },
                      {
                        "learn": [
                          0.01245099068
                        ],
                        "iteration": 922,
                        "passed_time": 188.2235165,
                        "remaining_time": 15.70228686,
                        "test": [
                          0.859072,
                          0.2799346812
                        ]
                      },
                      {
                        "learn": [
                          0.01241850853
                        ],
                        "iteration": 923,
                        "passed_time": 188.565652,
                        "remaining_time": 15.50972896,
                        "test": [
                          0.8591573333,
                          0.2799919728
                        ]
                      },
                      {
                        "learn": [
                          0.01241152491
                        ],
                        "iteration": 924,
                        "passed_time": 188.9101147,
                        "remaining_time": 15.31703633,
                        "test": [
                          0.8592,
                          0.2800716194
                        ]
                      },
                      {
                        "learn": [
                          0.01238911629
                        ],
                        "iteration": 925,
                        "passed_time": 189.2264735,
                        "remaining_time": 15.12177002,
                        "test": [
                          0.8591146667,
                          0.2801694563
                        ]
                      },
                      {
                        "learn": [
                          0.01235703332
                        ],
                        "iteration": 926,
                        "passed_time": 189.6030188,
                        "remaining_time": 14.93098207,
                        "test": [
                          0.8591573333,
                          0.2802316509
                        ]
                      },
                      {
                        "learn": [
                          0.0123429421
                        ],
                        "iteration": 927,
                        "passed_time": 189.8921632,
                        "remaining_time": 14.73301266,
                        "test": [
                          0.8590933333,
                          0.2803301696
                        ]
                      },
                      {
                        "learn": [
                          0.01231744221
                        ],
                        "iteration": 928,
                        "passed_time": 190.2020786,
                        "remaining_time": 14.53643442,
                        "test": [
                          0.859072,
                          0.2803609467
                        ]
                      },
                      {
                        "learn": [
                          0.01230038507
                        ],
                        "iteration": 929,
                        "passed_time": 190.5064731,
                        "remaining_time": 14.3391969,
                        "test": [
                          0.859072,
                          0.2805033334
                        ]
                      },
                      {
                        "learn": [
                          0.01227625711
                        ],
                        "iteration": 930,
                        "passed_time": 190.8468389,
                        "remaining_time": 14.14439515,
                        "test": [
                          0.859072,
                          0.2805348976
                        ]
                      },
                      {
                        "learn": [
                          0.01225074087
                        ],
                        "iteration": 931,
                        "passed_time": 191.1892789,
                        "remaining_time": 13.94943236,
                        "test": [
                          0.8589226667,
                          0.2806318034
                        ]
                      },
                      {
                        "learn": [
                          0.01222127642
                        ],
                        "iteration": 932,
                        "passed_time": 191.5289549,
                        "remaining_time": 13.75395496,
                        "test": [
                          0.8590506667,
                          0.2807148801
                        ]
                      },
                      {
                        "learn": [
                          0.01219451904
                        ],
                        "iteration": 933,
                        "passed_time": 191.879964,
                        "remaining_time": 13.55896962,
                        "test": [
                          0.85888,
                          0.2807914391
                        ]
                      },
                      {
                        "learn": [
                          0.01217186519
                        ],
                        "iteration": 934,
                        "passed_time": 192.1032437,
                        "remaining_time": 13.35477095,
                        "test": [
                          0.8588586667,
                          0.280848135
                        ]
                      },
                      {
                        "learn": [
                          0.01213970729
                        ],
                        "iteration": 935,
                        "passed_time": 192.2633236,
                        "remaining_time": 13.14621016,
                        "test": [
                          0.8587946667,
                          0.2810103611
                        ]
                      },
                      {
                        "learn": [
                          0.01211626325
                        ],
                        "iteration": 936,
                        "passed_time": 192.4196734,
                        "remaining_time": 12.93750205,
                        "test": [
                          0.8587946667,
                          0.2810471115
                        ]
                      },
                      {
                        "learn": [
                          0.01208286558
                        ],
                        "iteration": 937,
                        "passed_time": 192.5808228,
                        "remaining_time": 12.72922283,
                        "test": [
                          0.8588586667,
                          0.2809232509
                        ]
                      },
                      {
                        "learn": [
                          0.01205210005
                        ],
                        "iteration": 938,
                        "passed_time": 192.7392089,
                        "remaining_time": 12.52086447,
                        "test": [
                          0.8588373333,
                          0.2809262334
                        ]
                      },
                      {
                        "learn": [
                          0.0120179912
                        ],
                        "iteration": 939,
                        "passed_time": 192.9613132,
                        "remaining_time": 12.31667957,
                        "test": [
                          0.8589653333,
                          0.2809548872
                        ]
                      },
                      {
                        "learn": [
                          0.01199829374
                        ],
                        "iteration": 940,
                        "passed_time": 193.1203779,
                        "remaining_time": 12.10850404,
                        "test": [
                          0.8590293333,
                          0.2810906888
                        ]
                      },
                      {
                        "learn": [
                          0.01198676518
                        ],
                        "iteration": 941,
                        "passed_time": 193.2769966,
                        "remaining_time": 11.90028217,
                        "test": [
                          0.8589653333,
                          0.2811587662
                        ]
                      },
                      {
                        "learn": [
                          0.01196344376
                        ],
                        "iteration": 942,
                        "passed_time": 193.4368139,
                        "remaining_time": 11.69236309,
                        "test": [
                          0.8588373333,
                          0.2813442431
                        ]
                      },
                      {
                        "learn": [
                          0.01194318499
                        ],
                        "iteration": 943,
                        "passed_time": 193.6013189,
                        "remaining_time": 11.48482401,
                        "test": [
                          0.858688,
                          0.2815383923
                        ]
                      },
                      {
                        "learn": [
                          0.01190925598
                        ],
                        "iteration": 944,
                        "passed_time": 193.7618557,
                        "remaining_time": 11.27714504,
                        "test": [
                          0.8585173333,
                          0.2816249552
                        ]
                      },
                      {
                        "learn": [
                          0.01187794277
                        ],
                        "iteration": 945,
                        "passed_time": 193.9399095,
                        "remaining_time": 11.07056566,
                        "test": [
                          0.8585813333,
                          0.281637847
                        ]
                      },
                      {
                        "learn": [
                          0.01184213638
                        ],
                        "iteration": 946,
                        "passed_time": 194.1413451,
                        "remaining_time": 10.86535511,
                        "test": [
                          0.8585813333,
                          0.281676153
                        ]
                      },
                      {
                        "learn": [
                          0.01182348251
                        ],
                        "iteration": 947,
                        "passed_time": 194.3019226,
                        "remaining_time": 10.65791136,
                        "test": [
                          0.8586453333,
                          0.2817682611
                        ]
                      },
                      {
                        "learn": [
                          0.01178761074
                        ],
                        "iteration": 948,
                        "passed_time": 194.4636102,
                        "remaining_time": 10.45062605,
                        "test": [
                          0.85888,
                          0.2819159402
                        ]
                      },
                      {
                        "learn": [
                          0.01176326752
                        ],
                        "iteration": 949,
                        "passed_time": 194.6305094,
                        "remaining_time": 10.24371102,
                        "test": [
                          0.85888,
                          0.2819495318
                        ]
                      },
                      {
                        "learn": [
                          0.01172446387
                        ],
                        "iteration": 950,
                        "passed_time": 194.792406,
                        "remaining_time": 10.03662239,
                        "test": [
                          0.8589013333,
                          0.2820315971
                        ]
                      },
                      {
                        "learn": [
                          0.01169527326
                        ],
                        "iteration": 951,
                        "passed_time": 194.9505321,
                        "remaining_time": 9.829438591,
                        "test": [
                          0.85888,
                          0.2820984948
                        ]
                      },
                      {
                        "learn": [
                          0.01167185647
                        ],
                        "iteration": 952,
                        "passed_time": 195.1851055,
                        "remaining_time": 9.626127971,
                        "test": [
                          0.8589226667,
                          0.2822567787
                        ]
                      },
                      {
                        "learn": [
                          0.01164842742
                        ],
                        "iteration": 953,
                        "passed_time": 195.364664,
                        "remaining_time": 9.420099105,
                        "test": [
                          0.8589866667,
                          0.2822101093
                        ]
                      },
                      {
                        "learn": [
                          0.01164311818
                        ],
                        "iteration": 954,
                        "passed_time": 195.5274854,
                        "remaining_time": 9.21333701,
                        "test": [
                          0.8589866667,
                          0.2822451432
                        ]
                      },
                      {
                        "learn": [
                          0.01162413733
                        ],
                        "iteration": 955,
                        "passed_time": 195.6826459,
                        "remaining_time": 9.006314246,
                        "test": [
                          0.8589866667,
                          0.2824123604
                        ]
                      },
                      {
                        "learn": [
                          0.01159797396
                        ],
                        "iteration": 956,
                        "passed_time": 195.8427341,
                        "remaining_time": 8.799621281,
                        "test": [
                          0.8587946667,
                          0.2824140843
                        ]
                      },
                      {
                        "learn": [
                          0.01158329555
                        ],
                        "iteration": 957,
                        "passed_time": 196.0125394,
                        "remaining_time": 8.593451621,
                        "test": [
                          0.858816,
                          0.282561092
                        ]
                      },
                      {
                        "learn": [
                          0.0115738133
                        ],
                        "iteration": 958,
                        "passed_time": 196.2200672,
                        "remaining_time": 8.38897055,
                        "test": [
                          0.8587306667,
                          0.2826301557
                        ]
                      },
                      {
                        "learn": [
                          0.01157085146
                        ],
                        "iteration": 959,
                        "passed_time": 196.3772007,
                        "remaining_time": 8.182383361,
                        "test": [
                          0.8587306667,
                          0.2826663054
                        ]
                      },
                      {
                        "learn": [
                          0.01156643459
                        ],
                        "iteration": 960,
                        "passed_time": 196.5374005,
                        "remaining_time": 7.976023536,
                        "test": [
                          0.858688,
                          0.2826991999
                        ]
                      },
                      {
                        "learn": [
                          0.01155301911
                        ],
                        "iteration": 961,
                        "passed_time": 196.6984572,
                        "remaining_time": 7.769793528,
                        "test": [
                          0.858688,
                          0.2827342028
                        ]
                      },
                      {
                        "learn": [
                          0.0115482957
                        ],
                        "iteration": 962,
                        "passed_time": 196.8555477,
                        "remaining_time": 7.563504949,
                        "test": [
                          0.858688,
                          0.2827483855
                        ]
                      },
                      {
                        "learn": [
                          0.0115269443
                        ],
                        "iteration": 963,
                        "passed_time": 197.0178206,
                        "remaining_time": 7.357511972,
                        "test": [
                          0.8588373333,
                          0.2828248304
                        ]
                      },
                      {
                        "learn": [
                          0.01148870741
                        ],
                        "iteration": 964,
                        "passed_time": 197.2330175,
                        "remaining_time": 7.15352913,
                        "test": [
                          0.858752,
                          0.2828849784
                        ]
                      },
                      {
                        "learn": [
                          0.01145283972
                        ],
                        "iteration": 965,
                        "passed_time": 197.3928973,
                        "remaining_time": 6.947576096,
                        "test": [
                          0.85888,
                          0.2829590266
                        ]
                      },
                      {
                        "learn": [
                          0.01141595568
                        ],
                        "iteration": 966,
                        "passed_time": 197.5625193,
                        "remaining_time": 6.742050814,
                        "test": [
                          0.858752,
                          0.2831167808
                        ]
                      },
                      {
                        "learn": [
                          0.0114128467
                        ],
                        "iteration": 967,
                        "passed_time": 197.7184601,
                        "remaining_time": 6.53614744,
                        "test": [
                          0.8587093333,
                          0.2831250998
                        ]
                      },
                      {
                        "learn": [
                          0.0113850069
                        ],
                        "iteration": 968,
                        "passed_time": 197.8766916,
                        "remaining_time": 6.330420475,
                        "test": [
                          0.8588586667,
                          0.2831486861
                        ]
                      },
                      {
                        "learn": [
                          0.01138097014
                        ],
                        "iteration": 969,
                        "passed_time": 198.0333092,
                        "remaining_time": 6.12474152,
                        "test": [
                          0.8589226667,
                          0.2831521918
                        ]
                      },
                      {
                        "learn": [
                          0.01136165074
                        ],
                        "iteration": 970,
                        "passed_time": 198.2265697,
                        "remaining_time": 5.920258003,
                        "test": [
                          0.8591573333,
                          0.283193674
                        ]
                      },
                      {
                        "learn": [
                          0.0113336713
                        ],
                        "iteration": 971,
                        "passed_time": 198.4043232,
                        "remaining_time": 5.715350875,
                        "test": [
                          0.8590933333,
                          0.283250075
                        ]
                      },
                      {
                        "learn": [
                          0.01130139147
                        ],
                        "iteration": 972,
                        "passed_time": 198.5644102,
                        "remaining_time": 5.510009328,
                        "test": [
                          0.8592853333,
                          0.2832538489
                        ]
                      },
                      {
                        "learn": [
                          0.01127038479
                        ],
                        "iteration": 973,
                        "passed_time": 198.7247672,
                        "remaining_time": 5.304767913,
                        "test": [
                          0.85952,
                          0.2832118857
                        ]
                      },
                      {
                        "learn": [
                          0.0112331622
                        ],
                        "iteration": 974,
                        "passed_time": 198.8845754,
                        "remaining_time": 5.099604499,
                        "test": [
                          0.859392,
                          0.283381463
                        ]
                      },
                      {
                        "learn": [
                          0.01121076311
                        ],
                        "iteration": 975,
                        "passed_time": 199.0464695,
                        "remaining_time": 4.894585315,
                        "test": [
                          0.85952,
                          0.2834422718
                        ]
                      },
                      {
                        "learn": [
                          0.01119385992
                        ],
                        "iteration": 976,
                        "passed_time": 199.2201956,
                        "remaining_time": 4.689932957,
                        "test": [
                          0.8595413333,
                          0.2834364081
                        ]
                      },
                      {
                        "learn": [
                          0.01117226124
                        ],
                        "iteration": 977,
                        "passed_time": 199.4417375,
                        "remaining_time": 4.486419454,
                        "test": [
                          0.8596693333,
                          0.2833282075
                        ]
                      },
                      {
                        "learn": [
                          0.01114283153
                        ],
                        "iteration": 978,
                        "passed_time": 199.6046119,
                        "remaining_time": 4.281610673,
                        "test": [
                          0.8597333333,
                          0.2834370826
                        ]
                      },
                      {
                        "learn": [
                          0.01111558165
                        ],
                        "iteration": 979,
                        "passed_time": 199.7693117,
                        "remaining_time": 4.076924729,
                        "test": [
                          0.8596266667,
                          0.2835282257
                        ]
                      },
                      {
                        "learn": [
                          0.01107772691
                        ],
                        "iteration": 980,
                        "passed_time": 199.9292159,
                        "remaining_time": 3.872227424,
                        "test": [
                          0.8597333333,
                          0.283485511
                        ]
                      },
                      {
                        "learn": [
                          0.01106460435
                        ],
                        "iteration": 981,
                        "passed_time": 200.127321,
                        "remaining_time": 3.668321567,
                        "test": [
                          0.8596693333,
                          0.2835423048
                        ]
                      },
                      {
                        "learn": [
                          0.01104321275
                        ],
                        "iteration": 982,
                        "passed_time": 200.3136832,
                        "remaining_time": 3.46422443,
                        "test": [
                          0.8598186667,
                          0.2834671184
                        ]
                      },
                      {
                        "learn": [
                          0.0110325173
                        ],
                        "iteration": 983,
                        "passed_time": 200.5100754,
                        "remaining_time": 3.260326429,
                        "test": [
                          0.85984,
                          0.2834634686
                        ]
                      },
                      {
                        "learn": [
                          0.0110155126
                        ],
                        "iteration": 984,
                        "passed_time": 200.6714209,
                        "remaining_time": 3.055909962,
                        "test": [
                          0.8598186667,
                          0.2835248133
                        ]
                      },
                      {
                        "learn": [
                          0.01098977089
                        ],
                        "iteration": 985,
                        "passed_time": 200.8302119,
                        "remaining_time": 2.85154459,
                        "test": [
                          0.859904,
                          0.2834894515
                        ]
                      },
                      {
                        "learn": [
                          0.01098485538
                        ],
                        "iteration": 986,
                        "passed_time": 200.9885934,
                        "remaining_time": 2.647266175,
                        "test": [
                          0.8599893333,
                          0.2835010617
                        ]
                      },
                      {
                        "learn": [
                          0.01095769473
                        ],
                        "iteration": 987,
                        "passed_time": 201.1582659,
                        "remaining_time": 2.443217804,
                        "test": [
                          0.859904,
                          0.28353555
                        ]
                      },
                      {
                        "learn": [
                          0.01093740395
                        ],
                        "iteration": 988,
                        "passed_time": 201.3442302,
                        "remaining_time": 2.239420154,
                        "test": [
                          0.8599253333,
                          0.2836551169
                        ]
                      },
                      {
                        "learn": [
                          0.01091501917
                        ],
                        "iteration": 989,
                        "passed_time": 201.5331582,
                        "remaining_time": 2.035688466,
                        "test": [
                          0.8599253333,
                          0.2837129947
                        ]
                      },
                      {
                        "learn": [
                          0.0108865663
                        ],
                        "iteration": 990,
                        "passed_time": 201.6962659,
                        "remaining_time": 1.831752163,
                        "test": [
                          0.8600746667,
                          0.2837896774
                        ]
                      },
                      {
                        "learn": [
                          0.01085478101
                        ],
                        "iteration": 991,
                        "passed_time": 201.8563035,
                        "remaining_time": 1.627873415,
                        "test": [
                          0.8601386667,
                          0.2839610007
                        ]
                      },
                      {
                        "learn": [
                          0.01083034924
                        ],
                        "iteration": 992,
                        "passed_time": 202.0256289,
                        "remaining_time": 1.424148442,
                        "test": [
                          0.8599893333,
                          0.2842127202
                        ]
                      },
                      {
                        "learn": [
                          0.01080861092
                        ],
                        "iteration": 993,
                        "passed_time": 202.2513245,
                        "remaining_time": 1.220832944,
                        "test": [
                          0.8599466667,
                          0.2842930879
                        ]
                      },
                      {
                        "learn": [
                          0.01078927994
                        ],
                        "iteration": 994,
                        "passed_time": 202.5991416,
                        "remaining_time": 1.018086139,
                        "test": [
                          0.8600746667,
                          0.2843167706
                        ]
                      },
                      {
                        "learn": [
                          0.01076520375
                        ],
                        "iteration": 995,
                        "passed_time": 202.9000096,
                        "remaining_time": 0.8148594761,
                        "test": [
                          0.8602026667,
                          0.2843598143
                        ]
                      },
                      {
                        "learn": [
                          0.01074777331
                        ],
                        "iteration": 996,
                        "passed_time": 203.2056385,
                        "remaining_time": 0.6114512694,
                        "test": [
                          0.86016,
                          0.2843187506
                        ]
                      },
                      {
                        "learn": [
                          0.01071540696
                        ],
                        "iteration": 997,
                        "passed_time": 203.5409651,
                        "remaining_time": 0.4078977256,
                        "test": [
                          0.8601813333,
                          0.2844144731
                        ]
                      },
                      {
                        "learn": [
                          0.01070349285
                        ],
                        "iteration": 998,
                        "passed_time": 203.8548031,
                        "remaining_time": 0.204058862,
                        "test": [
                          0.8601173333,
                          0.2845476681
                        ]
                      },
                      {
                        "learn": [
                          0.01067597185
                        ],
                        "iteration": 999,
                        "passed_time": 204.1565584,
                        "remaining_time": 0,
                        "test": [
                          0.8598186667,
                          0.2848182323
                        ]
                      }
                    ],
                    "meta": {
                      "test_sets": [
                        "test"
                      ],
                      "test_metrics": [
                        {
                          "best_value": "Max",
                          "name": "AUC"
                        },
                        {
                          "best_value": "Min",
                          "name": "Logloss"
                        }
                      ],
                      "learn_metrics": [
                        {
                          "best_value": "Min",
                          "name": "Logloss"
                        }
                      ],
                      "launch_mode": "Train",
                      "parameters": "",
                      "iteration_count": 1000,
                      "learn_sets": [
                        "learn"
                      ],
                      "name": "experiment"
                    }
                  }
                }
              }
            },
            "layout": "IPY_MODEL_538857bf897648d59f7bb12e91c3ce82"
          }
        }
      }
    }
  },
  "nbformat": 4,
  "nbformat_minor": 5
}